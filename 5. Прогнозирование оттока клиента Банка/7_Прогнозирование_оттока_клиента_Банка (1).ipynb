{
  "cells": [
    {
      "cell_type": "markdown",
      "metadata": {
        "id": "TDyWvI524lGu"
      },
      "source": [
        "# Отток клиентов"
      ]
    },
    {
      "cell_type": "markdown",
      "metadata": {
        "id": "vzzyLu3Z4lGv"
      },
      "source": [
        "Из «Бета-Банка» стали уходить клиенты. Каждый месяц. Немного, но заметно. Банковские маркетологи посчитали: сохранять текущих клиентов дешевле, чем привлекать новых.\n",
        "\n",
        "Нужно спрогнозировать, уйдёт клиент из банка в ближайшее время или нет. Вам предоставлены исторические данные о поведении клиентов и расторжении договоров с банком. \n",
        "\n",
        "Постройте модель с предельно большим значением *F1*-меры. Чтобы сдать проект успешно, нужно довести метрику до 0.59. Проверьте *F1*-меру на тестовой выборке самостоятельно.\n",
        "\n",
        "Дополнительно измеряйте *AUC-ROC*, сравнивайте её значение с *F1*-мерой.\n",
        "\n",
        "Источник данных: [https://www.kaggle.com/barelydedicated/bank-customer-churn-modeling](https://www.kaggle.com/barelydedicated/bank-customer-churn-modeling)"
      ]
    },
    {
      "cell_type": "markdown",
      "metadata": {
        "id": "HZla2Qga4lGw"
      },
      "source": [
        "Признаки:\n",
        "- RowNumber — индекс строки в данных\n",
        "- CustomerId — уникальный идентификатор клиента\n",
        "- Surname — фамилия\n",
        "- CreditScore — кредитный рейтинг\n",
        "- Geography — страна проживания\n",
        "- Gender — пол\n",
        "- Age — возраст\n",
        "- Tenure — сколько лет человек является клиентом банка\n",
        "- Balance — баланс на счёте\n",
        "- NumOfProducts — количество продуктов банка, используемых клиентом\n",
        "- HasCrCard — наличие кредитной карты\n",
        "- IsActiveMember — активность клиента\n",
        "- EstimatedSalary — предполагаемая зарплата\n",
        "\n",
        "Целевой признак\n",
        "\n",
        "- Exited — факт ухода клиента"
      ]
    },
    {
      "cell_type": "markdown",
      "metadata": {
        "id": "1yMX6iwZ4lGx"
      },
      "source": [
        "## Подготовка данных"
      ]
    },
    {
      "cell_type": "markdown",
      "metadata": {
        "id": "b4lUod154lGy"
      },
      "source": [
        "###  Загрузим библиотеки и исследуем данные"
      ]
    },
    {
      "cell_type": "code",
      "execution_count": null,
      "metadata": {
        "scrolled": false,
        "id": "ATWSLjlZ4lGy",
        "outputId": "278e7e7a-309f-479b-f34d-2a1d093cd4b7"
      },
      "outputs": [
        {
          "name": "stdout",
          "output_type": "stream",
          "text": [
            "Collecting BorutaShap[all]\n",
            "  Downloading BorutaShap-1.0.16-py3-none-any.whl (13 kB)\n",
            "\u001b[33mWARNING: borutashap 1.0.16 does not provide the extra 'all'\u001b[0m\n",
            "Requirement already satisfied: matplotlib in /opt/conda/lib/python3.9/site-packages (from BorutaShap[all]) (3.3.4)\n",
            "Collecting shap>=0.34.0\n",
            "  Downloading shap-0.40.0-cp39-cp39-manylinux2010_x86_64.whl (567 kB)\n",
            "\u001b[K     |████████████████████████████████| 567 kB 1.3 MB/s eta 0:00:01\n",
            "\u001b[?25hRequirement already satisfied: numpy in /opt/conda/lib/python3.9/site-packages (from BorutaShap[all]) (1.21.1)\n",
            "Requirement already satisfied: seaborn in /opt/conda/lib/python3.9/site-packages (from BorutaShap[all]) (0.11.1)\n",
            "Requirement already satisfied: pandas in /opt/conda/lib/python3.9/site-packages (from BorutaShap[all]) (1.2.4)\n",
            "Requirement already satisfied: scipy in /opt/conda/lib/python3.9/site-packages (from BorutaShap[all]) (1.8.0)\n",
            "Requirement already satisfied: scikit-learn in /opt/conda/lib/python3.9/site-packages (from BorutaShap[all]) (0.24.1)\n",
            "Requirement already satisfied: tqdm in /opt/conda/lib/python3.9/site-packages (from BorutaShap[all]) (4.61.2)\n",
            "Requirement already satisfied: statsmodels in /opt/conda/lib/python3.9/site-packages (from BorutaShap[all]) (0.13.2)\n",
            "Requirement already satisfied: packaging>20.9 in /opt/conda/lib/python3.9/site-packages (from shap>=0.34.0->BorutaShap[all]) (21.3)\n",
            "Collecting slicer==0.0.7\n",
            "  Downloading slicer-0.0.7-py3-none-any.whl (14 kB)\n",
            "Collecting cloudpickle\n",
            "  Downloading cloudpickle-2.1.0-py3-none-any.whl (25 kB)\n",
            "Requirement already satisfied: numba in /opt/conda/lib/python3.9/site-packages (from shap>=0.34.0->BorutaShap[all]) (0.55.1)\n",
            "Requirement already satisfied: pyparsing!=3.0.5,>=2.0.2 in /opt/conda/lib/python3.9/site-packages (from packaging>20.9->shap>=0.34.0->BorutaShap[all]) (2.4.7)\n",
            "Requirement already satisfied: kiwisolver>=1.0.1 in /opt/conda/lib/python3.9/site-packages (from matplotlib->BorutaShap[all]) (1.4.2)\n",
            "Requirement already satisfied: python-dateutil>=2.1 in /opt/conda/lib/python3.9/site-packages (from matplotlib->BorutaShap[all]) (2.8.1)\n",
            "Requirement already satisfied: cycler>=0.10 in /opt/conda/lib/python3.9/site-packages (from matplotlib->BorutaShap[all]) (0.11.0)\n",
            "Requirement already satisfied: pillow>=6.2.0 in /opt/conda/lib/python3.9/site-packages (from matplotlib->BorutaShap[all]) (8.4.0)\n",
            "Requirement already satisfied: six>=1.5 in /opt/conda/lib/python3.9/site-packages (from python-dateutil>=2.1->matplotlib->BorutaShap[all]) (1.16.0)\n",
            "Requirement already satisfied: setuptools in /opt/conda/lib/python3.9/site-packages (from numba->shap>=0.34.0->BorutaShap[all]) (49.6.0.post20210108)\n",
            "Requirement already satisfied: llvmlite<0.39,>=0.38.0rc1 in /opt/conda/lib/python3.9/site-packages (from numba->shap>=0.34.0->BorutaShap[all]) (0.38.0)\n",
            "Requirement already satisfied: pytz>=2017.3 in /opt/conda/lib/python3.9/site-packages (from pandas->BorutaShap[all]) (2021.1)\n",
            "Requirement already satisfied: joblib>=0.11 in /opt/conda/lib/python3.9/site-packages (from scikit-learn->BorutaShap[all]) (1.1.0)\n",
            "Requirement already satisfied: threadpoolctl>=2.0.0 in /opt/conda/lib/python3.9/site-packages (from scikit-learn->BorutaShap[all]) (3.1.0)\n",
            "Requirement already satisfied: patsy>=0.5.2 in /opt/conda/lib/python3.9/site-packages (from statsmodels->BorutaShap[all]) (0.5.2)\n",
            "Installing collected packages: slicer, cloudpickle, shap, BorutaShap\n",
            "Successfully installed BorutaShap-1.0.16 cloudpickle-2.1.0 shap-0.40.0 slicer-0.0.7\n"
          ]
        }
      ],
      "source": [
        "import pandas as pd\n",
        "import matplotlib.pyplot as plt\n",
        "import seaborn as sns\n",
        "from sklearn.model_selection import train_test_split\n",
        "from sklearn.metrics import f1_score\n",
        "from sklearn.tree import DecisionTreeClassifier\n",
        "from sklearn.ensemble import RandomForestClassifier\n",
        "from sklearn.linear_model import LogisticRegression\n",
        "from sklearn.metrics import roc_auc_score, accuracy_score, roc_curve, precision_score, recall_score\n",
        "from sklearn.utils import shuffle\n",
        "from sklearn.preprocessing import StandardScaler\n",
        "!pip install BorutaShap[all]\n",
        "#from BorutaShap import BorutaShap\n",
        "from xgboost import XGBClassifier"
      ]
    },
    {
      "cell_type": "code",
      "execution_count": null,
      "metadata": {
        "id": "mdflq4xB4lG2"
      },
      "outputs": [],
      "source": [
        "data = pd.read_csv('/datasets/Churn.csv')"
      ]
    },
    {
      "cell_type": "code",
      "execution_count": null,
      "metadata": {
        "scrolled": true,
        "id": "DqL9dUZP4lG2",
        "outputId": "f6f47526-3bb5-4c26-efb7-ce620ca55c7b"
      },
      "outputs": [
        {
          "data": {
            "text/html": [
              "<div>\n",
              "<style scoped>\n",
              "    .dataframe tbody tr th:only-of-type {\n",
              "        vertical-align: middle;\n",
              "    }\n",
              "\n",
              "    .dataframe tbody tr th {\n",
              "        vertical-align: top;\n",
              "    }\n",
              "\n",
              "    .dataframe thead th {\n",
              "        text-align: right;\n",
              "    }\n",
              "</style>\n",
              "<table border=\"1\" class=\"dataframe\">\n",
              "  <thead>\n",
              "    <tr style=\"text-align: right;\">\n",
              "      <th></th>\n",
              "      <th>RowNumber</th>\n",
              "      <th>CustomerId</th>\n",
              "      <th>Surname</th>\n",
              "      <th>CreditScore</th>\n",
              "      <th>Geography</th>\n",
              "      <th>Gender</th>\n",
              "      <th>Age</th>\n",
              "      <th>Tenure</th>\n",
              "      <th>Balance</th>\n",
              "      <th>NumOfProducts</th>\n",
              "      <th>HasCrCard</th>\n",
              "      <th>IsActiveMember</th>\n",
              "      <th>EstimatedSalary</th>\n",
              "      <th>Exited</th>\n",
              "    </tr>\n",
              "  </thead>\n",
              "  <tbody>\n",
              "    <tr>\n",
              "      <th>0</th>\n",
              "      <td>1</td>\n",
              "      <td>15634602</td>\n",
              "      <td>Hargrave</td>\n",
              "      <td>619</td>\n",
              "      <td>France</td>\n",
              "      <td>Female</td>\n",
              "      <td>42</td>\n",
              "      <td>2.0</td>\n",
              "      <td>0.00</td>\n",
              "      <td>1</td>\n",
              "      <td>1</td>\n",
              "      <td>1</td>\n",
              "      <td>101348.88</td>\n",
              "      <td>1</td>\n",
              "    </tr>\n",
              "    <tr>\n",
              "      <th>1</th>\n",
              "      <td>2</td>\n",
              "      <td>15647311</td>\n",
              "      <td>Hill</td>\n",
              "      <td>608</td>\n",
              "      <td>Spain</td>\n",
              "      <td>Female</td>\n",
              "      <td>41</td>\n",
              "      <td>1.0</td>\n",
              "      <td>83807.86</td>\n",
              "      <td>1</td>\n",
              "      <td>0</td>\n",
              "      <td>1</td>\n",
              "      <td>112542.58</td>\n",
              "      <td>0</td>\n",
              "    </tr>\n",
              "    <tr>\n",
              "      <th>2</th>\n",
              "      <td>3</td>\n",
              "      <td>15619304</td>\n",
              "      <td>Onio</td>\n",
              "      <td>502</td>\n",
              "      <td>France</td>\n",
              "      <td>Female</td>\n",
              "      <td>42</td>\n",
              "      <td>8.0</td>\n",
              "      <td>159660.80</td>\n",
              "      <td>3</td>\n",
              "      <td>1</td>\n",
              "      <td>0</td>\n",
              "      <td>113931.57</td>\n",
              "      <td>1</td>\n",
              "    </tr>\n",
              "    <tr>\n",
              "      <th>3</th>\n",
              "      <td>4</td>\n",
              "      <td>15701354</td>\n",
              "      <td>Boni</td>\n",
              "      <td>699</td>\n",
              "      <td>France</td>\n",
              "      <td>Female</td>\n",
              "      <td>39</td>\n",
              "      <td>1.0</td>\n",
              "      <td>0.00</td>\n",
              "      <td>2</td>\n",
              "      <td>0</td>\n",
              "      <td>0</td>\n",
              "      <td>93826.63</td>\n",
              "      <td>0</td>\n",
              "    </tr>\n",
              "    <tr>\n",
              "      <th>4</th>\n",
              "      <td>5</td>\n",
              "      <td>15737888</td>\n",
              "      <td>Mitchell</td>\n",
              "      <td>850</td>\n",
              "      <td>Spain</td>\n",
              "      <td>Female</td>\n",
              "      <td>43</td>\n",
              "      <td>2.0</td>\n",
              "      <td>125510.82</td>\n",
              "      <td>1</td>\n",
              "      <td>1</td>\n",
              "      <td>1</td>\n",
              "      <td>79084.10</td>\n",
              "      <td>0</td>\n",
              "    </tr>\n",
              "    <tr>\n",
              "      <th>5</th>\n",
              "      <td>6</td>\n",
              "      <td>15574012</td>\n",
              "      <td>Chu</td>\n",
              "      <td>645</td>\n",
              "      <td>Spain</td>\n",
              "      <td>Male</td>\n",
              "      <td>44</td>\n",
              "      <td>8.0</td>\n",
              "      <td>113755.78</td>\n",
              "      <td>2</td>\n",
              "      <td>1</td>\n",
              "      <td>0</td>\n",
              "      <td>149756.71</td>\n",
              "      <td>1</td>\n",
              "    </tr>\n",
              "    <tr>\n",
              "      <th>6</th>\n",
              "      <td>7</td>\n",
              "      <td>15592531</td>\n",
              "      <td>Bartlett</td>\n",
              "      <td>822</td>\n",
              "      <td>France</td>\n",
              "      <td>Male</td>\n",
              "      <td>50</td>\n",
              "      <td>7.0</td>\n",
              "      <td>0.00</td>\n",
              "      <td>2</td>\n",
              "      <td>1</td>\n",
              "      <td>1</td>\n",
              "      <td>10062.80</td>\n",
              "      <td>0</td>\n",
              "    </tr>\n",
              "    <tr>\n",
              "      <th>7</th>\n",
              "      <td>8</td>\n",
              "      <td>15656148</td>\n",
              "      <td>Obinna</td>\n",
              "      <td>376</td>\n",
              "      <td>Germany</td>\n",
              "      <td>Female</td>\n",
              "      <td>29</td>\n",
              "      <td>4.0</td>\n",
              "      <td>115046.74</td>\n",
              "      <td>4</td>\n",
              "      <td>1</td>\n",
              "      <td>0</td>\n",
              "      <td>119346.88</td>\n",
              "      <td>1</td>\n",
              "    </tr>\n",
              "    <tr>\n",
              "      <th>8</th>\n",
              "      <td>9</td>\n",
              "      <td>15792365</td>\n",
              "      <td>He</td>\n",
              "      <td>501</td>\n",
              "      <td>France</td>\n",
              "      <td>Male</td>\n",
              "      <td>44</td>\n",
              "      <td>4.0</td>\n",
              "      <td>142051.07</td>\n",
              "      <td>2</td>\n",
              "      <td>0</td>\n",
              "      <td>1</td>\n",
              "      <td>74940.50</td>\n",
              "      <td>0</td>\n",
              "    </tr>\n",
              "    <tr>\n",
              "      <th>9</th>\n",
              "      <td>10</td>\n",
              "      <td>15592389</td>\n",
              "      <td>H?</td>\n",
              "      <td>684</td>\n",
              "      <td>France</td>\n",
              "      <td>Male</td>\n",
              "      <td>27</td>\n",
              "      <td>2.0</td>\n",
              "      <td>134603.88</td>\n",
              "      <td>1</td>\n",
              "      <td>1</td>\n",
              "      <td>1</td>\n",
              "      <td>71725.73</td>\n",
              "      <td>0</td>\n",
              "    </tr>\n",
              "  </tbody>\n",
              "</table>\n",
              "</div>"
            ],
            "text/plain": [
              "   RowNumber  CustomerId   Surname  CreditScore Geography  Gender  Age  \\\n",
              "0          1    15634602  Hargrave          619    France  Female   42   \n",
              "1          2    15647311      Hill          608     Spain  Female   41   \n",
              "2          3    15619304      Onio          502    France  Female   42   \n",
              "3          4    15701354      Boni          699    France  Female   39   \n",
              "4          5    15737888  Mitchell          850     Spain  Female   43   \n",
              "5          6    15574012       Chu          645     Spain    Male   44   \n",
              "6          7    15592531  Bartlett          822    France    Male   50   \n",
              "7          8    15656148    Obinna          376   Germany  Female   29   \n",
              "8          9    15792365        He          501    France    Male   44   \n",
              "9         10    15592389        H?          684    France    Male   27   \n",
              "\n",
              "   Tenure    Balance  NumOfProducts  HasCrCard  IsActiveMember  \\\n",
              "0     2.0       0.00              1          1               1   \n",
              "1     1.0   83807.86              1          0               1   \n",
              "2     8.0  159660.80              3          1               0   \n",
              "3     1.0       0.00              2          0               0   \n",
              "4     2.0  125510.82              1          1               1   \n",
              "5     8.0  113755.78              2          1               0   \n",
              "6     7.0       0.00              2          1               1   \n",
              "7     4.0  115046.74              4          1               0   \n",
              "8     4.0  142051.07              2          0               1   \n",
              "9     2.0  134603.88              1          1               1   \n",
              "\n",
              "   EstimatedSalary  Exited  \n",
              "0        101348.88       1  \n",
              "1        112542.58       0  \n",
              "2        113931.57       1  \n",
              "3         93826.63       0  \n",
              "4         79084.10       0  \n",
              "5        149756.71       1  \n",
              "6         10062.80       0  \n",
              "7        119346.88       1  \n",
              "8         74940.50       0  \n",
              "9         71725.73       0  "
            ]
          },
          "execution_count": 3,
          "metadata": {},
          "output_type": "execute_result"
        }
      ],
      "source": [
        "data.head(10)"
      ]
    },
    {
      "cell_type": "code",
      "execution_count": null,
      "metadata": {
        "scrolled": false,
        "id": "_cZSmlho4lG3",
        "outputId": "ef4df07f-9541-4a91-9067-bd4befcbbdb7"
      },
      "outputs": [
        {
          "name": "stdout",
          "output_type": "stream",
          "text": [
            "<class 'pandas.core.frame.DataFrame'>\n",
            "RangeIndex: 10000 entries, 0 to 9999\n",
            "Data columns (total 14 columns):\n",
            " #   Column           Non-Null Count  Dtype  \n",
            "---  ------           --------------  -----  \n",
            " 0   RowNumber        10000 non-null  int64  \n",
            " 1   CustomerId       10000 non-null  int64  \n",
            " 2   Surname          10000 non-null  object \n",
            " 3   CreditScore      10000 non-null  int64  \n",
            " 4   Geography        10000 non-null  object \n",
            " 5   Gender           10000 non-null  object \n",
            " 6   Age              10000 non-null  int64  \n",
            " 7   Tenure           9091 non-null   float64\n",
            " 8   Balance          10000 non-null  float64\n",
            " 9   NumOfProducts    10000 non-null  int64  \n",
            " 10  HasCrCard        10000 non-null  int64  \n",
            " 11  IsActiveMember   10000 non-null  int64  \n",
            " 12  EstimatedSalary  10000 non-null  float64\n",
            " 13  Exited           10000 non-null  int64  \n",
            "dtypes: float64(3), int64(8), object(3)\n",
            "memory usage: 1.1+ MB\n"
          ]
        }
      ],
      "source": [
        "data.info()"
      ]
    },
    {
      "cell_type": "code",
      "execution_count": null,
      "metadata": {
        "scrolled": false,
        "id": "n7cUGsl74lG4",
        "outputId": "daa3a203-d103-4ae8-aec6-09ce36dd1ef8"
      },
      "outputs": [
        {
          "data": {
            "image/png": "[encoded data removed]",
            "text/plain": [
              "<Figure size 1080x1080 with 2 Axes>"
            ]
          },
          "metadata": {
            "needs_background": "light"
          },
          "output_type": "display_data"
        }
      ],
      "source": [
        "plt.figure(figsize=(15, 15))\n",
        "ax = sns.heatmap(data.corr(), cmap=\"YlGnBu\", annot=True, annot_kws = {'size':20}, fmt='.1f')\n",
        "ax.set_title('Матрица корреляции', color = 'black', size = 20)\n",
        "\n",
        "plt.show()"
      ]
    },
    {
      "cell_type": "code",
      "execution_count": null,
      "metadata": {
        "id": "hUvlQRqt4lG4",
        "outputId": "ce69323b-203a-46d4-e30b-5ae6326ac24c"
      },
      "outputs": [
        {
          "data": {
            "image/png": "[encoded data removed]",
            "text/plain": [
              "<Figure size 1080x1080 with 121 Axes>"
            ]
          },
          "metadata": {
            "needs_background": "light"
          },
          "output_type": "display_data"
        }
      ],
      "source": [
        "pd.plotting.scatter_matrix(data, figsize=(15,15))\n",
        "plt.show()"
      ]
    },
    {
      "cell_type": "markdown",
      "metadata": {
        "id": "Hfdxmahh4lG5"
      },
      "source": [
        "***Вывод: мы имеем набор данных, состоящий из 10 000 строк и 14 столбцов. Имеются пропущенные значения в столбце \"Tenure\". При построении матрицы корреляции, явных коррелирующих признаков не обнаружено.***"
      ]
    },
    {
      "cell_type": "markdown",
      "metadata": {
        "id": "uviOVY144lG6"
      },
      "source": [
        "### Подготовим данные для машинного обучения"
      ]
    },
    {
      "cell_type": "markdown",
      "metadata": {
        "id": "vn-89LdJ4lG6"
      },
      "source": [
        "**В обучении модели нам не пригодятся столбцы Surname,\n",
        "CustomerId, RowNumber поэтому сразу удалим их**"
      ]
    },
    {
      "cell_type": "code",
      "execution_count": null,
      "metadata": {
        "id": "03S4_Jfo4lG7"
      },
      "outputs": [],
      "source": [
        "data = data.drop(['Surname', 'CustomerId', 'RowNumber'], axis=1)"
      ]
    },
    {
      "cell_type": "markdown",
      "metadata": {
        "id": "utGMPVAZ4lG8"
      },
      "source": [
        "**Закодируем данные при помощи  pd.get_dummies() с аргументом drop_first**"
      ]
    },
    {
      "cell_type": "code",
      "execution_count": null,
      "metadata": {
        "scrolled": true,
        "id": "3iDjbOCE4lG8"
      },
      "outputs": [],
      "source": [
        "data_ohe = pd.get_dummies(data, drop_first=True)"
      ]
    },
    {
      "cell_type": "markdown",
      "metadata": {
        "id": "-I71rzb24lG9"
      },
      "source": [
        "**Заполним медианой пропущенные значения в столбце Tenure**"
      ]
    },
    {
      "cell_type": "code",
      "execution_count": null,
      "metadata": {
        "id": "0GeeJPEf4lG-"
      },
      "outputs": [],
      "source": [
        "data_ohe['Tenure'] = data_ohe['Tenure'].fillna(data_ohe['Tenure'].median())"
      ]
    },
    {
      "cell_type": "code",
      "execution_count": null,
      "metadata": {
        "id": "nFyIJNkL4lG-"
      },
      "outputs": [],
      "source": [
        "data_ohe = data_ohe.astype('int64') # приведем данные к числовому формату"
      ]
    },
    {
      "cell_type": "code",
      "execution_count": null,
      "metadata": {
        "id": "WSLF5-M_4lG-",
        "outputId": "aa968653-7f35-4c39-aa83-ff47c86e8bfe"
      },
      "outputs": [
        {
          "name": "stdout",
          "output_type": "stream",
          "text": [
            "<class 'pandas.core.frame.DataFrame'>\n",
            "RangeIndex: 10000 entries, 0 to 9999\n",
            "Data columns (total 12 columns):\n",
            " #   Column             Non-Null Count  Dtype\n",
            "---  ------             --------------  -----\n",
            " 0   CreditScore        10000 non-null  int64\n",
            " 1   Age                10000 non-null  int64\n",
            " 2   Tenure             10000 non-null  int64\n",
            " 3   Balance            10000 non-null  int64\n",
            " 4   NumOfProducts      10000 non-null  int64\n",
            " 5   HasCrCard          10000 non-null  int64\n",
            " 6   IsActiveMember     10000 non-null  int64\n",
            " 7   EstimatedSalary    10000 non-null  int64\n",
            " 8   Exited             10000 non-null  int64\n",
            " 9   Geography_Germany  10000 non-null  int64\n",
            " 10  Geography_Spain    10000 non-null  int64\n",
            " 11  Gender_Male        10000 non-null  int64\n",
            "dtypes: int64(12)\n",
            "memory usage: 937.6 KB\n"
          ]
        }
      ],
      "source": [
        "data_ohe.info()"
      ]
    },
    {
      "cell_type": "code",
      "execution_count": null,
      "metadata": {
        "scrolled": true,
        "id": "NCAxoUjq4lG_",
        "outputId": "74689c37-a442-4169-e7c7-55c877665bd0"
      },
      "outputs": [
        {
          "data": {
            "text/html": [
              "<div>\n",
              "<style scoped>\n",
              "    .dataframe tbody tr th:only-of-type {\n",
              "        vertical-align: middle;\n",
              "    }\n",
              "\n",
              "    .dataframe tbody tr th {\n",
              "        vertical-align: top;\n",
              "    }\n",
              "\n",
              "    .dataframe thead th {\n",
              "        text-align: right;\n",
              "    }\n",
              "</style>\n",
              "<table border=\"1\" class=\"dataframe\">\n",
              "  <thead>\n",
              "    <tr style=\"text-align: right;\">\n",
              "      <th></th>\n",
              "      <th>CreditScore</th>\n",
              "      <th>Age</th>\n",
              "      <th>Tenure</th>\n",
              "      <th>Balance</th>\n",
              "      <th>NumOfProducts</th>\n",
              "      <th>HasCrCard</th>\n",
              "      <th>IsActiveMember</th>\n",
              "      <th>EstimatedSalary</th>\n",
              "      <th>Exited</th>\n",
              "      <th>Geography_Germany</th>\n",
              "      <th>Geography_Spain</th>\n",
              "      <th>Gender_Male</th>\n",
              "    </tr>\n",
              "  </thead>\n",
              "  <tbody>\n",
              "    <tr>\n",
              "      <th>0</th>\n",
              "      <td>619</td>\n",
              "      <td>42</td>\n",
              "      <td>2</td>\n",
              "      <td>0</td>\n",
              "      <td>1</td>\n",
              "      <td>1</td>\n",
              "      <td>1</td>\n",
              "      <td>101348</td>\n",
              "      <td>1</td>\n",
              "      <td>0</td>\n",
              "      <td>0</td>\n",
              "      <td>0</td>\n",
              "    </tr>\n",
              "    <tr>\n",
              "      <th>1</th>\n",
              "      <td>608</td>\n",
              "      <td>41</td>\n",
              "      <td>1</td>\n",
              "      <td>83807</td>\n",
              "      <td>1</td>\n",
              "      <td>0</td>\n",
              "      <td>1</td>\n",
              "      <td>112542</td>\n",
              "      <td>0</td>\n",
              "      <td>0</td>\n",
              "      <td>1</td>\n",
              "      <td>0</td>\n",
              "    </tr>\n",
              "    <tr>\n",
              "      <th>2</th>\n",
              "      <td>502</td>\n",
              "      <td>42</td>\n",
              "      <td>8</td>\n",
              "      <td>159660</td>\n",
              "      <td>3</td>\n",
              "      <td>1</td>\n",
              "      <td>0</td>\n",
              "      <td>113931</td>\n",
              "      <td>1</td>\n",
              "      <td>0</td>\n",
              "      <td>0</td>\n",
              "      <td>0</td>\n",
              "    </tr>\n",
              "    <tr>\n",
              "      <th>3</th>\n",
              "      <td>699</td>\n",
              "      <td>39</td>\n",
              "      <td>1</td>\n",
              "      <td>0</td>\n",
              "      <td>2</td>\n",
              "      <td>0</td>\n",
              "      <td>0</td>\n",
              "      <td>93826</td>\n",
              "      <td>0</td>\n",
              "      <td>0</td>\n",
              "      <td>0</td>\n",
              "      <td>0</td>\n",
              "    </tr>\n",
              "    <tr>\n",
              "      <th>4</th>\n",
              "      <td>850</td>\n",
              "      <td>43</td>\n",
              "      <td>2</td>\n",
              "      <td>125510</td>\n",
              "      <td>1</td>\n",
              "      <td>1</td>\n",
              "      <td>1</td>\n",
              "      <td>79084</td>\n",
              "      <td>0</td>\n",
              "      <td>0</td>\n",
              "      <td>1</td>\n",
              "      <td>0</td>\n",
              "    </tr>\n",
              "  </tbody>\n",
              "</table>\n",
              "</div>"
            ],
            "text/plain": [
              "   CreditScore  Age  Tenure  Balance  NumOfProducts  HasCrCard  \\\n",
              "0          619   42       2        0              1          1   \n",
              "1          608   41       1    83807              1          0   \n",
              "2          502   42       8   159660              3          1   \n",
              "3          699   39       1        0              2          0   \n",
              "4          850   43       2   125510              1          1   \n",
              "\n",
              "   IsActiveMember  EstimatedSalary  Exited  Geography_Germany  \\\n",
              "0               1           101348       1                  0   \n",
              "1               1           112542       0                  0   \n",
              "2               0           113931       1                  0   \n",
              "3               0            93826       0                  0   \n",
              "4               1            79084       0                  0   \n",
              "\n",
              "   Geography_Spain  Gender_Male  \n",
              "0                0            0  \n",
              "1                1            0  \n",
              "2                0            0  \n",
              "3                0            0  \n",
              "4                1            0  "
            ]
          },
          "execution_count": 12,
          "metadata": {},
          "output_type": "execute_result"
        }
      ],
      "source": [
        "data_ohe.head()"
      ]
    },
    {
      "cell_type": "markdown",
      "metadata": {
        "id": "cgwdElhf4lG_"
      },
      "source": [
        "***Вывод: в данном пункте мы удалили ненужные столбцы, провели кодировку данных, а также заполнили пропущенные значения и привели все к числовому формату. Данные имеют разный масштаб, исправим это следующим этапом***"
      ]
    },
    {
      "cell_type": "markdown",
      "metadata": {
        "id": "o1T-3Iqs4lHA"
      },
      "source": [
        "<div class=\"alert alert-block alert-success\">\n",
        "<b>Успех:</b> Хорошо, что для заполнения пропусков использовалась медиана!\n",
        "</div>"
      ]
    },
    {
      "cell_type": "markdown",
      "metadata": {
        "id": "R89cazwG4lHA"
      },
      "source": [
        "### Разделим исходные данные на обучающую, тестовую и валидационную выборки"
      ]
    },
    {
      "cell_type": "code",
      "execution_count": null,
      "metadata": {
        "id": "-kv_V7lO4lHA"
      },
      "outputs": [],
      "source": [
        "target = data_ohe['Exited']\n",
        "features = data_ohe.drop('Exited', axis=1)"
      ]
    },
    {
      "cell_type": "code",
      "execution_count": null,
      "metadata": {
        "id": "PD0JwUa24lHB"
      },
      "outputs": [],
      "source": [
        "features_all, features_valid, target_all, target_valid = train_test_split(features, target, test_size=0.25, random_state=12345)"
      ]
    },
    {
      "cell_type": "code",
      "execution_count": null,
      "metadata": {
        "id": "NOgpqCcp4lHB"
      },
      "outputs": [],
      "source": [
        "features_train, features_test, target_train, target_test = train_test_split(features_all, target_all, test_size=0.25, random_state=12345)"
      ]
    },
    {
      "cell_type": "markdown",
      "metadata": {
        "id": "-hxRfjvU4lHB"
      },
      "source": [
        "**Проверим наши выборки**"
      ]
    },
    {
      "cell_type": "code",
      "execution_count": null,
      "metadata": {
        "scrolled": false,
        "id": "N6EOBEU44lHB",
        "outputId": "b2917a16-4e14-4b4d-ae28-3953ee4163c9"
      },
      "outputs": [
        {
          "data": {
            "text/plain": [
              "(2500, 11)"
            ]
          },
          "execution_count": 16,
          "metadata": {},
          "output_type": "execute_result"
        }
      ],
      "source": [
        "features_valid.shape"
      ]
    },
    {
      "cell_type": "code",
      "execution_count": null,
      "metadata": {
        "id": "EzCvBgQ14lHC",
        "outputId": "2890c64e-8297-4d9f-8eb3-a0c7080c7da6"
      },
      "outputs": [
        {
          "data": {
            "text/html": [
              "<div>\n",
              "<style scoped>\n",
              "    .dataframe tbody tr th:only-of-type {\n",
              "        vertical-align: middle;\n",
              "    }\n",
              "\n",
              "    .dataframe tbody tr th {\n",
              "        vertical-align: top;\n",
              "    }\n",
              "\n",
              "    .dataframe thead th {\n",
              "        text-align: right;\n",
              "    }\n",
              "</style>\n",
              "<table border=\"1\" class=\"dataframe\">\n",
              "  <thead>\n",
              "    <tr style=\"text-align: right;\">\n",
              "      <th></th>\n",
              "      <th>CreditScore</th>\n",
              "      <th>Age</th>\n",
              "      <th>Tenure</th>\n",
              "      <th>Balance</th>\n",
              "      <th>NumOfProducts</th>\n",
              "      <th>HasCrCard</th>\n",
              "      <th>IsActiveMember</th>\n",
              "      <th>EstimatedSalary</th>\n",
              "      <th>Geography_Germany</th>\n",
              "      <th>Geography_Spain</th>\n",
              "      <th>Gender_Male</th>\n",
              "    </tr>\n",
              "  </thead>\n",
              "  <tbody>\n",
              "    <tr>\n",
              "      <th>7867</th>\n",
              "      <td>640</td>\n",
              "      <td>46</td>\n",
              "      <td>3</td>\n",
              "      <td>0</td>\n",
              "      <td>1</td>\n",
              "      <td>1</td>\n",
              "      <td>1</td>\n",
              "      <td>156260</td>\n",
              "      <td>0</td>\n",
              "      <td>1</td>\n",
              "      <td>0</td>\n",
              "    </tr>\n",
              "    <tr>\n",
              "      <th>1402</th>\n",
              "      <td>757</td>\n",
              "      <td>29</td>\n",
              "      <td>8</td>\n",
              "      <td>130306</td>\n",
              "      <td>1</td>\n",
              "      <td>1</td>\n",
              "      <td>0</td>\n",
              "      <td>77469</td>\n",
              "      <td>0</td>\n",
              "      <td>0</td>\n",
              "      <td>1</td>\n",
              "    </tr>\n",
              "    <tr>\n",
              "      <th>8606</th>\n",
              "      <td>807</td>\n",
              "      <td>42</td>\n",
              "      <td>5</td>\n",
              "      <td>0</td>\n",
              "      <td>2</td>\n",
              "      <td>1</td>\n",
              "      <td>1</td>\n",
              "      <td>74900</td>\n",
              "      <td>0</td>\n",
              "      <td>1</td>\n",
              "      <td>1</td>\n",
              "    </tr>\n",
              "    <tr>\n",
              "      <th>8885</th>\n",
              "      <td>668</td>\n",
              "      <td>45</td>\n",
              "      <td>4</td>\n",
              "      <td>102486</td>\n",
              "      <td>2</td>\n",
              "      <td>1</td>\n",
              "      <td>1</td>\n",
              "      <td>158379</td>\n",
              "      <td>0</td>\n",
              "      <td>1</td>\n",
              "      <td>1</td>\n",
              "    </tr>\n",
              "    <tr>\n",
              "      <th>6494</th>\n",
              "      <td>699</td>\n",
              "      <td>28</td>\n",
              "      <td>7</td>\n",
              "      <td>0</td>\n",
              "      <td>2</td>\n",
              "      <td>1</td>\n",
              "      <td>1</td>\n",
              "      <td>22684</td>\n",
              "      <td>0</td>\n",
              "      <td>0</td>\n",
              "      <td>1</td>\n",
              "    </tr>\n",
              "    <tr>\n",
              "      <th>...</th>\n",
              "      <td>...</td>\n",
              "      <td>...</td>\n",
              "      <td>...</td>\n",
              "      <td>...</td>\n",
              "      <td>...</td>\n",
              "      <td>...</td>\n",
              "      <td>...</td>\n",
              "      <td>...</td>\n",
              "      <td>...</td>\n",
              "      <td>...</td>\n",
              "      <td>...</td>\n",
              "    </tr>\n",
              "    <tr>\n",
              "      <th>2149</th>\n",
              "      <td>836</td>\n",
              "      <td>57</td>\n",
              "      <td>4</td>\n",
              "      <td>101247</td>\n",
              "      <td>1</td>\n",
              "      <td>1</td>\n",
              "      <td>0</td>\n",
              "      <td>37141</td>\n",
              "      <td>0</td>\n",
              "      <td>1</td>\n",
              "      <td>1</td>\n",
              "    </tr>\n",
              "    <tr>\n",
              "      <th>6328</th>\n",
              "      <td>790</td>\n",
              "      <td>41</td>\n",
              "      <td>7</td>\n",
              "      <td>109508</td>\n",
              "      <td>1</td>\n",
              "      <td>0</td>\n",
              "      <td>0</td>\n",
              "      <td>86776</td>\n",
              "      <td>0</td>\n",
              "      <td>1</td>\n",
              "      <td>0</td>\n",
              "    </tr>\n",
              "    <tr>\n",
              "      <th>3952</th>\n",
              "      <td>594</td>\n",
              "      <td>34</td>\n",
              "      <td>7</td>\n",
              "      <td>141525</td>\n",
              "      <td>1</td>\n",
              "      <td>0</td>\n",
              "      <td>0</td>\n",
              "      <td>9443</td>\n",
              "      <td>0</td>\n",
              "      <td>0</td>\n",
              "      <td>0</td>\n",
              "    </tr>\n",
              "    <tr>\n",
              "      <th>7480</th>\n",
              "      <td>490</td>\n",
              "      <td>40</td>\n",
              "      <td>6</td>\n",
              "      <td>156111</td>\n",
              "      <td>1</td>\n",
              "      <td>0</td>\n",
              "      <td>0</td>\n",
              "      <td>190889</td>\n",
              "      <td>0</td>\n",
              "      <td>1</td>\n",
              "      <td>1</td>\n",
              "    </tr>\n",
              "    <tr>\n",
              "      <th>386</th>\n",
              "      <td>611</td>\n",
              "      <td>46</td>\n",
              "      <td>5</td>\n",
              "      <td>0</td>\n",
              "      <td>2</td>\n",
              "      <td>1</td>\n",
              "      <td>0</td>\n",
              "      <td>45886</td>\n",
              "      <td>0</td>\n",
              "      <td>1</td>\n",
              "      <td>1</td>\n",
              "    </tr>\n",
              "  </tbody>\n",
              "</table>\n",
              "<p>2500 rows × 11 columns</p>\n",
              "</div>"
            ],
            "text/plain": [
              "      CreditScore  Age  Tenure  Balance  NumOfProducts  HasCrCard  \\\n",
              "7867          640   46       3        0              1          1   \n",
              "1402          757   29       8   130306              1          1   \n",
              "8606          807   42       5        0              2          1   \n",
              "8885          668   45       4   102486              2          1   \n",
              "6494          699   28       7        0              2          1   \n",
              "...           ...  ...     ...      ...            ...        ...   \n",
              "2149          836   57       4   101247              1          1   \n",
              "6328          790   41       7   109508              1          0   \n",
              "3952          594   34       7   141525              1          0   \n",
              "7480          490   40       6   156111              1          0   \n",
              "386           611   46       5        0              2          1   \n",
              "\n",
              "      IsActiveMember  EstimatedSalary  Geography_Germany  Geography_Spain  \\\n",
              "7867               1           156260                  0                1   \n",
              "1402               0            77469                  0                0   \n",
              "8606               1            74900                  0                1   \n",
              "8885               1           158379                  0                1   \n",
              "6494               1            22684                  0                0   \n",
              "...              ...              ...                ...              ...   \n",
              "2149               0            37141                  0                1   \n",
              "6328               0            86776                  0                1   \n",
              "3952               0             9443                  0                0   \n",
              "7480               0           190889                  0                1   \n",
              "386                0            45886                  0                1   \n",
              "\n",
              "      Gender_Male  \n",
              "7867            0  \n",
              "1402            1  \n",
              "8606            1  \n",
              "8885            1  \n",
              "6494            1  \n",
              "...           ...  \n",
              "2149            1  \n",
              "6328            0  \n",
              "3952            0  \n",
              "7480            1  \n",
              "386             1  \n",
              "\n",
              "[2500 rows x 11 columns]"
            ]
          },
          "execution_count": 17,
          "metadata": {},
          "output_type": "execute_result"
        }
      ],
      "source": [
        "features_valid"
      ]
    },
    {
      "cell_type": "code",
      "execution_count": null,
      "metadata": {
        "id": "iN7maCLB4lHC",
        "outputId": "10a8e8c2-49c7-4111-978e-2169ab29fdc7"
      },
      "outputs": [
        {
          "data": {
            "text/plain": [
              "(5625, 11)"
            ]
          },
          "execution_count": 18,
          "metadata": {},
          "output_type": "execute_result"
        }
      ],
      "source": [
        "features_train.shape"
      ]
    },
    {
      "cell_type": "code",
      "execution_count": null,
      "metadata": {
        "scrolled": true,
        "id": "oMA2NKGL4lHD",
        "outputId": "52bca5ea-baa6-4262-e30c-c21a700abd59"
      },
      "outputs": [
        {
          "data": {
            "text/plain": [
              "(1875, 11)"
            ]
          },
          "execution_count": 19,
          "metadata": {},
          "output_type": "execute_result"
        }
      ],
      "source": [
        "features_test.shape"
      ]
    },
    {
      "cell_type": "markdown",
      "metadata": {
        "id": "-fxSIgzs4lHD"
      },
      "source": [
        "**Все верно, в сумме получается 10000 объектов**"
      ]
    },
    {
      "cell_type": "markdown",
      "metadata": {
        "id": "IhxI-EZV4lHD"
      },
      "source": [
        "<div class=\"alert alert-block alert-success\">\n",
        "<b>Успех:</b> Разбиение было сделано верно. Хорошо, что размеры полученных наборов были напечатаны для самопроверки.\n",
        "</div>"
      ]
    },
    {
      "cell_type": "markdown",
      "metadata": {
        "id": "-fDHCx5m4lHE"
      },
      "source": [
        "### Изучим важность признаков"
      ]
    },
    {
      "cell_type": "code",
      "execution_count": null,
      "metadata": {
        "id": "cT_mmjG_4lHE"
      },
      "outputs": [],
      "source": [
        "# Feature_Selector = BorutaShap(importance_measure='shap',\n",
        "#                               classification=False)\n",
        "# Feature_Selector.fit(X=features, y=target, n_trials=20, sample=False,\n",
        "#                      train_or_test = 'test', normalize=True,\n",
        "#                      verbose=True)\n",
        "# Feature_Selector.plot(which_features='all')"
      ]
    },
    {
      "cell_type": "code",
      "execution_count": null,
      "metadata": {
        "id": "4L0ocjLA4lHE"
      },
      "outputs": [],
      "source": [
        "# subset = Feature_Selector.Subset()\n",
        "# subset"
      ]
    },
    {
      "cell_type": "markdown",
      "metadata": {
        "id": "0JEmJ-Qa4lHE"
      },
      "source": [
        "**Using BorutaShap with another model XGBoost**"
      ]
    },
    {
      "cell_type": "code",
      "execution_count": null,
      "metadata": {
        "id": "x5Z6D3Dl4lHF"
      },
      "outputs": [],
      "source": [
        "# model = XGBClassifier()\n",
        "\n",
        "# # if classification is False it is a Regression problem\n",
        "# Feature_Selector_1 = BorutaShap(model=model,\n",
        "#                               importance_measure='shap',\n",
        "#                               classification=True)\n",
        "\n",
        "# Feature_Selector_1.fit(X=features, y=target, n_trials=100, sample=False,\n",
        "#             \t     train_or_test = 'test', normalize=True,\n",
        "# \t\t     verbose=True)"
      ]
    },
    {
      "cell_type": "code",
      "execution_count": null,
      "metadata": {
        "id": "jhJ3Dgl_4lHF"
      },
      "outputs": [],
      "source": [
        "# Feature_Selector_1.plot(which_features='all')"
      ]
    },
    {
      "cell_type": "code",
      "execution_count": null,
      "metadata": {
        "id": "dNwsbM4o4lHF"
      },
      "outputs": [],
      "source": [
        "# subset = Feature_Selector.Subset()\n",
        "# subset"
      ]
    },
    {
      "cell_type": "markdown",
      "metadata": {
        "id": "8QZ9t7Zo4lHF"
      },
      "source": [
        "### Масштабируем признаки"
      ]
    },
    {
      "cell_type": "markdown",
      "metadata": {
        "id": "uR0n5BQY4lHG"
      },
      "source": [
        "**Используем метод StandardScaler для стандартизации данных**"
      ]
    },
    {
      "cell_type": "code",
      "execution_count": null,
      "metadata": {
        "id": "pUPdh7Gs4lHG",
        "outputId": "b675b356-c40c-4ef7-96ba-94202beb1898"
      },
      "outputs": [
        {
          "name": "stdout",
          "output_type": "stream",
          "text": [
            "      CreditScore       Age    Tenure   Balance  NumOfProducts  HasCrCard  \\\n",
            "9315     0.436123  0.302839  1.073302  0.932268      -0.904415   0.636274   \n",
            "58      -1.458825  2.563332 -0.377280 -1.217769      -0.904415   0.636274   \n",
            "4609    -0.733981 -0.450659 -1.465217 -1.217769       0.807340  -1.571649   \n",
            "9958    -1.189597 -0.168097  0.348011 -1.217769      -0.904415   0.636274   \n",
            "16       0.011572  1.809834 -1.465217  0.913543      -0.904415   0.636274   \n",
            "\n",
            "      IsActiveMember  EstimatedSalary  Geography_Germany  Geography_Spain  \\\n",
            "9315       -1.036026        -1.121733                  0                0   \n",
            "58         -1.036026        -1.724507                  0                1   \n",
            "4609        0.965226        -0.345419                  0                1   \n",
            "9958        0.965226        -1.444310                  0                0   \n",
            "16         -1.036026        -1.664615                  1                0   \n",
            "\n",
            "      Gender_Male  \n",
            "9315            1  \n",
            "58              0  \n",
            "4609            1  \n",
            "9958            1  \n",
            "16              1  \n",
            "      CreditScore       Age    Tenure   Balance  NumOfProducts  HasCrCard  \\\n",
            "7867    -0.123042  0.679588 -0.739926 -1.217769      -0.904415   0.636274   \n",
            "1402     1.088482 -0.921595  1.073302  0.876639      -0.904415   0.636274   \n",
            "8606     1.606227  0.302839 -0.014635 -1.217769       0.807340   0.636274   \n",
            "8885     0.166895  0.585401 -0.377280  0.429488       0.807340   0.636274   \n",
            "6494     0.487897 -1.015782  0.710656 -1.217769       0.807340   0.636274   \n",
            "\n",
            "      IsActiveMember  EstimatedSalary  Geography_Germany  Geography_Spain  \\\n",
            "7867        0.965226         0.956558                  0                1   \n",
            "1402       -1.036026        -0.409681                  0                0   \n",
            "8606        0.965226        -0.454228                  0                1   \n",
            "8885        0.965226         0.993301                  0                1   \n",
            "6494        0.965226        -1.359655                  0                0   \n",
            "\n",
            "      Gender_Male  \n",
            "7867            0  \n",
            "1402            1  \n",
            "8606            1  \n",
            "8885            1  \n",
            "6494            1  \n",
            "      CreditScore       Age    Tenure   Balance  NumOfProducts  HasCrCard  \\\n",
            "9765    -2.142248  2.374957 -1.102571  0.980535      -0.904415  -1.571649   \n",
            "7212     0.612156 -1.298343 -0.014635  1.837162      -0.904415  -1.571649   \n",
            "5252     0.135831  0.491213  0.710656 -1.217769       0.807340   0.636274   \n",
            "1078     0.260089  0.208652  1.073302  1.140461       0.807340   0.636274   \n",
            "2155     0.084056 -0.356471  0.348011  0.401875      -0.904415   0.636274   \n",
            "\n",
            "      IsActiveMember  EstimatedSalary  Geography_Germany  Geography_Spain  \\\n",
            "9765        0.965226        -0.995619                  0                0   \n",
            "7212       -1.036026        -0.862673                  0                0   \n",
            "5252        0.965226        -0.599052                  0                0   \n",
            "1078        0.965226        -1.680255                  1                0   \n",
            "2155       -1.036026        -1.420085                  0                0   \n",
            "\n",
            "      Gender_Male  \n",
            "9765            1  \n",
            "7212            0  \n",
            "5252            0  \n",
            "1078            0  \n",
            "2155            0  \n"
          ]
        }
      ],
      "source": [
        "pd.options.mode.chained_assignment = None\n",
        "numeric = ['CreditScore', 'Age', 'Tenure', 'Balance', 'NumOfProducts', 'HasCrCard', 'IsActiveMember', 'EstimatedSalary']\n",
        "\n",
        "scaler = StandardScaler()\n",
        "scaler.fit(features_train[numeric])\n",
        "features_train[numeric] = scaler.transform(features_train[numeric])\n",
        "features_valid[numeric] = scaler.transform(features_valid[numeric])\n",
        "features_test[numeric] = scaler.transform(features_test[numeric])\n",
        "\n",
        "\n",
        "print(features_train.head())\n",
        "print(features_valid.head())\n",
        "print(features_test.head())\n",
        "pd.options.mode.chained_assignment = None"
      ]
    },
    {
      "cell_type": "markdown",
      "metadata": {
        "id": "Su-8OzL14lHH"
      },
      "source": [
        "## Исследуем баланс классов, обучим модель без учёта дисбаланса. Кратко опишем выводы."
      ]
    },
    {
      "cell_type": "markdown",
      "metadata": {
        "id": "Fwn_mOWA4lHH"
      },
      "source": [
        "### Исследуем баланс классов"
      ]
    },
    {
      "cell_type": "code",
      "execution_count": null,
      "metadata": {
        "scrolled": true,
        "id": "zO8PDczG4lHH"
      },
      "outputs": [],
      "source": [
        "class_frequency = data_ohe['Exited'].value_counts(normalize=True)"
      ]
    },
    {
      "cell_type": "code",
      "execution_count": null,
      "metadata": {
        "scrolled": false,
        "id": "8N8SYC-S4lHI",
        "outputId": "419e0a1e-47a7-4969-eef2-825914e0951f"
      },
      "outputs": [
        {
          "data": {
            "image/png": "[encoded data removed]",
            "text/plain": [
              "<Figure size 432x288 with 1 Axes>"
            ]
          },
          "metadata": {
            "needs_background": "light"
          },
          "output_type": "display_data"
        }
      ],
      "source": [
        "class_frequency.plot(kind='bar')\n",
        "plt.show()"
      ]
    },
    {
      "cell_type": "code",
      "execution_count": null,
      "metadata": {
        "id": "a6JLXWar4lHI",
        "outputId": "e83c9d67-c0e1-43f3-d43f-2b8006f61fca"
      },
      "outputs": [
        {
          "data": {
            "text/plain": [
              "0    0.7963\n",
              "1    0.2037\n",
              "Name: Exited, dtype: float64"
            ]
          },
          "execution_count": 28,
          "metadata": {},
          "output_type": "execute_result"
        }
      ],
      "source": [
        "class_frequency"
      ]
    },
    {
      "cell_type": "markdown",
      "metadata": {
        "id": "e8CfnIHo4lHI"
      },
      "source": [
        "***Вывод: классы имеют достаточно сильный дисбаланс***"
      ]
    },
    {
      "cell_type": "markdown",
      "metadata": {
        "id": "lQHvYPao4lHI"
      },
      "source": [
        "### Обучим модель без учёта дисбаланса"
      ]
    },
    {
      "cell_type": "markdown",
      "metadata": {
        "id": "6iihEsjk4lHI"
      },
      "source": [
        "**Подберем оптимальные параметры для случайного леса и решающего дерева**"
      ]
    },
    {
      "cell_type": "markdown",
      "metadata": {
        "id": "VK2Gs4Tu4lHI"
      },
      "source": [
        "**Случайный лес**"
      ]
    },
    {
      "cell_type": "code",
      "execution_count": null,
      "metadata": {
        "scrolled": false,
        "id": "1VrJBdhm4lHJ",
        "outputId": "2be14be2-110b-4155-9a8c-a41b71cca8ba"
      },
      "outputs": [
        {
          "name": "stdout",
          "output_type": "stream",
          "text": [
            "0.5580838323353293\n",
            "RandomForestClassifier(max_depth=9, n_estimators=7, random_state=12345)\n"
          ]
        }
      ],
      "source": [
        "best_result = 0\n",
        "best_model = None\n",
        "for depth in range(1, 10):\n",
        "    for estimators in range (1, 10):\n",
        "        model = RandomForestClassifier(max_depth=depth, n_estimators=estimators, random_state=12345)\n",
        "        model.fit(features_train, target_train)\n",
        "        predict = model.predict(features_valid)\n",
        "        result = f1_score(target_valid, predict)\n",
        "        if result > best_result:\n",
        "            best_result = result\n",
        "            best_model = model\n",
        "print(best_result)\n",
        "print(best_model)"
      ]
    },
    {
      "cell_type": "markdown",
      "metadata": {
        "id": "N6u28PLc4lHK"
      },
      "source": [
        "**Решающее дерево**"
      ]
    },
    {
      "cell_type": "code",
      "execution_count": null,
      "metadata": {
        "scrolled": false,
        "id": "xZVFf3rx4lHK",
        "outputId": "3b49b51b-f9c8-4cb2-8ef9-6525d00d9acf"
      },
      "outputs": [
        {
          "name": "stdout",
          "output_type": "stream",
          "text": [
            "0.5548996458087367\n",
            "DecisionTreeClassifier(max_depth=5, random_state=12345)\n"
          ]
        }
      ],
      "source": [
        "best_result = 0\n",
        "best_model = None\n",
        "for depth in range(1, 30):\n",
        "    model = DecisionTreeClassifier(max_depth=depth, random_state=12345)\n",
        "    model.fit(features_train, target_train)\n",
        "    predict = model.predict(features_valid)\n",
        "    result = f1_score(target_valid, predict)\n",
        "    if result > best_result:\n",
        "        best_result = result\n",
        "        best_model = model\n",
        "print(best_result)\n",
        "print(best_model)"
      ]
    },
    {
      "cell_type": "markdown",
      "metadata": {
        "id": "IL6F07Ci4lHK"
      },
      "source": [
        "**Посчитаем и выведем показатели по трем моделям**"
      ]
    },
    {
      "cell_type": "code",
      "execution_count": null,
      "metadata": {
        "scrolled": false,
        "id": "BPkMj4_94lHK",
        "outputId": "bb6e3e94-35ab-4591-a4dc-35a9c3b6c341"
      },
      "outputs": [
        {
          "name": "stdout",
          "output_type": "stream",
          "text": [
            "Логистическая регрессия\n",
            "Accuracy_score 0.7988\n",
            "F1 0.28245363766048504\n",
            "\n",
            "Случайный лес\n",
            "Accuracy_score 0.8524\n",
            "F1 0.5580838323353293\n",
            "\n",
            "Решающее дерево\n",
            "Accuracy_score 0.8492\n",
            "F1 0.5548996458087367\n",
            "\n"
          ]
        }
      ],
      "source": [
        "model = LogisticRegression(random_state=12345, solver='liblinear')\n",
        "model.fit(features_train, target_train)\n",
        "predicted_valid = model.predict(features_valid)\n",
        "print('Логистическая регрессия')\n",
        "print('Accuracy_score', accuracy_score(target_valid, predicted_valid))\n",
        "print('F1', f1_score(target_valid, predicted_valid))\n",
        "print()\n",
        "\n",
        "model = RandomForestClassifier(bootstrap=True, class_weight=None, criterion='gini',\n",
        "                       max_depth=9, max_features='auto', max_leaf_nodes=None,\n",
        "                       min_impurity_decrease=0.0, min_impurity_split=None,\n",
        "                       min_samples_leaf=1, min_samples_split=2,\n",
        "                       min_weight_fraction_leaf=0.0, n_estimators=7,\n",
        "                       n_jobs=None, oob_score=False, random_state=12345,\n",
        "                       verbose=0, warm_start=False)\n",
        "model.fit(features_train, target_train)\n",
        "predicted_valid = model.predict(features_valid)\n",
        "print('Случайный лес')\n",
        "print('Accuracy_score', accuracy_score(target_valid, predicted_valid))\n",
        "print('F1', f1_score(target_valid, predicted_valid))\n",
        "print()\n",
        "\n",
        "model = DecisionTreeClassifier(class_weight=None, criterion='gini', max_depth=5,\n",
        "                       max_features=None, max_leaf_nodes=None,\n",
        "                       min_impurity_decrease=0.0, min_impurity_split=None,\n",
        "                       min_samples_leaf=1, min_samples_split=2,\n",
        "                       min_weight_fraction_leaf=0.0,\n",
        "                       random_state=12345, splitter='best')\n",
        "model.fit(features_train, target_train)\n",
        "predicted_valid = model.predict(features_valid)\n",
        "print('Решающее дерево')\n",
        "print('Accuracy_score', accuracy_score(target_valid, predicted_valid))\n",
        "print('F1', f1_score(target_valid, predicted_valid))\n",
        "print()"
      ]
    },
    {
      "cell_type": "markdown",
      "metadata": {
        "id": "ErgS8IZQ4lHL"
      },
      "source": [
        "**Построим ROC кривую и найдем модель с большей площадью, соответственно и с большим показателем AUC ROC**"
      ]
    },
    {
      "cell_type": "code",
      "execution_count": null,
      "metadata": {
        "scrolled": false,
        "id": "bvkM3f8K4lHL",
        "outputId": "ddaea4b3-fbe0-48cb-afb8-3d474f464131"
      },
      "outputs": [
        {
          "name": "stdout",
          "output_type": "stream",
          "text": [
            "AUC-ROC DecisionTreeClassifier 0.682445126156334\n",
            "AUC-ROC RandomForestClassifier 0.852037763667927\n",
            "AUC-ROC LogisticRegression 0.7572347863308839\n"
          ]
        },
        {
          "data": {
            "image/png": "[encoded data removed]",
            "text/plain": [
              "<Figure size 1080x720 with 1 Axes>"
            ]
          },
          "metadata": {
            "needs_background": "light"
          },
          "output_type": "display_data"
        }
      ],
      "source": [
        "plt.figure(figsize=[15,10])\n",
        "\n",
        "plt.plot([0, 1], [0, 1], linestyle='--', label='Случайная модель')\n",
        "\n",
        "\n",
        "model = DecisionTreeClassifier(class_weight=None, criterion='gini', max_depth=29,\n",
        "                       max_features=None, max_leaf_nodes=None,\n",
        "                       min_impurity_decrease=0.0, min_impurity_split=None,\n",
        "                       min_samples_leaf=1, min_samples_split=2,\n",
        "                       min_weight_fraction_leaf=0.0,\n",
        "                       random_state=12345, splitter='best')\n",
        "model.fit(features_train, target_train)\n",
        "probabilities_valid = model.predict_proba(features_valid)\n",
        "probabilities_one_valid = probabilities_valid[:, 1]\n",
        "fpr, tpr, thresholds = roc_curve(target_valid, probabilities_one_valid)\n",
        "auc_roc = roc_auc_score(target_valid, probabilities_one_valid)\n",
        "print('AUC-ROC DecisionTreeClassifier',auc_roc)\n",
        "plt.plot(fpr, tpr, label='DecisionTreeClassifier')\n",
        "\n",
        "model = RandomForestClassifier(bootstrap=True, class_weight=None, criterion='gini',\n",
        "                       max_depth=9, max_features='log2', max_leaf_nodes=None,\n",
        "                       min_impurity_decrease=0.0, min_impurity_split=None,\n",
        "                       min_samples_leaf=1, min_samples_split=2,\n",
        "                       min_weight_fraction_leaf=0.0, n_estimators=9,\n",
        "                       n_jobs=None, oob_score=False, random_state=12345,\n",
        "                       verbose=0, warm_start=False)\n",
        "model.fit(features_train, target_train)\n",
        "probabilities_valid = model.predict_proba(features_valid)\n",
        "probabilities_one_valid = probabilities_valid[:, 1]\n",
        "fpr, tpr, thresholds = roc_curve(target_valid, probabilities_one_valid)\n",
        "auc_roc = roc_auc_score(target_valid, probabilities_one_valid)\n",
        "print('AUC-ROC RandomForestClassifier',auc_roc)\n",
        "plt.plot(fpr, tpr, label='RandomForestClassifier')\n",
        "\n",
        "model = LogisticRegression(random_state=12345, solver='liblinear')\n",
        "model.fit(features_train, target_train)\n",
        "probabilities_valid = model.predict_proba(features_valid)\n",
        "probabilities_one_valid = probabilities_valid[:, 1]\n",
        "fpr, tpr, thresholds = roc_curve(target_valid, probabilities_one_valid)\n",
        "auc_roc = roc_auc_score(target_valid, probabilities_one_valid)\n",
        "print('AUC-ROC LogisticRegression',auc_roc)\n",
        "plt.plot(fpr, tpr, label='LogisticRegression')\n",
        "\n",
        "plt.xlim([0,1])\n",
        "plt.ylim([0,1])\n",
        "\n",
        "plt.xlabel(\"FPR\")\n",
        "plt.ylabel(\"TPR\")\n",
        "\n",
        "plt.legend(loc='lower right', fontsize='x-large')\n",
        "\n",
        "plt.title(\"ROC-кривая\")\n",
        "plt.show()"
      ]
    },
    {
      "cell_type": "markdown",
      "metadata": {
        "id": "mZZe2c_W4lHL"
      },
      "source": [
        "***Вывод: можем заметить что лучший показатель F1 и AUC ROC у модели случайного леса***"
      ]
    },
    {
      "cell_type": "markdown",
      "metadata": {
        "id": "ZUd7ukMJ4lHL"
      },
      "source": [
        "<div class=\"alert alert-block alert-success\">\n",
        "<b>Успех:</b> Хорошо, что ты уже в этом шаге попробовал несколько разных моделей и реализовал подбор параметров. Радует, что ROC-кривые были визуализированы!\n",
        "</div>"
      ]
    },
    {
      "cell_type": "markdown",
      "metadata": {
        "id": "JC3Ki4f_4lHM"
      },
      "source": [
        "## Борьба с дисбалансом"
      ]
    },
    {
      "cell_type": "markdown",
      "metadata": {
        "id": "k4mcvDql4lHM"
      },
      "source": [
        "### Посмотрим на поведение моделей при взвешенных классах"
      ]
    },
    {
      "cell_type": "code",
      "execution_count": null,
      "metadata": {
        "scrolled": true,
        "id": "gH-tq6hs4lHM",
        "outputId": "c349be84-bc30-4490-9bb5-a05c417e0e07"
      },
      "outputs": [
        {
          "name": "stdout",
          "output_type": "stream",
          "text": [
            "Логистическая регрессия\n",
            "Accuracy_score 0.7036\n",
            "F1 0.5063291139240507\n",
            "\n",
            "Случайный лес\n",
            "Accuracy_score 0.8284\n",
            "F1 0.6179875333926981\n",
            "\n",
            "Решающее дерево\n",
            "Accuracy_score 0.7864\n",
            "F1 0.5027932960893854\n",
            "\n"
          ]
        }
      ],
      "source": [
        "model = LogisticRegression(random_state=12345, solver='liblinear', class_weight='balanced')\n",
        "model.fit(features_train, target_train)\n",
        "predicted_valid = model.predict(features_valid)\n",
        "print('Логистическая регрессия')\n",
        "print('Accuracy_score', accuracy_score(target_valid, predicted_valid))\n",
        "print('F1', f1_score(target_valid, predicted_valid))\n",
        "print()\n",
        "\n",
        "model = RandomForestClassifier(bootstrap=True, class_weight='balanced', criterion='gini',\n",
        "                       max_depth=9, max_features='log2', max_leaf_nodes=None,\n",
        "                       min_impurity_decrease=0.0, min_impurity_split=None,\n",
        "                       min_samples_leaf=1, min_samples_split=2,\n",
        "                       min_weight_fraction_leaf=0.0, n_estimators=9,\n",
        "                       n_jobs=None, oob_score=False, random_state=12345,\n",
        "                       verbose=0, warm_start=False)\n",
        "model.fit(features_train, target_train)\n",
        "predicted_valid = model.predict(features_valid)\n",
        "print('Случайный лес')\n",
        "print('Accuracy_score', accuracy_score(target_valid, predicted_valid))\n",
        "print('F1', f1_score(target_valid, predicted_valid))\n",
        "print()\n",
        "\n",
        "model = DecisionTreeClassifier(class_weight='balanced', criterion='gini', max_depth=29,\n",
        "                       max_features=None, max_leaf_nodes=None,\n",
        "                       min_impurity_decrease=0.0, min_impurity_split=None,\n",
        "                       min_samples_leaf=1, min_samples_split=2,\n",
        "                       min_weight_fraction_leaf=0.0,\n",
        "                       random_state=12345, splitter='best')\n",
        "model.fit(features_train, target_train)\n",
        "predicted_valid = model.predict(features_valid)\n",
        "print('Решающее дерево')\n",
        "print('Accuracy_score', accuracy_score(target_valid, predicted_valid))\n",
        "print('F1', f1_score(target_valid, predicted_valid))\n",
        "print()"
      ]
    },
    {
      "cell_type": "markdown",
      "metadata": {
        "id": "DCwVuhl54lHM"
      },
      "source": [
        "***При взвешенных классах все модели стали вести себя лучше, кроме решающего дерева***"
      ]
    },
    {
      "cell_type": "markdown",
      "metadata": {
        "id": "nR4LET-d4lHN"
      },
      "source": [
        "<div class=\"alert alert-block alert-success\">\n",
        "<b>Успех:</b> Я тоже обычно начинаю с перевзвешивания.\n",
        "</div>"
      ]
    },
    {
      "cell_type": "markdown",
      "metadata": {
        "id": "pwqPWOUK4lHN"
      },
      "source": [
        "<div class=\"alert alert-block alert-warning\">\n",
        "<b>Комментарий студента:</b> А можешь соориентировать как рабоает class_weight? И еще вопрос: взвешивание классов и изменение количества выборки всегда применяется отдельно?\n",
        "</div>"
      ]
    },
    {
      "cell_type": "markdown",
      "metadata": {
        "id": "Ym7v_fgn4lHN"
      },
      "source": [
        "<div class=\"alert alert-block alert-info\">\n",
        "<b>Совет (ревью 2): </b> Можно применять вместе. class_weight работает перевзвешивает \"штраф\" за ошибку, то есть он говорит модели, что ошибки на разных классах должны весить обратно пропорционально их доле в выборке. Если класса 1 в 5 раз меньше, чем класса 0, то ошибка на классе 1 в 5 раз важнее.\n",
        "</div>"
      ]
    },
    {
      "cell_type": "markdown",
      "metadata": {
        "id": "0kB8etFW4lHN"
      },
      "source": [
        "### Увеличение выборки"
      ]
    },
    {
      "cell_type": "markdown",
      "metadata": {
        "id": "Ywt9W1sk4lHN"
      },
      "source": [
        "**Исправим дисбаланс посредством увеличения количества признаков положительного класса**"
      ]
    },
    {
      "cell_type": "code",
      "execution_count": null,
      "metadata": {
        "id": "FIbfidGR4lHN"
      },
      "outputs": [],
      "source": [
        "def upsample(features, target, repeat):\n",
        "    features_zeros = features[target == 0]\n",
        "    features_ones = features[target == 1]\n",
        "    target_zeros = target[target == 0]\n",
        "    target_ones = target[target == 1]\n",
        "    \n",
        "    features_upsampled = pd.concat([features_zeros] + [features_ones] * repeat)\n",
        "    target_upsampled = pd.concat([target_zeros] + [target_ones] * repeat)\n",
        "    \n",
        "    features_upsampled, target_upsampled = shuffle(\n",
        "        features_upsampled, target_upsampled, random_state=12345)\n",
        "    \n",
        "    return features_upsampled, target_upsampled\n",
        "\n",
        "features_upsampled, target_upsampled = upsample(features_train, target_train, 4)"
      ]
    },
    {
      "cell_type": "markdown",
      "metadata": {
        "id": "PiyOqD5I4lHN"
      },
      "source": [
        "<div class=\"alert alert-block alert-success\">\n",
        "<b>Успех:</b> Хорошо, что параметр repeat был выбран так, чтобы классы стали сбалансированными!\n",
        "</div>"
      ]
    },
    {
      "cell_type": "markdown",
      "metadata": {
        "id": "XVc1NpZn4lHO"
      },
      "source": [
        " **При изменении стратегии борьбы с дисбалансом классов заново подберем параметры**"
      ]
    },
    {
      "cell_type": "code",
      "execution_count": null,
      "metadata": {
        "id": "5K51d6YA4lHO",
        "outputId": "6b2d4aea-f4e4-4822-d611-2f2873efa189"
      },
      "outputs": [
        {
          "name": "stdout",
          "output_type": "stream",
          "text": [
            "0.62880658436214\n",
            "RandomForestClassifier(max_depth=9, n_estimators=9, random_state=12345)\n"
          ]
        }
      ],
      "source": [
        "best_result = 0\n",
        "best_model = None\n",
        "for depth in range(1, 10):\n",
        "    for estimators in range (1, 10):\n",
        "        model = RandomForestClassifier(max_depth=depth, n_estimators=estimators, random_state=12345)\n",
        "        model.fit(features_upsampled, target_upsampled)\n",
        "        predict = model.predict(features_valid)\n",
        "        result = f1_score(target_valid, predict)\n",
        "        if result > best_result:\n",
        "            best_result = result\n",
        "            best_model = model\n",
        "print(best_result)\n",
        "print(best_model)"
      ]
    },
    {
      "cell_type": "code",
      "execution_count": null,
      "metadata": {
        "id": "efTwH9nr4lHO",
        "outputId": "3a908fb2-f503-4568-d2dc-ae1ebb383ecb"
      },
      "outputs": [
        {
          "name": "stdout",
          "output_type": "stream",
          "text": [
            "0.6020984665052462\n",
            "DecisionTreeClassifier(max_depth=8, random_state=12345)\n"
          ]
        }
      ],
      "source": [
        "best_result = 0\n",
        "best_model = None\n",
        "for depth in range(1, 30):\n",
        "    model = DecisionTreeClassifier(max_depth=depth, random_state=12345)\n",
        "    model.fit(features_upsampled, target_upsampled)\n",
        "    predict = model.predict(features_valid)\n",
        "    result = f1_score(target_valid, predict)\n",
        "    if result > best_result:\n",
        "        best_result = result\n",
        "        best_model = model\n",
        "print(best_result)\n",
        "print(best_model)"
      ]
    },
    {
      "cell_type": "markdown",
      "metadata": {
        "id": "0lrxJ4_c4lHO"
      },
      "source": [
        "**Посчитаем показатели модели, обученной на сбалансированных данных 1:1**"
      ]
    },
    {
      "cell_type": "code",
      "execution_count": null,
      "metadata": {
        "scrolled": true,
        "id": "LY40lmsp4lHO",
        "outputId": "b84593e8-3fa1-421c-ced7-b63d38ff9065"
      },
      "outputs": [
        {
          "name": "stdout",
          "output_type": "stream",
          "text": [
            "Логистическая регрессия\n",
            "Accuracy_score 0.7036\n",
            "F1 0.505670446964643\n",
            "\n",
            "Случайный лес\n",
            "Accuracy_score 0.8196\n",
            "F1 0.62880658436214\n",
            "\n",
            "Решающее дерево\n",
            "Accuracy_score 0.8028\n",
            "F1 0.6020984665052462\n",
            "\n"
          ]
        }
      ],
      "source": [
        "model = LogisticRegression(random_state=12345, solver='liblinear')\n",
        "model.fit(features_upsampled, target_upsampled)\n",
        "predicted_valid = model.predict(features_valid)\n",
        "print('Логистическая регрессия')\n",
        "print('Accuracy_score', accuracy_score(target_valid, predicted_valid))\n",
        "print('F1', f1_score(target_valid, predicted_valid))\n",
        "print()\n",
        "\n",
        "model = RandomForestClassifier(bootstrap=True, class_weight=None, criterion='gini',\n",
        "                       max_depth=9, max_features='auto', max_leaf_nodes=None,\n",
        "                       min_impurity_decrease=0.0, min_impurity_split=None,\n",
        "                       min_samples_leaf=1, min_samples_split=2,\n",
        "                       min_weight_fraction_leaf=0.0, n_estimators=9,\n",
        "                       n_jobs=None, oob_score=False, random_state=12345,\n",
        "                       verbose=0, warm_start=False)\n",
        "model.fit(features_upsampled, target_upsampled)\n",
        "predicted_valid = model.predict(features_valid)\n",
        "print('Случайный лес')\n",
        "print('Accuracy_score', accuracy_score(target_valid, predicted_valid))\n",
        "print('F1', f1_score(target_valid, predicted_valid))\n",
        "print()\n",
        "\n",
        "model = DecisionTreeClassifier(class_weight=None, criterion='gini', max_depth=8,\n",
        "                       max_features=None, max_leaf_nodes=None,\n",
        "                       min_impurity_decrease=0.0, min_impurity_split=None,\n",
        "                       min_samples_leaf=1, min_samples_split=2,\n",
        "                       min_weight_fraction_leaf=0.0,\n",
        "                       random_state=12345, splitter='best')\n",
        "model.fit(features_upsampled, target_upsampled)\n",
        "predicted_valid = model.predict(features_valid)\n",
        "print('Решающее дерево')\n",
        "print('Accuracy_score', accuracy_score(target_valid, predicted_valid))\n",
        "print('F1', f1_score(target_valid, predicted_valid))\n",
        "print()"
      ]
    },
    {
      "cell_type": "markdown",
      "metadata": {
        "id": "U9uyxkTM4lHO"
      },
      "source": [
        "***Вывод: при увеличении количества положительных признаков, хорошо себя \"чувствуют\" все модели. Для далнейшего исследования больше всего подходит модель Случайного леса, на ней и будем проводить тестирование***"
      ]
    },
    {
      "cell_type": "markdown",
      "metadata": {
        "id": "X3IuKySG4lHP"
      },
      "source": [
        "<div class=\"alert alert-block alert-info\">\n",
        "<b>Совет: </b> При изменении стратегии борьбы с дисбалансом классов желательно было заново подобрать параметры.\n",
        "</div>"
      ]
    },
    {
      "cell_type": "markdown",
      "metadata": {
        "id": "YiLCtLAf4lHP"
      },
      "source": [
        "<div class=\"alert alert-block alert-warning\">\n",
        "<b>Комментарий студента:</b> Я правильно сделал что параметры подбирал на features_upsampled и target_upsampled?\n",
        "</div>\n",
        "\n",
        "<div class=\"alert alert-block alert-warning\">\n",
        "<b>Изменения:</b> Подобрал параметры заново\n",
        "</div>\n"
      ]
    },
    {
      "cell_type": "markdown",
      "metadata": {
        "id": "qR0TIN2n4lHP"
      },
      "source": [
        "<div class=\"alert alert-block alert-success\">\n",
        "<b>Успех (ревью 2)</b> Да, параметры обучать модели при подборе параметров нужно было на измененной выборке.\n",
        "</div>"
      ]
    },
    {
      "cell_type": "code",
      "execution_count": null,
      "metadata": {
        "id": "5YeKVx_74lHP"
      },
      "outputs": [],
      "source": [
        ""
      ]
    },
    {
      "cell_type": "markdown",
      "metadata": {
        "id": "ZDN3DrSt4lHP"
      },
      "source": [
        "## Тестирование модели"
      ]
    },
    {
      "cell_type": "markdown",
      "metadata": {
        "id": "_7V-vcx34lHP"
      },
      "source": [
        "***Для теста возьмем самую эффективную модель Случайного леса, с наилучшими гиперпараметрами***"
      ]
    },
    {
      "cell_type": "code",
      "execution_count": null,
      "metadata": {
        "scrolled": false,
        "id": "znrVrY4C4lHP",
        "outputId": "a1a730c0-2d44-4a0d-fe3b-b2fcd0bee29b"
      },
      "outputs": [
        {
          "name": "stdout",
          "output_type": "stream",
          "text": [
            "Дисбаланс классов\n",
            "accuracy 0.8538666666666667\n",
            "Precision 0.7345132743362832\n",
            "Recall 0.4368421052631579\n",
            "f1 0.5478547854785478\n",
            "------------------\n",
            "Взвешенные классы\n",
            "accuracy 0.8250666666666666\n",
            "Precision 0.5588235294117647\n",
            "Recall 0.65\n",
            "f1 0.6009732360097324\n",
            "------------------\n",
            "Увеличенное количество положительных классов\n",
            "accuracy 0.8112\n",
            "Precision 0.525691699604743\n",
            "Recall 0.7\n",
            "f1 0.600451467268623\n",
            "------------------\n"
          ]
        }
      ],
      "source": [
        "model = RandomForestClassifier(bootstrap=True, class_weight=None, criterion='gini',\n",
        "                       max_depth=9, max_features='log2', max_leaf_nodes=None,\n",
        "                       min_impurity_decrease=0.0, min_impurity_split=None,\n",
        "                       min_samples_leaf=1, min_samples_split=2,\n",
        "                       min_weight_fraction_leaf=0.0, n_estimators=9,\n",
        "                       n_jobs=None, oob_score=False, random_state=12345,\n",
        "                       verbose=0, warm_start=False)\n",
        "model.fit(features_train, target_train)\n",
        "predicted_test = model.predict(features_test)\n",
        "print('Дисбаланс классов')\n",
        "print('accuracy', accuracy_score(target_test, predicted_test))\n",
        "print('Precision', precision_score(target_test, predicted_test))\n",
        "print('Recall', recall_score(target_test, predicted_test))\n",
        "print('f1', f1_score(target_test, predicted_test))\n",
        "print('------------------')\n",
        "\n",
        "model = RandomForestClassifier(bootstrap=True, class_weight='balanced', criterion='gini',\n",
        "                       max_depth=9, max_features='log2', max_leaf_nodes=None,\n",
        "                       min_impurity_decrease=0.0, min_impurity_split=None,\n",
        "                       min_samples_leaf=1, min_samples_split=2,\n",
        "                       min_weight_fraction_leaf=0.0, n_estimators=9,\n",
        "                       n_jobs=None, oob_score=False, random_state=12345,\n",
        "                       verbose=0, warm_start=False)\n",
        "model.fit(features_train, target_train)\n",
        "predicted_test = model.predict(features_test)\n",
        "print('Взвешенные классы')\n",
        "print('accuracy', accuracy_score(target_test, predicted_test))\n",
        "print('Precision', precision_score(target_test, predicted_test))\n",
        "print('Recall', recall_score(target_test, predicted_test))\n",
        "print('f1', f1_score(target_test, predicted_test))\n",
        "print('------------------')\n",
        "\n",
        "model = RandomForestClassifier(bootstrap=True, class_weight=None, criterion='gini',\n",
        "                       max_depth=9, max_features='log2', max_leaf_nodes=None,\n",
        "                       min_impurity_decrease=0.0, min_impurity_split=None,\n",
        "                       min_samples_leaf=1, min_samples_split=2,\n",
        "                       min_weight_fraction_leaf=0.0, n_estimators=9,\n",
        "                       n_jobs=None, oob_score=False, random_state=12345,\n",
        "                       verbose=0, warm_start=False)\n",
        "model.fit(features_upsampled, target_upsampled)\n",
        "predicted_test = model.predict(features_test)\n",
        "print('Увеличенное количество положительных классов')\n",
        "print('accuracy', accuracy_score(target_test, predicted_test))\n",
        "print('Precision', precision_score(target_test, predicted_test))\n",
        "print('Recall', recall_score(target_test, predicted_test))\n",
        "print('f1', f1_score(target_test, predicted_test))\n",
        "print('------------------')"
      ]
    },
    {
      "cell_type": "code",
      "execution_count": null,
      "metadata": {
        "scrolled": false,
        "id": "1r90zBgb4lHQ",
        "outputId": "7748c07d-c068-4671-d690-08951f5322df"
      },
      "outputs": [
        {
          "name": "stdout",
          "output_type": "stream",
          "text": [
            "AUC-ROC дисбаланс 0.8588743179017778\n",
            "AUC-ROC балансированные классы через class weight 0.8416123921844747\n",
            "AUC-ROC Увеличенное количество положительных классов 0.8576395000880127\n"
          ]
        },
        {
          "data": {
            "image/png": "[encoded data removed]",
            "text/plain": [
              "<Figure size 864x648 with 1 Axes>"
            ]
          },
          "metadata": {
            "needs_background": "light"
          },
          "output_type": "display_data"
        }
      ],
      "source": [
        "plt.figure(figsize=[12,9])\n",
        "\n",
        "plt.plot([0, 1], [0, 1], linestyle='--', label='Случайная модель')\n",
        "\n",
        "\n",
        "model = RandomForestClassifier(bootstrap=True, class_weight=None, criterion='gini',\n",
        "                       max_depth=9, max_features='auto', max_leaf_nodes=None,\n",
        "                       min_impurity_decrease=0.0, min_impurity_split=None,\n",
        "                       min_samples_leaf=1, min_samples_split=2,\n",
        "                       min_weight_fraction_leaf=0.0, n_estimators=7,\n",
        "                       n_jobs=None, oob_score=False, random_state=12345,\n",
        "                       verbose=0, warm_start=False)\n",
        "model.fit(features_train, target_train)\n",
        "predicted_test = model.predict(features_test)\n",
        "probabilities_test = model.predict_proba(features_test)\n",
        "probabilities_one_test = probabilities_test[:, 1]\n",
        "fpr, tpr, thresholds = roc_curve(target_test, probabilities_one_test)\n",
        "auc_roc = roc_auc_score(target_test, probabilities_one_test)\n",
        "print('AUC-ROC дисбаланс',auc_roc)\n",
        "plt.plot(fpr, tpr, label='Дисбаланс')\n",
        "\n",
        "model = RandomForestClassifier(bootstrap=True, class_weight='balanced', criterion='gini',\n",
        "                       max_depth=9, max_features='auto', max_leaf_nodes=None,\n",
        "                       min_impurity_decrease=0.0, min_impurity_split=None,\n",
        "                       min_samples_leaf=1, min_samples_split=2,\n",
        "                       min_weight_fraction_leaf=0.0, n_estimators=7,\n",
        "                       n_jobs=None, oob_score=False, random_state=12345,\n",
        "                       verbose=0, warm_start=False)\n",
        "model.fit(features_train, target_train)\n",
        "predicted_test = model.predict(features_test)\n",
        "probabilities_test = model.predict_proba(features_test)\n",
        "probabilities_one_test = probabilities_test[:, 1]\n",
        "fpr, tpr, thresholds = roc_curve(target_test, probabilities_one_test)\n",
        "auc_roc = roc_auc_score(target_test, probabilities_one_test)\n",
        "print('AUC-ROC балансированные классы через class weight',auc_roc)\n",
        "plt.plot(fpr, tpr, label='Сбалансированная модель через class_weight')\n",
        "\n",
        "model = RandomForestClassifier(bootstrap=True, class_weight=None, criterion='gini',\n",
        "                       max_depth=9, max_features='log2', max_leaf_nodes=None,\n",
        "                       min_impurity_decrease=0.0, min_impurity_split=None,\n",
        "                       min_samples_leaf=1, min_samples_split=2,\n",
        "                       min_weight_fraction_leaf=0.0, n_estimators=9,\n",
        "                       n_jobs=None, oob_score=False, random_state=12345,\n",
        "                       verbose=0, warm_start=False)\n",
        "model.fit(features_upsampled, target_upsampled)\n",
        "predicted_test = model.predict(features_test)\n",
        "probabilities_test = model.predict_proba(features_test)\n",
        "probabilities_one_test = probabilities_test[:, 1]\n",
        "fpr, tpr, thresholds = roc_curve(target_test, probabilities_one_test)\n",
        "auc_roc = roc_auc_score(target_test, probabilities_one_test)\n",
        "print('AUC-ROC Увеличенное количество положительных классов',auc_roc)\n",
        "plt.plot(fpr, tpr, label='Увеличенное количество положительных классов')\n",
        "\n",
        "plt.xlim([0,1])\n",
        "plt.ylim([0,1])\n",
        "\n",
        "plt.xlabel(\"False Positive Rate\")\n",
        "plt.ylabel(\"True Positive Rate\")\n",
        "\n",
        "plt.legend(loc='lower right', fontsize='x-large')\n",
        "\n",
        "plt.title(\"ROC-кривая\")\n",
        "plt.show()"
      ]
    },
    {
      "cell_type": "markdown",
      "metadata": {
        "id": "MXh2QrCc4lHQ"
      },
      "source": [
        "***Вывод: в итоге мы получили лучшие показатели по F1 у Случайного леса со взвешенными классами через class weight. Показатель AUC ROC практически равен у всех моделей, даже на дисбалансе он показывает неплохой результат. Таким образом мы нашли оптимальное сочетание:***\n",
        "- модель - Случайный лес\n",
        "- гиперпараметры bootstrap=True, class_weight='balanced', criterion='gini',\n",
        "                       max_depth=9, max_features='log2', max_leaf_nodes=None,\n",
        "                       min_impurity_decrease=0.0, min_impurity_split=None,\n",
        "                       min_samples_leaf=1, min_samples_split=2,\n",
        "                       min_weight_fraction_leaf=0.0, n_estimators=9,\n",
        "                       n_jobs=None, oob_score=False, random_state=12345,\n",
        "                       verbose=0, warm_start=False\n",
        "- взвешенные классы при помощи class_weight\n"
      ]
    },
    {
      "cell_type": "code",
      "execution_count": null,
      "metadata": {
        "scrolled": false,
        "id": "-_d9MSow4lHQ",
        "outputId": "e0dcd4a7-556e-4c7d-f01a-98f531595afd"
      },
      "outputs": [
        {
          "data": {
            "text/html": [
              "<div>\n",
              "<style scoped>\n",
              "    .dataframe tbody tr th:only-of-type {\n",
              "        vertical-align: middle;\n",
              "    }\n",
              "\n",
              "    .dataframe tbody tr th {\n",
              "        vertical-align: top;\n",
              "    }\n",
              "\n",
              "    .dataframe thead th {\n",
              "        text-align: right;\n",
              "    }\n",
              "</style>\n",
              "<table border=\"1\" class=\"dataframe\">\n",
              "  <thead>\n",
              "    <tr style=\"text-align: right;\">\n",
              "      <th></th>\n",
              "      <th>CreditScore</th>\n",
              "      <th>Geography</th>\n",
              "      <th>Gender</th>\n",
              "      <th>Age</th>\n",
              "      <th>Tenure</th>\n",
              "      <th>Balance</th>\n",
              "      <th>NumOfProducts</th>\n",
              "      <th>HasCrCard</th>\n",
              "      <th>IsActiveMember</th>\n",
              "      <th>EstimatedSalary</th>\n",
              "      <th>Exited</th>\n",
              "    </tr>\n",
              "  </thead>\n",
              "  <tbody>\n",
              "    <tr>\n",
              "      <th>0</th>\n",
              "      <td>619</td>\n",
              "      <td>France</td>\n",
              "      <td>Female</td>\n",
              "      <td>42</td>\n",
              "      <td>2.0</td>\n",
              "      <td>0.00</td>\n",
              "      <td>1</td>\n",
              "      <td>1</td>\n",
              "      <td>1</td>\n",
              "      <td>101348.88</td>\n",
              "      <td>1</td>\n",
              "    </tr>\n",
              "    <tr>\n",
              "      <th>1</th>\n",
              "      <td>608</td>\n",
              "      <td>Spain</td>\n",
              "      <td>Female</td>\n",
              "      <td>41</td>\n",
              "      <td>1.0</td>\n",
              "      <td>83807.86</td>\n",
              "      <td>1</td>\n",
              "      <td>0</td>\n",
              "      <td>1</td>\n",
              "      <td>112542.58</td>\n",
              "      <td>0</td>\n",
              "    </tr>\n",
              "    <tr>\n",
              "      <th>2</th>\n",
              "      <td>502</td>\n",
              "      <td>France</td>\n",
              "      <td>Female</td>\n",
              "      <td>42</td>\n",
              "      <td>8.0</td>\n",
              "      <td>159660.80</td>\n",
              "      <td>3</td>\n",
              "      <td>1</td>\n",
              "      <td>0</td>\n",
              "      <td>113931.57</td>\n",
              "      <td>1</td>\n",
              "    </tr>\n",
              "    <tr>\n",
              "      <th>3</th>\n",
              "      <td>699</td>\n",
              "      <td>France</td>\n",
              "      <td>Female</td>\n",
              "      <td>39</td>\n",
              "      <td>1.0</td>\n",
              "      <td>0.00</td>\n",
              "      <td>2</td>\n",
              "      <td>0</td>\n",
              "      <td>0</td>\n",
              "      <td>93826.63</td>\n",
              "      <td>0</td>\n",
              "    </tr>\n",
              "    <tr>\n",
              "      <th>4</th>\n",
              "      <td>850</td>\n",
              "      <td>Spain</td>\n",
              "      <td>Female</td>\n",
              "      <td>43</td>\n",
              "      <td>2.0</td>\n",
              "      <td>125510.82</td>\n",
              "      <td>1</td>\n",
              "      <td>1</td>\n",
              "      <td>1</td>\n",
              "      <td>79084.10</td>\n",
              "      <td>0</td>\n",
              "    </tr>\n",
              "    <tr>\n",
              "      <th>...</th>\n",
              "      <td>...</td>\n",
              "      <td>...</td>\n",
              "      <td>...</td>\n",
              "      <td>...</td>\n",
              "      <td>...</td>\n",
              "      <td>...</td>\n",
              "      <td>...</td>\n",
              "      <td>...</td>\n",
              "      <td>...</td>\n",
              "      <td>...</td>\n",
              "      <td>...</td>\n",
              "    </tr>\n",
              "    <tr>\n",
              "      <th>9995</th>\n",
              "      <td>771</td>\n",
              "      <td>France</td>\n",
              "      <td>Male</td>\n",
              "      <td>39</td>\n",
              "      <td>5.0</td>\n",
              "      <td>0.00</td>\n",
              "      <td>2</td>\n",
              "      <td>1</td>\n",
              "      <td>0</td>\n",
              "      <td>96270.64</td>\n",
              "      <td>0</td>\n",
              "    </tr>\n",
              "    <tr>\n",
              "      <th>9996</th>\n",
              "      <td>516</td>\n",
              "      <td>France</td>\n",
              "      <td>Male</td>\n",
              "      <td>35</td>\n",
              "      <td>10.0</td>\n",
              "      <td>57369.61</td>\n",
              "      <td>1</td>\n",
              "      <td>1</td>\n",
              "      <td>1</td>\n",
              "      <td>101699.77</td>\n",
              "      <td>0</td>\n",
              "    </tr>\n",
              "    <tr>\n",
              "      <th>9997</th>\n",
              "      <td>709</td>\n",
              "      <td>France</td>\n",
              "      <td>Female</td>\n",
              "      <td>36</td>\n",
              "      <td>7.0</td>\n",
              "      <td>0.00</td>\n",
              "      <td>1</td>\n",
              "      <td>0</td>\n",
              "      <td>1</td>\n",
              "      <td>42085.58</td>\n",
              "      <td>1</td>\n",
              "    </tr>\n",
              "    <tr>\n",
              "      <th>9998</th>\n",
              "      <td>772</td>\n",
              "      <td>Germany</td>\n",
              "      <td>Male</td>\n",
              "      <td>42</td>\n",
              "      <td>3.0</td>\n",
              "      <td>75075.31</td>\n",
              "      <td>2</td>\n",
              "      <td>1</td>\n",
              "      <td>0</td>\n",
              "      <td>92888.52</td>\n",
              "      <td>1</td>\n",
              "    </tr>\n",
              "    <tr>\n",
              "      <th>9999</th>\n",
              "      <td>792</td>\n",
              "      <td>France</td>\n",
              "      <td>Female</td>\n",
              "      <td>28</td>\n",
              "      <td>NaN</td>\n",
              "      <td>130142.79</td>\n",
              "      <td>1</td>\n",
              "      <td>1</td>\n",
              "      <td>0</td>\n",
              "      <td>38190.78</td>\n",
              "      <td>0</td>\n",
              "    </tr>\n",
              "  </tbody>\n",
              "</table>\n",
              "<p>10000 rows × 11 columns</p>\n",
              "</div>"
            ],
            "text/plain": [
              "      CreditScore Geography  Gender  Age  Tenure    Balance  NumOfProducts  \\\n",
              "0             619    France  Female   42     2.0       0.00              1   \n",
              "1             608     Spain  Female   41     1.0   83807.86              1   \n",
              "2             502    France  Female   42     8.0  159660.80              3   \n",
              "3             699    France  Female   39     1.0       0.00              2   \n",
              "4             850     Spain  Female   43     2.0  125510.82              1   \n",
              "...           ...       ...     ...  ...     ...        ...            ...   \n",
              "9995          771    France    Male   39     5.0       0.00              2   \n",
              "9996          516    France    Male   35    10.0   57369.61              1   \n",
              "9997          709    France  Female   36     7.0       0.00              1   \n",
              "9998          772   Germany    Male   42     3.0   75075.31              2   \n",
              "9999          792    France  Female   28     NaN  130142.79              1   \n",
              "\n",
              "      HasCrCard  IsActiveMember  EstimatedSalary  Exited  \n",
              "0             1               1        101348.88       1  \n",
              "1             0               1        112542.58       0  \n",
              "2             1               0        113931.57       1  \n",
              "3             0               0         93826.63       0  \n",
              "4             1               1         79084.10       0  \n",
              "...         ...             ...              ...     ...  \n",
              "9995          1               0         96270.64       0  \n",
              "9996          1               1        101699.77       0  \n",
              "9997          0               1         42085.58       1  \n",
              "9998          1               0         92888.52       1  \n",
              "9999          1               0         38190.78       0  \n",
              "\n",
              "[10000 rows x 11 columns]"
            ]
          },
          "execution_count": 40,
          "metadata": {},
          "output_type": "execute_result"
        }
      ],
      "source": [
        "data"
      ]
    },
    {
      "cell_type": "code",
      "execution_count": null,
      "metadata": {
        "id": "wBOwWake4lHR",
        "outputId": "321967ec-6ea5-455f-c7d5-7a972e24a573"
      },
      "outputs": [
        {
          "name": "stdout",
          "output_type": "stream",
          "text": [
            "<class 'pandas.core.frame.DataFrame'>\n",
            "RangeIndex: 10000 entries, 0 to 9999\n",
            "Data columns (total 11 columns):\n",
            " #   Column           Non-Null Count  Dtype  \n",
            "---  ------           --------------  -----  \n",
            " 0   CreditScore      10000 non-null  int64  \n",
            " 1   Geography        10000 non-null  object \n",
            " 2   Gender           10000 non-null  object \n",
            " 3   Age              10000 non-null  int64  \n",
            " 4   Tenure           9091 non-null   float64\n",
            " 5   Balance          10000 non-null  float64\n",
            " 6   NumOfProducts    10000 non-null  int64  \n",
            " 7   HasCrCard        10000 non-null  int64  \n",
            " 8   IsActiveMember   10000 non-null  int64  \n",
            " 9   EstimatedSalary  10000 non-null  float64\n",
            " 10  Exited           10000 non-null  int64  \n",
            "dtypes: float64(3), int64(6), object(2)\n",
            "memory usage: 859.5+ KB\n"
          ]
        }
      ],
      "source": [
        "data.info()"
      ]
    },
    {
      "cell_type": "code",
      "execution_count": null,
      "metadata": {
        "id": "9fJ2u9284lHR"
      },
      "outputs": [],
      "source": [
        "from sklearn.pipeline import Pipeline\n",
        "from sklearn.preprocessing import StandardScaler\n",
        "from sklearn.impute import SimpleImputer\n",
        "from sklearn.preprocessing import OneHotEncoder\n",
        "from sklearn.compose import ColumnTransformer\n",
        "from sklearn.pipeline import Pipeline\n",
        "from sklearn.linear_model import ElasticNet"
      ]
    },
    {
      "cell_type": "code",
      "execution_count": null,
      "metadata": {
        "id": "jPaiIPSr4lHR"
      },
      "outputs": [],
      "source": [
        "y = data['Exited']\n",
        "x = data.drop('Exited', axis=1)"
      ]
    },
    {
      "cell_type": "code",
      "execution_count": null,
      "metadata": {
        "id": "KIP88Sf14lHR"
      },
      "outputs": [],
      "source": [
        "x_train, x_val, y_train, y_val = train_test_split(x, y, test_size=0.25)"
      ]
    },
    {
      "cell_type": "code",
      "execution_count": null,
      "metadata": {
        "id": "U1TlcGWF4lHR"
      },
      "outputs": [],
      "source": [
        "from sklearn.linear_model import ElasticNet"
      ]
    },
    {
      "cell_type": "code",
      "execution_count": null,
      "metadata": {
        "id": "Ta-zer0q4lHR"
      },
      "outputs": [],
      "source": [
        "from sklearn.metrics import mean_squared_error"
      ]
    },
    {
      "cell_type": "code",
      "execution_count": null,
      "metadata": {
        "scrolled": false,
        "id": "Io3S9NC-4lHR",
        "outputId": "3627e17d-a4a4-41c2-ea66-531d91bd1c4c"
      },
      "outputs": [
        {
          "name": "stdout",
          "output_type": "stream",
          "text": [
            "Accuracy_score 0.8612\n",
            "F1 0.5678704856787049\n"
          ]
        }
      ],
      "source": [
        "tr = ColumnTransformer([(\"scaler\", StandardScaler(), [0, 3, 5]),\n",
        "                        (\"imputer\", SimpleImputer(fill_value=0, strategy=\"median\"), [4]), \n",
        "                        (\"ohe\", OneHotEncoder(sparse=False), [1, 2]),],\n",
        "                        remainder=\"passthrough\"\n",
        "                      )\n",
        "\n",
        "\n",
        "pipe = Pipeline([\n",
        "                 (\"colum\", tr),\n",
        "                 (\"model\", RandomForestClassifier()) \n",
        "                ])\n",
        "\n",
        "pipe.fit(x_train, y_train)\n",
        "y_pr = pipe.predict(x_val)\n",
        "mse2 = mean_squared_error(y_val, y_pr, squared=False)\n",
        "print('Accuracy_score', accuracy_score(y_val, y_pr))\n",
        "print('F1', f1_score(y_val, y_pr))"
      ]
    },
    {
      "cell_type": "code",
      "execution_count": null,
      "metadata": {
        "id": "dqNGYIuD4lHS"
      },
      "outputs": [],
      "source": [
        "params = \\\n",
        "     {\"classifier__max_depth\": range(1, 10, 2),\n",
        "     \"classifier__n_estimators\": range(10, 50, 10),\n",
        "     \"classifier__max_depth\": range(2, 6, 2),\n",
        "     'classifier__random_state': [12345]}\n"
      ]
    },
    {
      "cell_type": "code",
      "execution_count": null,
      "metadata": {
        "id": "xyAzVWkC4lHS"
      },
      "outputs": [],
      "source": [
        "from sklearn.model_selection import GridSearchCV"
      ]
    },
    {
      "cell_type": "code",
      "execution_count": null,
      "metadata": {
        "id": "19H3RPu44lHS"
      },
      "outputs": [],
      "source": [
        "from sklearn.ensemble import RandomForestRegressor"
      ]
    },
    {
      "cell_type": "code",
      "execution_count": null,
      "metadata": {
        "id": "UcKmU5vn4lHS"
      },
      "outputs": [],
      "source": [
        "from sklearn.metrics import accuracy_score"
      ]
    },
    {
      "cell_type": "code",
      "execution_count": null,
      "metadata": {
        "id": "dVPHk6Fi4lHS"
      },
      "outputs": [],
      "source": [
        "from sklearn.pipeline import Pipeline"
      ]
    },
    {
      "cell_type": "code",
      "execution_count": null,
      "metadata": {
        "id": "ZbONGrJN4lHS",
        "outputId": "a1f9ae5b-db2b-4809-fa1b-631c2dbbec04"
      },
      "outputs": [
        {
          "data": {
            "text/plain": [
              "(7500, 10)"
            ]
          },
          "execution_count": 53,
          "metadata": {},
          "output_type": "execute_result"
        }
      ],
      "source": [
        "x_train.shape"
      ]
    },
    {
      "cell_type": "code",
      "execution_count": null,
      "metadata": {
        "id": "4MHRS2-B4lHS",
        "outputId": "eaad3d0c-aa0a-4b72-b2f6-8e64096a3574"
      },
      "outputs": [
        {
          "data": {
            "text/plain": [
              "(2500, 10)"
            ]
          },
          "execution_count": 54,
          "metadata": {},
          "output_type": "execute_result"
        }
      ],
      "source": [
        "x_val.shape"
      ]
    },
    {
      "cell_type": "code",
      "execution_count": null,
      "metadata": {
        "id": "c5wsIJpj4lHT",
        "outputId": "92ae868e-f5d5-4f29-fd4d-e4f32e9adf08"
      },
      "outputs": [
        {
          "data": {
            "text/plain": [
              "(7500,)"
            ]
          },
          "execution_count": 55,
          "metadata": {},
          "output_type": "execute_result"
        }
      ],
      "source": [
        "y_train.shape"
      ]
    },
    {
      "cell_type": "code",
      "execution_count": null,
      "metadata": {
        "id": "rXJcr7Kv4lHT",
        "outputId": "c2a5fc81-ede0-49b3-aeff-4847c944df09"
      },
      "outputs": [
        {
          "data": {
            "text/plain": [
              "(2500,)"
            ]
          },
          "execution_count": 56,
          "metadata": {},
          "output_type": "execute_result"
        }
      ],
      "source": [
        "y_val.shape"
      ]
    },
    {
      "cell_type": "code",
      "execution_count": null,
      "metadata": {
        "id": "4srps_SA4lHT"
      },
      "outputs": [],
      "source": [
        "tr = ColumnTransformer([(\"scaler\", StandardScaler(), [0, 3, 5]),\n",
        "                        (\"imputer\", SimpleImputer(fill_value=0, strategy=\"median\"), [4]), \n",
        "                        (\"ohe\", OneHotEncoder(sparse=False), [1, 2]),],\n",
        "                        remainder=\"passthrough\"\n",
        "                      )"
      ]
    },
    {
      "cell_type": "code",
      "execution_count": null,
      "metadata": {
        "scrolled": true,
        "id": "TstYRTKc4lHT",
        "outputId": "f55b2dc7-2ebd-411f-db3a-a291bc8afa5a"
      },
      "outputs": [
        {
          "name": "stdout",
          "output_type": "stream",
          "text": [
            "Accuracy_score 0.8656\n",
            "F1 0.5647668393782384\n"
          ]
        }
      ],
      "source": [
        "clf = RandomForestClassifier()\n",
        "steps = [('col', tr), ('classifier', clf)]\n",
        "pipe = Pipeline(steps)\n",
        "\n",
        "params = [{\"classifier__max_depth\": range(1, 20, 5),\n",
        "     \"classifier__n_estimators\": range(10,50, 10),\n",
        "     'classifier__random_state': [543]}]\n",
        "\n",
        "grid_search = GridSearchCV(pipe, params)\n",
        "\n",
        "grid_search.fit(x_train, y_train)\n",
        "predict = grid_search.predict(x_val)\n",
        "\n",
        "print('Accuracy_score', accuracy_score(y_val, predict))\n",
        "print('F1', f1_score(y_val, predict))"
      ]
    },
    {
      "cell_type": "code",
      "execution_count": null,
      "metadata": {
        "scrolled": true,
        "id": "i30Ssx9g4lHT",
        "outputId": "d0f6c90b-5735-408d-90f6-6b849c2344c2"
      },
      "outputs": [
        {
          "data": {
            "text/plain": [
              "Pipeline(steps=[('col',\n",
              "                 ColumnTransformer(remainder='passthrough',\n",
              "                                   transformers=[('scaler', StandardScaler(),\n",
              "                                                  [0, 3, 5]),\n",
              "                                                 ('imputer',\n",
              "                                                  SimpleImputer(fill_value=0,\n",
              "                                                                strategy='median'),\n",
              "                                                  [4]),\n",
              "                                                 ('ohe',\n",
              "                                                  OneHotEncoder(sparse=False),\n",
              "                                                  [1, 2])])),\n",
              "                ('classifier',\n",
              "                 RandomForestClassifier(max_depth=11, n_estimators=40,\n",
              "                                        random_state=543))])"
            ]
          },
          "execution_count": 59,
          "metadata": {},
          "output_type": "execute_result"
        }
      ],
      "source": [
        "grid_search.best_estimator_"
      ]
    },
    {
      "cell_type": "code",
      "execution_count": null,
      "metadata": {
        "scrolled": true,
        "id": "DqDoLiv44lHT",
        "outputId": "f2b14c9e-837c-4794-b9fd-03bff301288f"
      },
      "outputs": [
        {
          "name": "stdout",
          "output_type": "stream",
          "text": [
            "Accuracy_score 0.8612\n",
            "F1 0.5678704856787049\n"
          ]
        }
      ],
      "source": [
        "print('Accuracy_score', accuracy_score(y_val, y_pr))\n",
        "print('F1', f1_score(y_val, y_pr))"
      ]
    },
    {
      "cell_type": "code",
      "execution_count": null,
      "metadata": {
        "scrolled": true,
        "id": "ud3EQ0Do4lHU",
        "outputId": "95adfb32-8810-4eaa-c1c1-018a80691ad4"
      },
      "outputs": [
        {
          "data": {
            "text/plain": [
              "(2500,)"
            ]
          },
          "execution_count": 61,
          "metadata": {},
          "output_type": "execute_result"
        }
      ],
      "source": [
        "target_valid.shape"
      ]
    },
    {
      "cell_type": "code",
      "execution_count": null,
      "metadata": {
        "id": "siNaVy7B4lHU",
        "outputId": "fb451ecf-93b5-43aa-e612-66b71ad088ec"
      },
      "outputs": [
        {
          "data": {
            "text/plain": [
              "(2500,)"
            ]
          },
          "execution_count": 62,
          "metadata": {},
          "output_type": "execute_result"
        }
      ],
      "source": [
        "predict.shape"
      ]
    },
    {
      "cell_type": "markdown",
      "metadata": {
        "id": "0q3_b6B54lHU"
      },
      "source": [
        "Случайный лес\n",
        "Accuracy_score 0.8196\n",
        "F1 0.62880658436214"
      ]
    },
    {
      "cell_type": "markdown",
      "metadata": {
        "id": "Ri8BzkrT4lHU"
      },
      "source": [
        "Поставьте 'x' в выполненных пунктах. Далее нажмите Shift+Enter."
      ]
    },
    {
      "cell_type": "code",
      "execution_count": null,
      "metadata": {
        "id": "HMuEy5Aq4lHV"
      },
      "outputs": [],
      "source": [
        ""
      ]
    }
  ],
  "metadata": {
    "ExecuteTimeLog": [
      {
        "duration": 893,
        "start_time": "2022-01-26T16:07:29.486Z"
      },
      {
        "duration": 39,
        "start_time": "2022-01-26T16:07:30.506Z"
      },
      {
        "duration": 32,
        "start_time": "2022-01-26T16:07:30.960Z"
      },
      {
        "duration": 401,
        "start_time": "2022-01-26T16:09:55.319Z"
      },
      {
        "duration": 391,
        "start_time": "2022-01-26T16:09:59.932Z"
      },
      {
        "duration": 43,
        "start_time": "2022-01-26T16:10:00.342Z"
      },
      {
        "duration": 25,
        "start_time": "2022-01-26T16:10:00.730Z"
      },
      {
        "duration": 336,
        "start_time": "2022-01-26T16:10:28.151Z"
      },
      {
        "duration": 4521,
        "start_time": "2022-01-26T16:10:36.643Z"
      },
      {
        "duration": 36,
        "start_time": "2022-01-26T16:10:44.331Z"
      },
      {
        "duration": 23,
        "start_time": "2022-01-26T16:10:45.251Z"
      },
      {
        "duration": 469,
        "start_time": "2022-01-26T16:10:47.473Z"
      },
      {
        "duration": 323,
        "start_time": "2022-01-26T16:11:02.106Z"
      },
      {
        "duration": 4357,
        "start_time": "2022-01-26T16:11:14.040Z"
      },
      {
        "duration": 50,
        "start_time": "2022-01-26T16:11:29.396Z"
      },
      {
        "duration": 21,
        "start_time": "2022-01-26T16:11:29.803Z"
      },
      {
        "duration": 442,
        "start_time": "2022-01-26T16:11:30.415Z"
      },
      {
        "duration": 3431,
        "start_time": "2022-01-26T16:11:41.145Z"
      },
      {
        "duration": 38,
        "start_time": "2022-01-26T16:11:48.688Z"
      },
      {
        "duration": 31,
        "start_time": "2022-01-26T16:11:49.267Z"
      },
      {
        "duration": 313,
        "start_time": "2022-01-26T16:11:49.888Z"
      },
      {
        "duration": 1322,
        "start_time": "2022-01-26T16:11:57.265Z"
      },
      {
        "duration": 1526,
        "start_time": "2022-01-26T16:12:12.693Z"
      },
      {
        "duration": 3527,
        "start_time": "2022-01-26T16:12:36.222Z"
      },
      {
        "duration": 5312,
        "start_time": "2022-01-26T16:12:44.353Z"
      },
      {
        "duration": 37,
        "start_time": "2022-01-26T16:12:49.670Z"
      },
      {
        "duration": 33,
        "start_time": "2022-01-26T16:12:49.710Z"
      },
      {
        "duration": 1790,
        "start_time": "2022-01-26T16:12:49.746Z"
      },
      {
        "duration": 4838,
        "start_time": "2022-01-26T16:13:34.531Z"
      },
      {
        "duration": 40,
        "start_time": "2022-01-26T16:13:39.372Z"
      },
      {
        "duration": 26,
        "start_time": "2022-01-26T16:13:39.415Z"
      },
      {
        "duration": 1297,
        "start_time": "2022-01-26T16:13:39.443Z"
      },
      {
        "duration": 12,
        "start_time": "2022-01-26T16:14:22.541Z"
      },
      {
        "duration": 4801,
        "start_time": "2022-01-26T16:20:50.853Z"
      },
      {
        "duration": 34,
        "start_time": "2022-01-26T16:20:55.657Z"
      },
      {
        "duration": 25,
        "start_time": "2022-01-26T16:20:55.694Z"
      },
      {
        "duration": 1281,
        "start_time": "2022-01-26T16:20:55.722Z"
      },
      {
        "duration": 11,
        "start_time": "2022-01-26T16:20:57.005Z"
      },
      {
        "duration": 1597,
        "start_time": "2022-01-26T16:20:57.019Z"
      },
      {
        "duration": 611,
        "start_time": "2022-01-26T16:22:26.876Z"
      },
      {
        "duration": 38467,
        "start_time": "2022-01-26T16:22:32.307Z"
      },
      {
        "duration": 39961,
        "start_time": "2022-01-26T16:23:24.982Z"
      },
      {
        "duration": 7,
        "start_time": "2022-01-26T16:26:20.968Z"
      },
      {
        "duration": 308,
        "start_time": "2022-01-26T16:35:51.006Z"
      },
      {
        "duration": 4692,
        "start_time": "2022-01-26T16:39:36.904Z"
      },
      {
        "duration": 39,
        "start_time": "2022-01-26T16:39:41.599Z"
      },
      {
        "duration": 31,
        "start_time": "2022-01-26T16:39:41.641Z"
      },
      {
        "duration": 1329,
        "start_time": "2022-01-26T16:39:41.676Z"
      },
      {
        "duration": 11,
        "start_time": "2022-01-26T16:39:43.008Z"
      },
      {
        "duration": 1483,
        "start_time": "2022-01-26T16:39:43.022Z"
      },
      {
        "duration": 37973,
        "start_time": "2022-01-26T16:39:44.508Z"
      },
      {
        "duration": 7,
        "start_time": "2022-01-26T16:40:22.484Z"
      },
      {
        "duration": 28,
        "start_time": "2022-01-26T16:40:22.494Z"
      },
      {
        "duration": 100,
        "start_time": "2022-01-26T16:40:22.524Z"
      },
      {
        "duration": 102,
        "start_time": "2022-01-26T16:41:17.941Z"
      },
      {
        "duration": 10,
        "start_time": "2022-01-26T16:43:16.031Z"
      },
      {
        "duration": 450,
        "start_time": "2022-01-26T16:43:27.798Z"
      },
      {
        "duration": 6,
        "start_time": "2022-01-26T16:43:32.023Z"
      },
      {
        "duration": 5,
        "start_time": "2022-01-26T16:43:44.622Z"
      },
      {
        "duration": 6,
        "start_time": "2022-01-26T16:43:59.241Z"
      },
      {
        "duration": 343,
        "start_time": "2022-01-26T18:16:53.081Z"
      },
      {
        "duration": 4983,
        "start_time": "2022-01-26T18:17:17.127Z"
      },
      {
        "duration": 37,
        "start_time": "2022-01-26T18:17:22.112Z"
      },
      {
        "duration": 31,
        "start_time": "2022-01-26T18:17:22.151Z"
      },
      {
        "duration": 1329,
        "start_time": "2022-01-26T18:17:22.185Z"
      },
      {
        "duration": 13,
        "start_time": "2022-01-26T18:17:23.516Z"
      },
      {
        "duration": 1458,
        "start_time": "2022-01-26T18:17:23.531Z"
      },
      {
        "duration": 38666,
        "start_time": "2022-01-26T18:17:24.992Z"
      },
      {
        "duration": 10,
        "start_time": "2022-01-26T18:18:03.662Z"
      },
      {
        "duration": 15,
        "start_time": "2022-01-26T18:18:03.676Z"
      },
      {
        "duration": 13,
        "start_time": "2022-01-26T18:18:03.694Z"
      },
      {
        "duration": 7,
        "start_time": "2022-01-26T18:18:03.709Z"
      },
      {
        "duration": 54,
        "start_time": "2022-01-26T18:18:03.719Z"
      },
      {
        "duration": 7,
        "start_time": "2022-01-26T18:18:03.776Z"
      },
      {
        "duration": 494,
        "start_time": "2022-01-26T18:18:03.788Z"
      },
      {
        "duration": -2023,
        "start_time": "2022-01-26T18:18:06.308Z"
      },
      {
        "duration": -2031,
        "start_time": "2022-01-26T18:18:06.318Z"
      },
      {
        "duration": 6,
        "start_time": "2022-01-26T18:20:53.931Z"
      },
      {
        "duration": 344,
        "start_time": "2022-01-26T18:21:23.505Z"
      },
      {
        "duration": 5293,
        "start_time": "2022-01-26T18:21:31.006Z"
      },
      {
        "duration": 36,
        "start_time": "2022-01-26T18:21:36.302Z"
      },
      {
        "duration": 31,
        "start_time": "2022-01-26T18:21:36.341Z"
      },
      {
        "duration": 1333,
        "start_time": "2022-01-26T18:21:36.375Z"
      },
      {
        "duration": 12,
        "start_time": "2022-01-26T18:21:37.710Z"
      },
      {
        "duration": 1694,
        "start_time": "2022-01-26T18:21:37.725Z"
      },
      {
        "duration": 37480,
        "start_time": "2022-01-26T18:21:39.421Z"
      },
      {
        "duration": 6,
        "start_time": "2022-01-26T18:22:16.905Z"
      },
      {
        "duration": 14,
        "start_time": "2022-01-26T18:22:16.913Z"
      },
      {
        "duration": 39,
        "start_time": "2022-01-26T18:22:16.930Z"
      },
      {
        "duration": 6,
        "start_time": "2022-01-26T18:22:16.972Z"
      },
      {
        "duration": 7,
        "start_time": "2022-01-26T18:22:16.981Z"
      },
      {
        "duration": 6,
        "start_time": "2022-01-26T18:22:16.991Z"
      },
      {
        "duration": 8,
        "start_time": "2022-01-26T18:22:17.000Z"
      },
      {
        "duration": 6,
        "start_time": "2022-01-26T18:22:17.010Z"
      },
      {
        "duration": 108,
        "start_time": "2022-01-26T18:22:17.070Z"
      },
      {
        "duration": 447,
        "start_time": "2022-01-26T18:23:16.541Z"
      },
      {
        "duration": 27,
        "start_time": "2022-01-26T18:23:38.715Z"
      },
      {
        "duration": 18,
        "start_time": "2022-01-26T18:24:13.844Z"
      },
      {
        "duration": 436,
        "start_time": "2022-01-26T18:24:36.458Z"
      },
      {
        "duration": 15,
        "start_time": "2022-01-26T18:24:49.315Z"
      },
      {
        "duration": 12,
        "start_time": "2022-01-26T18:24:50.672Z"
      },
      {
        "duration": 4677,
        "start_time": "2022-01-26T18:25:17.218Z"
      },
      {
        "duration": 36,
        "start_time": "2022-01-26T18:25:21.898Z"
      },
      {
        "duration": 34,
        "start_time": "2022-01-26T18:25:21.937Z"
      },
      {
        "duration": 1338,
        "start_time": "2022-01-26T18:25:21.973Z"
      },
      {
        "duration": 13,
        "start_time": "2022-01-26T18:25:23.313Z"
      },
      {
        "duration": 1496,
        "start_time": "2022-01-26T18:25:23.329Z"
      },
      {
        "duration": 38122,
        "start_time": "2022-01-26T18:25:24.827Z"
      },
      {
        "duration": 19,
        "start_time": "2022-01-26T18:26:02.953Z"
      },
      {
        "duration": 10,
        "start_time": "2022-01-26T18:26:02.975Z"
      },
      {
        "duration": 7,
        "start_time": "2022-01-26T18:26:02.988Z"
      },
      {
        "duration": 7,
        "start_time": "2022-01-26T18:26:02.998Z"
      },
      {
        "duration": 13,
        "start_time": "2022-01-26T18:26:03.010Z"
      },
      {
        "duration": 44,
        "start_time": "2022-01-26T18:26:03.026Z"
      },
      {
        "duration": 8,
        "start_time": "2022-01-26T18:26:03.073Z"
      },
      {
        "duration": 10,
        "start_time": "2022-01-26T18:26:03.084Z"
      },
      {
        "duration": 479,
        "start_time": "2022-01-26T18:26:03.096Z"
      },
      {
        "duration": -2154,
        "start_time": "2022-01-26T18:26:05.732Z"
      },
      {
        "duration": 6,
        "start_time": "2022-01-26T18:28:45.578Z"
      },
      {
        "duration": 17,
        "start_time": "2022-01-26T18:28:54.215Z"
      },
      {
        "duration": 13,
        "start_time": "2022-01-26T18:29:30.525Z"
      },
      {
        "duration": 16,
        "start_time": "2022-01-26T18:29:33.867Z"
      },
      {
        "duration": 4923,
        "start_time": "2022-01-26T18:29:43.363Z"
      },
      {
        "duration": 35,
        "start_time": "2022-01-26T18:29:48.289Z"
      },
      {
        "duration": 25,
        "start_time": "2022-01-26T18:29:48.327Z"
      },
      {
        "duration": 1380,
        "start_time": "2022-01-26T18:29:48.355Z"
      },
      {
        "duration": 12,
        "start_time": "2022-01-26T18:29:49.737Z"
      },
      {
        "duration": 1486,
        "start_time": "2022-01-26T18:29:49.751Z"
      },
      {
        "duration": 41574,
        "start_time": "2022-01-26T18:29:51.241Z"
      },
      {
        "duration": 7,
        "start_time": "2022-01-26T18:30:32.819Z"
      },
      {
        "duration": 40,
        "start_time": "2022-01-26T18:30:32.829Z"
      },
      {
        "duration": 9,
        "start_time": "2022-01-26T18:30:32.872Z"
      },
      {
        "duration": 11,
        "start_time": "2022-01-26T18:30:32.884Z"
      },
      {
        "duration": 9,
        "start_time": "2022-01-26T18:30:32.899Z"
      },
      {
        "duration": 7,
        "start_time": "2022-01-26T18:30:32.910Z"
      },
      {
        "duration": 9,
        "start_time": "2022-01-26T18:30:32.920Z"
      },
      {
        "duration": 37,
        "start_time": "2022-01-26T18:30:32.932Z"
      },
      {
        "duration": 16,
        "start_time": "2022-01-26T18:30:32.972Z"
      },
      {
        "duration": 20,
        "start_time": "2022-01-26T18:30:32.990Z"
      },
      {
        "duration": 8279,
        "start_time": "2022-01-26T18:31:51.098Z"
      },
      {
        "duration": 15,
        "start_time": "2022-01-26T18:32:01.323Z"
      },
      {
        "duration": 18,
        "start_time": "2022-01-26T18:32:05.921Z"
      },
      {
        "duration": 12,
        "start_time": "2022-01-26T18:32:13.308Z"
      },
      {
        "duration": 342,
        "start_time": "2022-01-26T18:37:58.291Z"
      },
      {
        "duration": 4869,
        "start_time": "2022-01-26T18:39:14.542Z"
      },
      {
        "duration": 36,
        "start_time": "2022-01-26T18:39:19.414Z"
      },
      {
        "duration": 29,
        "start_time": "2022-01-26T18:39:19.453Z"
      },
      {
        "duration": 1427,
        "start_time": "2022-01-26T18:39:19.485Z"
      },
      {
        "duration": 13,
        "start_time": "2022-01-26T18:39:20.914Z"
      },
      {
        "duration": 2199,
        "start_time": "2022-01-26T18:39:20.930Z"
      },
      {
        "duration": 40295,
        "start_time": "2022-01-26T18:39:23.131Z"
      },
      {
        "duration": 8,
        "start_time": "2022-01-26T18:40:03.429Z"
      },
      {
        "duration": 35,
        "start_time": "2022-01-26T18:40:03.444Z"
      },
      {
        "duration": 14,
        "start_time": "2022-01-26T18:40:03.483Z"
      },
      {
        "duration": 23,
        "start_time": "2022-01-26T18:40:03.499Z"
      },
      {
        "duration": 20,
        "start_time": "2022-01-26T18:40:03.525Z"
      },
      {
        "duration": 23,
        "start_time": "2022-01-26T18:40:03.548Z"
      },
      {
        "duration": 13,
        "start_time": "2022-01-26T18:40:03.574Z"
      },
      {
        "duration": 9,
        "start_time": "2022-01-26T18:40:03.591Z"
      },
      {
        "duration": 22,
        "start_time": "2022-01-26T18:40:03.603Z"
      },
      {
        "duration": 41,
        "start_time": "2022-01-26T18:40:03.628Z"
      },
      {
        "duration": 613,
        "start_time": "2022-01-26T18:40:03.672Z"
      },
      {
        "duration": 5227,
        "start_time": "2022-01-26T18:40:55.098Z"
      },
      {
        "duration": 49,
        "start_time": "2022-01-26T18:41:00.329Z"
      },
      {
        "duration": 40,
        "start_time": "2022-01-26T18:41:00.382Z"
      },
      {
        "duration": 1792,
        "start_time": "2022-01-26T18:41:00.426Z"
      },
      {
        "duration": 18,
        "start_time": "2022-01-26T18:41:02.222Z"
      },
      {
        "duration": 2133,
        "start_time": "2022-01-26T18:41:02.244Z"
      },
      {
        "duration": 41843,
        "start_time": "2022-01-26T18:41:04.381Z"
      },
      {
        "duration": 6,
        "start_time": "2022-01-26T18:41:46.227Z"
      },
      {
        "duration": 34,
        "start_time": "2022-01-26T18:41:46.235Z"
      },
      {
        "duration": 8,
        "start_time": "2022-01-26T18:41:46.272Z"
      },
      {
        "duration": 5,
        "start_time": "2022-01-26T18:41:46.283Z"
      },
      {
        "duration": 5,
        "start_time": "2022-01-26T18:41:46.292Z"
      },
      {
        "duration": 6,
        "start_time": "2022-01-26T18:41:46.299Z"
      },
      {
        "duration": 11,
        "start_time": "2022-01-26T18:41:46.308Z"
      },
      {
        "duration": 3,
        "start_time": "2022-01-26T18:41:46.370Z"
      },
      {
        "duration": 22,
        "start_time": "2022-01-26T18:41:46.376Z"
      },
      {
        "duration": 20,
        "start_time": "2022-01-26T18:41:46.401Z"
      },
      {
        "duration": 4918,
        "start_time": "2022-01-26T18:43:25.104Z"
      },
      {
        "duration": 47,
        "start_time": "2022-01-26T18:43:30.025Z"
      },
      {
        "duration": 28,
        "start_time": "2022-01-26T18:43:30.075Z"
      },
      {
        "duration": 1306,
        "start_time": "2022-01-26T18:43:30.107Z"
      },
      {
        "duration": 12,
        "start_time": "2022-01-26T18:43:31.415Z"
      },
      {
        "duration": 1601,
        "start_time": "2022-01-26T18:43:31.430Z"
      },
      {
        "duration": 37499,
        "start_time": "2022-01-26T18:43:33.034Z"
      },
      {
        "duration": 6,
        "start_time": "2022-01-26T18:44:10.535Z"
      },
      {
        "duration": 30,
        "start_time": "2022-01-26T18:44:10.545Z"
      },
      {
        "duration": 9,
        "start_time": "2022-01-26T18:44:10.578Z"
      },
      {
        "duration": 5,
        "start_time": "2022-01-26T18:44:10.589Z"
      },
      {
        "duration": 5,
        "start_time": "2022-01-26T18:44:10.596Z"
      },
      {
        "duration": 7,
        "start_time": "2022-01-26T18:44:10.603Z"
      },
      {
        "duration": 5,
        "start_time": "2022-01-26T18:44:10.613Z"
      },
      {
        "duration": 49,
        "start_time": "2022-01-26T18:44:10.621Z"
      },
      {
        "duration": 23,
        "start_time": "2022-01-26T18:44:10.673Z"
      },
      {
        "duration": 17,
        "start_time": "2022-01-26T18:44:10.698Z"
      },
      {
        "duration": 5003,
        "start_time": "2022-01-26T19:19:32.599Z"
      },
      {
        "duration": 36,
        "start_time": "2022-01-26T19:19:37.605Z"
      },
      {
        "duration": 34,
        "start_time": "2022-01-26T19:19:37.645Z"
      },
      {
        "duration": 1326,
        "start_time": "2022-01-26T19:19:37.682Z"
      },
      {
        "duration": 12,
        "start_time": "2022-01-26T19:19:39.011Z"
      },
      {
        "duration": 1481,
        "start_time": "2022-01-26T19:19:39.027Z"
      },
      {
        "duration": 40581,
        "start_time": "2022-01-26T19:19:40.510Z"
      },
      {
        "duration": 8,
        "start_time": "2022-01-26T19:20:21.094Z"
      },
      {
        "duration": 23,
        "start_time": "2022-01-26T19:20:21.106Z"
      },
      {
        "duration": 19,
        "start_time": "2022-01-26T19:20:21.170Z"
      },
      {
        "duration": 8,
        "start_time": "2022-01-26T19:20:21.192Z"
      },
      {
        "duration": 10,
        "start_time": "2022-01-26T19:20:21.202Z"
      },
      {
        "duration": 57,
        "start_time": "2022-01-26T19:20:21.214Z"
      },
      {
        "duration": 7,
        "start_time": "2022-01-26T19:20:21.275Z"
      },
      {
        "duration": 8,
        "start_time": "2022-01-26T19:20:21.285Z"
      },
      {
        "duration": 8,
        "start_time": "2022-01-26T19:20:21.296Z"
      },
      {
        "duration": 9,
        "start_time": "2022-01-26T19:21:32.773Z"
      },
      {
        "duration": 105235,
        "start_time": "2022-01-27T05:03:38.639Z"
      },
      {
        "duration": -13,
        "start_time": "2022-01-27T05:05:23.890Z"
      },
      {
        "duration": -16,
        "start_time": "2022-01-27T05:05:23.894Z"
      },
      {
        "duration": -19,
        "start_time": "2022-01-27T05:05:23.898Z"
      },
      {
        "duration": -22,
        "start_time": "2022-01-27T05:05:23.902Z"
      },
      {
        "duration": -25,
        "start_time": "2022-01-27T05:05:23.906Z"
      },
      {
        "duration": -29,
        "start_time": "2022-01-27T05:05:23.911Z"
      },
      {
        "duration": -31,
        "start_time": "2022-01-27T05:05:23.914Z"
      },
      {
        "duration": -35,
        "start_time": "2022-01-27T05:05:23.919Z"
      },
      {
        "duration": -38,
        "start_time": "2022-01-27T05:05:23.923Z"
      },
      {
        "duration": -39,
        "start_time": "2022-01-27T05:05:23.926Z"
      },
      {
        "duration": -42,
        "start_time": "2022-01-27T05:05:23.930Z"
      },
      {
        "duration": -46,
        "start_time": "2022-01-27T05:05:23.935Z"
      },
      {
        "duration": -48,
        "start_time": "2022-01-27T05:05:23.938Z"
      },
      {
        "duration": -50,
        "start_time": "2022-01-27T05:05:23.941Z"
      },
      {
        "duration": -51,
        "start_time": "2022-01-27T05:05:23.944Z"
      },
      {
        "duration": -54,
        "start_time": "2022-01-27T05:05:23.948Z"
      },
      {
        "duration": -56,
        "start_time": "2022-01-27T05:05:23.951Z"
      },
      {
        "duration": 1123,
        "start_time": "2022-01-27T05:07:50.213Z"
      },
      {
        "duration": 29,
        "start_time": "2022-01-27T05:07:51.338Z"
      },
      {
        "duration": 16,
        "start_time": "2022-01-27T05:07:51.369Z"
      },
      {
        "duration": 12,
        "start_time": "2022-01-27T05:07:51.386Z"
      },
      {
        "duration": 1025,
        "start_time": "2022-01-27T05:07:51.400Z"
      },
      {
        "duration": 24846,
        "start_time": "2022-01-27T05:07:52.426Z"
      },
      {
        "duration": 5,
        "start_time": "2022-01-27T05:08:17.274Z"
      },
      {
        "duration": 30,
        "start_time": "2022-01-27T05:08:17.281Z"
      },
      {
        "duration": 13,
        "start_time": "2022-01-27T05:08:17.314Z"
      },
      {
        "duration": 8,
        "start_time": "2022-01-27T05:08:17.328Z"
      },
      {
        "duration": 8,
        "start_time": "2022-01-27T05:08:17.338Z"
      },
      {
        "duration": 8,
        "start_time": "2022-01-27T05:08:17.348Z"
      },
      {
        "duration": 5,
        "start_time": "2022-01-27T05:08:17.358Z"
      },
      {
        "duration": 35,
        "start_time": "2022-01-27T05:08:17.365Z"
      },
      {
        "duration": 4,
        "start_time": "2022-01-27T05:08:17.401Z"
      },
      {
        "duration": 8,
        "start_time": "2022-01-27T05:08:17.406Z"
      },
      {
        "duration": 176,
        "start_time": "2022-01-27T05:08:17.416Z"
      },
      {
        "duration": 36,
        "start_time": "2022-01-27T05:15:03.049Z"
      },
      {
        "duration": 3,
        "start_time": "2022-01-27T05:15:56.821Z"
      },
      {
        "duration": 1236,
        "start_time": "2022-01-27T05:19:11.093Z"
      },
      {
        "duration": 30,
        "start_time": "2022-01-27T05:19:12.331Z"
      },
      {
        "duration": 17,
        "start_time": "2022-01-27T05:19:12.363Z"
      },
      {
        "duration": 9,
        "start_time": "2022-01-27T05:19:12.381Z"
      },
      {
        "duration": 1089,
        "start_time": "2022-01-27T05:19:12.391Z"
      },
      {
        "duration": 24230,
        "start_time": "2022-01-27T05:19:13.481Z"
      },
      {
        "duration": 5,
        "start_time": "2022-01-27T05:19:37.712Z"
      },
      {
        "duration": 37,
        "start_time": "2022-01-27T05:19:37.719Z"
      },
      {
        "duration": 25,
        "start_time": "2022-01-27T05:19:37.758Z"
      },
      {
        "duration": 34,
        "start_time": "2022-01-27T05:19:37.784Z"
      },
      {
        "duration": 22,
        "start_time": "2022-01-27T05:19:37.820Z"
      },
      {
        "duration": 29,
        "start_time": "2022-01-27T05:19:37.844Z"
      },
      {
        "duration": 13,
        "start_time": "2022-01-27T05:19:37.875Z"
      },
      {
        "duration": 29,
        "start_time": "2022-01-27T05:19:37.890Z"
      },
      {
        "duration": 27,
        "start_time": "2022-01-27T05:19:37.921Z"
      },
      {
        "duration": 21,
        "start_time": "2022-01-27T05:19:37.950Z"
      },
      {
        "duration": 183,
        "start_time": "2022-01-27T05:19:37.973Z"
      },
      {
        "duration": 332,
        "start_time": "2022-01-27T05:19:38.158Z"
      },
      {
        "duration": 8,
        "start_time": "2022-01-27T05:20:49.461Z"
      },
      {
        "duration": 1174,
        "start_time": "2022-01-27T05:22:07.834Z"
      },
      {
        "duration": 29,
        "start_time": "2022-01-27T05:22:09.010Z"
      },
      {
        "duration": 17,
        "start_time": "2022-01-27T05:22:09.041Z"
      },
      {
        "duration": 8,
        "start_time": "2022-01-27T05:22:09.060Z"
      },
      {
        "duration": 1037,
        "start_time": "2022-01-27T05:22:09.070Z"
      },
      {
        "duration": 24173,
        "start_time": "2022-01-27T05:22:10.109Z"
      },
      {
        "duration": 4,
        "start_time": "2022-01-27T05:22:34.284Z"
      },
      {
        "duration": 18,
        "start_time": "2022-01-27T05:22:34.290Z"
      },
      {
        "duration": 330,
        "start_time": "2022-01-27T05:22:34.310Z"
      },
      {
        "duration": -310,
        "start_time": "2022-01-27T05:22:34.952Z"
      },
      {
        "duration": -333,
        "start_time": "2022-01-27T05:22:34.976Z"
      },
      {
        "duration": -336,
        "start_time": "2022-01-27T05:22:34.980Z"
      },
      {
        "duration": -342,
        "start_time": "2022-01-27T05:22:34.987Z"
      },
      {
        "duration": -352,
        "start_time": "2022-01-27T05:22:34.998Z"
      },
      {
        "duration": -357,
        "start_time": "2022-01-27T05:22:35.004Z"
      },
      {
        "duration": -375,
        "start_time": "2022-01-27T05:22:35.023Z"
      },
      {
        "duration": -378,
        "start_time": "2022-01-27T05:22:35.027Z"
      },
      {
        "duration": -384,
        "start_time": "2022-01-27T05:22:35.034Z"
      },
      {
        "duration": -391,
        "start_time": "2022-01-27T05:22:35.042Z"
      },
      {
        "duration": -394,
        "start_time": "2022-01-27T05:22:35.046Z"
      },
      {
        "duration": 5,
        "start_time": "2022-01-27T05:25:00.646Z"
      },
      {
        "duration": 1212,
        "start_time": "2022-01-27T05:25:06.306Z"
      },
      {
        "duration": 29,
        "start_time": "2022-01-27T05:25:07.520Z"
      },
      {
        "duration": 41,
        "start_time": "2022-01-27T05:25:07.551Z"
      },
      {
        "duration": 26,
        "start_time": "2022-01-27T05:25:07.594Z"
      },
      {
        "duration": 1050,
        "start_time": "2022-01-27T05:25:07.622Z"
      },
      {
        "duration": 24368,
        "start_time": "2022-01-27T05:25:08.674Z"
      },
      {
        "duration": 4,
        "start_time": "2022-01-27T05:25:33.044Z"
      },
      {
        "duration": 19,
        "start_time": "2022-01-27T05:25:33.051Z"
      },
      {
        "duration": 5,
        "start_time": "2022-01-27T05:25:33.072Z"
      },
      {
        "duration": 21,
        "start_time": "2022-01-27T05:25:33.079Z"
      },
      {
        "duration": 13,
        "start_time": "2022-01-27T05:25:33.101Z"
      },
      {
        "duration": 9,
        "start_time": "2022-01-27T05:25:33.116Z"
      },
      {
        "duration": 5,
        "start_time": "2022-01-27T05:25:33.127Z"
      },
      {
        "duration": 9,
        "start_time": "2022-01-27T05:25:33.133Z"
      },
      {
        "duration": 10,
        "start_time": "2022-01-27T05:25:33.144Z"
      },
      {
        "duration": 6,
        "start_time": "2022-01-27T05:25:33.155Z"
      },
      {
        "duration": 6,
        "start_time": "2022-01-27T05:25:33.163Z"
      },
      {
        "duration": 3,
        "start_time": "2022-01-27T05:25:33.199Z"
      },
      {
        "duration": 7,
        "start_time": "2022-01-27T05:25:33.204Z"
      },
      {
        "duration": 168,
        "start_time": "2022-01-27T05:25:33.213Z"
      },
      {
        "duration": 121,
        "start_time": "2022-01-27T05:25:33.383Z"
      },
      {
        "duration": 1294,
        "start_time": "2022-01-27T05:27:39.076Z"
      },
      {
        "duration": 8,
        "start_time": "2022-01-27T05:28:14.279Z"
      },
      {
        "duration": 354,
        "start_time": "2022-01-27T05:37:19.920Z"
      },
      {
        "duration": 357,
        "start_time": "2022-01-27T05:38:24.082Z"
      },
      {
        "duration": 119,
        "start_time": "2022-01-27T05:39:02.730Z"
      },
      {
        "duration": 1504,
        "start_time": "2022-01-27T05:39:49.523Z"
      },
      {
        "duration": -26,
        "start_time": "2022-01-27T05:39:51.056Z"
      },
      {
        "duration": -29,
        "start_time": "2022-01-27T05:39:51.060Z"
      },
      {
        "duration": -44,
        "start_time": "2022-01-27T05:39:51.076Z"
      },
      {
        "duration": -54,
        "start_time": "2022-01-27T05:39:51.087Z"
      },
      {
        "duration": -58,
        "start_time": "2022-01-27T05:39:51.092Z"
      },
      {
        "duration": -67,
        "start_time": "2022-01-27T05:39:51.102Z"
      },
      {
        "duration": -70,
        "start_time": "2022-01-27T05:39:51.106Z"
      },
      {
        "duration": -77,
        "start_time": "2022-01-27T05:39:51.114Z"
      },
      {
        "duration": -88,
        "start_time": "2022-01-27T05:39:51.126Z"
      },
      {
        "duration": -97,
        "start_time": "2022-01-27T05:39:51.136Z"
      },
      {
        "duration": -99,
        "start_time": "2022-01-27T05:39:51.139Z"
      },
      {
        "duration": -102,
        "start_time": "2022-01-27T05:39:51.143Z"
      },
      {
        "duration": -111,
        "start_time": "2022-01-27T05:39:51.154Z"
      },
      {
        "duration": -114,
        "start_time": "2022-01-27T05:39:51.158Z"
      },
      {
        "duration": -124,
        "start_time": "2022-01-27T05:39:51.169Z"
      },
      {
        "duration": -126,
        "start_time": "2022-01-27T05:39:51.172Z"
      },
      {
        "duration": -128,
        "start_time": "2022-01-27T05:39:51.175Z"
      },
      {
        "duration": -138,
        "start_time": "2022-01-27T05:39:51.186Z"
      },
      {
        "duration": -141,
        "start_time": "2022-01-27T05:39:51.190Z"
      },
      {
        "duration": -151,
        "start_time": "2022-01-27T05:39:51.201Z"
      },
      {
        "duration": -154,
        "start_time": "2022-01-27T05:39:51.205Z"
      },
      {
        "duration": -157,
        "start_time": "2022-01-27T05:39:51.209Z"
      },
      {
        "duration": -166,
        "start_time": "2022-01-27T05:39:51.219Z"
      },
      {
        "duration": -169,
        "start_time": "2022-01-27T05:39:51.223Z"
      },
      {
        "duration": 1182,
        "start_time": "2022-01-27T05:40:17.723Z"
      },
      {
        "duration": 30,
        "start_time": "2022-01-27T05:40:18.907Z"
      },
      {
        "duration": 16,
        "start_time": "2022-01-27T05:40:18.939Z"
      },
      {
        "duration": 8,
        "start_time": "2022-01-27T05:40:18.957Z"
      },
      {
        "duration": 1040,
        "start_time": "2022-01-27T05:40:18.966Z"
      },
      {
        "duration": 24580,
        "start_time": "2022-01-27T05:40:20.008Z"
      },
      {
        "duration": 11,
        "start_time": "2022-01-27T05:40:44.590Z"
      },
      {
        "duration": 14,
        "start_time": "2022-01-27T05:40:44.605Z"
      },
      {
        "duration": 5,
        "start_time": "2022-01-27T05:40:44.622Z"
      },
      {
        "duration": 8,
        "start_time": "2022-01-27T05:40:44.629Z"
      },
      {
        "duration": 8,
        "start_time": "2022-01-27T05:40:44.639Z"
      },
      {
        "duration": 52,
        "start_time": "2022-01-27T05:40:44.649Z"
      },
      {
        "duration": 6,
        "start_time": "2022-01-27T05:40:44.703Z"
      },
      {
        "duration": 8,
        "start_time": "2022-01-27T05:40:44.711Z"
      },
      {
        "duration": 9,
        "start_time": "2022-01-27T05:40:44.721Z"
      },
      {
        "duration": 5,
        "start_time": "2022-01-27T05:40:44.732Z"
      },
      {
        "duration": 9,
        "start_time": "2022-01-27T05:40:44.739Z"
      },
      {
        "duration": 5,
        "start_time": "2022-01-27T05:40:44.750Z"
      },
      {
        "duration": 5,
        "start_time": "2022-01-27T05:40:44.757Z"
      },
      {
        "duration": 183,
        "start_time": "2022-01-27T05:40:44.763Z"
      },
      {
        "duration": 59,
        "start_time": "2022-01-27T05:40:44.948Z"
      },
      {
        "duration": 1491,
        "start_time": "2022-01-27T05:40:45.009Z"
      },
      {
        "duration": 8,
        "start_time": "2022-01-27T05:40:46.503Z"
      },
      {
        "duration": 126,
        "start_time": "2022-01-27T05:40:46.512Z"
      },
      {
        "duration": 6,
        "start_time": "2022-01-27T05:40:46.640Z"
      },
      {
        "duration": 40,
        "start_time": "2022-01-27T05:42:23.363Z"
      },
      {
        "duration": 5,
        "start_time": "2022-01-27T07:38:22.284Z"
      },
      {
        "duration": 139,
        "start_time": "2022-01-27T07:38:36.681Z"
      },
      {
        "duration": 4,
        "start_time": "2022-01-27T07:45:48.768Z"
      },
      {
        "duration": 8,
        "start_time": "2022-01-27T07:45:56.162Z"
      },
      {
        "duration": 8,
        "start_time": "2022-01-27T07:46:08.491Z"
      },
      {
        "duration": 9,
        "start_time": "2022-01-27T07:58:39.686Z"
      },
      {
        "duration": 1258,
        "start_time": "2022-01-27T09:07:49.174Z"
      },
      {
        "duration": 31,
        "start_time": "2022-01-27T09:07:50.434Z"
      },
      {
        "duration": 18,
        "start_time": "2022-01-27T09:07:50.467Z"
      },
      {
        "duration": 19,
        "start_time": "2022-01-27T09:07:50.487Z"
      },
      {
        "duration": 1057,
        "start_time": "2022-01-27T09:07:50.508Z"
      },
      {
        "duration": 25214,
        "start_time": "2022-01-27T09:07:51.567Z"
      },
      {
        "duration": 15,
        "start_time": "2022-01-27T09:08:16.784Z"
      },
      {
        "duration": 16,
        "start_time": "2022-01-27T09:08:16.801Z"
      },
      {
        "duration": 5,
        "start_time": "2022-01-27T09:08:16.819Z"
      },
      {
        "duration": 8,
        "start_time": "2022-01-27T09:08:16.826Z"
      },
      {
        "duration": 9,
        "start_time": "2022-01-27T09:08:16.836Z"
      },
      {
        "duration": 10,
        "start_time": "2022-01-27T09:08:16.846Z"
      },
      {
        "duration": 6,
        "start_time": "2022-01-27T09:08:16.858Z"
      },
      {
        "duration": 34,
        "start_time": "2022-01-27T09:08:16.865Z"
      },
      {
        "duration": 10,
        "start_time": "2022-01-27T09:08:16.900Z"
      },
      {
        "duration": 6,
        "start_time": "2022-01-27T09:08:16.912Z"
      },
      {
        "duration": 10,
        "start_time": "2022-01-27T09:08:16.920Z"
      },
      {
        "duration": 11,
        "start_time": "2022-01-27T09:08:16.932Z"
      },
      {
        "duration": 11,
        "start_time": "2022-01-27T09:08:16.944Z"
      },
      {
        "duration": 164,
        "start_time": "2022-01-27T09:08:16.957Z"
      },
      {
        "duration": 5,
        "start_time": "2022-01-27T09:08:17.122Z"
      },
      {
        "duration": 74,
        "start_time": "2022-01-27T09:08:17.128Z"
      },
      {
        "duration": 1470,
        "start_time": "2022-01-27T09:08:17.204Z"
      },
      {
        "duration": 8,
        "start_time": "2022-01-27T09:08:18.675Z"
      },
      {
        "duration": 130,
        "start_time": "2022-01-27T09:08:18.685Z"
      },
      {
        "duration": 9,
        "start_time": "2022-01-27T09:08:18.817Z"
      },
      {
        "duration": 11,
        "start_time": "2022-01-27T09:08:18.829Z"
      },
      {
        "duration": 15,
        "start_time": "2022-01-27T09:08:18.841Z"
      },
      {
        "duration": 141,
        "start_time": "2022-01-27T09:08:18.857Z"
      },
      {
        "duration": 119,
        "start_time": "2022-01-27T09:12:18.024Z"
      },
      {
        "duration": 127,
        "start_time": "2022-01-27T09:13:12.209Z"
      },
      {
        "duration": 1496,
        "start_time": "2022-01-27T09:13:19.442Z"
      },
      {
        "duration": 4,
        "start_time": "2022-01-27T09:15:57.849Z"
      },
      {
        "duration": 329,
        "start_time": "2022-01-27T09:15:59.621Z"
      },
      {
        "duration": 1257,
        "start_time": "2022-01-27T09:16:36.375Z"
      },
      {
        "duration": 30,
        "start_time": "2022-01-27T09:16:37.635Z"
      },
      {
        "duration": 21,
        "start_time": "2022-01-27T09:16:37.667Z"
      },
      {
        "duration": 14,
        "start_time": "2022-01-27T09:16:37.690Z"
      },
      {
        "duration": 1058,
        "start_time": "2022-01-27T09:16:37.706Z"
      },
      {
        "duration": 25589,
        "start_time": "2022-01-27T09:16:38.766Z"
      },
      {
        "duration": 4,
        "start_time": "2022-01-27T09:17:04.357Z"
      },
      {
        "duration": 42,
        "start_time": "2022-01-27T09:17:04.363Z"
      },
      {
        "duration": 24,
        "start_time": "2022-01-27T09:17:04.407Z"
      },
      {
        "duration": 21,
        "start_time": "2022-01-27T09:17:04.433Z"
      },
      {
        "duration": 17,
        "start_time": "2022-01-27T09:17:04.456Z"
      },
      {
        "duration": 35,
        "start_time": "2022-01-27T09:17:04.475Z"
      },
      {
        "duration": 9,
        "start_time": "2022-01-27T09:17:04.512Z"
      },
      {
        "duration": 27,
        "start_time": "2022-01-27T09:17:04.522Z"
      },
      {
        "duration": 24,
        "start_time": "2022-01-27T09:17:04.551Z"
      },
      {
        "duration": 32,
        "start_time": "2022-01-27T09:17:04.577Z"
      },
      {
        "duration": 15,
        "start_time": "2022-01-27T09:17:04.612Z"
      },
      {
        "duration": 21,
        "start_time": "2022-01-27T09:17:04.629Z"
      },
      {
        "duration": 25,
        "start_time": "2022-01-27T09:17:04.652Z"
      },
      {
        "duration": 183,
        "start_time": "2022-01-27T09:17:04.679Z"
      },
      {
        "duration": 6,
        "start_time": "2022-01-27T09:17:04.864Z"
      },
      {
        "duration": 126,
        "start_time": "2022-01-27T09:17:04.871Z"
      },
      {
        "duration": 1581,
        "start_time": "2022-01-27T09:17:05.002Z"
      },
      {
        "duration": 4,
        "start_time": "2022-01-27T09:17:06.585Z"
      },
      {
        "duration": 1204,
        "start_time": "2022-01-27T09:17:06.591Z"
      },
      {
        "duration": 225,
        "start_time": "2022-01-27T09:17:07.572Z"
      },
      {
        "duration": 204,
        "start_time": "2022-01-27T09:17:07.594Z"
      },
      {
        "duration": 201,
        "start_time": "2022-01-27T09:17:07.598Z"
      },
      {
        "duration": 201,
        "start_time": "2022-01-27T09:17:07.600Z"
      },
      {
        "duration": 198,
        "start_time": "2022-01-27T09:17:07.604Z"
      },
      {
        "duration": 188,
        "start_time": "2022-01-27T09:17:07.615Z"
      },
      {
        "duration": 29,
        "start_time": "2022-01-27T09:17:48.433Z"
      },
      {
        "duration": 9,
        "start_time": "2022-01-27T09:17:50.607Z"
      },
      {
        "duration": 1264,
        "start_time": "2022-01-27T09:18:02.479Z"
      },
      {
        "duration": 31,
        "start_time": "2022-01-27T09:18:03.746Z"
      },
      {
        "duration": 20,
        "start_time": "2022-01-27T09:18:03.779Z"
      },
      {
        "duration": 10,
        "start_time": "2022-01-27T09:18:03.802Z"
      },
      {
        "duration": 1070,
        "start_time": "2022-01-27T09:18:03.814Z"
      },
      {
        "duration": 26366,
        "start_time": "2022-01-27T09:18:04.886Z"
      },
      {
        "duration": 6,
        "start_time": "2022-01-27T09:18:31.254Z"
      },
      {
        "duration": 35,
        "start_time": "2022-01-27T09:18:31.263Z"
      },
      {
        "duration": 9,
        "start_time": "2022-01-27T09:18:31.301Z"
      },
      {
        "duration": 9,
        "start_time": "2022-01-27T09:18:31.312Z"
      },
      {
        "duration": 11,
        "start_time": "2022-01-27T09:18:31.323Z"
      },
      {
        "duration": 15,
        "start_time": "2022-01-27T09:18:31.336Z"
      },
      {
        "duration": 10,
        "start_time": "2022-01-27T09:18:31.353Z"
      },
      {
        "duration": 33,
        "start_time": "2022-01-27T09:18:31.365Z"
      },
      {
        "duration": 8,
        "start_time": "2022-01-27T09:18:31.401Z"
      },
      {
        "duration": 4,
        "start_time": "2022-01-27T09:18:31.412Z"
      },
      {
        "duration": 12,
        "start_time": "2022-01-27T09:18:31.419Z"
      },
      {
        "duration": 12,
        "start_time": "2022-01-27T09:18:31.434Z"
      },
      {
        "duration": 9,
        "start_time": "2022-01-27T09:18:31.447Z"
      },
      {
        "duration": 174,
        "start_time": "2022-01-27T09:18:31.458Z"
      },
      {
        "duration": 5,
        "start_time": "2022-01-27T09:18:31.634Z"
      },
      {
        "duration": 70,
        "start_time": "2022-01-27T09:18:31.641Z"
      },
      {
        "duration": 1581,
        "start_time": "2022-01-27T09:18:31.799Z"
      },
      {
        "duration": 38,
        "start_time": "2022-01-27T09:18:33.382Z"
      },
      {
        "duration": 8,
        "start_time": "2022-01-27T09:18:33.422Z"
      },
      {
        "duration": 144,
        "start_time": "2022-01-27T09:18:33.432Z"
      },
      {
        "duration": 6,
        "start_time": "2022-01-27T09:18:33.578Z"
      },
      {
        "duration": 23,
        "start_time": "2022-01-27T09:18:33.586Z"
      },
      {
        "duration": 22,
        "start_time": "2022-01-27T09:18:33.612Z"
      },
      {
        "duration": 93,
        "start_time": "2022-01-27T09:18:33.636Z"
      },
      {
        "duration": 1668,
        "start_time": "2022-01-27T09:18:33.732Z"
      },
      {
        "duration": 1853,
        "start_time": "2022-01-27T10:47:50.442Z"
      },
      {
        "duration": 42,
        "start_time": "2022-01-27T10:47:52.298Z"
      },
      {
        "duration": 38,
        "start_time": "2022-01-27T10:47:52.343Z"
      },
      {
        "duration": 13,
        "start_time": "2022-01-27T10:47:52.383Z"
      },
      {
        "duration": 1694,
        "start_time": "2022-01-27T10:47:52.398Z"
      },
      {
        "duration": 45058,
        "start_time": "2022-01-27T10:47:54.094Z"
      },
      {
        "duration": 6,
        "start_time": "2022-01-27T10:48:39.154Z"
      },
      {
        "duration": 33,
        "start_time": "2022-01-27T10:48:39.165Z"
      },
      {
        "duration": 6,
        "start_time": "2022-01-27T10:48:39.202Z"
      },
      {
        "duration": 37,
        "start_time": "2022-01-27T10:48:39.211Z"
      },
      {
        "duration": 36,
        "start_time": "2022-01-27T10:48:39.250Z"
      },
      {
        "duration": 14,
        "start_time": "2022-01-27T10:48:39.289Z"
      },
      {
        "duration": 5,
        "start_time": "2022-01-27T10:48:39.306Z"
      },
      {
        "duration": 8,
        "start_time": "2022-01-27T10:48:39.314Z"
      },
      {
        "duration": 16,
        "start_time": "2022-01-27T10:48:39.325Z"
      },
      {
        "duration": 31,
        "start_time": "2022-01-27T10:48:39.345Z"
      },
      {
        "duration": 6,
        "start_time": "2022-01-27T10:48:39.378Z"
      },
      {
        "duration": 6,
        "start_time": "2022-01-27T10:48:39.387Z"
      },
      {
        "duration": 9,
        "start_time": "2022-01-27T10:48:39.395Z"
      },
      {
        "duration": 251,
        "start_time": "2022-01-27T10:48:39.406Z"
      },
      {
        "duration": 11,
        "start_time": "2022-01-27T10:48:39.660Z"
      },
      {
        "duration": 94,
        "start_time": "2022-01-27T10:48:39.674Z"
      },
      {
        "duration": 2254,
        "start_time": "2022-01-27T10:48:39.839Z"
      },
      {
        "duration": 12,
        "start_time": "2022-01-27T10:48:42.096Z"
      },
      {
        "duration": 206,
        "start_time": "2022-01-27T10:48:42.111Z"
      },
      {
        "duration": 25,
        "start_time": "2022-01-27T10:48:42.320Z"
      },
      {
        "duration": 44,
        "start_time": "2022-01-27T10:48:42.350Z"
      },
      {
        "duration": 17,
        "start_time": "2022-01-27T10:48:42.397Z"
      },
      {
        "duration": 125,
        "start_time": "2022-01-27T10:48:42.416Z"
      },
      {
        "duration": 2258,
        "start_time": "2022-01-27T10:48:42.547Z"
      },
      {
        "duration": 97,
        "start_time": "2022-01-27T10:52:06.927Z"
      },
      {
        "duration": 4245,
        "start_time": "2022-01-27T10:53:27.468Z"
      },
      {
        "duration": 15,
        "start_time": "2022-01-27T10:53:33.193Z"
      },
      {
        "duration": 2065,
        "start_time": "2022-01-27T10:55:24.363Z"
      },
      {
        "duration": 59,
        "start_time": "2022-01-27T10:55:26.431Z"
      },
      {
        "duration": 53,
        "start_time": "2022-01-27T10:55:26.494Z"
      },
      {
        "duration": 26,
        "start_time": "2022-01-27T10:55:26.552Z"
      },
      {
        "duration": 1911,
        "start_time": "2022-01-27T10:55:26.582Z"
      },
      {
        "duration": 50285,
        "start_time": "2022-01-27T10:55:28.496Z"
      },
      {
        "duration": 7,
        "start_time": "2022-01-27T10:56:18.789Z"
      },
      {
        "duration": 53,
        "start_time": "2022-01-27T10:56:18.800Z"
      },
      {
        "duration": 39,
        "start_time": "2022-01-27T10:56:18.858Z"
      },
      {
        "duration": 7,
        "start_time": "2022-01-27T10:56:18.900Z"
      },
      {
        "duration": 10,
        "start_time": "2022-01-27T10:56:18.910Z"
      },
      {
        "duration": 32,
        "start_time": "2022-01-27T10:56:18.922Z"
      },
      {
        "duration": 37,
        "start_time": "2022-01-27T10:56:18.957Z"
      },
      {
        "duration": 13,
        "start_time": "2022-01-27T10:56:18.997Z"
      },
      {
        "duration": 8,
        "start_time": "2022-01-27T10:56:19.013Z"
      },
      {
        "duration": 13,
        "start_time": "2022-01-27T10:56:19.024Z"
      },
      {
        "duration": 54,
        "start_time": "2022-01-27T10:56:19.040Z"
      },
      {
        "duration": 8,
        "start_time": "2022-01-27T10:56:19.096Z"
      },
      {
        "duration": 7,
        "start_time": "2022-01-27T10:56:19.106Z"
      },
      {
        "duration": 284,
        "start_time": "2022-01-27T10:56:19.115Z"
      },
      {
        "duration": 6,
        "start_time": "2022-01-27T10:56:19.401Z"
      },
      {
        "duration": 154,
        "start_time": "2022-01-27T10:56:19.410Z"
      },
      {
        "duration": 2329,
        "start_time": "2022-01-27T10:56:19.648Z"
      },
      {
        "duration": 15,
        "start_time": "2022-01-27T10:56:21.980Z"
      },
      {
        "duration": 210,
        "start_time": "2022-01-27T10:56:21.998Z"
      },
      {
        "duration": 24,
        "start_time": "2022-01-27T10:56:22.211Z"
      },
      {
        "duration": 16,
        "start_time": "2022-01-27T10:56:22.237Z"
      },
      {
        "duration": 50,
        "start_time": "2022-01-27T10:56:22.256Z"
      },
      {
        "duration": 229,
        "start_time": "2022-01-27T10:56:22.309Z"
      },
      {
        "duration": 3262,
        "start_time": "2022-01-27T10:56:22.541Z"
      },
      {
        "duration": 10,
        "start_time": "2022-01-27T10:56:25.806Z"
      },
      {
        "duration": 280,
        "start_time": "2022-01-27T11:00:09.228Z"
      },
      {
        "duration": 9,
        "start_time": "2022-01-27T11:00:11.697Z"
      },
      {
        "duration": 1813,
        "start_time": "2022-01-27T11:04:15.367Z"
      },
      {
        "duration": 36,
        "start_time": "2022-01-27T11:04:17.183Z"
      },
      {
        "duration": 47,
        "start_time": "2022-01-27T11:04:17.222Z"
      },
      {
        "duration": 25,
        "start_time": "2022-01-27T11:04:17.271Z"
      },
      {
        "duration": 1883,
        "start_time": "2022-01-27T11:04:17.299Z"
      },
      {
        "duration": 50029,
        "start_time": "2022-01-27T11:04:19.186Z"
      },
      {
        "duration": 23,
        "start_time": "2022-01-27T11:05:09.218Z"
      },
      {
        "duration": 59,
        "start_time": "2022-01-27T11:05:09.244Z"
      },
      {
        "duration": 6,
        "start_time": "2022-01-27T11:05:09.308Z"
      },
      {
        "duration": 11,
        "start_time": "2022-01-27T11:05:09.316Z"
      },
      {
        "duration": 24,
        "start_time": "2022-01-27T11:05:09.329Z"
      },
      {
        "duration": 55,
        "start_time": "2022-01-27T11:05:09.356Z"
      },
      {
        "duration": 6,
        "start_time": "2022-01-27T11:05:09.413Z"
      },
      {
        "duration": 13,
        "start_time": "2022-01-27T11:05:09.422Z"
      },
      {
        "duration": 48,
        "start_time": "2022-01-27T11:05:09.438Z"
      },
      {
        "duration": 8,
        "start_time": "2022-01-27T11:05:09.489Z"
      },
      {
        "duration": 8,
        "start_time": "2022-01-27T11:05:09.500Z"
      },
      {
        "duration": 10,
        "start_time": "2022-01-27T11:05:09.511Z"
      },
      {
        "duration": 20,
        "start_time": "2022-01-27T11:05:09.524Z"
      },
      {
        "duration": 281,
        "start_time": "2022-01-27T11:05:09.546Z"
      },
      {
        "duration": 18,
        "start_time": "2022-01-27T11:05:09.833Z"
      },
      {
        "duration": 283,
        "start_time": "2022-01-27T11:05:09.857Z"
      },
      {
        "duration": 2928,
        "start_time": "2022-01-27T11:05:10.144Z"
      },
      {
        "duration": 20,
        "start_time": "2022-01-27T11:05:13.076Z"
      },
      {
        "duration": 206,
        "start_time": "2022-01-27T11:05:13.098Z"
      },
      {
        "duration": 8,
        "start_time": "2022-01-27T11:05:13.306Z"
      },
      {
        "duration": 14,
        "start_time": "2022-01-27T11:05:13.353Z"
      },
      {
        "duration": 1033,
        "start_time": "2022-01-27T11:05:13.370Z"
      },
      {
        "duration": 390,
        "start_time": "2022-01-27T11:05:14.015Z"
      },
      {
        "duration": 375,
        "start_time": "2022-01-27T11:05:14.031Z"
      },
      {
        "duration": 371,
        "start_time": "2022-01-27T11:05:14.037Z"
      },
      {
        "duration": 369,
        "start_time": "2022-01-27T11:05:14.041Z"
      },
      {
        "duration": 366,
        "start_time": "2022-01-27T11:05:14.045Z"
      },
      {
        "duration": 17,
        "start_time": "2022-01-27T11:08:35.730Z"
      },
      {
        "duration": 128,
        "start_time": "2022-01-27T11:08:37.519Z"
      },
      {
        "duration": 2928,
        "start_time": "2022-01-27T11:08:38.956Z"
      },
      {
        "duration": 15,
        "start_time": "2022-01-27T11:08:43.162Z"
      },
      {
        "duration": 341,
        "start_time": "2022-01-27T11:08:44.562Z"
      },
      {
        "duration": 14,
        "start_time": "2022-01-27T11:08:46.673Z"
      },
      {
        "duration": 1703,
        "start_time": "2022-01-27T11:24:00.823Z"
      },
      {
        "duration": 52,
        "start_time": "2022-01-27T11:24:02.529Z"
      },
      {
        "duration": 26,
        "start_time": "2022-01-27T11:24:02.584Z"
      },
      {
        "duration": 12,
        "start_time": "2022-01-27T11:24:02.613Z"
      },
      {
        "duration": 1621,
        "start_time": "2022-01-27T11:24:02.639Z"
      },
      {
        "duration": 44110,
        "start_time": "2022-01-27T11:24:04.263Z"
      },
      {
        "duration": 6,
        "start_time": "2022-01-27T11:24:48.375Z"
      },
      {
        "duration": 29,
        "start_time": "2022-01-27T11:24:48.384Z"
      },
      {
        "duration": 29,
        "start_time": "2022-01-27T11:24:48.416Z"
      },
      {
        "duration": 22,
        "start_time": "2022-01-27T11:24:48.448Z"
      },
      {
        "duration": 9,
        "start_time": "2022-01-27T11:24:48.472Z"
      },
      {
        "duration": 14,
        "start_time": "2022-01-27T11:24:48.484Z"
      },
      {
        "duration": 7,
        "start_time": "2022-01-27T11:24:48.500Z"
      },
      {
        "duration": 55,
        "start_time": "2022-01-27T11:24:48.509Z"
      },
      {
        "duration": 9,
        "start_time": "2022-01-27T11:24:48.566Z"
      },
      {
        "duration": 7,
        "start_time": "2022-01-27T11:24:48.577Z"
      },
      {
        "duration": 8,
        "start_time": "2022-01-27T11:24:48.587Z"
      },
      {
        "duration": 6,
        "start_time": "2022-01-27T11:24:48.598Z"
      },
      {
        "duration": 9,
        "start_time": "2022-01-27T11:24:48.606Z"
      },
      {
        "duration": 250,
        "start_time": "2022-01-27T11:24:48.617Z"
      },
      {
        "duration": 6,
        "start_time": "2022-01-27T11:24:48.870Z"
      },
      {
        "duration": 161,
        "start_time": "2022-01-27T11:24:48.879Z"
      },
      {
        "duration": 2252,
        "start_time": "2022-01-27T11:24:49.050Z"
      },
      {
        "duration": 11,
        "start_time": "2022-01-27T11:24:51.305Z"
      },
      {
        "duration": 195,
        "start_time": "2022-01-27T11:24:51.319Z"
      },
      {
        "duration": 22,
        "start_time": "2022-01-27T11:24:51.518Z"
      },
      {
        "duration": 33,
        "start_time": "2022-01-27T11:24:51.544Z"
      },
      {
        "duration": 23,
        "start_time": "2022-01-27T11:24:51.579Z"
      },
      {
        "duration": 135,
        "start_time": "2022-01-27T11:24:51.604Z"
      },
      {
        "duration": 2959,
        "start_time": "2022-01-27T11:24:51.745Z"
      },
      {
        "duration": 28,
        "start_time": "2022-01-27T11:24:54.706Z"
      },
      {
        "duration": 260,
        "start_time": "2022-01-27T11:24:54.738Z"
      },
      {
        "duration": 9,
        "start_time": "2022-01-27T11:24:55.001Z"
      },
      {
        "duration": 499,
        "start_time": "2022-01-27T11:24:55.012Z"
      },
      {
        "duration": 7,
        "start_time": "2022-01-27T11:25:48.912Z"
      },
      {
        "duration": 12,
        "start_time": "2022-01-27T11:26:03.998Z"
      },
      {
        "duration": 9,
        "start_time": "2022-01-27T11:28:03.954Z"
      },
      {
        "duration": 25,
        "start_time": "2022-01-27T11:28:04.735Z"
      },
      {
        "duration": 1681,
        "start_time": "2022-01-27T11:28:11.640Z"
      },
      {
        "duration": 39,
        "start_time": "2022-01-27T11:28:13.324Z"
      },
      {
        "duration": 25,
        "start_time": "2022-01-27T11:28:13.366Z"
      },
      {
        "duration": 15,
        "start_time": "2022-01-27T11:28:13.394Z"
      },
      {
        "duration": 1533,
        "start_time": "2022-01-27T11:28:13.431Z"
      },
      {
        "duration": 42447,
        "start_time": "2022-01-27T11:28:14.967Z"
      },
      {
        "duration": 16,
        "start_time": "2022-01-27T11:28:57.417Z"
      },
      {
        "duration": 52,
        "start_time": "2022-01-27T11:28:57.438Z"
      },
      {
        "duration": 8,
        "start_time": "2022-01-27T11:28:57.494Z"
      },
      {
        "duration": 7,
        "start_time": "2022-01-27T11:28:57.504Z"
      },
      {
        "duration": 12,
        "start_time": "2022-01-27T11:28:57.513Z"
      },
      {
        "duration": 28,
        "start_time": "2022-01-27T11:28:57.528Z"
      },
      {
        "duration": 9,
        "start_time": "2022-01-27T11:28:57.559Z"
      },
      {
        "duration": 11,
        "start_time": "2022-01-27T11:28:57.571Z"
      },
      {
        "duration": 7,
        "start_time": "2022-01-27T11:28:57.584Z"
      },
      {
        "duration": 11,
        "start_time": "2022-01-27T11:28:57.594Z"
      },
      {
        "duration": 38,
        "start_time": "2022-01-27T11:28:57.607Z"
      },
      {
        "duration": 27,
        "start_time": "2022-01-27T11:28:57.648Z"
      },
      {
        "duration": 11,
        "start_time": "2022-01-27T11:28:57.677Z"
      },
      {
        "duration": 228,
        "start_time": "2022-01-27T11:28:57.691Z"
      },
      {
        "duration": 20,
        "start_time": "2022-01-27T11:28:57.921Z"
      },
      {
        "duration": 110,
        "start_time": "2022-01-27T11:28:57.946Z"
      },
      {
        "duration": 2172,
        "start_time": "2022-01-27T11:28:58.062Z"
      },
      {
        "duration": 14,
        "start_time": "2022-01-27T11:29:00.239Z"
      },
      {
        "duration": 196,
        "start_time": "2022-01-27T11:29:00.256Z"
      },
      {
        "duration": 10,
        "start_time": "2022-01-27T11:29:00.456Z"
      },
      {
        "duration": 24,
        "start_time": "2022-01-27T11:29:00.468Z"
      },
      {
        "duration": 21,
        "start_time": "2022-01-27T11:29:00.494Z"
      },
      {
        "duration": 123,
        "start_time": "2022-01-27T11:29:00.517Z"
      },
      {
        "duration": 2839,
        "start_time": "2022-01-27T11:29:00.650Z"
      },
      {
        "duration": 11,
        "start_time": "2022-01-27T11:29:03.491Z"
      },
      {
        "duration": 260,
        "start_time": "2022-01-27T11:29:03.505Z"
      },
      {
        "duration": 8,
        "start_time": "2022-01-27T11:29:03.768Z"
      },
      {
        "duration": 13,
        "start_time": "2022-01-27T11:29:03.779Z"
      },
      {
        "duration": 47,
        "start_time": "2022-01-27T11:29:03.795Z"
      },
      {
        "duration": 1650,
        "start_time": "2022-01-27T12:03:24.071Z"
      },
      {
        "duration": 40,
        "start_time": "2022-01-27T12:03:25.724Z"
      },
      {
        "duration": 29,
        "start_time": "2022-01-27T12:03:25.767Z"
      },
      {
        "duration": 41,
        "start_time": "2022-01-27T12:03:25.799Z"
      },
      {
        "duration": 1647,
        "start_time": "2022-01-27T12:03:25.843Z"
      },
      {
        "duration": 44396,
        "start_time": "2022-01-27T12:03:27.493Z"
      },
      {
        "duration": 6,
        "start_time": "2022-01-27T12:04:11.891Z"
      },
      {
        "duration": 57,
        "start_time": "2022-01-27T12:04:11.901Z"
      },
      {
        "duration": 6,
        "start_time": "2022-01-27T12:04:11.961Z"
      },
      {
        "duration": 21,
        "start_time": "2022-01-27T12:04:11.969Z"
      },
      {
        "duration": 15,
        "start_time": "2022-01-27T12:04:11.993Z"
      },
      {
        "duration": 37,
        "start_time": "2022-01-27T12:04:12.010Z"
      },
      {
        "duration": 23,
        "start_time": "2022-01-27T12:04:12.050Z"
      },
      {
        "duration": 13,
        "start_time": "2022-01-27T12:04:12.075Z"
      },
      {
        "duration": 9,
        "start_time": "2022-01-27T12:04:12.090Z"
      },
      {
        "duration": 8,
        "start_time": "2022-01-27T12:04:12.101Z"
      },
      {
        "duration": 8,
        "start_time": "2022-01-27T12:04:12.111Z"
      },
      {
        "duration": 6,
        "start_time": "2022-01-27T12:04:12.131Z"
      },
      {
        "duration": 54,
        "start_time": "2022-01-27T12:04:12.140Z"
      },
      {
        "duration": 6,
        "start_time": "2022-01-27T12:04:12.196Z"
      },
      {
        "duration": 295,
        "start_time": "2022-01-27T12:04:12.232Z"
      },
      {
        "duration": 9,
        "start_time": "2022-01-27T12:04:12.529Z"
      },
      {
        "duration": 116,
        "start_time": "2022-01-27T12:04:12.544Z"
      },
      {
        "duration": 2328,
        "start_time": "2022-01-27T12:04:12.664Z"
      },
      {
        "duration": 11,
        "start_time": "2022-01-27T12:04:14.994Z"
      },
      {
        "duration": 224,
        "start_time": "2022-01-27T12:04:15.008Z"
      },
      {
        "duration": 10,
        "start_time": "2022-01-27T12:04:15.236Z"
      },
      {
        "duration": 29,
        "start_time": "2022-01-27T12:04:15.249Z"
      },
      {
        "duration": 16,
        "start_time": "2022-01-27T12:04:15.280Z"
      },
      {
        "duration": 139,
        "start_time": "2022-01-27T12:04:15.298Z"
      },
      {
        "duration": 3022,
        "start_time": "2022-01-27T12:04:15.442Z"
      },
      {
        "duration": 11,
        "start_time": "2022-01-27T12:04:18.466Z"
      },
      {
        "duration": 324,
        "start_time": "2022-01-27T12:04:18.479Z"
      },
      {
        "duration": 27,
        "start_time": "2022-01-27T12:04:18.805Z"
      },
      {
        "duration": 7,
        "start_time": "2022-01-27T12:04:18.835Z"
      },
      {
        "duration": 18,
        "start_time": "2022-01-27T12:04:18.845Z"
      },
      {
        "duration": 41,
        "start_time": "2022-01-27T12:07:48.215Z"
      },
      {
        "duration": 36,
        "start_time": "2022-01-27T12:07:55.094Z"
      },
      {
        "duration": 11,
        "start_time": "2022-01-27T12:23:48.026Z"
      },
      {
        "duration": 11,
        "start_time": "2022-01-27T12:26:22.165Z"
      },
      {
        "duration": 1703,
        "start_time": "2022-01-27T12:27:57.679Z"
      },
      {
        "duration": 34,
        "start_time": "2022-01-27T12:27:59.385Z"
      },
      {
        "duration": 31,
        "start_time": "2022-01-27T12:27:59.423Z"
      },
      {
        "duration": 11,
        "start_time": "2022-01-27T12:27:59.457Z"
      },
      {
        "duration": 1597,
        "start_time": "2022-01-27T12:27:59.471Z"
      },
      {
        "duration": 40411,
        "start_time": "2022-01-27T12:28:01.071Z"
      },
      {
        "duration": 6,
        "start_time": "2022-01-27T12:28:41.484Z"
      },
      {
        "duration": 50,
        "start_time": "2022-01-27T12:28:41.494Z"
      },
      {
        "duration": 6,
        "start_time": "2022-01-27T12:28:41.548Z"
      },
      {
        "duration": 8,
        "start_time": "2022-01-27T12:28:41.556Z"
      },
      {
        "duration": 9,
        "start_time": "2022-01-27T12:28:41.567Z"
      },
      {
        "duration": 14,
        "start_time": "2022-01-27T12:28:41.578Z"
      },
      {
        "duration": 39,
        "start_time": "2022-01-27T12:28:41.594Z"
      },
      {
        "duration": 12,
        "start_time": "2022-01-27T12:28:41.636Z"
      },
      {
        "duration": 12,
        "start_time": "2022-01-27T12:28:41.651Z"
      },
      {
        "duration": 8,
        "start_time": "2022-01-27T12:28:41.665Z"
      },
      {
        "duration": 11,
        "start_time": "2022-01-27T12:28:41.675Z"
      },
      {
        "duration": 8,
        "start_time": "2022-01-27T12:28:41.688Z"
      },
      {
        "duration": 80,
        "start_time": "2022-01-27T12:28:41.698Z"
      },
      {
        "duration": 6,
        "start_time": "2022-01-27T12:28:41.780Z"
      },
      {
        "duration": 264,
        "start_time": "2022-01-27T12:28:41.788Z"
      },
      {
        "duration": 8,
        "start_time": "2022-01-27T12:28:42.056Z"
      },
      {
        "duration": 75,
        "start_time": "2022-01-27T12:28:42.072Z"
      },
      {
        "duration": 83,
        "start_time": "2022-01-27T12:28:42.152Z"
      },
      {
        "duration": 2163,
        "start_time": "2022-01-27T12:28:42.238Z"
      },
      {
        "duration": 11,
        "start_time": "2022-01-27T12:28:44.403Z"
      },
      {
        "duration": 29,
        "start_time": "2022-01-27T12:28:44.416Z"
      },
      {
        "duration": 189,
        "start_time": "2022-01-27T12:28:44.448Z"
      },
      {
        "duration": 12,
        "start_time": "2022-01-27T12:28:44.641Z"
      },
      {
        "duration": 9,
        "start_time": "2022-01-27T12:28:44.656Z"
      },
      {
        "duration": 14,
        "start_time": "2022-01-27T12:28:44.667Z"
      },
      {
        "duration": 65,
        "start_time": "2022-01-27T12:28:44.683Z"
      },
      {
        "duration": 92,
        "start_time": "2022-01-27T12:28:44.750Z"
      },
      {
        "duration": 98,
        "start_time": "2022-01-27T12:28:44.846Z"
      },
      {
        "duration": 2838,
        "start_time": "2022-01-27T12:28:45.031Z"
      },
      {
        "duration": 14,
        "start_time": "2022-01-27T12:28:47.872Z"
      },
      {
        "duration": 12,
        "start_time": "2022-01-27T12:28:47.890Z"
      },
      {
        "duration": 278,
        "start_time": "2022-01-27T12:28:47.904Z"
      },
      {
        "duration": 9,
        "start_time": "2022-01-27T12:28:48.184Z"
      },
      {
        "duration": 6,
        "start_time": "2022-01-27T12:28:48.196Z"
      },
      {
        "duration": 34,
        "start_time": "2022-01-27T12:28:48.205Z"
      },
      {
        "duration": 17,
        "start_time": "2022-01-27T12:28:48.241Z"
      },
      {
        "duration": 14,
        "start_time": "2022-01-27T12:32:52.586Z"
      },
      {
        "duration": 12,
        "start_time": "2022-01-27T12:33:02.396Z"
      },
      {
        "duration": 1559,
        "start_time": "2022-01-27T12:35:18.534Z"
      },
      {
        "duration": 36,
        "start_time": "2022-01-27T12:35:20.096Z"
      },
      {
        "duration": 28,
        "start_time": "2022-01-27T12:35:20.137Z"
      },
      {
        "duration": 16,
        "start_time": "2022-01-27T12:35:20.168Z"
      },
      {
        "duration": 1609,
        "start_time": "2022-01-27T12:35:20.187Z"
      },
      {
        "duration": 41256,
        "start_time": "2022-01-27T12:35:21.798Z"
      },
      {
        "duration": 7,
        "start_time": "2022-01-27T12:36:03.057Z"
      },
      {
        "duration": 21,
        "start_time": "2022-01-27T12:36:03.068Z"
      },
      {
        "duration": 43,
        "start_time": "2022-01-27T12:36:03.093Z"
      },
      {
        "duration": 17,
        "start_time": "2022-01-27T12:36:03.140Z"
      },
      {
        "duration": 9,
        "start_time": "2022-01-27T12:36:03.160Z"
      },
      {
        "duration": 17,
        "start_time": "2022-01-27T12:36:03.172Z"
      },
      {
        "duration": 43,
        "start_time": "2022-01-27T12:36:03.192Z"
      },
      {
        "duration": 23,
        "start_time": "2022-01-27T12:36:03.239Z"
      },
      {
        "duration": 8,
        "start_time": "2022-01-27T12:36:03.265Z"
      },
      {
        "duration": 7,
        "start_time": "2022-01-27T12:36:03.275Z"
      },
      {
        "duration": 7,
        "start_time": "2022-01-27T12:36:03.285Z"
      },
      {
        "duration": 12,
        "start_time": "2022-01-27T12:36:03.296Z"
      },
      {
        "duration": 58,
        "start_time": "2022-01-27T12:36:03.335Z"
      },
      {
        "duration": 6,
        "start_time": "2022-01-27T12:36:03.396Z"
      },
      {
        "duration": 288,
        "start_time": "2022-01-27T12:36:03.404Z"
      },
      {
        "duration": 5,
        "start_time": "2022-01-27T12:36:03.695Z"
      },
      {
        "duration": 60,
        "start_time": "2022-01-27T12:36:03.705Z"
      },
      {
        "duration": 23,
        "start_time": "2022-01-27T12:36:03.835Z"
      },
      {
        "duration": 2269,
        "start_time": "2022-01-27T12:36:03.934Z"
      },
      {
        "duration": 30,
        "start_time": "2022-01-27T12:36:06.206Z"
      },
      {
        "duration": 15,
        "start_time": "2022-01-27T12:36:06.239Z"
      },
      {
        "duration": 193,
        "start_time": "2022-01-27T12:36:06.256Z"
      },
      {
        "duration": 11,
        "start_time": "2022-01-27T12:36:06.452Z"
      },
      {
        "duration": 10,
        "start_time": "2022-01-27T12:36:06.465Z"
      },
      {
        "duration": 13,
        "start_time": "2022-01-27T12:36:06.478Z"
      },
      {
        "duration": 18,
        "start_time": "2022-01-27T12:36:06.534Z"
      },
      {
        "duration": 16,
        "start_time": "2022-01-27T12:36:06.554Z"
      },
      {
        "duration": 62,
        "start_time": "2022-01-27T12:36:06.573Z"
      },
      {
        "duration": 15,
        "start_time": "2022-01-27T12:36:06.639Z"
      },
      {
        "duration": 2806,
        "start_time": "2022-01-27T12:36:06.734Z"
      },
      {
        "duration": 11,
        "start_time": "2022-01-27T12:36:09.543Z"
      },
      {
        "duration": 14,
        "start_time": "2022-01-27T12:36:09.557Z"
      },
      {
        "duration": 282,
        "start_time": "2022-01-27T12:36:09.575Z"
      },
      {
        "duration": 8,
        "start_time": "2022-01-27T12:36:09.860Z"
      },
      {
        "duration": 9,
        "start_time": "2022-01-27T12:36:09.871Z"
      },
      {
        "duration": 6,
        "start_time": "2022-01-27T12:36:09.882Z"
      },
      {
        "duration": 47,
        "start_time": "2022-01-27T12:36:09.891Z"
      },
      {
        "duration": 474,
        "start_time": "2022-01-27T12:36:09.944Z"
      },
      {
        "duration": 468,
        "start_time": "2022-01-27T12:41:30.826Z"
      },
      {
        "duration": 266,
        "start_time": "2022-01-27T12:43:32.391Z"
      },
      {
        "duration": 5,
        "start_time": "2022-01-27T12:44:45.583Z"
      },
      {
        "duration": 23,
        "start_time": "2022-01-27T12:45:36.504Z"
      },
      {
        "duration": 8,
        "start_time": "2022-01-27T12:46:57.794Z"
      },
      {
        "duration": 8,
        "start_time": "2022-01-27T12:47:47.417Z"
      },
      {
        "duration": 62,
        "start_time": "2022-01-27T12:49:36.412Z"
      },
      {
        "duration": 7,
        "start_time": "2022-01-27T12:49:37.314Z"
      },
      {
        "duration": 9,
        "start_time": "2022-01-27T12:49:37.818Z"
      },
      {
        "duration": 64,
        "start_time": "2022-01-27T12:51:12.501Z"
      },
      {
        "duration": 48,
        "start_time": "2022-01-27T13:02:28.785Z"
      },
      {
        "duration": 5,
        "start_time": "2022-01-27T13:05:26.613Z"
      },
      {
        "duration": 52,
        "start_time": "2022-01-27T13:05:27.419Z"
      },
      {
        "duration": 320,
        "start_time": "2022-01-27T13:19:48.755Z"
      },
      {
        "duration": 2406,
        "start_time": "2022-01-27T13:20:11.206Z"
      },
      {
        "duration": 39,
        "start_time": "2022-01-27T13:20:42.442Z"
      },
      {
        "duration": 2278,
        "start_time": "2022-01-27T13:20:53.710Z"
      },
      {
        "duration": 2334,
        "start_time": "2022-01-27T13:20:58.461Z"
      },
      {
        "duration": 1022,
        "start_time": "2022-01-27T13:22:03.090Z"
      },
      {
        "duration": 969,
        "start_time": "2022-01-27T13:22:42.447Z"
      },
      {
        "duration": 330114,
        "start_time": "2022-01-27T13:26:11.386Z"
      },
      {
        "duration": 190,
        "start_time": "2022-01-27T13:33:36.089Z"
      },
      {
        "duration": 942,
        "start_time": "2022-01-27T13:34:42.105Z"
      },
      {
        "duration": 998,
        "start_time": "2022-01-27T13:35:12.417Z"
      },
      {
        "duration": 1664,
        "start_time": "2022-01-27T13:35:30.182Z"
      },
      {
        "duration": 43,
        "start_time": "2022-01-27T13:35:31.850Z"
      },
      {
        "duration": 38,
        "start_time": "2022-01-27T13:35:31.900Z"
      },
      {
        "duration": 16,
        "start_time": "2022-01-27T13:35:31.941Z"
      },
      {
        "duration": 1682,
        "start_time": "2022-01-27T13:35:31.959Z"
      },
      {
        "duration": 48019,
        "start_time": "2022-01-27T13:35:33.644Z"
      },
      {
        "duration": 6,
        "start_time": "2022-01-27T13:36:21.667Z"
      },
      {
        "duration": 23,
        "start_time": "2022-01-27T13:36:21.676Z"
      },
      {
        "duration": 34,
        "start_time": "2022-01-27T13:36:21.701Z"
      },
      {
        "duration": 15,
        "start_time": "2022-01-27T13:36:21.738Z"
      },
      {
        "duration": 10,
        "start_time": "2022-01-27T13:36:21.756Z"
      },
      {
        "duration": 16,
        "start_time": "2022-01-27T13:36:21.769Z"
      },
      {
        "duration": 7,
        "start_time": "2022-01-27T13:36:21.788Z"
      },
      {
        "duration": 41,
        "start_time": "2022-01-27T13:36:21.798Z"
      },
      {
        "duration": 10,
        "start_time": "2022-01-27T13:36:21.842Z"
      },
      {
        "duration": 14,
        "start_time": "2022-01-27T13:36:21.855Z"
      },
      {
        "duration": 8,
        "start_time": "2022-01-27T13:36:21.872Z"
      },
      {
        "duration": 6,
        "start_time": "2022-01-27T13:36:21.883Z"
      },
      {
        "duration": 95,
        "start_time": "2022-01-27T13:36:21.892Z"
      },
      {
        "duration": 6,
        "start_time": "2022-01-27T13:36:21.989Z"
      },
      {
        "duration": 261,
        "start_time": "2022-01-27T13:36:21.997Z"
      },
      {
        "duration": 7,
        "start_time": "2022-01-27T13:36:22.266Z"
      },
      {
        "duration": 68,
        "start_time": "2022-01-27T13:36:22.277Z"
      },
      {
        "duration": 100,
        "start_time": "2022-01-27T13:36:22.348Z"
      },
      {
        "duration": 2506,
        "start_time": "2022-01-27T13:36:22.451Z"
      },
      {
        "duration": 11,
        "start_time": "2022-01-27T13:36:24.959Z"
      },
      {
        "duration": 976,
        "start_time": "2022-01-27T13:36:24.973Z"
      },
      {
        "duration": 1008,
        "start_time": "2022-01-27T13:36:25.951Z"
      },
      {
        "duration": 11,
        "start_time": "2022-01-27T13:36:26.962Z"
      },
      {
        "duration": 11,
        "start_time": "2022-01-27T13:36:26.975Z"
      },
      {
        "duration": 54,
        "start_time": "2022-01-27T13:36:26.989Z"
      },
      {
        "duration": 20,
        "start_time": "2022-01-27T13:36:27.046Z"
      },
      {
        "duration": 24,
        "start_time": "2022-01-27T13:36:27.069Z"
      },
      {
        "duration": 68,
        "start_time": "2022-01-27T13:36:27.097Z"
      },
      {
        "duration": 76,
        "start_time": "2022-01-27T13:36:27.168Z"
      },
      {
        "duration": 3100,
        "start_time": "2022-01-27T13:36:27.249Z"
      },
      {
        "duration": 14,
        "start_time": "2022-01-27T13:36:30.352Z"
      },
      {
        "duration": 17,
        "start_time": "2022-01-27T13:36:30.369Z"
      },
      {
        "duration": 276,
        "start_time": "2022-01-27T13:36:30.390Z"
      },
      {
        "duration": 9,
        "start_time": "2022-01-27T13:36:30.669Z"
      },
      {
        "duration": 17,
        "start_time": "2022-01-27T13:36:30.681Z"
      },
      {
        "duration": 12,
        "start_time": "2022-01-27T13:36:30.700Z"
      },
      {
        "duration": 15,
        "start_time": "2022-01-27T13:36:30.732Z"
      },
      {
        "duration": 88,
        "start_time": "2022-01-27T13:36:30.751Z"
      },
      {
        "duration": 7,
        "start_time": "2022-01-27T13:36:30.843Z"
      },
      {
        "duration": 159,
        "start_time": "2022-01-27T13:36:30.853Z"
      },
      {
        "duration": 4,
        "start_time": "2022-01-27T13:36:31.015Z"
      },
      {
        "duration": 105,
        "start_time": "2022-01-27T13:36:31.021Z"
      },
      {
        "duration": 1045,
        "start_time": "2022-01-27T13:38:21.830Z"
      },
      {
        "duration": 1041,
        "start_time": "2022-01-27T13:39:24.232Z"
      },
      {
        "duration": 10,
        "start_time": "2022-01-27T13:39:25.704Z"
      },
      {
        "duration": 549,
        "start_time": "2022-01-27T13:45:35.842Z"
      },
      {
        "duration": 1561,
        "start_time": "2022-01-27T13:46:13.871Z"
      },
      {
        "duration": 37,
        "start_time": "2022-01-27T13:46:15.435Z"
      },
      {
        "duration": 31,
        "start_time": "2022-01-27T13:46:15.475Z"
      },
      {
        "duration": 34,
        "start_time": "2022-01-27T13:46:15.508Z"
      },
      {
        "duration": 1683,
        "start_time": "2022-01-27T13:46:15.545Z"
      },
      {
        "duration": 44532,
        "start_time": "2022-01-27T13:46:17.230Z"
      },
      {
        "duration": 6,
        "start_time": "2022-01-27T13:47:01.765Z"
      },
      {
        "duration": 57,
        "start_time": "2022-01-27T13:47:01.776Z"
      },
      {
        "duration": 8,
        "start_time": "2022-01-27T13:47:01.837Z"
      },
      {
        "duration": 16,
        "start_time": "2022-01-27T13:47:01.847Z"
      },
      {
        "duration": 14,
        "start_time": "2022-01-27T13:47:01.866Z"
      },
      {
        "duration": 20,
        "start_time": "2022-01-27T13:47:01.883Z"
      },
      {
        "duration": 31,
        "start_time": "2022-01-27T13:47:01.907Z"
      },
      {
        "duration": 27,
        "start_time": "2022-01-27T13:47:01.942Z"
      },
      {
        "duration": 15,
        "start_time": "2022-01-27T13:47:01.971Z"
      },
      {
        "duration": 12,
        "start_time": "2022-01-27T13:47:01.989Z"
      },
      {
        "duration": 55,
        "start_time": "2022-01-27T13:47:02.004Z"
      },
      {
        "duration": 6,
        "start_time": "2022-01-27T13:47:02.061Z"
      },
      {
        "duration": 59,
        "start_time": "2022-01-27T13:47:02.069Z"
      },
      {
        "duration": 14,
        "start_time": "2022-01-27T13:47:02.130Z"
      },
      {
        "duration": 274,
        "start_time": "2022-01-27T13:47:02.147Z"
      },
      {
        "duration": 8,
        "start_time": "2022-01-27T13:47:02.425Z"
      },
      {
        "duration": 191,
        "start_time": "2022-01-27T13:47:02.441Z"
      },
      {
        "duration": 2391,
        "start_time": "2022-01-27T13:47:02.635Z"
      },
      {
        "duration": 975,
        "start_time": "2022-01-27T13:47:05.033Z"
      },
      {
        "duration": 25,
        "start_time": "2022-01-27T13:47:06.010Z"
      },
      {
        "duration": 299,
        "start_time": "2022-01-27T13:47:06.037Z"
      },
      {
        "duration": 21,
        "start_time": "2022-01-27T13:47:06.341Z"
      },
      {
        "duration": 174,
        "start_time": "2022-01-27T13:47:06.365Z"
      },
      {
        "duration": 32,
        "start_time": "2022-01-27T13:47:06.543Z"
      },
      {
        "duration": 2959,
        "start_time": "2022-01-27T13:47:06.642Z"
      },
      {
        "duration": 14,
        "start_time": "2022-01-27T13:47:09.605Z"
      },
      {
        "duration": 17,
        "start_time": "2022-01-27T13:47:09.634Z"
      },
      {
        "duration": 268,
        "start_time": "2022-01-27T13:47:09.653Z"
      },
      {
        "duration": 14,
        "start_time": "2022-01-27T13:47:09.923Z"
      },
      {
        "duration": 13,
        "start_time": "2022-01-27T13:47:09.940Z"
      },
      {
        "duration": 7,
        "start_time": "2022-01-27T13:47:09.955Z"
      },
      {
        "duration": 23,
        "start_time": "2022-01-27T13:47:09.964Z"
      },
      {
        "duration": 149,
        "start_time": "2022-01-27T13:47:09.990Z"
      },
      {
        "duration": 87,
        "start_time": "2022-01-27T13:47:10.147Z"
      },
      {
        "duration": 75,
        "start_time": "2022-01-27T13:47:10.238Z"
      },
      {
        "duration": 4,
        "start_time": "2022-01-27T13:47:10.316Z"
      },
      {
        "duration": 62,
        "start_time": "2022-01-27T13:47:10.322Z"
      },
      {
        "duration": 298,
        "start_time": "2022-01-27T13:55:16.973Z"
      },
      {
        "duration": 303,
        "start_time": "2022-01-27T13:55:28.994Z"
      },
      {
        "duration": 777,
        "start_time": "2022-01-27T13:56:51.544Z"
      },
      {
        "duration": 2954,
        "start_time": "2022-01-27T13:57:07.357Z"
      },
      {
        "duration": 319,
        "start_time": "2022-01-27T13:57:27.833Z"
      },
      {
        "duration": 950,
        "start_time": "2022-01-27T13:58:19.182Z"
      },
      {
        "duration": 1603,
        "start_time": "2022-01-27T13:58:27.785Z"
      },
      {
        "duration": 36,
        "start_time": "2022-01-27T13:58:29.391Z"
      },
      {
        "duration": 30,
        "start_time": "2022-01-27T13:58:29.430Z"
      },
      {
        "duration": 11,
        "start_time": "2022-01-27T13:58:29.462Z"
      },
      {
        "duration": 1543,
        "start_time": "2022-01-27T13:58:29.476Z"
      },
      {
        "duration": 40348,
        "start_time": "2022-01-27T13:58:31.022Z"
      },
      {
        "duration": 6,
        "start_time": "2022-01-27T13:59:11.372Z"
      },
      {
        "duration": 30,
        "start_time": "2022-01-27T13:59:11.380Z"
      },
      {
        "duration": 24,
        "start_time": "2022-01-27T13:59:11.414Z"
      },
      {
        "duration": 35,
        "start_time": "2022-01-27T13:59:11.442Z"
      },
      {
        "duration": 17,
        "start_time": "2022-01-27T13:59:11.479Z"
      },
      {
        "duration": 13,
        "start_time": "2022-01-27T13:59:11.499Z"
      },
      {
        "duration": 17,
        "start_time": "2022-01-27T13:59:11.515Z"
      },
      {
        "duration": 8,
        "start_time": "2022-01-27T13:59:11.534Z"
      },
      {
        "duration": 9,
        "start_time": "2022-01-27T13:59:11.544Z"
      },
      {
        "duration": 5,
        "start_time": "2022-01-27T13:59:11.555Z"
      },
      {
        "duration": 6,
        "start_time": "2022-01-27T13:59:11.562Z"
      },
      {
        "duration": 6,
        "start_time": "2022-01-27T13:59:11.571Z"
      },
      {
        "duration": 92,
        "start_time": "2022-01-27T13:59:11.580Z"
      },
      {
        "duration": 6,
        "start_time": "2022-01-27T13:59:11.674Z"
      },
      {
        "duration": 254,
        "start_time": "2022-01-27T13:59:11.682Z"
      },
      {
        "duration": 6,
        "start_time": "2022-01-27T13:59:11.939Z"
      },
      {
        "duration": 97,
        "start_time": "2022-01-27T13:59:11.948Z"
      },
      {
        "duration": 2888,
        "start_time": "2022-01-27T13:59:12.051Z"
      },
      {
        "duration": 959,
        "start_time": "2022-01-27T13:59:14.942Z"
      },
      {
        "duration": 14,
        "start_time": "2022-01-27T13:59:15.904Z"
      },
      {
        "duration": 278,
        "start_time": "2022-01-27T13:59:15.939Z"
      },
      {
        "duration": 951,
        "start_time": "2022-01-27T13:59:16.235Z"
      },
      {
        "duration": 84,
        "start_time": "2022-01-27T13:59:17.104Z"
      },
      {
        "duration": 82,
        "start_time": "2022-01-27T13:59:17.108Z"
      },
      {
        "duration": 78,
        "start_time": "2022-01-27T13:59:17.113Z"
      },
      {
        "duration": 76,
        "start_time": "2022-01-27T13:59:17.117Z"
      },
      {
        "duration": 73,
        "start_time": "2022-01-27T13:59:17.121Z"
      },
      {
        "duration": 70,
        "start_time": "2022-01-27T13:59:17.125Z"
      },
      {
        "duration": 67,
        "start_time": "2022-01-27T13:59:17.129Z"
      },
      {
        "duration": 65,
        "start_time": "2022-01-27T13:59:17.133Z"
      },
      {
        "duration": 62,
        "start_time": "2022-01-27T13:59:17.137Z"
      },
      {
        "duration": 57,
        "start_time": "2022-01-27T13:59:17.143Z"
      },
      {
        "duration": 55,
        "start_time": "2022-01-27T13:59:17.147Z"
      },
      {
        "duration": 51,
        "start_time": "2022-01-27T13:59:17.152Z"
      },
      {
        "duration": 74,
        "start_time": "2022-01-27T13:59:17.158Z"
      },
      {
        "duration": 71,
        "start_time": "2022-01-27T13:59:17.163Z"
      },
      {
        "duration": 69,
        "start_time": "2022-01-27T13:59:17.167Z"
      },
      {
        "duration": 66,
        "start_time": "2022-01-27T13:59:17.171Z"
      },
      {
        "duration": 1660,
        "start_time": "2022-01-27T14:00:10.171Z"
      },
      {
        "duration": 36,
        "start_time": "2022-01-27T14:00:11.834Z"
      },
      {
        "duration": 27,
        "start_time": "2022-01-27T14:00:11.873Z"
      },
      {
        "duration": 35,
        "start_time": "2022-01-27T14:00:11.904Z"
      },
      {
        "duration": 1644,
        "start_time": "2022-01-27T14:00:11.942Z"
      },
      {
        "duration": 39977,
        "start_time": "2022-01-27T14:00:13.589Z"
      },
      {
        "duration": 8,
        "start_time": "2022-01-27T14:00:53.569Z"
      },
      {
        "duration": 54,
        "start_time": "2022-01-27T14:00:53.583Z"
      },
      {
        "duration": 6,
        "start_time": "2022-01-27T14:00:53.640Z"
      },
      {
        "duration": 9,
        "start_time": "2022-01-27T14:00:53.648Z"
      },
      {
        "duration": 11,
        "start_time": "2022-01-27T14:00:53.660Z"
      },
      {
        "duration": 15,
        "start_time": "2022-01-27T14:00:53.674Z"
      },
      {
        "duration": 44,
        "start_time": "2022-01-27T14:00:53.692Z"
      },
      {
        "duration": 11,
        "start_time": "2022-01-27T14:00:53.739Z"
      },
      {
        "duration": 9,
        "start_time": "2022-01-27T14:00:53.753Z"
      },
      {
        "duration": 6,
        "start_time": "2022-01-27T14:00:53.764Z"
      },
      {
        "duration": 9,
        "start_time": "2022-01-27T14:00:53.772Z"
      },
      {
        "duration": 8,
        "start_time": "2022-01-27T14:00:53.832Z"
      },
      {
        "duration": 51,
        "start_time": "2022-01-27T14:00:53.843Z"
      },
      {
        "duration": 7,
        "start_time": "2022-01-27T14:00:53.896Z"
      },
      {
        "duration": 234,
        "start_time": "2022-01-27T14:00:53.933Z"
      },
      {
        "duration": 6,
        "start_time": "2022-01-27T14:00:54.169Z"
      },
      {
        "duration": 59,
        "start_time": "2022-01-27T14:00:54.180Z"
      },
      {
        "duration": 2999,
        "start_time": "2022-01-27T14:00:54.243Z"
      },
      {
        "duration": 970,
        "start_time": "2022-01-27T14:00:57.246Z"
      },
      {
        "duration": 20,
        "start_time": "2022-01-27T14:00:58.218Z"
      },
      {
        "duration": 299,
        "start_time": "2022-01-27T14:00:58.241Z"
      },
      {
        "duration": 1335,
        "start_time": "2022-01-27T14:00:58.545Z"
      },
      {
        "duration": 18,
        "start_time": "2022-01-27T14:00:59.883Z"
      },
      {
        "duration": 65,
        "start_time": "2022-01-27T14:00:59.904Z"
      },
      {
        "duration": 99,
        "start_time": "2022-01-27T14:01:00.034Z"
      },
      {
        "duration": 2998,
        "start_time": "2022-01-27T14:01:00.136Z"
      },
      {
        "duration": 16,
        "start_time": "2022-01-27T14:01:03.137Z"
      },
      {
        "duration": 12,
        "start_time": "2022-01-27T14:01:03.155Z"
      },
      {
        "duration": 297,
        "start_time": "2022-01-27T14:01:03.170Z"
      },
      {
        "duration": 11,
        "start_time": "2022-01-27T14:01:03.470Z"
      },
      {
        "duration": 12,
        "start_time": "2022-01-27T14:01:03.484Z"
      },
      {
        "duration": 34,
        "start_time": "2022-01-27T14:01:03.499Z"
      },
      {
        "duration": 30,
        "start_time": "2022-01-27T14:01:03.537Z"
      },
      {
        "duration": 64,
        "start_time": "2022-01-27T14:01:03.570Z"
      },
      {
        "duration": 7,
        "start_time": "2022-01-27T14:01:03.638Z"
      },
      {
        "duration": 64,
        "start_time": "2022-01-27T14:01:03.734Z"
      },
      {
        "duration": 34,
        "start_time": "2022-01-27T14:01:03.801Z"
      },
      {
        "duration": 59,
        "start_time": "2022-01-27T14:01:03.839Z"
      },
      {
        "duration": 394,
        "start_time": "2022-01-27T15:51:35.121Z"
      },
      {
        "duration": 1628,
        "start_time": "2022-01-27T15:51:44.577Z"
      },
      {
        "duration": 35,
        "start_time": "2022-01-27T15:51:46.207Z"
      },
      {
        "duration": 33,
        "start_time": "2022-01-27T15:51:46.244Z"
      },
      {
        "duration": 17,
        "start_time": "2022-01-27T15:51:46.280Z"
      },
      {
        "duration": 1504,
        "start_time": "2022-01-27T15:51:46.299Z"
      },
      {
        "duration": 40679,
        "start_time": "2022-01-27T15:51:47.806Z"
      },
      {
        "duration": 6,
        "start_time": "2022-01-27T15:52:28.488Z"
      },
      {
        "duration": 21,
        "start_time": "2022-01-27T15:52:28.498Z"
      },
      {
        "duration": 5,
        "start_time": "2022-01-27T15:52:28.522Z"
      },
      {
        "duration": 44,
        "start_time": "2022-01-27T15:52:28.529Z"
      },
      {
        "duration": 12,
        "start_time": "2022-01-27T15:52:28.576Z"
      },
      {
        "duration": 24,
        "start_time": "2022-01-27T15:52:28.591Z"
      },
      {
        "duration": 5,
        "start_time": "2022-01-27T15:52:28.617Z"
      },
      {
        "duration": 8,
        "start_time": "2022-01-27T15:52:28.625Z"
      },
      {
        "duration": 7,
        "start_time": "2022-01-27T15:52:28.669Z"
      },
      {
        "duration": 7,
        "start_time": "2022-01-27T15:52:28.679Z"
      },
      {
        "duration": 7,
        "start_time": "2022-01-27T15:52:28.688Z"
      },
      {
        "duration": 5,
        "start_time": "2022-01-27T15:52:28.697Z"
      },
      {
        "duration": 77,
        "start_time": "2022-01-27T15:52:28.704Z"
      },
      {
        "duration": 6,
        "start_time": "2022-01-27T15:52:28.783Z"
      },
      {
        "duration": 237,
        "start_time": "2022-01-27T15:52:28.791Z"
      },
      {
        "duration": 6,
        "start_time": "2022-01-27T15:52:29.030Z"
      },
      {
        "duration": 135,
        "start_time": "2022-01-27T15:52:29.041Z"
      },
      {
        "duration": 2926,
        "start_time": "2022-01-27T15:52:29.181Z"
      },
      {
        "duration": 921,
        "start_time": "2022-01-27T15:52:32.109Z"
      },
      {
        "duration": 14,
        "start_time": "2022-01-27T15:52:33.032Z"
      },
      {
        "duration": 345,
        "start_time": "2022-01-27T15:52:33.048Z"
      },
      {
        "duration": 1281,
        "start_time": "2022-01-27T15:52:33.395Z"
      },
      {
        "duration": 16,
        "start_time": "2022-01-27T15:52:34.679Z"
      },
      {
        "duration": 75,
        "start_time": "2022-01-27T15:52:34.697Z"
      },
      {
        "duration": 190,
        "start_time": "2022-01-27T15:52:34.780Z"
      },
      {
        "duration": 2751,
        "start_time": "2022-01-27T15:52:34.973Z"
      },
      {
        "duration": 11,
        "start_time": "2022-01-27T15:52:37.727Z"
      },
      {
        "duration": 36,
        "start_time": "2022-01-27T15:52:37.741Z"
      },
      {
        "duration": 260,
        "start_time": "2022-01-27T15:52:37.779Z"
      },
      {
        "duration": 8,
        "start_time": "2022-01-27T15:52:38.042Z"
      },
      {
        "duration": 24,
        "start_time": "2022-01-27T15:52:38.052Z"
      },
      {
        "duration": 9,
        "start_time": "2022-01-27T15:52:38.078Z"
      },
      {
        "duration": 11,
        "start_time": "2022-01-27T15:52:38.090Z"
      },
      {
        "duration": 167,
        "start_time": "2022-01-27T15:52:38.104Z"
      },
      {
        "duration": 6,
        "start_time": "2022-01-27T15:52:38.276Z"
      },
      {
        "duration": 157,
        "start_time": "2022-01-27T15:52:38.285Z"
      },
      {
        "duration": 6,
        "start_time": "2022-01-27T15:52:38.445Z"
      },
      {
        "duration": 46,
        "start_time": "2022-01-27T15:52:38.470Z"
      },
      {
        "duration": 847,
        "start_time": "2022-01-27T15:54:11.943Z"
      },
      {
        "duration": 357,
        "start_time": "2022-01-27T16:02:26.930Z"
      },
      {
        "duration": 336,
        "start_time": "2022-01-27T16:05:59.101Z"
      },
      {
        "duration": 113,
        "start_time": "2022-01-27T19:23:48.194Z"
      },
      {
        "duration": 1897,
        "start_time": "2022-01-27T19:23:58.584Z"
      },
      {
        "duration": 101,
        "start_time": "2022-01-27T19:24:00.485Z"
      },
      {
        "duration": 34,
        "start_time": "2022-01-27T19:24:00.590Z"
      },
      {
        "duration": 14,
        "start_time": "2022-01-27T19:24:00.627Z"
      },
      {
        "duration": 1677,
        "start_time": "2022-01-27T19:24:00.644Z"
      },
      {
        "duration": 41683,
        "start_time": "2022-01-27T19:24:02.323Z"
      },
      {
        "duration": 13,
        "start_time": "2022-01-27T19:24:44.009Z"
      },
      {
        "duration": 22,
        "start_time": "2022-01-27T19:24:44.024Z"
      },
      {
        "duration": 21,
        "start_time": "2022-01-27T19:24:44.050Z"
      },
      {
        "duration": 7,
        "start_time": "2022-01-27T19:24:44.074Z"
      },
      {
        "duration": 10,
        "start_time": "2022-01-27T19:24:44.083Z"
      },
      {
        "duration": 15,
        "start_time": "2022-01-27T19:24:44.096Z"
      },
      {
        "duration": 7,
        "start_time": "2022-01-27T19:24:44.114Z"
      },
      {
        "duration": 49,
        "start_time": "2022-01-27T19:24:44.124Z"
      },
      {
        "duration": 7,
        "start_time": "2022-01-27T19:24:44.176Z"
      },
      {
        "duration": 6,
        "start_time": "2022-01-27T19:24:44.185Z"
      },
      {
        "duration": 8,
        "start_time": "2022-01-27T19:24:44.193Z"
      },
      {
        "duration": 5,
        "start_time": "2022-01-27T19:24:44.203Z"
      },
      {
        "duration": 89,
        "start_time": "2022-01-27T19:24:44.210Z"
      },
      {
        "duration": 6,
        "start_time": "2022-01-27T19:24:44.301Z"
      },
      {
        "duration": 371,
        "start_time": "2022-01-27T19:24:44.309Z"
      },
      {
        "duration": 7,
        "start_time": "2022-01-27T19:24:44.682Z"
      },
      {
        "duration": 177,
        "start_time": "2022-01-27T19:24:44.692Z"
      },
      {
        "duration": 2738,
        "start_time": "2022-01-27T19:24:44.872Z"
      },
      {
        "duration": 938,
        "start_time": "2022-01-27T19:24:47.613Z"
      },
      {
        "duration": 333,
        "start_time": "2022-01-27T19:24:48.553Z"
      },
      {
        "duration": 903,
        "start_time": "2022-01-27T19:24:48.891Z"
      },
      {
        "duration": 292,
        "start_time": "2022-01-27T19:24:49.797Z"
      },
      {
        "duration": 16,
        "start_time": "2022-01-27T19:24:50.091Z"
      },
      {
        "duration": 389,
        "start_time": "2022-01-27T19:24:50.109Z"
      },
      {
        "duration": 171037,
        "start_time": "2022-01-27T19:24:50.500Z"
      },
      {
        "duration": 116,
        "start_time": "2022-01-27T19:27:41.541Z"
      },
      {
        "duration": 555,
        "start_time": "2022-01-27T19:27:53.437Z"
      },
      {
        "duration": 1567,
        "start_time": "2022-01-27T19:29:07.254Z"
      },
      {
        "duration": 36,
        "start_time": "2022-01-27T19:29:08.824Z"
      },
      {
        "duration": 27,
        "start_time": "2022-01-27T19:29:08.864Z"
      },
      {
        "duration": 15,
        "start_time": "2022-01-27T19:29:08.894Z"
      },
      {
        "duration": 1481,
        "start_time": "2022-01-27T19:29:08.912Z"
      },
      {
        "duration": 7,
        "start_time": "2022-01-27T19:29:10.397Z"
      },
      {
        "duration": 23,
        "start_time": "2022-01-27T19:29:10.408Z"
      },
      {
        "duration": 38,
        "start_time": "2022-01-27T19:29:10.436Z"
      },
      {
        "duration": 10,
        "start_time": "2022-01-27T19:29:10.478Z"
      },
      {
        "duration": 11,
        "start_time": "2022-01-27T19:29:10.491Z"
      },
      {
        "duration": 16,
        "start_time": "2022-01-27T19:29:10.505Z"
      },
      {
        "duration": 6,
        "start_time": "2022-01-27T19:29:10.569Z"
      },
      {
        "duration": 13,
        "start_time": "2022-01-27T19:29:10.579Z"
      },
      {
        "duration": 10,
        "start_time": "2022-01-27T19:29:10.594Z"
      },
      {
        "duration": 6,
        "start_time": "2022-01-27T19:29:10.607Z"
      },
      {
        "duration": 53,
        "start_time": "2022-01-27T19:29:10.616Z"
      },
      {
        "duration": 7,
        "start_time": "2022-01-27T19:29:10.672Z"
      },
      {
        "duration": 47,
        "start_time": "2022-01-27T19:29:10.682Z"
      },
      {
        "duration": 41,
        "start_time": "2022-01-27T19:29:10.733Z"
      },
      {
        "duration": 251,
        "start_time": "2022-01-27T19:29:10.777Z"
      },
      {
        "duration": 7,
        "start_time": "2022-01-27T19:29:11.030Z"
      },
      {
        "duration": 132,
        "start_time": "2022-01-27T19:29:11.041Z"
      },
      {
        "duration": 2827,
        "start_time": "2022-01-27T19:29:11.269Z"
      },
      {
        "duration": 1016,
        "start_time": "2022-01-27T19:29:14.099Z"
      },
      {
        "duration": 364,
        "start_time": "2022-01-27T19:29:15.118Z"
      },
      {
        "duration": 889,
        "start_time": "2022-01-27T19:29:15.484Z"
      },
      {
        "duration": 311,
        "start_time": "2022-01-27T19:29:16.376Z"
      },
      {
        "duration": 16,
        "start_time": "2022-01-27T19:29:16.689Z"
      },
      {
        "duration": 463,
        "start_time": "2022-01-27T19:29:16.707Z"
      },
      {
        "duration": 309,
        "start_time": "2022-01-27T19:29:17.173Z"
      },
      {
        "duration": 830,
        "start_time": "2022-01-27T19:29:17.485Z"
      },
      {
        "duration": 10,
        "start_time": "2022-01-27T19:30:47.765Z"
      },
      {
        "duration": 11,
        "start_time": "2022-01-27T19:31:06.161Z"
      },
      {
        "duration": 363,
        "start_time": "2022-01-27T19:31:13.578Z"
      },
      {
        "duration": 3635,
        "start_time": "2022-01-27T19:32:41.836Z"
      },
      {
        "duration": 6526,
        "start_time": "2022-01-27T19:36:21.639Z"
      },
      {
        "duration": 12131,
        "start_time": "2022-01-27T19:36:49.697Z"
      },
      {
        "duration": 24,
        "start_time": "2022-01-27T19:38:09.916Z"
      },
      {
        "duration": 1598,
        "start_time": "2022-01-27T19:42:22.513Z"
      },
      {
        "duration": 35,
        "start_time": "2022-01-27T19:42:24.114Z"
      },
      {
        "duration": 34,
        "start_time": "2022-01-27T19:42:24.153Z"
      },
      {
        "duration": 14,
        "start_time": "2022-01-27T19:42:24.191Z"
      },
      {
        "duration": 1538,
        "start_time": "2022-01-27T19:42:24.208Z"
      },
      {
        "duration": 6,
        "start_time": "2022-01-27T19:42:25.748Z"
      },
      {
        "duration": 29,
        "start_time": "2022-01-27T19:42:25.757Z"
      },
      {
        "duration": 7,
        "start_time": "2022-01-27T19:42:25.790Z"
      },
      {
        "duration": 8,
        "start_time": "2022-01-27T19:42:25.800Z"
      },
      {
        "duration": 10,
        "start_time": "2022-01-27T19:42:25.810Z"
      },
      {
        "duration": 56,
        "start_time": "2022-01-27T19:42:25.822Z"
      },
      {
        "duration": 528,
        "start_time": "2022-01-27T19:42:25.881Z"
      },
      {
        "duration": -2916,
        "start_time": "2022-01-27T19:42:29.330Z"
      },
      {
        "duration": -2919,
        "start_time": "2022-01-27T19:42:29.335Z"
      },
      {
        "duration": -2920,
        "start_time": "2022-01-27T19:42:29.338Z"
      },
      {
        "duration": -2923,
        "start_time": "2022-01-27T19:42:29.344Z"
      },
      {
        "duration": -2924,
        "start_time": "2022-01-27T19:42:29.347Z"
      },
      {
        "duration": -2925,
        "start_time": "2022-01-27T19:42:29.350Z"
      },
      {
        "duration": -2925,
        "start_time": "2022-01-27T19:42:29.352Z"
      },
      {
        "duration": -2925,
        "start_time": "2022-01-27T19:42:29.354Z"
      },
      {
        "duration": -2927,
        "start_time": "2022-01-27T19:42:29.358Z"
      },
      {
        "duration": -2928,
        "start_time": "2022-01-27T19:42:29.361Z"
      },
      {
        "duration": -2928,
        "start_time": "2022-01-27T19:42:29.364Z"
      },
      {
        "duration": -2930,
        "start_time": "2022-01-27T19:42:29.368Z"
      },
      {
        "duration": -2935,
        "start_time": "2022-01-27T19:42:29.375Z"
      },
      {
        "duration": -2936,
        "start_time": "2022-01-27T19:42:29.378Z"
      },
      {
        "duration": -2937,
        "start_time": "2022-01-27T19:42:29.381Z"
      },
      {
        "duration": -2936,
        "start_time": "2022-01-27T19:42:29.383Z"
      },
      {
        "duration": -2936,
        "start_time": "2022-01-27T19:42:29.385Z"
      },
      {
        "duration": -2936,
        "start_time": "2022-01-27T19:42:29.387Z"
      },
      {
        "duration": -2921,
        "start_time": "2022-01-27T19:42:29.389Z"
      },
      {
        "duration": 35,
        "start_time": "2022-01-27T19:42:57.716Z"
      },
      {
        "duration": 1625,
        "start_time": "2022-01-27T19:43:06.192Z"
      },
      {
        "duration": 35,
        "start_time": "2022-01-27T19:43:07.820Z"
      },
      {
        "duration": 31,
        "start_time": "2022-01-27T19:43:07.858Z"
      },
      {
        "duration": 13,
        "start_time": "2022-01-27T19:43:07.893Z"
      },
      {
        "duration": 1518,
        "start_time": "2022-01-27T19:43:07.909Z"
      },
      {
        "duration": 7,
        "start_time": "2022-01-27T19:43:09.430Z"
      },
      {
        "duration": 43,
        "start_time": "2022-01-27T19:43:09.440Z"
      },
      {
        "duration": 7,
        "start_time": "2022-01-27T19:43:09.486Z"
      },
      {
        "duration": 12,
        "start_time": "2022-01-27T19:43:09.496Z"
      },
      {
        "duration": 11,
        "start_time": "2022-01-27T19:43:09.511Z"
      },
      {
        "duration": 53,
        "start_time": "2022-01-27T19:43:09.525Z"
      },
      {
        "duration": 38,
        "start_time": "2022-01-27T19:43:09.581Z"
      },
      {
        "duration": 8,
        "start_time": "2022-01-27T19:43:09.623Z"
      },
      {
        "duration": 37,
        "start_time": "2022-01-27T19:43:09.634Z"
      },
      {
        "duration": 10,
        "start_time": "2022-01-27T19:43:09.673Z"
      },
      {
        "duration": 6,
        "start_time": "2022-01-27T19:43:09.686Z"
      },
      {
        "duration": 6,
        "start_time": "2022-01-27T19:43:09.694Z"
      },
      {
        "duration": 6,
        "start_time": "2022-01-27T19:43:09.703Z"
      },
      {
        "duration": 8,
        "start_time": "2022-01-27T19:43:09.712Z"
      },
      {
        "duration": 280,
        "start_time": "2022-01-27T19:43:09.723Z"
      },
      {
        "duration": 18,
        "start_time": "2022-01-27T19:43:10.005Z"
      },
      {
        "duration": 55,
        "start_time": "2022-01-27T19:43:10.026Z"
      },
      {
        "duration": 2810,
        "start_time": "2022-01-27T19:43:10.173Z"
      },
      {
        "duration": 996,
        "start_time": "2022-01-27T19:43:12.985Z"
      },
      {
        "duration": 309,
        "start_time": "2022-01-27T19:43:13.984Z"
      },
      {
        "duration": 973,
        "start_time": "2022-01-27T19:43:14.295Z"
      },
      {
        "duration": 338,
        "start_time": "2022-01-27T19:43:15.279Z"
      },
      {
        "duration": 16,
        "start_time": "2022-01-27T19:43:15.620Z"
      },
      {
        "duration": 488,
        "start_time": "2022-01-27T19:43:15.638Z"
      },
      {
        "duration": 111,
        "start_time": "2022-01-27T19:43:16.129Z"
      },
      {
        "duration": -2913,
        "start_time": "2022-01-27T19:43:19.156Z"
      },
      {
        "duration": 282,
        "start_time": "2022-01-27T19:44:10.643Z"
      },
      {
        "duration": 166,
        "start_time": "2022-01-28T04:54:27.189Z"
      },
      {
        "duration": 1109,
        "start_time": "2022-01-28T04:54:41.153Z"
      },
      {
        "duration": 32,
        "start_time": "2022-01-28T04:54:42.264Z"
      },
      {
        "duration": 16,
        "start_time": "2022-01-28T04:54:42.300Z"
      },
      {
        "duration": 8,
        "start_time": "2022-01-28T04:54:42.318Z"
      },
      {
        "duration": 936,
        "start_time": "2022-01-28T04:54:42.328Z"
      },
      {
        "duration": 4,
        "start_time": "2022-01-28T04:54:43.266Z"
      },
      {
        "duration": 28,
        "start_time": "2022-01-28T04:54:43.272Z"
      },
      {
        "duration": 5,
        "start_time": "2022-01-28T04:54:43.302Z"
      },
      {
        "duration": 8,
        "start_time": "2022-01-28T04:54:43.309Z"
      },
      {
        "duration": 6,
        "start_time": "2022-01-28T04:54:43.318Z"
      },
      {
        "duration": 10,
        "start_time": "2022-01-28T04:54:43.326Z"
      },
      {
        "duration": 25,
        "start_time": "2022-01-28T04:54:43.337Z"
      },
      {
        "duration": 4,
        "start_time": "2022-01-28T04:54:43.364Z"
      },
      {
        "duration": 33,
        "start_time": "2022-01-28T04:54:43.369Z"
      },
      {
        "duration": 5,
        "start_time": "2022-01-28T04:54:43.403Z"
      },
      {
        "duration": 3,
        "start_time": "2022-01-28T04:54:43.410Z"
      },
      {
        "duration": 3,
        "start_time": "2022-01-28T04:54:43.415Z"
      },
      {
        "duration": 4,
        "start_time": "2022-01-28T04:54:43.420Z"
      },
      {
        "duration": 6,
        "start_time": "2022-01-28T04:54:43.425Z"
      },
      {
        "duration": 166,
        "start_time": "2022-01-28T04:54:43.433Z"
      },
      {
        "duration": 4,
        "start_time": "2022-01-28T04:54:43.601Z"
      },
      {
        "duration": 89,
        "start_time": "2022-01-28T04:54:43.608Z"
      },
      {
        "duration": 1824,
        "start_time": "2022-01-28T04:54:43.701Z"
      },
      {
        "duration": 646,
        "start_time": "2022-01-28T04:54:45.527Z"
      },
      {
        "duration": 287,
        "start_time": "2022-01-28T04:54:46.175Z"
      },
      {
        "duration": 640,
        "start_time": "2022-01-28T04:54:46.464Z"
      },
      {
        "duration": 255,
        "start_time": "2022-01-28T04:54:47.106Z"
      },
      {
        "duration": 11,
        "start_time": "2022-01-28T04:54:47.362Z"
      },
      {
        "duration": 395,
        "start_time": "2022-01-28T04:54:47.375Z"
      },
      {
        "duration": 191,
        "start_time": "2022-01-28T04:54:47.772Z"
      },
      {
        "duration": 503,
        "start_time": "2022-01-28T04:54:47.965Z"
      },
      {
        "duration": 539,
        "start_time": "2022-01-28T05:03:38.983Z"
      },
      {
        "duration": 485,
        "start_time": "2022-01-28T05:03:59.050Z"
      },
      {
        "duration": 602,
        "start_time": "2022-01-28T05:04:17.208Z"
      },
      {
        "duration": 238,
        "start_time": "2022-01-28T05:08:04.862Z"
      },
      {
        "duration": 14844,
        "start_time": "2022-01-28T05:08:48.211Z"
      },
      {
        "duration": 15118,
        "start_time": "2022-01-28T05:10:13.227Z"
      },
      {
        "duration": 15295,
        "start_time": "2022-01-28T05:10:38.418Z"
      },
      {
        "duration": 191,
        "start_time": "2022-01-28T05:58:35.878Z"
      },
      {
        "duration": 505,
        "start_time": "2022-01-28T06:00:11.595Z"
      },
      {
        "duration": 1129,
        "start_time": "2022-01-28T06:11:54.254Z"
      },
      {
        "duration": 31,
        "start_time": "2022-01-28T06:11:55.385Z"
      },
      {
        "duration": 18,
        "start_time": "2022-01-28T06:11:55.418Z"
      },
      {
        "duration": 8,
        "start_time": "2022-01-28T06:11:55.438Z"
      },
      {
        "duration": 1004,
        "start_time": "2022-01-28T06:11:55.447Z"
      },
      {
        "duration": 23522,
        "start_time": "2022-01-28T06:11:56.453Z"
      },
      {
        "duration": 4,
        "start_time": "2022-01-28T06:12:19.977Z"
      },
      {
        "duration": 25,
        "start_time": "2022-01-28T06:12:19.984Z"
      },
      {
        "duration": 10,
        "start_time": "2022-01-28T06:12:20.012Z"
      },
      {
        "duration": 8,
        "start_time": "2022-01-28T06:12:20.024Z"
      },
      {
        "duration": 8,
        "start_time": "2022-01-28T06:12:20.034Z"
      },
      {
        "duration": 10,
        "start_time": "2022-01-28T06:12:20.044Z"
      },
      {
        "duration": 58,
        "start_time": "2022-01-28T06:12:20.056Z"
      },
      {
        "duration": 5,
        "start_time": "2022-01-28T06:12:20.116Z"
      },
      {
        "duration": 7,
        "start_time": "2022-01-28T06:12:20.123Z"
      },
      {
        "duration": 8,
        "start_time": "2022-01-28T06:12:20.131Z"
      },
      {
        "duration": 5,
        "start_time": "2022-01-28T06:12:20.141Z"
      },
      {
        "duration": 5,
        "start_time": "2022-01-28T06:12:20.148Z"
      },
      {
        "duration": 6,
        "start_time": "2022-01-28T06:12:20.155Z"
      },
      {
        "duration": 34,
        "start_time": "2022-01-28T06:12:20.163Z"
      },
      {
        "duration": 145,
        "start_time": "2022-01-28T06:12:20.199Z"
      },
      {
        "duration": 4,
        "start_time": "2022-01-28T06:12:20.346Z"
      },
      {
        "duration": 1778,
        "start_time": "2022-01-28T06:12:20.353Z"
      },
      {
        "duration": 649,
        "start_time": "2022-01-28T06:12:22.133Z"
      },
      {
        "duration": 279,
        "start_time": "2022-01-28T06:12:22.784Z"
      },
      {
        "duration": 655,
        "start_time": "2022-01-28T06:12:23.065Z"
      },
      {
        "duration": 251,
        "start_time": "2022-01-28T06:12:23.722Z"
      },
      {
        "duration": 30,
        "start_time": "2022-01-28T06:12:23.975Z"
      },
      {
        "duration": 293,
        "start_time": "2022-01-28T06:12:24.007Z"
      },
      {
        "duration": 195,
        "start_time": "2022-01-28T06:12:24.302Z"
      },
      {
        "duration": 509,
        "start_time": "2022-01-28T06:12:24.499Z"
      },
      {
        "duration": 1242,
        "start_time": "2022-01-28T06:31:09.290Z"
      },
      {
        "duration": 30,
        "start_time": "2022-01-28T06:31:10.535Z"
      },
      {
        "duration": 17,
        "start_time": "2022-01-28T06:31:10.567Z"
      },
      {
        "duration": 16,
        "start_time": "2022-01-28T06:31:10.586Z"
      },
      {
        "duration": 993,
        "start_time": "2022-01-28T06:31:10.604Z"
      },
      {
        "duration": 23253,
        "start_time": "2022-01-28T06:31:11.599Z"
      },
      {
        "duration": 4,
        "start_time": "2022-01-28T06:31:34.854Z"
      },
      {
        "duration": 15,
        "start_time": "2022-01-28T06:31:34.861Z"
      },
      {
        "duration": 5,
        "start_time": "2022-01-28T06:31:34.898Z"
      },
      {
        "duration": 9,
        "start_time": "2022-01-28T06:31:34.905Z"
      },
      {
        "duration": 7,
        "start_time": "2022-01-28T06:31:34.916Z"
      },
      {
        "duration": 13,
        "start_time": "2022-01-28T06:31:34.925Z"
      },
      {
        "duration": 26,
        "start_time": "2022-01-28T06:31:34.940Z"
      },
      {
        "duration": 5,
        "start_time": "2022-01-28T06:31:34.968Z"
      },
      {
        "duration": 7,
        "start_time": "2022-01-28T06:31:34.998Z"
      },
      {
        "duration": 9,
        "start_time": "2022-01-28T06:31:35.007Z"
      },
      {
        "duration": 8,
        "start_time": "2022-01-28T06:31:35.018Z"
      },
      {
        "duration": 6,
        "start_time": "2022-01-28T06:31:35.027Z"
      },
      {
        "duration": 6,
        "start_time": "2022-01-28T06:31:35.034Z"
      },
      {
        "duration": 7,
        "start_time": "2022-01-28T06:31:35.042Z"
      },
      {
        "duration": 163,
        "start_time": "2022-01-28T06:31:35.050Z"
      },
      {
        "duration": 5,
        "start_time": "2022-01-28T06:31:35.215Z"
      },
      {
        "duration": 1753,
        "start_time": "2022-01-28T06:31:35.223Z"
      },
      {
        "duration": 651,
        "start_time": "2022-01-28T06:31:36.978Z"
      },
      {
        "duration": 236,
        "start_time": "2022-01-28T06:31:37.630Z"
      },
      {
        "duration": 638,
        "start_time": "2022-01-28T06:31:37.868Z"
      },
      {
        "duration": 258,
        "start_time": "2022-01-28T06:31:38.508Z"
      },
      {
        "duration": 29,
        "start_time": "2022-01-28T06:31:38.767Z"
      },
      {
        "duration": 301,
        "start_time": "2022-01-28T06:31:38.799Z"
      },
      {
        "duration": 203,
        "start_time": "2022-01-28T06:31:39.102Z"
      },
      {
        "duration": 585,
        "start_time": "2022-01-28T06:31:39.307Z"
      },
      {
        "duration": 1173,
        "start_time": "2022-01-28T08:29:05.530Z"
      },
      {
        "duration": 30,
        "start_time": "2022-01-28T08:29:06.705Z"
      },
      {
        "duration": 18,
        "start_time": "2022-01-28T08:29:06.737Z"
      },
      {
        "duration": 11,
        "start_time": "2022-01-28T08:29:06.757Z"
      },
      {
        "duration": 1105,
        "start_time": "2022-01-28T08:29:06.770Z"
      },
      {
        "duration": 23863,
        "start_time": "2022-01-28T08:29:07.876Z"
      },
      {
        "duration": 5,
        "start_time": "2022-01-28T08:29:31.741Z"
      },
      {
        "duration": 18,
        "start_time": "2022-01-28T08:29:31.750Z"
      },
      {
        "duration": 27,
        "start_time": "2022-01-28T08:29:31.770Z"
      },
      {
        "duration": 6,
        "start_time": "2022-01-28T08:29:31.799Z"
      },
      {
        "duration": 13,
        "start_time": "2022-01-28T08:29:31.806Z"
      },
      {
        "duration": 12,
        "start_time": "2022-01-28T08:29:31.820Z"
      },
      {
        "duration": 9,
        "start_time": "2022-01-28T08:29:31.833Z"
      },
      {
        "duration": 12,
        "start_time": "2022-01-28T08:29:31.844Z"
      },
      {
        "duration": 7,
        "start_time": "2022-01-28T08:29:31.858Z"
      },
      {
        "duration": 6,
        "start_time": "2022-01-28T08:29:31.867Z"
      },
      {
        "duration": 24,
        "start_time": "2022-01-28T08:29:31.874Z"
      },
      {
        "duration": 4,
        "start_time": "2022-01-28T08:29:31.900Z"
      },
      {
        "duration": 44,
        "start_time": "2022-01-28T08:29:31.906Z"
      },
      {
        "duration": 5,
        "start_time": "2022-01-28T08:29:31.952Z"
      },
      {
        "duration": 166,
        "start_time": "2022-01-28T08:29:31.958Z"
      },
      {
        "duration": 4,
        "start_time": "2022-01-28T08:29:32.126Z"
      },
      {
        "duration": 1817,
        "start_time": "2022-01-28T08:29:32.133Z"
      },
      {
        "duration": 660,
        "start_time": "2022-01-28T08:29:33.952Z"
      },
      {
        "duration": 253,
        "start_time": "2022-01-28T08:29:34.614Z"
      },
      {
        "duration": 644,
        "start_time": "2022-01-28T08:29:34.869Z"
      },
      {
        "duration": 251,
        "start_time": "2022-01-28T08:29:35.515Z"
      },
      {
        "duration": 29,
        "start_time": "2022-01-28T08:29:35.768Z"
      },
      {
        "duration": 302,
        "start_time": "2022-01-28T08:29:35.799Z"
      },
      {
        "duration": 213,
        "start_time": "2022-01-28T08:29:36.103Z"
      },
      {
        "duration": 511,
        "start_time": "2022-01-28T08:29:36.318Z"
      },
      {
        "duration": 1267,
        "start_time": "2022-01-28T12:55:15.281Z"
      },
      {
        "duration": 32,
        "start_time": "2022-01-28T12:55:16.550Z"
      },
      {
        "duration": 16,
        "start_time": "2022-01-28T12:55:16.585Z"
      },
      {
        "duration": 8,
        "start_time": "2022-01-28T12:55:16.603Z"
      },
      {
        "duration": 1019,
        "start_time": "2022-01-28T12:55:16.613Z"
      },
      {
        "duration": 22005,
        "start_time": "2022-01-28T12:55:17.634Z"
      },
      {
        "duration": 4,
        "start_time": "2022-01-28T12:55:39.640Z"
      },
      {
        "duration": 28,
        "start_time": "2022-01-28T12:55:39.647Z"
      },
      {
        "duration": 4,
        "start_time": "2022-01-28T12:55:39.677Z"
      },
      {
        "duration": 20,
        "start_time": "2022-01-28T12:55:39.682Z"
      },
      {
        "duration": 23,
        "start_time": "2022-01-28T12:55:39.703Z"
      },
      {
        "duration": 24,
        "start_time": "2022-01-28T12:55:39.727Z"
      },
      {
        "duration": 21,
        "start_time": "2022-01-28T12:55:39.752Z"
      },
      {
        "duration": 25,
        "start_time": "2022-01-28T12:55:39.774Z"
      },
      {
        "duration": 24,
        "start_time": "2022-01-28T12:55:39.800Z"
      },
      {
        "duration": 29,
        "start_time": "2022-01-28T12:55:39.826Z"
      },
      {
        "duration": 24,
        "start_time": "2022-01-28T12:55:39.857Z"
      },
      {
        "duration": 16,
        "start_time": "2022-01-28T12:55:39.882Z"
      },
      {
        "duration": 51,
        "start_time": "2022-01-28T12:55:39.900Z"
      },
      {
        "duration": 4,
        "start_time": "2022-01-28T12:55:39.953Z"
      },
      {
        "duration": 159,
        "start_time": "2022-01-28T12:55:39.959Z"
      },
      {
        "duration": 4,
        "start_time": "2022-01-28T12:55:40.120Z"
      },
      {
        "duration": 1769,
        "start_time": "2022-01-28T12:55:40.126Z"
      },
      {
        "duration": 696,
        "start_time": "2022-01-28T12:55:41.897Z"
      },
      {
        "duration": 247,
        "start_time": "2022-01-28T12:55:42.594Z"
      },
      {
        "duration": 629,
        "start_time": "2022-01-28T12:55:42.843Z"
      },
      {
        "duration": 273,
        "start_time": "2022-01-28T12:55:43.474Z"
      },
      {
        "duration": 23,
        "start_time": "2022-01-28T12:55:43.749Z"
      },
      {
        "duration": 2398,
        "start_time": "2022-01-28T12:55:43.774Z"
      },
      {
        "duration": 841,
        "start_time": "2022-01-28T12:55:46.173Z"
      },
      {
        "duration": 271,
        "start_time": "2022-01-28T12:55:47.016Z"
      },
      {
        "duration": 213,
        "start_time": "2022-01-28T12:55:47.289Z"
      },
      {
        "duration": 519,
        "start_time": "2022-01-28T12:55:47.504Z"
      },
      {
        "duration": 1144,
        "start_time": "2022-01-28T13:30:36.698Z"
      },
      {
        "duration": 29,
        "start_time": "2022-01-28T13:30:37.844Z"
      },
      {
        "duration": 20,
        "start_time": "2022-01-28T13:30:37.875Z"
      },
      {
        "duration": 21,
        "start_time": "2022-01-28T13:30:37.896Z"
      },
      {
        "duration": 887,
        "start_time": "2022-01-28T13:30:37.918Z"
      },
      {
        "duration": 21030,
        "start_time": "2022-01-28T13:30:38.806Z"
      },
      {
        "duration": 4,
        "start_time": "2022-01-28T13:30:59.838Z"
      },
      {
        "duration": 13,
        "start_time": "2022-01-28T13:30:59.844Z"
      },
      {
        "duration": 7,
        "start_time": "2022-01-28T13:30:59.871Z"
      },
      {
        "duration": 10,
        "start_time": "2022-01-28T13:30:59.880Z"
      },
      {
        "duration": 21,
        "start_time": "2022-01-28T13:30:59.891Z"
      },
      {
        "duration": 10,
        "start_time": "2022-01-28T13:30:59.914Z"
      },
      {
        "duration": 21,
        "start_time": "2022-01-28T13:30:59.925Z"
      },
      {
        "duration": 21,
        "start_time": "2022-01-28T13:30:59.947Z"
      },
      {
        "duration": 10,
        "start_time": "2022-01-28T13:30:59.969Z"
      },
      {
        "duration": 28,
        "start_time": "2022-01-28T13:30:59.981Z"
      },
      {
        "duration": 6,
        "start_time": "2022-01-28T13:31:00.011Z"
      },
      {
        "duration": 18,
        "start_time": "2022-01-28T13:31:00.018Z"
      },
      {
        "duration": 50,
        "start_time": "2022-01-28T13:31:00.038Z"
      },
      {
        "duration": 4,
        "start_time": "2022-01-28T13:31:00.089Z"
      },
      {
        "duration": 126,
        "start_time": "2022-01-28T13:31:00.095Z"
      },
      {
        "duration": 4,
        "start_time": "2022-01-28T13:31:00.222Z"
      },
      {
        "duration": 1672,
        "start_time": "2022-01-28T13:31:00.229Z"
      },
      {
        "duration": 608,
        "start_time": "2022-01-28T13:31:01.902Z"
      },
      {
        "duration": 220,
        "start_time": "2022-01-28T13:31:02.512Z"
      },
      {
        "duration": 601,
        "start_time": "2022-01-28T13:31:02.734Z"
      },
      {
        "duration": 291,
        "start_time": "2022-01-28T13:31:03.336Z"
      },
      {
        "duration": 10,
        "start_time": "2022-01-28T13:31:03.629Z"
      },
      {
        "duration": 2089,
        "start_time": "2022-01-28T13:31:03.640Z"
      },
      {
        "duration": 768,
        "start_time": "2022-01-28T13:31:05.730Z"
      },
      {
        "duration": 273,
        "start_time": "2022-01-28T13:31:06.499Z"
      },
      {
        "duration": 181,
        "start_time": "2022-01-28T13:31:06.773Z"
      },
      {
        "duration": 434,
        "start_time": "2022-01-28T13:31:06.955Z"
      },
      {
        "duration": 1229,
        "start_time": "2022-01-29T11:11:52.619Z"
      },
      {
        "duration": 31,
        "start_time": "2022-01-29T11:11:53.850Z"
      },
      {
        "duration": 18,
        "start_time": "2022-01-29T11:11:53.883Z"
      },
      {
        "duration": 11,
        "start_time": "2022-01-29T11:11:53.903Z"
      },
      {
        "duration": 960,
        "start_time": "2022-01-29T11:11:53.916Z"
      },
      {
        "duration": 24761,
        "start_time": "2022-01-29T11:11:54.877Z"
      },
      {
        "duration": 5,
        "start_time": "2022-01-29T11:12:19.640Z"
      },
      {
        "duration": 23,
        "start_time": "2022-01-29T11:12:19.647Z"
      },
      {
        "duration": 5,
        "start_time": "2022-01-29T11:12:19.673Z"
      },
      {
        "duration": 31,
        "start_time": "2022-01-29T11:12:19.680Z"
      },
      {
        "duration": 9,
        "start_time": "2022-01-29T11:12:19.713Z"
      },
      {
        "duration": 14,
        "start_time": "2022-01-29T11:12:19.724Z"
      },
      {
        "duration": 5,
        "start_time": "2022-01-29T11:12:19.740Z"
      },
      {
        "duration": 11,
        "start_time": "2022-01-29T11:12:19.747Z"
      },
      {
        "duration": 8,
        "start_time": "2022-01-29T11:12:19.760Z"
      },
      {
        "duration": 38,
        "start_time": "2022-01-29T11:12:19.770Z"
      },
      {
        "duration": 5,
        "start_time": "2022-01-29T11:12:19.810Z"
      },
      {
        "duration": 7,
        "start_time": "2022-01-29T11:12:19.817Z"
      },
      {
        "duration": 45,
        "start_time": "2022-01-29T11:12:19.827Z"
      },
      {
        "duration": 33,
        "start_time": "2022-01-29T11:12:19.875Z"
      },
      {
        "duration": 150,
        "start_time": "2022-01-29T11:12:19.910Z"
      },
      {
        "duration": 6,
        "start_time": "2022-01-29T11:12:20.062Z"
      },
      {
        "duration": 2088,
        "start_time": "2022-01-29T11:12:20.073Z"
      },
      {
        "duration": 700,
        "start_time": "2022-01-29T11:12:22.163Z"
      },
      {
        "duration": 300,
        "start_time": "2022-01-29T11:12:22.864Z"
      },
      {
        "duration": 663,
        "start_time": "2022-01-29T11:12:23.166Z"
      },
      {
        "duration": 254,
        "start_time": "2022-01-29T11:12:23.830Z"
      },
      {
        "duration": 29,
        "start_time": "2022-01-29T11:12:24.085Z"
      },
      {
        "duration": 2633,
        "start_time": "2022-01-29T11:12:24.116Z"
      },
      {
        "duration": 879,
        "start_time": "2022-01-29T11:12:26.751Z"
      },
      {
        "duration": 283,
        "start_time": "2022-01-29T11:12:27.632Z"
      },
      {
        "duration": 218,
        "start_time": "2022-01-29T11:12:27.916Z"
      },
      {
        "duration": 517,
        "start_time": "2022-01-29T11:12:28.136Z"
      },
      {
        "duration": 264,
        "start_time": "2022-01-29T11:14:02.710Z"
      },
      {
        "duration": 253,
        "start_time": "2022-01-29T11:14:36.209Z"
      },
      {
        "duration": 2545,
        "start_time": "2022-01-29T11:14:56.775Z"
      },
      {
        "duration": 906,
        "start_time": "2022-01-29T11:15:06.587Z"
      },
      {
        "duration": 331,
        "start_time": "2022-01-29T11:16:11.261Z"
      },
      {
        "duration": 205,
        "start_time": "2022-01-29T11:20:25.676Z"
      },
      {
        "duration": 225,
        "start_time": "2022-01-29T11:20:38.652Z"
      },
      {
        "duration": 1227,
        "start_time": "2022-02-04T07:11:03.547Z"
      },
      {
        "duration": 32,
        "start_time": "2022-02-04T07:11:04.777Z"
      },
      {
        "duration": 19,
        "start_time": "2022-02-04T07:11:04.811Z"
      },
      {
        "duration": 11,
        "start_time": "2022-02-04T07:11:04.832Z"
      },
      {
        "duration": 997,
        "start_time": "2022-02-04T07:11:04.845Z"
      },
      {
        "duration": 25265,
        "start_time": "2022-02-04T07:11:05.844Z"
      },
      {
        "duration": 5,
        "start_time": "2022-02-04T07:11:31.112Z"
      },
      {
        "duration": 35,
        "start_time": "2022-02-04T07:11:31.119Z"
      },
      {
        "duration": 10,
        "start_time": "2022-02-04T07:11:31.157Z"
      },
      {
        "duration": 13,
        "start_time": "2022-02-04T07:11:31.169Z"
      },
      {
        "duration": 10,
        "start_time": "2022-02-04T07:11:31.184Z"
      },
      {
        "duration": 19,
        "start_time": "2022-02-04T07:11:31.196Z"
      },
      {
        "duration": 25,
        "start_time": "2022-02-04T07:11:31.217Z"
      },
      {
        "duration": 21,
        "start_time": "2022-02-04T07:11:31.245Z"
      },
      {
        "duration": 11,
        "start_time": "2022-02-04T07:11:31.268Z"
      },
      {
        "duration": 12,
        "start_time": "2022-02-04T07:11:31.281Z"
      },
      {
        "duration": 17,
        "start_time": "2022-02-04T07:11:31.295Z"
      },
      {
        "duration": 21,
        "start_time": "2022-02-04T07:11:31.314Z"
      },
      {
        "duration": 56,
        "start_time": "2022-02-04T07:11:31.337Z"
      },
      {
        "duration": 5,
        "start_time": "2022-02-04T07:11:31.395Z"
      },
      {
        "duration": 159,
        "start_time": "2022-02-04T07:11:31.402Z"
      },
      {
        "duration": 5,
        "start_time": "2022-02-04T07:11:31.563Z"
      },
      {
        "duration": 2116,
        "start_time": "2022-02-04T07:11:31.571Z"
      },
      {
        "duration": 701,
        "start_time": "2022-02-04T07:11:33.689Z"
      },
      {
        "duration": 263,
        "start_time": "2022-02-04T07:11:34.392Z"
      },
      {
        "duration": 669,
        "start_time": "2022-02-04T07:11:34.658Z"
      },
      {
        "duration": 260,
        "start_time": "2022-02-04T07:11:35.329Z"
      },
      {
        "duration": 25,
        "start_time": "2022-02-04T07:11:35.591Z"
      },
      {
        "duration": 2637,
        "start_time": "2022-02-04T07:11:35.618Z"
      },
      {
        "duration": 890,
        "start_time": "2022-02-04T07:11:38.257Z"
      },
      {
        "duration": 277,
        "start_time": "2022-02-04T07:11:39.149Z"
      },
      {
        "duration": 6,
        "start_time": "2022-02-04T07:11:39.428Z"
      },
      {
        "duration": 230,
        "start_time": "2022-02-04T07:11:39.436Z"
      },
      {
        "duration": 84,
        "start_time": "2022-02-04T07:11:39.668Z"
      },
      {
        "duration": 285,
        "start_time": "2022-02-04T07:13:06.128Z"
      },
      {
        "duration": 7,
        "start_time": "2022-02-04T07:13:07.121Z"
      },
      {
        "duration": 1243,
        "start_time": "2022-02-04T07:13:23.400Z"
      },
      {
        "duration": 31,
        "start_time": "2022-02-04T07:13:24.645Z"
      },
      {
        "duration": 18,
        "start_time": "2022-02-04T07:13:24.679Z"
      },
      {
        "duration": 19,
        "start_time": "2022-02-04T07:13:24.700Z"
      },
      {
        "duration": 944,
        "start_time": "2022-02-04T07:13:24.722Z"
      },
      {
        "duration": 25104,
        "start_time": "2022-02-04T07:13:25.668Z"
      },
      {
        "duration": 5,
        "start_time": "2022-02-04T07:13:50.774Z"
      },
      {
        "duration": 36,
        "start_time": "2022-02-04T07:13:50.782Z"
      },
      {
        "duration": 5,
        "start_time": "2022-02-04T07:13:50.821Z"
      },
      {
        "duration": 8,
        "start_time": "2022-02-04T07:13:50.827Z"
      },
      {
        "duration": 11,
        "start_time": "2022-02-04T07:13:50.837Z"
      },
      {
        "duration": 12,
        "start_time": "2022-02-04T07:13:50.850Z"
      },
      {
        "duration": 8,
        "start_time": "2022-02-04T07:13:50.864Z"
      },
      {
        "duration": 36,
        "start_time": "2022-02-04T07:13:50.874Z"
      },
      {
        "duration": 7,
        "start_time": "2022-02-04T07:13:50.912Z"
      },
      {
        "duration": 6,
        "start_time": "2022-02-04T07:13:50.921Z"
      },
      {
        "duration": 11,
        "start_time": "2022-02-04T07:13:50.929Z"
      },
      {
        "duration": 14,
        "start_time": "2022-02-04T07:13:50.943Z"
      },
      {
        "duration": 68,
        "start_time": "2022-02-04T07:13:50.959Z"
      },
      {
        "duration": 5,
        "start_time": "2022-02-04T07:13:51.029Z"
      },
      {
        "duration": 158,
        "start_time": "2022-02-04T07:13:51.035Z"
      },
      {
        "duration": 12,
        "start_time": "2022-02-04T07:13:51.195Z"
      },
      {
        "duration": 1946,
        "start_time": "2022-02-04T07:13:51.210Z"
      },
      {
        "duration": 708,
        "start_time": "2022-02-04T07:13:53.158Z"
      },
      {
        "duration": 284,
        "start_time": "2022-02-04T07:13:53.868Z"
      },
      {
        "duration": 672,
        "start_time": "2022-02-04T07:13:54.153Z"
      },
      {
        "duration": 282,
        "start_time": "2022-02-04T07:13:54.827Z"
      },
      {
        "duration": 11,
        "start_time": "2022-02-04T07:13:55.111Z"
      },
      {
        "duration": 2562,
        "start_time": "2022-02-04T07:13:55.124Z"
      },
      {
        "duration": 909,
        "start_time": "2022-02-04T07:13:57.687Z"
      },
      {
        "duration": 318,
        "start_time": "2022-02-04T07:13:58.598Z"
      },
      {
        "duration": 216,
        "start_time": "2022-02-04T07:13:58.917Z"
      },
      {
        "duration": 85,
        "start_time": "2022-02-04T07:13:59.136Z"
      },
      {
        "duration": 1554,
        "start_time": "2022-02-06T12:31:48.794Z"
      },
      {
        "duration": 36,
        "start_time": "2022-02-06T12:31:50.351Z"
      },
      {
        "duration": 38,
        "start_time": "2022-02-06T12:31:50.390Z"
      },
      {
        "duration": 24,
        "start_time": "2022-02-06T12:31:50.432Z"
      },
      {
        "duration": 1394,
        "start_time": "2022-02-06T12:31:50.459Z"
      },
      {
        "duration": 40208,
        "start_time": "2022-02-06T12:31:51.856Z"
      },
      {
        "duration": 6,
        "start_time": "2022-02-06T12:32:32.066Z"
      },
      {
        "duration": 28,
        "start_time": "2022-02-06T12:32:32.076Z"
      },
      {
        "duration": 44,
        "start_time": "2022-02-06T12:32:32.108Z"
      },
      {
        "duration": 7,
        "start_time": "2022-02-06T12:32:32.155Z"
      },
      {
        "duration": 15,
        "start_time": "2022-02-06T12:32:32.165Z"
      },
      {
        "duration": 20,
        "start_time": "2022-02-06T12:32:32.183Z"
      },
      {
        "duration": 43,
        "start_time": "2022-02-06T12:32:32.206Z"
      },
      {
        "duration": 12,
        "start_time": "2022-02-06T12:32:32.252Z"
      },
      {
        "duration": 8,
        "start_time": "2022-02-06T12:32:32.266Z"
      },
      {
        "duration": 7,
        "start_time": "2022-02-06T12:32:32.277Z"
      },
      {
        "duration": 11,
        "start_time": "2022-02-06T12:32:32.286Z"
      },
      {
        "duration": 50,
        "start_time": "2022-02-06T12:32:32.300Z"
      },
      {
        "duration": 112,
        "start_time": "2022-02-06T12:32:32.354Z"
      },
      {
        "duration": 7,
        "start_time": "2022-02-06T12:32:32.469Z"
      },
      {
        "duration": 226,
        "start_time": "2022-02-06T12:32:32.479Z"
      },
      {
        "duration": 7,
        "start_time": "2022-02-06T12:32:32.707Z"
      },
      {
        "duration": 2752,
        "start_time": "2022-02-06T12:32:32.719Z"
      },
      {
        "duration": 875,
        "start_time": "2022-02-06T12:32:35.474Z"
      },
      {
        "duration": 328,
        "start_time": "2022-02-06T12:32:36.352Z"
      },
      {
        "duration": 880,
        "start_time": "2022-02-06T12:32:36.683Z"
      },
      {
        "duration": 339,
        "start_time": "2022-02-06T12:32:37.566Z"
      },
      {
        "duration": 17,
        "start_time": "2022-02-06T12:32:37.908Z"
      },
      {
        "duration": 3407,
        "start_time": "2022-02-06T12:32:37.947Z"
      },
      {
        "duration": 1283,
        "start_time": "2022-02-06T12:32:41.357Z"
      },
      {
        "duration": 348,
        "start_time": "2022-02-06T12:32:42.642Z"
      },
      {
        "duration": 310,
        "start_time": "2022-02-06T12:32:42.993Z"
      },
      {
        "duration": 151,
        "start_time": "2022-02-06T12:32:43.305Z"
      },
      {
        "duration": 2110,
        "start_time": "2022-03-17T05:50:14.912Z"
      },
      {
        "duration": 52,
        "start_time": "2022-03-17T05:50:16.975Z"
      },
      {
        "duration": 45,
        "start_time": "2022-03-17T05:50:16.983Z"
      },
      {
        "duration": 37,
        "start_time": "2022-03-17T05:50:16.993Z"
      },
      {
        "duration": 31,
        "start_time": "2022-03-17T05:50:17.001Z"
      },
      {
        "duration": 21,
        "start_time": "2022-03-17T05:50:17.012Z"
      },
      {
        "duration": 12,
        "start_time": "2022-03-17T05:50:17.023Z"
      },
      {
        "duration": 6,
        "start_time": "2022-03-17T05:50:17.030Z"
      },
      {
        "duration": -3,
        "start_time": "2022-03-17T05:50:17.041Z"
      },
      {
        "duration": -7,
        "start_time": "2022-03-17T05:50:17.047Z"
      },
      {
        "duration": -16,
        "start_time": "2022-03-17T05:50:17.057Z"
      },
      {
        "duration": -19,
        "start_time": "2022-03-17T05:50:17.062Z"
      },
      {
        "duration": -29,
        "start_time": "2022-03-17T05:50:17.073Z"
      },
      {
        "duration": -33,
        "start_time": "2022-03-17T05:50:17.079Z"
      },
      {
        "duration": -41,
        "start_time": "2022-03-17T05:50:17.089Z"
      },
      {
        "duration": -43,
        "start_time": "2022-03-17T05:50:17.093Z"
      },
      {
        "duration": -47,
        "start_time": "2022-03-17T05:50:17.098Z"
      },
      {
        "duration": -54,
        "start_time": "2022-03-17T05:50:17.108Z"
      },
      {
        "duration": -59,
        "start_time": "2022-03-17T05:50:17.114Z"
      },
      {
        "duration": -68,
        "start_time": "2022-03-17T05:50:17.124Z"
      },
      {
        "duration": -71,
        "start_time": "2022-03-17T05:50:17.129Z"
      },
      {
        "duration": -80,
        "start_time": "2022-03-17T05:50:17.139Z"
      },
      {
        "duration": -83,
        "start_time": "2022-03-17T05:50:17.144Z"
      },
      {
        "duration": -96,
        "start_time": "2022-03-17T05:50:17.158Z"
      },
      {
        "duration": -75,
        "start_time": "2022-03-17T05:50:17.164Z"
      },
      {
        "duration": -87,
        "start_time": "2022-03-17T05:50:17.178Z"
      },
      {
        "duration": -96,
        "start_time": "2022-03-17T05:50:17.188Z"
      },
      {
        "duration": -106,
        "start_time": "2022-03-17T05:50:17.200Z"
      },
      {
        "duration": -118,
        "start_time": "2022-03-17T05:50:17.213Z"
      },
      {
        "duration": -131,
        "start_time": "2022-03-17T05:50:17.228Z"
      },
      {
        "duration": -135,
        "start_time": "2022-03-17T05:50:17.233Z"
      },
      {
        "duration": -144,
        "start_time": "2022-03-17T05:50:17.243Z"
      },
      {
        "duration": -148,
        "start_time": "2022-03-17T05:50:17.248Z"
      },
      {
        "duration": 8242,
        "start_time": "2022-03-17T05:50:37.157Z"
      },
      {
        "duration": 5711,
        "start_time": "2022-03-17T05:50:52.242Z"
      },
      {
        "duration": 37,
        "start_time": "2022-03-17T05:50:57.956Z"
      },
      {
        "duration": 26,
        "start_time": "2022-03-17T05:50:57.999Z"
      },
      {
        "duration": 11,
        "start_time": "2022-03-17T05:50:58.028Z"
      },
      {
        "duration": 1636,
        "start_time": "2022-03-17T05:50:58.041Z"
      },
      {
        "duration": 36679,
        "start_time": "2022-03-17T05:50:59.679Z"
      },
      {
        "duration": 6,
        "start_time": "2022-03-17T05:51:36.361Z"
      },
      {
        "duration": 34,
        "start_time": "2022-03-17T05:51:36.370Z"
      },
      {
        "duration": 13,
        "start_time": "2022-03-17T05:51:36.406Z"
      },
      {
        "duration": 17,
        "start_time": "2022-03-17T05:51:36.422Z"
      },
      {
        "duration": 23,
        "start_time": "2022-03-17T05:51:36.442Z"
      },
      {
        "duration": 26,
        "start_time": "2022-03-17T05:51:36.468Z"
      },
      {
        "duration": 22,
        "start_time": "2022-03-17T05:51:36.496Z"
      },
      {
        "duration": 14,
        "start_time": "2022-03-17T05:51:36.520Z"
      },
      {
        "duration": 11,
        "start_time": "2022-03-17T05:51:36.537Z"
      },
      {
        "duration": 9,
        "start_time": "2022-03-17T05:51:36.550Z"
      },
      {
        "duration": 15,
        "start_time": "2022-03-17T05:51:36.561Z"
      },
      {
        "duration": 10,
        "start_time": "2022-03-17T05:51:36.578Z"
      },
      {
        "duration": 65,
        "start_time": "2022-03-17T05:51:36.590Z"
      },
      {
        "duration": 6,
        "start_time": "2022-03-17T05:51:36.657Z"
      },
      {
        "duration": 243,
        "start_time": "2022-03-17T05:51:36.665Z"
      },
      {
        "duration": 6,
        "start_time": "2022-03-17T05:51:36.913Z"
      },
      {
        "duration": 2679,
        "start_time": "2022-03-17T05:51:36.922Z"
      },
      {
        "duration": 909,
        "start_time": "2022-03-17T05:51:39.603Z"
      },
      {
        "duration": 252,
        "start_time": "2022-03-17T05:51:40.515Z"
      },
      {
        "duration": 920,
        "start_time": "2022-03-17T05:51:40.786Z"
      },
      {
        "duration": 314,
        "start_time": "2022-03-17T05:51:41.709Z"
      },
      {
        "duration": 15,
        "start_time": "2022-03-17T05:51:42.025Z"
      },
      {
        "duration": 3558,
        "start_time": "2022-03-17T05:51:42.043Z"
      },
      {
        "duration": 1214,
        "start_time": "2022-03-17T05:51:45.604Z"
      },
      {
        "duration": 345,
        "start_time": "2022-03-17T05:51:46.820Z"
      },
      {
        "duration": 301,
        "start_time": "2022-03-17T05:51:47.167Z"
      },
      {
        "duration": 83,
        "start_time": "2022-03-17T05:51:47.470Z"
      },
      {
        "duration": 37,
        "start_time": "2022-03-17T05:52:16.544Z"
      },
      {
        "duration": 8,
        "start_time": "2022-03-17T05:52:37.708Z"
      },
      {
        "duration": 3076,
        "start_time": "2022-03-17T05:56:21.962Z"
      },
      {
        "duration": 34,
        "start_time": "2022-03-17T05:56:25.041Z"
      },
      {
        "duration": 5751,
        "start_time": "2022-03-17T05:56:31.855Z"
      },
      {
        "duration": 404,
        "start_time": "2022-03-17T05:56:37.608Z"
      },
      {
        "duration": 69,
        "start_time": "2022-03-17T05:56:37.948Z"
      },
      {
        "duration": 49,
        "start_time": "2022-03-17T05:56:37.970Z"
      },
      {
        "duration": 44,
        "start_time": "2022-03-17T05:56:37.976Z"
      },
      {
        "duration": 40,
        "start_time": "2022-03-17T05:56:37.981Z"
      },
      {
        "duration": 37,
        "start_time": "2022-03-17T05:56:37.986Z"
      },
      {
        "duration": 27,
        "start_time": "2022-03-17T05:56:37.997Z"
      },
      {
        "duration": 23,
        "start_time": "2022-03-17T05:56:38.002Z"
      },
      {
        "duration": 13,
        "start_time": "2022-03-17T05:56:38.013Z"
      },
      {
        "duration": 9,
        "start_time": "2022-03-17T05:56:38.019Z"
      },
      {
        "duration": 0,
        "start_time": "2022-03-17T05:56:38.029Z"
      },
      {
        "duration": -4,
        "start_time": "2022-03-17T05:56:38.034Z"
      },
      {
        "duration": -14,
        "start_time": "2022-03-17T05:56:38.045Z"
      },
      {
        "duration": -19,
        "start_time": "2022-03-17T05:56:38.051Z"
      },
      {
        "duration": -28,
        "start_time": "2022-03-17T05:56:38.062Z"
      },
      {
        "duration": -33,
        "start_time": "2022-03-17T05:56:38.068Z"
      },
      {
        "duration": -41,
        "start_time": "2022-03-17T05:56:38.077Z"
      },
      {
        "duration": -46,
        "start_time": "2022-03-17T05:56:38.083Z"
      },
      {
        "duration": -55,
        "start_time": "2022-03-17T05:56:38.093Z"
      },
      {
        "duration": -57,
        "start_time": "2022-03-17T05:56:38.097Z"
      },
      {
        "duration": -62,
        "start_time": "2022-03-17T05:56:38.103Z"
      },
      {
        "duration": -71,
        "start_time": "2022-03-17T05:56:38.113Z"
      },
      {
        "duration": -75,
        "start_time": "2022-03-17T05:56:38.118Z"
      },
      {
        "duration": -83,
        "start_time": "2022-03-17T05:56:38.128Z"
      },
      {
        "duration": -86,
        "start_time": "2022-03-17T05:56:38.132Z"
      },
      {
        "duration": -103,
        "start_time": "2022-03-17T05:56:38.150Z"
      },
      {
        "duration": -111,
        "start_time": "2022-03-17T05:56:38.160Z"
      },
      {
        "duration": -116,
        "start_time": "2022-03-17T05:56:38.166Z"
      },
      {
        "duration": -124,
        "start_time": "2022-03-17T05:56:38.175Z"
      },
      {
        "duration": -93,
        "start_time": "2022-03-17T05:56:38.180Z"
      },
      {
        "duration": -95,
        "start_time": "2022-03-17T05:56:38.184Z"
      },
      {
        "duration": -105,
        "start_time": "2022-03-17T05:56:38.195Z"
      },
      {
        "duration": -109,
        "start_time": "2022-03-17T05:56:38.201Z"
      },
      {
        "duration": -117,
        "start_time": "2022-03-17T05:56:38.210Z"
      },
      {
        "duration": 6874,
        "start_time": "2022-03-17T07:48:04.454Z"
      },
      {
        "duration": 99,
        "start_time": "2022-03-17T07:48:11.331Z"
      },
      {
        "duration": 25,
        "start_time": "2022-03-17T07:48:11.433Z"
      },
      {
        "duration": 15,
        "start_time": "2022-03-17T07:48:11.460Z"
      },
      {
        "duration": 1490,
        "start_time": "2022-03-17T07:48:11.478Z"
      },
      {
        "duration": 39256,
        "start_time": "2022-03-17T07:48:12.970Z"
      },
      {
        "duration": 6,
        "start_time": "2022-03-17T07:48:52.229Z"
      },
      {
        "duration": 21,
        "start_time": "2022-03-17T07:48:52.239Z"
      },
      {
        "duration": 7,
        "start_time": "2022-03-17T07:48:52.288Z"
      },
      {
        "duration": 7,
        "start_time": "2022-03-17T07:48:52.298Z"
      },
      {
        "duration": 10,
        "start_time": "2022-03-17T07:48:52.308Z"
      },
      {
        "duration": 17,
        "start_time": "2022-03-17T07:48:52.321Z"
      },
      {
        "duration": 47,
        "start_time": "2022-03-17T07:48:52.340Z"
      },
      {
        "duration": 8,
        "start_time": "2022-03-17T07:48:52.390Z"
      },
      {
        "duration": 9,
        "start_time": "2022-03-17T07:48:52.401Z"
      },
      {
        "duration": 8,
        "start_time": "2022-03-17T07:48:52.412Z"
      },
      {
        "duration": 8,
        "start_time": "2022-03-17T07:48:52.422Z"
      },
      {
        "duration": 7,
        "start_time": "2022-03-17T07:48:52.433Z"
      },
      {
        "duration": 550559,
        "start_time": "2022-03-17T07:48:52.442Z"
      },
      {
        "duration": 15,
        "start_time": "2022-03-17T07:58:03.003Z"
      },
      {
        "duration": 84,
        "start_time": "2022-03-17T07:58:03.021Z"
      },
      {
        "duration": 6,
        "start_time": "2022-03-17T07:58:03.107Z"
      },
      {
        "duration": 235,
        "start_time": "2022-03-17T07:58:03.118Z"
      },
      {
        "duration": 6,
        "start_time": "2022-03-17T07:58:03.356Z"
      },
      {
        "duration": 2703,
        "start_time": "2022-03-17T07:58:03.364Z"
      },
      {
        "duration": 917,
        "start_time": "2022-03-17T07:58:06.069Z"
      },
      {
        "duration": 264,
        "start_time": "2022-03-17T07:58:06.988Z"
      },
      {
        "duration": 840,
        "start_time": "2022-03-17T07:58:07.254Z"
      },
      {
        "duration": 317,
        "start_time": "2022-03-17T07:58:08.097Z"
      },
      {
        "duration": 17,
        "start_time": "2022-03-17T07:58:08.418Z"
      },
      {
        "duration": 3765,
        "start_time": "2022-03-17T07:58:08.438Z"
      },
      {
        "duration": 1531,
        "start_time": "2022-03-17T07:58:12.206Z"
      },
      {
        "duration": 403,
        "start_time": "2022-03-17T07:58:13.741Z"
      },
      {
        "duration": 340,
        "start_time": "2022-03-17T07:58:14.147Z"
      },
      {
        "duration": 88,
        "start_time": "2022-03-17T07:58:14.490Z"
      },
      {
        "duration": 384,
        "start_time": "2022-03-17T07:58:59.981Z"
      },
      {
        "duration": 6170,
        "start_time": "2022-03-17T07:59:07.282Z"
      },
      {
        "duration": 35,
        "start_time": "2022-03-17T07:59:13.455Z"
      },
      {
        "duration": 26,
        "start_time": "2022-03-17T07:59:13.493Z"
      },
      {
        "duration": 32,
        "start_time": "2022-03-17T07:59:13.522Z"
      },
      {
        "duration": 1541,
        "start_time": "2022-03-17T07:59:13.557Z"
      },
      {
        "duration": 36866,
        "start_time": "2022-03-17T07:59:15.100Z"
      },
      {
        "duration": 18,
        "start_time": "2022-03-17T07:59:51.969Z"
      },
      {
        "duration": 27,
        "start_time": "2022-03-17T07:59:51.991Z"
      },
      {
        "duration": 5,
        "start_time": "2022-03-17T07:59:52.022Z"
      },
      {
        "duration": 9,
        "start_time": "2022-03-17T07:59:52.030Z"
      },
      {
        "duration": 13,
        "start_time": "2022-03-17T07:59:52.042Z"
      },
      {
        "duration": 16,
        "start_time": "2022-03-17T07:59:52.088Z"
      },
      {
        "duration": 6,
        "start_time": "2022-03-17T07:59:52.106Z"
      },
      {
        "duration": 10,
        "start_time": "2022-03-17T07:59:52.115Z"
      },
      {
        "duration": 8,
        "start_time": "2022-03-17T07:59:52.128Z"
      },
      {
        "duration": 12,
        "start_time": "2022-03-17T07:59:52.138Z"
      },
      {
        "duration": 9,
        "start_time": "2022-03-17T07:59:52.187Z"
      },
      {
        "duration": 8,
        "start_time": "2022-03-17T07:59:52.198Z"
      },
      {
        "duration": 553217,
        "start_time": "2022-03-17T07:59:52.208Z"
      },
      {
        "duration": 16,
        "start_time": "2022-03-17T08:09:05.428Z"
      },
      {
        "duration": 381,
        "start_time": "2022-03-17T08:09:05.446Z"
      },
      {
        "duration": 197,
        "start_time": "2022-03-17T08:09:05.634Z"
      },
      {
        "duration": 194,
        "start_time": "2022-03-17T08:09:05.639Z"
      },
      {
        "duration": 189,
        "start_time": "2022-03-17T08:09:05.645Z"
      },
      {
        "duration": 184,
        "start_time": "2022-03-17T08:09:05.652Z"
      },
      {
        "duration": 181,
        "start_time": "2022-03-17T08:09:05.657Z"
      },
      {
        "duration": 178,
        "start_time": "2022-03-17T08:09:05.662Z"
      },
      {
        "duration": 174,
        "start_time": "2022-03-17T08:09:05.667Z"
      },
      {
        "duration": 172,
        "start_time": "2022-03-17T08:09:05.672Z"
      },
      {
        "duration": 167,
        "start_time": "2022-03-17T08:09:05.678Z"
      },
      {
        "duration": 165,
        "start_time": "2022-03-17T08:09:05.682Z"
      },
      {
        "duration": 161,
        "start_time": "2022-03-17T08:09:05.688Z"
      },
      {
        "duration": 158,
        "start_time": "2022-03-17T08:09:05.693Z"
      },
      {
        "duration": 153,
        "start_time": "2022-03-17T08:09:05.699Z"
      },
      {
        "duration": 150,
        "start_time": "2022-03-17T08:09:05.703Z"
      },
      {
        "duration": 147,
        "start_time": "2022-03-17T08:09:05.708Z"
      },
      {
        "duration": 144,
        "start_time": "2022-03-17T08:09:05.713Z"
      },
      {
        "duration": 141,
        "start_time": "2022-03-17T08:09:05.718Z"
      },
      {
        "duration": 169209,
        "start_time": "2022-03-17T09:01:24.523Z"
      },
      {
        "duration": 1249,
        "start_time": "2022-03-17T09:05:13.138Z"
      },
      {
        "duration": 19,
        "start_time": "2022-03-17T09:05:17.185Z"
      },
      {
        "duration": 16357,
        "start_time": "2022-03-17T12:19:17.963Z"
      },
      {
        "duration": 0,
        "start_time": "2022-03-17T12:19:34.326Z"
      },
      {
        "duration": 0,
        "start_time": "2022-03-17T12:19:34.328Z"
      },
      {
        "duration": 0,
        "start_time": "2022-03-17T12:19:34.330Z"
      },
      {
        "duration": 0,
        "start_time": "2022-03-17T12:19:34.332Z"
      },
      {
        "duration": 0,
        "start_time": "2022-03-17T12:19:34.334Z"
      },
      {
        "duration": 0,
        "start_time": "2022-03-17T12:19:34.335Z"
      },
      {
        "duration": 0,
        "start_time": "2022-03-17T12:19:34.337Z"
      },
      {
        "duration": 0,
        "start_time": "2022-03-17T12:19:34.339Z"
      },
      {
        "duration": 0,
        "start_time": "2022-03-17T12:19:34.340Z"
      },
      {
        "duration": 0,
        "start_time": "2022-03-17T12:19:34.344Z"
      },
      {
        "duration": 0,
        "start_time": "2022-03-17T12:19:34.346Z"
      },
      {
        "duration": 0,
        "start_time": "2022-03-17T12:19:34.347Z"
      },
      {
        "duration": 0,
        "start_time": "2022-03-17T12:19:34.349Z"
      },
      {
        "duration": 0,
        "start_time": "2022-03-17T12:19:34.350Z"
      },
      {
        "duration": 0,
        "start_time": "2022-03-17T12:19:34.351Z"
      },
      {
        "duration": 0,
        "start_time": "2022-03-17T12:19:34.353Z"
      },
      {
        "duration": 0,
        "start_time": "2022-03-17T12:19:34.355Z"
      },
      {
        "duration": 0,
        "start_time": "2022-03-17T12:19:34.356Z"
      },
      {
        "duration": 0,
        "start_time": "2022-03-17T12:19:34.403Z"
      },
      {
        "duration": 0,
        "start_time": "2022-03-17T12:19:34.408Z"
      },
      {
        "duration": 0,
        "start_time": "2022-03-17T12:19:34.410Z"
      },
      {
        "duration": 0,
        "start_time": "2022-03-17T12:19:34.411Z"
      },
      {
        "duration": 0,
        "start_time": "2022-03-17T12:19:34.412Z"
      },
      {
        "duration": 0,
        "start_time": "2022-03-17T12:19:34.414Z"
      },
      {
        "duration": 0,
        "start_time": "2022-03-17T12:19:34.415Z"
      },
      {
        "duration": 0,
        "start_time": "2022-03-17T12:19:34.417Z"
      },
      {
        "duration": 0,
        "start_time": "2022-03-17T12:19:34.418Z"
      },
      {
        "duration": 0,
        "start_time": "2022-03-17T12:19:34.420Z"
      },
      {
        "duration": 0,
        "start_time": "2022-03-17T12:19:34.421Z"
      },
      {
        "duration": 0,
        "start_time": "2022-03-17T12:19:34.422Z"
      },
      {
        "duration": 0,
        "start_time": "2022-03-17T12:19:34.424Z"
      },
      {
        "duration": 0,
        "start_time": "2022-03-17T12:19:34.425Z"
      },
      {
        "duration": 0,
        "start_time": "2022-03-17T12:19:34.426Z"
      },
      {
        "duration": 0,
        "start_time": "2022-03-17T12:19:34.428Z"
      },
      {
        "duration": 0,
        "start_time": "2022-03-17T12:19:34.429Z"
      },
      {
        "duration": 0,
        "start_time": "2022-03-17T12:19:34.430Z"
      },
      {
        "duration": 0,
        "start_time": "2022-03-17T12:19:34.432Z"
      },
      {
        "duration": 3266,
        "start_time": "2022-03-17T12:22:32.325Z"
      },
      {
        "duration": 6282,
        "start_time": "2022-03-17T12:23:34.893Z"
      },
      {
        "duration": 0,
        "start_time": "2022-03-17T12:23:41.180Z"
      },
      {
        "duration": 0,
        "start_time": "2022-03-17T12:23:41.182Z"
      },
      {
        "duration": 0,
        "start_time": "2022-03-17T12:23:41.184Z"
      },
      {
        "duration": 0,
        "start_time": "2022-03-17T12:23:41.202Z"
      },
      {
        "duration": 0,
        "start_time": "2022-03-17T12:23:41.204Z"
      },
      {
        "duration": 0,
        "start_time": "2022-03-17T12:23:41.212Z"
      },
      {
        "duration": 0,
        "start_time": "2022-03-17T12:23:41.213Z"
      },
      {
        "duration": 0,
        "start_time": "2022-03-17T12:23:41.215Z"
      },
      {
        "duration": 0,
        "start_time": "2022-03-17T12:23:41.216Z"
      },
      {
        "duration": 0,
        "start_time": "2022-03-17T12:23:41.221Z"
      },
      {
        "duration": 0,
        "start_time": "2022-03-17T12:23:41.223Z"
      },
      {
        "duration": 0,
        "start_time": "2022-03-17T12:23:41.224Z"
      },
      {
        "duration": 0,
        "start_time": "2022-03-17T12:23:41.225Z"
      },
      {
        "duration": 0,
        "start_time": "2022-03-17T12:23:41.226Z"
      },
      {
        "duration": 0,
        "start_time": "2022-03-17T12:23:41.232Z"
      },
      {
        "duration": 0,
        "start_time": "2022-03-17T12:23:41.237Z"
      },
      {
        "duration": 0,
        "start_time": "2022-03-17T12:23:41.239Z"
      },
      {
        "duration": 0,
        "start_time": "2022-03-17T12:23:41.240Z"
      },
      {
        "duration": 0,
        "start_time": "2022-03-17T12:23:41.241Z"
      },
      {
        "duration": 0,
        "start_time": "2022-03-17T12:23:41.243Z"
      },
      {
        "duration": 0,
        "start_time": "2022-03-17T12:23:41.244Z"
      },
      {
        "duration": 0,
        "start_time": "2022-03-17T12:23:41.246Z"
      },
      {
        "duration": 0,
        "start_time": "2022-03-17T12:23:41.247Z"
      },
      {
        "duration": 0,
        "start_time": "2022-03-17T12:23:41.248Z"
      },
      {
        "duration": 0,
        "start_time": "2022-03-17T12:23:41.250Z"
      },
      {
        "duration": 0,
        "start_time": "2022-03-17T12:23:41.251Z"
      },
      {
        "duration": 0,
        "start_time": "2022-03-17T12:23:41.252Z"
      },
      {
        "duration": 1,
        "start_time": "2022-03-17T12:23:41.253Z"
      },
      {
        "duration": 0,
        "start_time": "2022-03-17T12:23:41.303Z"
      },
      {
        "duration": 0,
        "start_time": "2022-03-17T12:23:41.305Z"
      },
      {
        "duration": 0,
        "start_time": "2022-03-17T12:23:41.308Z"
      },
      {
        "duration": 0,
        "start_time": "2022-03-17T12:23:41.309Z"
      },
      {
        "duration": 0,
        "start_time": "2022-03-17T12:23:41.310Z"
      },
      {
        "duration": 0,
        "start_time": "2022-03-17T12:23:41.312Z"
      },
      {
        "duration": 0,
        "start_time": "2022-03-17T12:23:41.313Z"
      },
      {
        "duration": 0,
        "start_time": "2022-03-17T12:23:41.314Z"
      },
      {
        "duration": 0,
        "start_time": "2022-03-17T12:23:41.315Z"
      },
      {
        "duration": 42,
        "start_time": "2022-03-17T12:28:45.940Z"
      },
      {
        "duration": 3735,
        "start_time": "2022-03-17T12:29:00.327Z"
      },
      {
        "duration": 4991,
        "start_time": "2022-03-17T12:29:22.116Z"
      },
      {
        "duration": 31,
        "start_time": "2022-03-17T12:29:27.111Z"
      },
      {
        "duration": 22,
        "start_time": "2022-03-17T12:29:27.144Z"
      },
      {
        "duration": 36,
        "start_time": "2022-03-17T12:29:27.170Z"
      },
      {
        "duration": 1245,
        "start_time": "2022-03-17T12:29:27.209Z"
      },
      {
        "duration": 9664,
        "start_time": "2022-03-17T12:29:28.456Z"
      },
      {
        "duration": 6,
        "start_time": "2022-03-17T12:29:38.123Z"
      },
      {
        "duration": 41,
        "start_time": "2022-03-17T12:29:38.131Z"
      },
      {
        "duration": 7,
        "start_time": "2022-03-17T12:29:38.174Z"
      },
      {
        "duration": 6,
        "start_time": "2022-03-17T12:29:38.184Z"
      },
      {
        "duration": 278,
        "start_time": "2022-03-17T12:29:38.191Z"
      },
      {
        "duration": 11,
        "start_time": "2022-03-17T12:29:38.470Z"
      },
      {
        "duration": 22,
        "start_time": "2022-03-17T12:29:38.483Z"
      },
      {
        "duration": 13,
        "start_time": "2022-03-17T12:29:38.508Z"
      },
      {
        "duration": 14,
        "start_time": "2022-03-17T12:29:38.523Z"
      },
      {
        "duration": 7,
        "start_time": "2022-03-17T12:29:38.539Z"
      },
      {
        "duration": 9,
        "start_time": "2022-03-17T12:29:38.548Z"
      },
      {
        "duration": 11,
        "start_time": "2022-03-17T12:29:38.559Z"
      },
      {
        "duration": 153,
        "start_time": "2022-03-17T12:29:38.572Z"
      },
      {
        "duration": 0,
        "start_time": "2022-03-17T12:29:38.728Z"
      },
      {
        "duration": 0,
        "start_time": "2022-03-17T12:29:38.729Z"
      },
      {
        "duration": 0,
        "start_time": "2022-03-17T12:29:38.731Z"
      },
      {
        "duration": 0,
        "start_time": "2022-03-17T12:29:38.733Z"
      },
      {
        "duration": 0,
        "start_time": "2022-03-17T12:29:38.735Z"
      },
      {
        "duration": 0,
        "start_time": "2022-03-17T12:29:38.737Z"
      },
      {
        "duration": 0,
        "start_time": "2022-03-17T12:29:38.738Z"
      },
      {
        "duration": 0,
        "start_time": "2022-03-17T12:29:38.740Z"
      },
      {
        "duration": 0,
        "start_time": "2022-03-17T12:29:38.743Z"
      },
      {
        "duration": 0,
        "start_time": "2022-03-17T12:29:38.744Z"
      },
      {
        "duration": 0,
        "start_time": "2022-03-17T12:29:38.746Z"
      },
      {
        "duration": 0,
        "start_time": "2022-03-17T12:29:38.747Z"
      },
      {
        "duration": 0,
        "start_time": "2022-03-17T12:29:38.748Z"
      },
      {
        "duration": 0,
        "start_time": "2022-03-17T12:29:38.749Z"
      },
      {
        "duration": 0,
        "start_time": "2022-03-17T12:29:38.751Z"
      },
      {
        "duration": 0,
        "start_time": "2022-03-17T12:29:38.752Z"
      },
      {
        "duration": 0,
        "start_time": "2022-03-17T12:29:38.754Z"
      },
      {
        "duration": 0,
        "start_time": "2022-03-17T12:29:38.756Z"
      },
      {
        "duration": 0,
        "start_time": "2022-03-17T12:29:38.757Z"
      },
      {
        "duration": 3553,
        "start_time": "2022-03-17T12:36:58.955Z"
      },
      {
        "duration": 4949,
        "start_time": "2022-03-17T12:37:47.653Z"
      },
      {
        "duration": 32,
        "start_time": "2022-03-17T12:37:52.606Z"
      },
      {
        "duration": 23,
        "start_time": "2022-03-17T12:37:52.640Z"
      },
      {
        "duration": 36,
        "start_time": "2022-03-17T12:37:52.666Z"
      },
      {
        "duration": 1270,
        "start_time": "2022-03-17T12:37:52.704Z"
      },
      {
        "duration": 10680,
        "start_time": "2022-03-17T12:37:53.976Z"
      },
      {
        "duration": 7,
        "start_time": "2022-03-17T12:38:04.658Z"
      },
      {
        "duration": 54,
        "start_time": "2022-03-17T12:38:04.667Z"
      },
      {
        "duration": 8,
        "start_time": "2022-03-17T12:38:04.724Z"
      },
      {
        "duration": 10,
        "start_time": "2022-03-17T12:38:04.735Z"
      },
      {
        "duration": 324,
        "start_time": "2022-03-17T12:38:04.746Z"
      },
      {
        "duration": 33,
        "start_time": "2022-03-17T12:38:05.073Z"
      },
      {
        "duration": 7,
        "start_time": "2022-03-17T12:38:05.111Z"
      },
      {
        "duration": 20,
        "start_time": "2022-03-17T12:38:05.121Z"
      },
      {
        "duration": 13,
        "start_time": "2022-03-17T12:38:05.143Z"
      },
      {
        "duration": 9,
        "start_time": "2022-03-17T12:38:05.158Z"
      },
      {
        "duration": 19,
        "start_time": "2022-03-17T12:38:05.168Z"
      },
      {
        "duration": 13,
        "start_time": "2022-03-17T12:38:05.190Z"
      },
      {
        "duration": 23,
        "start_time": "2022-03-17T12:38:05.206Z"
      },
      {
        "duration": 26,
        "start_time": "2022-03-17T12:38:05.232Z"
      },
      {
        "duration": 10,
        "start_time": "2022-03-17T12:38:05.260Z"
      },
      {
        "duration": 17,
        "start_time": "2022-03-17T12:38:05.272Z"
      },
      {
        "duration": 31,
        "start_time": "2022-03-17T12:38:05.292Z"
      },
      {
        "duration": 72,
        "start_time": "2022-03-17T12:38:05.325Z"
      },
      {
        "duration": 10,
        "start_time": "2022-03-17T12:38:05.399Z"
      },
      {
        "duration": 130,
        "start_time": "2022-03-17T12:38:05.411Z"
      },
      {
        "duration": 6,
        "start_time": "2022-03-17T12:38:05.543Z"
      },
      {
        "duration": 2521,
        "start_time": "2022-03-17T12:38:05.553Z"
      },
      {
        "duration": 891,
        "start_time": "2022-03-17T12:38:08.077Z"
      },
      {
        "duration": 390,
        "start_time": "2022-03-17T12:38:08.970Z"
      },
      {
        "duration": 0,
        "start_time": "2022-03-17T12:38:09.362Z"
      },
      {
        "duration": 0,
        "start_time": "2022-03-17T12:38:09.364Z"
      },
      {
        "duration": 0,
        "start_time": "2022-03-17T12:38:09.365Z"
      },
      {
        "duration": 0,
        "start_time": "2022-03-17T12:38:09.367Z"
      },
      {
        "duration": 0,
        "start_time": "2022-03-17T12:38:09.369Z"
      },
      {
        "duration": 0,
        "start_time": "2022-03-17T12:38:09.370Z"
      },
      {
        "duration": 0,
        "start_time": "2022-03-17T12:38:09.372Z"
      },
      {
        "duration": 0,
        "start_time": "2022-03-17T12:38:09.374Z"
      },
      {
        "duration": 105898,
        "start_time": "2022-03-17T16:37:50.308Z"
      },
      {
        "duration": 0,
        "start_time": "2022-03-17T16:39:36.209Z"
      },
      {
        "duration": 0,
        "start_time": "2022-03-17T16:39:36.210Z"
      },
      {
        "duration": 0,
        "start_time": "2022-03-17T16:39:36.211Z"
      },
      {
        "duration": 0,
        "start_time": "2022-03-17T16:39:36.212Z"
      },
      {
        "duration": 0,
        "start_time": "2022-03-17T16:39:36.214Z"
      },
      {
        "duration": 0,
        "start_time": "2022-03-17T16:39:36.215Z"
      },
      {
        "duration": 0,
        "start_time": "2022-03-17T16:39:36.216Z"
      },
      {
        "duration": 0,
        "start_time": "2022-03-17T16:39:36.217Z"
      },
      {
        "duration": 0,
        "start_time": "2022-03-17T16:39:36.218Z"
      },
      {
        "duration": 0,
        "start_time": "2022-03-17T16:39:36.219Z"
      },
      {
        "duration": 0,
        "start_time": "2022-03-17T16:39:36.233Z"
      },
      {
        "duration": 0,
        "start_time": "2022-03-17T16:39:36.234Z"
      },
      {
        "duration": 0,
        "start_time": "2022-03-17T16:39:36.235Z"
      },
      {
        "duration": 0,
        "start_time": "2022-03-17T16:39:36.236Z"
      },
      {
        "duration": 0,
        "start_time": "2022-03-17T16:39:36.237Z"
      },
      {
        "duration": 0,
        "start_time": "2022-03-17T16:39:36.238Z"
      },
      {
        "duration": 0,
        "start_time": "2022-03-17T16:39:36.239Z"
      },
      {
        "duration": 0,
        "start_time": "2022-03-17T16:39:36.240Z"
      },
      {
        "duration": 0,
        "start_time": "2022-03-17T16:39:36.241Z"
      },
      {
        "duration": 0,
        "start_time": "2022-03-17T16:39:36.242Z"
      },
      {
        "duration": 0,
        "start_time": "2022-03-17T16:39:36.243Z"
      },
      {
        "duration": 0,
        "start_time": "2022-03-17T16:39:36.244Z"
      },
      {
        "duration": 0,
        "start_time": "2022-03-17T16:39:36.245Z"
      },
      {
        "duration": 0,
        "start_time": "2022-03-17T16:39:36.246Z"
      },
      {
        "duration": 0,
        "start_time": "2022-03-17T16:39:36.247Z"
      },
      {
        "duration": 0,
        "start_time": "2022-03-17T16:39:36.248Z"
      },
      {
        "duration": 0,
        "start_time": "2022-03-17T16:39:36.249Z"
      },
      {
        "duration": 0,
        "start_time": "2022-03-17T16:39:36.250Z"
      },
      {
        "duration": 0,
        "start_time": "2022-03-17T16:39:36.251Z"
      },
      {
        "duration": 0,
        "start_time": "2022-03-17T16:39:36.252Z"
      },
      {
        "duration": 0,
        "start_time": "2022-03-17T16:39:36.253Z"
      },
      {
        "duration": 0,
        "start_time": "2022-03-17T16:39:36.254Z"
      },
      {
        "duration": 0,
        "start_time": "2022-03-17T16:39:36.255Z"
      },
      {
        "duration": 0,
        "start_time": "2022-03-17T16:39:36.256Z"
      },
      {
        "duration": 0,
        "start_time": "2022-03-17T16:39:36.257Z"
      },
      {
        "duration": 0,
        "start_time": "2022-03-17T16:39:36.258Z"
      },
      {
        "duration": 0,
        "start_time": "2022-03-17T16:39:36.259Z"
      },
      {
        "duration": 104093,
        "start_time": "2022-03-17T16:47:47.117Z"
      },
      {
        "duration": 104171,
        "start_time": "2022-03-17T16:50:51.565Z"
      },
      {
        "duration": 105623,
        "start_time": "2022-03-17T16:59:23.490Z"
      },
      {
        "duration": 27,
        "start_time": "2022-03-17T17:01:09.115Z"
      },
      {
        "duration": 20,
        "start_time": "2022-03-17T17:01:09.143Z"
      },
      {
        "duration": 14,
        "start_time": "2022-03-17T17:01:09.165Z"
      },
      {
        "duration": 1076,
        "start_time": "2022-03-17T17:01:09.181Z"
      },
      {
        "duration": 7342,
        "start_time": "2022-03-17T17:01:10.260Z"
      },
      {
        "duration": 4,
        "start_time": "2022-03-17T17:01:17.604Z"
      },
      {
        "duration": 30,
        "start_time": "2022-03-17T17:01:17.609Z"
      },
      {
        "duration": 4,
        "start_time": "2022-03-17T17:01:17.641Z"
      },
      {
        "duration": 6,
        "start_time": "2022-03-17T17:01:17.647Z"
      },
      {
        "duration": 253,
        "start_time": "2022-03-17T17:01:17.654Z"
      },
      {
        "duration": 9,
        "start_time": "2022-03-17T17:01:17.908Z"
      },
      {
        "duration": 17,
        "start_time": "2022-03-17T17:01:17.919Z"
      },
      {
        "duration": 6,
        "start_time": "2022-03-17T17:01:17.938Z"
      },
      {
        "duration": 8,
        "start_time": "2022-03-17T17:01:17.946Z"
      },
      {
        "duration": 4,
        "start_time": "2022-03-17T17:01:17.956Z"
      },
      {
        "duration": 6,
        "start_time": "2022-03-17T17:01:17.962Z"
      },
      {
        "duration": 7,
        "start_time": "2022-03-17T17:01:17.969Z"
      },
      {
        "duration": 4,
        "start_time": "2022-03-17T17:01:17.977Z"
      },
      {
        "duration": 8,
        "start_time": "2022-03-17T17:01:17.982Z"
      },
      {
        "duration": 5,
        "start_time": "2022-03-17T17:01:17.991Z"
      },
      {
        "duration": 6,
        "start_time": "2022-03-17T17:01:17.997Z"
      },
      {
        "duration": 3,
        "start_time": "2022-03-17T17:01:18.032Z"
      },
      {
        "duration": 45,
        "start_time": "2022-03-17T17:01:18.037Z"
      },
      {
        "duration": 5,
        "start_time": "2022-03-17T17:01:18.084Z"
      },
      {
        "duration": 119,
        "start_time": "2022-03-17T17:01:18.090Z"
      },
      {
        "duration": 4,
        "start_time": "2022-03-17T17:01:18.211Z"
      },
      {
        "duration": 1894,
        "start_time": "2022-03-17T17:01:18.218Z"
      },
      {
        "duration": 669,
        "start_time": "2022-03-17T17:01:20.114Z"
      },
      {
        "duration": 293,
        "start_time": "2022-03-17T17:01:20.785Z"
      },
      {
        "duration": 0,
        "start_time": "2022-03-17T17:01:21.079Z"
      },
      {
        "duration": 0,
        "start_time": "2022-03-17T17:01:21.081Z"
      },
      {
        "duration": 0,
        "start_time": "2022-03-17T17:01:21.082Z"
      },
      {
        "duration": 0,
        "start_time": "2022-03-17T17:01:21.083Z"
      },
      {
        "duration": 0,
        "start_time": "2022-03-17T17:01:21.084Z"
      },
      {
        "duration": 0,
        "start_time": "2022-03-17T17:01:21.085Z"
      },
      {
        "duration": 0,
        "start_time": "2022-03-17T17:01:21.086Z"
      },
      {
        "duration": 0,
        "start_time": "2022-03-17T17:01:21.087Z"
      },
      {
        "duration": 6550,
        "start_time": "2022-03-17T18:47:09.518Z"
      },
      {
        "duration": 47,
        "start_time": "2022-03-17T18:47:16.071Z"
      },
      {
        "duration": 25,
        "start_time": "2022-03-17T18:47:16.125Z"
      },
      {
        "duration": 16,
        "start_time": "2022-03-17T18:47:16.152Z"
      },
      {
        "duration": 1054,
        "start_time": "2022-03-17T18:47:16.171Z"
      },
      {
        "duration": 7644,
        "start_time": "2022-03-17T18:47:17.227Z"
      },
      {
        "duration": 4,
        "start_time": "2022-03-17T18:47:24.872Z"
      },
      {
        "duration": 31,
        "start_time": "2022-03-17T18:47:24.877Z"
      },
      {
        "duration": 6,
        "start_time": "2022-03-17T18:47:24.909Z"
      },
      {
        "duration": 5,
        "start_time": "2022-03-17T18:47:24.916Z"
      },
      {
        "duration": 210,
        "start_time": "2022-03-17T18:47:24.923Z"
      },
      {
        "duration": 8,
        "start_time": "2022-03-17T18:47:25.135Z"
      },
      {
        "duration": 5,
        "start_time": "2022-03-17T18:47:25.145Z"
      },
      {
        "duration": 5,
        "start_time": "2022-03-17T18:47:25.152Z"
      },
      {
        "duration": 12,
        "start_time": "2022-03-17T18:47:25.158Z"
      },
      {
        "duration": 3,
        "start_time": "2022-03-17T18:47:25.172Z"
      },
      {
        "duration": 33,
        "start_time": "2022-03-17T18:47:25.176Z"
      },
      {
        "duration": 4,
        "start_time": "2022-03-17T18:47:25.211Z"
      },
      {
        "duration": 4,
        "start_time": "2022-03-17T18:47:25.216Z"
      },
      {
        "duration": 9,
        "start_time": "2022-03-17T18:47:25.222Z"
      },
      {
        "duration": 9,
        "start_time": "2022-03-17T18:47:25.232Z"
      },
      {
        "duration": 9,
        "start_time": "2022-03-17T18:47:25.242Z"
      },
      {
        "duration": 7,
        "start_time": "2022-03-17T18:47:25.253Z"
      },
      {
        "duration": 53,
        "start_time": "2022-03-17T18:47:25.261Z"
      },
      {
        "duration": 7,
        "start_time": "2022-03-17T18:47:25.317Z"
      },
      {
        "duration": 100,
        "start_time": "2022-03-17T18:47:25.326Z"
      },
      {
        "duration": 4,
        "start_time": "2022-03-17T18:47:25.428Z"
      },
      {
        "duration": 2335,
        "start_time": "2022-03-17T18:47:25.434Z"
      },
      {
        "duration": 695,
        "start_time": "2022-03-17T18:47:27.771Z"
      },
      {
        "duration": 356,
        "start_time": "2022-03-17T18:47:28.467Z"
      },
      {
        "duration": 1,
        "start_time": "2022-03-17T18:47:28.825Z"
      },
      {
        "duration": 0,
        "start_time": "2022-03-17T18:47:28.827Z"
      },
      {
        "duration": 0,
        "start_time": "2022-03-17T18:47:28.828Z"
      },
      {
        "duration": 0,
        "start_time": "2022-03-17T18:47:28.830Z"
      },
      {
        "duration": 0,
        "start_time": "2022-03-17T18:47:28.831Z"
      },
      {
        "duration": 0,
        "start_time": "2022-03-17T18:47:28.832Z"
      },
      {
        "duration": 0,
        "start_time": "2022-03-17T18:47:28.834Z"
      },
      {
        "duration": 0,
        "start_time": "2022-03-17T18:47:28.836Z"
      },
      {
        "duration": 239,
        "start_time": "2022-03-17T18:47:49.722Z"
      },
      {
        "duration": 223,
        "start_time": "2022-03-17T18:47:52.400Z"
      },
      {
        "duration": 551,
        "start_time": "2022-03-17T18:48:25.964Z"
      },
      {
        "duration": 275,
        "start_time": "2022-03-17T18:48:31.969Z"
      },
      {
        "duration": 272,
        "start_time": "2022-03-17T18:48:42.802Z"
      },
      {
        "duration": 10,
        "start_time": "2022-03-17T18:48:47.350Z"
      },
      {
        "duration": 3079,
        "start_time": "2022-03-17T18:48:50.465Z"
      },
      {
        "duration": 1092,
        "start_time": "2022-03-17T18:48:53.546Z"
      },
      {
        "duration": 224,
        "start_time": "2022-03-17T18:48:54.640Z"
      },
      {
        "duration": 315,
        "start_time": "2022-03-17T18:49:05.863Z"
      },
      {
        "duration": 179,
        "start_time": "2022-03-17T18:49:10.322Z"
      },
      {
        "duration": 187,
        "start_time": "2022-03-17T18:49:16.445Z"
      },
      {
        "duration": 350,
        "start_time": "2022-03-17T18:49:50.611Z"
      },
      {
        "duration": 16,
        "start_time": "2022-03-17T18:54:04.551Z"
      },
      {
        "duration": 9,
        "start_time": "2022-03-17T18:58:10.604Z"
      },
      {
        "duration": 5,
        "start_time": "2022-03-17T19:01:27.822Z"
      },
      {
        "duration": 10,
        "start_time": "2022-03-17T19:03:16.232Z"
      },
      {
        "duration": 5,
        "start_time": "2022-03-17T19:03:20.338Z"
      },
      {
        "duration": 9,
        "start_time": "2022-03-17T19:03:20.932Z"
      },
      {
        "duration": 7,
        "start_time": "2022-03-17T19:03:43.432Z"
      },
      {
        "duration": 25,
        "start_time": "2022-03-17T19:07:32.026Z"
      },
      {
        "duration": 23,
        "start_time": "2022-03-17T19:07:59.448Z"
      },
      {
        "duration": 14,
        "start_time": "2022-03-17T19:08:35.761Z"
      },
      {
        "duration": 17,
        "start_time": "2022-03-17T19:09:21.746Z"
      },
      {
        "duration": 13,
        "start_time": "2022-03-17T19:10:59.375Z"
      },
      {
        "duration": 13,
        "start_time": "2022-03-17T19:11:38.260Z"
      },
      {
        "duration": 3960,
        "start_time": "2022-03-17T19:12:06.277Z"
      },
      {
        "duration": 30,
        "start_time": "2022-03-17T19:12:10.239Z"
      },
      {
        "duration": 18,
        "start_time": "2022-03-17T19:12:10.270Z"
      },
      {
        "duration": 14,
        "start_time": "2022-03-17T19:12:10.290Z"
      },
      {
        "duration": 997,
        "start_time": "2022-03-17T19:12:10.305Z"
      },
      {
        "duration": 6960,
        "start_time": "2022-03-17T19:12:11.303Z"
      },
      {
        "duration": 6,
        "start_time": "2022-03-17T19:12:18.265Z"
      },
      {
        "duration": 31,
        "start_time": "2022-03-17T19:12:18.273Z"
      },
      {
        "duration": 4,
        "start_time": "2022-03-17T19:12:18.305Z"
      },
      {
        "duration": 14,
        "start_time": "2022-03-17T19:12:18.312Z"
      },
      {
        "duration": 226,
        "start_time": "2022-03-17T19:12:18.328Z"
      },
      {
        "duration": 9,
        "start_time": "2022-03-17T19:12:18.555Z"
      },
      {
        "duration": 7,
        "start_time": "2022-03-17T19:12:18.566Z"
      },
      {
        "duration": 6,
        "start_time": "2022-03-17T19:12:18.574Z"
      },
      {
        "duration": 21,
        "start_time": "2022-03-17T19:12:18.582Z"
      },
      {
        "duration": 5,
        "start_time": "2022-03-17T19:12:18.604Z"
      },
      {
        "duration": 5,
        "start_time": "2022-03-17T19:12:18.611Z"
      },
      {
        "duration": 7,
        "start_time": "2022-03-17T19:12:18.618Z"
      },
      {
        "duration": 5,
        "start_time": "2022-03-17T19:12:18.626Z"
      },
      {
        "duration": 8,
        "start_time": "2022-03-17T19:12:18.633Z"
      },
      {
        "duration": 8,
        "start_time": "2022-03-17T19:12:18.642Z"
      },
      {
        "duration": 7,
        "start_time": "2022-03-17T19:12:18.651Z"
      },
      {
        "duration": 8,
        "start_time": "2022-03-17T19:12:18.660Z"
      },
      {
        "duration": 67,
        "start_time": "2022-03-17T19:12:18.669Z"
      },
      {
        "duration": 7,
        "start_time": "2022-03-17T19:12:18.738Z"
      },
      {
        "duration": 135,
        "start_time": "2022-03-17T19:12:18.747Z"
      },
      {
        "duration": 5,
        "start_time": "2022-03-17T19:12:18.884Z"
      },
      {
        "duration": 1688,
        "start_time": "2022-03-17T19:12:18.903Z"
      },
      {
        "duration": 633,
        "start_time": "2022-03-17T19:12:20.592Z"
      },
      {
        "duration": 225,
        "start_time": "2022-03-17T19:12:21.227Z"
      },
      {
        "duration": 485,
        "start_time": "2022-03-17T19:12:21.453Z"
      },
      {
        "duration": 235,
        "start_time": "2022-03-17T19:12:21.940Z"
      },
      {
        "duration": 25,
        "start_time": "2022-03-17T19:12:22.177Z"
      },
      {
        "duration": 2196,
        "start_time": "2022-03-17T19:12:22.204Z"
      },
      {
        "duration": 763,
        "start_time": "2022-03-17T19:12:24.401Z"
      },
      {
        "duration": 316,
        "start_time": "2022-03-17T19:12:25.166Z"
      },
      {
        "duration": 191,
        "start_time": "2022-03-17T19:12:25.483Z"
      },
      {
        "duration": 351,
        "start_time": "2022-03-17T19:12:25.676Z"
      },
      {
        "duration": 17,
        "start_time": "2022-03-17T19:12:26.028Z"
      },
      {
        "duration": 11,
        "start_time": "2022-03-17T19:12:26.047Z"
      },
      {
        "duration": 7,
        "start_time": "2022-03-17T19:12:26.059Z"
      },
      {
        "duration": 4,
        "start_time": "2022-03-17T19:12:26.067Z"
      },
      {
        "duration": 30,
        "start_time": "2022-03-17T19:12:26.073Z"
      },
      {
        "duration": 107,
        "start_time": "2022-03-17T19:12:26.105Z"
      },
      {
        "duration": 7566,
        "start_time": "2022-03-18T05:05:34.877Z"
      },
      {
        "duration": 36,
        "start_time": "2022-03-18T05:05:42.446Z"
      },
      {
        "duration": 22,
        "start_time": "2022-03-18T05:05:42.485Z"
      },
      {
        "duration": 23,
        "start_time": "2022-03-18T05:05:42.509Z"
      },
      {
        "duration": 1140,
        "start_time": "2022-03-18T05:05:42.534Z"
      },
      {
        "duration": 8460,
        "start_time": "2022-03-18T05:05:43.676Z"
      },
      {
        "duration": 5,
        "start_time": "2022-03-18T05:05:52.138Z"
      },
      {
        "duration": 17,
        "start_time": "2022-03-18T05:05:52.145Z"
      },
      {
        "duration": 6,
        "start_time": "2022-03-18T05:05:52.164Z"
      },
      {
        "duration": 30,
        "start_time": "2022-03-18T05:05:52.173Z"
      },
      {
        "duration": 296,
        "start_time": "2022-03-18T05:05:52.205Z"
      },
      {
        "duration": 11,
        "start_time": "2022-03-18T05:05:52.503Z"
      },
      {
        "duration": 21,
        "start_time": "2022-03-18T05:05:52.515Z"
      },
      {
        "duration": 14,
        "start_time": "2022-03-18T05:05:52.538Z"
      },
      {
        "duration": 6,
        "start_time": "2022-03-18T05:05:52.554Z"
      },
      {
        "duration": 9,
        "start_time": "2022-03-18T05:05:52.562Z"
      },
      {
        "duration": 12,
        "start_time": "2022-03-18T05:05:52.572Z"
      },
      {
        "duration": 8,
        "start_time": "2022-03-18T05:05:52.586Z"
      },
      {
        "duration": 3,
        "start_time": "2022-03-18T05:05:52.602Z"
      },
      {
        "duration": 11,
        "start_time": "2022-03-18T05:05:52.607Z"
      },
      {
        "duration": 10,
        "start_time": "2022-03-18T05:05:52.620Z"
      },
      {
        "duration": 8,
        "start_time": "2022-03-18T05:05:52.632Z"
      },
      {
        "duration": 8,
        "start_time": "2022-03-18T05:05:52.642Z"
      },
      {
        "duration": 55,
        "start_time": "2022-03-18T05:05:52.652Z"
      },
      {
        "duration": 8,
        "start_time": "2022-03-18T05:05:52.709Z"
      },
      {
        "duration": 120,
        "start_time": "2022-03-18T05:05:52.718Z"
      },
      {
        "duration": 5,
        "start_time": "2022-03-18T05:05:52.840Z"
      },
      {
        "duration": 2080,
        "start_time": "2022-03-18T05:05:52.849Z"
      },
      {
        "duration": 736,
        "start_time": "2022-03-18T05:05:54.930Z"
      },
      {
        "duration": 289,
        "start_time": "2022-03-18T05:05:55.668Z"
      },
      {
        "duration": 514,
        "start_time": "2022-03-18T05:05:55.959Z"
      },
      {
        "duration": 308,
        "start_time": "2022-03-18T05:05:56.475Z"
      },
      {
        "duration": 24,
        "start_time": "2022-03-18T05:05:56.784Z"
      },
      {
        "duration": 2607,
        "start_time": "2022-03-18T05:05:56.810Z"
      },
      {
        "duration": 908,
        "start_time": "2022-03-18T05:05:59.418Z"
      },
      {
        "duration": 294,
        "start_time": "2022-03-18T05:06:00.327Z"
      },
      {
        "duration": 218,
        "start_time": "2022-03-18T05:06:00.624Z"
      },
      {
        "duration": 414,
        "start_time": "2022-03-18T05:06:00.844Z"
      },
      {
        "duration": 20,
        "start_time": "2022-03-18T05:06:01.260Z"
      },
      {
        "duration": 34,
        "start_time": "2022-03-18T05:06:01.282Z"
      },
      {
        "duration": 18,
        "start_time": "2022-03-18T05:06:01.318Z"
      },
      {
        "duration": 31,
        "start_time": "2022-03-18T05:06:01.339Z"
      },
      {
        "duration": 14,
        "start_time": "2022-03-18T05:06:01.372Z"
      },
      {
        "duration": 133,
        "start_time": "2022-03-18T05:06:01.388Z"
      },
      {
        "duration": 0,
        "start_time": "2022-03-18T05:06:01.523Z"
      },
      {
        "duration": 0,
        "start_time": "2022-03-18T05:06:01.525Z"
      },
      {
        "duration": 0,
        "start_time": "2022-03-18T05:06:01.526Z"
      },
      {
        "duration": 4,
        "start_time": "2022-03-18T05:06:45.001Z"
      },
      {
        "duration": 4,
        "start_time": "2022-03-18T05:06:45.761Z"
      },
      {
        "duration": 12,
        "start_time": "2022-03-18T05:07:06.470Z"
      },
      {
        "duration": 3,
        "start_time": "2022-03-18T05:07:53.401Z"
      },
      {
        "duration": 4,
        "start_time": "2022-03-18T05:07:53.903Z"
      },
      {
        "duration": 30,
        "start_time": "2022-03-18T05:07:54.371Z"
      },
      {
        "duration": 3,
        "start_time": "2022-03-18T05:09:07.513Z"
      },
      {
        "duration": 3,
        "start_time": "2022-03-18T05:09:08.267Z"
      },
      {
        "duration": 14,
        "start_time": "2022-03-18T05:09:08.690Z"
      },
      {
        "duration": 3,
        "start_time": "2022-03-18T05:09:22.730Z"
      },
      {
        "duration": 4,
        "start_time": "2022-03-18T05:09:23.295Z"
      },
      {
        "duration": 14,
        "start_time": "2022-03-18T05:09:23.779Z"
      },
      {
        "duration": 4,
        "start_time": "2022-03-18T05:21:15.332Z"
      },
      {
        "duration": 14,
        "start_time": "2022-03-18T05:21:15.930Z"
      },
      {
        "duration": 2,
        "start_time": "2022-03-18T05:41:29.532Z"
      },
      {
        "duration": 15,
        "start_time": "2022-03-18T05:41:30.251Z"
      },
      {
        "duration": 19,
        "start_time": "2022-03-18T06:45:24.599Z"
      },
      {
        "duration": 7,
        "start_time": "2022-03-18T06:45:33.037Z"
      },
      {
        "duration": 16,
        "start_time": "2022-03-18T06:47:32.922Z"
      },
      {
        "duration": 7,
        "start_time": "2022-03-18T06:47:47.678Z"
      },
      {
        "duration": 6,
        "start_time": "2022-03-18T06:48:08.891Z"
      },
      {
        "duration": 6,
        "start_time": "2022-03-18T06:48:13.094Z"
      },
      {
        "duration": 5,
        "start_time": "2022-03-18T06:48:21.865Z"
      },
      {
        "duration": 15,
        "start_time": "2022-03-18T06:57:10.720Z"
      },
      {
        "duration": 4,
        "start_time": "2022-03-18T06:57:28.322Z"
      },
      {
        "duration": 3,
        "start_time": "2022-03-18T06:57:28.825Z"
      },
      {
        "duration": 15,
        "start_time": "2022-03-18T06:57:29.276Z"
      },
      {
        "duration": 15,
        "start_time": "2022-03-18T06:57:43.461Z"
      },
      {
        "duration": 5399,
        "start_time": "2022-03-18T06:57:51.954Z"
      },
      {
        "duration": 34,
        "start_time": "2022-03-18T06:57:57.357Z"
      },
      {
        "duration": 24,
        "start_time": "2022-03-18T06:57:57.392Z"
      },
      {
        "duration": 17,
        "start_time": "2022-03-18T06:57:57.418Z"
      },
      {
        "duration": 1445,
        "start_time": "2022-03-18T06:57:57.437Z"
      },
      {
        "duration": 8880,
        "start_time": "2022-03-18T06:57:58.884Z"
      },
      {
        "duration": 5,
        "start_time": "2022-03-18T06:58:07.767Z"
      },
      {
        "duration": 36,
        "start_time": "2022-03-18T06:58:07.774Z"
      },
      {
        "duration": 6,
        "start_time": "2022-03-18T06:58:07.813Z"
      },
      {
        "duration": 6,
        "start_time": "2022-03-18T06:58:07.824Z"
      },
      {
        "duration": 358,
        "start_time": "2022-03-18T06:58:07.832Z"
      },
      {
        "duration": 17,
        "start_time": "2022-03-18T06:58:08.192Z"
      },
      {
        "duration": 6,
        "start_time": "2022-03-18T06:58:08.211Z"
      },
      {
        "duration": 10,
        "start_time": "2022-03-18T06:58:08.219Z"
      },
      {
        "duration": 14,
        "start_time": "2022-03-18T06:58:08.231Z"
      },
      {
        "duration": 8,
        "start_time": "2022-03-18T06:58:08.246Z"
      },
      {
        "duration": 7,
        "start_time": "2022-03-18T06:58:08.256Z"
      },
      {
        "duration": 9,
        "start_time": "2022-03-18T06:58:08.265Z"
      },
      {
        "duration": 25,
        "start_time": "2022-03-18T06:58:08.276Z"
      },
      {
        "duration": 6,
        "start_time": "2022-03-18T06:58:08.304Z"
      },
      {
        "duration": 16,
        "start_time": "2022-03-18T06:58:08.312Z"
      },
      {
        "duration": 14,
        "start_time": "2022-03-18T06:58:08.330Z"
      },
      {
        "duration": 9,
        "start_time": "2022-03-18T06:58:08.346Z"
      },
      {
        "duration": 56,
        "start_time": "2022-03-18T06:58:08.357Z"
      },
      {
        "duration": 8,
        "start_time": "2022-03-18T06:58:08.414Z"
      },
      {
        "duration": 127,
        "start_time": "2022-03-18T06:58:08.424Z"
      },
      {
        "duration": 5,
        "start_time": "2022-03-18T06:58:08.553Z"
      },
      {
        "duration": 2281,
        "start_time": "2022-03-18T06:58:08.562Z"
      },
      {
        "duration": 806,
        "start_time": "2022-03-18T06:58:10.845Z"
      },
      {
        "duration": 269,
        "start_time": "2022-03-18T06:58:11.653Z"
      },
      {
        "duration": 652,
        "start_time": "2022-03-18T06:58:11.924Z"
      },
      {
        "duration": 336,
        "start_time": "2022-03-18T06:58:12.579Z"
      },
      {
        "duration": 14,
        "start_time": "2022-03-18T06:58:12.917Z"
      },
      {
        "duration": 3951,
        "start_time": "2022-03-18T06:58:12.934Z"
      },
      {
        "duration": 1329,
        "start_time": "2022-03-18T06:58:16.888Z"
      },
      {
        "duration": 328,
        "start_time": "2022-03-18T06:58:18.220Z"
      },
      {
        "duration": 319,
        "start_time": "2022-03-18T06:58:18.551Z"
      },
      {
        "duration": 605,
        "start_time": "2022-03-18T06:58:18.872Z"
      },
      {
        "duration": 31,
        "start_time": "2022-03-18T06:58:19.479Z"
      },
      {
        "duration": 20,
        "start_time": "2022-03-18T06:58:19.512Z"
      },
      {
        "duration": 9,
        "start_time": "2022-03-18T06:58:19.534Z"
      },
      {
        "duration": 12,
        "start_time": "2022-03-18T06:58:19.545Z"
      },
      {
        "duration": 10,
        "start_time": "2022-03-18T06:58:19.559Z"
      },
      {
        "duration": 5,
        "start_time": "2022-03-18T06:58:19.571Z"
      },
      {
        "duration": 136,
        "start_time": "2022-03-18T06:58:19.578Z"
      },
      {
        "duration": 0,
        "start_time": "2022-03-18T06:58:19.717Z"
      },
      {
        "duration": 0,
        "start_time": "2022-03-18T06:58:19.718Z"
      },
      {
        "duration": 0,
        "start_time": "2022-03-18T06:58:19.720Z"
      },
      {
        "duration": 0,
        "start_time": "2022-03-18T06:58:19.721Z"
      },
      {
        "duration": 0,
        "start_time": "2022-03-18T06:58:19.722Z"
      },
      {
        "duration": 0,
        "start_time": "2022-03-18T06:58:19.723Z"
      },
      {
        "duration": 4,
        "start_time": "2022-03-18T06:58:33.335Z"
      },
      {
        "duration": 3,
        "start_time": "2022-03-18T06:58:33.984Z"
      },
      {
        "duration": 12,
        "start_time": "2022-03-18T06:58:34.837Z"
      },
      {
        "duration": 19,
        "start_time": "2022-03-18T07:02:41.656Z"
      },
      {
        "duration": 16,
        "start_time": "2022-03-18T07:03:29.615Z"
      },
      {
        "duration": 14,
        "start_time": "2022-03-18T07:04:20.758Z"
      },
      {
        "duration": 17,
        "start_time": "2022-03-18T07:04:33.381Z"
      },
      {
        "duration": 16,
        "start_time": "2022-03-18T07:04:45.982Z"
      },
      {
        "duration": 5184,
        "start_time": "2022-03-18T07:04:59.749Z"
      },
      {
        "duration": 35,
        "start_time": "2022-03-18T07:05:04.936Z"
      },
      {
        "duration": 23,
        "start_time": "2022-03-18T07:05:04.973Z"
      },
      {
        "duration": 16,
        "start_time": "2022-03-18T07:05:05.000Z"
      },
      {
        "duration": 1164,
        "start_time": "2022-03-18T07:05:05.018Z"
      },
      {
        "duration": 8703,
        "start_time": "2022-03-18T07:05:06.184Z"
      },
      {
        "duration": 6,
        "start_time": "2022-03-18T07:05:14.900Z"
      },
      {
        "duration": 28,
        "start_time": "2022-03-18T07:05:14.908Z"
      },
      {
        "duration": 6,
        "start_time": "2022-03-18T07:05:14.938Z"
      },
      {
        "duration": 12,
        "start_time": "2022-03-18T07:05:14.948Z"
      },
      {
        "duration": 315,
        "start_time": "2022-03-18T07:05:14.962Z"
      },
      {
        "duration": 21,
        "start_time": "2022-03-18T07:05:15.279Z"
      },
      {
        "duration": 24,
        "start_time": "2022-03-18T07:05:15.303Z"
      },
      {
        "duration": 11,
        "start_time": "2022-03-18T07:05:15.329Z"
      },
      {
        "duration": 11,
        "start_time": "2022-03-18T07:05:15.342Z"
      },
      {
        "duration": 15,
        "start_time": "2022-03-18T07:05:15.355Z"
      },
      {
        "duration": 15,
        "start_time": "2022-03-18T07:05:15.372Z"
      },
      {
        "duration": 22,
        "start_time": "2022-03-18T07:05:15.389Z"
      },
      {
        "duration": 6,
        "start_time": "2022-03-18T07:05:15.413Z"
      },
      {
        "duration": 14,
        "start_time": "2022-03-18T07:05:15.421Z"
      },
      {
        "duration": 35,
        "start_time": "2022-03-18T07:05:15.437Z"
      },
      {
        "duration": 17,
        "start_time": "2022-03-18T07:05:15.474Z"
      },
      {
        "duration": 16,
        "start_time": "2022-03-18T07:05:15.493Z"
      },
      {
        "duration": 76,
        "start_time": "2022-03-18T07:05:15.511Z"
      },
      {
        "duration": 10,
        "start_time": "2022-03-18T07:05:15.589Z"
      },
      {
        "duration": 172,
        "start_time": "2022-03-18T07:05:15.601Z"
      },
      {
        "duration": 5,
        "start_time": "2022-03-18T07:05:15.776Z"
      },
      {
        "duration": 2165,
        "start_time": "2022-03-18T07:05:15.785Z"
      },
      {
        "duration": 769,
        "start_time": "2022-03-18T07:05:17.952Z"
      },
      {
        "duration": 243,
        "start_time": "2022-03-18T07:05:18.723Z"
      },
      {
        "duration": 611,
        "start_time": "2022-03-18T07:05:18.968Z"
      },
      {
        "duration": 324,
        "start_time": "2022-03-18T07:05:19.581Z"
      },
      {
        "duration": 13,
        "start_time": "2022-03-18T07:05:19.907Z"
      },
      {
        "duration": 3082,
        "start_time": "2022-03-18T07:05:19.922Z"
      },
      {
        "duration": 1030,
        "start_time": "2022-03-18T07:05:23.007Z"
      },
      {
        "duration": 314,
        "start_time": "2022-03-18T07:05:24.039Z"
      },
      {
        "duration": 228,
        "start_time": "2022-03-18T07:05:24.355Z"
      },
      {
        "duration": 467,
        "start_time": "2022-03-18T07:05:24.585Z"
      },
      {
        "duration": 21,
        "start_time": "2022-03-18T07:05:25.054Z"
      },
      {
        "duration": 33,
        "start_time": "2022-03-18T07:05:25.078Z"
      },
      {
        "duration": 9,
        "start_time": "2022-03-18T07:05:25.113Z"
      },
      {
        "duration": 9,
        "start_time": "2022-03-18T07:05:25.124Z"
      },
      {
        "duration": 10,
        "start_time": "2022-03-18T07:05:25.135Z"
      },
      {
        "duration": 7,
        "start_time": "2022-03-18T07:05:25.148Z"
      },
      {
        "duration": 119,
        "start_time": "2022-03-18T07:05:25.157Z"
      },
      {
        "duration": 0,
        "start_time": "2022-03-18T07:05:25.278Z"
      },
      {
        "duration": 0,
        "start_time": "2022-03-18T07:05:25.279Z"
      },
      {
        "duration": 0,
        "start_time": "2022-03-18T07:05:25.281Z"
      },
      {
        "duration": 0,
        "start_time": "2022-03-18T07:05:25.282Z"
      },
      {
        "duration": 0,
        "start_time": "2022-03-18T07:05:25.283Z"
      },
      {
        "duration": 0,
        "start_time": "2022-03-18T07:05:25.284Z"
      },
      {
        "duration": 4,
        "start_time": "2022-03-18T07:05:32.675Z"
      },
      {
        "duration": 4,
        "start_time": "2022-03-18T07:05:33.770Z"
      },
      {
        "duration": 17,
        "start_time": "2022-03-18T07:05:35.704Z"
      },
      {
        "duration": 4,
        "start_time": "2022-03-18T07:05:46.264Z"
      },
      {
        "duration": 4,
        "start_time": "2022-03-18T07:05:46.877Z"
      },
      {
        "duration": 17,
        "start_time": "2022-03-18T07:05:47.296Z"
      },
      {
        "duration": 4,
        "start_time": "2022-03-18T07:05:53.522Z"
      },
      {
        "duration": 3,
        "start_time": "2022-03-18T07:05:53.944Z"
      },
      {
        "duration": 13,
        "start_time": "2022-03-18T07:05:54.300Z"
      },
      {
        "duration": 5,
        "start_time": "2022-03-18T07:06:29.511Z"
      },
      {
        "duration": 4,
        "start_time": "2022-03-18T07:06:29.950Z"
      },
      {
        "duration": 18,
        "start_time": "2022-03-18T07:06:30.326Z"
      },
      {
        "duration": 4,
        "start_time": "2022-03-18T07:06:41.836Z"
      },
      {
        "duration": 13,
        "start_time": "2022-03-18T07:06:42.206Z"
      },
      {
        "duration": 4,
        "start_time": "2022-03-18T07:06:44.768Z"
      },
      {
        "duration": 3,
        "start_time": "2022-03-18T07:06:45.123Z"
      },
      {
        "duration": 13,
        "start_time": "2022-03-18T07:06:45.436Z"
      },
      {
        "duration": 3,
        "start_time": "2022-03-18T07:49:18.049Z"
      },
      {
        "duration": 225,
        "start_time": "2022-03-18T07:49:18.683Z"
      },
      {
        "duration": 6408,
        "start_time": "2022-03-18T07:49:28.042Z"
      },
      {
        "duration": 30,
        "start_time": "2022-03-18T07:49:34.453Z"
      },
      {
        "duration": 29,
        "start_time": "2022-03-18T07:49:34.485Z"
      },
      {
        "duration": 16,
        "start_time": "2022-03-18T07:49:34.517Z"
      },
      {
        "duration": 1174,
        "start_time": "2022-03-18T07:49:34.536Z"
      },
      {
        "duration": 8833,
        "start_time": "2022-03-18T07:49:35.713Z"
      },
      {
        "duration": 6,
        "start_time": "2022-03-18T07:49:44.549Z"
      },
      {
        "duration": 15,
        "start_time": "2022-03-18T07:49:44.557Z"
      },
      {
        "duration": 31,
        "start_time": "2022-03-18T07:49:44.574Z"
      },
      {
        "duration": 7,
        "start_time": "2022-03-18T07:49:44.608Z"
      },
      {
        "duration": 294,
        "start_time": "2022-03-18T07:49:44.617Z"
      },
      {
        "duration": 11,
        "start_time": "2022-03-18T07:49:44.913Z"
      },
      {
        "duration": 8,
        "start_time": "2022-03-18T07:49:44.926Z"
      },
      {
        "duration": 8,
        "start_time": "2022-03-18T07:49:44.937Z"
      },
      {
        "duration": 9,
        "start_time": "2022-03-18T07:49:44.948Z"
      },
      {
        "duration": 52,
        "start_time": "2022-03-18T07:49:44.960Z"
      },
      {
        "duration": 7,
        "start_time": "2022-03-18T07:49:45.015Z"
      },
      {
        "duration": 17,
        "start_time": "2022-03-18T07:49:45.024Z"
      },
      {
        "duration": 7,
        "start_time": "2022-03-18T07:49:45.043Z"
      },
      {
        "duration": 7,
        "start_time": "2022-03-18T07:49:45.053Z"
      },
      {
        "duration": 8,
        "start_time": "2022-03-18T07:49:45.062Z"
      },
      {
        "duration": 11,
        "start_time": "2022-03-18T07:49:45.072Z"
      },
      {
        "duration": 22,
        "start_time": "2022-03-18T07:49:45.085Z"
      },
      {
        "duration": 61,
        "start_time": "2022-03-18T07:49:45.110Z"
      },
      {
        "duration": 9,
        "start_time": "2022-03-18T07:49:45.173Z"
      },
      {
        "duration": 126,
        "start_time": "2022-03-18T07:49:45.184Z"
      },
      {
        "duration": 6,
        "start_time": "2022-03-18T07:49:45.312Z"
      },
      {
        "duration": 2336,
        "start_time": "2022-03-18T07:49:45.323Z"
      },
      {
        "duration": 764,
        "start_time": "2022-03-18T07:49:47.661Z"
      },
      {
        "duration": 245,
        "start_time": "2022-03-18T07:49:48.427Z"
      },
      {
        "duration": 741,
        "start_time": "2022-03-18T07:49:48.674Z"
      },
      {
        "duration": 310,
        "start_time": "2022-03-18T07:49:49.418Z"
      },
      {
        "duration": 14,
        "start_time": "2022-03-18T07:49:49.733Z"
      },
      {
        "duration": 3141,
        "start_time": "2022-03-18T07:49:49.749Z"
      },
      {
        "duration": 948,
        "start_time": "2022-03-18T07:49:52.900Z"
      },
      {
        "duration": 318,
        "start_time": "2022-03-18T07:49:53.850Z"
      },
      {
        "duration": 308,
        "start_time": "2022-03-18T07:49:54.172Z"
      },
      {
        "duration": 484,
        "start_time": "2022-03-18T07:49:54.482Z"
      },
      {
        "duration": 35,
        "start_time": "2022-03-18T07:49:54.968Z"
      },
      {
        "duration": 15,
        "start_time": "2022-03-18T07:49:55.005Z"
      },
      {
        "duration": 10,
        "start_time": "2022-03-18T07:49:55.023Z"
      },
      {
        "duration": 14,
        "start_time": "2022-03-18T07:49:55.036Z"
      },
      {
        "duration": 17,
        "start_time": "2022-03-18T07:49:55.052Z"
      },
      {
        "duration": 30,
        "start_time": "2022-03-18T07:49:55.073Z"
      },
      {
        "duration": 10,
        "start_time": "2022-03-18T07:49:55.106Z"
      },
      {
        "duration": 284,
        "start_time": "2022-03-18T07:49:55.119Z"
      },
      {
        "duration": 8392,
        "start_time": "2022-03-18T12:48:05.971Z"
      },
      {
        "duration": 33,
        "start_time": "2022-03-18T12:48:14.367Z"
      },
      {
        "duration": 28,
        "start_time": "2022-03-18T12:48:14.403Z"
      },
      {
        "duration": 20,
        "start_time": "2022-03-18T12:48:14.434Z"
      },
      {
        "duration": 1587,
        "start_time": "2022-03-18T12:48:14.456Z"
      },
      {
        "duration": 12602,
        "start_time": "2022-03-18T12:48:16.046Z"
      },
      {
        "duration": 6,
        "start_time": "2022-03-18T12:48:28.651Z"
      },
      {
        "duration": 34,
        "start_time": "2022-03-18T12:48:28.660Z"
      },
      {
        "duration": 7,
        "start_time": "2022-03-18T12:48:28.696Z"
      },
      {
        "duration": 6,
        "start_time": "2022-03-18T12:48:28.706Z"
      },
      {
        "duration": 282,
        "start_time": "2022-03-18T12:48:28.714Z"
      },
      {
        "duration": 14,
        "start_time": "2022-03-18T12:48:28.998Z"
      },
      {
        "duration": 8,
        "start_time": "2022-03-18T12:48:29.014Z"
      },
      {
        "duration": 7,
        "start_time": "2022-03-18T12:48:29.024Z"
      },
      {
        "duration": 11,
        "start_time": "2022-03-18T12:48:29.033Z"
      },
      {
        "duration": 38,
        "start_time": "2022-03-18T12:48:29.046Z"
      },
      {
        "duration": 9,
        "start_time": "2022-03-18T12:48:29.087Z"
      },
      {
        "duration": 7,
        "start_time": "2022-03-18T12:48:29.099Z"
      },
      {
        "duration": 4,
        "start_time": "2022-03-18T12:48:29.109Z"
      },
      {
        "duration": 7,
        "start_time": "2022-03-18T12:48:29.116Z"
      },
      {
        "duration": 6,
        "start_time": "2022-03-18T12:48:29.125Z"
      },
      {
        "duration": 49,
        "start_time": "2022-03-18T12:48:29.133Z"
      },
      {
        "duration": 6,
        "start_time": "2022-03-18T12:48:29.185Z"
      },
      {
        "duration": 66,
        "start_time": "2022-03-18T12:48:29.194Z"
      },
      {
        "duration": 10,
        "start_time": "2022-03-18T12:48:29.283Z"
      },
      {
        "duration": 172,
        "start_time": "2022-03-18T12:48:29.295Z"
      },
      {
        "duration": 14,
        "start_time": "2022-03-18T12:48:29.470Z"
      },
      {
        "duration": 2846,
        "start_time": "2022-03-18T12:48:29.489Z"
      },
      {
        "duration": 996,
        "start_time": "2022-03-18T12:48:32.337Z"
      },
      {
        "duration": 323,
        "start_time": "2022-03-18T12:48:33.336Z"
      },
      {
        "duration": 728,
        "start_time": "2022-03-18T12:48:33.661Z"
      },
      {
        "duration": 312,
        "start_time": "2022-03-18T12:48:34.391Z"
      },
      {
        "duration": 14,
        "start_time": "2022-03-18T12:48:34.705Z"
      },
      {
        "duration": 3649,
        "start_time": "2022-03-18T12:48:34.721Z"
      },
      {
        "duration": 1220,
        "start_time": "2022-03-18T12:48:38.372Z"
      },
      {
        "duration": 333,
        "start_time": "2022-03-18T12:48:39.595Z"
      },
      {
        "duration": 304,
        "start_time": "2022-03-18T12:48:39.931Z"
      },
      {
        "duration": 606,
        "start_time": "2022-03-18T12:48:40.237Z"
      },
      {
        "duration": 44,
        "start_time": "2022-03-18T12:48:40.845Z"
      },
      {
        "duration": 20,
        "start_time": "2022-03-18T12:48:40.891Z"
      },
      {
        "duration": 10,
        "start_time": "2022-03-18T12:48:40.913Z"
      },
      {
        "duration": 11,
        "start_time": "2022-03-18T12:48:40.926Z"
      },
      {
        "duration": 13,
        "start_time": "2022-03-18T12:48:40.939Z"
      },
      {
        "duration": 30,
        "start_time": "2022-03-18T12:48:40.954Z"
      },
      {
        "duration": 79,
        "start_time": "2022-03-18T12:48:40.986Z"
      },
      {
        "duration": 1168,
        "start_time": "2022-03-18T12:48:41.067Z"
      },
      {
        "duration": 9981,
        "start_time": "2022-03-18T17:53:41.359Z"
      },
      {
        "duration": 46,
        "start_time": "2022-03-18T17:53:51.343Z"
      },
      {
        "duration": 29,
        "start_time": "2022-03-18T17:53:51.391Z"
      },
      {
        "duration": 29,
        "start_time": "2022-03-18T17:53:51.422Z"
      },
      {
        "duration": 2325,
        "start_time": "2022-03-18T17:53:51.455Z"
      },
      {
        "duration": 16651,
        "start_time": "2022-03-18T17:53:53.783Z"
      },
      {
        "duration": 8,
        "start_time": "2022-03-18T17:54:10.437Z"
      },
      {
        "duration": 28,
        "start_time": "2022-03-18T17:54:10.447Z"
      },
      {
        "duration": 9,
        "start_time": "2022-03-18T17:54:10.478Z"
      },
      {
        "duration": 6,
        "start_time": "2022-03-18T17:54:10.489Z"
      },
      {
        "duration": 383,
        "start_time": "2022-03-18T17:54:10.497Z"
      },
      {
        "duration": 16,
        "start_time": "2022-03-18T17:54:10.882Z"
      },
      {
        "duration": 45,
        "start_time": "2022-03-18T17:54:10.901Z"
      },
      {
        "duration": 20,
        "start_time": "2022-03-18T17:54:10.951Z"
      },
      {
        "duration": 8,
        "start_time": "2022-03-18T17:54:10.974Z"
      },
      {
        "duration": 6,
        "start_time": "2022-03-18T17:54:10.985Z"
      },
      {
        "duration": 7,
        "start_time": "2022-03-18T17:54:10.994Z"
      },
      {
        "duration": 6,
        "start_time": "2022-03-18T17:54:11.005Z"
      },
      {
        "duration": 6,
        "start_time": "2022-03-18T17:54:11.014Z"
      },
      {
        "duration": 32,
        "start_time": "2022-03-18T17:54:11.022Z"
      },
      {
        "duration": 16,
        "start_time": "2022-03-18T17:54:11.059Z"
      },
      {
        "duration": 5,
        "start_time": "2022-03-18T17:54:11.077Z"
      },
      {
        "duration": 5,
        "start_time": "2022-03-18T17:54:11.085Z"
      },
      {
        "duration": 92,
        "start_time": "2022-03-18T17:54:11.092Z"
      },
      {
        "duration": 10,
        "start_time": "2022-03-18T17:54:11.186Z"
      },
      {
        "duration": 229,
        "start_time": "2022-03-18T17:54:11.199Z"
      },
      {
        "duration": 19,
        "start_time": "2022-03-18T17:54:11.430Z"
      },
      {
        "duration": 3201,
        "start_time": "2022-03-18T17:54:11.452Z"
      },
      {
        "duration": 1066,
        "start_time": "2022-03-18T17:54:14.655Z"
      },
      {
        "duration": 297,
        "start_time": "2022-03-18T17:54:15.724Z"
      },
      {
        "duration": 762,
        "start_time": "2022-03-18T17:54:16.024Z"
      },
      {
        "duration": 420,
        "start_time": "2022-03-18T17:54:16.789Z"
      },
      {
        "duration": 33,
        "start_time": "2022-03-18T17:54:17.212Z"
      },
      {
        "duration": 4299,
        "start_time": "2022-03-18T17:54:17.248Z"
      },
      {
        "duration": 1446,
        "start_time": "2022-03-18T17:54:21.551Z"
      },
      {
        "duration": 407,
        "start_time": "2022-03-18T17:54:22.999Z"
      },
      {
        "duration": 325,
        "start_time": "2022-03-18T17:54:23.408Z"
      },
      {
        "duration": 771,
        "start_time": "2022-03-18T17:54:23.743Z"
      },
      {
        "duration": 54,
        "start_time": "2022-03-18T17:54:24.517Z"
      },
      {
        "duration": 20,
        "start_time": "2022-03-18T17:54:24.574Z"
      },
      {
        "duration": 11,
        "start_time": "2022-03-18T17:54:24.599Z"
      },
      {
        "duration": 41,
        "start_time": "2022-03-18T17:54:24.612Z"
      },
      {
        "duration": 13,
        "start_time": "2022-03-18T17:54:24.655Z"
      },
      {
        "duration": 7,
        "start_time": "2022-03-18T17:54:24.670Z"
      },
      {
        "duration": 7,
        "start_time": "2022-03-18T17:54:24.679Z"
      },
      {
        "duration": 1405,
        "start_time": "2022-03-18T17:54:24.689Z"
      },
      {
        "duration": 4,
        "start_time": "2022-03-18T18:20:14.683Z"
      },
      {
        "duration": 279,
        "start_time": "2022-03-18T18:20:15.532Z"
      },
      {
        "duration": 4,
        "start_time": "2022-03-18T18:22:44.914Z"
      },
      {
        "duration": 15,
        "start_time": "2022-03-18T18:22:45.434Z"
      },
      {
        "duration": 7,
        "start_time": "2022-03-18T18:22:52.058Z"
      },
      {
        "duration": 53,
        "start_time": "2022-03-18T18:22:53.593Z"
      },
      {
        "duration": 40,
        "start_time": "2022-03-18T18:26:09.052Z"
      },
      {
        "duration": 1349,
        "start_time": "2022-03-18T18:26:20.419Z"
      },
      {
        "duration": 4,
        "start_time": "2022-03-18T18:26:21.856Z"
      },
      {
        "duration": 4,
        "start_time": "2022-03-18T18:34:19.665Z"
      },
      {
        "duration": 34,
        "start_time": "2022-03-18T18:36:37.069Z"
      },
      {
        "duration": 10,
        "start_time": "2022-03-18T18:50:23.829Z"
      },
      {
        "duration": 19,
        "start_time": "2022-03-18T18:50:31.712Z"
      },
      {
        "duration": 4,
        "start_time": "2022-03-18T18:52:04.808Z"
      },
      {
        "duration": 21,
        "start_time": "2022-03-18T18:52:05.765Z"
      },
      {
        "duration": 6234,
        "start_time": "2022-03-18T18:52:34.883Z"
      },
      {
        "duration": 9130,
        "start_time": "2022-03-18T18:53:07.078Z"
      },
      {
        "duration": 4,
        "start_time": "2022-03-18T18:54:12.847Z"
      },
      {
        "duration": 15,
        "start_time": "2022-03-18T18:54:15.173Z"
      },
      {
        "duration": 6146,
        "start_time": "2022-03-18T18:54:25.964Z"
      },
      {
        "duration": 6522,
        "start_time": "2022-03-18T18:55:18.554Z"
      },
      {
        "duration": 6658,
        "start_time": "2022-03-18T18:55:31.977Z"
      },
      {
        "duration": 9061,
        "start_time": "2022-03-18T18:57:04.746Z"
      },
      {
        "duration": 4547,
        "start_time": "2022-03-18T18:58:04.339Z"
      },
      {
        "duration": 6,
        "start_time": "2022-03-18T19:01:56.659Z"
      },
      {
        "duration": 8,
        "start_time": "2022-03-18T19:01:57.455Z"
      },
      {
        "duration": 23,
        "start_time": "2022-03-18T19:02:11.691Z"
      },
      {
        "duration": 4,
        "start_time": "2022-03-18T19:04:08.987Z"
      },
      {
        "duration": 19,
        "start_time": "2022-03-18T19:04:09.813Z"
      },
      {
        "duration": 6,
        "start_time": "2022-03-18T19:04:30.770Z"
      },
      {
        "duration": 22,
        "start_time": "2022-03-18T19:04:31.925Z"
      },
      {
        "duration": 6423,
        "start_time": "2022-03-18T19:05:09.419Z"
      },
      {
        "duration": 5637,
        "start_time": "2022-03-18T19:06:07.271Z"
      },
      {
        "duration": 5352,
        "start_time": "2022-03-18T19:06:46.466Z"
      },
      {
        "duration": 5453,
        "start_time": "2022-03-18T19:13:28.818Z"
      },
      {
        "duration": 7754,
        "start_time": "2022-03-19T04:48:24.112Z"
      },
      {
        "duration": 33,
        "start_time": "2022-03-19T04:48:31.870Z"
      },
      {
        "duration": 28,
        "start_time": "2022-03-19T04:48:31.905Z"
      },
      {
        "duration": 19,
        "start_time": "2022-03-19T04:48:31.936Z"
      },
      {
        "duration": 2053,
        "start_time": "2022-03-19T04:48:31.958Z"
      },
      {
        "duration": 12220,
        "start_time": "2022-03-19T04:48:34.015Z"
      },
      {
        "duration": 6,
        "start_time": "2022-03-19T04:48:46.237Z"
      },
      {
        "duration": 40,
        "start_time": "2022-03-19T04:48:46.245Z"
      },
      {
        "duration": 6,
        "start_time": "2022-03-19T04:48:46.287Z"
      },
      {
        "duration": 5,
        "start_time": "2022-03-19T04:48:46.297Z"
      },
      {
        "duration": 258,
        "start_time": "2022-03-19T04:48:46.304Z"
      },
      {
        "duration": 21,
        "start_time": "2022-03-19T04:48:46.565Z"
      },
      {
        "duration": 6,
        "start_time": "2022-03-19T04:48:46.588Z"
      },
      {
        "duration": 7,
        "start_time": "2022-03-19T04:48:46.596Z"
      },
      {
        "duration": 8,
        "start_time": "2022-03-19T04:48:46.605Z"
      },
      {
        "duration": 7,
        "start_time": "2022-03-19T04:48:46.615Z"
      },
      {
        "duration": 7,
        "start_time": "2022-03-19T04:48:46.625Z"
      },
      {
        "duration": 49,
        "start_time": "2022-03-19T04:48:46.634Z"
      },
      {
        "duration": 4,
        "start_time": "2022-03-19T04:48:46.685Z"
      },
      {
        "duration": 7,
        "start_time": "2022-03-19T04:48:46.691Z"
      },
      {
        "duration": 6,
        "start_time": "2022-03-19T04:48:46.700Z"
      },
      {
        "duration": 6,
        "start_time": "2022-03-19T04:48:46.709Z"
      },
      {
        "duration": 6,
        "start_time": "2022-03-19T04:48:46.717Z"
      },
      {
        "duration": 102,
        "start_time": "2022-03-19T04:48:46.725Z"
      },
      {
        "duration": 9,
        "start_time": "2022-03-19T04:48:46.829Z"
      },
      {
        "duration": 169,
        "start_time": "2022-03-19T04:48:46.840Z"
      },
      {
        "duration": 6,
        "start_time": "2022-03-19T04:48:47.011Z"
      },
      {
        "duration": 3097,
        "start_time": "2022-03-19T04:48:47.024Z"
      },
      {
        "duration": 958,
        "start_time": "2022-03-19T04:48:50.124Z"
      },
      {
        "duration": 280,
        "start_time": "2022-03-19T04:48:51.085Z"
      },
      {
        "duration": 695,
        "start_time": "2022-03-19T04:48:51.383Z"
      },
      {
        "duration": 314,
        "start_time": "2022-03-19T04:48:52.083Z"
      },
      {
        "duration": 14,
        "start_time": "2022-03-19T04:48:52.399Z"
      },
      {
        "duration": 3486,
        "start_time": "2022-03-19T04:48:52.415Z"
      },
      {
        "duration": 1194,
        "start_time": "2022-03-19T04:48:55.904Z"
      },
      {
        "duration": 313,
        "start_time": "2022-03-19T04:48:57.101Z"
      },
      {
        "duration": 279,
        "start_time": "2022-03-19T04:48:57.417Z"
      },
      {
        "duration": 571,
        "start_time": "2022-03-19T04:48:57.699Z"
      },
      {
        "duration": 34,
        "start_time": "2022-03-19T04:48:58.273Z"
      },
      {
        "duration": 26,
        "start_time": "2022-03-19T04:48:58.310Z"
      },
      {
        "duration": 12,
        "start_time": "2022-03-19T04:48:58.338Z"
      },
      {
        "duration": 31,
        "start_time": "2022-03-19T04:48:58.352Z"
      },
      {
        "duration": 23,
        "start_time": "2022-03-19T04:48:58.386Z"
      },
      {
        "duration": 12,
        "start_time": "2022-03-19T04:48:58.411Z"
      },
      {
        "duration": 30,
        "start_time": "2022-03-19T04:48:58.425Z"
      },
      {
        "duration": 1140,
        "start_time": "2022-03-19T04:48:58.457Z"
      },
      {
        "duration": 4,
        "start_time": "2022-03-19T04:48:59.599Z"
      },
      {
        "duration": 27,
        "start_time": "2022-03-19T04:48:59.605Z"
      },
      {
        "duration": 15,
        "start_time": "2022-03-19T04:48:59.634Z"
      },
      {
        "duration": 27,
        "start_time": "2022-03-19T04:48:59.652Z"
      },
      {
        "duration": 23,
        "start_time": "2022-03-19T04:48:59.681Z"
      },
      {
        "duration": 211,
        "start_time": "2022-03-19T04:48:59.706Z"
      },
      {
        "duration": 0,
        "start_time": "2022-03-19T04:48:59.920Z"
      },
      {
        "duration": 0,
        "start_time": "2022-03-19T04:48:59.923Z"
      },
      {
        "duration": 0,
        "start_time": "2022-03-19T04:48:59.925Z"
      },
      {
        "duration": 0,
        "start_time": "2022-03-19T04:48:59.928Z"
      },
      {
        "duration": 0,
        "start_time": "2022-03-19T04:48:59.930Z"
      },
      {
        "duration": 0,
        "start_time": "2022-03-19T04:48:59.933Z"
      },
      {
        "duration": 0,
        "start_time": "2022-03-19T04:48:59.935Z"
      },
      {
        "duration": 0,
        "start_time": "2022-03-19T04:48:59.938Z"
      },
      {
        "duration": 4,
        "start_time": "2022-03-19T04:57:05.825Z"
      },
      {
        "duration": 4,
        "start_time": "2022-03-19T04:57:06.369Z"
      },
      {
        "duration": 4,
        "start_time": "2022-03-19T04:57:07.125Z"
      },
      {
        "duration": 4,
        "start_time": "2022-03-19T04:57:07.586Z"
      },
      {
        "duration": 4507,
        "start_time": "2022-03-19T04:57:09.430Z"
      },
      {
        "duration": 11,
        "start_time": "2022-03-19T04:57:16.606Z"
      },
      {
        "duration": 11,
        "start_time": "2022-03-19T04:59:31.857Z"
      },
      {
        "duration": 13,
        "start_time": "2022-03-19T04:59:49.798Z"
      },
      {
        "duration": 18,
        "start_time": "2022-03-19T04:59:59.232Z"
      },
      {
        "duration": 8565,
        "start_time": "2022-03-19T11:10:53.188Z"
      },
      {
        "duration": 38,
        "start_time": "2022-03-19T11:11:01.756Z"
      },
      {
        "duration": 29,
        "start_time": "2022-03-19T11:11:01.797Z"
      },
      {
        "duration": 20,
        "start_time": "2022-03-19T11:11:01.829Z"
      },
      {
        "duration": 1704,
        "start_time": "2022-03-19T11:11:01.876Z"
      },
      {
        "duration": 14189,
        "start_time": "2022-03-19T11:11:03.586Z"
      },
      {
        "duration": 6,
        "start_time": "2022-03-19T11:11:17.777Z"
      },
      {
        "duration": 18,
        "start_time": "2022-03-19T11:11:17.786Z"
      },
      {
        "duration": 6,
        "start_time": "2022-03-19T11:11:17.806Z"
      },
      {
        "duration": 5,
        "start_time": "2022-03-19T11:11:17.816Z"
      },
      {
        "duration": 356,
        "start_time": "2022-03-19T11:11:17.823Z"
      },
      {
        "duration": 15,
        "start_time": "2022-03-19T11:11:18.182Z"
      },
      {
        "duration": 12,
        "start_time": "2022-03-19T11:11:18.199Z"
      },
      {
        "duration": 15,
        "start_time": "2022-03-19T11:11:18.213Z"
      },
      {
        "duration": 11,
        "start_time": "2022-03-19T11:11:18.230Z"
      },
      {
        "duration": 31,
        "start_time": "2022-03-19T11:11:18.244Z"
      },
      {
        "duration": 5,
        "start_time": "2022-03-19T11:11:18.277Z"
      },
      {
        "duration": 8,
        "start_time": "2022-03-19T11:11:18.284Z"
      },
      {
        "duration": 14,
        "start_time": "2022-03-19T11:11:18.294Z"
      },
      {
        "duration": 11,
        "start_time": "2022-03-19T11:11:18.312Z"
      },
      {
        "duration": 8,
        "start_time": "2022-03-19T11:11:18.325Z"
      },
      {
        "duration": 14,
        "start_time": "2022-03-19T11:11:18.336Z"
      },
      {
        "duration": 20,
        "start_time": "2022-03-19T11:11:18.353Z"
      },
      {
        "duration": 70,
        "start_time": "2022-03-19T11:11:18.376Z"
      },
      {
        "duration": 9,
        "start_time": "2022-03-19T11:11:18.448Z"
      },
      {
        "duration": 199,
        "start_time": "2022-03-19T11:11:18.474Z"
      },
      {
        "duration": 7,
        "start_time": "2022-03-19T11:11:18.676Z"
      },
      {
        "duration": 3387,
        "start_time": "2022-03-19T11:11:18.690Z"
      },
      {
        "duration": 1016,
        "start_time": "2022-03-19T11:11:22.079Z"
      },
      {
        "duration": 282,
        "start_time": "2022-03-19T11:11:23.098Z"
      },
      {
        "duration": 721,
        "start_time": "2022-03-19T11:11:23.383Z"
      },
      {
        "duration": 299,
        "start_time": "2022-03-19T11:11:24.107Z"
      },
      {
        "duration": 14,
        "start_time": "2022-03-19T11:11:24.408Z"
      },
      {
        "duration": 3998,
        "start_time": "2022-03-19T11:11:24.424Z"
      },
      {
        "duration": 1322,
        "start_time": "2022-03-19T11:11:28.424Z"
      },
      {
        "duration": 383,
        "start_time": "2022-03-19T11:11:29.748Z"
      },
      {
        "duration": 341,
        "start_time": "2022-03-19T11:11:30.133Z"
      },
      {
        "duration": 630,
        "start_time": "2022-03-19T11:11:30.477Z"
      },
      {
        "duration": 29,
        "start_time": "2022-03-19T11:11:31.109Z"
      },
      {
        "duration": 44,
        "start_time": "2022-03-19T11:11:31.140Z"
      },
      {
        "duration": 50,
        "start_time": "2022-03-19T11:11:31.186Z"
      },
      {
        "duration": 41,
        "start_time": "2022-03-19T11:11:31.239Z"
      },
      {
        "duration": 41,
        "start_time": "2022-03-19T11:11:31.282Z"
      },
      {
        "duration": 32,
        "start_time": "2022-03-19T11:11:31.326Z"
      },
      {
        "duration": 33,
        "start_time": "2022-03-19T11:11:31.360Z"
      },
      {
        "duration": 1326,
        "start_time": "2022-03-19T11:11:31.395Z"
      },
      {
        "duration": 4,
        "start_time": "2022-03-19T11:11:32.724Z"
      },
      {
        "duration": 7,
        "start_time": "2022-03-19T11:11:32.730Z"
      },
      {
        "duration": 4,
        "start_time": "2022-03-19T11:11:32.739Z"
      },
      {
        "duration": 29,
        "start_time": "2022-03-19T11:11:32.746Z"
      },
      {
        "duration": 6,
        "start_time": "2022-03-19T11:11:32.778Z"
      },
      {
        "duration": 309,
        "start_time": "2022-03-19T11:11:32.787Z"
      },
      {
        "duration": 0,
        "start_time": "2022-03-19T11:11:33.099Z"
      },
      {
        "duration": 0,
        "start_time": "2022-03-19T11:11:33.102Z"
      },
      {
        "duration": 0,
        "start_time": "2022-03-19T11:11:33.104Z"
      },
      {
        "duration": 0,
        "start_time": "2022-03-19T11:11:33.107Z"
      },
      {
        "duration": 0,
        "start_time": "2022-03-19T11:11:33.109Z"
      },
      {
        "duration": 0,
        "start_time": "2022-03-19T11:11:33.111Z"
      },
      {
        "duration": 0,
        "start_time": "2022-03-19T11:11:33.113Z"
      },
      {
        "duration": 0,
        "start_time": "2022-03-19T11:11:33.116Z"
      },
      {
        "duration": 0,
        "start_time": "2022-03-19T11:11:33.118Z"
      },
      {
        "duration": 18,
        "start_time": "2022-03-19T11:12:33.807Z"
      },
      {
        "duration": 4,
        "start_time": "2022-03-19T11:12:40.558Z"
      },
      {
        "duration": 5,
        "start_time": "2022-03-19T11:12:41.108Z"
      },
      {
        "duration": 5,
        "start_time": "2022-03-19T11:12:41.594Z"
      },
      {
        "duration": 5,
        "start_time": "2022-03-19T11:12:42.166Z"
      },
      {
        "duration": 7424,
        "start_time": "2022-03-19T11:12:42.929Z"
      },
      {
        "duration": 12,
        "start_time": "2022-03-19T11:12:56.051Z"
      },
      {
        "duration": 26,
        "start_time": "2022-03-19T11:12:57.991Z"
      },
      {
        "duration": 5,
        "start_time": "2022-03-19T11:13:16.817Z"
      },
      {
        "duration": 6,
        "start_time": "2022-03-19T11:13:31.329Z"
      },
      {
        "duration": 24,
        "start_time": "2022-03-19T11:16:01.397Z"
      },
      {
        "duration": 5,
        "start_time": "2022-03-19T11:19:28.199Z"
      },
      {
        "duration": 6,
        "start_time": "2022-03-19T11:19:29.684Z"
      },
      {
        "duration": 6,
        "start_time": "2022-03-19T11:19:30.263Z"
      },
      {
        "duration": 6,
        "start_time": "2022-03-19T11:19:30.876Z"
      },
      {
        "duration": 6147,
        "start_time": "2022-03-19T11:19:35.042Z"
      },
      {
        "duration": 6,
        "start_time": "2022-03-19T11:19:43.221Z"
      },
      {
        "duration": 9,
        "start_time": "2022-03-19T11:20:16.913Z"
      },
      {
        "duration": 10,
        "start_time": "2022-03-19T11:20:23.644Z"
      },
      {
        "duration": 7,
        "start_time": "2022-03-19T11:20:45.146Z"
      },
      {
        "duration": 11,
        "start_time": "2022-03-19T11:21:01.098Z"
      },
      {
        "duration": 11,
        "start_time": "2022-03-19T11:21:04.445Z"
      },
      {
        "duration": 10,
        "start_time": "2022-03-19T11:23:49.701Z"
      },
      {
        "duration": 12,
        "start_time": "2022-03-19T11:23:56.533Z"
      },
      {
        "duration": 5,
        "start_time": "2022-03-19T11:24:59.879Z"
      },
      {
        "duration": 27,
        "start_time": "2022-03-19T11:27:41.681Z"
      },
      {
        "duration": 14,
        "start_time": "2022-03-19T11:28:29.433Z"
      },
      {
        "duration": 6487,
        "start_time": "2022-03-19T11:28:48.873Z"
      },
      {
        "duration": 9,
        "start_time": "2022-03-19T11:28:59.182Z"
      },
      {
        "duration": 28,
        "start_time": "2022-03-19T11:29:02.627Z"
      },
      {
        "duration": 6793,
        "start_time": "2022-03-19T11:29:35.137Z"
      },
      {
        "duration": 8,
        "start_time": "2022-03-19T11:29:44.084Z"
      },
      {
        "duration": 19,
        "start_time": "2022-03-19T11:29:47.501Z"
      },
      {
        "duration": 5,
        "start_time": "2022-03-19T11:30:23.971Z"
      },
      {
        "duration": 6164,
        "start_time": "2022-03-19T11:30:24.592Z"
      },
      {
        "duration": 31,
        "start_time": "2022-03-19T11:30:30.760Z"
      },
      {
        "duration": 135,
        "start_time": "2022-03-19T11:32:11.138Z"
      },
      {
        "duration": 6290,
        "start_time": "2022-03-19T11:32:21.972Z"
      },
      {
        "duration": 5778,
        "start_time": "2022-03-19T16:12:27.882Z"
      },
      {
        "duration": 33,
        "start_time": "2022-03-19T16:12:33.663Z"
      },
      {
        "duration": 29,
        "start_time": "2022-03-19T16:12:33.698Z"
      },
      {
        "duration": 19,
        "start_time": "2022-03-19T16:12:33.729Z"
      },
      {
        "duration": 1599,
        "start_time": "2022-03-19T16:12:33.752Z"
      },
      {
        "duration": 12284,
        "start_time": "2022-03-19T16:12:35.354Z"
      },
      {
        "duration": 7,
        "start_time": "2022-03-19T16:12:47.640Z"
      },
      {
        "duration": 42,
        "start_time": "2022-03-19T16:12:47.650Z"
      },
      {
        "duration": 7,
        "start_time": "2022-03-19T16:12:47.697Z"
      },
      {
        "duration": 7,
        "start_time": "2022-03-19T16:12:47.706Z"
      },
      {
        "duration": 278,
        "start_time": "2022-03-19T16:12:47.715Z"
      },
      {
        "duration": 14,
        "start_time": "2022-03-19T16:12:47.996Z"
      },
      {
        "duration": 7,
        "start_time": "2022-03-19T16:12:48.012Z"
      },
      {
        "duration": 7,
        "start_time": "2022-03-19T16:12:48.024Z"
      },
      {
        "duration": 8,
        "start_time": "2022-03-19T16:12:48.033Z"
      },
      {
        "duration": 5,
        "start_time": "2022-03-19T16:12:48.082Z"
      },
      {
        "duration": 14,
        "start_time": "2022-03-19T16:12:48.089Z"
      },
      {
        "duration": 9,
        "start_time": "2022-03-19T16:12:48.105Z"
      },
      {
        "duration": 6,
        "start_time": "2022-03-19T16:12:48.116Z"
      },
      {
        "duration": 7,
        "start_time": "2022-03-19T16:12:48.124Z"
      },
      {
        "duration": 10,
        "start_time": "2022-03-19T16:12:48.133Z"
      },
      {
        "duration": 6,
        "start_time": "2022-03-19T16:12:48.145Z"
      },
      {
        "duration": 3,
        "start_time": "2022-03-19T16:12:48.182Z"
      },
      {
        "duration": 65,
        "start_time": "2022-03-19T16:12:48.187Z"
      },
      {
        "duration": 27,
        "start_time": "2022-03-19T16:12:48.255Z"
      },
      {
        "duration": 173,
        "start_time": "2022-03-19T16:12:48.284Z"
      },
      {
        "duration": 7,
        "start_time": "2022-03-19T16:12:48.459Z"
      },
      {
        "duration": 2798,
        "start_time": "2022-03-19T16:12:48.468Z"
      },
      {
        "duration": 930,
        "start_time": "2022-03-19T16:12:51.268Z"
      },
      {
        "duration": 258,
        "start_time": "2022-03-19T16:12:52.201Z"
      },
      {
        "duration": 733,
        "start_time": "2022-03-19T16:12:52.461Z"
      },
      {
        "duration": 308,
        "start_time": "2022-03-19T16:12:53.196Z"
      },
      {
        "duration": 13,
        "start_time": "2022-03-19T16:12:53.506Z"
      },
      {
        "duration": 3906,
        "start_time": "2022-03-19T16:12:53.521Z"
      },
      {
        "duration": 1349,
        "start_time": "2022-03-19T16:12:57.429Z"
      },
      {
        "duration": 344,
        "start_time": "2022-03-19T16:12:58.783Z"
      },
      {
        "duration": 307,
        "start_time": "2022-03-19T16:12:59.129Z"
      },
      {
        "duration": 593,
        "start_time": "2022-03-19T16:12:59.439Z"
      },
      {
        "duration": 48,
        "start_time": "2022-03-19T16:13:00.034Z"
      },
      {
        "duration": 18,
        "start_time": "2022-03-19T16:13:00.085Z"
      },
      {
        "duration": 23,
        "start_time": "2022-03-19T16:13:00.109Z"
      },
      {
        "duration": 36,
        "start_time": "2022-03-19T16:13:00.135Z"
      },
      {
        "duration": 39,
        "start_time": "2022-03-19T16:13:00.174Z"
      },
      {
        "duration": 27,
        "start_time": "2022-03-19T16:13:00.216Z"
      },
      {
        "duration": 23,
        "start_time": "2022-03-19T16:13:00.245Z"
      },
      {
        "duration": 1194,
        "start_time": "2022-03-19T16:13:00.270Z"
      },
      {
        "duration": 5,
        "start_time": "2022-03-19T16:13:01.467Z"
      },
      {
        "duration": 15,
        "start_time": "2022-03-19T16:13:01.483Z"
      },
      {
        "duration": 31,
        "start_time": "2022-03-19T16:13:01.501Z"
      },
      {
        "duration": 32,
        "start_time": "2022-03-19T16:13:01.534Z"
      },
      {
        "duration": 27,
        "start_time": "2022-03-19T16:13:01.568Z"
      },
      {
        "duration": 39,
        "start_time": "2022-03-19T16:13:01.598Z"
      },
      {
        "duration": 32,
        "start_time": "2022-03-19T16:13:01.640Z"
      },
      {
        "duration": 36,
        "start_time": "2022-03-19T16:13:01.675Z"
      },
      {
        "duration": 48,
        "start_time": "2022-03-19T16:13:01.714Z"
      },
      {
        "duration": 26,
        "start_time": "2022-03-19T16:13:01.764Z"
      },
      {
        "duration": 5800,
        "start_time": "2022-03-19T16:13:01.793Z"
      },
      {
        "duration": 18,
        "start_time": "2022-03-19T16:13:07.595Z"
      },
      {
        "duration": 9,
        "start_time": "2022-03-19T16:13:07.616Z"
      },
      {
        "duration": 8,
        "start_time": "2022-03-19T16:13:07.627Z"
      },
      {
        "duration": 7,
        "start_time": "2022-03-19T16:13:07.638Z"
      },
      {
        "duration": 6071,
        "start_time": "2022-03-19T16:13:45.365Z"
      },
      {
        "duration": 9202,
        "start_time": "2022-03-19T16:14:39.600Z"
      },
      {
        "duration": 18,
        "start_time": "2022-03-19T16:14:59.770Z"
      },
      {
        "duration": 9406,
        "start_time": "2022-03-19T16:15:25.016Z"
      },
      {
        "duration": 160,
        "start_time": "2022-03-19T16:16:58.416Z"
      },
      {
        "duration": 18,
        "start_time": "2022-03-19T16:17:03.559Z"
      },
      {
        "duration": 5825,
        "start_time": "2022-03-19T16:20:16.902Z"
      },
      {
        "duration": 33,
        "start_time": "2022-03-19T16:20:22.730Z"
      },
      {
        "duration": 34,
        "start_time": "2022-03-19T16:20:22.765Z"
      },
      {
        "duration": 20,
        "start_time": "2022-03-19T16:20:22.801Z"
      },
      {
        "duration": 1709,
        "start_time": "2022-03-19T16:20:22.826Z"
      },
      {
        "duration": 17223,
        "start_time": "2022-03-19T16:20:24.537Z"
      },
      {
        "duration": 20,
        "start_time": "2022-03-19T16:20:41.763Z"
      },
      {
        "duration": 19,
        "start_time": "2022-03-19T16:20:41.786Z"
      },
      {
        "duration": 7,
        "start_time": "2022-03-19T16:20:41.808Z"
      },
      {
        "duration": 6,
        "start_time": "2022-03-19T16:20:41.818Z"
      },
      {
        "duration": 301,
        "start_time": "2022-03-19T16:20:41.827Z"
      },
      {
        "duration": 16,
        "start_time": "2022-03-19T16:20:42.131Z"
      },
      {
        "duration": 8,
        "start_time": "2022-03-19T16:20:42.149Z"
      },
      {
        "duration": 7,
        "start_time": "2022-03-19T16:20:42.186Z"
      },
      {
        "duration": 10,
        "start_time": "2022-03-19T16:20:42.195Z"
      },
      {
        "duration": 7,
        "start_time": "2022-03-19T16:20:42.207Z"
      },
      {
        "duration": 7,
        "start_time": "2022-03-19T16:20:42.217Z"
      },
      {
        "duration": 7,
        "start_time": "2022-03-19T16:20:42.226Z"
      },
      {
        "duration": 6,
        "start_time": "2022-03-19T16:20:42.235Z"
      },
      {
        "duration": 8,
        "start_time": "2022-03-19T16:20:42.283Z"
      },
      {
        "duration": 9,
        "start_time": "2022-03-19T16:20:42.293Z"
      },
      {
        "duration": 6,
        "start_time": "2022-03-19T16:20:42.304Z"
      },
      {
        "duration": 6,
        "start_time": "2022-03-19T16:20:42.312Z"
      },
      {
        "duration": 88,
        "start_time": "2022-03-19T16:20:42.320Z"
      },
      {
        "duration": 10,
        "start_time": "2022-03-19T16:20:42.410Z"
      },
      {
        "duration": 185,
        "start_time": "2022-03-19T16:20:42.423Z"
      },
      {
        "duration": 7,
        "start_time": "2022-03-19T16:20:42.610Z"
      },
      {
        "duration": 2857,
        "start_time": "2022-03-19T16:20:42.619Z"
      },
      {
        "duration": 1004,
        "start_time": "2022-03-19T16:20:45.478Z"
      },
      {
        "duration": 278,
        "start_time": "2022-03-19T16:20:46.484Z"
      },
      {
        "duration": 857,
        "start_time": "2022-03-19T16:20:46.765Z"
      },
      {
        "duration": 365,
        "start_time": "2022-03-19T16:20:47.624Z"
      },
      {
        "duration": 14,
        "start_time": "2022-03-19T16:20:47.992Z"
      },
      {
        "duration": 3733,
        "start_time": "2022-03-19T16:20:48.008Z"
      },
      {
        "duration": 1239,
        "start_time": "2022-03-19T16:20:51.744Z"
      },
      {
        "duration": 384,
        "start_time": "2022-03-19T16:20:52.986Z"
      },
      {
        "duration": 310,
        "start_time": "2022-03-19T16:20:53.372Z"
      },
      {
        "duration": 756,
        "start_time": "2022-03-19T16:20:53.685Z"
      },
      {
        "duration": 41,
        "start_time": "2022-03-19T16:20:54.445Z"
      },
      {
        "duration": 18,
        "start_time": "2022-03-19T16:20:54.489Z"
      },
      {
        "duration": 9,
        "start_time": "2022-03-19T16:20:54.514Z"
      },
      {
        "duration": 11,
        "start_time": "2022-03-19T16:20:54.525Z"
      },
      {
        "duration": 43,
        "start_time": "2022-03-19T16:20:54.539Z"
      },
      {
        "duration": 4,
        "start_time": "2022-03-19T16:20:54.584Z"
      },
      {
        "duration": 9,
        "start_time": "2022-03-19T16:20:54.591Z"
      },
      {
        "duration": 1201,
        "start_time": "2022-03-19T16:20:54.603Z"
      },
      {
        "duration": 4,
        "start_time": "2022-03-19T16:20:55.807Z"
      },
      {
        "duration": 10,
        "start_time": "2022-03-19T16:20:55.813Z"
      },
      {
        "duration": 6,
        "start_time": "2022-03-19T16:20:55.825Z"
      },
      {
        "duration": 6,
        "start_time": "2022-03-19T16:20:55.833Z"
      },
      {
        "duration": 6,
        "start_time": "2022-03-19T16:20:55.841Z"
      },
      {
        "duration": 7,
        "start_time": "2022-03-19T16:20:55.882Z"
      },
      {
        "duration": 12,
        "start_time": "2022-03-19T16:20:55.892Z"
      },
      {
        "duration": 11,
        "start_time": "2022-03-19T16:20:55.906Z"
      },
      {
        "duration": 9,
        "start_time": "2022-03-19T16:20:55.919Z"
      },
      {
        "duration": 8,
        "start_time": "2022-03-19T16:20:55.930Z"
      },
      {
        "duration": 16029,
        "start_time": "2022-03-19T16:20:55.940Z"
      },
      {
        "duration": 25,
        "start_time": "2022-03-19T16:21:11.972Z"
      },
      {
        "duration": 10,
        "start_time": "2022-03-19T16:21:12.000Z"
      },
      {
        "duration": 7,
        "start_time": "2022-03-19T16:21:12.012Z"
      },
      {
        "duration": 8,
        "start_time": "2022-03-19T16:21:12.021Z"
      },
      {
        "duration": 4801,
        "start_time": "2022-06-15T11:18:07.441Z"
      },
      {
        "duration": 73,
        "start_time": "2022-06-15T11:18:12.244Z"
      },
      {
        "duration": 17,
        "start_time": "2022-06-15T11:18:12.319Z"
      },
      {
        "duration": 17,
        "start_time": "2022-06-15T11:18:12.338Z"
      },
      {
        "duration": 1063,
        "start_time": "2022-06-15T11:18:12.357Z"
      },
      {
        "duration": 7341,
        "start_time": "2022-06-15T11:18:13.421Z"
      },
      {
        "duration": 4,
        "start_time": "2022-06-15T11:18:20.764Z"
      },
      {
        "duration": 26,
        "start_time": "2022-06-15T11:18:20.769Z"
      },
      {
        "duration": 13,
        "start_time": "2022-06-15T11:18:20.796Z"
      },
      {
        "duration": 20,
        "start_time": "2022-06-15T11:18:20.811Z"
      },
      {
        "duration": 246,
        "start_time": "2022-06-15T11:18:20.832Z"
      },
      {
        "duration": 18,
        "start_time": "2022-06-15T11:18:21.079Z"
      },
      {
        "duration": 27,
        "start_time": "2022-06-15T11:18:21.099Z"
      },
      {
        "duration": 18,
        "start_time": "2022-06-15T11:18:21.127Z"
      },
      {
        "duration": 27,
        "start_time": "2022-06-15T11:18:21.146Z"
      },
      {
        "duration": 14,
        "start_time": "2022-06-15T11:18:21.174Z"
      },
      {
        "duration": 39,
        "start_time": "2022-06-15T11:18:21.190Z"
      },
      {
        "duration": 4,
        "start_time": "2022-06-15T11:18:21.258Z"
      },
      {
        "duration": 9,
        "start_time": "2022-06-15T11:18:21.263Z"
      },
      {
        "duration": 18,
        "start_time": "2022-06-15T11:18:21.273Z"
      },
      {
        "duration": 31,
        "start_time": "2022-06-15T11:18:21.292Z"
      },
      {
        "duration": 35,
        "start_time": "2022-06-15T11:18:21.325Z"
      },
      {
        "duration": 9,
        "start_time": "2022-06-15T11:18:21.362Z"
      },
      {
        "duration": 30,
        "start_time": "2022-06-15T11:18:21.372Z"
      },
      {
        "duration": 89,
        "start_time": "2022-06-15T11:18:21.404Z"
      },
      {
        "duration": 5,
        "start_time": "2022-06-15T11:18:21.494Z"
      },
      {
        "duration": 260,
        "start_time": "2022-06-15T11:18:21.501Z"
      },
      {
        "duration": 5,
        "start_time": "2022-06-15T11:18:21.764Z"
      },
      {
        "duration": 2551,
        "start_time": "2022-06-15T11:18:21.770Z"
      },
      {
        "duration": 643,
        "start_time": "2022-06-15T11:18:24.323Z"
      },
      {
        "duration": 249,
        "start_time": "2022-06-15T11:18:24.967Z"
      },
      {
        "duration": 507,
        "start_time": "2022-06-15T11:18:25.218Z"
      },
      {
        "duration": 292,
        "start_time": "2022-06-15T11:18:25.726Z"
      },
      {
        "duration": 9,
        "start_time": "2022-06-15T11:18:26.019Z"
      },
      {
        "duration": 2431,
        "start_time": "2022-06-15T11:18:26.029Z"
      },
      {
        "duration": 781,
        "start_time": "2022-06-15T11:18:28.461Z"
      },
      {
        "duration": 294,
        "start_time": "2022-06-15T11:18:29.244Z"
      },
      {
        "duration": 191,
        "start_time": "2022-06-15T11:18:29.540Z"
      },
      {
        "duration": 363,
        "start_time": "2022-06-15T11:18:29.732Z"
      },
      {
        "duration": 18,
        "start_time": "2022-06-15T11:18:30.097Z"
      },
      {
        "duration": 13,
        "start_time": "2022-06-15T11:18:30.117Z"
      },
      {
        "duration": 48,
        "start_time": "2022-06-15T11:18:30.131Z"
      },
      {
        "duration": 4,
        "start_time": "2022-06-15T11:18:30.180Z"
      },
      {
        "duration": 11,
        "start_time": "2022-06-15T11:18:30.185Z"
      },
      {
        "duration": 25,
        "start_time": "2022-06-15T11:18:30.198Z"
      },
      {
        "duration": 40,
        "start_time": "2022-06-15T11:18:30.224Z"
      },
      {
        "duration": 799,
        "start_time": "2022-06-15T11:18:30.265Z"
      },
      {
        "duration": 2,
        "start_time": "2022-06-15T11:18:31.066Z"
      },
      {
        "duration": 11,
        "start_time": "2022-06-15T11:18:31.070Z"
      },
      {
        "duration": 10,
        "start_time": "2022-06-15T11:18:31.082Z"
      },
      {
        "duration": 20,
        "start_time": "2022-06-15T11:18:31.093Z"
      },
      {
        "duration": 18,
        "start_time": "2022-06-15T11:18:31.115Z"
      },
      {
        "duration": 33,
        "start_time": "2022-06-15T11:18:31.134Z"
      },
      {
        "duration": 17,
        "start_time": "2022-06-15T11:18:31.169Z"
      },
      {
        "duration": 28,
        "start_time": "2022-06-15T11:18:31.188Z"
      },
      {
        "duration": 15,
        "start_time": "2022-06-15T11:18:31.217Z"
      },
      {
        "duration": 8,
        "start_time": "2022-06-15T11:18:31.233Z"
      },
      {
        "duration": 10153,
        "start_time": "2022-06-15T11:18:31.242Z"
      },
      {
        "duration": 10,
        "start_time": "2022-06-15T11:18:41.396Z"
      },
      {
        "duration": 36,
        "start_time": "2022-06-15T11:18:41.407Z"
      },
      {
        "duration": 21,
        "start_time": "2022-06-15T11:18:41.444Z"
      },
      {
        "duration": 40,
        "start_time": "2022-06-15T11:18:41.466Z"
      }
    ],
    "kernelspec": {
      "display_name": "Python 3 (ipykernel)",
      "language": "python",
      "name": "python3"
    },
    "language_info": {
      "codemirror_mode": {
        "name": "ipython",
        "version": 3
      },
      "file_extension": ".py",
      "mimetype": "text/x-python",
      "name": "python",
      "nbconvert_exporter": "python",
      "pygments_lexer": "ipython3",
      "version": "3.9.5"
    },
    "toc": {
      "base_numbering": 1,
      "nav_menu": {},
      "number_sections": true,
      "sideBar": true,
      "skip_h1_title": true,
      "title_cell": "Содержание",
      "title_sidebar": "Contents",
      "toc_cell": true,
      "toc_position": {
        "height": "calc(100% - 180px)",
        "left": "10px",
        "top": "150px",
        "width": "303px"
      },
      "toc_section_display": true,
      "toc_window_display": true
    },
    "colab": {
      "name": " 7. Прогнозирование оттока клиента Банка",
      "provenance": [],
      "collapsed_sections": [
        "uviOVY144lG6",
        "R89cazwG4lHA",
        "-fDHCx5m4lHE",
        "8QZ9t7Zo4lHF",
        "Fwn_mOWA4lHH",
        "lQHvYPao4lHI",
        "k4mcvDql4lHM",
        "0kB8etFW4lHN"
      ]
    }
  },
  "nbformat": 4,
  "nbformat_minor": 0
}