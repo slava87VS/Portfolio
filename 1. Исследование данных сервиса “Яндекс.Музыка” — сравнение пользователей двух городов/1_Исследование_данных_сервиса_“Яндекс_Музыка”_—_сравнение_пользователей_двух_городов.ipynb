{
  "cells": [
    {
      "cell_type": "markdown",
      "metadata": {
        "id": "E0vqbgi9ay0H"
      },
      "source": [
        "# Яндекс.Музыка"
      ]
    },
    {
      "cell_type": "markdown",
      "metadata": {
        "id": "VUC88oWjTJw2"
      },
      "source": [
        "Сравнение Москвы и Петербурга окружено мифами. Например:\n",
        " * Москва — мегаполис, подчинённый жёсткому ритму рабочей недели;\n",
        " * Петербург — культурная столица, со своими вкусами.\n",
        "\n",
        "На данных Яндекс.Музыки сравним поведение пользователей двух столиц.\n",
        "\n",
        "**Цель исследования** — проверить три гипотезы:\n",
        "1. Активность пользователей зависит от дня недели. Причём в Москве и Петербурге это проявляется по-разному.\n",
        "2. В понедельник утром в Москве преобладают одни жанры, а в Петербурге — другие. Так же и вечером пятницы преобладают разные жанры — в зависимости от города. \n",
        "3. Москва и Петербург предпочитают разные жанры музыки. В Москве чаще слушают поп-музыку, в Петербурге — русский рэп.\n",
        "\n",
        " \n",
        "Таким образом, исследование пройдёт в три этапа:\n",
        " 1. Обзор данных.\n",
        " 2. Предобработка данных.\n",
        " 3. Проверка гипотез.\n",
        "\n"
      ]
    },
    {
      "cell_type": "markdown",
      "metadata": {
        "id": "Ml1hmfXC_Zcs"
      },
      "source": [
        "## Обзор данных\n",
        "\n",
        "Составьте первое представление о данных Яндекс.Музыки.\n",
        "\n",
        "\n"
      ]
    },
    {
      "cell_type": "code",
      "execution_count": null,
      "metadata": {
        "id": "AXN7PHPN_Zcs"
      },
      "outputs": [],
      "source": [
        "import pandas as pd"
      ]
    },
    {
      "cell_type": "code",
      "execution_count": null,
      "metadata": {
        "id": "fFVu7vqh_Zct"
      },
      "outputs": [],
      "source": [
        "df = pd.read_csv('/datasets/yandex_music_project.csv')"
      ]
    },
    {
      "cell_type": "code",
      "execution_count": null,
      "metadata": {
        "id": "oWTVX3gW_Zct",
        "outputId": "97667c3b-39fb-45c5-b0dd-f607091ad18c"
      },
      "outputs": [
        {
          "data": {
            "text/html": [
              "<div>\n",
              "<style scoped>\n",
              "    .dataframe tbody tr th:only-of-type {\n",
              "        vertical-align: middle;\n",
              "    }\n",
              "\n",
              "    .dataframe tbody tr th {\n",
              "        vertical-align: top;\n",
              "    }\n",
              "\n",
              "    .dataframe thead th {\n",
              "        text-align: right;\n",
              "    }\n",
              "</style>\n",
              "<table border=\"1\" class=\"dataframe\">\n",
              "  <thead>\n",
              "    <tr style=\"text-align: right;\">\n",
              "      <th></th>\n",
              "      <th>userID</th>\n",
              "      <th>Track</th>\n",
              "      <th>artist</th>\n",
              "      <th>genre</th>\n",
              "      <th>City</th>\n",
              "      <th>time</th>\n",
              "      <th>Day</th>\n",
              "    </tr>\n",
              "  </thead>\n",
              "  <tbody>\n",
              "    <tr>\n",
              "      <td>0</td>\n",
              "      <td>FFB692EC</td>\n",
              "      <td>Kamigata To Boots</td>\n",
              "      <td>The Mass Missile</td>\n",
              "      <td>rock</td>\n",
              "      <td>Saint-Petersburg</td>\n",
              "      <td>20:28:33</td>\n",
              "      <td>Wednesday</td>\n",
              "    </tr>\n",
              "    <tr>\n",
              "      <td>1</td>\n",
              "      <td>55204538</td>\n",
              "      <td>Delayed Because of Accident</td>\n",
              "      <td>Andreas Rönnberg</td>\n",
              "      <td>rock</td>\n",
              "      <td>Moscow</td>\n",
              "      <td>14:07:09</td>\n",
              "      <td>Friday</td>\n",
              "    </tr>\n",
              "    <tr>\n",
              "      <td>2</td>\n",
              "      <td>20EC38</td>\n",
              "      <td>Funiculì funiculà</td>\n",
              "      <td>Mario Lanza</td>\n",
              "      <td>pop</td>\n",
              "      <td>Saint-Petersburg</td>\n",
              "      <td>20:58:07</td>\n",
              "      <td>Wednesday</td>\n",
              "    </tr>\n",
              "    <tr>\n",
              "      <td>3</td>\n",
              "      <td>A3DD03C9</td>\n",
              "      <td>Dragons in the Sunset</td>\n",
              "      <td>Fire + Ice</td>\n",
              "      <td>folk</td>\n",
              "      <td>Saint-Petersburg</td>\n",
              "      <td>08:37:09</td>\n",
              "      <td>Monday</td>\n",
              "    </tr>\n",
              "    <tr>\n",
              "      <td>4</td>\n",
              "      <td>E2DC1FAE</td>\n",
              "      <td>Soul People</td>\n",
              "      <td>Space Echo</td>\n",
              "      <td>dance</td>\n",
              "      <td>Moscow</td>\n",
              "      <td>08:34:34</td>\n",
              "      <td>Monday</td>\n",
              "    </tr>\n",
              "    <tr>\n",
              "      <td>5</td>\n",
              "      <td>842029A1</td>\n",
              "      <td>Преданная</td>\n",
              "      <td>IMPERVTOR</td>\n",
              "      <td>rusrap</td>\n",
              "      <td>Saint-Petersburg</td>\n",
              "      <td>13:09:41</td>\n",
              "      <td>Friday</td>\n",
              "    </tr>\n",
              "    <tr>\n",
              "      <td>6</td>\n",
              "      <td>4CB90AA5</td>\n",
              "      <td>True</td>\n",
              "      <td>Roman Messer</td>\n",
              "      <td>dance</td>\n",
              "      <td>Moscow</td>\n",
              "      <td>13:00:07</td>\n",
              "      <td>Wednesday</td>\n",
              "    </tr>\n",
              "    <tr>\n",
              "      <td>7</td>\n",
              "      <td>F03E1C1F</td>\n",
              "      <td>Feeling This Way</td>\n",
              "      <td>Polina Griffith</td>\n",
              "      <td>dance</td>\n",
              "      <td>Moscow</td>\n",
              "      <td>20:47:49</td>\n",
              "      <td>Wednesday</td>\n",
              "    </tr>\n",
              "    <tr>\n",
              "      <td>8</td>\n",
              "      <td>8FA1D3BE</td>\n",
              "      <td>И вновь продолжается бой</td>\n",
              "      <td>NaN</td>\n",
              "      <td>ruspop</td>\n",
              "      <td>Moscow</td>\n",
              "      <td>09:17:40</td>\n",
              "      <td>Friday</td>\n",
              "    </tr>\n",
              "    <tr>\n",
              "      <td>9</td>\n",
              "      <td>E772D5C0</td>\n",
              "      <td>Pessimist</td>\n",
              "      <td>NaN</td>\n",
              "      <td>dance</td>\n",
              "      <td>Saint-Petersburg</td>\n",
              "      <td>21:20:49</td>\n",
              "      <td>Wednesday</td>\n",
              "    </tr>\n",
              "  </tbody>\n",
              "</table>\n",
              "</div>"
            ],
            "text/plain": [
              "     userID                        Track            artist   genre  \\\n",
              "0  FFB692EC            Kamigata To Boots  The Mass Missile    rock   \n",
              "1  55204538  Delayed Because of Accident  Andreas Rönnberg    rock   \n",
              "2    20EC38            Funiculì funiculà       Mario Lanza     pop   \n",
              "3  A3DD03C9        Dragons in the Sunset        Fire + Ice    folk   \n",
              "4  E2DC1FAE                  Soul People        Space Echo   dance   \n",
              "5  842029A1                    Преданная         IMPERVTOR  rusrap   \n",
              "6  4CB90AA5                         True      Roman Messer   dance   \n",
              "7  F03E1C1F             Feeling This Way   Polina Griffith   dance   \n",
              "8  8FA1D3BE     И вновь продолжается бой               NaN  ruspop   \n",
              "9  E772D5C0                    Pessimist               NaN   dance   \n",
              "\n",
              "             City        time        Day  \n",
              "0  Saint-Petersburg  20:28:33  Wednesday  \n",
              "1            Moscow  14:07:09     Friday  \n",
              "2  Saint-Petersburg  20:58:07  Wednesday  \n",
              "3  Saint-Petersburg  08:37:09     Monday  \n",
              "4            Moscow  08:34:34     Monday  \n",
              "5  Saint-Petersburg  13:09:41     Friday  \n",
              "6            Moscow  13:00:07  Wednesday  \n",
              "7            Moscow  20:47:49  Wednesday  \n",
              "8            Moscow  09:17:40     Friday  \n",
              "9  Saint-Petersburg  21:20:49  Wednesday  "
            ]
          },
          "metadata": {},
          "output_type": "display_data"
        }
      ],
      "source": [
        "display(df.head(10))"
      ]
    },
    {
      "cell_type": "code",
      "execution_count": null,
      "metadata": {
        "id": "DSf2kIb-_Zct",
        "outputId": "89c996c7-1dcd-49b0-af66-a4c034aa52bd"
      },
      "outputs": [
        {
          "name": "stdout",
          "output_type": "stream",
          "text": [
            "<class 'pandas.core.frame.DataFrame'>\n",
            "RangeIndex: 65079 entries, 0 to 65078\n",
            "Data columns (total 7 columns):\n",
            "  userID    65079 non-null object\n",
            "Track       63848 non-null object\n",
            "artist      57876 non-null object\n",
            "genre       63881 non-null object\n",
            "  City      65079 non-null object\n",
            "time        65079 non-null object\n",
            "Day         65079 non-null object\n",
            "dtypes: object(7)\n",
            "memory usage: 3.5+ MB\n"
          ]
        }
      ],
      "source": [
        "df.info()"
      ]
    },
    {
      "cell_type": "markdown",
      "metadata": {
        "id": "TaQ2Iwbr_Zct"
      },
      "source": [
        "Итак, в таблице семь столбцов. Тип данных во всех столбцах — `object`.\n",
        "\n",
        "Согласно документации к данным:\n",
        "* `userID` — идентификатор пользователя;\n",
        "* `Track` — название трека;  \n",
        "* `artist` — имя исполнителя;\n",
        "* `genre` — название жанра;\n",
        "* `City` — город пользователя;\n",
        "* `time` — время начала прослушивания;\n",
        "* `Day` — день недели.\n",
        "\n",
        "В названиях колонок видны три нарушения стиля:\n",
        "1. Строчные буквы сочетаются с прописными.\n",
        "2. Встречаются пробелы.\n",
        "\n",
        "userID было бы корректнее написать user_id\n",
        "\n",
        "Количество значений в столбцах различается. Значит, в данных есть пропущенные значения.\n"
      ]
    },
    {
      "cell_type": "markdown",
      "metadata": {
        "id": "MCB6-dXG_Zct"
      },
      "source": [
        "**Выводы**\n",
        "\n",
        "В каждой строке таблицы — данные о прослушанном треке. Часть колонок описывает саму композицию: название, исполнителя и жанр. Остальные данные рассказывают о пользователе: из какого он города, когда он слушал музыку. \n",
        "\n",
        "Предварительно можно утверждать, что, данных достаточно для проверки гипотез. Но встречаются пропуски в данных, а в названиях колонок — расхождения с хорошим стилем.\n",
        "\n",
        "Чтобы двигаться дальше, нужно устранить проблемы в данных."
      ]
    },
    {
      "cell_type": "markdown",
      "metadata": {
        "id": "SjYF6Ub9_Zct"
      },
      "source": [
        "## Предобработка данных\n",
        "Исправим стиль в заголовках столбцов, исключим пропуски. Затем проверим данные на дубликаты."
      ]
    },
    {
      "cell_type": "markdown",
      "metadata": {
        "id": "dIaKXr29_Zct"
      },
      "source": [
        "### Стиль заголовков\n",
        "Выведем на экран названия столбцов:"
      ]
    },
    {
      "cell_type": "code",
      "execution_count": null,
      "metadata": {
        "id": "oKOTdF_Q_Zct",
        "outputId": "5892b86c-f0db-46ca-f64f-148735129ec5"
      },
      "outputs": [
        {
          "data": {
            "text/plain": [
              "Index(['  userID', 'Track', 'artist', 'genre', '  City  ', 'time', 'Day'], dtype='object')"
            ]
          },
          "execution_count": 5,
          "metadata": {},
          "output_type": "execute_result"
        }
      ],
      "source": [
        "df.columns"
      ]
    },
    {
      "cell_type": "markdown",
      "metadata": {
        "id": "zj5534cv_Zct"
      },
      "source": [
        "Приведем названия в соответствие с хорошим стилем:\n",
        "* несколько слов в названии запишем в «змеином_регистре»,\n",
        "* все символы сделаем строчными,\n",
        "* устраним пробелы.\n",
        "\n",
        "Для этого переименуем колонки так:\n",
        "* `'  userID'` → `'user_id'`;\n",
        "* `'Track'` → `'track'`;\n",
        "* `'  City  '` → `'city'`;\n",
        "* `'Day'` → `'day'`."
      ]
    },
    {
      "cell_type": "code",
      "execution_count": null,
      "metadata": {
        "id": "ISlFqs5y_Zct"
      },
      "outputs": [],
      "source": [
        "df = df.rename(columns={'  userID': 'user_id', 'Track': 'track','  City  ':'city','Day':'day'})"
      ]
    },
    {
      "cell_type": "markdown",
      "metadata": {
        "id": "1dqbh00J_Zct"
      },
      "source": [
        "Проверим результат. Для этого ещё раз выведем на экран названия столбцов:"
      ]
    },
    {
      "cell_type": "code",
      "execution_count": null,
      "metadata": {
        "id": "d4NOAmTW_Zct",
        "outputId": "d46508b1-88ef-40bf-eb8d-291f861dd0a1"
      },
      "outputs": [
        {
          "data": {
            "text/plain": [
              "Index(['user_id', 'track', 'artist', 'genre', 'city', 'time', 'day'], dtype='object')"
            ]
          },
          "execution_count": 8,
          "metadata": {},
          "output_type": "execute_result"
        }
      ],
      "source": [
        "df.columns"
      ]
    },
    {
      "cell_type": "markdown",
      "metadata": {
        "id": "5ISfbcfY_Zct"
      },
      "source": [
        "### Пропуски значений\n",
        "Сначала посчитаем, сколько в таблице пропущенных значений."
      ]
    },
    {
      "cell_type": "code",
      "execution_count": null,
      "metadata": {
        "id": "RskX29qr_Zct",
        "outputId": "5fa0a35b-fefc-4d9c-995a-d0ce1b12233b"
      },
      "outputs": [
        {
          "data": {
            "text/plain": [
              "user_id       0\n",
              "track      1231\n",
              "artist     7203\n",
              "genre      1198\n",
              "city          0\n",
              "time          0\n",
              "day           0\n",
              "dtype: int64"
            ]
          },
          "execution_count": 9,
          "metadata": {},
          "output_type": "execute_result"
        }
      ],
      "source": [
        "df.isna().sum()"
      ]
    },
    {
      "cell_type": "markdown",
      "metadata": {
        "id": "qubhgnlO_Zct"
      },
      "source": [
        "Не все пропущенные значения влияют на исследование. Так в `track` и `artist` пропуски не важны для нашей работы. Достаточно заменить их явными обозначениями.\n",
        "\n",
        "Но пропуски в `genre` могут помешать сравнению музыкальных вкусов в Москве и Санкт-Петербурге. На практике было бы правильно установить причину пропусков и восстановить данные. Такой возможности нет. Придётся:\n",
        "* заполнить и эти пропуски явными обозначениями,\n",
        "* оценить, насколько они повредят расчётам. "
      ]
    },
    {
      "cell_type": "code",
      "execution_count": null,
      "metadata": {
        "id": "KplB5qWs_Zct"
      },
      "outputs": [],
      "source": [
        "columns_to_replace = ['track', 'artist', 'genre']\n",
        "df[columns_to_replace]=df[columns_to_replace].fillna('unknown')"
      ]
    },
    {
      "cell_type": "markdown",
      "metadata": {
        "id": "Ilsm-MZo_Zct"
      },
      "source": [
        "Убедимся, что в таблице не осталось пропусков. Для этого ещё раз посчитаем пропущенные значения."
      ]
    },
    {
      "cell_type": "code",
      "execution_count": null,
      "metadata": {
        "id": "Tq4nYRX4_Zct",
        "outputId": "284f2aab-5dac-4db7-d79f-cb7d8d768b88"
      },
      "outputs": [
        {
          "data": {
            "text/plain": [
              "user_id    0\n",
              "track      0\n",
              "artist     0\n",
              "genre      0\n",
              "city       0\n",
              "time       0\n",
              "day        0\n",
              "dtype: int64"
            ]
          },
          "execution_count": 11,
          "metadata": {},
          "output_type": "execute_result"
        }
      ],
      "source": [
        "df.isna().sum()"
      ]
    },
    {
      "cell_type": "markdown",
      "metadata": {
        "id": "BWKRtBJ3_Zct"
      },
      "source": [
        "### Дубликаты\n",
        "Посчитаем явные дубликаты в таблице одной командой:"
      ]
    },
    {
      "cell_type": "code",
      "execution_count": null,
      "metadata": {
        "id": "36eES_S0_Zct",
        "outputId": "f665ae12-9247-49be-cf40-0cdfab647cef"
      },
      "outputs": [
        {
          "data": {
            "text/plain": [
              "3826"
            ]
          },
          "execution_count": 12,
          "metadata": {},
          "output_type": "execute_result"
        }
      ],
      "source": [
        "df.duplicated().sum()"
      ]
    },
    {
      "cell_type": "markdown",
      "metadata": {
        "id": "Ot25h6XR_Zct"
      },
      "source": [
        "Вызовем специальный метод `pandas`, чтобы удалить явные дубликаты:"
      ]
    },
    {
      "cell_type": "code",
      "execution_count": null,
      "metadata": {
        "id": "exFHq6tt_Zct"
      },
      "outputs": [],
      "source": [
        "# удаление явных дубликатов (с удалением старых индексов и формированием новых)\n",
        "df = df.drop_duplicates().reset_index(drop=True)\n"
      ]
    },
    {
      "cell_type": "markdown",
      "metadata": {
        "id": "Im2YwBEG_Zct"
      },
      "source": [
        "Ещё раз посчитаем явные дубликаты в таблице — убедимся, что полностью от них избавились:"
      ]
    },
    {
      "cell_type": "code",
      "execution_count": null,
      "metadata": {
        "id": "-8PuNWQ0_Zct",
        "outputId": "91929aea-6069-448e-ff32-f1854af3b07e"
      },
      "outputs": [
        {
          "data": {
            "text/plain": [
              "0"
            ]
          },
          "execution_count": 14,
          "metadata": {},
          "output_type": "execute_result"
        }
      ],
      "source": [
        "# проверка на отсутствие дубликатов\n",
        "df.duplicated().sum()"
      ]
    },
    {
      "cell_type": "markdown",
      "metadata": {
        "id": "QlFBsxAr_Zct"
      },
      "source": [
        "Теперь избавимся от неявных дубликатов в колонке `genre`. Например, название одного и того же жанра может быть записано немного по-разному. Такие ошибки тоже повлияют на результат исследования."
      ]
    },
    {
      "cell_type": "markdown",
      "metadata": {
        "id": "eSjWwsOh_Zct"
      },
      "source": [
        "Выведем на экран список уникальных названий жанров, отсортированный в алфавитном порядке"
      ]
    },
    {
      "cell_type": "code",
      "execution_count": null,
      "metadata": {
        "id": "JIUcqzZN_Zct",
        "outputId": "feee5990-75ee-459f-8936-51dcc8f95c7d"
      },
      "outputs": [
        {
          "data": {
            "text/plain": [
              "array(['acid', 'acoustic', 'action', 'adult', 'africa', 'afrikaans',\n",
              "       'alternative', 'alternativepunk', 'ambient', 'americana',\n",
              "       'animated', 'anime', 'arabesk', 'arabic', 'arena',\n",
              "       'argentinetango', 'art', 'audiobook', 'author', 'avantgarde',\n",
              "       'axé', 'baile', 'balkan', 'beats', 'bigroom', 'black', 'bluegrass',\n",
              "       'blues', 'bollywood', 'bossa', 'brazilian', 'breakbeat', 'breaks',\n",
              "       'broadway', 'cantautori', 'cantopop', 'canzone', 'caribbean',\n",
              "       'caucasian', 'celtic', 'chamber', 'chanson', 'children', 'chill',\n",
              "       'chinese', 'choral', 'christian', 'christmas', 'classical',\n",
              "       'classicmetal', 'club', 'colombian', 'comedy', 'conjazz',\n",
              "       'contemporary', 'country', 'cuban', 'dance', 'dancehall',\n",
              "       'dancepop', 'dark', 'death', 'deep', 'deutschrock', 'deutschspr',\n",
              "       'dirty', 'disco', 'dnb', 'documentary', 'downbeat', 'downtempo',\n",
              "       'drum', 'dub', 'dubstep', 'eastern', 'easy', 'electronic',\n",
              "       'electropop', 'emo', 'entehno', 'epicmetal', 'estrada', 'ethnic',\n",
              "       'eurofolk', 'european', 'experimental', 'extrememetal', 'fado',\n",
              "       'fairytail', 'film', 'fitness', 'flamenco', 'folk', 'folklore',\n",
              "       'folkmetal', 'folkrock', 'folktronica', 'forró', 'frankreich',\n",
              "       'französisch', 'french', 'funk', 'future', 'gangsta', 'garage',\n",
              "       'german', 'ghazal', 'gitarre', 'glitch', 'gospel', 'gothic',\n",
              "       'grime', 'grunge', 'gypsy', 'handsup', \"hard'n'heavy\", 'hardcore',\n",
              "       'hardstyle', 'hardtechno', 'hip', 'hip-hop', 'hiphop',\n",
              "       'historisch', 'holiday', 'hop', 'horror', 'house', 'hymn', 'idm',\n",
              "       'independent', 'indian', 'indie', 'indipop', 'industrial',\n",
              "       'inspirational', 'instrumental', 'international', 'irish', 'jam',\n",
              "       'japanese', 'jazz', 'jewish', 'jpop', 'jungle', 'k-pop',\n",
              "       'karadeniz', 'karaoke', 'kayokyoku', 'korean', 'laiko', 'latin',\n",
              "       'latino', 'leftfield', 'local', 'lounge', 'loungeelectronic',\n",
              "       'lovers', 'malaysian', 'mandopop', 'marschmusik', 'meditative',\n",
              "       'mediterranean', 'melodic', 'metal', 'metalcore', 'mexican',\n",
              "       'middle', 'minimal', 'miscellaneous', 'modern', 'mood', 'mpb',\n",
              "       'muslim', 'native', 'neoklassik', 'neue', 'new', 'newage',\n",
              "       'newwave', 'nu', 'nujazz', 'numetal', 'oceania', 'old', 'opera',\n",
              "       'orchestral', 'other', 'piano', 'podcasts', 'pop', 'popdance',\n",
              "       'popelectronic', 'popeurodance', 'poprussian', 'post',\n",
              "       'posthardcore', 'postrock', 'power', 'progmetal', 'progressive',\n",
              "       'psychedelic', 'punjabi', 'punk', 'quebecois', 'ragga', 'ram',\n",
              "       'rancheras', 'rap', 'rave', 'reggae', 'reggaeton', 'regional',\n",
              "       'relax', 'religious', 'retro', 'rhythm', 'rnb', 'rnr', 'rock',\n",
              "       'rockabilly', 'rockalternative', 'rockindie', 'rockother',\n",
              "       'romance', 'roots', 'ruspop', 'rusrap', 'rusrock', 'russian',\n",
              "       'salsa', 'samba', 'scenic', 'schlager', 'self', 'sertanejo',\n",
              "       'shanson', 'shoegazing', 'showtunes', 'singer', 'ska', 'skarock',\n",
              "       'slow', 'smooth', 'soft', 'soul', 'soulful', 'sound', 'soundtrack',\n",
              "       'southern', 'specialty', 'speech', 'spiritual', 'sport',\n",
              "       'stonerrock', 'surf', 'swing', 'synthpop', 'synthrock',\n",
              "       'sängerportrait', 'tango', 'tanzorchester', 'taraftar', 'tatar',\n",
              "       'tech', 'techno', 'teen', 'thrash', 'top', 'traditional',\n",
              "       'tradjazz', 'trance', 'tribal', 'trip', 'triphop', 'tropical',\n",
              "       'türk', 'türkçe', 'ukrrock', 'unknown', 'urban', 'uzbek',\n",
              "       'variété', 'vi', 'videogame', 'vocal', 'western', 'world',\n",
              "       'worldbeat', 'ïîï', 'электроника'], dtype=object)"
            ]
          },
          "execution_count": 15,
          "metadata": {},
          "output_type": "execute_result"
        }
      ],
      "source": [
        "# Просмотр уникальных названий жанров\n",
        "df['genre'].sort_values().unique()"
      ]
    },
    {
      "cell_type": "markdown",
      "metadata": {
        "id": "qej-Qmuo_Zct"
      },
      "source": [
        "Просмотрим список и найдем неявные дубликаты названия `hiphop`. Это могут быть названия с ошибками или альтернативные названия того же жанра.\n",
        "\n",
        "Мы увидим следующие неявные дубликаты:\n",
        "* *hip*,\n",
        "* *hop*,\n",
        "* *hip-hop*.\n",
        "\n",
        "Чтобы очистить от них таблицу, напишем функцию `replace_wrong_genres()` с двумя параметрами: \n",
        "* `wrong_genres` — список дубликатов,\n",
        "* `correct_genre` — строка с правильным значением.\n",
        "\n",
        "Функция должна исправить колонку `genre` в таблице `df`: заменить каждое значение из списка `wrong_genres` на значение из `correct_genre`."
      ]
    },
    {
      "cell_type": "code",
      "execution_count": null,
      "metadata": {
        "id": "ErNDkmns_Zct"
      },
      "outputs": [],
      "source": [
        "# Функция для замены неявных дубликатов\n",
        "def replace_wrong_genres(wrong_genres, correct_genre):\n",
        "    for wrong_value in wrong_genres:\n",
        "        df['genre'] = df['genre'].replace(wrong_genres, correct_genre)\n",
        "\n",
        "\n"
      ]
    },
    {
      "cell_type": "code",
      "execution_count": null,
      "metadata": {
        "id": "YN5i2hpmSo09"
      },
      "outputs": [],
      "source": [
        "# Устранение неявных дубликатов\n",
        "duplicat = ['hip', 'hop', 'hip-hop']\n",
        "name_true = 'hiphop'\n",
        "replace_wrong_genres(duplicat, name_true)"
      ]
    },
    {
      "cell_type": "code",
      "execution_count": null,
      "metadata": {
        "id": "wvixALnFG15m",
        "outputId": "5cc753b5-72f4-4ccb-c198-807136a6a62a"
      },
      "outputs": [
        {
          "data": {
            "text/plain": [
              "array(['acid', 'acoustic', 'action', 'adult', 'africa', 'afrikaans',\n",
              "       'alternative', 'alternativepunk', 'ambient', 'americana',\n",
              "       'animated', 'anime', 'arabesk', 'arabic', 'arena',\n",
              "       'argentinetango', 'art', 'audiobook', 'author', 'avantgarde',\n",
              "       'axé', 'baile', 'balkan', 'beats', 'bigroom', 'black', 'bluegrass',\n",
              "       'blues', 'bollywood', 'bossa', 'brazilian', 'breakbeat', 'breaks',\n",
              "       'broadway', 'cantautori', 'cantopop', 'canzone', 'caribbean',\n",
              "       'caucasian', 'celtic', 'chamber', 'chanson', 'children', 'chill',\n",
              "       'chinese', 'choral', 'christian', 'christmas', 'classical',\n",
              "       'classicmetal', 'club', 'colombian', 'comedy', 'conjazz',\n",
              "       'contemporary', 'country', 'cuban', 'dance', 'dancehall',\n",
              "       'dancepop', 'dark', 'death', 'deep', 'deutschrock', 'deutschspr',\n",
              "       'dirty', 'disco', 'dnb', 'documentary', 'downbeat', 'downtempo',\n",
              "       'drum', 'dub', 'dubstep', 'eastern', 'easy', 'electronic',\n",
              "       'electropop', 'emo', 'entehno', 'epicmetal', 'estrada', 'ethnic',\n",
              "       'eurofolk', 'european', 'experimental', 'extrememetal', 'fado',\n",
              "       'fairytail', 'film', 'fitness', 'flamenco', 'folk', 'folklore',\n",
              "       'folkmetal', 'folkrock', 'folktronica', 'forró', 'frankreich',\n",
              "       'französisch', 'french', 'funk', 'future', 'gangsta', 'garage',\n",
              "       'german', 'ghazal', 'gitarre', 'glitch', 'gospel', 'gothic',\n",
              "       'grime', 'grunge', 'gypsy', 'handsup', \"hard'n'heavy\", 'hardcore',\n",
              "       'hardstyle', 'hardtechno', 'hiphop', 'historisch', 'holiday',\n",
              "       'horror', 'house', 'hymn', 'idm', 'independent', 'indian', 'indie',\n",
              "       'indipop', 'industrial', 'inspirational', 'instrumental',\n",
              "       'international', 'irish', 'jam', 'japanese', 'jazz', 'jewish',\n",
              "       'jpop', 'jungle', 'k-pop', 'karadeniz', 'karaoke', 'kayokyoku',\n",
              "       'korean', 'laiko', 'latin', 'latino', 'leftfield', 'local',\n",
              "       'lounge', 'loungeelectronic', 'lovers', 'malaysian', 'mandopop',\n",
              "       'marschmusik', 'meditative', 'mediterranean', 'melodic', 'metal',\n",
              "       'metalcore', 'mexican', 'middle', 'minimal', 'miscellaneous',\n",
              "       'modern', 'mood', 'mpb', 'muslim', 'native', 'neoklassik', 'neue',\n",
              "       'new', 'newage', 'newwave', 'nu', 'nujazz', 'numetal', 'oceania',\n",
              "       'old', 'opera', 'orchestral', 'other', 'piano', 'podcasts', 'pop',\n",
              "       'popdance', 'popelectronic', 'popeurodance', 'poprussian', 'post',\n",
              "       'posthardcore', 'postrock', 'power', 'progmetal', 'progressive',\n",
              "       'psychedelic', 'punjabi', 'punk', 'quebecois', 'ragga', 'ram',\n",
              "       'rancheras', 'rap', 'rave', 'reggae', 'reggaeton', 'regional',\n",
              "       'relax', 'religious', 'retro', 'rhythm', 'rnb', 'rnr', 'rock',\n",
              "       'rockabilly', 'rockalternative', 'rockindie', 'rockother',\n",
              "       'romance', 'roots', 'ruspop', 'rusrap', 'rusrock', 'russian',\n",
              "       'salsa', 'samba', 'scenic', 'schlager', 'self', 'sertanejo',\n",
              "       'shanson', 'shoegazing', 'showtunes', 'singer', 'ska', 'skarock',\n",
              "       'slow', 'smooth', 'soft', 'soul', 'soulful', 'sound', 'soundtrack',\n",
              "       'southern', 'specialty', 'speech', 'spiritual', 'sport',\n",
              "       'stonerrock', 'surf', 'swing', 'synthpop', 'synthrock',\n",
              "       'sängerportrait', 'tango', 'tanzorchester', 'taraftar', 'tatar',\n",
              "       'tech', 'techno', 'teen', 'thrash', 'top', 'traditional',\n",
              "       'tradjazz', 'trance', 'tribal', 'trip', 'triphop', 'tropical',\n",
              "       'türk', 'türkçe', 'ukrrock', 'unknown', 'urban', 'uzbek',\n",
              "       'variété', 'vi', 'videogame', 'vocal', 'western', 'world',\n",
              "       'worldbeat', 'ïîï', 'электроника'], dtype=object)"
            ]
          },
          "execution_count": 18,
          "metadata": {},
          "output_type": "execute_result"
        }
      ],
      "source": [
        "# Проверка на неявные дубликаты\n",
        "df['genre'].sort_values().unique()"
      ]
    },
    {
      "cell_type": "markdown",
      "metadata": {
        "id": "jz6a9-7HQUDd"
      },
      "source": [
        "**Выводы**\n",
        "\n",
        "Предобработка обнаружила три проблемы в данных:\n",
        "\n",
        "- нарушения в стиле заголовков,\n",
        "- пропущенные значения,\n",
        "- дубликаты — явные и неявные.\n",
        "\n",
        "Мы исправили заголовки, чтобы упростить работу с таблицей. Без дубликатов исследование станет более точным.\n",
        "\n",
        "Пропущенные значения мы заменили на `'unknown'`. Ещё предстоит увидеть, не повредят ли исследованию пропуски в колонке `genre`.\n",
        "\n",
        "Теперь можно перейти к проверке гипотез. "
      ]
    },
    {
      "cell_type": "markdown",
      "metadata": {
        "id": "WttZHXH0SqKk"
      },
      "source": [
        "## Проверка гипотез"
      ]
    },
    {
      "cell_type": "markdown",
      "metadata": {
        "id": "Im936VVi_Zcu"
      },
      "source": [
        "### Сравнение поведения пользователей двух столиц"
      ]
    },
    {
      "cell_type": "markdown",
      "metadata": {
        "id": "nwt_MuaL_Zcu"
      },
      "source": [
        "Первая гипотеза утверждает, что пользователи по-разному слушают музыку в Москве и Санкт-Петербурге. Проверим это предположение по данным о трёх днях недели — понедельнике, среде и пятнице. Для этого:\n",
        "\n",
        "* Разделим пользователей Москвы и Санкт-Петербурга\n",
        "* Сравним, сколько треков послушала каждая группа пользователей в понедельник, среду и пятницу.\n"
      ]
    },
    {
      "cell_type": "code",
      "execution_count": null,
      "metadata": {
        "id": "0_Qs96oh_Zcu",
        "outputId": "77cd24a4-0aa0-4b64-cf72-76f67e447969"
      },
      "outputs": [
        {
          "data": {
            "text/plain": [
              "city\n",
              "Moscow              42741\n",
              "Saint-Petersburg    18512\n",
              "Name: track, dtype: int64"
            ]
          },
          "execution_count": 19,
          "metadata": {},
          "output_type": "execute_result"
        }
      ],
      "source": [
        "# Подсчёт прослушиваний в каждом городе\n",
        "df.groupby('city')['track'].count()"
      ]
    },
    {
      "cell_type": "markdown",
      "metadata": {
        "id": "dzli3w8o_Zcu"
      },
      "source": [
        "В Москве прослушиваний больше, чем в Петербурге. Из этого не следует, что московские пользователи чаще слушают музыку. Просто самих пользователей в Москве больше.\n",
        "\n",
        "Теперь сгруппируем данные по дню недели и подсчитаем прослушивания в понедельник, среду и пятницу. Учтем, что в данных есть информация только о прослушиваниях только за эти дни.\n"
      ]
    },
    {
      "cell_type": "code",
      "execution_count": null,
      "metadata": {
        "id": "uZMKjiJz_Zcu",
        "outputId": "a4ea7b64-a820-4ed8-895f-30bfd9458d3d"
      },
      "outputs": [
        {
          "data": {
            "text/plain": [
              "day\n",
              "Friday       21840\n",
              "Monday       21354\n",
              "Wednesday    18059\n",
              "Name: track, dtype: int64"
            ]
          },
          "execution_count": 20,
          "metadata": {},
          "output_type": "execute_result"
        }
      ],
      "source": [
        "# Подсчёт прослушиваний в каждый из трёх дней\n",
        "df.groupby('day')['track'].count()"
      ]
    },
    {
      "cell_type": "markdown",
      "metadata": {
        "id": "cC2tNrlL_Zcu"
      },
      "source": [
        "В среднем пользователи из двух городов менее активны по средам. Но картина может измениться, если рассмотреть каждый город в отдельности."
      ]
    },
    {
      "cell_type": "markdown",
      "metadata": {
        "id": "POzs8bGa_Zcu"
      },
      "source": [
        "Мы видели, как работает группировка по городу и по дням недели. Теперь напишем функцию, которая объединит два эти расчёта.\n",
        "\n",
        "Создадим функцию `number_tracks()`, которая посчитает прослушивания для заданного дня и города. Ей понадобятся два параметра:\n",
        "* день недели,\n",
        "* название города.\n",
        "\n",
        "В функции сохраним в переменную строки исходной таблицы, у которых значение:\n",
        "  * в колонке `day` равно параметру `day`,\n",
        "  * в колонке `city` равно параметру `city`.\n",
        "\n",
        "Для этого применим последовательную фильтрацию с логической индексацией.\n",
        "\n",
        "Затем посчитаем значения в столбце `user_id` получившейся таблицы. Результат сохраним в новую переменную. Вернем эту переменную из функции."
      ]
    },
    {
      "cell_type": "code",
      "execution_count": null,
      "metadata": {
        "id": "Nz3GdQB1_Zcu"
      },
      "outputs": [],
      "source": [
        "\n",
        "def number_tracks (day, city):\n",
        "    track_list = df.loc[df.loc[:,'day'] == day]\n",
        "    track_list_count = track_list[track_list['city'] == city]['user_id'].count()\n",
        "    print(track_list_count)\n"
      ]
    },
    {
      "cell_type": "markdown",
      "metadata": {
        "id": "ytf7xFrFJQ2r"
      },
      "source": [
        "Вызовем `number_tracks()` шесть раз, меняя значение параметров — так, чтобы получить данные для каждого города в каждый из трёх дней."
      ]
    },
    {
      "cell_type": "code",
      "execution_count": null,
      "metadata": {
        "id": "rJcRATNQ_Zcu",
        "outputId": "c18fd384-b493-41bd-bc4a-cd3f7ad70fd3"
      },
      "outputs": [
        {
          "name": "stdout",
          "output_type": "stream",
          "text": [
            "15740\n"
          ]
        }
      ],
      "source": [
        "# количество прослушиваний в Москве по понедельникам\n",
        "number_tracks('Monday', 'Moscow')"
      ]
    },
    {
      "cell_type": "code",
      "execution_count": null,
      "metadata": {
        "id": "hq_ncZ5T_Zcu",
        "outputId": "26f52c92-347f-4d94-de48-e8d13d56e45a"
      },
      "outputs": [
        {
          "name": "stdout",
          "output_type": "stream",
          "text": [
            "5614\n"
          ]
        }
      ],
      "source": [
        "# количество прослушиваний в Санкт-Петербурге по понедельникам\n",
        "number_tracks('Monday', 'Saint-Petersburg')"
      ]
    },
    {
      "cell_type": "code",
      "execution_count": null,
      "metadata": {
        "id": "_NTy2VPU_Zcu",
        "outputId": "b3d20c35-a6d2-4253-c227-b57c8fbdab2a"
      },
      "outputs": [
        {
          "name": "stdout",
          "output_type": "stream",
          "text": [
            "11056\n"
          ]
        }
      ],
      "source": [
        "# количество прослушиваний в Москве по средам\n",
        "number_tracks('Wednesday', 'Moscow')"
      ]
    },
    {
      "cell_type": "code",
      "execution_count": null,
      "metadata": {
        "id": "j2y3TAwo_Zcu",
        "outputId": "5358883e-d50c-4505-b963-ebd688f23038"
      },
      "outputs": [
        {
          "name": "stdout",
          "output_type": "stream",
          "text": [
            "7003\n"
          ]
        }
      ],
      "source": [
        "# количество прослушиваний в Санкт-Петербурге по средам\n",
        "number_tracks('Wednesday', 'Saint-Petersburg')"
      ]
    },
    {
      "cell_type": "code",
      "execution_count": null,
      "metadata": {
        "id": "vYDw5u_K_Zcu",
        "outputId": "5000cc8e-bf52-4c4a-8e85-a3027a86bbd0"
      },
      "outputs": [
        {
          "name": "stdout",
          "output_type": "stream",
          "text": [
            "15945\n"
          ]
        }
      ],
      "source": [
        "# количество прослушиваний в Москве по пятницам\n",
        "number_tracks('Friday', 'Moscow')"
      ]
    },
    {
      "cell_type": "code",
      "execution_count": null,
      "metadata": {
        "id": "8_yzFtW3_Zcu",
        "outputId": "9ab7c090-cf4c-4e10-f489-7a4c0ba5bab2"
      },
      "outputs": [
        {
          "name": "stdout",
          "output_type": "stream",
          "text": [
            "5895\n"
          ]
        }
      ],
      "source": [
        "# количество прослушиваний в Санкт-Петербурге по пятницам\n",
        "number_tracks('Friday', 'Saint-Petersburg')"
      ]
    },
    {
      "cell_type": "markdown",
      "metadata": {
        "id": "7QXffbO-_Zcu"
      },
      "source": [
        "Создадим c помощью конструктора `pd.DataFrame` таблицу, где\n",
        "* названия колонок — `['city', 'monday', 'wednesday', 'friday']`;\n",
        "* данные — результаты, которые мы получили с помощью `number_tracks`."
      ]
    },
    {
      "cell_type": "code",
      "execution_count": null,
      "metadata": {
        "id": "APAcLpOr_Zcu",
        "outputId": "937616bd-590a-4642-c915-c2fb8d340b82"
      },
      "outputs": [
        {
          "data": {
            "text/html": [
              "<div>\n",
              "<style scoped>\n",
              "    .dataframe tbody tr th:only-of-type {\n",
              "        vertical-align: middle;\n",
              "    }\n",
              "\n",
              "    .dataframe tbody tr th {\n",
              "        vertical-align: top;\n",
              "    }\n",
              "\n",
              "    .dataframe thead th {\n",
              "        text-align: right;\n",
              "    }\n",
              "</style>\n",
              "<table border=\"1\" class=\"dataframe\">\n",
              "  <thead>\n",
              "    <tr style=\"text-align: right;\">\n",
              "      <th></th>\n",
              "      <th>city</th>\n",
              "      <th>monday</th>\n",
              "      <th>wednesday</th>\n",
              "      <th>friday</th>\n",
              "    </tr>\n",
              "  </thead>\n",
              "  <tbody>\n",
              "    <tr>\n",
              "      <td>0</td>\n",
              "      <td>Moscow</td>\n",
              "      <td>15740</td>\n",
              "      <td>11056</td>\n",
              "      <td>15945</td>\n",
              "    </tr>\n",
              "    <tr>\n",
              "      <td>1</td>\n",
              "      <td>Saint-Petersburg</td>\n",
              "      <td>5614</td>\n",
              "      <td>7003</td>\n",
              "      <td>5895</td>\n",
              "    </tr>\n",
              "  </tbody>\n",
              "</table>\n",
              "</div>"
            ],
            "text/plain": [
              "               city  monday  wednesday  friday\n",
              "0            Moscow   15740      11056   15945\n",
              "1  Saint-Petersburg    5614       7003    5895"
            ]
          },
          "execution_count": 28,
          "metadata": {},
          "output_type": "execute_result"
        }
      ],
      "source": [
        "# Таблица с результатами\n",
        "columns = ['city', 'monday', 'wednesday', 'friday']\n",
        "data = [['Moscow', 15740, 11056, 15945],\n",
        "    ['Saint-Petersburg', 5614, 7003, 5895]]\n",
        "\n",
        "pd.DataFrame(columns = columns, data = data)"
      ]
    },
    {
      "cell_type": "markdown",
      "metadata": {
        "id": "-EgPIHYu_Zcu"
      },
      "source": [
        "**Выводы**\n",
        "\n",
        "Данные показывают разницу поведения пользователей:\n",
        "\n",
        "- В Москве пик прослушиваний приходится на понедельник и пятницу, а в среду заметен спад.\n",
        "- В Петербурге, наоборот, больше слушают музыку по средам. Активность в понедельник и пятницу здесь почти в равной мере уступает среде.\n",
        "\n",
        "Значит, данные говорят в пользу первой гипотезы."
      ]
    },
    {
      "cell_type": "markdown",
      "metadata": {
        "id": "atZAxtq4_Zcu"
      },
      "source": [
        "### Музыка в начале и в конце недели"
      ]
    },
    {
      "cell_type": "markdown",
      "metadata": {
        "id": "eXrQqXFH_Zcu"
      },
      "source": [
        "Согласно второй гипотезе, утром в понедельник в Москве преобладают одни жанры, а в Петербурге — другие. Так же и вечером пятницы преобладают разные жанры — в зависимости от города."
      ]
    },
    {
      "cell_type": "markdown",
      "metadata": {
        "id": "S8UcW6Hw_Zcu"
      },
      "source": [
        "Сохраним таблицы с данными в две переменные:\n",
        "* по Москве — в `moscow_general`;\n",
        "* по Санкт-Петербургу — в `spb_general`."
      ]
    },
    {
      "cell_type": "code",
      "execution_count": null,
      "metadata": {
        "id": "qeaFfM_P_Zcu",
        "outputId": "9b24d707-08b2-4d53-8ec7-313b790fc534"
      },
      "outputs": [
        {
          "name": "stdout",
          "output_type": "stream",
          "text": [
            "        user_id                          track                   artist  \\\n",
            "1      55204538    Delayed Because of Accident         Andreas Rönnberg   \n",
            "4      E2DC1FAE                    Soul People               Space Echo   \n",
            "6      4CB90AA5                           True             Roman Messer   \n",
            "7      F03E1C1F               Feeling This Way          Polina Griffith   \n",
            "8      8FA1D3BE       И вновь продолжается бой                  unknown   \n",
            "...         ...                            ...                      ...   \n",
            "61247  83A474E7  I Worship Only What You Bleed  The Black Dahlia Murder   \n",
            "61248  729CBB09                        My Name                   McLean   \n",
            "61250  C5E3A0D5                      Jalopiina                  unknown   \n",
            "61251  321D0506                  Freight Train            Chas McDevitt   \n",
            "61252  3A64EF84      Tell Me Sweet Little Lies             Monica Lopez   \n",
            "\n",
            "              genre    city      time        day  \n",
            "1              rock  Moscow  14:07:09     Friday  \n",
            "4             dance  Moscow  08:34:34     Monday  \n",
            "6             dance  Moscow  13:00:07  Wednesday  \n",
            "7             dance  Moscow  20:47:49  Wednesday  \n",
            "8            ruspop  Moscow  09:17:40     Friday  \n",
            "...             ...     ...       ...        ...  \n",
            "61247  extrememetal  Moscow  21:07:12     Monday  \n",
            "61248           rnb  Moscow  13:32:28  Wednesday  \n",
            "61250    industrial  Moscow  20:09:26     Friday  \n",
            "61251          rock  Moscow  21:43:59     Friday  \n",
            "61252       country  Moscow  21:59:46     Friday  \n",
            "\n",
            "[42741 rows x 7 columns]\n"
          ]
        }
      ],
      "source": [
        "# получение таблицы moscow_general из тех строк таблицы df, \n",
        "# для которых значение в столбце 'city' равно 'Moscow'\n",
        "moscow_general = df[df['city'] == 'Moscow']\n",
        "moscow_general"
      ]
    },
    {
      "cell_type": "code",
      "execution_count": null,
      "metadata": {
        "id": "ORaVRKto_Zcu"
      },
      "outputs": [],
      "source": [
        "# получение таблицы spb_general из тех строк таблицы df,\n",
        "# для которых значение в столбце 'city' равно 'Saint-Petersburg'\n",
        "spb_general = df[df['city'] == 'Saint-Petersburg']"
      ]
    },
    {
      "cell_type": "markdown",
      "metadata": {
        "id": "MEJV-CX2_Zcu"
      },
      "source": [
        "Создадим функцию `genre_weekday()` с четырьмя параметрами:\n",
        "* таблица (датафрейм) с данными,\n",
        "* день недели,\n",
        "* начальная временная метка в формате 'hh:mm', \n",
        "* последняя временная метка в формате 'hh:mm'.\n",
        "\n",
        "Функция должна вернуть информацию о топ-10 жанров тех треков, которые прослушивали в указанный день, в промежутке между двумя отметками времени."
      ]
    },
    {
      "cell_type": "code",
      "execution_count": null,
      "metadata": {
        "id": "laJT9BYl_Zcu"
      },
      "outputs": [],
      "source": [
        "\n",
        "def genre_weekday(table, day, time1, time2):\n",
        "    genre_df = table[table['day'] == day]\n",
        "    genre_df = genre_df[genre_df['time'] > time1]\n",
        "    genre_df = genre_df[genre_df['time'] < time2]\n",
        "    genre_df_count = genre_df.groupby('genre')['user_id'].count()\n",
        "    genre_df_sorted = genre_df_count.sort_values(ascending=False)\n",
        "    display(genre_df_sorted.head(10))"
      ]
    },
    {
      "cell_type": "markdown",
      "metadata": {
        "id": "la2s2_PF_Zcu"
      },
      "source": [
        "Сравним результаты функции `genre_weekday()` для Москвы и Санкт-Петербурга в понедельник утром (с 7:00 до 11:00) и в пятницу вечером (с 17:00 до 23:00):"
      ]
    },
    {
      "cell_type": "code",
      "execution_count": null,
      "metadata": {
        "id": "yz7itPUQ_Zcu",
        "outputId": "73a69aa3-1c15-459a-f3ec-8e3144e14078"
      },
      "outputs": [
        {
          "data": {
            "text/plain": [
              "genre\n",
              "pop            781\n",
              "dance          549\n",
              "electronic     480\n",
              "rock           474\n",
              "hiphop         286\n",
              "ruspop         186\n",
              "world          181\n",
              "rusrap         175\n",
              "alternative    164\n",
              "unknown        161\n",
              "Name: user_id, dtype: int64"
            ]
          },
          "metadata": {},
          "output_type": "display_data"
        }
      ],
      "source": [
        "\n",
        "genre_weekday(moscow_general, 'Monday', '07:00', '11:00')"
      ]
    },
    {
      "cell_type": "code",
      "execution_count": null,
      "metadata": {
        "id": "kwUcHPdy_Zcu",
        "outputId": "ec329329-52df-487c-8018-b8e01eadebf8"
      },
      "outputs": [
        {
          "data": {
            "text/plain": [
              "genre\n",
              "pop            218\n",
              "dance          182\n",
              "rock           162\n",
              "electronic     147\n",
              "hiphop          80\n",
              "ruspop          64\n",
              "alternative     58\n",
              "rusrap          55\n",
              "jazz            44\n",
              "classical       40\n",
              "Name: user_id, dtype: int64"
            ]
          },
          "metadata": {},
          "output_type": "display_data"
        }
      ],
      "source": [
        "genre_weekday(spb_general, 'Monday', '07:00', '11:00')"
      ]
    },
    {
      "cell_type": "code",
      "execution_count": null,
      "metadata": {
        "id": "EzXVRE1o_Zcu",
        "outputId": "10bbb43d-8862-48d0-f635-91604c53ec54"
      },
      "outputs": [
        {
          "data": {
            "text/plain": [
              "genre\n",
              "pop            713\n",
              "rock           517\n",
              "dance          495\n",
              "electronic     482\n",
              "hiphop         273\n",
              "world          208\n",
              "ruspop         170\n",
              "alternative    163\n",
              "classical      163\n",
              "rusrap         142\n",
              "Name: user_id, dtype: int64"
            ]
          },
          "metadata": {},
          "output_type": "display_data"
        }
      ],
      "source": [
        "genre_weekday(moscow_general, 'Friday', '17:00', '23:00')"
      ]
    },
    {
      "cell_type": "code",
      "execution_count": null,
      "metadata": {
        "id": "JZaEKu5v_Zcu",
        "outputId": "1e169680-5cf4-4012-dcb1-739901c5439c"
      },
      "outputs": [
        {
          "data": {
            "text/plain": [
              "genre\n",
              "pop            256\n",
              "rock           216\n",
              "electronic     216\n",
              "dance          210\n",
              "hiphop          97\n",
              "alternative     63\n",
              "jazz            61\n",
              "classical       60\n",
              "rusrap          59\n",
              "world           54\n",
              "Name: user_id, dtype: int64"
            ]
          },
          "metadata": {},
          "output_type": "display_data"
        }
      ],
      "source": [
        "genre_weekday(spb_general, 'Friday', '17:00', '23:00')"
      ]
    },
    {
      "cell_type": "markdown",
      "metadata": {
        "id": "wrCe4MNX_Zcu"
      },
      "source": [
        "**Выводы**\n",
        "\n",
        "Если сравнить топ-10 жанров в понедельник утром, можно сделать такие выводы:\n",
        "\n",
        "1. В Москве и Петербурге слушают похожую музыку. Единственное отличие — в московский рейтинг вошёл жанр “world”, а в петербургский — джаз и классика.\n",
        "\n",
        "2. В Москве пропущенных значений оказалось так много, что значение `'unknown'` заняло десятое место среди самых популярных жанров. Значит, пропущенные значения занимают существенную долю в данных и угрожают достоверности исследования.\n",
        "\n",
        "Вечер пятницы не меняет эту картину. Некоторые жанры поднимаются немного выше, другие спускаются, но в целом топ-10 остаётся тем же самым.\n",
        "\n",
        "Таким образом, вторая гипотеза подтвердилась лишь частично:\n",
        "* Пользователи слушают похожую музыку в начале недели и в конце.\n",
        "* Разница между Москвой и Петербургом не слишком выражена. В Москве чаще слушают русскую популярную музыку, в Петербурге — джаз.\n",
        "\n",
        "Однако пропуски в данных ставят под сомнение этот результат. В Москве их так много, что рейтинг топ-10 мог бы выглядеть иначе, если бы не утерянные  данные о жанрах."
      ]
    },
    {
      "cell_type": "markdown",
      "metadata": {
        "id": "JolODAqr_Zcu"
      },
      "source": [
        "### Жанровые предпочтения в Москве и Петербурге\n",
        "\n",
        "Гипотеза: Петербург — столица рэпа, музыку этого жанра там слушают чаще, чем в Москве.  А Москва — город контрастов, в котором, тем не менее, преобладает поп-музыка."
      ]
    },
    {
      "cell_type": "markdown",
      "metadata": {
        "id": "DlegSvaT_Zcu"
      },
      "source": [
        "Сгруппируем таблицу `moscow_general` по жанру и посчитаем прослушивания треков каждого жанра методом `count()`. Затем отсортируем результат в порядке убывания и сохраним его в таблице `moscow_genres`."
      ]
    },
    {
      "cell_type": "code",
      "execution_count": null,
      "metadata": {
        "id": "r19lIPke_Zcu"
      },
      "outputs": [],
      "source": [
        "\n",
        "moscow_genres = (moscow_general.groupby('genre')['genre'].count()).sort_values(ascending=False)\n"
      ]
    },
    {
      "cell_type": "markdown",
      "metadata": {
        "id": "6kMuomxTiIr8"
      },
      "source": [
        "Выведем на экран первые десять строк `moscow_genres`:"
      ]
    },
    {
      "cell_type": "code",
      "execution_count": null,
      "metadata": {
        "id": "WhCSooF8_Zcv",
        "outputId": "b0b57622-37f4-4cc2-8daf-6746d0f284fd"
      },
      "outputs": [
        {
          "data": {
            "text/plain": [
              "genre\n",
              "pop            5892\n",
              "dance          4435\n",
              "rock           3965\n",
              "electronic     3786\n",
              "hiphop         2096\n",
              "classical      1616\n",
              "world          1432\n",
              "alternative    1379\n",
              "ruspop         1372\n",
              "rusrap         1161\n",
              "Name: genre, dtype: int64"
            ]
          },
          "metadata": {},
          "output_type": "display_data"
        }
      ],
      "source": [
        "# просмотр первых 10 строк moscow_genres\n",
        "display(moscow_genres.head(10))"
      ]
    },
    {
      "cell_type": "markdown",
      "metadata": {
        "id": "cnPG2vnN_Zcv"
      },
      "source": [
        "Теперь повторим то же и для Петербурга.\n",
        "\n",
        "Сгруппируем таблицу `spb_general` по жанру. Посчитаем прослушивания треков каждого жанра. Результат отсортируем в порядке убывания и сохраним в таблице `spb_genres`:\n"
      ]
    },
    {
      "cell_type": "code",
      "execution_count": null,
      "metadata": {
        "id": "gluLIpE7_Zcv"
      },
      "outputs": [],
      "source": [
        "\n",
        "spb_genres = (spb_general.groupby('genre')['genre'].count()).sort_values(ascending=False)"
      ]
    },
    {
      "cell_type": "markdown",
      "metadata": {
        "id": "5Doha_ODgyQ8"
      },
      "source": [
        "Выведите на экран первые десять строк `spb_genres`:"
      ]
    },
    {
      "cell_type": "code",
      "execution_count": null,
      "metadata": {
        "id": "uaGJHjVU_Zcv",
        "scrolled": true,
        "outputId": "5a5f5317-1b9e-48c3-9550-6038130de7fc"
      },
      "outputs": [
        {
          "data": {
            "text/plain": [
              "genre\n",
              "pop            2431\n",
              "dance          1932\n",
              "rock           1879\n",
              "electronic     1736\n",
              "hiphop          960\n",
              "alternative     649\n",
              "classical       646\n",
              "rusrap          564\n",
              "ruspop          538\n",
              "world           515\n",
              "Name: genre, dtype: int64"
            ]
          },
          "metadata": {},
          "output_type": "display_data"
        }
      ],
      "source": [
        "# просмотр первых 10 строк spb_genres\n",
        "display(spb_genres.head(10))"
      ]
    },
    {
      "cell_type": "markdown",
      "metadata": {
        "id": "RY51YJYu_Zcv"
      },
      "source": [
        "**Выводы**"
      ]
    },
    {
      "cell_type": "markdown",
      "metadata": {
        "id": "nVhnJEm__Zcv"
      },
      "source": [
        "Гипотеза частично подтвердилась:\n",
        "* Поп-музыка — самый популярный жанр в Москве, как и предполагала гипотеза. Более того, в топ-10 жанров встречается близкий жанр — русская популярная музыка.\n",
        "* Вопреки ожиданиям, рэп одинаково популярен в Москве и Петербурге. \n"
      ]
    },
    {
      "cell_type": "markdown",
      "metadata": {
        "id": "ykKQ0N65_Zcv"
      },
      "source": [
        "## Итоги исследования"
      ]
    },
    {
      "cell_type": "markdown",
      "metadata": {
        "id": "tjUwbHb3_Zcv"
      },
      "source": [
        "Мы проверили три гипотезы и установили:\n",
        "\n",
        "1. День недели по-разному влияет на активность пользователей в Москве и Петербурге. \n",
        "\n",
        "Первая гипотеза полностью подтвердилась.\n",
        "\n",
        "2. Музыкальные предпочтения не сильно меняются в течение недели — будь то Москва или Петербург. Небольшие различия заметны в начале недели, по понедельникам:\n",
        "* в Москве слушают музыку жанра “world”,\n",
        "* в Петербурге — джаз и классику.\n",
        "\n",
        "Таким образом, вторая гипотеза подтвердилась лишь отчасти. Этот результат мог оказаться иным, если бы не пропуски в данных.\n",
        "\n",
        "3. Во вкусах пользователей Москвы и Петербурга больше общего чем различий. Вопреки ожиданиям, предпочтения жанров в Петербурге напоминают московские.\n",
        "\n",
        "Третья гипотеза не подтвердилась. Если различия в предпочтениях и существуют, на основной массе пользователей они незаметны.\n",
        "\n"
      ]
    },
    {
      "cell_type": "code",
      "source": [
        ""
      ],
      "metadata": {
        "id": "fyqU5zmNmc3t"
      },
      "execution_count": null,
      "outputs": []
    }
  ],
  "metadata": {
    "ExecuteTimeLog": [
      {
        "duration": 554,
        "start_time": "2021-10-30T13:26:08.590Z"
      },
      {
        "duration": 2,
        "start_time": "2021-10-30T13:26:20.127Z"
      },
      {
        "duration": 2250,
        "start_time": "2021-10-30T13:27:28.237Z"
      },
      {
        "duration": 2590,
        "start_time": "2021-10-30T13:27:48.186Z"
      },
      {
        "duration": 137,
        "start_time": "2021-10-30T13:28:52.341Z"
      },
      {
        "duration": 262,
        "start_time": "2021-10-30T13:29:26.733Z"
      },
      {
        "duration": 18,
        "start_time": "2021-10-30T13:29:36.853Z"
      },
      {
        "duration": 24,
        "start_time": "2021-10-30T13:32:39.307Z"
      },
      {
        "duration": 91,
        "start_time": "2021-10-30T13:41:34.983Z"
      },
      {
        "duration": 20,
        "start_time": "2021-10-30T13:41:43.792Z"
      },
      {
        "duration": 26,
        "start_time": "2021-10-30T13:43:19.519Z"
      },
      {
        "duration": 4,
        "start_time": "2021-10-30T13:43:37.450Z"
      },
      {
        "duration": 9,
        "start_time": "2021-10-30T14:18:52.516Z"
      },
      {
        "duration": 8,
        "start_time": "2021-10-30T14:19:18.356Z"
      },
      {
        "duration": 28,
        "start_time": "2021-10-30T14:19:38.583Z"
      },
      {
        "duration": 8,
        "start_time": "2021-10-30T14:19:43.981Z"
      },
      {
        "duration": 27,
        "start_time": "2021-10-30T14:19:46.957Z"
      },
      {
        "duration": 24,
        "start_time": "2021-10-30T14:19:56.790Z"
      },
      {
        "duration": 254,
        "start_time": "2021-10-30T14:28:09.965Z"
      },
      {
        "duration": 16,
        "start_time": "2021-10-30T14:30:29.688Z"
      },
      {
        "duration": 23,
        "start_time": "2021-10-30T14:31:01.548Z"
      },
      {
        "duration": 54,
        "start_time": "2021-10-30T14:34:08.209Z"
      },
      {
        "duration": 51,
        "start_time": "2021-10-30T14:34:15.236Z"
      },
      {
        "duration": 252,
        "start_time": "2021-10-30T14:36:52.821Z"
      },
      {
        "duration": 61,
        "start_time": "2021-10-30T14:37:49.397Z"
      },
      {
        "duration": 247,
        "start_time": "2021-10-30T14:38:19.860Z"
      },
      {
        "duration": 50,
        "start_time": "2021-10-30T14:38:40.223Z"
      },
      {
        "duration": 287,
        "start_time": "2021-10-30T14:41:09.272Z"
      },
      {
        "duration": 41,
        "start_time": "2021-10-30T14:43:08.373Z"
      },
      {
        "duration": 255,
        "start_time": "2021-10-30T14:44:16.822Z"
      },
      {
        "duration": 39,
        "start_time": "2021-10-30T14:44:31.301Z"
      },
      {
        "duration": 211,
        "start_time": "2021-10-30T18:48:35.629Z"
      },
      {
        "duration": 62,
        "start_time": "2021-10-30T18:48:50.306Z"
      },
      {
        "duration": 203,
        "start_time": "2021-10-30T18:48:55.818Z"
      },
      {
        "duration": 166,
        "start_time": "2021-10-30T18:48:57.577Z"
      },
      {
        "duration": 218,
        "start_time": "2021-10-30T18:48:58.375Z"
      },
      {
        "duration": 165,
        "start_time": "2021-10-30T18:48:59.604Z"
      },
      {
        "duration": 231,
        "start_time": "2021-10-30T18:48:59.964Z"
      },
      {
        "duration": 187,
        "start_time": "2021-10-30T18:49:00.631Z"
      },
      {
        "duration": 505,
        "start_time": "2021-10-30T18:49:43.929Z"
      },
      {
        "duration": 132,
        "start_time": "2021-10-30T18:49:45.160Z"
      },
      {
        "duration": 16,
        "start_time": "2021-10-30T18:49:49.609Z"
      },
      {
        "duration": 23,
        "start_time": "2021-10-30T18:49:51.984Z"
      },
      {
        "duration": 2,
        "start_time": "2021-10-30T18:49:59.570Z"
      },
      {
        "duration": 2,
        "start_time": "2021-10-30T18:50:47.868Z"
      },
      {
        "duration": 3,
        "start_time": "2021-10-30T18:50:51.634Z"
      },
      {
        "duration": 136,
        "start_time": "2021-10-30T18:50:52.585Z"
      },
      {
        "duration": 10,
        "start_time": "2021-10-30T18:50:53.645Z"
      },
      {
        "duration": 23,
        "start_time": "2021-10-30T18:50:55.180Z"
      },
      {
        "duration": 64,
        "start_time": "2021-10-30T18:51:08.321Z"
      },
      {
        "duration": 23,
        "start_time": "2021-10-30T18:51:13.739Z"
      },
      {
        "duration": 4,
        "start_time": "2021-10-30T18:51:16.110Z"
      },
      {
        "duration": 22,
        "start_time": "2021-10-30T18:51:18.942Z"
      },
      {
        "duration": 17,
        "start_time": "2021-10-30T18:51:24.184Z"
      },
      {
        "duration": 23,
        "start_time": "2021-10-30T18:51:25.521Z"
      },
      {
        "duration": 56,
        "start_time": "2021-10-30T18:51:27.083Z"
      },
      {
        "duration": 64,
        "start_time": "2021-10-30T18:51:29.969Z"
      },
      {
        "duration": 49,
        "start_time": "2021-10-30T18:51:31.211Z"
      },
      {
        "duration": 37,
        "start_time": "2021-10-30T18:51:38.672Z"
      },
      {
        "duration": 4,
        "start_time": "2021-10-30T18:51:43.121Z"
      },
      {
        "duration": 189,
        "start_time": "2021-10-30T18:51:44.778Z"
      },
      {
        "duration": 14,
        "start_time": "2021-10-30T18:52:50.970Z"
      },
      {
        "duration": 40,
        "start_time": "2021-10-30T18:53:11.213Z"
      },
      {
        "duration": 284,
        "start_time": "2021-10-30T18:56:42.850Z"
      },
      {
        "duration": 12,
        "start_time": "2021-10-30T19:14:46.492Z"
      },
      {
        "duration": 13,
        "start_time": "2021-10-30T19:15:00.435Z"
      },
      {
        "duration": 11,
        "start_time": "2021-10-30T19:16:44.982Z"
      },
      {
        "duration": 4,
        "start_time": "2021-10-30T19:30:37.847Z"
      },
      {
        "duration": 3352,
        "start_time": "2021-10-30T19:30:41.500Z"
      },
      {
        "duration": 4,
        "start_time": "2021-10-30T19:30:47.653Z"
      },
      {
        "duration": 4,
        "start_time": "2021-10-30T19:35:59.569Z"
      },
      {
        "duration": 3885,
        "start_time": "2021-10-30T19:36:05.912Z"
      },
      {
        "duration": 3,
        "start_time": "2021-10-30T19:38:38.419Z"
      },
      {
        "duration": 3297,
        "start_time": "2021-10-30T19:38:40.367Z"
      },
      {
        "duration": 170,
        "start_time": "2021-10-30T19:40:19.356Z"
      },
      {
        "duration": 3,
        "start_time": "2021-10-30T19:43:45.634Z"
      },
      {
        "duration": 3239,
        "start_time": "2021-10-30T19:43:47.323Z"
      },
      {
        "duration": 4,
        "start_time": "2021-10-30T19:44:39.320Z"
      },
      {
        "duration": 14,
        "start_time": "2021-10-30T19:44:40.671Z"
      },
      {
        "duration": 3,
        "start_time": "2021-10-30T19:44:57.452Z"
      },
      {
        "duration": 12,
        "start_time": "2021-10-30T19:44:58.614Z"
      },
      {
        "duration": 4,
        "start_time": "2021-10-30T19:45:08.476Z"
      },
      {
        "duration": 12,
        "start_time": "2021-10-30T19:45:09.672Z"
      },
      {
        "duration": 4,
        "start_time": "2021-10-30T19:45:33.508Z"
      },
      {
        "duration": 374,
        "start_time": "2021-10-30T19:45:34.752Z"
      },
      {
        "duration": 6,
        "start_time": "2021-10-30T19:46:26.621Z"
      },
      {
        "duration": 366,
        "start_time": "2021-10-30T19:46:27.525Z"
      },
      {
        "duration": 3,
        "start_time": "2021-10-30T19:47:02.294Z"
      },
      {
        "duration": 12,
        "start_time": "2021-10-30T19:47:03.164Z"
      },
      {
        "duration": 4,
        "start_time": "2021-10-30T19:47:22.341Z"
      },
      {
        "duration": 16,
        "start_time": "2021-10-30T19:47:23.197Z"
      },
      {
        "duration": 4,
        "start_time": "2021-10-30T19:48:50.441Z"
      },
      {
        "duration": 17,
        "start_time": "2021-10-30T19:48:51.769Z"
      },
      {
        "duration": 4,
        "start_time": "2021-10-30T19:49:01.050Z"
      },
      {
        "duration": 13,
        "start_time": "2021-10-30T19:49:02.155Z"
      },
      {
        "duration": 4,
        "start_time": "2021-10-30T19:49:43.985Z"
      },
      {
        "duration": 13,
        "start_time": "2021-10-30T19:49:44.830Z"
      },
      {
        "duration": 173,
        "start_time": "2021-10-30T19:49:52.638Z"
      },
      {
        "duration": 175,
        "start_time": "2021-10-30T19:49:56.326Z"
      },
      {
        "duration": 4,
        "start_time": "2021-10-30T19:50:05.336Z"
      },
      {
        "duration": 13,
        "start_time": "2021-10-30T19:50:06.882Z"
      },
      {
        "duration": 4,
        "start_time": "2021-10-30T19:50:22.935Z"
      },
      {
        "duration": 17,
        "start_time": "2021-10-30T19:50:24.072Z"
      },
      {
        "duration": 3,
        "start_time": "2021-10-30T19:50:49.277Z"
      },
      {
        "duration": 16,
        "start_time": "2021-10-30T19:50:50.131Z"
      },
      {
        "duration": 3,
        "start_time": "2021-10-30T19:51:20.131Z"
      },
      {
        "duration": 14,
        "start_time": "2021-10-30T19:51:21.113Z"
      },
      {
        "duration": 3,
        "start_time": "2021-10-30T19:54:05.046Z"
      },
      {
        "duration": 11,
        "start_time": "2021-10-30T19:54:06.045Z"
      },
      {
        "duration": 4,
        "start_time": "2021-10-30T19:54:29.454Z"
      },
      {
        "duration": 12,
        "start_time": "2021-10-30T19:54:30.565Z"
      },
      {
        "duration": 367,
        "start_time": "2021-10-30T19:54:40.796Z"
      },
      {
        "duration": 4,
        "start_time": "2021-10-30T19:54:49.299Z"
      },
      {
        "duration": 16,
        "start_time": "2021-10-30T19:54:50.704Z"
      },
      {
        "duration": 4,
        "start_time": "2021-10-30T19:56:22.740Z"
      },
      {
        "duration": 16,
        "start_time": "2021-10-30T19:56:24.422Z"
      },
      {
        "duration": 4,
        "start_time": "2021-10-30T19:56:38.448Z"
      },
      {
        "duration": 16,
        "start_time": "2021-10-30T19:56:39.486Z"
      },
      {
        "duration": 4,
        "start_time": "2021-10-30T19:57:07.602Z"
      },
      {
        "duration": 15,
        "start_time": "2021-10-30T19:57:08.500Z"
      },
      {
        "duration": 3,
        "start_time": "2021-10-30T19:57:35.734Z"
      },
      {
        "duration": 13,
        "start_time": "2021-10-30T19:57:36.623Z"
      },
      {
        "duration": 4,
        "start_time": "2021-10-30T19:58:47.751Z"
      },
      {
        "duration": 16,
        "start_time": "2021-10-30T19:58:51.386Z"
      },
      {
        "duration": 4,
        "start_time": "2021-10-30T20:00:38.139Z"
      },
      {
        "duration": 13,
        "start_time": "2021-10-30T20:00:39.173Z"
      },
      {
        "duration": 4,
        "start_time": "2021-10-30T20:01:15.748Z"
      },
      {
        "duration": 13,
        "start_time": "2021-10-30T20:01:16.691Z"
      },
      {
        "duration": 3,
        "start_time": "2021-10-30T20:07:32.595Z"
      },
      {
        "duration": 17,
        "start_time": "2021-10-30T20:07:33.582Z"
      },
      {
        "duration": 15,
        "start_time": "2021-10-30T20:08:39.222Z"
      },
      {
        "duration": 14,
        "start_time": "2021-10-30T20:09:37.981Z"
      },
      {
        "duration": 14,
        "start_time": "2021-10-30T20:09:56.147Z"
      },
      {
        "duration": 17,
        "start_time": "2021-10-30T20:10:22.701Z"
      },
      {
        "duration": 15,
        "start_time": "2021-10-30T20:11:41.974Z"
      },
      {
        "duration": 167,
        "start_time": "2021-10-30T20:17:57.328Z"
      },
      {
        "duration": 176,
        "start_time": "2021-10-30T20:18:13.991Z"
      },
      {
        "duration": 172,
        "start_time": "2021-10-30T20:19:55.345Z"
      },
      {
        "duration": 186,
        "start_time": "2021-10-30T20:23:57.058Z"
      },
      {
        "duration": 168,
        "start_time": "2021-10-30T20:26:05.648Z"
      },
      {
        "duration": 64,
        "start_time": "2021-10-30T20:26:37.847Z"
      },
      {
        "duration": 8,
        "start_time": "2021-10-30T20:27:25.232Z"
      },
      {
        "duration": 4,
        "start_time": "2021-10-31T06:08:36.140Z"
      },
      {
        "duration": 191,
        "start_time": "2021-10-31T06:08:37.551Z"
      },
      {
        "duration": 16,
        "start_time": "2021-10-31T06:08:40.031Z"
      },
      {
        "duration": 33,
        "start_time": "2021-10-31T06:08:41.300Z"
      },
      {
        "duration": 74,
        "start_time": "2021-10-31T06:08:46.205Z"
      },
      {
        "duration": 23,
        "start_time": "2021-10-31T06:08:52.903Z"
      },
      {
        "duration": 6,
        "start_time": "2021-10-31T06:08:53.971Z"
      },
      {
        "duration": 31,
        "start_time": "2021-10-31T06:08:59.386Z"
      },
      {
        "duration": 22,
        "start_time": "2021-10-31T06:09:01.098Z"
      },
      {
        "duration": 30,
        "start_time": "2021-10-31T06:09:02.099Z"
      },
      {
        "duration": 83,
        "start_time": "2021-10-31T06:09:04.503Z"
      },
      {
        "duration": 90,
        "start_time": "2021-10-31T06:09:05.397Z"
      },
      {
        "duration": 76,
        "start_time": "2021-10-31T06:09:06.461Z"
      },
      {
        "duration": 58,
        "start_time": "2021-10-31T06:09:08.155Z"
      },
      {
        "duration": 5,
        "start_time": "2021-10-31T06:09:09.228Z"
      },
      {
        "duration": 21,
        "start_time": "2021-10-31T06:09:11.277Z"
      },
      {
        "duration": 57,
        "start_time": "2021-10-31T06:09:15.204Z"
      },
      {
        "duration": 16,
        "start_time": "2021-10-31T06:09:18.171Z"
      },
      {
        "duration": 16,
        "start_time": "2021-10-31T06:09:19.926Z"
      },
      {
        "duration": 5,
        "start_time": "2021-10-31T06:09:21.581Z"
      },
      {
        "duration": 21,
        "start_time": "2021-10-31T06:09:22.254Z"
      },
      {
        "duration": 18,
        "start_time": "2021-10-31T06:09:22.844Z"
      },
      {
        "duration": 18,
        "start_time": "2021-10-31T06:09:23.616Z"
      },
      {
        "duration": 19,
        "start_time": "2021-10-31T06:09:24.229Z"
      },
      {
        "duration": 20,
        "start_time": "2021-10-31T06:09:24.596Z"
      },
      {
        "duration": 18,
        "start_time": "2021-10-31T06:09:25.272Z"
      },
      {
        "duration": 12,
        "start_time": "2021-10-31T06:09:26.345Z"
      },
      {
        "duration": 8,
        "start_time": "2021-10-31T06:09:28.879Z"
      },
      {
        "duration": 910,
        "start_time": "2021-10-31T06:09:50.909Z"
      },
      {
        "duration": 6,
        "start_time": "2021-10-31T06:09:58.726Z"
      },
      {
        "duration": 74,
        "start_time": "2021-10-31T06:10:03.185Z"
      },
      {
        "duration": 17,
        "start_time": "2021-10-31T06:10:04.281Z"
      },
      {
        "duration": 80,
        "start_time": "2021-10-31T06:10:11.971Z"
      },
      {
        "duration": 18,
        "start_time": "2021-10-31T06:10:14.056Z"
      },
      {
        "duration": 5,
        "start_time": "2021-10-31T06:10:14.878Z"
      },
      {
        "duration": 30,
        "start_time": "2021-10-31T06:10:15.951Z"
      },
      {
        "duration": 21,
        "start_time": "2021-10-31T06:10:17.603Z"
      },
      {
        "duration": 29,
        "start_time": "2021-10-31T06:10:18.165Z"
      },
      {
        "duration": 77,
        "start_time": "2021-10-31T06:10:19.160Z"
      },
      {
        "duration": 86,
        "start_time": "2021-10-31T06:10:19.854Z"
      },
      {
        "duration": 79,
        "start_time": "2021-10-31T06:10:20.675Z"
      },
      {
        "duration": 58,
        "start_time": "2021-10-31T06:10:22.307Z"
      },
      {
        "duration": 4,
        "start_time": "2021-10-31T06:10:26.082Z"
      },
      {
        "duration": 21,
        "start_time": "2021-10-31T06:10:27.172Z"
      },
      {
        "duration": 57,
        "start_time": "2021-10-31T06:10:28.199Z"
      },
      {
        "duration": 16,
        "start_time": "2021-10-31T06:10:31.211Z"
      },
      {
        "duration": 15,
        "start_time": "2021-10-31T06:10:31.780Z"
      },
      {
        "duration": 5,
        "start_time": "2021-10-31T06:10:33.876Z"
      },
      {
        "duration": 22,
        "start_time": "2021-10-31T06:10:35.415Z"
      },
      {
        "duration": 23,
        "start_time": "2021-10-31T06:10:35.794Z"
      },
      {
        "duration": 21,
        "start_time": "2021-10-31T06:10:36.249Z"
      },
      {
        "duration": 21,
        "start_time": "2021-10-31T06:10:36.649Z"
      },
      {
        "duration": 24,
        "start_time": "2021-10-31T06:10:37.038Z"
      },
      {
        "duration": 20,
        "start_time": "2021-10-31T06:10:37.655Z"
      },
      {
        "duration": 13,
        "start_time": "2021-10-31T06:10:40.559Z"
      },
      {
        "duration": 8,
        "start_time": "2021-10-31T06:10:46.183Z"
      },
      {
        "duration": 8,
        "start_time": "2021-10-31T06:11:20.522Z"
      },
      {
        "duration": 589,
        "start_time": "2021-10-31T09:25:26.573Z"
      },
      {
        "duration": 142,
        "start_time": "2021-10-31T09:25:28.443Z"
      },
      {
        "duration": 17,
        "start_time": "2021-10-31T09:25:29.433Z"
      },
      {
        "duration": 25,
        "start_time": "2021-10-31T09:25:30.613Z"
      },
      {
        "duration": 4,
        "start_time": "2021-10-31T09:25:33.918Z"
      },
      {
        "duration": 78,
        "start_time": "2021-10-31T09:25:38.463Z"
      },
      {
        "duration": 24,
        "start_time": "2021-10-31T09:25:41.104Z"
      },
      {
        "duration": 4,
        "start_time": "2021-10-31T09:25:42.113Z"
      },
      {
        "duration": 22,
        "start_time": "2021-10-31T09:25:43.258Z"
      },
      {
        "duration": 16,
        "start_time": "2021-10-31T09:25:47.333Z"
      },
      {
        "duration": 23,
        "start_time": "2021-10-31T09:25:48.352Z"
      },
      {
        "duration": 57,
        "start_time": "2021-10-31T09:25:51.173Z"
      },
      {
        "duration": 72,
        "start_time": "2021-10-31T09:25:55.033Z"
      },
      {
        "duration": 51,
        "start_time": "2021-10-31T09:25:55.934Z"
      },
      {
        "duration": 38,
        "start_time": "2021-10-31T09:26:00.398Z"
      },
      {
        "duration": 4,
        "start_time": "2021-10-31T09:26:02.432Z"
      },
      {
        "duration": 15,
        "start_time": "2021-10-31T09:26:03.233Z"
      },
      {
        "duration": 40,
        "start_time": "2021-10-31T09:26:04.932Z"
      },
      {
        "duration": 13,
        "start_time": "2021-10-31T09:26:09.492Z"
      },
      {
        "duration": 12,
        "start_time": "2021-10-31T09:26:11.823Z"
      },
      {
        "duration": 4,
        "start_time": "2021-10-31T09:26:12.968Z"
      },
      {
        "duration": 19,
        "start_time": "2021-10-31T09:26:15.893Z"
      },
      {
        "duration": 18,
        "start_time": "2021-10-31T09:26:16.473Z"
      },
      {
        "duration": 18,
        "start_time": "2021-10-31T09:26:16.877Z"
      },
      {
        "duration": 15,
        "start_time": "2021-10-31T09:26:17.472Z"
      },
      {
        "duration": 19,
        "start_time": "2021-10-31T09:26:17.808Z"
      },
      {
        "duration": 16,
        "start_time": "2021-10-31T09:26:19.793Z"
      },
      {
        "duration": 10,
        "start_time": "2021-10-31T09:26:20.773Z"
      },
      {
        "duration": 6,
        "start_time": "2021-10-31T09:26:27.313Z"
      },
      {
        "duration": 5,
        "start_time": "2021-10-31T09:26:27.733Z"
      },
      {
        "duration": 4,
        "start_time": "2021-10-31T09:34:03.659Z"
      },
      {
        "duration": 587,
        "start_time": "2021-10-31T09:34:07.344Z"
      },
      {
        "duration": 505,
        "start_time": "2021-10-31T09:37:39.914Z"
      },
      {
        "duration": 4,
        "start_time": "2021-10-31T09:37:55.768Z"
      },
      {
        "duration": 32,
        "start_time": "2021-10-31T09:37:56.753Z"
      },
      {
        "duration": 76,
        "start_time": "2021-10-31T09:40:41.938Z"
      },
      {
        "duration": 4,
        "start_time": "2021-10-31T09:40:51.043Z"
      },
      {
        "duration": 480,
        "start_time": "2021-10-31T09:40:52.323Z"
      },
      {
        "duration": 4,
        "start_time": "2021-10-31T09:41:23.202Z"
      },
      {
        "duration": 473,
        "start_time": "2021-10-31T09:41:23.418Z"
      },
      {
        "duration": 3,
        "start_time": "2021-10-31T09:43:35.438Z"
      },
      {
        "duration": 483,
        "start_time": "2021-10-31T09:43:37.253Z"
      },
      {
        "duration": 21,
        "start_time": "2021-10-31T09:43:55.733Z"
      },
      {
        "duration": 3,
        "start_time": "2021-10-31T09:45:52.018Z"
      },
      {
        "duration": 562,
        "start_time": "2021-10-31T09:45:54.013Z"
      },
      {
        "duration": 11,
        "start_time": "2021-10-31T09:46:03.974Z"
      },
      {
        "duration": 500,
        "start_time": "2021-10-31T09:46:04.733Z"
      },
      {
        "duration": 4,
        "start_time": "2021-10-31T09:46:31.253Z"
      },
      {
        "duration": 22,
        "start_time": "2021-10-31T09:46:31.878Z"
      },
      {
        "duration": 3,
        "start_time": "2021-10-31T09:47:17.899Z"
      },
      {
        "duration": 36,
        "start_time": "2021-10-31T09:47:19.473Z"
      },
      {
        "duration": 4,
        "start_time": "2021-10-31T09:47:50.723Z"
      },
      {
        "duration": 40,
        "start_time": "2021-10-31T09:47:51.773Z"
      },
      {
        "duration": 4,
        "start_time": "2021-10-31T09:50:42.873Z"
      },
      {
        "duration": 33,
        "start_time": "2021-10-31T09:50:43.872Z"
      },
      {
        "duration": 3,
        "start_time": "2021-10-31T09:50:59.523Z"
      },
      {
        "duration": 37,
        "start_time": "2021-10-31T09:51:00.437Z"
      },
      {
        "duration": 4,
        "start_time": "2021-10-31T09:52:38.058Z"
      },
      {
        "duration": 528,
        "start_time": "2021-10-31T09:52:39.212Z"
      },
      {
        "duration": 4,
        "start_time": "2021-10-31T09:52:57.757Z"
      },
      {
        "duration": 37,
        "start_time": "2021-10-31T09:52:58.988Z"
      },
      {
        "duration": 6,
        "start_time": "2021-10-31T10:44:38.279Z"
      },
      {
        "duration": 4,
        "start_time": "2021-10-31T10:44:59.288Z"
      },
      {
        "duration": 56,
        "start_time": "2021-10-31T10:45:02.147Z"
      },
      {
        "duration": 55,
        "start_time": "2021-10-31T10:49:40.693Z"
      },
      {
        "duration": 6,
        "start_time": "2021-10-31T11:00:59.821Z"
      },
      {
        "duration": 481,
        "start_time": "2021-10-31T11:01:02.900Z"
      },
      {
        "duration": 3,
        "start_time": "2021-10-31T11:01:53.961Z"
      },
      {
        "duration": 472,
        "start_time": "2021-10-31T11:01:56.208Z"
      },
      {
        "duration": 3,
        "start_time": "2021-10-31T11:02:18.774Z"
      },
      {
        "duration": 467,
        "start_time": "2021-10-31T11:02:20.403Z"
      },
      {
        "duration": 243,
        "start_time": "2021-10-31T11:03:00.090Z"
      },
      {
        "duration": 3,
        "start_time": "2021-10-31T11:03:07.203Z"
      },
      {
        "duration": 485,
        "start_time": "2021-10-31T11:03:08.560Z"
      },
      {
        "duration": 9,
        "start_time": "2021-10-31T11:05:09.846Z"
      },
      {
        "duration": 7,
        "start_time": "2021-10-31T11:05:35.777Z"
      },
      {
        "duration": 17,
        "start_time": "2021-10-31T11:07:01.650Z"
      },
      {
        "duration": 10,
        "start_time": "2021-10-31T11:07:10.940Z"
      },
      {
        "duration": 3,
        "start_time": "2021-10-31T11:07:16.168Z"
      },
      {
        "duration": 21,
        "start_time": "2021-10-31T11:07:18.369Z"
      },
      {
        "duration": 5,
        "start_time": "2021-10-31T11:07:46.333Z"
      },
      {
        "duration": 228,
        "start_time": "2021-10-31T11:07:47.389Z"
      },
      {
        "duration": 6,
        "start_time": "2021-10-31T11:08:09.688Z"
      },
      {
        "duration": 21,
        "start_time": "2021-10-31T11:08:10.509Z"
      },
      {
        "duration": 14,
        "start_time": "2021-10-31T11:08:15.660Z"
      },
      {
        "duration": 21,
        "start_time": "2021-10-31T11:10:33.819Z"
      },
      {
        "duration": 19,
        "start_time": "2021-10-31T11:10:58.501Z"
      },
      {
        "duration": 6,
        "start_time": "2021-10-31T11:13:13.872Z"
      },
      {
        "duration": 32,
        "start_time": "2021-10-31T11:13:15.134Z"
      },
      {
        "duration": 22,
        "start_time": "2021-10-31T11:13:16.555Z"
      },
      {
        "duration": 24,
        "start_time": "2021-10-31T11:13:17.332Z"
      },
      {
        "duration": 16,
        "start_time": "2021-10-31T11:13:17.898Z"
      },
      {
        "duration": 8,
        "start_time": "2021-10-31T11:19:25.464Z"
      },
      {
        "duration": 10,
        "start_time": "2021-10-31T11:19:45.432Z"
      },
      {
        "duration": 11,
        "start_time": "2021-10-31T11:20:13.755Z"
      },
      {
        "duration": 237,
        "start_time": "2021-10-31T11:20:44.237Z"
      },
      {
        "duration": 16,
        "start_time": "2021-10-31T11:21:15.054Z"
      },
      {
        "duration": 5,
        "start_time": "2021-10-31T11:22:03.030Z"
      },
      {
        "duration": 8,
        "start_time": "2021-10-31T11:22:07.267Z"
      },
      {
        "duration": 5,
        "start_time": "2021-10-31T11:22:08.969Z"
      },
      {
        "duration": 247,
        "start_time": "2021-10-31T11:23:57.473Z"
      },
      {
        "duration": 6,
        "start_time": "2021-10-31T11:24:07.664Z"
      },
      {
        "duration": 4,
        "start_time": "2021-10-31T11:24:36.951Z"
      },
      {
        "duration": 400,
        "start_time": "2021-10-31T13:18:49.614Z"
      }
    ],
    "colab": {
      "collapsed_sections": [
        "E0vqbgi9ay0H",
        "VUC88oWjTJw2"
      ],
      "name": "1. Исследование данных сервиса “Яндекс.Музыка” — сравнение пользователей двух городов",
      "provenance": []
    },
    "kernelspec": {
      "display_name": "Python 3 (ipykernel)",
      "language": "python",
      "name": "python3"
    },
    "language_info": {
      "codemirror_mode": {
        "name": "ipython",
        "version": 3
      },
      "file_extension": ".py",
      "mimetype": "text/x-python",
      "name": "python",
      "nbconvert_exporter": "python",
      "pygments_lexer": "ipython3",
      "version": "3.9.7"
    },
    "toc": {
      "base_numbering": 1,
      "nav_menu": {},
      "number_sections": true,
      "sideBar": true,
      "skip_h1_title": true,
      "title_cell": "Table of Contents",
      "title_sidebar": "Contents",
      "toc_cell": false,
      "toc_position": {},
      "toc_section_display": true,
      "toc_window_display": false
    }
  },
  "nbformat": 4,
  "nbformat_minor": 0
}