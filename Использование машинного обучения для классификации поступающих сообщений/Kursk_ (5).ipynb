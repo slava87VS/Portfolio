{
  "cells": [
    {
      "cell_type": "markdown",
      "metadata": {
        "id": "tq-OvcRwJSyq"
      },
      "source": [
        "# Использование машинного обучения для классификации поступающих сообщений"
      ]
    },
    {
      "cell_type": "code",
      "execution_count": 1,
      "metadata": {
        "colab": {
          "base_uri": "https://localhost:8080/"
        },
        "id": "NwY_iEDEBpuv",
        "outputId": "bf6467f0-382c-4382-9bc1-8fc55974a6c8"
      },
      "outputs": [
        {
          "output_type": "stream",
          "name": "stdout",
          "text": [
            "Drive already mounted at /content/drive; to attempt to forcibly remount, call drive.mount(\"/content/drive\", force_remount=True).\n"
          ]
        }
      ],
      "source": [
        "from google.colab import drive\n",
        "drive.mount('/content/drive')"
      ]
    },
    {
      "cell_type": "markdown",
      "metadata": {
        "id": "tIP4Ljn6HI8M"
      },
      "source": [
        "## Описание задачи\n",
        "\n",
        "В связи со сложной структурой и нелинейными зонами ответственности в органах исполнительной и государственной власти, а также из-за большого потока входящих сообщений разной направленности возникают сложности с оперативной маршрутизацией сообщений непосредственным исполнителям. Сообщение гражданина проходит длинную цепочку передачи «из рук в руки», что существенно уменьшает время, отведенное на непосредственное устранение причин возникновения проблемы. А также растущая популярность платформ обратной связи увеличивает нагрузку на модераторов и приводит к росту штата персонала, обслуживающего работу порталов.\n",
        "\n",
        "\n",
        "## Цель задачи\n",
        "\n",
        "Необходимо разработать классификатор для автоматического определения категории запроса по тексту сообщения, оставленному на сайте Администрации Курской области.\n",
        "\n",
        "Создание такого алгоритма позволит сократить время ответа на обращения жителей, так как существенно сократится время на предобработку и маршрутизацию обращений."
      ]
    },
    {
      "cell_type": "markdown",
      "metadata": {
        "id": "7LgZpC9wJIdn"
      },
      "source": [
        "\n",
        "# Загрузка и исследование исходного набора данных (датасета)"
      ]
    },
    {
      "cell_type": "code",
      "execution_count": 2,
      "metadata": {
        "colab": {
          "base_uri": "https://localhost:8080/"
        },
        "id": "lbmV-91IrvCR",
        "outputId": "0b5698d2-efcd-403a-a643-ae091a1b7b9b"
      },
      "outputs": [
        {
          "output_type": "stream",
          "name": "stdout",
          "text": [
            "Looking in indexes: https://pypi.org/simple, https://us-python.pkg.dev/colab-wheels/public/simple/\n",
            "Requirement already satisfied: catboost in /usr/local/lib/python3.7/dist-packages (1.0.6)\n",
            "Requirement already satisfied: matplotlib in /usr/local/lib/python3.7/dist-packages (from catboost) (3.2.2)\n",
            "Requirement already satisfied: scipy in /usr/local/lib/python3.7/dist-packages (from catboost) (1.4.1)\n",
            "Requirement already satisfied: numpy>=1.16.0 in /usr/local/lib/python3.7/dist-packages (from catboost) (1.21.6)\n",
            "Requirement already satisfied: graphviz in /usr/local/lib/python3.7/dist-packages (from catboost) (0.10.1)\n",
            "Requirement already satisfied: plotly in /usr/local/lib/python3.7/dist-packages (from catboost) (5.5.0)\n",
            "Requirement already satisfied: pandas>=0.24.0 in /usr/local/lib/python3.7/dist-packages (from catboost) (1.3.5)\n",
            "Requirement already satisfied: six in /usr/local/lib/python3.7/dist-packages (from catboost) (1.15.0)\n",
            "Requirement already satisfied: python-dateutil>=2.7.3 in /usr/local/lib/python3.7/dist-packages (from pandas>=0.24.0->catboost) (2.8.2)\n",
            "Requirement already satisfied: pytz>=2017.3 in /usr/local/lib/python3.7/dist-packages (from pandas>=0.24.0->catboost) (2022.1)\n",
            "Requirement already satisfied: kiwisolver>=1.0.1 in /usr/local/lib/python3.7/dist-packages (from matplotlib->catboost) (1.4.3)\n",
            "Requirement already satisfied: cycler>=0.10 in /usr/local/lib/python3.7/dist-packages (from matplotlib->catboost) (0.11.0)\n",
            "Requirement already satisfied: pyparsing!=2.0.4,!=2.1.2,!=2.1.6,>=2.0.1 in /usr/local/lib/python3.7/dist-packages (from matplotlib->catboost) (3.0.9)\n",
            "Requirement already satisfied: typing-extensions in /usr/local/lib/python3.7/dist-packages (from kiwisolver>=1.0.1->matplotlib->catboost) (4.1.1)\n",
            "Requirement already satisfied: tenacity>=6.2.0 in /usr/local/lib/python3.7/dist-packages (from plotly->catboost) (8.0.1)\n"
          ]
        }
      ],
      "source": [
        "!pip install catboost"
      ]
    },
    {
      "cell_type": "code",
      "execution_count": 3,
      "metadata": {
        "id": "wE04G-DbI-B5"
      },
      "outputs": [],
      "source": [
        "import pandas as pd                 # Pandas — библиотека Python для обработки и анализа структурированных данных\n",
        "import seaborn as sns               # Seaborn — библиотека для создания статистических графиков\n",
        "from tqdm.auto import tqdm, trange  # Tqdm — библиотека для создания индикаторов выполнения"
      ]
    },
    {
      "cell_type": "code",
      "execution_count": 4,
      "metadata": {
        "id": "GgEHc3ZZHO5A"
      },
      "outputs": [],
      "source": [
        "from catboost import CatBoostClassifier"
      ]
    },
    {
      "cell_type": "code",
      "execution_count": 5,
      "metadata": {
        "id": "E8Nmsur_CWSB"
      },
      "outputs": [],
      "source": [
        "vacancies = pd.read_csv('/content/drive/MyDrive/Хакатоны/Курск слова/train_dataset_train.csv')"
      ]
    },
    {
      "cell_type": "code",
      "execution_count": 6,
      "metadata": {
        "colab": {
          "base_uri": "https://localhost:8080/"
        },
        "id": "FeodAkgGK8za",
        "outputId": "773a0305-ee11-412a-c82c-9a46a9657875"
      },
      "outputs": [
        {
          "output_type": "execute_result",
          "data": {
            "text/plain": [
              "(2000, 5)"
            ]
          },
          "metadata": {},
          "execution_count": 6
        }
      ],
      "source": [
        "vacancies.shape  # Вывод размера"
      ]
    },
    {
      "cell_type": "code",
      "execution_count": 7,
      "metadata": {
        "colab": {
          "base_uri": "https://localhost:8080/",
          "height": 206
        },
        "id": "sfc0OMP4LBCp",
        "outputId": "5702e667-8d0a-45db-80a3-a04bbb3b5fe2"
      },
      "outputs": [
        {
          "output_type": "execute_result",
          "data": {
            "text/plain": [
              "     id                                    Текст Сообщения  \\\n",
              "0  2246  Помогите начальник Льговского рэс не реагирует...   \n",
              "1   380  <p>По фасаду дома по адресу ул. Урицкого 22 пр...   \n",
              "2  2240  Агресивные собаки. На радуге там стая из подро...   \n",
              "3   596  <p>На пересечении &nbsp;улиц Сосновская и Бере...   \n",
              "4  1797  <p style=`text-align:justify;`><span style=`ba...   \n",
              "\n",
              "                                            Тематика  \\\n",
              "0  Нарушения, связанные с содержанием электросети...   \n",
              "1                                  Аварийные деревья   \n",
              "2                              Безнадзорные животные   \n",
              "3  Нескошенная сорная растительность в местах общ...   \n",
              "4                                  Аварийные деревья   \n",
              "\n",
              "                           Ответственное лицо  Категория  \n",
              "0             Администрация Льговского района          3  \n",
              "1                 Администрация города Курска          3  \n",
              "2                 Администрация города Курска          1  \n",
              "3   Комитет дорожного хозяйства города Курска          3  \n",
              "4  Комитет городского хозяйства города Курска          3  "
            ],
            "text/html": [
              "\n",
              "  <div id=\"df-ed30a266-45fa-4a43-a9e0-95312771958b\">\n",
              "    <div class=\"colab-df-container\">\n",
              "      <div>\n",
              "<style scoped>\n",
              "    .dataframe tbody tr th:only-of-type {\n",
              "        vertical-align: middle;\n",
              "    }\n",
              "\n",
              "    .dataframe tbody tr th {\n",
              "        vertical-align: top;\n",
              "    }\n",
              "\n",
              "    .dataframe thead th {\n",
              "        text-align: right;\n",
              "    }\n",
              "</style>\n",
              "<table border=\"1\" class=\"dataframe\">\n",
              "  <thead>\n",
              "    <tr style=\"text-align: right;\">\n",
              "      <th></th>\n",
              "      <th>id</th>\n",
              "      <th>Текст Сообщения</th>\n",
              "      <th>Тематика</th>\n",
              "      <th>Ответственное лицо</th>\n",
              "      <th>Категория</th>\n",
              "    </tr>\n",
              "  </thead>\n",
              "  <tbody>\n",
              "    <tr>\n",
              "      <th>0</th>\n",
              "      <td>2246</td>\n",
              "      <td>Помогите начальник Льговского рэс не реагирует...</td>\n",
              "      <td>Нарушения, связанные с содержанием электросети...</td>\n",
              "      <td>Администрация Льговского района</td>\n",
              "      <td>3</td>\n",
              "    </tr>\n",
              "    <tr>\n",
              "      <th>1</th>\n",
              "      <td>380</td>\n",
              "      <td>&lt;p&gt;По фасаду дома по адресу ул. Урицкого 22 пр...</td>\n",
              "      <td>Аварийные деревья</td>\n",
              "      <td>Администрация города Курска</td>\n",
              "      <td>3</td>\n",
              "    </tr>\n",
              "    <tr>\n",
              "      <th>2</th>\n",
              "      <td>2240</td>\n",
              "      <td>Агресивные собаки. На радуге там стая из подро...</td>\n",
              "      <td>Безнадзорные животные</td>\n",
              "      <td>Администрация города Курска</td>\n",
              "      <td>1</td>\n",
              "    </tr>\n",
              "    <tr>\n",
              "      <th>3</th>\n",
              "      <td>596</td>\n",
              "      <td>&lt;p&gt;На пересечении &amp;nbsp;улиц Сосновская и Бере...</td>\n",
              "      <td>Нескошенная сорная растительность в местах общ...</td>\n",
              "      <td>Комитет дорожного хозяйства города Курска</td>\n",
              "      <td>3</td>\n",
              "    </tr>\n",
              "    <tr>\n",
              "      <th>4</th>\n",
              "      <td>1797</td>\n",
              "      <td>&lt;p style=`text-align:justify;`&gt;&lt;span style=`ba...</td>\n",
              "      <td>Аварийные деревья</td>\n",
              "      <td>Комитет городского хозяйства города Курска</td>\n",
              "      <td>3</td>\n",
              "    </tr>\n",
              "  </tbody>\n",
              "</table>\n",
              "</div>\n",
              "      <button class=\"colab-df-convert\" onclick=\"convertToInteractive('df-ed30a266-45fa-4a43-a9e0-95312771958b')\"\n",
              "              title=\"Convert this dataframe to an interactive table.\"\n",
              "              style=\"display:none;\">\n",
              "        \n",
              "  <svg xmlns=\"http://www.w3.org/2000/svg\" height=\"24px\"viewBox=\"0 0 24 24\"\n",
              "       width=\"24px\">\n",
              "    <path d=\"M0 0h24v24H0V0z\" fill=\"none\"/>\n",
              "    <path d=\"M18.56 5.44l.94 2.06.94-2.06 2.06-.94-2.06-.94-.94-2.06-.94 2.06-2.06.94zm-11 1L8.5 8.5l.94-2.06 2.06-.94-2.06-.94L8.5 2.5l-.94 2.06-2.06.94zm10 10l.94 2.06.94-2.06 2.06-.94-2.06-.94-.94-2.06-.94 2.06-2.06.94z\"/><path d=\"M17.41 7.96l-1.37-1.37c-.4-.4-.92-.59-1.43-.59-.52 0-1.04.2-1.43.59L10.3 9.45l-7.72 7.72c-.78.78-.78 2.05 0 2.83L4 21.41c.39.39.9.59 1.41.59.51 0 1.02-.2 1.41-.59l7.78-7.78 2.81-2.81c.8-.78.8-2.07 0-2.86zM5.41 20L4 18.59l7.72-7.72 1.47 1.35L5.41 20z\"/>\n",
              "  </svg>\n",
              "      </button>\n",
              "      \n",
              "  <style>\n",
              "    .colab-df-container {\n",
              "      display:flex;\n",
              "      flex-wrap:wrap;\n",
              "      gap: 12px;\n",
              "    }\n",
              "\n",
              "    .colab-df-convert {\n",
              "      background-color: #E8F0FE;\n",
              "      border: none;\n",
              "      border-radius: 50%;\n",
              "      cursor: pointer;\n",
              "      display: none;\n",
              "      fill: #1967D2;\n",
              "      height: 32px;\n",
              "      padding: 0 0 0 0;\n",
              "      width: 32px;\n",
              "    }\n",
              "\n",
              "    .colab-df-convert:hover {\n",
              "      background-color: #E2EBFA;\n",
              "      box-shadow: 0px 1px 2px rgba(60, 64, 67, 0.3), 0px 1px 3px 1px rgba(60, 64, 67, 0.15);\n",
              "      fill: #174EA6;\n",
              "    }\n",
              "\n",
              "    [theme=dark] .colab-df-convert {\n",
              "      background-color: #3B4455;\n",
              "      fill: #D2E3FC;\n",
              "    }\n",
              "\n",
              "    [theme=dark] .colab-df-convert:hover {\n",
              "      background-color: #434B5C;\n",
              "      box-shadow: 0px 1px 3px 1px rgba(0, 0, 0, 0.15);\n",
              "      filter: drop-shadow(0px 1px 2px rgba(0, 0, 0, 0.3));\n",
              "      fill: #FFFFFF;\n",
              "    }\n",
              "  </style>\n",
              "\n",
              "      <script>\n",
              "        const buttonEl =\n",
              "          document.querySelector('#df-ed30a266-45fa-4a43-a9e0-95312771958b button.colab-df-convert');\n",
              "        buttonEl.style.display =\n",
              "          google.colab.kernel.accessAllowed ? 'block' : 'none';\n",
              "\n",
              "        async function convertToInteractive(key) {\n",
              "          const element = document.querySelector('#df-ed30a266-45fa-4a43-a9e0-95312771958b');\n",
              "          const dataTable =\n",
              "            await google.colab.kernel.invokeFunction('convertToInteractive',\n",
              "                                                     [key], {});\n",
              "          if (!dataTable) return;\n",
              "\n",
              "          const docLinkHtml = 'Like what you see? Visit the ' +\n",
              "            '<a target=\"_blank\" href=https://colab.research.google.com/notebooks/data_table.ipynb>data table notebook</a>'\n",
              "            + ' to learn more about interactive tables.';\n",
              "          element.innerHTML = '';\n",
              "          dataTable['output_type'] = 'display_data';\n",
              "          await google.colab.output.renderOutput(dataTable, element);\n",
              "          const docLink = document.createElement('div');\n",
              "          docLink.innerHTML = docLinkHtml;\n",
              "          element.appendChild(docLink);\n",
              "        }\n",
              "      </script>\n",
              "    </div>\n",
              "  </div>\n",
              "  "
            ]
          },
          "metadata": {},
          "execution_count": 7
        }
      ],
      "source": [
        "vacancies.head(5)   # Вывод первых 5 строк"
      ]
    },
    {
      "cell_type": "code",
      "execution_count": 8,
      "metadata": {
        "colab": {
          "base_uri": "https://localhost:8080/",
          "height": 175
        },
        "id": "wYsvxf62Re9l",
        "outputId": "d339fd03-958d-40af-cfaa-35b0cf16f88b"
      },
      "outputs": [
        {
          "output_type": "execute_result",
          "data": {
            "text/plain": [
              "       Текст Сообщения                                           Тематика  \\\n",
              "count             2000                                               2000   \n",
              "unique            1974                                                161   \n",
              "top      Свалка мусора  Нарушение дорожного покрытия (ямы)  на дорогах...   \n",
              "freq                 8                                                155   \n",
              "\n",
              "                 Ответственное лицо  \n",
              "count                          2000  \n",
              "unique                           75  \n",
              "top     Администрация города Курска  \n",
              "freq                            421  "
            ],
            "text/html": [
              "\n",
              "  <div id=\"df-fdce81d8-8d54-4413-9fc5-cd0f2deb358e\">\n",
              "    <div class=\"colab-df-container\">\n",
              "      <div>\n",
              "<style scoped>\n",
              "    .dataframe tbody tr th:only-of-type {\n",
              "        vertical-align: middle;\n",
              "    }\n",
              "\n",
              "    .dataframe tbody tr th {\n",
              "        vertical-align: top;\n",
              "    }\n",
              "\n",
              "    .dataframe thead th {\n",
              "        text-align: right;\n",
              "    }\n",
              "</style>\n",
              "<table border=\"1\" class=\"dataframe\">\n",
              "  <thead>\n",
              "    <tr style=\"text-align: right;\">\n",
              "      <th></th>\n",
              "      <th>Текст Сообщения</th>\n",
              "      <th>Тематика</th>\n",
              "      <th>Ответственное лицо</th>\n",
              "    </tr>\n",
              "  </thead>\n",
              "  <tbody>\n",
              "    <tr>\n",
              "      <th>count</th>\n",
              "      <td>2000</td>\n",
              "      <td>2000</td>\n",
              "      <td>2000</td>\n",
              "    </tr>\n",
              "    <tr>\n",
              "      <th>unique</th>\n",
              "      <td>1974</td>\n",
              "      <td>161</td>\n",
              "      <td>75</td>\n",
              "    </tr>\n",
              "    <tr>\n",
              "      <th>top</th>\n",
              "      <td>Свалка мусора</td>\n",
              "      <td>Нарушение дорожного покрытия (ямы)  на дорогах...</td>\n",
              "      <td>Администрация города Курска</td>\n",
              "    </tr>\n",
              "    <tr>\n",
              "      <th>freq</th>\n",
              "      <td>8</td>\n",
              "      <td>155</td>\n",
              "      <td>421</td>\n",
              "    </tr>\n",
              "  </tbody>\n",
              "</table>\n",
              "</div>\n",
              "      <button class=\"colab-df-convert\" onclick=\"convertToInteractive('df-fdce81d8-8d54-4413-9fc5-cd0f2deb358e')\"\n",
              "              title=\"Convert this dataframe to an interactive table.\"\n",
              "              style=\"display:none;\">\n",
              "        \n",
              "  <svg xmlns=\"http://www.w3.org/2000/svg\" height=\"24px\"viewBox=\"0 0 24 24\"\n",
              "       width=\"24px\">\n",
              "    <path d=\"M0 0h24v24H0V0z\" fill=\"none\"/>\n",
              "    <path d=\"M18.56 5.44l.94 2.06.94-2.06 2.06-.94-2.06-.94-.94-2.06-.94 2.06-2.06.94zm-11 1L8.5 8.5l.94-2.06 2.06-.94-2.06-.94L8.5 2.5l-.94 2.06-2.06.94zm10 10l.94 2.06.94-2.06 2.06-.94-2.06-.94-.94-2.06-.94 2.06-2.06.94z\"/><path d=\"M17.41 7.96l-1.37-1.37c-.4-.4-.92-.59-1.43-.59-.52 0-1.04.2-1.43.59L10.3 9.45l-7.72 7.72c-.78.78-.78 2.05 0 2.83L4 21.41c.39.39.9.59 1.41.59.51 0 1.02-.2 1.41-.59l7.78-7.78 2.81-2.81c.8-.78.8-2.07 0-2.86zM5.41 20L4 18.59l7.72-7.72 1.47 1.35L5.41 20z\"/>\n",
              "  </svg>\n",
              "      </button>\n",
              "      \n",
              "  <style>\n",
              "    .colab-df-container {\n",
              "      display:flex;\n",
              "      flex-wrap:wrap;\n",
              "      gap: 12px;\n",
              "    }\n",
              "\n",
              "    .colab-df-convert {\n",
              "      background-color: #E8F0FE;\n",
              "      border: none;\n",
              "      border-radius: 50%;\n",
              "      cursor: pointer;\n",
              "      display: none;\n",
              "      fill: #1967D2;\n",
              "      height: 32px;\n",
              "      padding: 0 0 0 0;\n",
              "      width: 32px;\n",
              "    }\n",
              "\n",
              "    .colab-df-convert:hover {\n",
              "      background-color: #E2EBFA;\n",
              "      box-shadow: 0px 1px 2px rgba(60, 64, 67, 0.3), 0px 1px 3px 1px rgba(60, 64, 67, 0.15);\n",
              "      fill: #174EA6;\n",
              "    }\n",
              "\n",
              "    [theme=dark] .colab-df-convert {\n",
              "      background-color: #3B4455;\n",
              "      fill: #D2E3FC;\n",
              "    }\n",
              "\n",
              "    [theme=dark] .colab-df-convert:hover {\n",
              "      background-color: #434B5C;\n",
              "      box-shadow: 0px 1px 3px 1px rgba(0, 0, 0, 0.15);\n",
              "      filter: drop-shadow(0px 1px 2px rgba(0, 0, 0, 0.3));\n",
              "      fill: #FFFFFF;\n",
              "    }\n",
              "  </style>\n",
              "\n",
              "      <script>\n",
              "        const buttonEl =\n",
              "          document.querySelector('#df-fdce81d8-8d54-4413-9fc5-cd0f2deb358e button.colab-df-convert');\n",
              "        buttonEl.style.display =\n",
              "          google.colab.kernel.accessAllowed ? 'block' : 'none';\n",
              "\n",
              "        async function convertToInteractive(key) {\n",
              "          const element = document.querySelector('#df-fdce81d8-8d54-4413-9fc5-cd0f2deb358e');\n",
              "          const dataTable =\n",
              "            await google.colab.kernel.invokeFunction('convertToInteractive',\n",
              "                                                     [key], {});\n",
              "          if (!dataTable) return;\n",
              "\n",
              "          const docLinkHtml = 'Like what you see? Visit the ' +\n",
              "            '<a target=\"_blank\" href=https://colab.research.google.com/notebooks/data_table.ipynb>data table notebook</a>'\n",
              "            + ' to learn more about interactive tables.';\n",
              "          element.innerHTML = '';\n",
              "          dataTable['output_type'] = 'display_data';\n",
              "          await google.colab.output.renderOutput(dataTable, element);\n",
              "          const docLink = document.createElement('div');\n",
              "          docLink.innerHTML = docLinkHtml;\n",
              "          element.appendChild(docLink);\n",
              "        }\n",
              "      </script>\n",
              "    </div>\n",
              "  </div>\n",
              "  "
            ]
          },
          "metadata": {},
          "execution_count": 8
        }
      ],
      "source": [
        "vacancies.describe(include=[object])   # Вывод описательной статистики набора данных"
      ]
    },
    {
      "cell_type": "code",
      "execution_count": 9,
      "metadata": {
        "colab": {
          "base_uri": "https://localhost:8080/"
        },
        "id": "_QJx0_a0OSAa",
        "outputId": "6f725db3-1d05-4bf5-b6ec-578dde797ea6"
      },
      "outputs": [
        {
          "output_type": "stream",
          "name": "stdout",
          "text": [
            "[ 3  1 16  0  6  8  4 13 10 11 14  7  5 15  2  9 12] 17\n"
          ]
        }
      ],
      "source": [
        "print(vacancies['Категория'].unique(), len(vacancies['Категория'].unique()))   # Вывод уникальных значений целевой переменной (меток) и их количества"
      ]
    },
    {
      "cell_type": "markdown",
      "metadata": {
        "id": "Qwt_ayopdi4_"
      },
      "source": [
        "\n",
        "\n",
        "\n",
        "\n"
      ]
    },
    {
      "cell_type": "code",
      "execution_count": 10,
      "metadata": {
        "colab": {
          "base_uri": "https://localhost:8080/"
        },
        "id": "vRDG33mxS_Hn",
        "outputId": "3a64c679-3dee-4e3f-e3e6-0f9f735e3f2c"
      },
      "outputs": [
        {
          "output_type": "execute_result",
          "data": {
            "text/plain": [
              "3     954\n",
              "0     478\n",
              "16    149\n",
              "8     139\n",
              "4     108\n",
              "10     48\n",
              "7      27\n",
              "1      25\n",
              "11     19\n",
              "5      12\n",
              "13     11\n",
              "6      10\n",
              "15      7\n",
              "9       5\n",
              "14      4\n",
              "2       3\n",
              "12      1\n",
              "Name: Категория, dtype: int64"
            ]
          },
          "metadata": {},
          "execution_count": 10
        }
      ],
      "source": [
        "vacancies['Категория'].value_counts()  # Количество объектов каждого класса в размеченном наборе данных"
      ]
    },
    {
      "cell_type": "code",
      "execution_count": 11,
      "metadata": {
        "colab": {
          "base_uri": "https://localhost:8080/",
          "height": 300
        },
        "id": "YOOuJM0tUN4a",
        "outputId": "4e161df4-49ce-4fe6-862e-965b4ca0c30f"
      },
      "outputs": [
        {
          "output_type": "execute_result",
          "data": {
            "text/plain": [
              "<matplotlib.axes._subplots.AxesSubplot at 0x7f8a9774a1d0>"
            ]
          },
          "metadata": {},
          "execution_count": 11
        },
        {
          "output_type": "display_data",
          "data": {
            "text/plain": [
              "<Figure size 432x288 with 1 Axes>"
            ],
            "image/png": "[encoded data removed]"
          },
          "metadata": {
            "needs_background": "light"
          }
        }
      ],
      "source": [
        "sns.histplot(data=vacancies.Категория)  # Построение гистограммы, проверка сбалансированности исходного набора данных"
      ]
    },
    {
      "cell_type": "code",
      "execution_count": 12,
      "metadata": {
        "colab": {
          "base_uri": "https://localhost:8080/",
          "height": 206
        },
        "id": "7XRDuJAibxwL",
        "outputId": "dbc9de42-e6ee-45df-e781-68295b7b533e"
      },
      "outputs": [
        {
          "output_type": "execute_result",
          "data": {
            "text/plain": [
              "   Категория                                               text\n",
              "0          3  Помогите начальник Льговского рэс не реагирует...\n",
              "1          3  <p>По фасаду дома по адресу ул. Урицкого 22 пр...\n",
              "2          1  Агресивные собаки. На радуге там стая из подро...\n",
              "3          3  <p>На пересечении &nbsp;улиц Сосновская и Бере...\n",
              "4          3  <p style=`text-align:justify;`><span style=`ba..."
            ],
            "text/html": [
              "\n",
              "  <div id=\"df-900170bf-18a9-41d9-a683-0094f2acad5c\">\n",
              "    <div class=\"colab-df-container\">\n",
              "      <div>\n",
              "<style scoped>\n",
              "    .dataframe tbody tr th:only-of-type {\n",
              "        vertical-align: middle;\n",
              "    }\n",
              "\n",
              "    .dataframe tbody tr th {\n",
              "        vertical-align: top;\n",
              "    }\n",
              "\n",
              "    .dataframe thead th {\n",
              "        text-align: right;\n",
              "    }\n",
              "</style>\n",
              "<table border=\"1\" class=\"dataframe\">\n",
              "  <thead>\n",
              "    <tr style=\"text-align: right;\">\n",
              "      <th></th>\n",
              "      <th>Категория</th>\n",
              "      <th>text</th>\n",
              "    </tr>\n",
              "  </thead>\n",
              "  <tbody>\n",
              "    <tr>\n",
              "      <th>0</th>\n",
              "      <td>3</td>\n",
              "      <td>Помогите начальник Льговского рэс не реагирует...</td>\n",
              "    </tr>\n",
              "    <tr>\n",
              "      <th>1</th>\n",
              "      <td>3</td>\n",
              "      <td>&lt;p&gt;По фасаду дома по адресу ул. Урицкого 22 пр...</td>\n",
              "    </tr>\n",
              "    <tr>\n",
              "      <th>2</th>\n",
              "      <td>1</td>\n",
              "      <td>Агресивные собаки. На радуге там стая из подро...</td>\n",
              "    </tr>\n",
              "    <tr>\n",
              "      <th>3</th>\n",
              "      <td>3</td>\n",
              "      <td>&lt;p&gt;На пересечении &amp;nbsp;улиц Сосновская и Бере...</td>\n",
              "    </tr>\n",
              "    <tr>\n",
              "      <th>4</th>\n",
              "      <td>3</td>\n",
              "      <td>&lt;p style=`text-align:justify;`&gt;&lt;span style=`ba...</td>\n",
              "    </tr>\n",
              "  </tbody>\n",
              "</table>\n",
              "</div>\n",
              "      <button class=\"colab-df-convert\" onclick=\"convertToInteractive('df-900170bf-18a9-41d9-a683-0094f2acad5c')\"\n",
              "              title=\"Convert this dataframe to an interactive table.\"\n",
              "              style=\"display:none;\">\n",
              "        \n",
              "  <svg xmlns=\"http://www.w3.org/2000/svg\" height=\"24px\"viewBox=\"0 0 24 24\"\n",
              "       width=\"24px\">\n",
              "    <path d=\"M0 0h24v24H0V0z\" fill=\"none\"/>\n",
              "    <path d=\"M18.56 5.44l.94 2.06.94-2.06 2.06-.94-2.06-.94-.94-2.06-.94 2.06-2.06.94zm-11 1L8.5 8.5l.94-2.06 2.06-.94-2.06-.94L8.5 2.5l-.94 2.06-2.06.94zm10 10l.94 2.06.94-2.06 2.06-.94-2.06-.94-.94-2.06-.94 2.06-2.06.94z\"/><path d=\"M17.41 7.96l-1.37-1.37c-.4-.4-.92-.59-1.43-.59-.52 0-1.04.2-1.43.59L10.3 9.45l-7.72 7.72c-.78.78-.78 2.05 0 2.83L4 21.41c.39.39.9.59 1.41.59.51 0 1.02-.2 1.41-.59l7.78-7.78 2.81-2.81c.8-.78.8-2.07 0-2.86zM5.41 20L4 18.59l7.72-7.72 1.47 1.35L5.41 20z\"/>\n",
              "  </svg>\n",
              "      </button>\n",
              "      \n",
              "  <style>\n",
              "    .colab-df-container {\n",
              "      display:flex;\n",
              "      flex-wrap:wrap;\n",
              "      gap: 12px;\n",
              "    }\n",
              "\n",
              "    .colab-df-convert {\n",
              "      background-color: #E8F0FE;\n",
              "      border: none;\n",
              "      border-radius: 50%;\n",
              "      cursor: pointer;\n",
              "      display: none;\n",
              "      fill: #1967D2;\n",
              "      height: 32px;\n",
              "      padding: 0 0 0 0;\n",
              "      width: 32px;\n",
              "    }\n",
              "\n",
              "    .colab-df-convert:hover {\n",
              "      background-color: #E2EBFA;\n",
              "      box-shadow: 0px 1px 2px rgba(60, 64, 67, 0.3), 0px 1px 3px 1px rgba(60, 64, 67, 0.15);\n",
              "      fill: #174EA6;\n",
              "    }\n",
              "\n",
              "    [theme=dark] .colab-df-convert {\n",
              "      background-color: #3B4455;\n",
              "      fill: #D2E3FC;\n",
              "    }\n",
              "\n",
              "    [theme=dark] .colab-df-convert:hover {\n",
              "      background-color: #434B5C;\n",
              "      box-shadow: 0px 1px 3px 1px rgba(0, 0, 0, 0.15);\n",
              "      filter: drop-shadow(0px 1px 2px rgba(0, 0, 0, 0.3));\n",
              "      fill: #FFFFFF;\n",
              "    }\n",
              "  </style>\n",
              "\n",
              "      <script>\n",
              "        const buttonEl =\n",
              "          document.querySelector('#df-900170bf-18a9-41d9-a683-0094f2acad5c button.colab-df-convert');\n",
              "        buttonEl.style.display =\n",
              "          google.colab.kernel.accessAllowed ? 'block' : 'none';\n",
              "\n",
              "        async function convertToInteractive(key) {\n",
              "          const element = document.querySelector('#df-900170bf-18a9-41d9-a683-0094f2acad5c');\n",
              "          const dataTable =\n",
              "            await google.colab.kernel.invokeFunction('convertToInteractive',\n",
              "                                                     [key], {});\n",
              "          if (!dataTable) return;\n",
              "\n",
              "          const docLinkHtml = 'Like what you see? Visit the ' +\n",
              "            '<a target=\"_blank\" href=https://colab.research.google.com/notebooks/data_table.ipynb>data table notebook</a>'\n",
              "            + ' to learn more about interactive tables.';\n",
              "          element.innerHTML = '';\n",
              "          dataTable['output_type'] = 'display_data';\n",
              "          await google.colab.output.renderOutput(dataTable, element);\n",
              "          const docLink = document.createElement('div');\n",
              "          docLink.innerHTML = docLinkHtml;\n",
              "          element.appendChild(docLink);\n",
              "        }\n",
              "      </script>\n",
              "    </div>\n",
              "  </div>\n",
              "  "
            ]
          },
          "metadata": {},
          "execution_count": 12
        }
      ],
      "source": [
        "# Создаем датасет, сливаем текстовые колонки, убираем ненужные колонки\n",
        "data = vacancies.drop(columns=['id']) # Удаление столбца с ID\n",
        "\n",
        "# Объединение текстовых колонок в одну\n",
        "data[\"text\"] = data['Текст Сообщения'].astype(str) + \" \" + data['Тематика'].astype(str) + \" \" + data['Ответственное лицо'].astype(str)\n",
        "\n",
        "# Удаление лишних колонок\n",
        "data = data.drop(columns=['Текст Сообщения', 'Тематика', 'Ответственное лицо'])\n",
        "data.head()"
      ]
    },
    {
      "cell_type": "code",
      "execution_count": 13,
      "metadata": {
        "colab": {
          "base_uri": "https://localhost:8080/"
        },
        "id": "r-tPDzsVbkBP",
        "outputId": "0b0a6dd2-f47d-4afc-81fb-0f46e48765a8"
      },
      "outputs": [
        {
          "output_type": "stream",
          "name": "stdout",
          "text": [
            "Количество строк (объектов) 2000\n",
            "Количество cлов в строке 63.204\n",
            "Соотношение:  31.64356686285678\n"
          ]
        }
      ],
      "source": [
        "# Подсчет соотношения часла строк к число слов в строке\n",
        "number_of_samples = len(data)\n",
        "print(\"Количество строк (объектов)\" , number_of_samples)\n",
        "\n",
        "number_of_words = 0\n",
        "for index, row in data.iterrows():\n",
        "  words = row['text'].split()\n",
        "  number_of_words += len(words)\n",
        "number_of_words_per_sample = number_of_words / len(data)\n",
        "print(\"Количество cлов в строке\" , number_of_words_per_sample)\n",
        "\n",
        "ratio = number_of_samples / number_of_words_per_sample\n",
        "print(\"Соотношение: \" , ratio)\n",
        "\n",
        "# Проводим выбор метода машинного обучения (модели) на основе вычисленного показателя"
      ]
    },
    {
      "cell_type": "markdown",
      "metadata": {
        "id": "1dK11Edmfr31"
      },
      "source": [
        "*Важно определить соотношение количества строк (объектов) датасета к количеству слов в строке. Если это соотношение мало (< 1500), то использовать группу методов на основе н-грамм (мешок слов), если соотношение велико (>= 1500), то использовать методы, работающие с последовательностью слов.*"
      ]
    },
    {
      "cell_type": "markdown",
      "metadata": {
        "id": "MTft4aZ6agad"
      },
      "source": [
        "# Предварительная обработка текста"
      ]
    },
    {
      "cell_type": "code",
      "execution_count": 14,
      "metadata": {
        "colab": {
          "base_uri": "https://localhost:8080/",
          "height": 206
        },
        "id": "vMy98U7Qlz61",
        "outputId": "58381d07-15e7-4a0d-f5da-9489f08648b6"
      },
      "outputs": [
        {
          "output_type": "execute_result",
          "data": {
            "text/plain": [
              "   Категория                                               text  \\\n",
              "0          3  Помогите начальник Льговского рэс не реагирует...   \n",
              "1          3  <p>По фасаду дома по адресу ул. Урицкого 22 пр...   \n",
              "2          1  Агресивные собаки. На радуге там стая из подро...   \n",
              "3          3  <p>На пересечении &nbsp;улиц Сосновская и Бере...   \n",
              "4          3  <p style=`text-align:justify;`><span style=`ba...   \n",
              "\n",
              "                                      text_processed  \n",
              "0  помогите начальник льговского рэс не реагирует...  \n",
              "1   p по фасаду дома по адресу ул урицкого проход...  \n",
              "2  агресивные собаки на радуге там стая из подрос...  \n",
              "3   p на пересечении nbsp улиц сосновская и берег...  \n",
              "4   p style text align justify span style backgro...  "
            ],
            "text/html": [
              "\n",
              "  <div id=\"df-5542f02b-dc91-4cd0-a2b3-065cde0b896f\">\n",
              "    <div class=\"colab-df-container\">\n",
              "      <div>\n",
              "<style scoped>\n",
              "    .dataframe tbody tr th:only-of-type {\n",
              "        vertical-align: middle;\n",
              "    }\n",
              "\n",
              "    .dataframe tbody tr th {\n",
              "        vertical-align: top;\n",
              "    }\n",
              "\n",
              "    .dataframe thead th {\n",
              "        text-align: right;\n",
              "    }\n",
              "</style>\n",
              "<table border=\"1\" class=\"dataframe\">\n",
              "  <thead>\n",
              "    <tr style=\"text-align: right;\">\n",
              "      <th></th>\n",
              "      <th>Категория</th>\n",
              "      <th>text</th>\n",
              "      <th>text_processed</th>\n",
              "    </tr>\n",
              "  </thead>\n",
              "  <tbody>\n",
              "    <tr>\n",
              "      <th>0</th>\n",
              "      <td>3</td>\n",
              "      <td>Помогите начальник Льговского рэс не реагирует...</td>\n",
              "      <td>помогите начальник льговского рэс не реагирует...</td>\n",
              "    </tr>\n",
              "    <tr>\n",
              "      <th>1</th>\n",
              "      <td>3</td>\n",
              "      <td>&lt;p&gt;По фасаду дома по адресу ул. Урицкого 22 пр...</td>\n",
              "      <td>p по фасаду дома по адресу ул урицкого проход...</td>\n",
              "    </tr>\n",
              "    <tr>\n",
              "      <th>2</th>\n",
              "      <td>1</td>\n",
              "      <td>Агресивные собаки. На радуге там стая из подро...</td>\n",
              "      <td>агресивные собаки на радуге там стая из подрос...</td>\n",
              "    </tr>\n",
              "    <tr>\n",
              "      <th>3</th>\n",
              "      <td>3</td>\n",
              "      <td>&lt;p&gt;На пересечении &amp;nbsp;улиц Сосновская и Бере...</td>\n",
              "      <td>p на пересечении nbsp улиц сосновская и берег...</td>\n",
              "    </tr>\n",
              "    <tr>\n",
              "      <th>4</th>\n",
              "      <td>3</td>\n",
              "      <td>&lt;p style=`text-align:justify;`&gt;&lt;span style=`ba...</td>\n",
              "      <td>p style text align justify span style backgro...</td>\n",
              "    </tr>\n",
              "  </tbody>\n",
              "</table>\n",
              "</div>\n",
              "      <button class=\"colab-df-convert\" onclick=\"convertToInteractive('df-5542f02b-dc91-4cd0-a2b3-065cde0b896f')\"\n",
              "              title=\"Convert this dataframe to an interactive table.\"\n",
              "              style=\"display:none;\">\n",
              "        \n",
              "  <svg xmlns=\"http://www.w3.org/2000/svg\" height=\"24px\"viewBox=\"0 0 24 24\"\n",
              "       width=\"24px\">\n",
              "    <path d=\"M0 0h24v24H0V0z\" fill=\"none\"/>\n",
              "    <path d=\"M18.56 5.44l.94 2.06.94-2.06 2.06-.94-2.06-.94-.94-2.06-.94 2.06-2.06.94zm-11 1L8.5 8.5l.94-2.06 2.06-.94-2.06-.94L8.5 2.5l-.94 2.06-2.06.94zm10 10l.94 2.06.94-2.06 2.06-.94-2.06-.94-.94-2.06-.94 2.06-2.06.94z\"/><path d=\"M17.41 7.96l-1.37-1.37c-.4-.4-.92-.59-1.43-.59-.52 0-1.04.2-1.43.59L10.3 9.45l-7.72 7.72c-.78.78-.78 2.05 0 2.83L4 21.41c.39.39.9.59 1.41.59.51 0 1.02-.2 1.41-.59l7.78-7.78 2.81-2.81c.8-.78.8-2.07 0-2.86zM5.41 20L4 18.59l7.72-7.72 1.47 1.35L5.41 20z\"/>\n",
              "  </svg>\n",
              "      </button>\n",
              "      \n",
              "  <style>\n",
              "    .colab-df-container {\n",
              "      display:flex;\n",
              "      flex-wrap:wrap;\n",
              "      gap: 12px;\n",
              "    }\n",
              "\n",
              "    .colab-df-convert {\n",
              "      background-color: #E8F0FE;\n",
              "      border: none;\n",
              "      border-radius: 50%;\n",
              "      cursor: pointer;\n",
              "      display: none;\n",
              "      fill: #1967D2;\n",
              "      height: 32px;\n",
              "      padding: 0 0 0 0;\n",
              "      width: 32px;\n",
              "    }\n",
              "\n",
              "    .colab-df-convert:hover {\n",
              "      background-color: #E2EBFA;\n",
              "      box-shadow: 0px 1px 2px rgba(60, 64, 67, 0.3), 0px 1px 3px 1px rgba(60, 64, 67, 0.15);\n",
              "      fill: #174EA6;\n",
              "    }\n",
              "\n",
              "    [theme=dark] .colab-df-convert {\n",
              "      background-color: #3B4455;\n",
              "      fill: #D2E3FC;\n",
              "    }\n",
              "\n",
              "    [theme=dark] .colab-df-convert:hover {\n",
              "      background-color: #434B5C;\n",
              "      box-shadow: 0px 1px 3px 1px rgba(0, 0, 0, 0.15);\n",
              "      filter: drop-shadow(0px 1px 2px rgba(0, 0, 0, 0.3));\n",
              "      fill: #FFFFFF;\n",
              "    }\n",
              "  </style>\n",
              "\n",
              "      <script>\n",
              "        const buttonEl =\n",
              "          document.querySelector('#df-5542f02b-dc91-4cd0-a2b3-065cde0b896f button.colab-df-convert');\n",
              "        buttonEl.style.display =\n",
              "          google.colab.kernel.accessAllowed ? 'block' : 'none';\n",
              "\n",
              "        async function convertToInteractive(key) {\n",
              "          const element = document.querySelector('#df-5542f02b-dc91-4cd0-a2b3-065cde0b896f');\n",
              "          const dataTable =\n",
              "            await google.colab.kernel.invokeFunction('convertToInteractive',\n",
              "                                                     [key], {});\n",
              "          if (!dataTable) return;\n",
              "\n",
              "          const docLinkHtml = 'Like what you see? Visit the ' +\n",
              "            '<a target=\"_blank\" href=https://colab.research.google.com/notebooks/data_table.ipynb>data table notebook</a>'\n",
              "            + ' to learn more about interactive tables.';\n",
              "          element.innerHTML = '';\n",
              "          dataTable['output_type'] = 'display_data';\n",
              "          await google.colab.output.renderOutput(dataTable, element);\n",
              "          const docLink = document.createElement('div');\n",
              "          docLink.innerHTML = docLinkHtml;\n",
              "          element.appendChild(docLink);\n",
              "        }\n",
              "      </script>\n",
              "    </div>\n",
              "  </div>\n",
              "  "
            ]
          },
          "metadata": {},
          "execution_count": 14
        }
      ],
      "source": [
        "from string import punctuation  # Модуль для работы со строками\n",
        "\n",
        "# Удаление символов пунктуации\n",
        "def remove_punctuation(my_string):\n",
        "    return \"\".join([ch if ch not in punctuation else ' ' for ch in my_string]) # Замена на пробелы!!!\n",
        "\n",
        "# Удаление чисел\n",
        "def remove_numbers(my_string):\n",
        "    return ''.join([i if not i.isdigit() else ' ' for i in my_string])\n",
        "\n",
        "# Замена множественных пробелов на одинарный пробел\n",
        "import re\n",
        "def remove_multiple_spaces(my_string):\n",
        "\treturn re.sub(r'\\s+', ' ', my_string, flags=re.I)\n",
        "\n",
        "# Обработка строк + дополнительно приведение к нижнему регистру\n",
        "preproccessing = lambda text: (remove_multiple_spaces(remove_numbers(remove_punctuation(text.lower())))) \n",
        "\n",
        "# Создаем колонку в датасете для обработанного текста\n",
        "data['text_processed'] = list(map(preproccessing, data['text']))\n",
        "data.head()"
      ]
    },
    {
      "cell_type": "code",
      "execution_count": 15,
      "metadata": {
        "colab": {
          "base_uri": "https://localhost:8080/"
        },
        "id": "0AT1nCr8z2MB",
        "outputId": "7ebe357f-b39e-4190-a9f1-fa3645966570"
      },
      "outputs": [
        {
          "output_type": "stream",
          "name": "stderr",
          "text": [
            "[nltk_data] Downloading package stopwords to /root/nltk_data...\n",
            "[nltk_data]   Package stopwords is already up-to-date!\n",
            "[nltk_data] Downloading package punkt to /root/nltk_data...\n",
            "[nltk_data]   Package punkt is already up-to-date!\n"
          ]
        }
      ],
      "source": [
        "# NLTK - библиотек Python для решения задач обработки естественного языка\n",
        "import nltk\n",
        "\n",
        "from nltk.stem.snowball import SnowballStemmer    # Стеммер Porter2 - новая версия стеммера Портера\n",
        "from nltk.corpus import stopwords                 # Библиотека стоп-слов\n",
        "from nltk import word_tokenize                    # Токенизатор\n",
        "\n",
        "nltk.download('stopwords')                        # Загрузка стоп-слов\n",
        "nltk.download('punkt')                            # Загрузка символов пунктуации\n",
        "stemmer = SnowballStemmer(\"russian\")              # Стеммер для русского языка"
      ]
    },
    {
      "cell_type": "code",
      "execution_count": 16,
      "metadata": {
        "id": "YBkLr5nFz26z"
      },
      "outputs": [],
      "source": [
        "russian_stopwords = stopwords.words(\"russian\")    # Список стоп-слов для русского языка\n",
        "# Расширение списка стоп-слов (см. набор данных)\n",
        "russian_stopwords.extend(['…', '«', '»', '...', 'т.д.', 'т', 'д', 'nan'])"
      ]
    },
    {
      "cell_type": "code",
      "execution_count": 17,
      "metadata": {
        "colab": {
          "base_uri": "https://localhost:8080/",
          "height": 85,
          "referenced_widgets": [
            "e327446481d249faa06bbf36c7501311",
            "0235441b4dea49558be9e1f16923f4ed",
            "a82eecd3b5454c42aaf0d2432e77af79",
            "0bc5da066fd24a0787a45e7c9a0e63c6",
            "863d59f7220448618e2bdd03c576b9ff",
            "f719df7ea9014c07a47dfdbf5fef6977",
            "4bc8673d5e36437ea3df058b48c9b1dc",
            "b751d7ba96e64093986513d4fda353bc",
            "227d5e14cdf84cc4864358f7f002096f",
            "87868b51ef5945559754ecbde2efc5de",
            "45327cedeb7a4f72ad10b240f705b692"
          ]
        },
        "id": "eMPpMSRDDbmI",
        "outputId": "f22e51b0-6c99-4a76-c253-4060890f2275"
      },
      "outputs": [
        {
          "output_type": "display_data",
          "data": {
            "text/plain": [
              "  0%|          | 0/2000 [00:00<?, ?it/s]"
            ],
            "application/vnd.jupyter.widget-view+json": {
              "version_major": 2,
              "version_minor": 0,
              "model_id": "e327446481d249faa06bbf36c7501311"
            }
          },
          "metadata": {}
        },
        {
          "output_type": "execute_result",
          "data": {
            "text/plain": [
              "'помог начальник льговск рэс реагир жалоб мал ветер сид свет имен деревн больш угон улиц стар слобод пожалуйст помог пуска вычист фотоотчет сдела нарушен связа содержан электросет качеств энергоснабжен район частн сектор администрац льговск район'"
            ],
            "application/vnd.google.colaboratory.intrinsic+json": {
              "type": "string"
            }
          },
          "metadata": {},
          "execution_count": 17
        }
      ],
      "source": [
        "# Провердим стемминг и избавляемся от стоп-слов\n",
        "stemmed_text_column = []\n",
        "for text in tqdm(data['text_processed']):\n",
        "    tokens = word_tokenize(text)    \n",
        "    stemmed_tokens = [stemmer.stem(token) for token in tokens if token not in russian_stopwords]\n",
        "    text = \" \".join(stemmed_tokens)\n",
        "    stemmed_text_column.append(text)\n",
        "\n",
        "# Создаем новую колонку в наборе данных\n",
        "data['text_stemmed'] = stemmed_text_column\n",
        "data['text_stemmed'][0]"
      ]
    },
    {
      "cell_type": "code",
      "execution_count": 18,
      "metadata": {
        "colab": {
          "base_uri": "https://localhost:8080/",
          "height": 206
        },
        "id": "FU9r6lajkoIR",
        "outputId": "e51257b4-823d-4296-a96a-2eb93b0dda0f"
      },
      "outputs": [
        {
          "output_type": "execute_result",
          "data": {
            "text/plain": [
              "   Категория                                               text  \\\n",
              "0          3  Помогите начальник Льговского рэс не реагирует...   \n",
              "1          3  <p>По фасаду дома по адресу ул. Урицкого 22 пр...   \n",
              "2          1  Агресивные собаки. На радуге там стая из подро...   \n",
              "3          3  <p>На пересечении &nbsp;улиц Сосновская и Бере...   \n",
              "4          3  <p style=`text-align:justify;`><span style=`ba...   \n",
              "\n",
              "                                      text_processed  \\\n",
              "0  помогите начальник льговского рэс не реагирует...   \n",
              "1   p по фасаду дома по адресу ул урицкого проход...   \n",
              "2  агресивные собаки на радуге там стая из подрос...   \n",
              "3   p на пересечении nbsp улиц сосновская и берег...   \n",
              "4   p style text align justify span style backgro...   \n",
              "\n",
              "                                        text_stemmed  \n",
              "0  помог начальник льговск рэс реагир жалоб мал в...  \n",
              "1  p фасад дом адрес ул урицк проход труб газов м...  \n",
              "2  агресивн собак радуг ста подросш щенк звросл с...  \n",
              "3  p пересечен nbsp улиц сосновск берегов nbsp за...  \n",
              "4  p style text align justify span style backgrou...  "
            ],
            "text/html": [
              "\n",
              "  <div id=\"df-801223b4-e20a-4e34-858a-6c68e174ac78\">\n",
              "    <div class=\"colab-df-container\">\n",
              "      <div>\n",
              "<style scoped>\n",
              "    .dataframe tbody tr th:only-of-type {\n",
              "        vertical-align: middle;\n",
              "    }\n",
              "\n",
              "    .dataframe tbody tr th {\n",
              "        vertical-align: top;\n",
              "    }\n",
              "\n",
              "    .dataframe thead th {\n",
              "        text-align: right;\n",
              "    }\n",
              "</style>\n",
              "<table border=\"1\" class=\"dataframe\">\n",
              "  <thead>\n",
              "    <tr style=\"text-align: right;\">\n",
              "      <th></th>\n",
              "      <th>Категория</th>\n",
              "      <th>text</th>\n",
              "      <th>text_processed</th>\n",
              "      <th>text_stemmed</th>\n",
              "    </tr>\n",
              "  </thead>\n",
              "  <tbody>\n",
              "    <tr>\n",
              "      <th>0</th>\n",
              "      <td>3</td>\n",
              "      <td>Помогите начальник Льговского рэс не реагирует...</td>\n",
              "      <td>помогите начальник льговского рэс не реагирует...</td>\n",
              "      <td>помог начальник льговск рэс реагир жалоб мал в...</td>\n",
              "    </tr>\n",
              "    <tr>\n",
              "      <th>1</th>\n",
              "      <td>3</td>\n",
              "      <td>&lt;p&gt;По фасаду дома по адресу ул. Урицкого 22 пр...</td>\n",
              "      <td>p по фасаду дома по адресу ул урицкого проход...</td>\n",
              "      <td>p фасад дом адрес ул урицк проход труб газов м...</td>\n",
              "    </tr>\n",
              "    <tr>\n",
              "      <th>2</th>\n",
              "      <td>1</td>\n",
              "      <td>Агресивные собаки. На радуге там стая из подро...</td>\n",
              "      <td>агресивные собаки на радуге там стая из подрос...</td>\n",
              "      <td>агресивн собак радуг ста подросш щенк звросл с...</td>\n",
              "    </tr>\n",
              "    <tr>\n",
              "      <th>3</th>\n",
              "      <td>3</td>\n",
              "      <td>&lt;p&gt;На пересечении &amp;nbsp;улиц Сосновская и Бере...</td>\n",
              "      <td>p на пересечении nbsp улиц сосновская и берег...</td>\n",
              "      <td>p пересечен nbsp улиц сосновск берегов nbsp за...</td>\n",
              "    </tr>\n",
              "    <tr>\n",
              "      <th>4</th>\n",
              "      <td>3</td>\n",
              "      <td>&lt;p style=`text-align:justify;`&gt;&lt;span style=`ba...</td>\n",
              "      <td>p style text align justify span style backgro...</td>\n",
              "      <td>p style text align justify span style backgrou...</td>\n",
              "    </tr>\n",
              "  </tbody>\n",
              "</table>\n",
              "</div>\n",
              "      <button class=\"colab-df-convert\" onclick=\"convertToInteractive('df-801223b4-e20a-4e34-858a-6c68e174ac78')\"\n",
              "              title=\"Convert this dataframe to an interactive table.\"\n",
              "              style=\"display:none;\">\n",
              "        \n",
              "  <svg xmlns=\"http://www.w3.org/2000/svg\" height=\"24px\"viewBox=\"0 0 24 24\"\n",
              "       width=\"24px\">\n",
              "    <path d=\"M0 0h24v24H0V0z\" fill=\"none\"/>\n",
              "    <path d=\"M18.56 5.44l.94 2.06.94-2.06 2.06-.94-2.06-.94-.94-2.06-.94 2.06-2.06.94zm-11 1L8.5 8.5l.94-2.06 2.06-.94-2.06-.94L8.5 2.5l-.94 2.06-2.06.94zm10 10l.94 2.06.94-2.06 2.06-.94-2.06-.94-.94-2.06-.94 2.06-2.06.94z\"/><path d=\"M17.41 7.96l-1.37-1.37c-.4-.4-.92-.59-1.43-.59-.52 0-1.04.2-1.43.59L10.3 9.45l-7.72 7.72c-.78.78-.78 2.05 0 2.83L4 21.41c.39.39.9.59 1.41.59.51 0 1.02-.2 1.41-.59l7.78-7.78 2.81-2.81c.8-.78.8-2.07 0-2.86zM5.41 20L4 18.59l7.72-7.72 1.47 1.35L5.41 20z\"/>\n",
              "  </svg>\n",
              "      </button>\n",
              "      \n",
              "  <style>\n",
              "    .colab-df-container {\n",
              "      display:flex;\n",
              "      flex-wrap:wrap;\n",
              "      gap: 12px;\n",
              "    }\n",
              "\n",
              "    .colab-df-convert {\n",
              "      background-color: #E8F0FE;\n",
              "      border: none;\n",
              "      border-radius: 50%;\n",
              "      cursor: pointer;\n",
              "      display: none;\n",
              "      fill: #1967D2;\n",
              "      height: 32px;\n",
              "      padding: 0 0 0 0;\n",
              "      width: 32px;\n",
              "    }\n",
              "\n",
              "    .colab-df-convert:hover {\n",
              "      background-color: #E2EBFA;\n",
              "      box-shadow: 0px 1px 2px rgba(60, 64, 67, 0.3), 0px 1px 3px 1px rgba(60, 64, 67, 0.15);\n",
              "      fill: #174EA6;\n",
              "    }\n",
              "\n",
              "    [theme=dark] .colab-df-convert {\n",
              "      background-color: #3B4455;\n",
              "      fill: #D2E3FC;\n",
              "    }\n",
              "\n",
              "    [theme=dark] .colab-df-convert:hover {\n",
              "      background-color: #434B5C;\n",
              "      box-shadow: 0px 1px 3px 1px rgba(0, 0, 0, 0.15);\n",
              "      filter: drop-shadow(0px 1px 2px rgba(0, 0, 0, 0.3));\n",
              "      fill: #FFFFFF;\n",
              "    }\n",
              "  </style>\n",
              "\n",
              "      <script>\n",
              "        const buttonEl =\n",
              "          document.querySelector('#df-801223b4-e20a-4e34-858a-6c68e174ac78 button.colab-df-convert');\n",
              "        buttonEl.style.display =\n",
              "          google.colab.kernel.accessAllowed ? 'block' : 'none';\n",
              "\n",
              "        async function convertToInteractive(key) {\n",
              "          const element = document.querySelector('#df-801223b4-e20a-4e34-858a-6c68e174ac78');\n",
              "          const dataTable =\n",
              "            await google.colab.kernel.invokeFunction('convertToInteractive',\n",
              "                                                     [key], {});\n",
              "          if (!dataTable) return;\n",
              "\n",
              "          const docLinkHtml = 'Like what you see? Visit the ' +\n",
              "            '<a target=\"_blank\" href=https://colab.research.google.com/notebooks/data_table.ipynb>data table notebook</a>'\n",
              "            + ' to learn more about interactive tables.';\n",
              "          element.innerHTML = '';\n",
              "          dataTable['output_type'] = 'display_data';\n",
              "          await google.colab.output.renderOutput(dataTable, element);\n",
              "          const docLink = document.createElement('div');\n",
              "          docLink.innerHTML = docLinkHtml;\n",
              "          element.appendChild(docLink);\n",
              "        }\n",
              "      </script>\n",
              "    </div>\n",
              "  </div>\n",
              "  "
            ]
          },
          "metadata": {},
          "execution_count": 18
        }
      ],
      "source": [
        "data.head()"
      ]
    },
    {
      "cell_type": "markdown",
      "metadata": {
        "id": "xAOg8p3jbNS6"
      },
      "source": [
        "## Лемматизация\n",
        "\n",
        "Лемматиза́ция — процесс приведения словоформы к лемме — её нормальной (словарной) форме."
      ]
    },
    {
      "cell_type": "code",
      "execution_count": 19,
      "metadata": {
        "colab": {
          "base_uri": "https://localhost:8080/"
        },
        "id": "OqYTikL-LyT3",
        "outputId": "c39bfaba-8c08-4248-a652-ea73b080e5c4"
      },
      "outputs": [
        {
          "output_type": "stream",
          "name": "stdout",
          "text": [
            "Looking in indexes: https://pypi.org/simple, https://us-python.pkg.dev/colab-wheels/public/simple/\n",
            "Requirement already satisfied: pymorphy2 in /usr/local/lib/python3.7/dist-packages (0.9.1)\n",
            "Requirement already satisfied: dawg-python>=0.7.1 in /usr/local/lib/python3.7/dist-packages (from pymorphy2) (0.7.2)\n",
            "Requirement already satisfied: docopt>=0.6 in /usr/local/lib/python3.7/dist-packages (from pymorphy2) (0.6.2)\n",
            "Requirement already satisfied: pymorphy2-dicts-ru<3.0,>=2.4 in /usr/local/lib/python3.7/dist-packages (from pymorphy2) (2.4.417127.4579844)\n",
            "Looking in indexes: https://pypi.org/simple, https://us-python.pkg.dev/colab-wheels/public/simple/\n",
            "Requirement already satisfied: pymorphy2-dicts in /usr/local/lib/python3.7/dist-packages (2.4.393442.3710985)\n",
            "Looking in indexes: https://pypi.org/simple, https://us-python.pkg.dev/colab-wheels/public/simple/\n",
            "Requirement already satisfied: DAWG-Python in /usr/local/lib/python3.7/dist-packages (0.7.2)\n"
          ]
        }
      ],
      "source": [
        "!pip install pymorphy2            # pymorphy2 - морфологический анализатор для русского языка\n",
        "!pip install pymorphy2-dicts      # пакет со словарями\n",
        "!pip install DAWG-Python          \n"
      ]
    },
    {
      "cell_type": "code",
      "execution_count": 20,
      "metadata": {
        "id": "fw1Ix6yKMDzD"
      },
      "outputs": [],
      "source": [
        "import pymorphy2\n",
        "morph = pymorphy2.MorphAnalyzer()"
      ]
    },
    {
      "cell_type": "code",
      "execution_count": 21,
      "metadata": {
        "colab": {
          "base_uri": "https://localhost:8080/",
          "height": 35
        },
        "id": "Z_IfATcDM7hX",
        "outputId": "5ffaeb40-7fd3-49e6-c1c2-f278a1fdf575"
      },
      "outputs": [
        {
          "output_type": "execute_result",
          "data": {
            "text/plain": [
              "'идти'"
            ],
            "application/vnd.google.colaboratory.intrinsic+json": {
              "type": "string"
            }
          },
          "metadata": {},
          "execution_count": 21
        }
      ],
      "source": [
        "morph.parse('шел')[0].normal_form  # Получение нулевой формы слова"
      ]
    },
    {
      "cell_type": "code",
      "execution_count": 22,
      "metadata": {
        "colab": {
          "base_uri": "https://localhost:8080/"
        },
        "id": "8WDNyYNOlvY0",
        "outputId": "bb9a839d-edd2-40a1-eaec-71a427196268"
      },
      "outputs": [
        {
          "output_type": "execute_result",
          "data": {
            "text/plain": [
              "[Parse(word='идти', tag=OpencorporaTag('INFN,impf,intr'), normal_form='идти', score=1.0, methods_stack=((DictionaryAnalyzer(), 'идти', 1696, 0),)),\n",
              " Parse(word='иду', tag=OpencorporaTag('VERB,impf,intr sing,1per,pres,indc'), normal_form='идти', score=1.0, methods_stack=((DictionaryAnalyzer(), 'иду', 1696, 1),)),\n",
              " Parse(word='идём', tag=OpencorporaTag('VERB,impf,intr plur,1per,pres,indc'), normal_form='идти', score=1.0, methods_stack=((DictionaryAnalyzer(), 'идём', 1696, 2),)),\n",
              " Parse(word='идёшь', tag=OpencorporaTag('VERB,impf,intr sing,2per,pres,indc'), normal_form='идти', score=1.0, methods_stack=((DictionaryAnalyzer(), 'идёшь', 1696, 3),)),\n",
              " Parse(word='идёте', tag=OpencorporaTag('VERB,impf,intr plur,2per,pres,indc'), normal_form='идти', score=1.0, methods_stack=((DictionaryAnalyzer(), 'идёте', 1696, 4),)),\n",
              " Parse(word='идёт', tag=OpencorporaTag('VERB,impf,intr sing,3per,pres,indc'), normal_form='идти', score=1.0, methods_stack=((DictionaryAnalyzer(), 'идёт', 1696, 5),)),\n",
              " Parse(word='идут', tag=OpencorporaTag('VERB,impf,intr plur,3per,pres,indc'), normal_form='идти', score=1.0, methods_stack=((DictionaryAnalyzer(), 'идут', 1696, 6),)),\n",
              " Parse(word='шёл', tag=OpencorporaTag('VERB,impf,intr masc,sing,past,indc'), normal_form='идти', score=1.0, methods_stack=((DictionaryAnalyzer(), 'шёл', 1696, 7),)),\n",
              " Parse(word='шла', tag=OpencorporaTag('VERB,impf,intr femn,sing,past,indc'), normal_form='идти', score=1.0, methods_stack=((DictionaryAnalyzer(), 'шла', 1696, 8),)),\n",
              " Parse(word='шло', tag=OpencorporaTag('VERB,impf,intr neut,sing,past,indc'), normal_form='идти', score=1.0, methods_stack=((DictionaryAnalyzer(), 'шло', 1696, 9),)),\n",
              " Parse(word='шли', tag=OpencorporaTag('VERB,impf,intr plur,past,indc'), normal_form='идти', score=1.0, methods_stack=((DictionaryAnalyzer(), 'шли', 1696, 10),)),\n",
              " Parse(word='идём', tag=OpencorporaTag('VERB,impf,intr sing,impr,incl'), normal_form='идти', score=1.0, methods_stack=((DictionaryAnalyzer(), 'идём', 1696, 11),)),\n",
              " Parse(word='идёмте', tag=OpencorporaTag('VERB,impf,intr plur,impr,incl'), normal_form='идти', score=1.0, methods_stack=((DictionaryAnalyzer(), 'идёмте', 1696, 12),)),\n",
              " Parse(word='иди', tag=OpencorporaTag('VERB,impf,intr sing,impr,excl'), normal_form='идти', score=1.0, methods_stack=((DictionaryAnalyzer(), 'иди', 1696, 13),)),\n",
              " Parse(word='идите', tag=OpencorporaTag('VERB,impf,intr plur,impr,excl'), normal_form='идти', score=1.0, methods_stack=((DictionaryAnalyzer(), 'идите', 1696, 14),)),\n",
              " Parse(word='идущий', tag=OpencorporaTag('PRTF,impf,intr,pres,actv masc,sing,nomn'), normal_form='идти', score=1.0, methods_stack=((DictionaryAnalyzer(), 'идущий', 1696, 15),)),\n",
              " Parse(word='идущего', tag=OpencorporaTag('PRTF,impf,intr,pres,actv masc,sing,gent'), normal_form='идти', score=1.0, methods_stack=((DictionaryAnalyzer(), 'идущего', 1696, 16),)),\n",
              " Parse(word='идущему', tag=OpencorporaTag('PRTF,impf,intr,pres,actv masc,sing,datv'), normal_form='идти', score=1.0, methods_stack=((DictionaryAnalyzer(), 'идущему', 1696, 17),)),\n",
              " Parse(word='идущего', tag=OpencorporaTag('PRTF,impf,intr,pres,actv anim,masc,sing,accs'), normal_form='идти', score=1.0, methods_stack=((DictionaryAnalyzer(), 'идущего', 1696, 18),)),\n",
              " Parse(word='идущий', tag=OpencorporaTag('PRTF,impf,intr,pres,actv inan,masc,sing,accs'), normal_form='идти', score=1.0, methods_stack=((DictionaryAnalyzer(), 'идущий', 1696, 19),)),\n",
              " Parse(word='идущим', tag=OpencorporaTag('PRTF,impf,intr,pres,actv masc,sing,ablt'), normal_form='идти', score=1.0, methods_stack=((DictionaryAnalyzer(), 'идущим', 1696, 20),)),\n",
              " Parse(word='идущем', tag=OpencorporaTag('PRTF,impf,intr,pres,actv masc,sing,loct'), normal_form='идти', score=1.0, methods_stack=((DictionaryAnalyzer(), 'идущем', 1696, 21),)),\n",
              " Parse(word='идущая', tag=OpencorporaTag('PRTF,impf,intr,pres,actv femn,sing,nomn'), normal_form='идти', score=1.0, methods_stack=((DictionaryAnalyzer(), 'идущая', 1696, 22),)),\n",
              " Parse(word='идущей', tag=OpencorporaTag('PRTF,impf,intr,pres,actv femn,sing,gent'), normal_form='идти', score=1.0, methods_stack=((DictionaryAnalyzer(), 'идущей', 1696, 23),)),\n",
              " Parse(word='идущей', tag=OpencorporaTag('PRTF,impf,intr,pres,actv femn,sing,datv'), normal_form='идти', score=1.0, methods_stack=((DictionaryAnalyzer(), 'идущей', 1696, 24),)),\n",
              " Parse(word='идущую', tag=OpencorporaTag('PRTF,impf,intr,pres,actv femn,sing,accs'), normal_form='идти', score=1.0, methods_stack=((DictionaryAnalyzer(), 'идущую', 1696, 25),)),\n",
              " Parse(word='идущей', tag=OpencorporaTag('PRTF,impf,intr,pres,actv femn,sing,ablt'), normal_form='идти', score=1.0, methods_stack=((DictionaryAnalyzer(), 'идущей', 1696, 26),)),\n",
              " Parse(word='идущею', tag=OpencorporaTag('PRTF,impf,intr,pres,actv femn,sing,ablt,V-ey'), normal_form='идти', score=1.0, methods_stack=((DictionaryAnalyzer(), 'идущею', 1696, 27),)),\n",
              " Parse(word='идущей', tag=OpencorporaTag('PRTF,impf,intr,pres,actv femn,sing,loct'), normal_form='идти', score=1.0, methods_stack=((DictionaryAnalyzer(), 'идущей', 1696, 28),)),\n",
              " Parse(word='идущее', tag=OpencorporaTag('PRTF,impf,intr,pres,actv neut,sing,nomn'), normal_form='идти', score=1.0, methods_stack=((DictionaryAnalyzer(), 'идущее', 1696, 29),)),\n",
              " Parse(word='идущего', tag=OpencorporaTag('PRTF,impf,intr,pres,actv neut,sing,gent'), normal_form='идти', score=1.0, methods_stack=((DictionaryAnalyzer(), 'идущего', 1696, 30),)),\n",
              " Parse(word='идущему', tag=OpencorporaTag('PRTF,impf,intr,pres,actv neut,sing,datv'), normal_form='идти', score=1.0, methods_stack=((DictionaryAnalyzer(), 'идущему', 1696, 31),)),\n",
              " Parse(word='идущее', tag=OpencorporaTag('PRTF,impf,intr,pres,actv neut,sing,accs'), normal_form='идти', score=1.0, methods_stack=((DictionaryAnalyzer(), 'идущее', 1696, 32),)),\n",
              " Parse(word='идущим', tag=OpencorporaTag('PRTF,impf,intr,pres,actv neut,sing,ablt'), normal_form='идти', score=1.0, methods_stack=((DictionaryAnalyzer(), 'идущим', 1696, 33),)),\n",
              " Parse(word='идущем', tag=OpencorporaTag('PRTF,impf,intr,pres,actv neut,sing,loct'), normal_form='идти', score=1.0, methods_stack=((DictionaryAnalyzer(), 'идущем', 1696, 34),)),\n",
              " Parse(word='идущие', tag=OpencorporaTag('PRTF,impf,intr,pres,actv plur,nomn'), normal_form='идти', score=1.0, methods_stack=((DictionaryAnalyzer(), 'идущие', 1696, 35),)),\n",
              " Parse(word='идущих', tag=OpencorporaTag('PRTF,impf,intr,pres,actv plur,gent'), normal_form='идти', score=1.0, methods_stack=((DictionaryAnalyzer(), 'идущих', 1696, 36),)),\n",
              " Parse(word='идущим', tag=OpencorporaTag('PRTF,impf,intr,pres,actv plur,datv'), normal_form='идти', score=1.0, methods_stack=((DictionaryAnalyzer(), 'идущим', 1696, 37),)),\n",
              " Parse(word='идущих', tag=OpencorporaTag('PRTF,impf,intr,pres,actv anim,plur,accs'), normal_form='идти', score=1.0, methods_stack=((DictionaryAnalyzer(), 'идущих', 1696, 38),)),\n",
              " Parse(word='идущие', tag=OpencorporaTag('PRTF,impf,intr,pres,actv inan,plur,accs'), normal_form='идти', score=1.0, methods_stack=((DictionaryAnalyzer(), 'идущие', 1696, 39),)),\n",
              " Parse(word='идущими', tag=OpencorporaTag('PRTF,impf,intr,pres,actv plur,ablt'), normal_form='идти', score=1.0, methods_stack=((DictionaryAnalyzer(), 'идущими', 1696, 40),)),\n",
              " Parse(word='идущих', tag=OpencorporaTag('PRTF,impf,intr,pres,actv plur,loct'), normal_form='идти', score=1.0, methods_stack=((DictionaryAnalyzer(), 'идущих', 1696, 41),)),\n",
              " Parse(word='шедший', tag=OpencorporaTag('PRTF,impf,intr,past,actv masc,sing,nomn'), normal_form='идти', score=1.0, methods_stack=((DictionaryAnalyzer(), 'шедший', 1696, 42),)),\n",
              " Parse(word='шедшего', tag=OpencorporaTag('PRTF,impf,intr,past,actv masc,sing,gent'), normal_form='идти', score=1.0, methods_stack=((DictionaryAnalyzer(), 'шедшего', 1696, 43),)),\n",
              " Parse(word='шедшему', tag=OpencorporaTag('PRTF,impf,intr,past,actv masc,sing,datv'), normal_form='идти', score=1.0, methods_stack=((DictionaryAnalyzer(), 'шедшему', 1696, 44),)),\n",
              " Parse(word='шедшего', tag=OpencorporaTag('PRTF,impf,intr,past,actv anim,masc,sing,accs'), normal_form='идти', score=1.0, methods_stack=((DictionaryAnalyzer(), 'шедшего', 1696, 45),)),\n",
              " Parse(word='шедший', tag=OpencorporaTag('PRTF,impf,intr,past,actv inan,masc,sing,accs'), normal_form='идти', score=1.0, methods_stack=((DictionaryAnalyzer(), 'шедший', 1696, 46),)),\n",
              " Parse(word='шедшим', tag=OpencorporaTag('PRTF,impf,intr,past,actv masc,sing,ablt'), normal_form='идти', score=1.0, methods_stack=((DictionaryAnalyzer(), 'шедшим', 1696, 47),)),\n",
              " Parse(word='шедшем', tag=OpencorporaTag('PRTF,impf,intr,past,actv masc,sing,loct'), normal_form='идти', score=1.0, methods_stack=((DictionaryAnalyzer(), 'шедшем', 1696, 48),)),\n",
              " Parse(word='шедшая', tag=OpencorporaTag('PRTF,impf,intr,past,actv femn,sing,nomn'), normal_form='идти', score=1.0, methods_stack=((DictionaryAnalyzer(), 'шедшая', 1696, 49),)),\n",
              " Parse(word='шедшей', tag=OpencorporaTag('PRTF,impf,intr,past,actv femn,sing,gent'), normal_form='идти', score=1.0, methods_stack=((DictionaryAnalyzer(), 'шедшей', 1696, 50),)),\n",
              " Parse(word='шедшей', tag=OpencorporaTag('PRTF,impf,intr,past,actv femn,sing,datv'), normal_form='идти', score=1.0, methods_stack=((DictionaryAnalyzer(), 'шедшей', 1696, 51),)),\n",
              " Parse(word='шедшую', tag=OpencorporaTag('PRTF,impf,intr,past,actv femn,sing,accs'), normal_form='идти', score=1.0, methods_stack=((DictionaryAnalyzer(), 'шедшую', 1696, 52),)),\n",
              " Parse(word='шедшей', tag=OpencorporaTag('PRTF,impf,intr,past,actv femn,sing,ablt'), normal_form='идти', score=1.0, methods_stack=((DictionaryAnalyzer(), 'шедшей', 1696, 53),)),\n",
              " Parse(word='шедшею', tag=OpencorporaTag('PRTF,impf,intr,past,actv femn,sing,ablt,V-ey'), normal_form='идти', score=1.0, methods_stack=((DictionaryAnalyzer(), 'шедшею', 1696, 54),)),\n",
              " Parse(word='шедшей', tag=OpencorporaTag('PRTF,impf,intr,past,actv femn,sing,loct'), normal_form='идти', score=1.0, methods_stack=((DictionaryAnalyzer(), 'шедшей', 1696, 55),)),\n",
              " Parse(word='шедшее', tag=OpencorporaTag('PRTF,impf,intr,past,actv neut,sing,nomn'), normal_form='идти', score=1.0, methods_stack=((DictionaryAnalyzer(), 'шедшее', 1696, 56),)),\n",
              " Parse(word='шедшего', tag=OpencorporaTag('PRTF,impf,intr,past,actv neut,sing,gent'), normal_form='идти', score=1.0, methods_stack=((DictionaryAnalyzer(), 'шедшего', 1696, 57),)),\n",
              " Parse(word='шедшему', tag=OpencorporaTag('PRTF,impf,intr,past,actv neut,sing,datv'), normal_form='идти', score=1.0, methods_stack=((DictionaryAnalyzer(), 'шедшему', 1696, 58),)),\n",
              " Parse(word='шедшее', tag=OpencorporaTag('PRTF,impf,intr,past,actv neut,sing,accs'), normal_form='идти', score=1.0, methods_stack=((DictionaryAnalyzer(), 'шедшее', 1696, 59),)),\n",
              " Parse(word='шедшим', tag=OpencorporaTag('PRTF,impf,intr,past,actv neut,sing,ablt'), normal_form='идти', score=1.0, methods_stack=((DictionaryAnalyzer(), 'шедшим', 1696, 60),)),\n",
              " Parse(word='шедшем', tag=OpencorporaTag('PRTF,impf,intr,past,actv neut,sing,loct'), normal_form='идти', score=1.0, methods_stack=((DictionaryAnalyzer(), 'шедшем', 1696, 61),)),\n",
              " Parse(word='шедшие', tag=OpencorporaTag('PRTF,impf,intr,past,actv plur,nomn'), normal_form='идти', score=1.0, methods_stack=((DictionaryAnalyzer(), 'шедшие', 1696, 62),)),\n",
              " Parse(word='шедших', tag=OpencorporaTag('PRTF,impf,intr,past,actv plur,gent'), normal_form='идти', score=1.0, methods_stack=((DictionaryAnalyzer(), 'шедших', 1696, 63),)),\n",
              " Parse(word='шедшим', tag=OpencorporaTag('PRTF,impf,intr,past,actv plur,datv'), normal_form='идти', score=1.0, methods_stack=((DictionaryAnalyzer(), 'шедшим', 1696, 64),)),\n",
              " Parse(word='шедших', tag=OpencorporaTag('PRTF,impf,intr,past,actv anim,plur,accs'), normal_form='идти', score=1.0, methods_stack=((DictionaryAnalyzer(), 'шедших', 1696, 65),)),\n",
              " Parse(word='шедшие', tag=OpencorporaTag('PRTF,impf,intr,past,actv inan,plur,accs'), normal_form='идти', score=1.0, methods_stack=((DictionaryAnalyzer(), 'шедшие', 1696, 66),)),\n",
              " Parse(word='шедшими', tag=OpencorporaTag('PRTF,impf,intr,past,actv plur,ablt'), normal_form='идти', score=1.0, methods_stack=((DictionaryAnalyzer(), 'шедшими', 1696, 67),)),\n",
              " Parse(word='шедших', tag=OpencorporaTag('PRTF,impf,intr,past,actv plur,loct'), normal_form='идти', score=1.0, methods_stack=((DictionaryAnalyzer(), 'шедших', 1696, 68),)),\n",
              " Parse(word='идя', tag=OpencorporaTag('GRND,impf,intr pres'), normal_form='идти', score=1.0, methods_stack=((DictionaryAnalyzer(), 'идя', 1696, 69),)),\n",
              " Parse(word='шедши', tag=OpencorporaTag('GRND,impf,intr past,V-sh'), normal_form='идти', score=1.0, methods_stack=((DictionaryAnalyzer(), 'шедши', 1696, 70),))]"
            ]
          },
          "metadata": {},
          "execution_count": 22
        }
      ],
      "source": [
        "morph.parse('шел')[0].lexeme  # Все лексемы слова"
      ]
    },
    {
      "cell_type": "code",
      "execution_count": 23,
      "metadata": {
        "colab": {
          "base_uri": "https://localhost:8080/",
          "height": 85,
          "referenced_widgets": [
            "f413466c543242ca910c60207e98aa5a",
            "b9e641f958924e8b9fb146311f5922ac",
            "8408aad3e43842fe9d96b09e21c5d756",
            "14f2c2778aef42ba8e9d9fe7ed394178",
            "aba4e5da92e84632b9da4415e48454f8",
            "ad7607d44dfc480caa046da482f31fe6",
            "e22e06e660654701b980a7f83db367be",
            "ffda9b58829c4752920e6ff93840ee66",
            "49de78113ff245408e7bf5d4067e909a",
            "3859787427a34d3b9229b721e1096a5f",
            "ed996adbc0f74728804ab1bf40d2719d"
          ]
        },
        "id": "G6CNF0y2HH8T",
        "outputId": "3531e8c5-8dae-49d2-d49b-e6d4fabedfae"
      },
      "outputs": [
        {
          "output_type": "display_data",
          "data": {
            "text/plain": [
              "  0%|          | 0/2000 [00:00<?, ?it/s]"
            ],
            "application/vnd.jupyter.widget-view+json": {
              "version_major": 2,
              "version_minor": 0,
              "model_id": "f413466c543242ca910c60207e98aa5a"
            }
          },
          "metadata": {}
        },
        {
          "output_type": "execute_result",
          "data": {
            "text/plain": [
              "'помочь начальник льговский рэс реагировать жалоба малый ветер сидеть свет именно деревня больший угон улица старый слобода пожалуйста помочь пускай вычистить фотоотчёт сделать нарушение связанный содержание электросеть качество энергоснабжение район частное сектор администрация льговский район'"
            ],
            "application/vnd.google.colaboratory.intrinsic+json": {
              "type": "string"
            }
          },
          "metadata": {},
          "execution_count": 23
        }
      ],
      "source": [
        "# Провердим лемматизацию и избавляемся от стоп-слов\n",
        "lemm_texts_column = []\n",
        "for text in tqdm(data['text_processed']):\n",
        "    tokens = word_tokenize(text)    \n",
        "    lemmed_tokens = [morph.parse(token)[0].normal_form for token in tokens if token not in russian_stopwords]\n",
        "    text = \" \".join(lemmed_tokens)\n",
        "    lemm_texts_column.append(text)\n",
        "    \n",
        "# Создаем новую колонку в наборе данных\n",
        "data['text_lemmed'] = lemm_texts_column\n",
        "\n",
        "data['text_lemmed'][0]"
      ]
    },
    {
      "cell_type": "code",
      "execution_count": 24,
      "metadata": {
        "colab": {
          "base_uri": "https://localhost:8080/",
          "height": 320
        },
        "id": "qil8oSjvnf8M",
        "outputId": "fc90fa09-95a3-4996-cf16-1ee0c2de3576"
      },
      "outputs": [
        {
          "output_type": "execute_result",
          "data": {
            "text/plain": [
              "   Категория                                               text  \\\n",
              "0          3  Помогите начальник Льговского рэс не реагирует...   \n",
              "1          3  <p>По фасаду дома по адресу ул. Урицкого 22 пр...   \n",
              "2          1  Агресивные собаки. На радуге там стая из подро...   \n",
              "3          3  <p>На пересечении &nbsp;улиц Сосновская и Бере...   \n",
              "4          3  <p style=`text-align:justify;`><span style=`ba...   \n",
              "\n",
              "                                      text_processed  \\\n",
              "0  помогите начальник льговского рэс не реагирует...   \n",
              "1   p по фасаду дома по адресу ул урицкого проход...   \n",
              "2  агресивные собаки на радуге там стая из подрос...   \n",
              "3   p на пересечении nbsp улиц сосновская и берег...   \n",
              "4   p style text align justify span style backgro...   \n",
              "\n",
              "                                        text_stemmed  \\\n",
              "0  помог начальник льговск рэс реагир жалоб мал в...   \n",
              "1  p фасад дом адрес ул урицк проход труб газов м...   \n",
              "2  агресивн собак радуг ста подросш щенк звросл с...   \n",
              "3  p пересечен nbsp улиц сосновск берегов nbsp за...   \n",
              "4  p style text align justify span style backgrou...   \n",
              "\n",
              "                                         text_lemmed  \n",
              "0  помочь начальник льговский рэс реагировать жал...  \n",
              "1  p фасад дом адрес ул урицкий проходить труба г...  \n",
              "2  агресивный собака радуга стая подрасти щенок з...  \n",
              "3  p пересечение nbsp улица сосновский береговой ...  \n",
              "4  p style text align justify span style backgrou...  "
            ],
            "text/html": [
              "\n",
              "  <div id=\"df-7330842d-4354-4d89-883c-8658bd18ca58\">\n",
              "    <div class=\"colab-df-container\">\n",
              "      <div>\n",
              "<style scoped>\n",
              "    .dataframe tbody tr th:only-of-type {\n",
              "        vertical-align: middle;\n",
              "    }\n",
              "\n",
              "    .dataframe tbody tr th {\n",
              "        vertical-align: top;\n",
              "    }\n",
              "\n",
              "    .dataframe thead th {\n",
              "        text-align: right;\n",
              "    }\n",
              "</style>\n",
              "<table border=\"1\" class=\"dataframe\">\n",
              "  <thead>\n",
              "    <tr style=\"text-align: right;\">\n",
              "      <th></th>\n",
              "      <th>Категория</th>\n",
              "      <th>text</th>\n",
              "      <th>text_processed</th>\n",
              "      <th>text_stemmed</th>\n",
              "      <th>text_lemmed</th>\n",
              "    </tr>\n",
              "  </thead>\n",
              "  <tbody>\n",
              "    <tr>\n",
              "      <th>0</th>\n",
              "      <td>3</td>\n",
              "      <td>Помогите начальник Льговского рэс не реагирует...</td>\n",
              "      <td>помогите начальник льговского рэс не реагирует...</td>\n",
              "      <td>помог начальник льговск рэс реагир жалоб мал в...</td>\n",
              "      <td>помочь начальник льговский рэс реагировать жал...</td>\n",
              "    </tr>\n",
              "    <tr>\n",
              "      <th>1</th>\n",
              "      <td>3</td>\n",
              "      <td>&lt;p&gt;По фасаду дома по адресу ул. Урицкого 22 пр...</td>\n",
              "      <td>p по фасаду дома по адресу ул урицкого проход...</td>\n",
              "      <td>p фасад дом адрес ул урицк проход труб газов м...</td>\n",
              "      <td>p фасад дом адрес ул урицкий проходить труба г...</td>\n",
              "    </tr>\n",
              "    <tr>\n",
              "      <th>2</th>\n",
              "      <td>1</td>\n",
              "      <td>Агресивные собаки. На радуге там стая из подро...</td>\n",
              "      <td>агресивные собаки на радуге там стая из подрос...</td>\n",
              "      <td>агресивн собак радуг ста подросш щенк звросл с...</td>\n",
              "      <td>агресивный собака радуга стая подрасти щенок з...</td>\n",
              "    </tr>\n",
              "    <tr>\n",
              "      <th>3</th>\n",
              "      <td>3</td>\n",
              "      <td>&lt;p&gt;На пересечении &amp;nbsp;улиц Сосновская и Бере...</td>\n",
              "      <td>p на пересечении nbsp улиц сосновская и берег...</td>\n",
              "      <td>p пересечен nbsp улиц сосновск берегов nbsp за...</td>\n",
              "      <td>p пересечение nbsp улица сосновский береговой ...</td>\n",
              "    </tr>\n",
              "    <tr>\n",
              "      <th>4</th>\n",
              "      <td>3</td>\n",
              "      <td>&lt;p style=`text-align:justify;`&gt;&lt;span style=`ba...</td>\n",
              "      <td>p style text align justify span style backgro...</td>\n",
              "      <td>p style text align justify span style backgrou...</td>\n",
              "      <td>p style text align justify span style backgrou...</td>\n",
              "    </tr>\n",
              "  </tbody>\n",
              "</table>\n",
              "</div>\n",
              "      <button class=\"colab-df-convert\" onclick=\"convertToInteractive('df-7330842d-4354-4d89-883c-8658bd18ca58')\"\n",
              "              title=\"Convert this dataframe to an interactive table.\"\n",
              "              style=\"display:none;\">\n",
              "        \n",
              "  <svg xmlns=\"http://www.w3.org/2000/svg\" height=\"24px\"viewBox=\"0 0 24 24\"\n",
              "       width=\"24px\">\n",
              "    <path d=\"M0 0h24v24H0V0z\" fill=\"none\"/>\n",
              "    <path d=\"M18.56 5.44l.94 2.06.94-2.06 2.06-.94-2.06-.94-.94-2.06-.94 2.06-2.06.94zm-11 1L8.5 8.5l.94-2.06 2.06-.94-2.06-.94L8.5 2.5l-.94 2.06-2.06.94zm10 10l.94 2.06.94-2.06 2.06-.94-2.06-.94-.94-2.06-.94 2.06-2.06.94z\"/><path d=\"M17.41 7.96l-1.37-1.37c-.4-.4-.92-.59-1.43-.59-.52 0-1.04.2-1.43.59L10.3 9.45l-7.72 7.72c-.78.78-.78 2.05 0 2.83L4 21.41c.39.39.9.59 1.41.59.51 0 1.02-.2 1.41-.59l7.78-7.78 2.81-2.81c.8-.78.8-2.07 0-2.86zM5.41 20L4 18.59l7.72-7.72 1.47 1.35L5.41 20z\"/>\n",
              "  </svg>\n",
              "      </button>\n",
              "      \n",
              "  <style>\n",
              "    .colab-df-container {\n",
              "      display:flex;\n",
              "      flex-wrap:wrap;\n",
              "      gap: 12px;\n",
              "    }\n",
              "\n",
              "    .colab-df-convert {\n",
              "      background-color: #E8F0FE;\n",
              "      border: none;\n",
              "      border-radius: 50%;\n",
              "      cursor: pointer;\n",
              "      display: none;\n",
              "      fill: #1967D2;\n",
              "      height: 32px;\n",
              "      padding: 0 0 0 0;\n",
              "      width: 32px;\n",
              "    }\n",
              "\n",
              "    .colab-df-convert:hover {\n",
              "      background-color: #E2EBFA;\n",
              "      box-shadow: 0px 1px 2px rgba(60, 64, 67, 0.3), 0px 1px 3px 1px rgba(60, 64, 67, 0.15);\n",
              "      fill: #174EA6;\n",
              "    }\n",
              "\n",
              "    [theme=dark] .colab-df-convert {\n",
              "      background-color: #3B4455;\n",
              "      fill: #D2E3FC;\n",
              "    }\n",
              "\n",
              "    [theme=dark] .colab-df-convert:hover {\n",
              "      background-color: #434B5C;\n",
              "      box-shadow: 0px 1px 3px 1px rgba(0, 0, 0, 0.15);\n",
              "      filter: drop-shadow(0px 1px 2px rgba(0, 0, 0, 0.3));\n",
              "      fill: #FFFFFF;\n",
              "    }\n",
              "  </style>\n",
              "\n",
              "      <script>\n",
              "        const buttonEl =\n",
              "          document.querySelector('#df-7330842d-4354-4d89-883c-8658bd18ca58 button.colab-df-convert');\n",
              "        buttonEl.style.display =\n",
              "          google.colab.kernel.accessAllowed ? 'block' : 'none';\n",
              "\n",
              "        async function convertToInteractive(key) {\n",
              "          const element = document.querySelector('#df-7330842d-4354-4d89-883c-8658bd18ca58');\n",
              "          const dataTable =\n",
              "            await google.colab.kernel.invokeFunction('convertToInteractive',\n",
              "                                                     [key], {});\n",
              "          if (!dataTable) return;\n",
              "\n",
              "          const docLinkHtml = 'Like what you see? Visit the ' +\n",
              "            '<a target=\"_blank\" href=https://colab.research.google.com/notebooks/data_table.ipynb>data table notebook</a>'\n",
              "            + ' to learn more about interactive tables.';\n",
              "          element.innerHTML = '';\n",
              "          dataTable['output_type'] = 'display_data';\n",
              "          await google.colab.output.renderOutput(dataTable, element);\n",
              "          const docLink = document.createElement('div');\n",
              "          docLink.innerHTML = docLinkHtml;\n",
              "          element.appendChild(docLink);\n",
              "        }\n",
              "      </script>\n",
              "    </div>\n",
              "  </div>\n",
              "  "
            ]
          },
          "metadata": {},
          "execution_count": 24
        }
      ],
      "source": [
        "data.head()"
      ]
    },
    {
      "cell_type": "markdown",
      "metadata": {
        "id": "9Ii6Mv5kYLf-"
      },
      "source": [
        "## Токенизация\n",
        "\n",
        "Токенизация - процесс разделения текста на составляющие (слова, предложения, группы слов)."
      ]
    },
    {
      "cell_type": "code",
      "execution_count": 25,
      "metadata": {
        "colab": {
          "base_uri": "https://localhost:8080/"
        },
        "id": "qmr7yDoSQd0R",
        "outputId": "21250a51-29e4-44a9-9b8d-3b84733b8ac7"
      },
      "outputs": [
        {
          "output_type": "execute_result",
          "data": {
            "text/plain": [
              "['помочь',\n",
              " 'начальник',\n",
              " 'льговский',\n",
              " 'рэс',\n",
              " 'реагировать',\n",
              " 'жалоба',\n",
              " 'малый',\n",
              " 'ветер',\n",
              " 'сидеть',\n",
              " 'свет',\n",
              " 'именно',\n",
              " 'деревня',\n",
              " 'больший',\n",
              " 'угон',\n",
              " 'улица',\n",
              " 'старый',\n",
              " 'слобода',\n",
              " 'пожалуйста',\n",
              " 'помочь',\n",
              " 'пускай',\n",
              " 'вычистить',\n",
              " 'фотоотчёт',\n",
              " 'сделать',\n",
              " 'нарушение',\n",
              " 'связанный',\n",
              " 'содержание',\n",
              " 'электросеть',\n",
              " 'качество',\n",
              " 'энергоснабжение',\n",
              " 'район',\n",
              " 'частное',\n",
              " 'сектор',\n",
              " 'администрация',\n",
              " 'льговский',\n",
              " 'район']"
            ]
          },
          "metadata": {},
          "execution_count": 25
        }
      ],
      "source": [
        "# from nltk import word_tokenize\n",
        "\n",
        "word_tokenize(data['text_lemmed'][0])"
      ]
    },
    {
      "cell_type": "markdown",
      "metadata": {
        "id": "R-hzgu9t0FwM"
      },
      "source": [
        "## Мешок слов\n",
        "\n",
        "Мешок слов (bag-of-words) — упрощенное представление текста, которое используется в обработке естественных языков и информационном поиске. В этой модели текст представляется в виде множества его слов без какого-либо учета грамматики и порядка слов, но с сохранением информации об их количестве.\n"
      ]
    },
    {
      "cell_type": "code",
      "execution_count": 26,
      "metadata": {
        "id": "K-GmqI2z0TE7"
      },
      "outputs": [],
      "source": [
        "# CountVectorizer - класс конвертации текста в матрицу токенов\n",
        "from sklearn.feature_extraction.text import CountVectorizer"
      ]
    },
    {
      "cell_type": "code",
      "execution_count": 27,
      "metadata": {
        "colab": {
          "base_uri": "https://localhost:8080/"
        },
        "id": "LizFxe4lsUWg",
        "outputId": "c82eb558-09c3-40e8-a3c4-c19d942f1006"
      },
      "outputs": [
        {
          "output_type": "execute_result",
          "data": {
            "text/plain": [
              "array([[0, 0, 0, ..., 0, 0, 0],\n",
              "       [0, 0, 0, ..., 0, 0, 0],\n",
              "       [0, 0, 0, ..., 0, 0, 0],\n",
              "       ...,\n",
              "       [0, 0, 0, ..., 0, 0, 0],\n",
              "       [0, 0, 0, ..., 0, 0, 0],\n",
              "       [0, 0, 0, ..., 0, 0, 0]])"
            ]
          },
          "metadata": {},
          "execution_count": 27
        }
      ],
      "source": [
        "# Создание матрицы признаков на основе мешка слов\n",
        "count = CountVectorizer()\n",
        "bag_of_words = count.fit_transform(data['text_lemmed'])\n",
        "bag_of_words.toarray()"
      ]
    },
    {
      "cell_type": "code",
      "execution_count": 28,
      "metadata": {
        "colab": {
          "base_uri": "https://localhost:8080/"
        },
        "id": "yAVLZ0MWsx4R",
        "outputId": "8fda7fe7-28e8-427d-a2e3-0f1cb8decb69"
      },
      "outputs": [
        {
          "output_type": "execute_result",
          "data": {
            "text/plain": [
              "array(['actual', 'address', 'aesfpebagmfblc', ..., 'ёж', 'ёлка', 'ёлочка'],\n",
              "      dtype=object)"
            ]
          },
          "metadata": {},
          "execution_count": 28
        }
      ],
      "source": [
        "count.get_feature_names_out()  # Вывод имен признаков"
      ]
    },
    {
      "cell_type": "code",
      "execution_count": 29,
      "metadata": {
        "colab": {
          "base_uri": "https://localhost:8080/"
        },
        "id": "5w2td6AKtgEM",
        "outputId": "d0d4276c-a8f6-4a80-f1de-36ae55d5b8e3"
      },
      "outputs": [
        {
          "output_type": "execute_result",
          "data": {
            "text/plain": [
              "array([[0, 0, 0, ..., 0, 0, 0],\n",
              "       [0, 0, 0, ..., 0, 0, 0],\n",
              "       [0, 0, 0, ..., 0, 0, 0],\n",
              "       ...,\n",
              "       [0, 0, 0, ..., 0, 0, 0],\n",
              "       [0, 0, 0, ..., 0, 0, 0],\n",
              "       [0, 0, 0, ..., 0, 0, 0]])"
            ]
          },
          "metadata": {},
          "execution_count": 29
        }
      ],
      "source": [
        "# Создание матрицы признаков для 2-грамм\n",
        "count_2gram = CountVectorizer(ngram_range=(2,2))\n",
        "bag_of_2grams = count_2gram.fit_transform(data['text_lemmed'])\n",
        "bag_of_2grams.toarray()"
      ]
    },
    {
      "cell_type": "code",
      "execution_count": 30,
      "metadata": {
        "colab": {
          "base_uri": "https://localhost:8080/"
        },
        "id": "-BtKCzT4uA-6",
        "outputId": "d79a120c-60ef-4791-f45f-93a9817bdd98"
      },
      "outputs": [
        {
          "output_type": "execute_result",
          "data": {
            "text/plain": [
              "array(['actual amp', 'address span', 'aesfpebagmfblc xn', ...,\n",
              "       'ёлка новый', 'ёлка озеленить', 'ёлочка надеяться'], dtype=object)"
            ]
          },
          "metadata": {},
          "execution_count": 30
        }
      ],
      "source": [
        "count_2gram.get_feature_names_out()  # Вывод имен признаков"
      ]
    },
    {
      "cell_type": "markdown",
      "metadata": {
        "id": "rp1B2dvu1cNv"
      },
      "source": [
        "## Взвешивание важности слов - TF-IDF\n",
        "\n",
        "TF-IDF (TF — term frequency, IDF — inverse document frequency) — статистическая мера, используемая для оценки важности слова в контексте документа, являющегося частью коллекции документов или корпуса. Вес некоторого слова (от 0 до 1) пропорционален частоте употребления этого слова в документе и обратно пропорционален частоте употребления слова во всех документах коллекции.\n",
        "\n",
        "Мера TF-IDF часто используется в задачах анализа текстов и информационного поиска, например, как один из критериев релевантности документа поисковому запросу, при расчёте меры близости документов при кластеризации или классификации."
      ]
    },
    {
      "cell_type": "code",
      "execution_count": 31,
      "metadata": {
        "id": "xmHnoMDX1g_e"
      },
      "outputs": [],
      "source": [
        "# TfidfVectorizer - класс для преобразования текста в частотные векторы слов\n",
        "from sklearn.feature_extraction.text import TfidfVectorizer"
      ]
    },
    {
      "cell_type": "code",
      "execution_count": 32,
      "metadata": {
        "colab": {
          "base_uri": "https://localhost:8080/"
        },
        "id": "Us1Ud4T7wjQ_",
        "outputId": "d1f0bf3e-c8c9-469c-afa9-81bf08c66d93"
      },
      "outputs": [
        {
          "output_type": "execute_result",
          "data": {
            "text/plain": [
              "array([[0., 0., 0., ..., 0., 0., 0.],\n",
              "       [0., 0., 0., ..., 0., 0., 0.],\n",
              "       [0., 0., 0., ..., 0., 0., 0.],\n",
              "       ...,\n",
              "       [0., 0., 0., ..., 0., 0., 0.],\n",
              "       [0., 0., 0., ..., 0., 0., 0.],\n",
              "       [0., 0., 0., ..., 0., 0., 0.]])"
            ]
          },
          "metadata": {},
          "execution_count": 32
        }
      ],
      "source": [
        "# Создание матрицы признаков\n",
        "tfidf = TfidfVectorizer()\n",
        "feature_matrix = tfidf.fit_transform(data['text_lemmed'])\n",
        "feature_matrix.toarray()"
      ]
    },
    {
      "cell_type": "markdown",
      "metadata": {
        "id": "sMSc_YbahDGO"
      },
      "source": [
        "## Финальный датасет"
      ]
    },
    {
      "cell_type": "code",
      "execution_count": 33,
      "metadata": {
        "id": "wvVclcVohH4e"
      },
      "outputs": [],
      "source": [
        "# Матрица признаков\n",
        "X = data['text_lemmed']\n",
        "\n",
        "# Вектор значений целевых переменных\n",
        "y = data['Категория']\n",
        "\n",
        "labels = data['Категория'].unique() # Массив уникальных меток\n"
      ]
    },
    {
      "cell_type": "code",
      "execution_count": 34,
      "metadata": {
        "colab": {
          "base_uri": "https://localhost:8080/"
        },
        "id": "Vq3JBmAcW2Sn",
        "outputId": "f74fc983-929d-4dfa-b101-04f5950f31c3"
      },
      "outputs": [
        {
          "output_type": "execute_result",
          "data": {
            "text/plain": [
              "array([ 3,  1, 16,  0,  6,  8,  4, 13, 10, 11, 14,  7,  5, 15,  2,  9, 12])"
            ]
          },
          "metadata": {},
          "execution_count": 34
        }
      ],
      "source": [
        "labels"
      ]
    },
    {
      "cell_type": "code",
      "execution_count": 35,
      "metadata": {
        "id": "tOcXN5oGi-gr"
      },
      "outputs": [],
      "source": [
        "# Разбиение на обучающую выборку (70%) и валидационную выборку (30%)\n",
        "from sklearn.model_selection import train_test_split\n",
        "X_train, X_valid, y_train, y_valid = train_test_split(X, y, test_size=0.3)"
      ]
    },
    {
      "cell_type": "markdown",
      "metadata": {
        "id": "j7uzO6Jb9MH8"
      },
      "source": [
        "# Валидация"
      ]
    },
    {
      "cell_type": "markdown",
      "metadata": {
        "id": "-kmF1XixjTI4"
      },
      "source": [
        "# Наивный байесовский классификатор (Naive Bayes Classifier)\n",
        "\n",
        "Наивный байесовский классификатор — простой вероятностный классификатор, основанный на применении теоремы Байеса со строгими (наивными) предположениями о независимости. Достоинством наивного байесовского классификатора является малое количество данных, необходимых для обучения, оценки параметров и классификации."
      ]
    },
    {
      "cell_type": "code",
      "execution_count": 36,
      "metadata": {
        "id": "2lvAOr1HjVuP"
      },
      "outputs": [],
      "source": [
        "# Загрузка Naive Bayes Classifier\n",
        "from sklearn.naive_bayes import MultinomialNB\n",
        "from sklearn.pipeline import Pipeline\n",
        "from sklearn.feature_extraction.text import TfidfTransformer\n"
      ]
    },
    {
      "cell_type": "code",
      "execution_count": 36,
      "metadata": {
        "id": "6Vi3wLNCcir6"
      },
      "outputs": [],
      "source": [
        ""
      ]
    },
    {
      "cell_type": "code",
      "execution_count": 37,
      "metadata": {
        "id": "IYTu7_R0jaSV"
      },
      "outputs": [],
      "source": [
        "# Автоматизация предварительных преобразований данных перед обучением модели \n",
        "nb = Pipeline([('vect', CountVectorizer(ngram_range=(1, 1))),\n",
        "               ('tfidf', TfidfTransformer()),\n",
        "               ('clf', MultinomialNB()), # Классификатор Naive Bayes для мультиномиальных моделей\n",
        "              ])"
      ]
    },
    {
      "cell_type": "code",
      "execution_count": 38,
      "metadata": {
        "colab": {
          "base_uri": "https://localhost:8080/"
        },
        "id": "K87QflcZjdia",
        "outputId": "efdaaee3-be78-44f3-eaaa-7907643288b3"
      },
      "outputs": [
        {
          "output_type": "stream",
          "name": "stdout",
          "text": [
            "CPU times: user 112 ms, sys: 3.01 ms, total: 115 ms\n",
            "Wall time: 121 ms\n"
          ]
        },
        {
          "output_type": "execute_result",
          "data": {
            "text/plain": [
              "Pipeline(steps=[('vect', CountVectorizer()), ('tfidf', TfidfTransformer()),\n",
              "                ('clf', MultinomialNB())])"
            ]
          },
          "metadata": {},
          "execution_count": 38
        }
      ],
      "source": [
        "%%time\n",
        "nb.fit(X_train, y_train)   # Обучение модели"
      ]
    },
    {
      "cell_type": "code",
      "execution_count": 39,
      "metadata": {
        "colab": {
          "base_uri": "https://localhost:8080/"
        },
        "id": "1iPQqhoejsKq",
        "outputId": "2ef38ed2-30be-4c42-8b34-1f9f03f5f1e3"
      },
      "outputs": [
        {
          "output_type": "stream",
          "name": "stdout",
          "text": [
            "CPU times: user 31.1 ms, sys: 6 µs, total: 31.1 ms\n",
            "Wall time: 31.2 ms\n"
          ]
        }
      ],
      "source": [
        "%%time\n",
        "from sklearn.metrics import classification_report\n",
        "y_pred = nb.predict(X_valid)  # Предсказание на валидационных данных"
      ]
    },
    {
      "cell_type": "code",
      "execution_count": 40,
      "metadata": {
        "colab": {
          "base_uri": "https://localhost:8080/"
        },
        "id": "vbLiVrurlWE3",
        "outputId": "027ce4cc-d055-4e64-d10a-9f6ee9fa8aa5"
      },
      "outputs": [
        {
          "output_type": "stream",
          "name": "stdout",
          "text": [
            "accuracy 0.7633333333333333\n"
          ]
        }
      ],
      "source": [
        "# Оценка точности классификации\n",
        "from sklearn.metrics import accuracy_score\n",
        "print('accuracy %s' % accuracy_score(y_pred, y_valid))"
      ]
    },
    {
      "cell_type": "code",
      "execution_count": 41,
      "metadata": {
        "colab": {
          "base_uri": "https://localhost:8080/"
        },
        "id": "j7l_upucNY4I",
        "outputId": "3ce0f159-6bac-483f-973b-3dabf9fe5c22"
      },
      "outputs": [
        {
          "output_type": "stream",
          "name": "stdout",
          "text": [
            "              precision    recall  f1-score   support\n",
            "\n",
            "           0       0.97      0.90      0.93       153\n",
            "           1       0.00      0.00      0.00         2\n",
            "           2       0.00      0.00      0.00         2\n",
            "           3       0.67      1.00      0.80       283\n",
            "           4       1.00      0.29      0.45        31\n",
            "           5       0.00      0.00      0.00         4\n",
            "           7       0.00      0.00      0.00         7\n",
            "           8       1.00      0.49      0.65        37\n",
            "           9       0.00      0.00      0.00         1\n",
            "          10       1.00      0.23      0.38        13\n",
            "          11       0.00      0.00      0.00         8\n",
            "          12       0.00      0.00      0.00         1\n",
            "          13       0.00      0.00      0.00         6\n",
            "          14       0.00      0.00      0.00         1\n",
            "          15       0.00      0.00      0.00         2\n",
            "          16       1.00      0.16      0.28        49\n",
            "\n",
            "    accuracy                           0.76       600\n",
            "   macro avg       0.35      0.19      0.22       600\n",
            "weighted avg       0.78      0.76      0.71       600\n",
            "\n"
          ]
        },
        {
          "output_type": "stream",
          "name": "stderr",
          "text": [
            "/usr/local/lib/python3.7/dist-packages/sklearn/metrics/_classification.py:1318: UndefinedMetricWarning: Precision and F-score are ill-defined and being set to 0.0 in labels with no predicted samples. Use `zero_division` parameter to control this behavior.\n",
            "  _warn_prf(average, modifier, msg_start, len(result))\n",
            "/usr/local/lib/python3.7/dist-packages/sklearn/metrics/_classification.py:1318: UndefinedMetricWarning: Precision and F-score are ill-defined and being set to 0.0 in labels with no predicted samples. Use `zero_division` parameter to control this behavior.\n",
            "  _warn_prf(average, modifier, msg_start, len(result))\n",
            "/usr/local/lib/python3.7/dist-packages/sklearn/metrics/_classification.py:1318: UndefinedMetricWarning: Precision and F-score are ill-defined and being set to 0.0 in labels with no predicted samples. Use `zero_division` parameter to control this behavior.\n",
            "  _warn_prf(average, modifier, msg_start, len(result))\n"
          ]
        }
      ],
      "source": [
        "print(classification_report(y_valid, y_pred))"
      ]
    },
    {
      "cell_type": "markdown",
      "metadata": {
        "id": "lGuCMxGcpAag"
      },
      "source": [
        "# Логистическая регрессия (Logistic Regression)\n",
        "\n",
        "Cтатистическая модель, используемая для прогнозирования вероятности возникновения некоторого события путём его сравнения с логистической кривой"
      ]
    },
    {
      "cell_type": "code",
      "execution_count": 42,
      "metadata": {
        "id": "7EQvKHSEpBi4"
      },
      "outputs": [],
      "source": [
        "# Загрузка логистической регрессии\n",
        "from sklearn.linear_model import LogisticRegression\n",
        "\n",
        "logreg = Pipeline([('vect', CountVectorizer(ngram_range=(1, 1))),\n",
        "                ('tfidf', TfidfTransformer()),\n",
        "                ('clf', LogisticRegression(n_jobs=1, C=1e5)),\n",
        "               ])"
      ]
    },
    {
      "cell_type": "code",
      "execution_count": 43,
      "metadata": {
        "colab": {
          "base_uri": "https://localhost:8080/"
        },
        "id": "OUB0a_JepF6U",
        "outputId": "b4d64f4e-122f-4042-bc46-ca09b6fec392"
      },
      "outputs": [
        {
          "output_type": "stream",
          "name": "stdout",
          "text": [
            "CPU times: user 2.93 s, sys: 2.97 s, total: 5.9 s\n",
            "Wall time: 3.43 s\n"
          ]
        },
        {
          "output_type": "execute_result",
          "data": {
            "text/plain": [
              "Pipeline(steps=[('vect', CountVectorizer()), ('tfidf', TfidfTransformer()),\n",
              "                ('clf', LogisticRegression(C=100000.0, n_jobs=1))])"
            ]
          },
          "metadata": {},
          "execution_count": 43
        }
      ],
      "source": [
        "%%time\n",
        "logreg.fit(X_train, y_train) # Обучение модели"
      ]
    },
    {
      "cell_type": "code",
      "execution_count": 44,
      "metadata": {
        "colab": {
          "base_uri": "https://localhost:8080/"
        },
        "id": "zTYq-b6lpjfb",
        "outputId": "bcbef82e-d4f3-435d-c509-75bde62d6f2b"
      },
      "outputs": [
        {
          "output_type": "stream",
          "name": "stdout",
          "text": [
            "CPU times: user 57.4 ms, sys: 84.9 ms, total: 142 ms\n",
            "Wall time: 75.1 ms\n"
          ]
        }
      ],
      "source": [
        "%%time\n",
        "y_pred = logreg.predict(X_valid)   # Предсказание на тестовых данных"
      ]
    },
    {
      "cell_type": "code",
      "execution_count": 45,
      "metadata": {
        "colab": {
          "base_uri": "https://localhost:8080/"
        },
        "id": "63DSzU_FqGsj",
        "outputId": "0dc22a3b-2fce-48c1-ec6e-068bcdde7aa5"
      },
      "outputs": [
        {
          "output_type": "stream",
          "name": "stdout",
          "text": [
            "accuracy 0.945\n",
            "              precision    recall  f1-score   support\n",
            "\n",
            "           0       0.99      0.98      0.98       153\n",
            "           1       0.50      0.50      0.50         2\n",
            "           2       0.00      0.00      0.00         2\n",
            "           3       0.92      1.00      0.95       283\n",
            "           4       0.94      0.97      0.95        31\n",
            "           5       0.67      0.50      0.57         4\n",
            "           7       1.00      1.00      1.00         7\n",
            "           8       1.00      1.00      1.00        37\n",
            "           9       0.00      0.00      0.00         1\n",
            "          10       1.00      0.92      0.96        13\n",
            "          11       1.00      0.38      0.55         8\n",
            "          12       0.00      0.00      0.00         1\n",
            "          13       1.00      0.33      0.50         6\n",
            "          14       0.00      0.00      0.00         1\n",
            "          15       0.00      0.00      0.00         2\n",
            "          16       1.00      0.84      0.91        49\n",
            "\n",
            "    accuracy                           0.94       600\n",
            "   macro avg       0.63      0.53      0.55       600\n",
            "weighted avg       0.94      0.94      0.94       600\n",
            "\n"
          ]
        },
        {
          "output_type": "stream",
          "name": "stderr",
          "text": [
            "/usr/local/lib/python3.7/dist-packages/sklearn/metrics/_classification.py:1318: UndefinedMetricWarning: Precision and F-score are ill-defined and being set to 0.0 in labels with no predicted samples. Use `zero_division` parameter to control this behavior.\n",
            "  _warn_prf(average, modifier, msg_start, len(result))\n",
            "/usr/local/lib/python3.7/dist-packages/sklearn/metrics/_classification.py:1318: UndefinedMetricWarning: Precision and F-score are ill-defined and being set to 0.0 in labels with no predicted samples. Use `zero_division` parameter to control this behavior.\n",
            "  _warn_prf(average, modifier, msg_start, len(result))\n",
            "/usr/local/lib/python3.7/dist-packages/sklearn/metrics/_classification.py:1318: UndefinedMetricWarning: Precision and F-score are ill-defined and being set to 0.0 in labels with no predicted samples. Use `zero_division` parameter to control this behavior.\n",
            "  _warn_prf(average, modifier, msg_start, len(result))\n"
          ]
        }
      ],
      "source": [
        "# Оценка точности классификации\n",
        "print('accuracy %s' % accuracy_score(y_pred, y_valid))\n",
        "print(classification_report(y_valid, y_pred))"
      ]
    },
    {
      "cell_type": "markdown",
      "metadata": {
        "id": "PG4chKjN4Guq"
      },
      "source": [
        "# Логистическая регрессия с подбором параметров"
      ]
    },
    {
      "cell_type": "code",
      "execution_count": 46,
      "metadata": {
        "id": "71fX21954YRq",
        "colab": {
          "base_uri": "https://localhost:8080/"
        },
        "outputId": "2fa0ec4d-f90d-499e-e703-277512c0970f"
      },
      "outputs": [
        {
          "output_type": "stream",
          "name": "stderr",
          "text": [
            "/usr/local/lib/python3.7/dist-packages/sklearn/model_selection/_split.py:680: UserWarning: The least populated class in y has only 1 members, which is less than n_splits=5.\n",
            "  UserWarning,\n",
            "/usr/local/lib/python3.7/dist-packages/sklearn/linear_model/_logistic.py:811: RuntimeWarning: divide by zero encountered in double_scalars\n",
            "  args=(X, target, 1.0 / C, sample_weight),\n",
            "/usr/local/lib/python3.7/dist-packages/sklearn/linear_model/_logistic.py:301: RuntimeWarning: invalid value encountered in double_scalars\n",
            "  loss += 0.5 * alpha * squared_norm(w)\n",
            "/usr/local/lib/python3.7/dist-packages/sklearn/linear_model/_logistic.py:352: RuntimeWarning: invalid value encountered in multiply\n",
            "  grad[:, :n_features] += alpha * w\n",
            "/usr/local/lib/python3.7/dist-packages/sklearn/linear_model/_logistic.py:818: ConvergenceWarning: lbfgs failed to converge (status=2):\n",
            "ABNORMAL_TERMINATION_IN_LNSRCH.\n",
            "\n",
            "Increase the number of iterations (max_iter) or scale the data as shown in:\n",
            "    https://scikit-learn.org/stable/modules/preprocessing.html\n",
            "Please also refer to the documentation for alternative solver options:\n",
            "    https://scikit-learn.org/stable/modules/linear_model.html#logistic-regression\n",
            "  extra_warning_msg=_LOGISTIC_SOLVER_CONVERGENCE_MSG,\n",
            "/usr/local/lib/python3.7/dist-packages/sklearn/linear_model/_logistic.py:811: RuntimeWarning: divide by zero encountered in double_scalars\n",
            "  args=(X, target, 1.0 / C, sample_weight),\n",
            "/usr/local/lib/python3.7/dist-packages/sklearn/linear_model/_logistic.py:301: RuntimeWarning: invalid value encountered in double_scalars\n",
            "  loss += 0.5 * alpha * squared_norm(w)\n",
            "/usr/local/lib/python3.7/dist-packages/sklearn/linear_model/_logistic.py:352: RuntimeWarning: invalid value encountered in multiply\n",
            "  grad[:, :n_features] += alpha * w\n",
            "/usr/local/lib/python3.7/dist-packages/sklearn/linear_model/_logistic.py:818: ConvergenceWarning: lbfgs failed to converge (status=2):\n",
            "ABNORMAL_TERMINATION_IN_LNSRCH.\n",
            "\n",
            "Increase the number of iterations (max_iter) or scale the data as shown in:\n",
            "    https://scikit-learn.org/stable/modules/preprocessing.html\n",
            "Please also refer to the documentation for alternative solver options:\n",
            "    https://scikit-learn.org/stable/modules/linear_model.html#logistic-regression\n",
            "  extra_warning_msg=_LOGISTIC_SOLVER_CONVERGENCE_MSG,\n",
            "/usr/local/lib/python3.7/dist-packages/sklearn/linear_model/_logistic.py:811: RuntimeWarning: divide by zero encountered in double_scalars\n",
            "  args=(X, target, 1.0 / C, sample_weight),\n",
            "/usr/local/lib/python3.7/dist-packages/sklearn/linear_model/_logistic.py:301: RuntimeWarning: invalid value encountered in double_scalars\n",
            "  loss += 0.5 * alpha * squared_norm(w)\n",
            "/usr/local/lib/python3.7/dist-packages/sklearn/linear_model/_logistic.py:352: RuntimeWarning: invalid value encountered in multiply\n",
            "  grad[:, :n_features] += alpha * w\n",
            "/usr/local/lib/python3.7/dist-packages/sklearn/linear_model/_logistic.py:818: ConvergenceWarning: lbfgs failed to converge (status=2):\n",
            "ABNORMAL_TERMINATION_IN_LNSRCH.\n",
            "\n",
            "Increase the number of iterations (max_iter) or scale the data as shown in:\n",
            "    https://scikit-learn.org/stable/modules/preprocessing.html\n",
            "Please also refer to the documentation for alternative solver options:\n",
            "    https://scikit-learn.org/stable/modules/linear_model.html#logistic-regression\n",
            "  extra_warning_msg=_LOGISTIC_SOLVER_CONVERGENCE_MSG,\n",
            "/usr/local/lib/python3.7/dist-packages/sklearn/linear_model/_logistic.py:811: RuntimeWarning: divide by zero encountered in double_scalars\n",
            "  args=(X, target, 1.0 / C, sample_weight),\n",
            "/usr/local/lib/python3.7/dist-packages/sklearn/linear_model/_logistic.py:301: RuntimeWarning: invalid value encountered in double_scalars\n",
            "  loss += 0.5 * alpha * squared_norm(w)\n",
            "/usr/local/lib/python3.7/dist-packages/sklearn/linear_model/_logistic.py:352: RuntimeWarning: invalid value encountered in multiply\n",
            "  grad[:, :n_features] += alpha * w\n",
            "/usr/local/lib/python3.7/dist-packages/sklearn/linear_model/_logistic.py:818: ConvergenceWarning: lbfgs failed to converge (status=2):\n",
            "ABNORMAL_TERMINATION_IN_LNSRCH.\n",
            "\n",
            "Increase the number of iterations (max_iter) or scale the data as shown in:\n",
            "    https://scikit-learn.org/stable/modules/preprocessing.html\n",
            "Please also refer to the documentation for alternative solver options:\n",
            "    https://scikit-learn.org/stable/modules/linear_model.html#logistic-regression\n",
            "  extra_warning_msg=_LOGISTIC_SOLVER_CONVERGENCE_MSG,\n",
            "/usr/local/lib/python3.7/dist-packages/sklearn/linear_model/_logistic.py:811: RuntimeWarning: divide by zero encountered in double_scalars\n",
            "  args=(X, target, 1.0 / C, sample_weight),\n",
            "/usr/local/lib/python3.7/dist-packages/sklearn/linear_model/_logistic.py:301: RuntimeWarning: invalid value encountered in double_scalars\n",
            "  loss += 0.5 * alpha * squared_norm(w)\n",
            "/usr/local/lib/python3.7/dist-packages/sklearn/linear_model/_logistic.py:352: RuntimeWarning: invalid value encountered in multiply\n",
            "  grad[:, :n_features] += alpha * w\n",
            "/usr/local/lib/python3.7/dist-packages/sklearn/linear_model/_logistic.py:818: ConvergenceWarning: lbfgs failed to converge (status=2):\n",
            "ABNORMAL_TERMINATION_IN_LNSRCH.\n",
            "\n",
            "Increase the number of iterations (max_iter) or scale the data as shown in:\n",
            "    https://scikit-learn.org/stable/modules/preprocessing.html\n",
            "Please also refer to the documentation for alternative solver options:\n",
            "    https://scikit-learn.org/stable/modules/linear_model.html#logistic-regression\n",
            "  extra_warning_msg=_LOGISTIC_SOLVER_CONVERGENCE_MSG,\n",
            "/usr/local/lib/python3.7/dist-packages/sklearn/model_selection/_validation.py:372: FitFailedWarning: \n",
            "5 fits failed out of a total of 510.\n",
            "The score on these train-test partitions for these parameters will be set to nan.\n",
            "If these failures are not expected, you can try to debug them by setting error_score='raise'.\n",
            "\n",
            "Below are more details about the failures:\n",
            "--------------------------------------------------------------------------------\n",
            "5 fits failed with the following error:\n",
            "Traceback (most recent call last):\n",
            "  File \"/usr/local/lib/python3.7/dist-packages/sklearn/model_selection/_validation.py\", line 680, in _fit_and_score\n",
            "    estimator.fit(X_train, y_train, **fit_params)\n",
            "  File \"/usr/local/lib/python3.7/dist-packages/sklearn/pipeline.py\", line 394, in fit\n",
            "    self._final_estimator.fit(Xt, y, **fit_params_last_step)\n",
            "  File \"/usr/local/lib/python3.7/dist-packages/sklearn/linear_model/_logistic.py\", line 1541, in fit\n",
            "    sample_weight=sample_weight,\n",
            "  File \"/usr/local/lib/python3.7/dist-packages/sklearn/svm/_base.py\", line 1198, in _fit_liblinear\n",
            "    sample_weight,\n",
            "  File \"sklearn/svm/_liblinear.pyx\", line 52, in sklearn.svm._liblinear.train_wrap\n",
            "ValueError: b'C <= 0'\n",
            "\n",
            "  warnings.warn(some_fits_failed_message, FitFailedWarning)\n",
            "/usr/local/lib/python3.7/dist-packages/sklearn/model_selection/_search.py:972: UserWarning: One or more of the test scores are non-finite: [0.23214286        nan 0.885      0.90642857 0.92       0.92714286\n",
            " 0.93       0.93857143 0.93785714 0.94357143 0.93928571 0.94285714\n",
            " 0.94142857 0.94357143 0.94285714 0.945      0.945      0.94571429\n",
            " 0.94642857 0.94642857 0.94785714 0.94714286 0.94785714 0.94785714\n",
            " 0.95       0.94857143 0.95142857 0.94857143 0.95214286 0.94928571\n",
            " 0.95214286 0.94928571 0.95285714 0.95071429 0.95285714 0.95142857\n",
            " 0.95357143 0.95142857 0.95357143 0.95142857 0.95357143 0.95142857\n",
            " 0.95285714 0.95142857 0.95285714 0.95142857 0.95285714 0.95142857\n",
            " 0.95285714 0.95142857 0.95285714 0.95142857 0.95285714 0.95142857\n",
            " 0.95285714 0.95142857 0.95357143 0.95142857 0.95357143 0.95142857\n",
            " 0.95357143 0.95142857 0.95357143 0.95214286 0.95357143 0.95214286\n",
            " 0.95357143 0.95285714 0.95357143 0.95285714 0.95357143 0.95285714\n",
            " 0.95357143 0.95285714 0.955      0.95285714 0.955      0.95285714\n",
            " 0.955      0.95285714 0.955      0.95285714 0.955      0.95285714\n",
            " 0.955      0.95285714 0.955      0.95357143 0.955      0.95357143\n",
            " 0.95428571 0.95357143 0.95428571 0.95357143 0.955      0.95357143\n",
            " 0.955      0.95357143 0.955      0.95357143 0.955      0.95357143]\n",
            "  category=UserWarning,\n"
          ]
        },
        {
          "output_type": "stream",
          "name": "stdout",
          "text": [
            "accuracy 0.95\n",
            "              precision    recall  f1-score   support\n",
            "\n",
            "           0       0.99      0.97      0.98       153\n",
            "           1       0.50      0.50      0.50         2\n",
            "           2       0.00      0.00      0.00         2\n",
            "           3       0.94      1.00      0.97       283\n",
            "           4       0.94      0.97      0.95        31\n",
            "           5       0.67      0.50      0.57         4\n",
            "           7       1.00      1.00      1.00         7\n",
            "           8       0.93      1.00      0.96        37\n",
            "           9       0.00      0.00      0.00         1\n",
            "          10       1.00      1.00      1.00        13\n",
            "          11       1.00      0.38      0.55         8\n",
            "          12       0.00      0.00      0.00         1\n",
            "          13       1.00      0.50      0.67         6\n",
            "          14       1.00      1.00      1.00         1\n",
            "          15       1.00      0.50      0.67         2\n",
            "          16       0.98      0.86      0.91        49\n",
            "\n",
            "    accuracy                           0.95       600\n",
            "   macro avg       0.75      0.64      0.67       600\n",
            "weighted avg       0.95      0.95      0.94       600\n",
            "\n"
          ]
        },
        {
          "output_type": "stream",
          "name": "stderr",
          "text": [
            "/usr/local/lib/python3.7/dist-packages/sklearn/metrics/_classification.py:1318: UndefinedMetricWarning: Precision and F-score are ill-defined and being set to 0.0 in labels with no predicted samples. Use `zero_division` parameter to control this behavior.\n",
            "  _warn_prf(average, modifier, msg_start, len(result))\n",
            "/usr/local/lib/python3.7/dist-packages/sklearn/metrics/_classification.py:1318: UndefinedMetricWarning: Precision and F-score are ill-defined and being set to 0.0 in labels with no predicted samples. Use `zero_division` parameter to control this behavior.\n",
            "  _warn_prf(average, modifier, msg_start, len(result))\n",
            "/usr/local/lib/python3.7/dist-packages/sklearn/metrics/_classification.py:1318: UndefinedMetricWarning: Precision and F-score are ill-defined and being set to 0.0 in labels with no predicted samples. Use `zero_division` parameter to control this behavior.\n",
            "  _warn_prf(average, modifier, msg_start, len(result))\n"
          ]
        }
      ],
      "source": [
        "from sklearn.model_selection import cross_val_score, GridSearchCV\n",
        "import numpy as np\n",
        "logreg = Pipeline([('vect', CountVectorizer(ngram_range=(1, 1))),\n",
        "                ('tfidf', TfidfTransformer()),\n",
        "                ('logistic_Reg', LogisticRegression()),\n",
        "               ])\n",
        "\n",
        "solver = ['lbfgs', 'liblinear']\n",
        "#C = [0.1, 0.3, 5, 10]\n",
        "C = np.linspace(0,10,51)\n",
        "class_weight = ['balanced']\n",
        "penalty = ['l1', 'l2']\n",
        "\n",
        "parameters = dict(logistic_Reg__C=C,\n",
        "                  logistic_Reg__solver=solver,\n",
        "                  logistic_Reg__class_weight=class_weight)\n",
        "\n",
        "clf_GS = GridSearchCV(logreg, parameters)\n",
        "clf_GS.fit(X_train, y_train)\n",
        "clf_GS.best_estimator_\n",
        "y_pred = clf_GS.predict(X_valid) # Предсказание на тестовых данных\n",
        "print('accuracy %s' % accuracy_score(y_pred, y_valid))\n",
        "print(classification_report(y_valid, y_pred))"
      ]
    },
    {
      "cell_type": "markdown",
      "source": [
        "# RIDGE с подбором"
      ],
      "metadata": {
        "id": "3x-Kqw3nlp7Y"
      }
    },
    {
      "cell_type": "code",
      "source": [
        "from sklearn.linear_model import LogisticRegression, SGDClassifier, RidgeClassifier\n"
      ],
      "metadata": {
        "id": "Nh8kx4UDl6XP"
      },
      "execution_count": 47,
      "outputs": []
    },
    {
      "cell_type": "code",
      "source": [
        "import numpy as np\n",
        "ridge = Pipeline([('vect', CountVectorizer(ngram_range=(1, 1))),\n",
        "                ('tfidf', TfidfTransformer()),\n",
        "                ('ridge', RidgeClassifier()),\n",
        "               ])\n",
        "\n",
        "solver = ['auto', 'cholesky', 'lsqr', 'sparse_cg', 'sag']\n",
        "alpha = [0.01, 0.05, 0.1, 0.2, 0.3, 0.5]\n",
        "class_weight = ['balanced']\n",
        "\n",
        "parameters = dict(ridge__solver=solver,\n",
        "                  ridge__alpha=alpha,\n",
        "                  ridge__class_weight=class_weight)\n",
        "\n",
        "clf_rd = GridSearchCV(ridge, parameters)\n",
        "clf_rd.fit(X_train, y_train)\n",
        "clf_rd.best_estimator_\n",
        "y_pred = clf_rd.predict(X_valid) # Предсказание на тестовых данных\n",
        "print('accuracy %s' % accuracy_score(y_pred, y_valid))\n",
        "print(classification_report(y_valid, y_pred))"
      ],
      "metadata": {
        "colab": {
          "base_uri": "https://localhost:8080/"
        },
        "id": "erm9LWrTluSV",
        "outputId": "77d9ef77-6b8c-4bca-e998-10a4d01a4f04"
      },
      "execution_count": 48,
      "outputs": [
        {
          "output_type": "stream",
          "name": "stderr",
          "text": [
            "/usr/local/lib/python3.7/dist-packages/sklearn/model_selection/_split.py:680: UserWarning: The least populated class in y has only 1 members, which is less than n_splits=5.\n",
            "  UserWarning,\n",
            "/usr/local/lib/python3.7/dist-packages/sklearn/linear_model/_ridge.py:730: UserWarning: \"sag\" solver requires many iterations to fit an intercept with sparse inputs. Either set the solver to \"auto\" or \"sparse_cg\", or set a low \"tol\" and a high \"max_iter\" (especially if inputs are not standardized).\n",
            "  '\"sag\" solver requires many iterations to fit '\n",
            "/usr/local/lib/python3.7/dist-packages/sklearn/linear_model/_ridge.py:730: UserWarning: \"sag\" solver requires many iterations to fit an intercept with sparse inputs. Either set the solver to \"auto\" or \"sparse_cg\", or set a low \"tol\" and a high \"max_iter\" (especially if inputs are not standardized).\n",
            "  '\"sag\" solver requires many iterations to fit '\n",
            "/usr/local/lib/python3.7/dist-packages/sklearn/linear_model/_ridge.py:730: UserWarning: \"sag\" solver requires many iterations to fit an intercept with sparse inputs. Either set the solver to \"auto\" or \"sparse_cg\", or set a low \"tol\" and a high \"max_iter\" (especially if inputs are not standardized).\n",
            "  '\"sag\" solver requires many iterations to fit '\n",
            "/usr/local/lib/python3.7/dist-packages/sklearn/linear_model/_ridge.py:730: UserWarning: \"sag\" solver requires many iterations to fit an intercept with sparse inputs. Either set the solver to \"auto\" or \"sparse_cg\", or set a low \"tol\" and a high \"max_iter\" (especially if inputs are not standardized).\n",
            "  '\"sag\" solver requires many iterations to fit '\n",
            "/usr/local/lib/python3.7/dist-packages/sklearn/linear_model/_ridge.py:730: UserWarning: \"sag\" solver requires many iterations to fit an intercept with sparse inputs. Either set the solver to \"auto\" or \"sparse_cg\", or set a low \"tol\" and a high \"max_iter\" (especially if inputs are not standardized).\n",
            "  '\"sag\" solver requires many iterations to fit '\n",
            "/usr/local/lib/python3.7/dist-packages/sklearn/linear_model/_ridge.py:730: UserWarning: \"sag\" solver requires many iterations to fit an intercept with sparse inputs. Either set the solver to \"auto\" or \"sparse_cg\", or set a low \"tol\" and a high \"max_iter\" (especially if inputs are not standardized).\n",
            "  '\"sag\" solver requires many iterations to fit '\n",
            "/usr/local/lib/python3.7/dist-packages/sklearn/linear_model/_ridge.py:730: UserWarning: \"sag\" solver requires many iterations to fit an intercept with sparse inputs. Either set the solver to \"auto\" or \"sparse_cg\", or set a low \"tol\" and a high \"max_iter\" (especially if inputs are not standardized).\n",
            "  '\"sag\" solver requires many iterations to fit '\n",
            "/usr/local/lib/python3.7/dist-packages/sklearn/linear_model/_ridge.py:730: UserWarning: \"sag\" solver requires many iterations to fit an intercept with sparse inputs. Either set the solver to \"auto\" or \"sparse_cg\", or set a low \"tol\" and a high \"max_iter\" (especially if inputs are not standardized).\n",
            "  '\"sag\" solver requires many iterations to fit '\n",
            "/usr/local/lib/python3.7/dist-packages/sklearn/linear_model/_ridge.py:730: UserWarning: \"sag\" solver requires many iterations to fit an intercept with sparse inputs. Either set the solver to \"auto\" or \"sparse_cg\", or set a low \"tol\" and a high \"max_iter\" (especially if inputs are not standardized).\n",
            "  '\"sag\" solver requires many iterations to fit '\n",
            "/usr/local/lib/python3.7/dist-packages/sklearn/linear_model/_ridge.py:730: UserWarning: \"sag\" solver requires many iterations to fit an intercept with sparse inputs. Either set the solver to \"auto\" or \"sparse_cg\", or set a low \"tol\" and a high \"max_iter\" (especially if inputs are not standardized).\n",
            "  '\"sag\" solver requires many iterations to fit '\n",
            "/usr/local/lib/python3.7/dist-packages/sklearn/linear_model/_ridge.py:730: UserWarning: \"sag\" solver requires many iterations to fit an intercept with sparse inputs. Either set the solver to \"auto\" or \"sparse_cg\", or set a low \"tol\" and a high \"max_iter\" (especially if inputs are not standardized).\n",
            "  '\"sag\" solver requires many iterations to fit '\n",
            "/usr/local/lib/python3.7/dist-packages/sklearn/linear_model/_ridge.py:730: UserWarning: \"sag\" solver requires many iterations to fit an intercept with sparse inputs. Either set the solver to \"auto\" or \"sparse_cg\", or set a low \"tol\" and a high \"max_iter\" (especially if inputs are not standardized).\n",
            "  '\"sag\" solver requires many iterations to fit '\n",
            "/usr/local/lib/python3.7/dist-packages/sklearn/linear_model/_ridge.py:730: UserWarning: \"sag\" solver requires many iterations to fit an intercept with sparse inputs. Either set the solver to \"auto\" or \"sparse_cg\", or set a low \"tol\" and a high \"max_iter\" (especially if inputs are not standardized).\n",
            "  '\"sag\" solver requires many iterations to fit '\n",
            "/usr/local/lib/python3.7/dist-packages/sklearn/linear_model/_ridge.py:730: UserWarning: \"sag\" solver requires many iterations to fit an intercept with sparse inputs. Either set the solver to \"auto\" or \"sparse_cg\", or set a low \"tol\" and a high \"max_iter\" (especially if inputs are not standardized).\n",
            "  '\"sag\" solver requires many iterations to fit '\n",
            "/usr/local/lib/python3.7/dist-packages/sklearn/linear_model/_ridge.py:730: UserWarning: \"sag\" solver requires many iterations to fit an intercept with sparse inputs. Either set the solver to \"auto\" or \"sparse_cg\", or set a low \"tol\" and a high \"max_iter\" (especially if inputs are not standardized).\n",
            "  '\"sag\" solver requires many iterations to fit '\n",
            "/usr/local/lib/python3.7/dist-packages/sklearn/linear_model/_ridge.py:730: UserWarning: \"sag\" solver requires many iterations to fit an intercept with sparse inputs. Either set the solver to \"auto\" or \"sparse_cg\", or set a low \"tol\" and a high \"max_iter\" (especially if inputs are not standardized).\n",
            "  '\"sag\" solver requires many iterations to fit '\n",
            "/usr/local/lib/python3.7/dist-packages/sklearn/linear_model/_ridge.py:730: UserWarning: \"sag\" solver requires many iterations to fit an intercept with sparse inputs. Either set the solver to \"auto\" or \"sparse_cg\", or set a low \"tol\" and a high \"max_iter\" (especially if inputs are not standardized).\n",
            "  '\"sag\" solver requires many iterations to fit '\n",
            "/usr/local/lib/python3.7/dist-packages/sklearn/linear_model/_ridge.py:730: UserWarning: \"sag\" solver requires many iterations to fit an intercept with sparse inputs. Either set the solver to \"auto\" or \"sparse_cg\", or set a low \"tol\" and a high \"max_iter\" (especially if inputs are not standardized).\n",
            "  '\"sag\" solver requires many iterations to fit '\n",
            "/usr/local/lib/python3.7/dist-packages/sklearn/linear_model/_ridge.py:730: UserWarning: \"sag\" solver requires many iterations to fit an intercept with sparse inputs. Either set the solver to \"auto\" or \"sparse_cg\", or set a low \"tol\" and a high \"max_iter\" (especially if inputs are not standardized).\n",
            "  '\"sag\" solver requires many iterations to fit '\n",
            "/usr/local/lib/python3.7/dist-packages/sklearn/linear_model/_ridge.py:730: UserWarning: \"sag\" solver requires many iterations to fit an intercept with sparse inputs. Either set the solver to \"auto\" or \"sparse_cg\", or set a low \"tol\" and a high \"max_iter\" (especially if inputs are not standardized).\n",
            "  '\"sag\" solver requires many iterations to fit '\n",
            "/usr/local/lib/python3.7/dist-packages/sklearn/linear_model/_ridge.py:730: UserWarning: \"sag\" solver requires many iterations to fit an intercept with sparse inputs. Either set the solver to \"auto\" or \"sparse_cg\", or set a low \"tol\" and a high \"max_iter\" (especially if inputs are not standardized).\n",
            "  '\"sag\" solver requires many iterations to fit '\n",
            "/usr/local/lib/python3.7/dist-packages/sklearn/linear_model/_ridge.py:730: UserWarning: \"sag\" solver requires many iterations to fit an intercept with sparse inputs. Either set the solver to \"auto\" or \"sparse_cg\", or set a low \"tol\" and a high \"max_iter\" (especially if inputs are not standardized).\n",
            "  '\"sag\" solver requires many iterations to fit '\n",
            "/usr/local/lib/python3.7/dist-packages/sklearn/linear_model/_ridge.py:730: UserWarning: \"sag\" solver requires many iterations to fit an intercept with sparse inputs. Either set the solver to \"auto\" or \"sparse_cg\", or set a low \"tol\" and a high \"max_iter\" (especially if inputs are not standardized).\n",
            "  '\"sag\" solver requires many iterations to fit '\n",
            "/usr/local/lib/python3.7/dist-packages/sklearn/linear_model/_ridge.py:730: UserWarning: \"sag\" solver requires many iterations to fit an intercept with sparse inputs. Either set the solver to \"auto\" or \"sparse_cg\", or set a low \"tol\" and a high \"max_iter\" (especially if inputs are not standardized).\n",
            "  '\"sag\" solver requires many iterations to fit '\n",
            "/usr/local/lib/python3.7/dist-packages/sklearn/linear_model/_ridge.py:730: UserWarning: \"sag\" solver requires many iterations to fit an intercept with sparse inputs. Either set the solver to \"auto\" or \"sparse_cg\", or set a low \"tol\" and a high \"max_iter\" (especially if inputs are not standardized).\n",
            "  '\"sag\" solver requires many iterations to fit '\n",
            "/usr/local/lib/python3.7/dist-packages/sklearn/linear_model/_ridge.py:730: UserWarning: \"sag\" solver requires many iterations to fit an intercept with sparse inputs. Either set the solver to \"auto\" or \"sparse_cg\", or set a low \"tol\" and a high \"max_iter\" (especially if inputs are not standardized).\n",
            "  '\"sag\" solver requires many iterations to fit '\n",
            "/usr/local/lib/python3.7/dist-packages/sklearn/linear_model/_ridge.py:730: UserWarning: \"sag\" solver requires many iterations to fit an intercept with sparse inputs. Either set the solver to \"auto\" or \"sparse_cg\", or set a low \"tol\" and a high \"max_iter\" (especially if inputs are not standardized).\n",
            "  '\"sag\" solver requires many iterations to fit '\n",
            "/usr/local/lib/python3.7/dist-packages/sklearn/linear_model/_ridge.py:730: UserWarning: \"sag\" solver requires many iterations to fit an intercept with sparse inputs. Either set the solver to \"auto\" or \"sparse_cg\", or set a low \"tol\" and a high \"max_iter\" (especially if inputs are not standardized).\n",
            "  '\"sag\" solver requires many iterations to fit '\n",
            "/usr/local/lib/python3.7/dist-packages/sklearn/linear_model/_ridge.py:730: UserWarning: \"sag\" solver requires many iterations to fit an intercept with sparse inputs. Either set the solver to \"auto\" or \"sparse_cg\", or set a low \"tol\" and a high \"max_iter\" (especially if inputs are not standardized).\n",
            "  '\"sag\" solver requires many iterations to fit '\n",
            "/usr/local/lib/python3.7/dist-packages/sklearn/linear_model/_ridge.py:730: UserWarning: \"sag\" solver requires many iterations to fit an intercept with sparse inputs. Either set the solver to \"auto\" or \"sparse_cg\", or set a low \"tol\" and a high \"max_iter\" (especially if inputs are not standardized).\n",
            "  '\"sag\" solver requires many iterations to fit '\n",
            "/usr/local/lib/python3.7/dist-packages/sklearn/model_selection/_validation.py:372: FitFailedWarning: \n",
            "90 fits failed out of a total of 150.\n",
            "The score on these train-test partitions for these parameters will be set to nan.\n",
            "If these failures are not expected, you can try to debug them by setting error_score='raise'.\n",
            "\n",
            "Below are more details about the failures:\n",
            "--------------------------------------------------------------------------------\n",
            "30 fits failed with the following error:\n",
            "Traceback (most recent call last):\n",
            "  File \"/usr/local/lib/python3.7/dist-packages/sklearn/model_selection/_validation.py\", line 680, in _fit_and_score\n",
            "    estimator.fit(X_train, y_train, **fit_params)\n",
            "  File \"/usr/local/lib/python3.7/dist-packages/sklearn/pipeline.py\", line 394, in fit\n",
            "    self._final_estimator.fit(Xt, y, **fit_params_last_step)\n",
            "  File \"/usr/local/lib/python3.7/dist-packages/sklearn/linear_model/_ridge.py\", line 1302, in fit\n",
            "    super().fit(X, Y, sample_weight=sample_weight)\n",
            "  File \"/usr/local/lib/python3.7/dist-packages/sklearn/linear_model/_ridge.py\", line 724, in fit\n",
            "    \"or set `fit_intercept=False`\".format(self.solver)\n",
            "ValueError: solver='cholesky' does not support fitting the intercept on sparse data. Please set the solver to 'auto' or 'sparse_cg', 'sag', 'lbfgs' or set `fit_intercept=False`\n",
            "\n",
            "--------------------------------------------------------------------------------\n",
            "30 fits failed with the following error:\n",
            "Traceback (most recent call last):\n",
            "  File \"/usr/local/lib/python3.7/dist-packages/sklearn/model_selection/_validation.py\", line 680, in _fit_and_score\n",
            "    estimator.fit(X_train, y_train, **fit_params)\n",
            "  File \"/usr/local/lib/python3.7/dist-packages/sklearn/pipeline.py\", line 394, in fit\n",
            "    self._final_estimator.fit(Xt, y, **fit_params_last_step)\n",
            "  File \"/usr/local/lib/python3.7/dist-packages/sklearn/linear_model/_ridge.py\", line 1302, in fit\n",
            "    super().fit(X, Y, sample_weight=sample_weight)\n",
            "  File \"/usr/local/lib/python3.7/dist-packages/sklearn/linear_model/_ridge.py\", line 724, in fit\n",
            "    \"or set `fit_intercept=False`\".format(self.solver)\n",
            "ValueError: solver='lsqr' does not support fitting the intercept on sparse data. Please set the solver to 'auto' or 'sparse_cg', 'sag', 'lbfgs' or set `fit_intercept=False`\n",
            "\n",
            "--------------------------------------------------------------------------------\n",
            "1 fits failed with the following error:\n",
            "Traceback (most recent call last):\n",
            "  File \"/usr/local/lib/python3.7/dist-packages/sklearn/model_selection/_validation.py\", line 680, in _fit_and_score\n",
            "    estimator.fit(X_train, y_train, **fit_params)\n",
            "  File \"/usr/local/lib/python3.7/dist-packages/sklearn/pipeline.py\", line 394, in fit\n",
            "    self._final_estimator.fit(Xt, y, **fit_params_last_step)\n",
            "  File \"/usr/local/lib/python3.7/dist-packages/sklearn/linear_model/_ridge.py\", line 1302, in fit\n",
            "    super().fit(X, Y, sample_weight=sample_weight)\n",
            "  File \"/usr/local/lib/python3.7/dist-packages/sklearn/linear_model/_ridge.py\", line 769, in fit\n",
            "    check_input=False,\n",
            "  File \"/usr/local/lib/python3.7/dist-packages/sklearn/linear_model/_ridge.py\", line 629, in _ridge_regression\n",
            "    is_saga=solver == \"saga\",\n",
            "  File \"/usr/local/lib/python3.7/dist-packages/sklearn/linear_model/_sag.py\", line 348, in sag_solver\n",
            "    verbose,\n",
            "  File \"sklearn/linear_model/_sag_fast.pyx\", line 616, in sklearn.linear_model._sag_fast.sag64\n",
            "ValueError: Floating-point under-/overflow occurred at epoch #252. Scaling input data with StandardScaler or MinMaxScaler might help.\n",
            "\n",
            "--------------------------------------------------------------------------------\n",
            "2 fits failed with the following error:\n",
            "Traceback (most recent call last):\n",
            "  File \"/usr/local/lib/python3.7/dist-packages/sklearn/model_selection/_validation.py\", line 680, in _fit_and_score\n",
            "    estimator.fit(X_train, y_train, **fit_params)\n",
            "  File \"/usr/local/lib/python3.7/dist-packages/sklearn/pipeline.py\", line 394, in fit\n",
            "    self._final_estimator.fit(Xt, y, **fit_params_last_step)\n",
            "  File \"/usr/local/lib/python3.7/dist-packages/sklearn/linear_model/_ridge.py\", line 1302, in fit\n",
            "    super().fit(X, Y, sample_weight=sample_weight)\n",
            "  File \"/usr/local/lib/python3.7/dist-packages/sklearn/linear_model/_ridge.py\", line 769, in fit\n",
            "    check_input=False,\n",
            "  File \"/usr/local/lib/python3.7/dist-packages/sklearn/linear_model/_ridge.py\", line 629, in _ridge_regression\n",
            "    is_saga=solver == \"saga\",\n",
            "  File \"/usr/local/lib/python3.7/dist-packages/sklearn/linear_model/_sag.py\", line 348, in sag_solver\n",
            "    verbose,\n",
            "  File \"sklearn/linear_model/_sag_fast.pyx\", line 616, in sklearn.linear_model._sag_fast.sag64\n",
            "ValueError: Floating-point under-/overflow occurred at epoch #248. Scaling input data with StandardScaler or MinMaxScaler might help.\n",
            "\n",
            "--------------------------------------------------------------------------------\n",
            "3 fits failed with the following error:\n",
            "Traceback (most recent call last):\n",
            "  File \"/usr/local/lib/python3.7/dist-packages/sklearn/model_selection/_validation.py\", line 680, in _fit_and_score\n",
            "    estimator.fit(X_train, y_train, **fit_params)\n",
            "  File \"/usr/local/lib/python3.7/dist-packages/sklearn/pipeline.py\", line 394, in fit\n",
            "    self._final_estimator.fit(Xt, y, **fit_params_last_step)\n",
            "  File \"/usr/local/lib/python3.7/dist-packages/sklearn/linear_model/_ridge.py\", line 1302, in fit\n",
            "    super().fit(X, Y, sample_weight=sample_weight)\n",
            "  File \"/usr/local/lib/python3.7/dist-packages/sklearn/linear_model/_ridge.py\", line 769, in fit\n",
            "    check_input=False,\n",
            "  File \"/usr/local/lib/python3.7/dist-packages/sklearn/linear_model/_ridge.py\", line 629, in _ridge_regression\n",
            "    is_saga=solver == \"saga\",\n",
            "  File \"/usr/local/lib/python3.7/dist-packages/sklearn/linear_model/_sag.py\", line 348, in sag_solver\n",
            "    verbose,\n",
            "  File \"sklearn/linear_model/_sag_fast.pyx\", line 616, in sklearn.linear_model._sag_fast.sag64\n",
            "ValueError: Floating-point under-/overflow occurred at epoch #260. Scaling input data with StandardScaler or MinMaxScaler might help.\n",
            "\n",
            "--------------------------------------------------------------------------------\n",
            "1 fits failed with the following error:\n",
            "Traceback (most recent call last):\n",
            "  File \"/usr/local/lib/python3.7/dist-packages/sklearn/model_selection/_validation.py\", line 680, in _fit_and_score\n",
            "    estimator.fit(X_train, y_train, **fit_params)\n",
            "  File \"/usr/local/lib/python3.7/dist-packages/sklearn/pipeline.py\", line 394, in fit\n",
            "    self._final_estimator.fit(Xt, y, **fit_params_last_step)\n",
            "  File \"/usr/local/lib/python3.7/dist-packages/sklearn/linear_model/_ridge.py\", line 1302, in fit\n",
            "    super().fit(X, Y, sample_weight=sample_weight)\n",
            "  File \"/usr/local/lib/python3.7/dist-packages/sklearn/linear_model/_ridge.py\", line 769, in fit\n",
            "    check_input=False,\n",
            "  File \"/usr/local/lib/python3.7/dist-packages/sklearn/linear_model/_ridge.py\", line 629, in _ridge_regression\n",
            "    is_saga=solver == \"saga\",\n",
            "  File \"/usr/local/lib/python3.7/dist-packages/sklearn/linear_model/_sag.py\", line 348, in sag_solver\n",
            "    verbose,\n",
            "  File \"sklearn/linear_model/_sag_fast.pyx\", line 616, in sklearn.linear_model._sag_fast.sag64\n",
            "ValueError: Floating-point under-/overflow occurred at epoch #239. Scaling input data with StandardScaler or MinMaxScaler might help.\n",
            "\n",
            "--------------------------------------------------------------------------------\n",
            "1 fits failed with the following error:\n",
            "Traceback (most recent call last):\n",
            "  File \"/usr/local/lib/python3.7/dist-packages/sklearn/model_selection/_validation.py\", line 680, in _fit_and_score\n",
            "    estimator.fit(X_train, y_train, **fit_params)\n",
            "  File \"/usr/local/lib/python3.7/dist-packages/sklearn/pipeline.py\", line 394, in fit\n",
            "    self._final_estimator.fit(Xt, y, **fit_params_last_step)\n",
            "  File \"/usr/local/lib/python3.7/dist-packages/sklearn/linear_model/_ridge.py\", line 1302, in fit\n",
            "    super().fit(X, Y, sample_weight=sample_weight)\n",
            "  File \"/usr/local/lib/python3.7/dist-packages/sklearn/linear_model/_ridge.py\", line 769, in fit\n",
            "    check_input=False,\n",
            "  File \"/usr/local/lib/python3.7/dist-packages/sklearn/linear_model/_ridge.py\", line 629, in _ridge_regression\n",
            "    is_saga=solver == \"saga\",\n",
            "  File \"/usr/local/lib/python3.7/dist-packages/sklearn/linear_model/_sag.py\", line 348, in sag_solver\n",
            "    verbose,\n",
            "  File \"sklearn/linear_model/_sag_fast.pyx\", line 616, in sklearn.linear_model._sag_fast.sag64\n",
            "ValueError: Floating-point under-/overflow occurred at epoch #304. Scaling input data with StandardScaler or MinMaxScaler might help.\n",
            "\n",
            "--------------------------------------------------------------------------------\n",
            "1 fits failed with the following error:\n",
            "Traceback (most recent call last):\n",
            "  File \"/usr/local/lib/python3.7/dist-packages/sklearn/model_selection/_validation.py\", line 680, in _fit_and_score\n",
            "    estimator.fit(X_train, y_train, **fit_params)\n",
            "  File \"/usr/local/lib/python3.7/dist-packages/sklearn/pipeline.py\", line 394, in fit\n",
            "    self._final_estimator.fit(Xt, y, **fit_params_last_step)\n",
            "  File \"/usr/local/lib/python3.7/dist-packages/sklearn/linear_model/_ridge.py\", line 1302, in fit\n",
            "    super().fit(X, Y, sample_weight=sample_weight)\n",
            "  File \"/usr/local/lib/python3.7/dist-packages/sklearn/linear_model/_ridge.py\", line 769, in fit\n",
            "    check_input=False,\n",
            "  File \"/usr/local/lib/python3.7/dist-packages/sklearn/linear_model/_ridge.py\", line 629, in _ridge_regression\n",
            "    is_saga=solver == \"saga\",\n",
            "  File \"/usr/local/lib/python3.7/dist-packages/sklearn/linear_model/_sag.py\", line 348, in sag_solver\n",
            "    verbose,\n",
            "  File \"sklearn/linear_model/_sag_fast.pyx\", line 616, in sklearn.linear_model._sag_fast.sag64\n",
            "ValueError: Floating-point under-/overflow occurred at epoch #241. Scaling input data with StandardScaler or MinMaxScaler might help.\n",
            "\n",
            "--------------------------------------------------------------------------------\n",
            "2 fits failed with the following error:\n",
            "Traceback (most recent call last):\n",
            "  File \"/usr/local/lib/python3.7/dist-packages/sklearn/model_selection/_validation.py\", line 680, in _fit_and_score\n",
            "    estimator.fit(X_train, y_train, **fit_params)\n",
            "  File \"/usr/local/lib/python3.7/dist-packages/sklearn/pipeline.py\", line 394, in fit\n",
            "    self._final_estimator.fit(Xt, y, **fit_params_last_step)\n",
            "  File \"/usr/local/lib/python3.7/dist-packages/sklearn/linear_model/_ridge.py\", line 1302, in fit\n",
            "    super().fit(X, Y, sample_weight=sample_weight)\n",
            "  File \"/usr/local/lib/python3.7/dist-packages/sklearn/linear_model/_ridge.py\", line 769, in fit\n",
            "    check_input=False,\n",
            "  File \"/usr/local/lib/python3.7/dist-packages/sklearn/linear_model/_ridge.py\", line 629, in _ridge_regression\n",
            "    is_saga=solver == \"saga\",\n",
            "  File \"/usr/local/lib/python3.7/dist-packages/sklearn/linear_model/_sag.py\", line 348, in sag_solver\n",
            "    verbose,\n",
            "  File \"sklearn/linear_model/_sag_fast.pyx\", line 616, in sklearn.linear_model._sag_fast.sag64\n",
            "ValueError: Floating-point under-/overflow occurred at epoch #254. Scaling input data with StandardScaler or MinMaxScaler might help.\n",
            "\n",
            "--------------------------------------------------------------------------------\n",
            "2 fits failed with the following error:\n",
            "Traceback (most recent call last):\n",
            "  File \"/usr/local/lib/python3.7/dist-packages/sklearn/model_selection/_validation.py\", line 680, in _fit_and_score\n",
            "    estimator.fit(X_train, y_train, **fit_params)\n",
            "  File \"/usr/local/lib/python3.7/dist-packages/sklearn/pipeline.py\", line 394, in fit\n",
            "    self._final_estimator.fit(Xt, y, **fit_params_last_step)\n",
            "  File \"/usr/local/lib/python3.7/dist-packages/sklearn/linear_model/_ridge.py\", line 1302, in fit\n",
            "    super().fit(X, Y, sample_weight=sample_weight)\n",
            "  File \"/usr/local/lib/python3.7/dist-packages/sklearn/linear_model/_ridge.py\", line 769, in fit\n",
            "    check_input=False,\n",
            "  File \"/usr/local/lib/python3.7/dist-packages/sklearn/linear_model/_ridge.py\", line 629, in _ridge_regression\n",
            "    is_saga=solver == \"saga\",\n",
            "  File \"/usr/local/lib/python3.7/dist-packages/sklearn/linear_model/_sag.py\", line 348, in sag_solver\n",
            "    verbose,\n",
            "  File \"sklearn/linear_model/_sag_fast.pyx\", line 616, in sklearn.linear_model._sag_fast.sag64\n",
            "ValueError: Floating-point under-/overflow occurred at epoch #249. Scaling input data with StandardScaler or MinMaxScaler might help.\n",
            "\n",
            "--------------------------------------------------------------------------------\n",
            "1 fits failed with the following error:\n",
            "Traceback (most recent call last):\n",
            "  File \"/usr/local/lib/python3.7/dist-packages/sklearn/model_selection/_validation.py\", line 680, in _fit_and_score\n",
            "    estimator.fit(X_train, y_train, **fit_params)\n",
            "  File \"/usr/local/lib/python3.7/dist-packages/sklearn/pipeline.py\", line 394, in fit\n",
            "    self._final_estimator.fit(Xt, y, **fit_params_last_step)\n",
            "  File \"/usr/local/lib/python3.7/dist-packages/sklearn/linear_model/_ridge.py\", line 1302, in fit\n",
            "    super().fit(X, Y, sample_weight=sample_weight)\n",
            "  File \"/usr/local/lib/python3.7/dist-packages/sklearn/linear_model/_ridge.py\", line 769, in fit\n",
            "    check_input=False,\n",
            "  File \"/usr/local/lib/python3.7/dist-packages/sklearn/linear_model/_ridge.py\", line 629, in _ridge_regression\n",
            "    is_saga=solver == \"saga\",\n",
            "  File \"/usr/local/lib/python3.7/dist-packages/sklearn/linear_model/_sag.py\", line 348, in sag_solver\n",
            "    verbose,\n",
            "  File \"sklearn/linear_model/_sag_fast.pyx\", line 616, in sklearn.linear_model._sag_fast.sag64\n",
            "ValueError: Floating-point under-/overflow occurred at epoch #243. Scaling input data with StandardScaler or MinMaxScaler might help.\n",
            "\n",
            "--------------------------------------------------------------------------------\n",
            "1 fits failed with the following error:\n",
            "Traceback (most recent call last):\n",
            "  File \"/usr/local/lib/python3.7/dist-packages/sklearn/model_selection/_validation.py\", line 680, in _fit_and_score\n",
            "    estimator.fit(X_train, y_train, **fit_params)\n",
            "  File \"/usr/local/lib/python3.7/dist-packages/sklearn/pipeline.py\", line 394, in fit\n",
            "    self._final_estimator.fit(Xt, y, **fit_params_last_step)\n",
            "  File \"/usr/local/lib/python3.7/dist-packages/sklearn/linear_model/_ridge.py\", line 1302, in fit\n",
            "    super().fit(X, Y, sample_weight=sample_weight)\n",
            "  File \"/usr/local/lib/python3.7/dist-packages/sklearn/linear_model/_ridge.py\", line 769, in fit\n",
            "    check_input=False,\n",
            "  File \"/usr/local/lib/python3.7/dist-packages/sklearn/linear_model/_ridge.py\", line 629, in _ridge_regression\n",
            "    is_saga=solver == \"saga\",\n",
            "  File \"/usr/local/lib/python3.7/dist-packages/sklearn/linear_model/_sag.py\", line 348, in sag_solver\n",
            "    verbose,\n",
            "  File \"sklearn/linear_model/_sag_fast.pyx\", line 616, in sklearn.linear_model._sag_fast.sag64\n",
            "ValueError: Floating-point under-/overflow occurred at epoch #314. Scaling input data with StandardScaler or MinMaxScaler might help.\n",
            "\n",
            "--------------------------------------------------------------------------------\n",
            "1 fits failed with the following error:\n",
            "Traceback (most recent call last):\n",
            "  File \"/usr/local/lib/python3.7/dist-packages/sklearn/model_selection/_validation.py\", line 680, in _fit_and_score\n",
            "    estimator.fit(X_train, y_train, **fit_params)\n",
            "  File \"/usr/local/lib/python3.7/dist-packages/sklearn/pipeline.py\", line 394, in fit\n",
            "    self._final_estimator.fit(Xt, y, **fit_params_last_step)\n",
            "  File \"/usr/local/lib/python3.7/dist-packages/sklearn/linear_model/_ridge.py\", line 1302, in fit\n",
            "    super().fit(X, Y, sample_weight=sample_weight)\n",
            "  File \"/usr/local/lib/python3.7/dist-packages/sklearn/linear_model/_ridge.py\", line 769, in fit\n",
            "    check_input=False,\n",
            "  File \"/usr/local/lib/python3.7/dist-packages/sklearn/linear_model/_ridge.py\", line 629, in _ridge_regression\n",
            "    is_saga=solver == \"saga\",\n",
            "  File \"/usr/local/lib/python3.7/dist-packages/sklearn/linear_model/_sag.py\", line 348, in sag_solver\n",
            "    verbose,\n",
            "  File \"sklearn/linear_model/_sag_fast.pyx\", line 616, in sklearn.linear_model._sag_fast.sag64\n",
            "ValueError: Floating-point under-/overflow occurred at epoch #256. Scaling input data with StandardScaler or MinMaxScaler might help.\n",
            "\n",
            "--------------------------------------------------------------------------------\n",
            "1 fits failed with the following error:\n",
            "Traceback (most recent call last):\n",
            "  File \"/usr/local/lib/python3.7/dist-packages/sklearn/model_selection/_validation.py\", line 680, in _fit_and_score\n",
            "    estimator.fit(X_train, y_train, **fit_params)\n",
            "  File \"/usr/local/lib/python3.7/dist-packages/sklearn/pipeline.py\", line 394, in fit\n",
            "    self._final_estimator.fit(Xt, y, **fit_params_last_step)\n",
            "  File \"/usr/local/lib/python3.7/dist-packages/sklearn/linear_model/_ridge.py\", line 1302, in fit\n",
            "    super().fit(X, Y, sample_weight=sample_weight)\n",
            "  File \"/usr/local/lib/python3.7/dist-packages/sklearn/linear_model/_ridge.py\", line 769, in fit\n",
            "    check_input=False,\n",
            "  File \"/usr/local/lib/python3.7/dist-packages/sklearn/linear_model/_ridge.py\", line 629, in _ridge_regression\n",
            "    is_saga=solver == \"saga\",\n",
            "  File \"/usr/local/lib/python3.7/dist-packages/sklearn/linear_model/_sag.py\", line 348, in sag_solver\n",
            "    verbose,\n",
            "  File \"sklearn/linear_model/_sag_fast.pyx\", line 616, in sklearn.linear_model._sag_fast.sag64\n",
            "ValueError: Floating-point under-/overflow occurred at epoch #247. Scaling input data with StandardScaler or MinMaxScaler might help.\n",
            "\n",
            "--------------------------------------------------------------------------------\n",
            "1 fits failed with the following error:\n",
            "Traceback (most recent call last):\n",
            "  File \"/usr/local/lib/python3.7/dist-packages/sklearn/model_selection/_validation.py\", line 680, in _fit_and_score\n",
            "    estimator.fit(X_train, y_train, **fit_params)\n",
            "  File \"/usr/local/lib/python3.7/dist-packages/sklearn/pipeline.py\", line 394, in fit\n",
            "    self._final_estimator.fit(Xt, y, **fit_params_last_step)\n",
            "  File \"/usr/local/lib/python3.7/dist-packages/sklearn/linear_model/_ridge.py\", line 1302, in fit\n",
            "    super().fit(X, Y, sample_weight=sample_weight)\n",
            "  File \"/usr/local/lib/python3.7/dist-packages/sklearn/linear_model/_ridge.py\", line 769, in fit\n",
            "    check_input=False,\n",
            "  File \"/usr/local/lib/python3.7/dist-packages/sklearn/linear_model/_ridge.py\", line 629, in _ridge_regression\n",
            "    is_saga=solver == \"saga\",\n",
            "  File \"/usr/local/lib/python3.7/dist-packages/sklearn/linear_model/_sag.py\", line 348, in sag_solver\n",
            "    verbose,\n",
            "  File \"sklearn/linear_model/_sag_fast.pyx\", line 616, in sklearn.linear_model._sag_fast.sag64\n",
            "ValueError: Floating-point under-/overflow occurred at epoch #240. Scaling input data with StandardScaler or MinMaxScaler might help.\n",
            "\n",
            "--------------------------------------------------------------------------------\n",
            "1 fits failed with the following error:\n",
            "Traceback (most recent call last):\n",
            "  File \"/usr/local/lib/python3.7/dist-packages/sklearn/model_selection/_validation.py\", line 680, in _fit_and_score\n",
            "    estimator.fit(X_train, y_train, **fit_params)\n",
            "  File \"/usr/local/lib/python3.7/dist-packages/sklearn/pipeline.py\", line 394, in fit\n",
            "    self._final_estimator.fit(Xt, y, **fit_params_last_step)\n",
            "  File \"/usr/local/lib/python3.7/dist-packages/sklearn/linear_model/_ridge.py\", line 1302, in fit\n",
            "    super().fit(X, Y, sample_weight=sample_weight)\n",
            "  File \"/usr/local/lib/python3.7/dist-packages/sklearn/linear_model/_ridge.py\", line 769, in fit\n",
            "    check_input=False,\n",
            "  File \"/usr/local/lib/python3.7/dist-packages/sklearn/linear_model/_ridge.py\", line 629, in _ridge_regression\n",
            "    is_saga=solver == \"saga\",\n",
            "  File \"/usr/local/lib/python3.7/dist-packages/sklearn/linear_model/_sag.py\", line 348, in sag_solver\n",
            "    verbose,\n",
            "  File \"sklearn/linear_model/_sag_fast.pyx\", line 616, in sklearn.linear_model._sag_fast.sag64\n",
            "ValueError: Floating-point under-/overflow occurred at epoch #303. Scaling input data with StandardScaler or MinMaxScaler might help.\n",
            "\n",
            "--------------------------------------------------------------------------------\n",
            "1 fits failed with the following error:\n",
            "Traceback (most recent call last):\n",
            "  File \"/usr/local/lib/python3.7/dist-packages/sklearn/model_selection/_validation.py\", line 680, in _fit_and_score\n",
            "    estimator.fit(X_train, y_train, **fit_params)\n",
            "  File \"/usr/local/lib/python3.7/dist-packages/sklearn/pipeline.py\", line 394, in fit\n",
            "    self._final_estimator.fit(Xt, y, **fit_params_last_step)\n",
            "  File \"/usr/local/lib/python3.7/dist-packages/sklearn/linear_model/_ridge.py\", line 1302, in fit\n",
            "    super().fit(X, Y, sample_weight=sample_weight)\n",
            "  File \"/usr/local/lib/python3.7/dist-packages/sklearn/linear_model/_ridge.py\", line 769, in fit\n",
            "    check_input=False,\n",
            "  File \"/usr/local/lib/python3.7/dist-packages/sklearn/linear_model/_ridge.py\", line 629, in _ridge_regression\n",
            "    is_saga=solver == \"saga\",\n",
            "  File \"/usr/local/lib/python3.7/dist-packages/sklearn/linear_model/_sag.py\", line 348, in sag_solver\n",
            "    verbose,\n",
            "  File \"sklearn/linear_model/_sag_fast.pyx\", line 616, in sklearn.linear_model._sag_fast.sag64\n",
            "ValueError: Floating-point under-/overflow occurred at epoch #278. Scaling input data with StandardScaler or MinMaxScaler might help.\n",
            "\n",
            "--------------------------------------------------------------------------------\n",
            "1 fits failed with the following error:\n",
            "Traceback (most recent call last):\n",
            "  File \"/usr/local/lib/python3.7/dist-packages/sklearn/model_selection/_validation.py\", line 680, in _fit_and_score\n",
            "    estimator.fit(X_train, y_train, **fit_params)\n",
            "  File \"/usr/local/lib/python3.7/dist-packages/sklearn/pipeline.py\", line 394, in fit\n",
            "    self._final_estimator.fit(Xt, y, **fit_params_last_step)\n",
            "  File \"/usr/local/lib/python3.7/dist-packages/sklearn/linear_model/_ridge.py\", line 1302, in fit\n",
            "    super().fit(X, Y, sample_weight=sample_weight)\n",
            "  File \"/usr/local/lib/python3.7/dist-packages/sklearn/linear_model/_ridge.py\", line 769, in fit\n",
            "    check_input=False,\n",
            "  File \"/usr/local/lib/python3.7/dist-packages/sklearn/linear_model/_ridge.py\", line 629, in _ridge_regression\n",
            "    is_saga=solver == \"saga\",\n",
            "  File \"/usr/local/lib/python3.7/dist-packages/sklearn/linear_model/_sag.py\", line 348, in sag_solver\n",
            "    verbose,\n",
            "  File \"sklearn/linear_model/_sag_fast.pyx\", line 616, in sklearn.linear_model._sag_fast.sag64\n",
            "ValueError: Floating-point under-/overflow occurred at epoch #257. Scaling input data with StandardScaler or MinMaxScaler might help.\n",
            "\n",
            "--------------------------------------------------------------------------------\n",
            "1 fits failed with the following error:\n",
            "Traceback (most recent call last):\n",
            "  File \"/usr/local/lib/python3.7/dist-packages/sklearn/model_selection/_validation.py\", line 680, in _fit_and_score\n",
            "    estimator.fit(X_train, y_train, **fit_params)\n",
            "  File \"/usr/local/lib/python3.7/dist-packages/sklearn/pipeline.py\", line 394, in fit\n",
            "    self._final_estimator.fit(Xt, y, **fit_params_last_step)\n",
            "  File \"/usr/local/lib/python3.7/dist-packages/sklearn/linear_model/_ridge.py\", line 1302, in fit\n",
            "    super().fit(X, Y, sample_weight=sample_weight)\n",
            "  File \"/usr/local/lib/python3.7/dist-packages/sklearn/linear_model/_ridge.py\", line 769, in fit\n",
            "    check_input=False,\n",
            "  File \"/usr/local/lib/python3.7/dist-packages/sklearn/linear_model/_ridge.py\", line 629, in _ridge_regression\n",
            "    is_saga=solver == \"saga\",\n",
            "  File \"/usr/local/lib/python3.7/dist-packages/sklearn/linear_model/_sag.py\", line 348, in sag_solver\n",
            "    verbose,\n",
            "  File \"sklearn/linear_model/_sag_fast.pyx\", line 616, in sklearn.linear_model._sag_fast.sag64\n",
            "ValueError: Floating-point under-/overflow occurred at epoch #238. Scaling input data with StandardScaler or MinMaxScaler might help.\n",
            "\n",
            "--------------------------------------------------------------------------------\n",
            "1 fits failed with the following error:\n",
            "Traceback (most recent call last):\n",
            "  File \"/usr/local/lib/python3.7/dist-packages/sklearn/model_selection/_validation.py\", line 680, in _fit_and_score\n",
            "    estimator.fit(X_train, y_train, **fit_params)\n",
            "  File \"/usr/local/lib/python3.7/dist-packages/sklearn/pipeline.py\", line 394, in fit\n",
            "    self._final_estimator.fit(Xt, y, **fit_params_last_step)\n",
            "  File \"/usr/local/lib/python3.7/dist-packages/sklearn/linear_model/_ridge.py\", line 1302, in fit\n",
            "    super().fit(X, Y, sample_weight=sample_weight)\n",
            "  File \"/usr/local/lib/python3.7/dist-packages/sklearn/linear_model/_ridge.py\", line 769, in fit\n",
            "    check_input=False,\n",
            "  File \"/usr/local/lib/python3.7/dist-packages/sklearn/linear_model/_ridge.py\", line 629, in _ridge_regression\n",
            "    is_saga=solver == \"saga\",\n",
            "  File \"/usr/local/lib/python3.7/dist-packages/sklearn/linear_model/_sag.py\", line 348, in sag_solver\n",
            "    verbose,\n",
            "  File \"sklearn/linear_model/_sag_fast.pyx\", line 616, in sklearn.linear_model._sag_fast.sag64\n",
            "ValueError: Floating-point under-/overflow occurred at epoch #309. Scaling input data with StandardScaler or MinMaxScaler might help.\n",
            "\n",
            "--------------------------------------------------------------------------------\n",
            "1 fits failed with the following error:\n",
            "Traceback (most recent call last):\n",
            "  File \"/usr/local/lib/python3.7/dist-packages/sklearn/model_selection/_validation.py\", line 680, in _fit_and_score\n",
            "    estimator.fit(X_train, y_train, **fit_params)\n",
            "  File \"/usr/local/lib/python3.7/dist-packages/sklearn/pipeline.py\", line 394, in fit\n",
            "    self._final_estimator.fit(Xt, y, **fit_params_last_step)\n",
            "  File \"/usr/local/lib/python3.7/dist-packages/sklearn/linear_model/_ridge.py\", line 1302, in fit\n",
            "    super().fit(X, Y, sample_weight=sample_weight)\n",
            "  File \"/usr/local/lib/python3.7/dist-packages/sklearn/linear_model/_ridge.py\", line 769, in fit\n",
            "    check_input=False,\n",
            "  File \"/usr/local/lib/python3.7/dist-packages/sklearn/linear_model/_ridge.py\", line 629, in _ridge_regression\n",
            "    is_saga=solver == \"saga\",\n",
            "  File \"/usr/local/lib/python3.7/dist-packages/sklearn/linear_model/_sag.py\", line 348, in sag_solver\n",
            "    verbose,\n",
            "  File \"sklearn/linear_model/_sag_fast.pyx\", line 616, in sklearn.linear_model._sag_fast.sag64\n",
            "ValueError: Floating-point under-/overflow occurred at epoch #244. Scaling input data with StandardScaler or MinMaxScaler might help.\n",
            "\n",
            "--------------------------------------------------------------------------------\n",
            "2 fits failed with the following error:\n",
            "Traceback (most recent call last):\n",
            "  File \"/usr/local/lib/python3.7/dist-packages/sklearn/model_selection/_validation.py\", line 680, in _fit_and_score\n",
            "    estimator.fit(X_train, y_train, **fit_params)\n",
            "  File \"/usr/local/lib/python3.7/dist-packages/sklearn/pipeline.py\", line 394, in fit\n",
            "    self._final_estimator.fit(Xt, y, **fit_params_last_step)\n",
            "  File \"/usr/local/lib/python3.7/dist-packages/sklearn/linear_model/_ridge.py\", line 1302, in fit\n",
            "    super().fit(X, Y, sample_weight=sample_weight)\n",
            "  File \"/usr/local/lib/python3.7/dist-packages/sklearn/linear_model/_ridge.py\", line 769, in fit\n",
            "    check_input=False,\n",
            "  File \"/usr/local/lib/python3.7/dist-packages/sklearn/linear_model/_ridge.py\", line 629, in _ridge_regression\n",
            "    is_saga=solver == \"saga\",\n",
            "  File \"/usr/local/lib/python3.7/dist-packages/sklearn/linear_model/_sag.py\", line 348, in sag_solver\n",
            "    verbose,\n",
            "  File \"sklearn/linear_model/_sag_fast.pyx\", line 616, in sklearn.linear_model._sag_fast.sag64\n",
            "ValueError: Floating-point under-/overflow occurred at epoch #265. Scaling input data with StandardScaler or MinMaxScaler might help.\n",
            "\n",
            "--------------------------------------------------------------------------------\n",
            "1 fits failed with the following error:\n",
            "Traceback (most recent call last):\n",
            "  File \"/usr/local/lib/python3.7/dist-packages/sklearn/model_selection/_validation.py\", line 680, in _fit_and_score\n",
            "    estimator.fit(X_train, y_train, **fit_params)\n",
            "  File \"/usr/local/lib/python3.7/dist-packages/sklearn/pipeline.py\", line 394, in fit\n",
            "    self._final_estimator.fit(Xt, y, **fit_params_last_step)\n",
            "  File \"/usr/local/lib/python3.7/dist-packages/sklearn/linear_model/_ridge.py\", line 1302, in fit\n",
            "    super().fit(X, Y, sample_weight=sample_weight)\n",
            "  File \"/usr/local/lib/python3.7/dist-packages/sklearn/linear_model/_ridge.py\", line 769, in fit\n",
            "    check_input=False,\n",
            "  File \"/usr/local/lib/python3.7/dist-packages/sklearn/linear_model/_ridge.py\", line 629, in _ridge_regression\n",
            "    is_saga=solver == \"saga\",\n",
            "  File \"/usr/local/lib/python3.7/dist-packages/sklearn/linear_model/_sag.py\", line 348, in sag_solver\n",
            "    verbose,\n",
            "  File \"sklearn/linear_model/_sag_fast.pyx\", line 616, in sklearn.linear_model._sag_fast.sag64\n",
            "ValueError: Floating-point under-/overflow occurred at epoch #225. Scaling input data with StandardScaler or MinMaxScaler might help.\n",
            "\n",
            "--------------------------------------------------------------------------------\n",
            "1 fits failed with the following error:\n",
            "Traceback (most recent call last):\n",
            "  File \"/usr/local/lib/python3.7/dist-packages/sklearn/model_selection/_validation.py\", line 680, in _fit_and_score\n",
            "    estimator.fit(X_train, y_train, **fit_params)\n",
            "  File \"/usr/local/lib/python3.7/dist-packages/sklearn/pipeline.py\", line 394, in fit\n",
            "    self._final_estimator.fit(Xt, y, **fit_params_last_step)\n",
            "  File \"/usr/local/lib/python3.7/dist-packages/sklearn/linear_model/_ridge.py\", line 1302, in fit\n",
            "    super().fit(X, Y, sample_weight=sample_weight)\n",
            "  File \"/usr/local/lib/python3.7/dist-packages/sklearn/linear_model/_ridge.py\", line 769, in fit\n",
            "    check_input=False,\n",
            "  File \"/usr/local/lib/python3.7/dist-packages/sklearn/linear_model/_ridge.py\", line 629, in _ridge_regression\n",
            "    is_saga=solver == \"saga\",\n",
            "  File \"/usr/local/lib/python3.7/dist-packages/sklearn/linear_model/_sag.py\", line 348, in sag_solver\n",
            "    verbose,\n",
            "  File \"sklearn/linear_model/_sag_fast.pyx\", line 616, in sklearn.linear_model._sag_fast.sag64\n",
            "ValueError: Floating-point under-/overflow occurred at epoch #310. Scaling input data with StandardScaler or MinMaxScaler might help.\n",
            "\n",
            "--------------------------------------------------------------------------------\n",
            "1 fits failed with the following error:\n",
            "Traceback (most recent call last):\n",
            "  File \"/usr/local/lib/python3.7/dist-packages/sklearn/model_selection/_validation.py\", line 680, in _fit_and_score\n",
            "    estimator.fit(X_train, y_train, **fit_params)\n",
            "  File \"/usr/local/lib/python3.7/dist-packages/sklearn/pipeline.py\", line 394, in fit\n",
            "    self._final_estimator.fit(Xt, y, **fit_params_last_step)\n",
            "  File \"/usr/local/lib/python3.7/dist-packages/sklearn/linear_model/_ridge.py\", line 1302, in fit\n",
            "    super().fit(X, Y, sample_weight=sample_weight)\n",
            "  File \"/usr/local/lib/python3.7/dist-packages/sklearn/linear_model/_ridge.py\", line 769, in fit\n",
            "    check_input=False,\n",
            "  File \"/usr/local/lib/python3.7/dist-packages/sklearn/linear_model/_ridge.py\", line 629, in _ridge_regression\n",
            "    is_saga=solver == \"saga\",\n",
            "  File \"/usr/local/lib/python3.7/dist-packages/sklearn/linear_model/_sag.py\", line 348, in sag_solver\n",
            "    verbose,\n",
            "  File \"sklearn/linear_model/_sag_fast.pyx\", line 616, in sklearn.linear_model._sag_fast.sag64\n",
            "ValueError: Floating-point under-/overflow occurred at epoch #273. Scaling input data with StandardScaler or MinMaxScaler might help.\n",
            "\n",
            "--------------------------------------------------------------------------------\n",
            "1 fits failed with the following error:\n",
            "Traceback (most recent call last):\n",
            "  File \"/usr/local/lib/python3.7/dist-packages/sklearn/model_selection/_validation.py\", line 680, in _fit_and_score\n",
            "    estimator.fit(X_train, y_train, **fit_params)\n",
            "  File \"/usr/local/lib/python3.7/dist-packages/sklearn/pipeline.py\", line 394, in fit\n",
            "    self._final_estimator.fit(Xt, y, **fit_params_last_step)\n",
            "  File \"/usr/local/lib/python3.7/dist-packages/sklearn/linear_model/_ridge.py\", line 1302, in fit\n",
            "    super().fit(X, Y, sample_weight=sample_weight)\n",
            "  File \"/usr/local/lib/python3.7/dist-packages/sklearn/linear_model/_ridge.py\", line 769, in fit\n",
            "    check_input=False,\n",
            "  File \"/usr/local/lib/python3.7/dist-packages/sklearn/linear_model/_ridge.py\", line 629, in _ridge_regression\n",
            "    is_saga=solver == \"saga\",\n",
            "  File \"/usr/local/lib/python3.7/dist-packages/sklearn/linear_model/_sag.py\", line 348, in sag_solver\n",
            "    verbose,\n",
            "  File \"sklearn/linear_model/_sag_fast.pyx\", line 616, in sklearn.linear_model._sag_fast.sag64\n",
            "ValueError: Floating-point under-/overflow occurred at epoch #326. Scaling input data with StandardScaler or MinMaxScaler might help.\n",
            "\n",
            "  warnings.warn(some_fits_failed_message, FitFailedWarning)\n",
            "/usr/local/lib/python3.7/dist-packages/sklearn/model_selection/_search.py:972: UserWarning: One or more of the test scores are non-finite: [0.95214286        nan        nan 0.95214286        nan 0.96142857\n",
            "        nan        nan 0.96142857        nan 0.96142857        nan\n",
            "        nan 0.96142857        nan 0.95785714        nan        nan\n",
            " 0.95785714        nan 0.95428571        nan        nan 0.95428571\n",
            "        nan 0.94071429        nan        nan 0.94071429        nan]\n",
            "  category=UserWarning,\n"
          ]
        },
        {
          "output_type": "stream",
          "name": "stdout",
          "text": [
            "accuracy 0.9566666666666667\n",
            "              precision    recall  f1-score   support\n",
            "\n",
            "           0       0.96      0.98      0.97       153\n",
            "           1       0.50      0.50      0.50         2\n",
            "           2       0.00      0.00      0.00         2\n",
            "           3       0.96      0.99      0.97       283\n",
            "           4       0.97      0.97      0.97        31\n",
            "           5       0.67      0.50      0.57         4\n",
            "           7       0.88      1.00      0.93         7\n",
            "           8       0.95      1.00      0.97        37\n",
            "           9       0.00      0.00      0.00         1\n",
            "          10       1.00      0.92      0.96        13\n",
            "          11       1.00      0.50      0.67         8\n",
            "          12       0.00      0.00      0.00         1\n",
            "          13       1.00      1.00      1.00         6\n",
            "          14       1.00      1.00      1.00         1\n",
            "          15       1.00      0.50      0.67         2\n",
            "          16       0.98      0.90      0.94        49\n",
            "\n",
            "    accuracy                           0.96       600\n",
            "   macro avg       0.74      0.67      0.69       600\n",
            "weighted avg       0.95      0.96      0.95       600\n",
            "\n"
          ]
        },
        {
          "output_type": "stream",
          "name": "stderr",
          "text": [
            "/usr/local/lib/python3.7/dist-packages/sklearn/metrics/_classification.py:1318: UndefinedMetricWarning: Precision and F-score are ill-defined and being set to 0.0 in labels with no predicted samples. Use `zero_division` parameter to control this behavior.\n",
            "  _warn_prf(average, modifier, msg_start, len(result))\n",
            "/usr/local/lib/python3.7/dist-packages/sklearn/metrics/_classification.py:1318: UndefinedMetricWarning: Precision and F-score are ill-defined and being set to 0.0 in labels with no predicted samples. Use `zero_division` parameter to control this behavior.\n",
            "  _warn_prf(average, modifier, msg_start, len(result))\n",
            "/usr/local/lib/python3.7/dist-packages/sklearn/metrics/_classification.py:1318: UndefinedMetricWarning: Precision and F-score are ill-defined and being set to 0.0 in labels with no predicted samples. Use `zero_division` parameter to control this behavior.\n",
            "  _warn_prf(average, modifier, msg_start, len(result))\n"
          ]
        }
      ]
    },
    {
      "cell_type": "markdown",
      "metadata": {
        "id": "H8Qx722moPxY"
      },
      "source": [
        "# Метод опорных векторов (SVM)\n",
        "\n"
      ]
    },
    {
      "cell_type": "code",
      "source": [
        "from sklearn.model_selection import cross_val_score, GridSearchCV"
      ],
      "metadata": {
        "id": "aHS7fnrF5Gin"
      },
      "execution_count": 49,
      "outputs": []
    },
    {
      "cell_type": "code",
      "execution_count": 50,
      "metadata": {
        "id": "c485p62KoVck",
        "colab": {
          "base_uri": "https://localhost:8080/"
        },
        "outputId": "dfab3e0a-238b-4578-b192-6cee4bab6f73"
      },
      "outputs": [
        {
          "output_type": "stream",
          "name": "stderr",
          "text": [
            "/usr/local/lib/python3.7/dist-packages/sklearn/model_selection/_split.py:680: UserWarning: The least populated class in y has only 1 members, which is less than n_splits=5.\n",
            "  UserWarning,\n"
          ]
        },
        {
          "output_type": "stream",
          "name": "stdout",
          "text": [
            "accuracy 0.9666666666666667\n",
            "              precision    recall  f1-score   support\n",
            "\n",
            "           0       0.99      0.99      0.99       153\n",
            "           1       1.00      0.50      0.67         2\n",
            "           2       0.00      0.00      0.00         2\n",
            "           3       0.95      1.00      0.97       283\n",
            "           4       0.97      0.97      0.97        31\n",
            "           5       0.50      0.50      0.50         4\n",
            "           7       1.00      1.00      1.00         7\n",
            "           8       1.00      1.00      1.00        37\n",
            "           9       0.50      1.00      0.67         1\n",
            "          10       1.00      1.00      1.00        13\n",
            "          11       1.00      0.62      0.77         8\n",
            "          12       0.00      0.00      0.00         1\n",
            "          13       1.00      1.00      1.00         6\n",
            "          14       1.00      1.00      1.00         1\n",
            "          15       1.00      0.50      0.67         2\n",
            "          16       1.00      0.88      0.93        49\n",
            "\n",
            "    accuracy                           0.97       600\n",
            "   macro avg       0.81      0.75      0.76       600\n",
            "weighted avg       0.96      0.97      0.96       600\n",
            "\n"
          ]
        },
        {
          "output_type": "stream",
          "name": "stderr",
          "text": [
            "/usr/local/lib/python3.7/dist-packages/sklearn/metrics/_classification.py:1318: UndefinedMetricWarning: Precision and F-score are ill-defined and being set to 0.0 in labels with no predicted samples. Use `zero_division` parameter to control this behavior.\n",
            "  _warn_prf(average, modifier, msg_start, len(result))\n",
            "/usr/local/lib/python3.7/dist-packages/sklearn/metrics/_classification.py:1318: UndefinedMetricWarning: Precision and F-score are ill-defined and being set to 0.0 in labels with no predicted samples. Use `zero_division` parameter to control this behavior.\n",
            "  _warn_prf(average, modifier, msg_start, len(result))\n",
            "/usr/local/lib/python3.7/dist-packages/sklearn/metrics/_classification.py:1318: UndefinedMetricWarning: Precision and F-score are ill-defined and being set to 0.0 in labels with no predicted samples. Use `zero_division` parameter to control this behavior.\n",
            "  _warn_prf(average, modifier, msg_start, len(result))\n"
          ]
        }
      ],
      "source": [
        "# Загрузка SVM\n",
        "from sklearn.linear_model import SGDClassifier\n",
        "\n",
        "sgd = Pipeline([('vect', CountVectorizer(ngram_range=(1, 1))),\n",
        "                ('tfidf', TfidfTransformer()),\n",
        "                ('sgd', SGDClassifier()),\n",
        "               ])\n",
        "loss = ['hinge', 'log', 'modified_huber']\n",
        "learning_rate = ['constant', 'optimal', 'invscaling', 'adaptive']\n",
        "eta0 = [0.01, 0.03, 0.05, 0.1, 0.2, 0.3, 0.5]\n",
        "class_weight = ['balanced']\n",
        "\n",
        "\n",
        "\n",
        "parameters = dict(sgd__loss=loss,\n",
        "                  sgd__learning_rate=learning_rate,\n",
        "                  sgd__eta0 = eta0,\n",
        "                  sgd__class_weight=class_weight)\n",
        "\n",
        "clf_sgd = GridSearchCV(sgd, parameters)\n",
        "clf_sgd.fit(X_train, y_train)\n",
        "clf_sgd.best_estimator_\n",
        "y_pred = clf_sgd.predict(X_valid) # Предсказание на тестовых данных\n",
        "print('accuracy %s' % accuracy_score(y_pred, y_valid))\n",
        "print(classification_report(y_valid, y_pred))"
      ]
    },
    {
      "cell_type": "code",
      "source": [
        "clf_sgd.best_estimator_"
      ],
      "metadata": {
        "colab": {
          "base_uri": "https://localhost:8080/"
        },
        "id": "ExWA9d_fyYTw",
        "outputId": "384fce8a-26e2-4b20-cb09-4e11e3807a73"
      },
      "execution_count": 51,
      "outputs": [
        {
          "output_type": "execute_result",
          "data": {
            "text/plain": [
              "Pipeline(steps=[('vect', CountVectorizer()), ('tfidf', TfidfTransformer()),\n",
              "                ('sgd',\n",
              "                 SGDClassifier(class_weight='balanced', eta0=0.3,\n",
              "                               learning_rate='constant'))])"
            ]
          },
          "metadata": {},
          "execution_count": 51
        }
      ]
    },
    {
      "cell_type": "code",
      "source": [
        "ridge = Pipeline([('vect', CountVectorizer(ngram_range=(1, 1))),\n",
        "                ('tfidf', TfidfTransformer()),\n",
        "                ('ridge', RidgeClassifier()),\n",
        "               ])\n",
        "\n",
        "solver = ['auto', 'cholesky', 'lsqr', 'sparse_cg', 'sag']\n",
        "alpha = [0.01, 0.05, 0.1, 0.2, 0.3, 0.5]\n",
        "class_weight = ['balanced']\n",
        "\n",
        "parameters = dict(ridge__solver=solver,\n",
        "                  ridge__alpha=alpha,\n",
        "                  ridge__class_weight=class_weight)\n",
        "\n",
        "clf_rd = GridSearchCV(ridge, parameters)\n",
        "clf_rd.fit(X_train, y_train)\n",
        "clf_rd.best_estimator_\n",
        "y_pred = clf_rd.predict(X_valid) # Предсказание на тестовых данных\n",
        "print('accuracy %s' % accuracy_score(y_pred, y_valid))\n",
        "print(classification_report(y_valid, y_pred))"
      ],
      "metadata": {
        "id": "3CIhabILo8dJ",
        "colab": {
          "base_uri": "https://localhost:8080/"
        },
        "outputId": "9af6340b-6ad5-456c-abb0-f0fc6ba64de0"
      },
      "execution_count": 52,
      "outputs": [
        {
          "output_type": "stream",
          "name": "stderr",
          "text": [
            "/usr/local/lib/python3.7/dist-packages/sklearn/model_selection/_split.py:680: UserWarning: The least populated class in y has only 1 members, which is less than n_splits=5.\n",
            "  UserWarning,\n",
            "/usr/local/lib/python3.7/dist-packages/sklearn/linear_model/_ridge.py:730: UserWarning: \"sag\" solver requires many iterations to fit an intercept with sparse inputs. Either set the solver to \"auto\" or \"sparse_cg\", or set a low \"tol\" and a high \"max_iter\" (especially if inputs are not standardized).\n",
            "  '\"sag\" solver requires many iterations to fit '\n",
            "/usr/local/lib/python3.7/dist-packages/sklearn/linear_model/_ridge.py:730: UserWarning: \"sag\" solver requires many iterations to fit an intercept with sparse inputs. Either set the solver to \"auto\" or \"sparse_cg\", or set a low \"tol\" and a high \"max_iter\" (especially if inputs are not standardized).\n",
            "  '\"sag\" solver requires many iterations to fit '\n",
            "/usr/local/lib/python3.7/dist-packages/sklearn/linear_model/_ridge.py:730: UserWarning: \"sag\" solver requires many iterations to fit an intercept with sparse inputs. Either set the solver to \"auto\" or \"sparse_cg\", or set a low \"tol\" and a high \"max_iter\" (especially if inputs are not standardized).\n",
            "  '\"sag\" solver requires many iterations to fit '\n",
            "/usr/local/lib/python3.7/dist-packages/sklearn/linear_model/_ridge.py:730: UserWarning: \"sag\" solver requires many iterations to fit an intercept with sparse inputs. Either set the solver to \"auto\" or \"sparse_cg\", or set a low \"tol\" and a high \"max_iter\" (especially if inputs are not standardized).\n",
            "  '\"sag\" solver requires many iterations to fit '\n",
            "/usr/local/lib/python3.7/dist-packages/sklearn/linear_model/_ridge.py:730: UserWarning: \"sag\" solver requires many iterations to fit an intercept with sparse inputs. Either set the solver to \"auto\" or \"sparse_cg\", or set a low \"tol\" and a high \"max_iter\" (especially if inputs are not standardized).\n",
            "  '\"sag\" solver requires many iterations to fit '\n",
            "/usr/local/lib/python3.7/dist-packages/sklearn/linear_model/_ridge.py:730: UserWarning: \"sag\" solver requires many iterations to fit an intercept with sparse inputs. Either set the solver to \"auto\" or \"sparse_cg\", or set a low \"tol\" and a high \"max_iter\" (especially if inputs are not standardized).\n",
            "  '\"sag\" solver requires many iterations to fit '\n",
            "/usr/local/lib/python3.7/dist-packages/sklearn/linear_model/_ridge.py:730: UserWarning: \"sag\" solver requires many iterations to fit an intercept with sparse inputs. Either set the solver to \"auto\" or \"sparse_cg\", or set a low \"tol\" and a high \"max_iter\" (especially if inputs are not standardized).\n",
            "  '\"sag\" solver requires many iterations to fit '\n",
            "/usr/local/lib/python3.7/dist-packages/sklearn/linear_model/_ridge.py:730: UserWarning: \"sag\" solver requires many iterations to fit an intercept with sparse inputs. Either set the solver to \"auto\" or \"sparse_cg\", or set a low \"tol\" and a high \"max_iter\" (especially if inputs are not standardized).\n",
            "  '\"sag\" solver requires many iterations to fit '\n",
            "/usr/local/lib/python3.7/dist-packages/sklearn/linear_model/_ridge.py:730: UserWarning: \"sag\" solver requires many iterations to fit an intercept with sparse inputs. Either set the solver to \"auto\" or \"sparse_cg\", or set a low \"tol\" and a high \"max_iter\" (especially if inputs are not standardized).\n",
            "  '\"sag\" solver requires many iterations to fit '\n",
            "/usr/local/lib/python3.7/dist-packages/sklearn/linear_model/_ridge.py:730: UserWarning: \"sag\" solver requires many iterations to fit an intercept with sparse inputs. Either set the solver to \"auto\" or \"sparse_cg\", or set a low \"tol\" and a high \"max_iter\" (especially if inputs are not standardized).\n",
            "  '\"sag\" solver requires many iterations to fit '\n",
            "/usr/local/lib/python3.7/dist-packages/sklearn/linear_model/_ridge.py:730: UserWarning: \"sag\" solver requires many iterations to fit an intercept with sparse inputs. Either set the solver to \"auto\" or \"sparse_cg\", or set a low \"tol\" and a high \"max_iter\" (especially if inputs are not standardized).\n",
            "  '\"sag\" solver requires many iterations to fit '\n",
            "/usr/local/lib/python3.7/dist-packages/sklearn/linear_model/_ridge.py:730: UserWarning: \"sag\" solver requires many iterations to fit an intercept with sparse inputs. Either set the solver to \"auto\" or \"sparse_cg\", or set a low \"tol\" and a high \"max_iter\" (especially if inputs are not standardized).\n",
            "  '\"sag\" solver requires many iterations to fit '\n",
            "/usr/local/lib/python3.7/dist-packages/sklearn/linear_model/_ridge.py:730: UserWarning: \"sag\" solver requires many iterations to fit an intercept with sparse inputs. Either set the solver to \"auto\" or \"sparse_cg\", or set a low \"tol\" and a high \"max_iter\" (especially if inputs are not standardized).\n",
            "  '\"sag\" solver requires many iterations to fit '\n",
            "/usr/local/lib/python3.7/dist-packages/sklearn/linear_model/_ridge.py:730: UserWarning: \"sag\" solver requires many iterations to fit an intercept with sparse inputs. Either set the solver to \"auto\" or \"sparse_cg\", or set a low \"tol\" and a high \"max_iter\" (especially if inputs are not standardized).\n",
            "  '\"sag\" solver requires many iterations to fit '\n",
            "/usr/local/lib/python3.7/dist-packages/sklearn/linear_model/_ridge.py:730: UserWarning: \"sag\" solver requires many iterations to fit an intercept with sparse inputs. Either set the solver to \"auto\" or \"sparse_cg\", or set a low \"tol\" and a high \"max_iter\" (especially if inputs are not standardized).\n",
            "  '\"sag\" solver requires many iterations to fit '\n",
            "/usr/local/lib/python3.7/dist-packages/sklearn/linear_model/_ridge.py:730: UserWarning: \"sag\" solver requires many iterations to fit an intercept with sparse inputs. Either set the solver to \"auto\" or \"sparse_cg\", or set a low \"tol\" and a high \"max_iter\" (especially if inputs are not standardized).\n",
            "  '\"sag\" solver requires many iterations to fit '\n",
            "/usr/local/lib/python3.7/dist-packages/sklearn/linear_model/_ridge.py:730: UserWarning: \"sag\" solver requires many iterations to fit an intercept with sparse inputs. Either set the solver to \"auto\" or \"sparse_cg\", or set a low \"tol\" and a high \"max_iter\" (especially if inputs are not standardized).\n",
            "  '\"sag\" solver requires many iterations to fit '\n",
            "/usr/local/lib/python3.7/dist-packages/sklearn/linear_model/_ridge.py:730: UserWarning: \"sag\" solver requires many iterations to fit an intercept with sparse inputs. Either set the solver to \"auto\" or \"sparse_cg\", or set a low \"tol\" and a high \"max_iter\" (especially if inputs are not standardized).\n",
            "  '\"sag\" solver requires many iterations to fit '\n",
            "/usr/local/lib/python3.7/dist-packages/sklearn/linear_model/_ridge.py:730: UserWarning: \"sag\" solver requires many iterations to fit an intercept with sparse inputs. Either set the solver to \"auto\" or \"sparse_cg\", or set a low \"tol\" and a high \"max_iter\" (especially if inputs are not standardized).\n",
            "  '\"sag\" solver requires many iterations to fit '\n",
            "/usr/local/lib/python3.7/dist-packages/sklearn/linear_model/_ridge.py:730: UserWarning: \"sag\" solver requires many iterations to fit an intercept with sparse inputs. Either set the solver to \"auto\" or \"sparse_cg\", or set a low \"tol\" and a high \"max_iter\" (especially if inputs are not standardized).\n",
            "  '\"sag\" solver requires many iterations to fit '\n",
            "/usr/local/lib/python3.7/dist-packages/sklearn/linear_model/_ridge.py:730: UserWarning: \"sag\" solver requires many iterations to fit an intercept with sparse inputs. Either set the solver to \"auto\" or \"sparse_cg\", or set a low \"tol\" and a high \"max_iter\" (especially if inputs are not standardized).\n",
            "  '\"sag\" solver requires many iterations to fit '\n",
            "/usr/local/lib/python3.7/dist-packages/sklearn/linear_model/_ridge.py:730: UserWarning: \"sag\" solver requires many iterations to fit an intercept with sparse inputs. Either set the solver to \"auto\" or \"sparse_cg\", or set a low \"tol\" and a high \"max_iter\" (especially if inputs are not standardized).\n",
            "  '\"sag\" solver requires many iterations to fit '\n",
            "/usr/local/lib/python3.7/dist-packages/sklearn/linear_model/_ridge.py:730: UserWarning: \"sag\" solver requires many iterations to fit an intercept with sparse inputs. Either set the solver to \"auto\" or \"sparse_cg\", or set a low \"tol\" and a high \"max_iter\" (especially if inputs are not standardized).\n",
            "  '\"sag\" solver requires many iterations to fit '\n",
            "/usr/local/lib/python3.7/dist-packages/sklearn/linear_model/_ridge.py:730: UserWarning: \"sag\" solver requires many iterations to fit an intercept with sparse inputs. Either set the solver to \"auto\" or \"sparse_cg\", or set a low \"tol\" and a high \"max_iter\" (especially if inputs are not standardized).\n",
            "  '\"sag\" solver requires many iterations to fit '\n",
            "/usr/local/lib/python3.7/dist-packages/sklearn/linear_model/_ridge.py:730: UserWarning: \"sag\" solver requires many iterations to fit an intercept with sparse inputs. Either set the solver to \"auto\" or \"sparse_cg\", or set a low \"tol\" and a high \"max_iter\" (especially if inputs are not standardized).\n",
            "  '\"sag\" solver requires many iterations to fit '\n",
            "/usr/local/lib/python3.7/dist-packages/sklearn/linear_model/_ridge.py:730: UserWarning: \"sag\" solver requires many iterations to fit an intercept with sparse inputs. Either set the solver to \"auto\" or \"sparse_cg\", or set a low \"tol\" and a high \"max_iter\" (especially if inputs are not standardized).\n",
            "  '\"sag\" solver requires many iterations to fit '\n",
            "/usr/local/lib/python3.7/dist-packages/sklearn/linear_model/_ridge.py:730: UserWarning: \"sag\" solver requires many iterations to fit an intercept with sparse inputs. Either set the solver to \"auto\" or \"sparse_cg\", or set a low \"tol\" and a high \"max_iter\" (especially if inputs are not standardized).\n",
            "  '\"sag\" solver requires many iterations to fit '\n",
            "/usr/local/lib/python3.7/dist-packages/sklearn/linear_model/_ridge.py:730: UserWarning: \"sag\" solver requires many iterations to fit an intercept with sparse inputs. Either set the solver to \"auto\" or \"sparse_cg\", or set a low \"tol\" and a high \"max_iter\" (especially if inputs are not standardized).\n",
            "  '\"sag\" solver requires many iterations to fit '\n",
            "/usr/local/lib/python3.7/dist-packages/sklearn/linear_model/_ridge.py:730: UserWarning: \"sag\" solver requires many iterations to fit an intercept with sparse inputs. Either set the solver to \"auto\" or \"sparse_cg\", or set a low \"tol\" and a high \"max_iter\" (especially if inputs are not standardized).\n",
            "  '\"sag\" solver requires many iterations to fit '\n",
            "/usr/local/lib/python3.7/dist-packages/sklearn/linear_model/_ridge.py:730: UserWarning: \"sag\" solver requires many iterations to fit an intercept with sparse inputs. Either set the solver to \"auto\" or \"sparse_cg\", or set a low \"tol\" and a high \"max_iter\" (especially if inputs are not standardized).\n",
            "  '\"sag\" solver requires many iterations to fit '\n",
            "/usr/local/lib/python3.7/dist-packages/sklearn/model_selection/_validation.py:372: FitFailedWarning: \n",
            "90 fits failed out of a total of 150.\n",
            "The score on these train-test partitions for these parameters will be set to nan.\n",
            "If these failures are not expected, you can try to debug them by setting error_score='raise'.\n",
            "\n",
            "Below are more details about the failures:\n",
            "--------------------------------------------------------------------------------\n",
            "30 fits failed with the following error:\n",
            "Traceback (most recent call last):\n",
            "  File \"/usr/local/lib/python3.7/dist-packages/sklearn/model_selection/_validation.py\", line 680, in _fit_and_score\n",
            "    estimator.fit(X_train, y_train, **fit_params)\n",
            "  File \"/usr/local/lib/python3.7/dist-packages/sklearn/pipeline.py\", line 394, in fit\n",
            "    self._final_estimator.fit(Xt, y, **fit_params_last_step)\n",
            "  File \"/usr/local/lib/python3.7/dist-packages/sklearn/linear_model/_ridge.py\", line 1302, in fit\n",
            "    super().fit(X, Y, sample_weight=sample_weight)\n",
            "  File \"/usr/local/lib/python3.7/dist-packages/sklearn/linear_model/_ridge.py\", line 724, in fit\n",
            "    \"or set `fit_intercept=False`\".format(self.solver)\n",
            "ValueError: solver='cholesky' does not support fitting the intercept on sparse data. Please set the solver to 'auto' or 'sparse_cg', 'sag', 'lbfgs' or set `fit_intercept=False`\n",
            "\n",
            "--------------------------------------------------------------------------------\n",
            "30 fits failed with the following error:\n",
            "Traceback (most recent call last):\n",
            "  File \"/usr/local/lib/python3.7/dist-packages/sklearn/model_selection/_validation.py\", line 680, in _fit_and_score\n",
            "    estimator.fit(X_train, y_train, **fit_params)\n",
            "  File \"/usr/local/lib/python3.7/dist-packages/sklearn/pipeline.py\", line 394, in fit\n",
            "    self._final_estimator.fit(Xt, y, **fit_params_last_step)\n",
            "  File \"/usr/local/lib/python3.7/dist-packages/sklearn/linear_model/_ridge.py\", line 1302, in fit\n",
            "    super().fit(X, Y, sample_weight=sample_weight)\n",
            "  File \"/usr/local/lib/python3.7/dist-packages/sklearn/linear_model/_ridge.py\", line 724, in fit\n",
            "    \"or set `fit_intercept=False`\".format(self.solver)\n",
            "ValueError: solver='lsqr' does not support fitting the intercept on sparse data. Please set the solver to 'auto' or 'sparse_cg', 'sag', 'lbfgs' or set `fit_intercept=False`\n",
            "\n",
            "--------------------------------------------------------------------------------\n",
            "1 fits failed with the following error:\n",
            "Traceback (most recent call last):\n",
            "  File \"/usr/local/lib/python3.7/dist-packages/sklearn/model_selection/_validation.py\", line 680, in _fit_and_score\n",
            "    estimator.fit(X_train, y_train, **fit_params)\n",
            "  File \"/usr/local/lib/python3.7/dist-packages/sklearn/pipeline.py\", line 394, in fit\n",
            "    self._final_estimator.fit(Xt, y, **fit_params_last_step)\n",
            "  File \"/usr/local/lib/python3.7/dist-packages/sklearn/linear_model/_ridge.py\", line 1302, in fit\n",
            "    super().fit(X, Y, sample_weight=sample_weight)\n",
            "  File \"/usr/local/lib/python3.7/dist-packages/sklearn/linear_model/_ridge.py\", line 769, in fit\n",
            "    check_input=False,\n",
            "  File \"/usr/local/lib/python3.7/dist-packages/sklearn/linear_model/_ridge.py\", line 629, in _ridge_regression\n",
            "    is_saga=solver == \"saga\",\n",
            "  File \"/usr/local/lib/python3.7/dist-packages/sklearn/linear_model/_sag.py\", line 348, in sag_solver\n",
            "    verbose,\n",
            "  File \"sklearn/linear_model/_sag_fast.pyx\", line 616, in sklearn.linear_model._sag_fast.sag64\n",
            "ValueError: Floating-point under-/overflow occurred at epoch #268. Scaling input data with StandardScaler or MinMaxScaler might help.\n",
            "\n",
            "--------------------------------------------------------------------------------\n",
            "1 fits failed with the following error:\n",
            "Traceback (most recent call last):\n",
            "  File \"/usr/local/lib/python3.7/dist-packages/sklearn/model_selection/_validation.py\", line 680, in _fit_and_score\n",
            "    estimator.fit(X_train, y_train, **fit_params)\n",
            "  File \"/usr/local/lib/python3.7/dist-packages/sklearn/pipeline.py\", line 394, in fit\n",
            "    self._final_estimator.fit(Xt, y, **fit_params_last_step)\n",
            "  File \"/usr/local/lib/python3.7/dist-packages/sklearn/linear_model/_ridge.py\", line 1302, in fit\n",
            "    super().fit(X, Y, sample_weight=sample_weight)\n",
            "  File \"/usr/local/lib/python3.7/dist-packages/sklearn/linear_model/_ridge.py\", line 769, in fit\n",
            "    check_input=False,\n",
            "  File \"/usr/local/lib/python3.7/dist-packages/sklearn/linear_model/_ridge.py\", line 629, in _ridge_regression\n",
            "    is_saga=solver == \"saga\",\n",
            "  File \"/usr/local/lib/python3.7/dist-packages/sklearn/linear_model/_sag.py\", line 348, in sag_solver\n",
            "    verbose,\n",
            "  File \"sklearn/linear_model/_sag_fast.pyx\", line 616, in sklearn.linear_model._sag_fast.sag64\n",
            "ValueError: Floating-point under-/overflow occurred at epoch #244. Scaling input data with StandardScaler or MinMaxScaler might help.\n",
            "\n",
            "--------------------------------------------------------------------------------\n",
            "1 fits failed with the following error:\n",
            "Traceback (most recent call last):\n",
            "  File \"/usr/local/lib/python3.7/dist-packages/sklearn/model_selection/_validation.py\", line 680, in _fit_and_score\n",
            "    estimator.fit(X_train, y_train, **fit_params)\n",
            "  File \"/usr/local/lib/python3.7/dist-packages/sklearn/pipeline.py\", line 394, in fit\n",
            "    self._final_estimator.fit(Xt, y, **fit_params_last_step)\n",
            "  File \"/usr/local/lib/python3.7/dist-packages/sklearn/linear_model/_ridge.py\", line 1302, in fit\n",
            "    super().fit(X, Y, sample_weight=sample_weight)\n",
            "  File \"/usr/local/lib/python3.7/dist-packages/sklearn/linear_model/_ridge.py\", line 769, in fit\n",
            "    check_input=False,\n",
            "  File \"/usr/local/lib/python3.7/dist-packages/sklearn/linear_model/_ridge.py\", line 629, in _ridge_regression\n",
            "    is_saga=solver == \"saga\",\n",
            "  File \"/usr/local/lib/python3.7/dist-packages/sklearn/linear_model/_sag.py\", line 348, in sag_solver\n",
            "    verbose,\n",
            "  File \"sklearn/linear_model/_sag_fast.pyx\", line 616, in sklearn.linear_model._sag_fast.sag64\n",
            "ValueError: Floating-point under-/overflow occurred at epoch #256. Scaling input data with StandardScaler or MinMaxScaler might help.\n",
            "\n",
            "--------------------------------------------------------------------------------\n",
            "1 fits failed with the following error:\n",
            "Traceback (most recent call last):\n",
            "  File \"/usr/local/lib/python3.7/dist-packages/sklearn/model_selection/_validation.py\", line 680, in _fit_and_score\n",
            "    estimator.fit(X_train, y_train, **fit_params)\n",
            "  File \"/usr/local/lib/python3.7/dist-packages/sklearn/pipeline.py\", line 394, in fit\n",
            "    self._final_estimator.fit(Xt, y, **fit_params_last_step)\n",
            "  File \"/usr/local/lib/python3.7/dist-packages/sklearn/linear_model/_ridge.py\", line 1302, in fit\n",
            "    super().fit(X, Y, sample_weight=sample_weight)\n",
            "  File \"/usr/local/lib/python3.7/dist-packages/sklearn/linear_model/_ridge.py\", line 769, in fit\n",
            "    check_input=False,\n",
            "  File \"/usr/local/lib/python3.7/dist-packages/sklearn/linear_model/_ridge.py\", line 629, in _ridge_regression\n",
            "    is_saga=solver == \"saga\",\n",
            "  File \"/usr/local/lib/python3.7/dist-packages/sklearn/linear_model/_sag.py\", line 348, in sag_solver\n",
            "    verbose,\n",
            "  File \"sklearn/linear_model/_sag_fast.pyx\", line 616, in sklearn.linear_model._sag_fast.sag64\n",
            "ValueError: Floating-point under-/overflow occurred at epoch #241. Scaling input data with StandardScaler or MinMaxScaler might help.\n",
            "\n",
            "--------------------------------------------------------------------------------\n",
            "1 fits failed with the following error:\n",
            "Traceback (most recent call last):\n",
            "  File \"/usr/local/lib/python3.7/dist-packages/sklearn/model_selection/_validation.py\", line 680, in _fit_and_score\n",
            "    estimator.fit(X_train, y_train, **fit_params)\n",
            "  File \"/usr/local/lib/python3.7/dist-packages/sklearn/pipeline.py\", line 394, in fit\n",
            "    self._final_estimator.fit(Xt, y, **fit_params_last_step)\n",
            "  File \"/usr/local/lib/python3.7/dist-packages/sklearn/linear_model/_ridge.py\", line 1302, in fit\n",
            "    super().fit(X, Y, sample_weight=sample_weight)\n",
            "  File \"/usr/local/lib/python3.7/dist-packages/sklearn/linear_model/_ridge.py\", line 769, in fit\n",
            "    check_input=False,\n",
            "  File \"/usr/local/lib/python3.7/dist-packages/sklearn/linear_model/_ridge.py\", line 629, in _ridge_regression\n",
            "    is_saga=solver == \"saga\",\n",
            "  File \"/usr/local/lib/python3.7/dist-packages/sklearn/linear_model/_sag.py\", line 348, in sag_solver\n",
            "    verbose,\n",
            "  File \"sklearn/linear_model/_sag_fast.pyx\", line 616, in sklearn.linear_model._sag_fast.sag64\n",
            "ValueError: Floating-point under-/overflow occurred at epoch #305. Scaling input data with StandardScaler or MinMaxScaler might help.\n",
            "\n",
            "--------------------------------------------------------------------------------\n",
            "2 fits failed with the following error:\n",
            "Traceback (most recent call last):\n",
            "  File \"/usr/local/lib/python3.7/dist-packages/sklearn/model_selection/_validation.py\", line 680, in _fit_and_score\n",
            "    estimator.fit(X_train, y_train, **fit_params)\n",
            "  File \"/usr/local/lib/python3.7/dist-packages/sklearn/pipeline.py\", line 394, in fit\n",
            "    self._final_estimator.fit(Xt, y, **fit_params_last_step)\n",
            "  File \"/usr/local/lib/python3.7/dist-packages/sklearn/linear_model/_ridge.py\", line 1302, in fit\n",
            "    super().fit(X, Y, sample_weight=sample_weight)\n",
            "  File \"/usr/local/lib/python3.7/dist-packages/sklearn/linear_model/_ridge.py\", line 769, in fit\n",
            "    check_input=False,\n",
            "  File \"/usr/local/lib/python3.7/dist-packages/sklearn/linear_model/_ridge.py\", line 629, in _ridge_regression\n",
            "    is_saga=solver == \"saga\",\n",
            "  File \"/usr/local/lib/python3.7/dist-packages/sklearn/linear_model/_sag.py\", line 348, in sag_solver\n",
            "    verbose,\n",
            "  File \"sklearn/linear_model/_sag_fast.pyx\", line 616, in sklearn.linear_model._sag_fast.sag64\n",
            "ValueError: Floating-point under-/overflow occurred at epoch #271. Scaling input data with StandardScaler or MinMaxScaler might help.\n",
            "\n",
            "--------------------------------------------------------------------------------\n",
            "2 fits failed with the following error:\n",
            "Traceback (most recent call last):\n",
            "  File \"/usr/local/lib/python3.7/dist-packages/sklearn/model_selection/_validation.py\", line 680, in _fit_and_score\n",
            "    estimator.fit(X_train, y_train, **fit_params)\n",
            "  File \"/usr/local/lib/python3.7/dist-packages/sklearn/pipeline.py\", line 394, in fit\n",
            "    self._final_estimator.fit(Xt, y, **fit_params_last_step)\n",
            "  File \"/usr/local/lib/python3.7/dist-packages/sklearn/linear_model/_ridge.py\", line 1302, in fit\n",
            "    super().fit(X, Y, sample_weight=sample_weight)\n",
            "  File \"/usr/local/lib/python3.7/dist-packages/sklearn/linear_model/_ridge.py\", line 769, in fit\n",
            "    check_input=False,\n",
            "  File \"/usr/local/lib/python3.7/dist-packages/sklearn/linear_model/_ridge.py\", line 629, in _ridge_regression\n",
            "    is_saga=solver == \"saga\",\n",
            "  File \"/usr/local/lib/python3.7/dist-packages/sklearn/linear_model/_sag.py\", line 348, in sag_solver\n",
            "    verbose,\n",
            "  File \"sklearn/linear_model/_sag_fast.pyx\", line 616, in sklearn.linear_model._sag_fast.sag64\n",
            "ValueError: Floating-point under-/overflow occurred at epoch #242. Scaling input data with StandardScaler or MinMaxScaler might help.\n",
            "\n",
            "--------------------------------------------------------------------------------\n",
            "2 fits failed with the following error:\n",
            "Traceback (most recent call last):\n",
            "  File \"/usr/local/lib/python3.7/dist-packages/sklearn/model_selection/_validation.py\", line 680, in _fit_and_score\n",
            "    estimator.fit(X_train, y_train, **fit_params)\n",
            "  File \"/usr/local/lib/python3.7/dist-packages/sklearn/pipeline.py\", line 394, in fit\n",
            "    self._final_estimator.fit(Xt, y, **fit_params_last_step)\n",
            "  File \"/usr/local/lib/python3.7/dist-packages/sklearn/linear_model/_ridge.py\", line 1302, in fit\n",
            "    super().fit(X, Y, sample_weight=sample_weight)\n",
            "  File \"/usr/local/lib/python3.7/dist-packages/sklearn/linear_model/_ridge.py\", line 769, in fit\n",
            "    check_input=False,\n",
            "  File \"/usr/local/lib/python3.7/dist-packages/sklearn/linear_model/_ridge.py\", line 629, in _ridge_regression\n",
            "    is_saga=solver == \"saga\",\n",
            "  File \"/usr/local/lib/python3.7/dist-packages/sklearn/linear_model/_sag.py\", line 348, in sag_solver\n",
            "    verbose,\n",
            "  File \"sklearn/linear_model/_sag_fast.pyx\", line 616, in sklearn.linear_model._sag_fast.sag64\n",
            "ValueError: Floating-point under-/overflow occurred at epoch #231. Scaling input data with StandardScaler or MinMaxScaler might help.\n",
            "\n",
            "--------------------------------------------------------------------------------\n",
            "1 fits failed with the following error:\n",
            "Traceback (most recent call last):\n",
            "  File \"/usr/local/lib/python3.7/dist-packages/sklearn/model_selection/_validation.py\", line 680, in _fit_and_score\n",
            "    estimator.fit(X_train, y_train, **fit_params)\n",
            "  File \"/usr/local/lib/python3.7/dist-packages/sklearn/pipeline.py\", line 394, in fit\n",
            "    self._final_estimator.fit(Xt, y, **fit_params_last_step)\n",
            "  File \"/usr/local/lib/python3.7/dist-packages/sklearn/linear_model/_ridge.py\", line 1302, in fit\n",
            "    super().fit(X, Y, sample_weight=sample_weight)\n",
            "  File \"/usr/local/lib/python3.7/dist-packages/sklearn/linear_model/_ridge.py\", line 769, in fit\n",
            "    check_input=False,\n",
            "  File \"/usr/local/lib/python3.7/dist-packages/sklearn/linear_model/_ridge.py\", line 629, in _ridge_regression\n",
            "    is_saga=solver == \"saga\",\n",
            "  File \"/usr/local/lib/python3.7/dist-packages/sklearn/linear_model/_sag.py\", line 348, in sag_solver\n",
            "    verbose,\n",
            "  File \"sklearn/linear_model/_sag_fast.pyx\", line 616, in sklearn.linear_model._sag_fast.sag64\n",
            "ValueError: Floating-point under-/overflow occurred at epoch #233. Scaling input data with StandardScaler or MinMaxScaler might help.\n",
            "\n",
            "--------------------------------------------------------------------------------\n",
            "1 fits failed with the following error:\n",
            "Traceback (most recent call last):\n",
            "  File \"/usr/local/lib/python3.7/dist-packages/sklearn/model_selection/_validation.py\", line 680, in _fit_and_score\n",
            "    estimator.fit(X_train, y_train, **fit_params)\n",
            "  File \"/usr/local/lib/python3.7/dist-packages/sklearn/pipeline.py\", line 394, in fit\n",
            "    self._final_estimator.fit(Xt, y, **fit_params_last_step)\n",
            "  File \"/usr/local/lib/python3.7/dist-packages/sklearn/linear_model/_ridge.py\", line 1302, in fit\n",
            "    super().fit(X, Y, sample_weight=sample_weight)\n",
            "  File \"/usr/local/lib/python3.7/dist-packages/sklearn/linear_model/_ridge.py\", line 769, in fit\n",
            "    check_input=False,\n",
            "  File \"/usr/local/lib/python3.7/dist-packages/sklearn/linear_model/_ridge.py\", line 629, in _ridge_regression\n",
            "    is_saga=solver == \"saga\",\n",
            "  File \"/usr/local/lib/python3.7/dist-packages/sklearn/linear_model/_sag.py\", line 348, in sag_solver\n",
            "    verbose,\n",
            "  File \"sklearn/linear_model/_sag_fast.pyx\", line 616, in sklearn.linear_model._sag_fast.sag64\n",
            "ValueError: Floating-point under-/overflow occurred at epoch #309. Scaling input data with StandardScaler or MinMaxScaler might help.\n",
            "\n",
            "--------------------------------------------------------------------------------\n",
            "2 fits failed with the following error:\n",
            "Traceback (most recent call last):\n",
            "  File \"/usr/local/lib/python3.7/dist-packages/sklearn/model_selection/_validation.py\", line 680, in _fit_and_score\n",
            "    estimator.fit(X_train, y_train, **fit_params)\n",
            "  File \"/usr/local/lib/python3.7/dist-packages/sklearn/pipeline.py\", line 394, in fit\n",
            "    self._final_estimator.fit(Xt, y, **fit_params_last_step)\n",
            "  File \"/usr/local/lib/python3.7/dist-packages/sklearn/linear_model/_ridge.py\", line 1302, in fit\n",
            "    super().fit(X, Y, sample_weight=sample_weight)\n",
            "  File \"/usr/local/lib/python3.7/dist-packages/sklearn/linear_model/_ridge.py\", line 769, in fit\n",
            "    check_input=False,\n",
            "  File \"/usr/local/lib/python3.7/dist-packages/sklearn/linear_model/_ridge.py\", line 629, in _ridge_regression\n",
            "    is_saga=solver == \"saga\",\n",
            "  File \"/usr/local/lib/python3.7/dist-packages/sklearn/linear_model/_sag.py\", line 348, in sag_solver\n",
            "    verbose,\n",
            "  File \"sklearn/linear_model/_sag_fast.pyx\", line 616, in sklearn.linear_model._sag_fast.sag64\n",
            "ValueError: Floating-point under-/overflow occurred at epoch #255. Scaling input data with StandardScaler or MinMaxScaler might help.\n",
            "\n",
            "--------------------------------------------------------------------------------\n",
            "1 fits failed with the following error:\n",
            "Traceback (most recent call last):\n",
            "  File \"/usr/local/lib/python3.7/dist-packages/sklearn/model_selection/_validation.py\", line 680, in _fit_and_score\n",
            "    estimator.fit(X_train, y_train, **fit_params)\n",
            "  File \"/usr/local/lib/python3.7/dist-packages/sklearn/pipeline.py\", line 394, in fit\n",
            "    self._final_estimator.fit(Xt, y, **fit_params_last_step)\n",
            "  File \"/usr/local/lib/python3.7/dist-packages/sklearn/linear_model/_ridge.py\", line 1302, in fit\n",
            "    super().fit(X, Y, sample_weight=sample_weight)\n",
            "  File \"/usr/local/lib/python3.7/dist-packages/sklearn/linear_model/_ridge.py\", line 769, in fit\n",
            "    check_input=False,\n",
            "  File \"/usr/local/lib/python3.7/dist-packages/sklearn/linear_model/_ridge.py\", line 629, in _ridge_regression\n",
            "    is_saga=solver == \"saga\",\n",
            "  File \"/usr/local/lib/python3.7/dist-packages/sklearn/linear_model/_sag.py\", line 348, in sag_solver\n",
            "    verbose,\n",
            "  File \"sklearn/linear_model/_sag_fast.pyx\", line 616, in sklearn.linear_model._sag_fast.sag64\n",
            "ValueError: Floating-point under-/overflow occurred at epoch #250. Scaling input data with StandardScaler or MinMaxScaler might help.\n",
            "\n",
            "--------------------------------------------------------------------------------\n",
            "1 fits failed with the following error:\n",
            "Traceback (most recent call last):\n",
            "  File \"/usr/local/lib/python3.7/dist-packages/sklearn/model_selection/_validation.py\", line 680, in _fit_and_score\n",
            "    estimator.fit(X_train, y_train, **fit_params)\n",
            "  File \"/usr/local/lib/python3.7/dist-packages/sklearn/pipeline.py\", line 394, in fit\n",
            "    self._final_estimator.fit(Xt, y, **fit_params_last_step)\n",
            "  File \"/usr/local/lib/python3.7/dist-packages/sklearn/linear_model/_ridge.py\", line 1302, in fit\n",
            "    super().fit(X, Y, sample_weight=sample_weight)\n",
            "  File \"/usr/local/lib/python3.7/dist-packages/sklearn/linear_model/_ridge.py\", line 769, in fit\n",
            "    check_input=False,\n",
            "  File \"/usr/local/lib/python3.7/dist-packages/sklearn/linear_model/_ridge.py\", line 629, in _ridge_regression\n",
            "    is_saga=solver == \"saga\",\n",
            "  File \"/usr/local/lib/python3.7/dist-packages/sklearn/linear_model/_sag.py\", line 348, in sag_solver\n",
            "    verbose,\n",
            "  File \"sklearn/linear_model/_sag_fast.pyx\", line 616, in sklearn.linear_model._sag_fast.sag64\n",
            "ValueError: Floating-point under-/overflow occurred at epoch #288. Scaling input data with StandardScaler or MinMaxScaler might help.\n",
            "\n",
            "--------------------------------------------------------------------------------\n",
            "1 fits failed with the following error:\n",
            "Traceback (most recent call last):\n",
            "  File \"/usr/local/lib/python3.7/dist-packages/sklearn/model_selection/_validation.py\", line 680, in _fit_and_score\n",
            "    estimator.fit(X_train, y_train, **fit_params)\n",
            "  File \"/usr/local/lib/python3.7/dist-packages/sklearn/pipeline.py\", line 394, in fit\n",
            "    self._final_estimator.fit(Xt, y, **fit_params_last_step)\n",
            "  File \"/usr/local/lib/python3.7/dist-packages/sklearn/linear_model/_ridge.py\", line 1302, in fit\n",
            "    super().fit(X, Y, sample_weight=sample_weight)\n",
            "  File \"/usr/local/lib/python3.7/dist-packages/sklearn/linear_model/_ridge.py\", line 769, in fit\n",
            "    check_input=False,\n",
            "  File \"/usr/local/lib/python3.7/dist-packages/sklearn/linear_model/_ridge.py\", line 629, in _ridge_regression\n",
            "    is_saga=solver == \"saga\",\n",
            "  File \"/usr/local/lib/python3.7/dist-packages/sklearn/linear_model/_sag.py\", line 348, in sag_solver\n",
            "    verbose,\n",
            "  File \"sklearn/linear_model/_sag_fast.pyx\", line 616, in sklearn.linear_model._sag_fast.sag64\n",
            "ValueError: Floating-point under-/overflow occurred at epoch #273. Scaling input data with StandardScaler or MinMaxScaler might help.\n",
            "\n",
            "--------------------------------------------------------------------------------\n",
            "1 fits failed with the following error:\n",
            "Traceback (most recent call last):\n",
            "  File \"/usr/local/lib/python3.7/dist-packages/sklearn/model_selection/_validation.py\", line 680, in _fit_and_score\n",
            "    estimator.fit(X_train, y_train, **fit_params)\n",
            "  File \"/usr/local/lib/python3.7/dist-packages/sklearn/pipeline.py\", line 394, in fit\n",
            "    self._final_estimator.fit(Xt, y, **fit_params_last_step)\n",
            "  File \"/usr/local/lib/python3.7/dist-packages/sklearn/linear_model/_ridge.py\", line 1302, in fit\n",
            "    super().fit(X, Y, sample_weight=sample_weight)\n",
            "  File \"/usr/local/lib/python3.7/dist-packages/sklearn/linear_model/_ridge.py\", line 769, in fit\n",
            "    check_input=False,\n",
            "  File \"/usr/local/lib/python3.7/dist-packages/sklearn/linear_model/_ridge.py\", line 629, in _ridge_regression\n",
            "    is_saga=solver == \"saga\",\n",
            "  File \"/usr/local/lib/python3.7/dist-packages/sklearn/linear_model/_sag.py\", line 348, in sag_solver\n",
            "    verbose,\n",
            "  File \"sklearn/linear_model/_sag_fast.pyx\", line 616, in sklearn.linear_model._sag_fast.sag64\n",
            "ValueError: Floating-point under-/overflow occurred at epoch #258. Scaling input data with StandardScaler or MinMaxScaler might help.\n",
            "\n",
            "--------------------------------------------------------------------------------\n",
            "2 fits failed with the following error:\n",
            "Traceback (most recent call last):\n",
            "  File \"/usr/local/lib/python3.7/dist-packages/sklearn/model_selection/_validation.py\", line 680, in _fit_and_score\n",
            "    estimator.fit(X_train, y_train, **fit_params)\n",
            "  File \"/usr/local/lib/python3.7/dist-packages/sklearn/pipeline.py\", line 394, in fit\n",
            "    self._final_estimator.fit(Xt, y, **fit_params_last_step)\n",
            "  File \"/usr/local/lib/python3.7/dist-packages/sklearn/linear_model/_ridge.py\", line 1302, in fit\n",
            "    super().fit(X, Y, sample_weight=sample_weight)\n",
            "  File \"/usr/local/lib/python3.7/dist-packages/sklearn/linear_model/_ridge.py\", line 769, in fit\n",
            "    check_input=False,\n",
            "  File \"/usr/local/lib/python3.7/dist-packages/sklearn/linear_model/_ridge.py\", line 629, in _ridge_regression\n",
            "    is_saga=solver == \"saga\",\n",
            "  File \"/usr/local/lib/python3.7/dist-packages/sklearn/linear_model/_sag.py\", line 348, in sag_solver\n",
            "    verbose,\n",
            "  File \"sklearn/linear_model/_sag_fast.pyx\", line 616, in sklearn.linear_model._sag_fast.sag64\n",
            "ValueError: Floating-point under-/overflow occurred at epoch #254. Scaling input data with StandardScaler or MinMaxScaler might help.\n",
            "\n",
            "--------------------------------------------------------------------------------\n",
            "1 fits failed with the following error:\n",
            "Traceback (most recent call last):\n",
            "  File \"/usr/local/lib/python3.7/dist-packages/sklearn/model_selection/_validation.py\", line 680, in _fit_and_score\n",
            "    estimator.fit(X_train, y_train, **fit_params)\n",
            "  File \"/usr/local/lib/python3.7/dist-packages/sklearn/pipeline.py\", line 394, in fit\n",
            "    self._final_estimator.fit(Xt, y, **fit_params_last_step)\n",
            "  File \"/usr/local/lib/python3.7/dist-packages/sklearn/linear_model/_ridge.py\", line 1302, in fit\n",
            "    super().fit(X, Y, sample_weight=sample_weight)\n",
            "  File \"/usr/local/lib/python3.7/dist-packages/sklearn/linear_model/_ridge.py\", line 769, in fit\n",
            "    check_input=False,\n",
            "  File \"/usr/local/lib/python3.7/dist-packages/sklearn/linear_model/_ridge.py\", line 629, in _ridge_regression\n",
            "    is_saga=solver == \"saga\",\n",
            "  File \"/usr/local/lib/python3.7/dist-packages/sklearn/linear_model/_sag.py\", line 348, in sag_solver\n",
            "    verbose,\n",
            "  File \"sklearn/linear_model/_sag_fast.pyx\", line 616, in sklearn.linear_model._sag_fast.sag64\n",
            "ValueError: Floating-point under-/overflow occurred at epoch #307. Scaling input data with StandardScaler or MinMaxScaler might help.\n",
            "\n",
            "--------------------------------------------------------------------------------\n",
            "1 fits failed with the following error:\n",
            "Traceback (most recent call last):\n",
            "  File \"/usr/local/lib/python3.7/dist-packages/sklearn/model_selection/_validation.py\", line 680, in _fit_and_score\n",
            "    estimator.fit(X_train, y_train, **fit_params)\n",
            "  File \"/usr/local/lib/python3.7/dist-packages/sklearn/pipeline.py\", line 394, in fit\n",
            "    self._final_estimator.fit(Xt, y, **fit_params_last_step)\n",
            "  File \"/usr/local/lib/python3.7/dist-packages/sklearn/linear_model/_ridge.py\", line 1302, in fit\n",
            "    super().fit(X, Y, sample_weight=sample_weight)\n",
            "  File \"/usr/local/lib/python3.7/dist-packages/sklearn/linear_model/_ridge.py\", line 769, in fit\n",
            "    check_input=False,\n",
            "  File \"/usr/local/lib/python3.7/dist-packages/sklearn/linear_model/_ridge.py\", line 629, in _ridge_regression\n",
            "    is_saga=solver == \"saga\",\n",
            "  File \"/usr/local/lib/python3.7/dist-packages/sklearn/linear_model/_sag.py\", line 348, in sag_solver\n",
            "    verbose,\n",
            "  File \"sklearn/linear_model/_sag_fast.pyx\", line 616, in sklearn.linear_model._sag_fast.sag64\n",
            "ValueError: Floating-point under-/overflow occurred at epoch #269. Scaling input data with StandardScaler or MinMaxScaler might help.\n",
            "\n",
            "--------------------------------------------------------------------------------\n",
            "1 fits failed with the following error:\n",
            "Traceback (most recent call last):\n",
            "  File \"/usr/local/lib/python3.7/dist-packages/sklearn/model_selection/_validation.py\", line 680, in _fit_and_score\n",
            "    estimator.fit(X_train, y_train, **fit_params)\n",
            "  File \"/usr/local/lib/python3.7/dist-packages/sklearn/pipeline.py\", line 394, in fit\n",
            "    self._final_estimator.fit(Xt, y, **fit_params_last_step)\n",
            "  File \"/usr/local/lib/python3.7/dist-packages/sklearn/linear_model/_ridge.py\", line 1302, in fit\n",
            "    super().fit(X, Y, sample_weight=sample_weight)\n",
            "  File \"/usr/local/lib/python3.7/dist-packages/sklearn/linear_model/_ridge.py\", line 769, in fit\n",
            "    check_input=False,\n",
            "  File \"/usr/local/lib/python3.7/dist-packages/sklearn/linear_model/_ridge.py\", line 629, in _ridge_regression\n",
            "    is_saga=solver == \"saga\",\n",
            "  File \"/usr/local/lib/python3.7/dist-packages/sklearn/linear_model/_sag.py\", line 348, in sag_solver\n",
            "    verbose,\n",
            "  File \"sklearn/linear_model/_sag_fast.pyx\", line 616, in sklearn.linear_model._sag_fast.sag64\n",
            "ValueError: Floating-point under-/overflow occurred at epoch #237. Scaling input data with StandardScaler or MinMaxScaler might help.\n",
            "\n",
            "--------------------------------------------------------------------------------\n",
            "1 fits failed with the following error:\n",
            "Traceback (most recent call last):\n",
            "  File \"/usr/local/lib/python3.7/dist-packages/sklearn/model_selection/_validation.py\", line 680, in _fit_and_score\n",
            "    estimator.fit(X_train, y_train, **fit_params)\n",
            "  File \"/usr/local/lib/python3.7/dist-packages/sklearn/pipeline.py\", line 394, in fit\n",
            "    self._final_estimator.fit(Xt, y, **fit_params_last_step)\n",
            "  File \"/usr/local/lib/python3.7/dist-packages/sklearn/linear_model/_ridge.py\", line 1302, in fit\n",
            "    super().fit(X, Y, sample_weight=sample_weight)\n",
            "  File \"/usr/local/lib/python3.7/dist-packages/sklearn/linear_model/_ridge.py\", line 769, in fit\n",
            "    check_input=False,\n",
            "  File \"/usr/local/lib/python3.7/dist-packages/sklearn/linear_model/_ridge.py\", line 629, in _ridge_regression\n",
            "    is_saga=solver == \"saga\",\n",
            "  File \"/usr/local/lib/python3.7/dist-packages/sklearn/linear_model/_sag.py\", line 348, in sag_solver\n",
            "    verbose,\n",
            "  File \"sklearn/linear_model/_sag_fast.pyx\", line 616, in sklearn.linear_model._sag_fast.sag64\n",
            "ValueError: Floating-point under-/overflow occurred at epoch #240. Scaling input data with StandardScaler or MinMaxScaler might help.\n",
            "\n",
            "--------------------------------------------------------------------------------\n",
            "1 fits failed with the following error:\n",
            "Traceback (most recent call last):\n",
            "  File \"/usr/local/lib/python3.7/dist-packages/sklearn/model_selection/_validation.py\", line 680, in _fit_and_score\n",
            "    estimator.fit(X_train, y_train, **fit_params)\n",
            "  File \"/usr/local/lib/python3.7/dist-packages/sklearn/pipeline.py\", line 394, in fit\n",
            "    self._final_estimator.fit(Xt, y, **fit_params_last_step)\n",
            "  File \"/usr/local/lib/python3.7/dist-packages/sklearn/linear_model/_ridge.py\", line 1302, in fit\n",
            "    super().fit(X, Y, sample_weight=sample_weight)\n",
            "  File \"/usr/local/lib/python3.7/dist-packages/sklearn/linear_model/_ridge.py\", line 769, in fit\n",
            "    check_input=False,\n",
            "  File \"/usr/local/lib/python3.7/dist-packages/sklearn/linear_model/_ridge.py\", line 629, in _ridge_regression\n",
            "    is_saga=solver == \"saga\",\n",
            "  File \"/usr/local/lib/python3.7/dist-packages/sklearn/linear_model/_sag.py\", line 348, in sag_solver\n",
            "    verbose,\n",
            "  File \"sklearn/linear_model/_sag_fast.pyx\", line 616, in sklearn.linear_model._sag_fast.sag64\n",
            "ValueError: Floating-point under-/overflow occurred at epoch #306. Scaling input data with StandardScaler or MinMaxScaler might help.\n",
            "\n",
            "--------------------------------------------------------------------------------\n",
            "2 fits failed with the following error:\n",
            "Traceback (most recent call last):\n",
            "  File \"/usr/local/lib/python3.7/dist-packages/sklearn/model_selection/_validation.py\", line 680, in _fit_and_score\n",
            "    estimator.fit(X_train, y_train, **fit_params)\n",
            "  File \"/usr/local/lib/python3.7/dist-packages/sklearn/pipeline.py\", line 394, in fit\n",
            "    self._final_estimator.fit(Xt, y, **fit_params_last_step)\n",
            "  File \"/usr/local/lib/python3.7/dist-packages/sklearn/linear_model/_ridge.py\", line 1302, in fit\n",
            "    super().fit(X, Y, sample_weight=sample_weight)\n",
            "  File \"/usr/local/lib/python3.7/dist-packages/sklearn/linear_model/_ridge.py\", line 769, in fit\n",
            "    check_input=False,\n",
            "  File \"/usr/local/lib/python3.7/dist-packages/sklearn/linear_model/_ridge.py\", line 629, in _ridge_regression\n",
            "    is_saga=solver == \"saga\",\n",
            "  File \"/usr/local/lib/python3.7/dist-packages/sklearn/linear_model/_sag.py\", line 348, in sag_solver\n",
            "    verbose,\n",
            "  File \"sklearn/linear_model/_sag_fast.pyx\", line 616, in sklearn.linear_model._sag_fast.sag64\n",
            "ValueError: Floating-point under-/overflow occurred at epoch #264. Scaling input data with StandardScaler or MinMaxScaler might help.\n",
            "\n",
            "--------------------------------------------------------------------------------\n",
            "1 fits failed with the following error:\n",
            "Traceback (most recent call last):\n",
            "  File \"/usr/local/lib/python3.7/dist-packages/sklearn/model_selection/_validation.py\", line 680, in _fit_and_score\n",
            "    estimator.fit(X_train, y_train, **fit_params)\n",
            "  File \"/usr/local/lib/python3.7/dist-packages/sklearn/pipeline.py\", line 394, in fit\n",
            "    self._final_estimator.fit(Xt, y, **fit_params_last_step)\n",
            "  File \"/usr/local/lib/python3.7/dist-packages/sklearn/linear_model/_ridge.py\", line 1302, in fit\n",
            "    super().fit(X, Y, sample_weight=sample_weight)\n",
            "  File \"/usr/local/lib/python3.7/dist-packages/sklearn/linear_model/_ridge.py\", line 769, in fit\n",
            "    check_input=False,\n",
            "  File \"/usr/local/lib/python3.7/dist-packages/sklearn/linear_model/_ridge.py\", line 629, in _ridge_regression\n",
            "    is_saga=solver == \"saga\",\n",
            "  File \"/usr/local/lib/python3.7/dist-packages/sklearn/linear_model/_sag.py\", line 348, in sag_solver\n",
            "    verbose,\n",
            "  File \"sklearn/linear_model/_sag_fast.pyx\", line 616, in sklearn.linear_model._sag_fast.sag64\n",
            "ValueError: Floating-point under-/overflow occurred at epoch #251. Scaling input data with StandardScaler or MinMaxScaler might help.\n",
            "\n",
            "--------------------------------------------------------------------------------\n",
            "1 fits failed with the following error:\n",
            "Traceback (most recent call last):\n",
            "  File \"/usr/local/lib/python3.7/dist-packages/sklearn/model_selection/_validation.py\", line 680, in _fit_and_score\n",
            "    estimator.fit(X_train, y_train, **fit_params)\n",
            "  File \"/usr/local/lib/python3.7/dist-packages/sklearn/pipeline.py\", line 394, in fit\n",
            "    self._final_estimator.fit(Xt, y, **fit_params_last_step)\n",
            "  File \"/usr/local/lib/python3.7/dist-packages/sklearn/linear_model/_ridge.py\", line 1302, in fit\n",
            "    super().fit(X, Y, sample_weight=sample_weight)\n",
            "  File \"/usr/local/lib/python3.7/dist-packages/sklearn/linear_model/_ridge.py\", line 769, in fit\n",
            "    check_input=False,\n",
            "  File \"/usr/local/lib/python3.7/dist-packages/sklearn/linear_model/_ridge.py\", line 629, in _ridge_regression\n",
            "    is_saga=solver == \"saga\",\n",
            "  File \"/usr/local/lib/python3.7/dist-packages/sklearn/linear_model/_sag.py\", line 348, in sag_solver\n",
            "    verbose,\n",
            "  File \"sklearn/linear_model/_sag_fast.pyx\", line 616, in sklearn.linear_model._sag_fast.sag64\n",
            "ValueError: Floating-point under-/overflow occurred at epoch #308. Scaling input data with StandardScaler or MinMaxScaler might help.\n",
            "\n",
            "  warnings.warn(some_fits_failed_message, FitFailedWarning)\n",
            "/usr/local/lib/python3.7/dist-packages/sklearn/model_selection/_search.py:972: UserWarning: One or more of the test scores are non-finite: [0.95214286        nan        nan 0.95214286        nan 0.96142857\n",
            "        nan        nan 0.96142857        nan 0.96142857        nan\n",
            "        nan 0.96142857        nan 0.95785714        nan        nan\n",
            " 0.95785714        nan 0.95428571        nan        nan 0.95428571\n",
            "        nan 0.94071429        nan        nan 0.94071429        nan]\n",
            "  category=UserWarning,\n"
          ]
        },
        {
          "output_type": "stream",
          "name": "stdout",
          "text": [
            "accuracy 0.9566666666666667\n",
            "              precision    recall  f1-score   support\n",
            "\n",
            "           0       0.96      0.98      0.97       153\n",
            "           1       0.50      0.50      0.50         2\n",
            "           2       0.00      0.00      0.00         2\n",
            "           3       0.96      0.99      0.97       283\n",
            "           4       0.97      0.97      0.97        31\n",
            "           5       0.67      0.50      0.57         4\n",
            "           7       0.88      1.00      0.93         7\n",
            "           8       0.95      1.00      0.97        37\n",
            "           9       0.00      0.00      0.00         1\n",
            "          10       1.00      0.92      0.96        13\n",
            "          11       1.00      0.50      0.67         8\n",
            "          12       0.00      0.00      0.00         1\n",
            "          13       1.00      1.00      1.00         6\n",
            "          14       1.00      1.00      1.00         1\n",
            "          15       1.00      0.50      0.67         2\n",
            "          16       0.98      0.90      0.94        49\n",
            "\n",
            "    accuracy                           0.96       600\n",
            "   macro avg       0.74      0.67      0.69       600\n",
            "weighted avg       0.95      0.96      0.95       600\n",
            "\n"
          ]
        },
        {
          "output_type": "stream",
          "name": "stderr",
          "text": [
            "/usr/local/lib/python3.7/dist-packages/sklearn/metrics/_classification.py:1318: UndefinedMetricWarning: Precision and F-score are ill-defined and being set to 0.0 in labels with no predicted samples. Use `zero_division` parameter to control this behavior.\n",
            "  _warn_prf(average, modifier, msg_start, len(result))\n",
            "/usr/local/lib/python3.7/dist-packages/sklearn/metrics/_classification.py:1318: UndefinedMetricWarning: Precision and F-score are ill-defined and being set to 0.0 in labels with no predicted samples. Use `zero_division` parameter to control this behavior.\n",
            "  _warn_prf(average, modifier, msg_start, len(result))\n",
            "/usr/local/lib/python3.7/dist-packages/sklearn/metrics/_classification.py:1318: UndefinedMetricWarning: Precision and F-score are ill-defined and being set to 0.0 in labels with no predicted samples. Use `zero_division` parameter to control this behavior.\n",
            "  _warn_prf(average, modifier, msg_start, len(result))\n"
          ]
        }
      ]
    },
    {
      "cell_type": "markdown",
      "metadata": {
        "id": "QB8J_22GrmUf"
      },
      "source": [
        "#CaTBOOST"
      ]
    },
    {
      "cell_type": "code",
      "execution_count": 53,
      "metadata": {
        "id": "dT29qs7MsWK6",
        "colab": {
          "base_uri": "https://localhost:8080/"
        },
        "outputId": "31579bfb-538c-4c89-88d2-fb428fa834db"
      },
      "outputs": [
        {
          "output_type": "stream",
          "name": "stdout",
          "text": [
            "accuracy 0.9566666666666667\n",
            "              precision    recall  f1-score   support\n",
            "\n",
            "           0       1.00      0.99      1.00       153\n",
            "           1       1.00      1.00      1.00         2\n",
            "           2       0.00      0.00      0.00         2\n",
            "           3       0.92      1.00      0.96       283\n",
            "           4       1.00      0.94      0.97        31\n",
            "           5       1.00      0.50      0.67         4\n",
            "           7       1.00      1.00      1.00         7\n",
            "           8       1.00      0.97      0.99        37\n",
            "           9       0.00      0.00      0.00         1\n",
            "          10       1.00      0.92      0.96        13\n",
            "          11       1.00      0.38      0.55         8\n",
            "          12       0.00      0.00      0.00         1\n",
            "          13       1.00      0.50      0.67         6\n",
            "          14       0.00      0.00      0.00         1\n",
            "          15       0.00      0.00      0.00         2\n",
            "          16       0.96      0.92      0.94        49\n",
            "\n",
            "    accuracy                           0.96       600\n",
            "   macro avg       0.68      0.57      0.61       600\n",
            "weighted avg       0.95      0.96      0.95       600\n",
            "\n"
          ]
        },
        {
          "output_type": "stream",
          "name": "stderr",
          "text": [
            "/usr/local/lib/python3.7/dist-packages/sklearn/metrics/_classification.py:1318: UndefinedMetricWarning: Precision and F-score are ill-defined and being set to 0.0 in labels with no predicted samples. Use `zero_division` parameter to control this behavior.\n",
            "  _warn_prf(average, modifier, msg_start, len(result))\n",
            "/usr/local/lib/python3.7/dist-packages/sklearn/metrics/_classification.py:1318: UndefinedMetricWarning: Precision and F-score are ill-defined and being set to 0.0 in labels with no predicted samples. Use `zero_division` parameter to control this behavior.\n",
            "  _warn_prf(average, modifier, msg_start, len(result))\n",
            "/usr/local/lib/python3.7/dist-packages/sklearn/metrics/_classification.py:1318: UndefinedMetricWarning: Precision and F-score are ill-defined and being set to 0.0 in labels with no predicted samples. Use `zero_division` parameter to control this behavior.\n",
            "  _warn_prf(average, modifier, msg_start, len(result))\n"
          ]
        }
      ],
      "source": [
        "modelCat = CatBoostClassifier()\n",
        "cbc = Pipeline([('vect', CountVectorizer(ngram_range=(1, 1))),\n",
        "                ('tfidf', TfidfTransformer()),\n",
        "                ('clf', CatBoostClassifier(verbose=False)),\n",
        "               ])\n",
        "cbc.fit(X_train, y_train)\n",
        "y_pred = cbc.predict(X_valid)\n",
        "print('accuracy %s' % accuracy_score(y_pred, y_valid))\n",
        "print(classification_report(y_valid, y_pred))"
      ]
    },
    {
      "cell_type": "markdown",
      "metadata": {
        "id": "IE7z7aj3Jwse"
      },
      "source": [
        "# CatBOOST с подбором гиперпараметров"
      ]
    },
    {
      "cell_type": "code",
      "execution_count": 54,
      "metadata": {
        "id": "vmEGykXlKGr7",
        "colab": {
          "base_uri": "https://localhost:8080/"
        },
        "outputId": "6a2037da-d03a-4e9f-f004-9887ddf74d53"
      },
      "outputs": [
        {
          "output_type": "stream",
          "name": "stderr",
          "text": [
            "/usr/local/lib/python3.7/dist-packages/sklearn/model_selection/_split.py:680: UserWarning: The least populated class in y has only 1 members, which is less than n_splits=5.\n",
            "  UserWarning,\n"
          ]
        },
        {
          "output_type": "stream",
          "name": "stdout",
          "text": [
            "accuracy 0.945\n",
            "              precision    recall  f1-score   support\n",
            "\n",
            "           0       1.00      0.97      0.98       153\n",
            "           1       1.00      1.00      1.00         2\n",
            "           2       0.00      0.00      0.00         2\n",
            "           3       0.91      1.00      0.95       283\n",
            "           4       1.00      0.90      0.95        31\n",
            "           5       1.00      0.50      0.67         4\n",
            "           7       1.00      1.00      1.00         7\n",
            "           8       1.00      0.95      0.97        37\n",
            "           9       0.00      0.00      0.00         1\n",
            "          10       1.00      0.92      0.96        13\n",
            "          11       1.00      0.38      0.55         8\n",
            "          12       0.00      0.00      0.00         1\n",
            "          13       1.00      0.50      0.67         6\n",
            "          14       0.00      0.00      0.00         1\n",
            "          15       1.00      0.50      0.67         2\n",
            "          16       0.94      0.90      0.92        49\n",
            "\n",
            "    accuracy                           0.94       600\n",
            "   macro avg       0.74      0.59      0.64       600\n",
            "weighted avg       0.94      0.94      0.94       600\n",
            "\n"
          ]
        },
        {
          "output_type": "stream",
          "name": "stderr",
          "text": [
            "/usr/local/lib/python3.7/dist-packages/sklearn/metrics/_classification.py:1318: UndefinedMetricWarning: Precision and F-score are ill-defined and being set to 0.0 in labels with no predicted samples. Use `zero_division` parameter to control this behavior.\n",
            "  _warn_prf(average, modifier, msg_start, len(result))\n",
            "/usr/local/lib/python3.7/dist-packages/sklearn/metrics/_classification.py:1318: UndefinedMetricWarning: Precision and F-score are ill-defined and being set to 0.0 in labels with no predicted samples. Use `zero_division` parameter to control this behavior.\n",
            "  _warn_prf(average, modifier, msg_start, len(result))\n",
            "/usr/local/lib/python3.7/dist-packages/sklearn/metrics/_classification.py:1318: UndefinedMetricWarning: Precision and F-score are ill-defined and being set to 0.0 in labels with no predicted samples. Use `zero_division` parameter to control this behavior.\n",
            "  _warn_prf(average, modifier, msg_start, len(result))\n"
          ]
        }
      ],
      "source": [
        "import numpy as np\n",
        "cbc_p = Pipeline([('vect', CountVectorizer(ngram_range=(1, 1))),\n",
        "                ('tfidf', TfidfTransformer()),\n",
        "                ('CatBoost', CatBoostClassifier())\n",
        "               ])\n",
        "learning_rate = [0.3]\n",
        "depth = range(2)\n",
        "verbose = [False]\n",
        "\n",
        "parameters = dict(CatBoost__learning_rate=learning_rate,\n",
        "                  CatBoost__depth=depth,\n",
        "                  CatBoost__verbose=verbose)\n",
        "cbc_p_GS = GridSearchCV(cbc_p, parameters)\n",
        "cbc_p_GS.fit(X_train, y_train)\n",
        "cbc_p_GS.best_estimator_\n",
        "y_pred = cbc_p_GS.predict(X_valid) # Предсказание на тестовых данных\n",
        "print('accuracy %s' % accuracy_score(y_pred, y_valid))\n",
        "print(classification_report(y_valid, y_pred))"
      ]
    },
    {
      "cell_type": "markdown",
      "metadata": {
        "id": "ijJ2v_YbaVAD"
      },
      "source": [
        "# Лучший результат на валидации"
      ]
    },
    {
      "cell_type": "code",
      "execution_count": 55,
      "metadata": {
        "id": "xKiOiSelaYGB"
      },
      "outputs": [],
      "source": [
        "q = {'model' : ['NBC', 'SVM', 'LR', 'CBC'], \n",
        "     'Результат' : [0.77 , 0.95 , 0.97, 0.95]}"
      ]
    },
    {
      "cell_type": "code",
      "execution_count": 56,
      "metadata": {
        "id": "7db2d_iabM94"
      },
      "outputs": [],
      "source": [
        "itog  =  pd.DataFrame(data = q)"
      ]
    },
    {
      "cell_type": "code",
      "execution_count": 57,
      "metadata": {
        "colab": {
          "base_uri": "https://localhost:8080/",
          "height": 175
        },
        "id": "C_B7MuB2bl1w",
        "outputId": "449d99eb-82ef-4ff9-fa3a-e704e60cb005"
      },
      "outputs": [
        {
          "output_type": "execute_result",
          "data": {
            "text/plain": [
              "  model  Результат\n",
              "2    LR       0.97\n",
              "1   SVM       0.95\n",
              "3   CBC       0.95\n",
              "0   NBC       0.77"
            ],
            "text/html": [
              "\n",
              "  <div id=\"df-90a1074e-d32f-4a0c-a8d5-76544e86c0b4\">\n",
              "    <div class=\"colab-df-container\">\n",
              "      <div>\n",
              "<style scoped>\n",
              "    .dataframe tbody tr th:only-of-type {\n",
              "        vertical-align: middle;\n",
              "    }\n",
              "\n",
              "    .dataframe tbody tr th {\n",
              "        vertical-align: top;\n",
              "    }\n",
              "\n",
              "    .dataframe thead th {\n",
              "        text-align: right;\n",
              "    }\n",
              "</style>\n",
              "<table border=\"1\" class=\"dataframe\">\n",
              "  <thead>\n",
              "    <tr style=\"text-align: right;\">\n",
              "      <th></th>\n",
              "      <th>model</th>\n",
              "      <th>Результат</th>\n",
              "    </tr>\n",
              "  </thead>\n",
              "  <tbody>\n",
              "    <tr>\n",
              "      <th>2</th>\n",
              "      <td>LR</td>\n",
              "      <td>0.97</td>\n",
              "    </tr>\n",
              "    <tr>\n",
              "      <th>1</th>\n",
              "      <td>SVM</td>\n",
              "      <td>0.95</td>\n",
              "    </tr>\n",
              "    <tr>\n",
              "      <th>3</th>\n",
              "      <td>CBC</td>\n",
              "      <td>0.95</td>\n",
              "    </tr>\n",
              "    <tr>\n",
              "      <th>0</th>\n",
              "      <td>NBC</td>\n",
              "      <td>0.77</td>\n",
              "    </tr>\n",
              "  </tbody>\n",
              "</table>\n",
              "</div>\n",
              "      <button class=\"colab-df-convert\" onclick=\"convertToInteractive('df-90a1074e-d32f-4a0c-a8d5-76544e86c0b4')\"\n",
              "              title=\"Convert this dataframe to an interactive table.\"\n",
              "              style=\"display:none;\">\n",
              "        \n",
              "  <svg xmlns=\"http://www.w3.org/2000/svg\" height=\"24px\"viewBox=\"0 0 24 24\"\n",
              "       width=\"24px\">\n",
              "    <path d=\"M0 0h24v24H0V0z\" fill=\"none\"/>\n",
              "    <path d=\"M18.56 5.44l.94 2.06.94-2.06 2.06-.94-2.06-.94-.94-2.06-.94 2.06-2.06.94zm-11 1L8.5 8.5l.94-2.06 2.06-.94-2.06-.94L8.5 2.5l-.94 2.06-2.06.94zm10 10l.94 2.06.94-2.06 2.06-.94-2.06-.94-.94-2.06-.94 2.06-2.06.94z\"/><path d=\"M17.41 7.96l-1.37-1.37c-.4-.4-.92-.59-1.43-.59-.52 0-1.04.2-1.43.59L10.3 9.45l-7.72 7.72c-.78.78-.78 2.05 0 2.83L4 21.41c.39.39.9.59 1.41.59.51 0 1.02-.2 1.41-.59l7.78-7.78 2.81-2.81c.8-.78.8-2.07 0-2.86zM5.41 20L4 18.59l7.72-7.72 1.47 1.35L5.41 20z\"/>\n",
              "  </svg>\n",
              "      </button>\n",
              "      \n",
              "  <style>\n",
              "    .colab-df-container {\n",
              "      display:flex;\n",
              "      flex-wrap:wrap;\n",
              "      gap: 12px;\n",
              "    }\n",
              "\n",
              "    .colab-df-convert {\n",
              "      background-color: #E8F0FE;\n",
              "      border: none;\n",
              "      border-radius: 50%;\n",
              "      cursor: pointer;\n",
              "      display: none;\n",
              "      fill: #1967D2;\n",
              "      height: 32px;\n",
              "      padding: 0 0 0 0;\n",
              "      width: 32px;\n",
              "    }\n",
              "\n",
              "    .colab-df-convert:hover {\n",
              "      background-color: #E2EBFA;\n",
              "      box-shadow: 0px 1px 2px rgba(60, 64, 67, 0.3), 0px 1px 3px 1px rgba(60, 64, 67, 0.15);\n",
              "      fill: #174EA6;\n",
              "    }\n",
              "\n",
              "    [theme=dark] .colab-df-convert {\n",
              "      background-color: #3B4455;\n",
              "      fill: #D2E3FC;\n",
              "    }\n",
              "\n",
              "    [theme=dark] .colab-df-convert:hover {\n",
              "      background-color: #434B5C;\n",
              "      box-shadow: 0px 1px 3px 1px rgba(0, 0, 0, 0.15);\n",
              "      filter: drop-shadow(0px 1px 2px rgba(0, 0, 0, 0.3));\n",
              "      fill: #FFFFFF;\n",
              "    }\n",
              "  </style>\n",
              "\n",
              "      <script>\n",
              "        const buttonEl =\n",
              "          document.querySelector('#df-90a1074e-d32f-4a0c-a8d5-76544e86c0b4 button.colab-df-convert');\n",
              "        buttonEl.style.display =\n",
              "          google.colab.kernel.accessAllowed ? 'block' : 'none';\n",
              "\n",
              "        async function convertToInteractive(key) {\n",
              "          const element = document.querySelector('#df-90a1074e-d32f-4a0c-a8d5-76544e86c0b4');\n",
              "          const dataTable =\n",
              "            await google.colab.kernel.invokeFunction('convertToInteractive',\n",
              "                                                     [key], {});\n",
              "          if (!dataTable) return;\n",
              "\n",
              "          const docLinkHtml = 'Like what you see? Visit the ' +\n",
              "            '<a target=\"_blank\" href=https://colab.research.google.com/notebooks/data_table.ipynb>data table notebook</a>'\n",
              "            + ' to learn more about interactive tables.';\n",
              "          element.innerHTML = '';\n",
              "          dataTable['output_type'] = 'display_data';\n",
              "          await google.colab.output.renderOutput(dataTable, element);\n",
              "          const docLink = document.createElement('div');\n",
              "          docLink.innerHTML = docLinkHtml;\n",
              "          element.appendChild(docLink);\n",
              "        }\n",
              "      </script>\n",
              "    </div>\n",
              "  </div>\n",
              "  "
            ]
          },
          "metadata": {},
          "execution_count": 57
        }
      ],
      "source": [
        "itog.sort_values('Результат', ascending=False)"
      ]
    },
    {
      "cell_type": "markdown",
      "metadata": {
        "id": "r_ty0Y8_b-pB"
      },
      "source": [
        "*Вывод: лучший результат на валидации на Логистической регрессии*"
      ]
    },
    {
      "cell_type": "markdown",
      "metadata": {
        "id": "XTEnPgcJ8B6q"
      },
      "source": [
        "#ТЕСТ"
      ]
    },
    {
      "cell_type": "markdown",
      "metadata": {
        "id": "IVKSyJyhtbNP"
      },
      "source": [
        "*Подготовим тест*"
      ]
    },
    {
      "cell_type": "code",
      "execution_count": 58,
      "metadata": {
        "id": "H4Ph6zVP8D1a"
      },
      "outputs": [],
      "source": [
        "test_data = pd.read_csv('/content/drive/MyDrive/Хакатоны/Курск слова/test_dataset_test.csv')"
      ]
    },
    {
      "cell_type": "code",
      "execution_count": 59,
      "metadata": {
        "colab": {
          "base_uri": "https://localhost:8080/",
          "height": 424
        },
        "id": "VGrGB9G4-ES5",
        "outputId": "ea98901a-29e1-49f4-c696-415e41826cd3"
      },
      "outputs": [
        {
          "output_type": "execute_result",
          "data": {
            "text/plain": [
              "       id                                    Текст Сообщения  \\\n",
              "0     843  <p>Здравствуйте. На улице Мира &nbsp;было заме...   \n",
              "1    1422  <p>Уже вторую неделю не горит уличное освещени...   \n",
              "2    2782  Не работает освещение во дворе дома 11а по Эне...   \n",
              "3    2704  После покоса сорной растительности на газоне м...   \n",
              "4       1  <p>Прошу принять меры к водителю маршрута 263:...   \n",
              "..    ...                                                ...   \n",
              "995  2619  Добрый день! Я и моя семья жители пос Волокно,...   \n",
              "996  2518  На Лазарева 5 г.Щигры ветка тополя скоро выбье...   \n",
              "997  2524  Перед входом  Комитет образования  Курска  ямы...   \n",
              "998  1577  <p>Доброго времени суток</p><p>У меня на пол г...   \n",
              "999  2567  Добрый день, я многодетная мама. Младшему ребё...   \n",
              "\n",
              "                                              Тематика  \\\n",
              "0                      Неработающее наружное освещение   \n",
              "1                      Неработающее наружное освещение   \n",
              "2                      Неработающее наружное освещение   \n",
              "3         Неудовлетворительная уборка улиц и тротуаров   \n",
              "4    Неудовлетворительный внешний вид (поведение) в...   \n",
              "..                                                 ...   \n",
              "995                                  Неприятные запахи   \n",
              "996                                  Аварийные деревья   \n",
              "997  Нарушение дорожного покрытия (ямы)  на дорогах...   \n",
              "998                           Сертификат переболевшего   \n",
              "999  Нарушения порядка предоставления мер социально...   \n",
              "\n",
              "                                    Ответственное лицо  \n",
              "0                   Администрация Курчатовского района  \n",
              "1    Комитет жилищно-коммунального хозяйства города...  \n",
              "2    Комитет жилищно-коммунального хозяйства города...  \n",
              "3      Администрация Центрального округа города Курска  \n",
              "4                          Администрация города Курска  \n",
              "..                                                 ...  \n",
              "995         Комитет природных ресурсов Курской области  \n",
              "996                         Администрация города Щигры  \n",
              "997          Комитет дорожного хозяйства города Курска  \n",
              "998            Комитет здравоохранения Курской области  \n",
              "999  Комитет социальной защиты населения города Курска  \n",
              "\n",
              "[1000 rows x 4 columns]"
            ],
            "text/html": [
              "\n",
              "  <div id=\"df-c2e2f4f4-cf7f-460b-8bf7-744fe4841e67\">\n",
              "    <div class=\"colab-df-container\">\n",
              "      <div>\n",
              "<style scoped>\n",
              "    .dataframe tbody tr th:only-of-type {\n",
              "        vertical-align: middle;\n",
              "    }\n",
              "\n",
              "    .dataframe tbody tr th {\n",
              "        vertical-align: top;\n",
              "    }\n",
              "\n",
              "    .dataframe thead th {\n",
              "        text-align: right;\n",
              "    }\n",
              "</style>\n",
              "<table border=\"1\" class=\"dataframe\">\n",
              "  <thead>\n",
              "    <tr style=\"text-align: right;\">\n",
              "      <th></th>\n",
              "      <th>id</th>\n",
              "      <th>Текст Сообщения</th>\n",
              "      <th>Тематика</th>\n",
              "      <th>Ответственное лицо</th>\n",
              "    </tr>\n",
              "  </thead>\n",
              "  <tbody>\n",
              "    <tr>\n",
              "      <th>0</th>\n",
              "      <td>843</td>\n",
              "      <td>&lt;p&gt;Здравствуйте. На улице Мира &amp;nbsp;было заме...</td>\n",
              "      <td>Неработающее наружное освещение</td>\n",
              "      <td>Администрация Курчатовского района</td>\n",
              "    </tr>\n",
              "    <tr>\n",
              "      <th>1</th>\n",
              "      <td>1422</td>\n",
              "      <td>&lt;p&gt;Уже вторую неделю не горит уличное освещени...</td>\n",
              "      <td>Неработающее наружное освещение</td>\n",
              "      <td>Комитет жилищно-коммунального хозяйства города...</td>\n",
              "    </tr>\n",
              "    <tr>\n",
              "      <th>2</th>\n",
              "      <td>2782</td>\n",
              "      <td>Не работает освещение во дворе дома 11а по Эне...</td>\n",
              "      <td>Неработающее наружное освещение</td>\n",
              "      <td>Комитет жилищно-коммунального хозяйства города...</td>\n",
              "    </tr>\n",
              "    <tr>\n",
              "      <th>3</th>\n",
              "      <td>2704</td>\n",
              "      <td>После покоса сорной растительности на газоне м...</td>\n",
              "      <td>Неудовлетворительная уборка улиц и тротуаров</td>\n",
              "      <td>Администрация Центрального округа города Курска</td>\n",
              "    </tr>\n",
              "    <tr>\n",
              "      <th>4</th>\n",
              "      <td>1</td>\n",
              "      <td>&lt;p&gt;Прошу принять меры к водителю маршрута 263:...</td>\n",
              "      <td>Неудовлетворительный внешний вид (поведение) в...</td>\n",
              "      <td>Администрация города Курска</td>\n",
              "    </tr>\n",
              "    <tr>\n",
              "      <th>...</th>\n",
              "      <td>...</td>\n",
              "      <td>...</td>\n",
              "      <td>...</td>\n",
              "      <td>...</td>\n",
              "    </tr>\n",
              "    <tr>\n",
              "      <th>995</th>\n",
              "      <td>2619</td>\n",
              "      <td>Добрый день! Я и моя семья жители пос Волокно,...</td>\n",
              "      <td>Неприятные запахи</td>\n",
              "      <td>Комитет природных ресурсов Курской области</td>\n",
              "    </tr>\n",
              "    <tr>\n",
              "      <th>996</th>\n",
              "      <td>2518</td>\n",
              "      <td>На Лазарева 5 г.Щигры ветка тополя скоро выбье...</td>\n",
              "      <td>Аварийные деревья</td>\n",
              "      <td>Администрация города Щигры</td>\n",
              "    </tr>\n",
              "    <tr>\n",
              "      <th>997</th>\n",
              "      <td>2524</td>\n",
              "      <td>Перед входом  Комитет образования  Курска  ямы...</td>\n",
              "      <td>Нарушение дорожного покрытия (ямы)  на дорогах...</td>\n",
              "      <td>Комитет дорожного хозяйства города Курска</td>\n",
              "    </tr>\n",
              "    <tr>\n",
              "      <th>998</th>\n",
              "      <td>1577</td>\n",
              "      <td>&lt;p&gt;Доброго времени суток&lt;/p&gt;&lt;p&gt;У меня на пол г...</td>\n",
              "      <td>Сертификат переболевшего</td>\n",
              "      <td>Комитет здравоохранения Курской области</td>\n",
              "    </tr>\n",
              "    <tr>\n",
              "      <th>999</th>\n",
              "      <td>2567</td>\n",
              "      <td>Добрый день, я многодетная мама. Младшему ребё...</td>\n",
              "      <td>Нарушения порядка предоставления мер социально...</td>\n",
              "      <td>Комитет социальной защиты населения города Курска</td>\n",
              "    </tr>\n",
              "  </tbody>\n",
              "</table>\n",
              "<p>1000 rows × 4 columns</p>\n",
              "</div>\n",
              "      <button class=\"colab-df-convert\" onclick=\"convertToInteractive('df-c2e2f4f4-cf7f-460b-8bf7-744fe4841e67')\"\n",
              "              title=\"Convert this dataframe to an interactive table.\"\n",
              "              style=\"display:none;\">\n",
              "        \n",
              "  <svg xmlns=\"http://www.w3.org/2000/svg\" height=\"24px\"viewBox=\"0 0 24 24\"\n",
              "       width=\"24px\">\n",
              "    <path d=\"M0 0h24v24H0V0z\" fill=\"none\"/>\n",
              "    <path d=\"M18.56 5.44l.94 2.06.94-2.06 2.06-.94-2.06-.94-.94-2.06-.94 2.06-2.06.94zm-11 1L8.5 8.5l.94-2.06 2.06-.94-2.06-.94L8.5 2.5l-.94 2.06-2.06.94zm10 10l.94 2.06.94-2.06 2.06-.94-2.06-.94-.94-2.06-.94 2.06-2.06.94z\"/><path d=\"M17.41 7.96l-1.37-1.37c-.4-.4-.92-.59-1.43-.59-.52 0-1.04.2-1.43.59L10.3 9.45l-7.72 7.72c-.78.78-.78 2.05 0 2.83L4 21.41c.39.39.9.59 1.41.59.51 0 1.02-.2 1.41-.59l7.78-7.78 2.81-2.81c.8-.78.8-2.07 0-2.86zM5.41 20L4 18.59l7.72-7.72 1.47 1.35L5.41 20z\"/>\n",
              "  </svg>\n",
              "      </button>\n",
              "      \n",
              "  <style>\n",
              "    .colab-df-container {\n",
              "      display:flex;\n",
              "      flex-wrap:wrap;\n",
              "      gap: 12px;\n",
              "    }\n",
              "\n",
              "    .colab-df-convert {\n",
              "      background-color: #E8F0FE;\n",
              "      border: none;\n",
              "      border-radius: 50%;\n",
              "      cursor: pointer;\n",
              "      display: none;\n",
              "      fill: #1967D2;\n",
              "      height: 32px;\n",
              "      padding: 0 0 0 0;\n",
              "      width: 32px;\n",
              "    }\n",
              "\n",
              "    .colab-df-convert:hover {\n",
              "      background-color: #E2EBFA;\n",
              "      box-shadow: 0px 1px 2px rgba(60, 64, 67, 0.3), 0px 1px 3px 1px rgba(60, 64, 67, 0.15);\n",
              "      fill: #174EA6;\n",
              "    }\n",
              "\n",
              "    [theme=dark] .colab-df-convert {\n",
              "      background-color: #3B4455;\n",
              "      fill: #D2E3FC;\n",
              "    }\n",
              "\n",
              "    [theme=dark] .colab-df-convert:hover {\n",
              "      background-color: #434B5C;\n",
              "      box-shadow: 0px 1px 3px 1px rgba(0, 0, 0, 0.15);\n",
              "      filter: drop-shadow(0px 1px 2px rgba(0, 0, 0, 0.3));\n",
              "      fill: #FFFFFF;\n",
              "    }\n",
              "  </style>\n",
              "\n",
              "      <script>\n",
              "        const buttonEl =\n",
              "          document.querySelector('#df-c2e2f4f4-cf7f-460b-8bf7-744fe4841e67 button.colab-df-convert');\n",
              "        buttonEl.style.display =\n",
              "          google.colab.kernel.accessAllowed ? 'block' : 'none';\n",
              "\n",
              "        async function convertToInteractive(key) {\n",
              "          const element = document.querySelector('#df-c2e2f4f4-cf7f-460b-8bf7-744fe4841e67');\n",
              "          const dataTable =\n",
              "            await google.colab.kernel.invokeFunction('convertToInteractive',\n",
              "                                                     [key], {});\n",
              "          if (!dataTable) return;\n",
              "\n",
              "          const docLinkHtml = 'Like what you see? Visit the ' +\n",
              "            '<a target=\"_blank\" href=https://colab.research.google.com/notebooks/data_table.ipynb>data table notebook</a>'\n",
              "            + ' to learn more about interactive tables.';\n",
              "          element.innerHTML = '';\n",
              "          dataTable['output_type'] = 'display_data';\n",
              "          await google.colab.output.renderOutput(dataTable, element);\n",
              "          const docLink = document.createElement('div');\n",
              "          docLink.innerHTML = docLinkHtml;\n",
              "          element.appendChild(docLink);\n",
              "        }\n",
              "      </script>\n",
              "    </div>\n",
              "  </div>\n",
              "  "
            ]
          },
          "metadata": {},
          "execution_count": 59
        }
      ],
      "source": [
        "test_data"
      ]
    },
    {
      "cell_type": "code",
      "execution_count": 60,
      "metadata": {
        "id": "bpXpWBNd-4Z6"
      },
      "outputs": [],
      "source": [
        "test = test_data"
      ]
    },
    {
      "cell_type": "code",
      "execution_count": 61,
      "metadata": {
        "colab": {
          "base_uri": "https://localhost:8080/",
          "height": 206
        },
        "id": "nEckFk9C-0zt",
        "outputId": "9449a1f7-b7d7-498f-d50c-565126834d82"
      },
      "outputs": [
        {
          "output_type": "execute_result",
          "data": {
            "text/plain": [
              "                                                text\n",
              "0  <p>Здравствуйте. На улице Мира &nbsp;было заме...\n",
              "1  <p>Уже вторую неделю не горит уличное освещени...\n",
              "2  Не работает освещение во дворе дома 11а по Эне...\n",
              "3  После покоса сорной растительности на газоне м...\n",
              "4  <p>Прошу принять меры к водителю маршрута 263:..."
            ],
            "text/html": [
              "\n",
              "  <div id=\"df-b2b37935-f062-4525-a747-38a6d05eab59\">\n",
              "    <div class=\"colab-df-container\">\n",
              "      <div>\n",
              "<style scoped>\n",
              "    .dataframe tbody tr th:only-of-type {\n",
              "        vertical-align: middle;\n",
              "    }\n",
              "\n",
              "    .dataframe tbody tr th {\n",
              "        vertical-align: top;\n",
              "    }\n",
              "\n",
              "    .dataframe thead th {\n",
              "        text-align: right;\n",
              "    }\n",
              "</style>\n",
              "<table border=\"1\" class=\"dataframe\">\n",
              "  <thead>\n",
              "    <tr style=\"text-align: right;\">\n",
              "      <th></th>\n",
              "      <th>text</th>\n",
              "    </tr>\n",
              "  </thead>\n",
              "  <tbody>\n",
              "    <tr>\n",
              "      <th>0</th>\n",
              "      <td>&lt;p&gt;Здравствуйте. На улице Мира &amp;nbsp;было заме...</td>\n",
              "    </tr>\n",
              "    <tr>\n",
              "      <th>1</th>\n",
              "      <td>&lt;p&gt;Уже вторую неделю не горит уличное освещени...</td>\n",
              "    </tr>\n",
              "    <tr>\n",
              "      <th>2</th>\n",
              "      <td>Не работает освещение во дворе дома 11а по Эне...</td>\n",
              "    </tr>\n",
              "    <tr>\n",
              "      <th>3</th>\n",
              "      <td>После покоса сорной растительности на газоне м...</td>\n",
              "    </tr>\n",
              "    <tr>\n",
              "      <th>4</th>\n",
              "      <td>&lt;p&gt;Прошу принять меры к водителю маршрута 263:...</td>\n",
              "    </tr>\n",
              "  </tbody>\n",
              "</table>\n",
              "</div>\n",
              "      <button class=\"colab-df-convert\" onclick=\"convertToInteractive('df-b2b37935-f062-4525-a747-38a6d05eab59')\"\n",
              "              title=\"Convert this dataframe to an interactive table.\"\n",
              "              style=\"display:none;\">\n",
              "        \n",
              "  <svg xmlns=\"http://www.w3.org/2000/svg\" height=\"24px\"viewBox=\"0 0 24 24\"\n",
              "       width=\"24px\">\n",
              "    <path d=\"M0 0h24v24H0V0z\" fill=\"none\"/>\n",
              "    <path d=\"M18.56 5.44l.94 2.06.94-2.06 2.06-.94-2.06-.94-.94-2.06-.94 2.06-2.06.94zm-11 1L8.5 8.5l.94-2.06 2.06-.94-2.06-.94L8.5 2.5l-.94 2.06-2.06.94zm10 10l.94 2.06.94-2.06 2.06-.94-2.06-.94-.94-2.06-.94 2.06-2.06.94z\"/><path d=\"M17.41 7.96l-1.37-1.37c-.4-.4-.92-.59-1.43-.59-.52 0-1.04.2-1.43.59L10.3 9.45l-7.72 7.72c-.78.78-.78 2.05 0 2.83L4 21.41c.39.39.9.59 1.41.59.51 0 1.02-.2 1.41-.59l7.78-7.78 2.81-2.81c.8-.78.8-2.07 0-2.86zM5.41 20L4 18.59l7.72-7.72 1.47 1.35L5.41 20z\"/>\n",
              "  </svg>\n",
              "      </button>\n",
              "      \n",
              "  <style>\n",
              "    .colab-df-container {\n",
              "      display:flex;\n",
              "      flex-wrap:wrap;\n",
              "      gap: 12px;\n",
              "    }\n",
              "\n",
              "    .colab-df-convert {\n",
              "      background-color: #E8F0FE;\n",
              "      border: none;\n",
              "      border-radius: 50%;\n",
              "      cursor: pointer;\n",
              "      display: none;\n",
              "      fill: #1967D2;\n",
              "      height: 32px;\n",
              "      padding: 0 0 0 0;\n",
              "      width: 32px;\n",
              "    }\n",
              "\n",
              "    .colab-df-convert:hover {\n",
              "      background-color: #E2EBFA;\n",
              "      box-shadow: 0px 1px 2px rgba(60, 64, 67, 0.3), 0px 1px 3px 1px rgba(60, 64, 67, 0.15);\n",
              "      fill: #174EA6;\n",
              "    }\n",
              "\n",
              "    [theme=dark] .colab-df-convert {\n",
              "      background-color: #3B4455;\n",
              "      fill: #D2E3FC;\n",
              "    }\n",
              "\n",
              "    [theme=dark] .colab-df-convert:hover {\n",
              "      background-color: #434B5C;\n",
              "      box-shadow: 0px 1px 3px 1px rgba(0, 0, 0, 0.15);\n",
              "      filter: drop-shadow(0px 1px 2px rgba(0, 0, 0, 0.3));\n",
              "      fill: #FFFFFF;\n",
              "    }\n",
              "  </style>\n",
              "\n",
              "      <script>\n",
              "        const buttonEl =\n",
              "          document.querySelector('#df-b2b37935-f062-4525-a747-38a6d05eab59 button.colab-df-convert');\n",
              "        buttonEl.style.display =\n",
              "          google.colab.kernel.accessAllowed ? 'block' : 'none';\n",
              "\n",
              "        async function convertToInteractive(key) {\n",
              "          const element = document.querySelector('#df-b2b37935-f062-4525-a747-38a6d05eab59');\n",
              "          const dataTable =\n",
              "            await google.colab.kernel.invokeFunction('convertToInteractive',\n",
              "                                                     [key], {});\n",
              "          if (!dataTable) return;\n",
              "\n",
              "          const docLinkHtml = 'Like what you see? Visit the ' +\n",
              "            '<a target=\"_blank\" href=https://colab.research.google.com/notebooks/data_table.ipynb>data table notebook</a>'\n",
              "            + ' to learn more about interactive tables.';\n",
              "          element.innerHTML = '';\n",
              "          dataTable['output_type'] = 'display_data';\n",
              "          await google.colab.output.renderOutput(dataTable, element);\n",
              "          const docLink = document.createElement('div');\n",
              "          docLink.innerHTML = docLinkHtml;\n",
              "          element.appendChild(docLink);\n",
              "        }\n",
              "      </script>\n",
              "    </div>\n",
              "  </div>\n",
              "  "
            ]
          },
          "metadata": {},
          "execution_count": 61
        }
      ],
      "source": [
        "# Создаем датасет, сливаем текстовые колонки, убираем ненужные колонки\n",
        "test = test.drop(columns=['id']) # Удаление столбца с ID\n",
        "\n",
        "# Объединение текстовых колонок в одну\n",
        "test[\"text\"] = test['Текст Сообщения'].astype(str)\n",
        "\n",
        "# Удаление лишних колонок\n",
        "test = test.drop(columns=['Текст Сообщения', 'Тематика', 'Ответственное лицо'])\n",
        "test.head()"
      ]
    },
    {
      "cell_type": "code",
      "execution_count": 62,
      "metadata": {
        "colab": {
          "base_uri": "https://localhost:8080/",
          "height": 206
        },
        "id": "mpzitHL4-BjH",
        "outputId": "d632497c-e6a1-4838-9971-d03d0d720873"
      },
      "outputs": [
        {
          "output_type": "execute_result",
          "data": {
            "text/plain": [
              "                                                text  \\\n",
              "0  <p>Здравствуйте. На улице Мира &nbsp;было заме...   \n",
              "1  <p>Уже вторую неделю не горит уличное освещени...   \n",
              "2  Не работает освещение во дворе дома 11а по Эне...   \n",
              "3  После покоса сорной растительности на газоне м...   \n",
              "4  <p>Прошу принять меры к водителю маршрута 263:...   \n",
              "\n",
              "                                      text_processed  \n",
              "0   p здравствуйте на улице мира nbsp было замене...  \n",
              "1   p уже вторую неделю не горит уличное освещени...  \n",
              "2  не работает освещение во дворе дома а по энерг...  \n",
              "3  после покоса сорной растительности на газоне м...  \n",
              "4   p прошу принять меры к водителю маршрута пос ...  "
            ],
            "text/html": [
              "\n",
              "  <div id=\"df-a77c7782-4234-46be-9fe0-7610d9bc76a7\">\n",
              "    <div class=\"colab-df-container\">\n",
              "      <div>\n",
              "<style scoped>\n",
              "    .dataframe tbody tr th:only-of-type {\n",
              "        vertical-align: middle;\n",
              "    }\n",
              "\n",
              "    .dataframe tbody tr th {\n",
              "        vertical-align: top;\n",
              "    }\n",
              "\n",
              "    .dataframe thead th {\n",
              "        text-align: right;\n",
              "    }\n",
              "</style>\n",
              "<table border=\"1\" class=\"dataframe\">\n",
              "  <thead>\n",
              "    <tr style=\"text-align: right;\">\n",
              "      <th></th>\n",
              "      <th>text</th>\n",
              "      <th>text_processed</th>\n",
              "    </tr>\n",
              "  </thead>\n",
              "  <tbody>\n",
              "    <tr>\n",
              "      <th>0</th>\n",
              "      <td>&lt;p&gt;Здравствуйте. На улице Мира &amp;nbsp;было заме...</td>\n",
              "      <td>p здравствуйте на улице мира nbsp было замене...</td>\n",
              "    </tr>\n",
              "    <tr>\n",
              "      <th>1</th>\n",
              "      <td>&lt;p&gt;Уже вторую неделю не горит уличное освещени...</td>\n",
              "      <td>p уже вторую неделю не горит уличное освещени...</td>\n",
              "    </tr>\n",
              "    <tr>\n",
              "      <th>2</th>\n",
              "      <td>Не работает освещение во дворе дома 11а по Эне...</td>\n",
              "      <td>не работает освещение во дворе дома а по энерг...</td>\n",
              "    </tr>\n",
              "    <tr>\n",
              "      <th>3</th>\n",
              "      <td>После покоса сорной растительности на газоне м...</td>\n",
              "      <td>после покоса сорной растительности на газоне м...</td>\n",
              "    </tr>\n",
              "    <tr>\n",
              "      <th>4</th>\n",
              "      <td>&lt;p&gt;Прошу принять меры к водителю маршрута 263:...</td>\n",
              "      <td>p прошу принять меры к водителю маршрута пос ...</td>\n",
              "    </tr>\n",
              "  </tbody>\n",
              "</table>\n",
              "</div>\n",
              "      <button class=\"colab-df-convert\" onclick=\"convertToInteractive('df-a77c7782-4234-46be-9fe0-7610d9bc76a7')\"\n",
              "              title=\"Convert this dataframe to an interactive table.\"\n",
              "              style=\"display:none;\">\n",
              "        \n",
              "  <svg xmlns=\"http://www.w3.org/2000/svg\" height=\"24px\"viewBox=\"0 0 24 24\"\n",
              "       width=\"24px\">\n",
              "    <path d=\"M0 0h24v24H0V0z\" fill=\"none\"/>\n",
              "    <path d=\"M18.56 5.44l.94 2.06.94-2.06 2.06-.94-2.06-.94-.94-2.06-.94 2.06-2.06.94zm-11 1L8.5 8.5l.94-2.06 2.06-.94-2.06-.94L8.5 2.5l-.94 2.06-2.06.94zm10 10l.94 2.06.94-2.06 2.06-.94-2.06-.94-.94-2.06-.94 2.06-2.06.94z\"/><path d=\"M17.41 7.96l-1.37-1.37c-.4-.4-.92-.59-1.43-.59-.52 0-1.04.2-1.43.59L10.3 9.45l-7.72 7.72c-.78.78-.78 2.05 0 2.83L4 21.41c.39.39.9.59 1.41.59.51 0 1.02-.2 1.41-.59l7.78-7.78 2.81-2.81c.8-.78.8-2.07 0-2.86zM5.41 20L4 18.59l7.72-7.72 1.47 1.35L5.41 20z\"/>\n",
              "  </svg>\n",
              "      </button>\n",
              "      \n",
              "  <style>\n",
              "    .colab-df-container {\n",
              "      display:flex;\n",
              "      flex-wrap:wrap;\n",
              "      gap: 12px;\n",
              "    }\n",
              "\n",
              "    .colab-df-convert {\n",
              "      background-color: #E8F0FE;\n",
              "      border: none;\n",
              "      border-radius: 50%;\n",
              "      cursor: pointer;\n",
              "      display: none;\n",
              "      fill: #1967D2;\n",
              "      height: 32px;\n",
              "      padding: 0 0 0 0;\n",
              "      width: 32px;\n",
              "    }\n",
              "\n",
              "    .colab-df-convert:hover {\n",
              "      background-color: #E2EBFA;\n",
              "      box-shadow: 0px 1px 2px rgba(60, 64, 67, 0.3), 0px 1px 3px 1px rgba(60, 64, 67, 0.15);\n",
              "      fill: #174EA6;\n",
              "    }\n",
              "\n",
              "    [theme=dark] .colab-df-convert {\n",
              "      background-color: #3B4455;\n",
              "      fill: #D2E3FC;\n",
              "    }\n",
              "\n",
              "    [theme=dark] .colab-df-convert:hover {\n",
              "      background-color: #434B5C;\n",
              "      box-shadow: 0px 1px 3px 1px rgba(0, 0, 0, 0.15);\n",
              "      filter: drop-shadow(0px 1px 2px rgba(0, 0, 0, 0.3));\n",
              "      fill: #FFFFFF;\n",
              "    }\n",
              "  </style>\n",
              "\n",
              "      <script>\n",
              "        const buttonEl =\n",
              "          document.querySelector('#df-a77c7782-4234-46be-9fe0-7610d9bc76a7 button.colab-df-convert');\n",
              "        buttonEl.style.display =\n",
              "          google.colab.kernel.accessAllowed ? 'block' : 'none';\n",
              "\n",
              "        async function convertToInteractive(key) {\n",
              "          const element = document.querySelector('#df-a77c7782-4234-46be-9fe0-7610d9bc76a7');\n",
              "          const dataTable =\n",
              "            await google.colab.kernel.invokeFunction('convertToInteractive',\n",
              "                                                     [key], {});\n",
              "          if (!dataTable) return;\n",
              "\n",
              "          const docLinkHtml = 'Like what you see? Visit the ' +\n",
              "            '<a target=\"_blank\" href=https://colab.research.google.com/notebooks/data_table.ipynb>data table notebook</a>'\n",
              "            + ' to learn more about interactive tables.';\n",
              "          element.innerHTML = '';\n",
              "          dataTable['output_type'] = 'display_data';\n",
              "          await google.colab.output.renderOutput(dataTable, element);\n",
              "          const docLink = document.createElement('div');\n",
              "          docLink.innerHTML = docLinkHtml;\n",
              "          element.appendChild(docLink);\n",
              "        }\n",
              "      </script>\n",
              "    </div>\n",
              "  </div>\n",
              "  "
            ]
          },
          "metadata": {},
          "execution_count": 62
        }
      ],
      "source": [
        "test['text_processed'] = list(map(preproccessing, test['text']))\n",
        "test.head()"
      ]
    },
    {
      "cell_type": "code",
      "execution_count": 63,
      "metadata": {
        "colab": {
          "referenced_widgets": [
            "b1f6fe1903874df8864b36313a6c1170",
            "e7a5ea35ce22414eaab7e3b9f3f922e6",
            "08e36a33f1f1405195c5488dc56f78d9",
            "048d83e539b444b69b70ae15190148e0",
            "bd8d088dac864781bb6c3a41ec590cf7",
            "a8fefeb5e5014e10b6f7d30b41e90fad",
            "f2a1249871d54a1fb9d162addb2f0290",
            "514379aad6124426a69abed35f283944",
            "01782cd3ed4441b79da86971eeff7744",
            "1d31648fbf28456fbae69f64a20e743b",
            "e36b3c90c2aa4d898bde19601481ae25"
          ],
          "base_uri": "https://localhost:8080/",
          "height": 85
        },
        "id": "Esoa0pn1_qLT",
        "outputId": "1f1d0741-0a7c-4d84-8ad9-be47ae29ab80"
      },
      "outputs": [
        {
          "output_type": "display_data",
          "data": {
            "text/plain": [
              "  0%|          | 0/1000 [00:00<?, ?it/s]"
            ],
            "application/vnd.jupyter.widget-view+json": {
              "version_major": 2,
              "version_minor": 0,
              "model_id": "b1f6fe1903874df8864b36313a6c1170"
            }
          },
          "metadata": {}
        },
        {
          "output_type": "execute_result",
          "data": {
            "text/plain": [
              "'p здравствуйте улица мир nbsp заменить наружное освещение именно заменить лампа nbsp энергосберегающий лампа протяжение несколько месяц освещение улица отсутствовать последний улица осветить это зима приблизительно каждый день человек работать часовой смена многие возвращаться очень поздно дать проблема улица посёлок nbsp p'"
            ],
            "application/vnd.google.colaboratory.intrinsic+json": {
              "type": "string"
            }
          },
          "metadata": {},
          "execution_count": 63
        }
      ],
      "source": [
        "# Провердим лемматизацию и избавляемся от стоп-слов\n",
        "lemm_texts_column = []\n",
        "for text in tqdm(test['text_processed']):\n",
        "    tokens = word_tokenize(text)    \n",
        "    lemmed_tokens = [morph.parse(token)[0].normal_form for token in tokens if token not in russian_stopwords]\n",
        "    text = \" \".join(lemmed_tokens)\n",
        "    lemm_texts_column.append(text)\n",
        "    \n",
        "# Создаем новую колонку в наборе данных\n",
        "test['text_lemmed'] = lemm_texts_column\n",
        "\n",
        "test['text_lemmed'][0]"
      ]
    },
    {
      "cell_type": "code",
      "execution_count": 64,
      "metadata": {
        "colab": {
          "base_uri": "https://localhost:8080/"
        },
        "id": "PdMRVfCjZzZ9",
        "outputId": "9eefa95c-d163-453f-83e0-6369bc4c35a5"
      },
      "outputs": [
        {
          "output_type": "execute_result",
          "data": {
            "text/plain": [
              "0      p здравствуйте улица мир nbsp заменить наружно...\n",
              "1      p второй неделя гореть уличный освещение p p n...\n",
              "2      работать освещение двор дом энергетик световой...\n",
              "3      покос сорный растительность газон тротуар прое...\n",
              "4      p просить принять мера водитель маршрут пос се...\n",
              "                             ...                        \n",
              "995    добрый день семья житель пос волокно просыпать...\n",
              "996    лазарев г щигры ветка тополь скоро выбить стек...\n",
              "997             вход комитет образование курск ям дорога\n",
              "998    p добрый время сутки p p пол год медотвод вакц...\n",
              "999    добрый день многодетный мама младший ребёнок г...\n",
              "Name: text_lemmed, Length: 1000, dtype: object"
            ]
          },
          "metadata": {},
          "execution_count": 64
        }
      ],
      "source": [
        "test['text_lemmed']"
      ]
    },
    {
      "cell_type": "markdown",
      "metadata": {
        "id": "rEopVR0itnzw"
      },
      "source": [
        "*Логистчиеская регрессия на тесте*"
      ]
    },
    {
      "cell_type": "code",
      "execution_count": 71,
      "metadata": {
        "id": "uD5QjnGG96yV"
      },
      "outputs": [],
      "source": [
        "pred = logreg.predict(test['text_lemmed'])\n",
        "df = pd.DataFrame(pred)\n",
        "u = (test_data['id'].to_frame()).join(df)\n",
        "u = u.rename(columns={0 : 'Категория'})\n",
        "u.to_csv('./lr.csv', index=False)"
      ]
    },
    {
      "cell_type": "markdown",
      "metadata": {
        "id": "drTnc11WtxTU"
      },
      "source": [
        "**Catboost**"
      ]
    },
    {
      "cell_type": "code",
      "execution_count": 66,
      "metadata": {
        "id": "qtqRbYOUnXbP"
      },
      "outputs": [],
      "source": [
        "pred = cbc.predict(test['text_lemmed'])\n",
        "df = pd.DataFrame(pred)\n",
        "u = (test_data['id'].to_frame()).join(df)\n",
        "u = u.rename(columns={0 : 'Категория'})\n",
        "u.to_csv('./cbc.csv', index=False)"
      ]
    },
    {
      "cell_type": "markdown",
      "metadata": {
        "id": "7an_uJC1GHpb"
      },
      "source": [
        "*Логистическая регрессия с подбором параметров*"
      ]
    },
    {
      "cell_type": "code",
      "execution_count": 67,
      "metadata": {
        "id": "S9IFFKwPGG0p"
      },
      "outputs": [],
      "source": [
        "pred = clf_GS.best_estimator_.predict(test['text_lemmed'])\n",
        "df = pd.DataFrame(pred)\n",
        "u = (test_data['id'].to_frame()).join(df)\n",
        "u = u.rename(columns={0 : 'Категория'})\n",
        "u.to_csv('./lrP.csv', index=False)"
      ]
    },
    {
      "cell_type": "code",
      "source": [
        "\n",
        "pred = clf_rd.best_estimator_.predict(test['text_lemmed'])\n",
        "df = pd.DataFrame(pred)\n",
        "u = (test_data['id'].to_frame()).join(df)\n",
        "u = u.rename(columns={0 : 'Категория'})\n",
        "u.to_csv('./ridge.csv', index=False)"
      ],
      "metadata": {
        "id": "pL4FIYJOm0z6"
      },
      "execution_count": 68,
      "outputs": []
    },
    {
      "cell_type": "code",
      "source": [
        "\n",
        "pred = clf_sgd.best_estimator_.predict(test['text_lemmed'])\n",
        "df = pd.DataFrame(pred)\n",
        "u = (test_data['id'].to_frame()).join(df)\n",
        "u = u.rename(columns={0 : 'Категория'})\n",
        "u.to_csv('./sgd.csv', index=False)"
      ],
      "metadata": {
        "id": "uVf2wovKqvLM"
      },
      "execution_count": 69,
      "outputs": []
    },
    {
      "cell_type": "markdown",
      "metadata": {
        "id": "j4CrnTbl0hgo"
      },
      "source": [
        "--------------------------"
      ]
    }
  ],
  "metadata": {
    "colab": {
      "collapsed_sections": [],
      "name": "Kursk_",
      "provenance": []
    },
    "gpuClass": "standard",
    "kernelspec": {
      "display_name": "Python 3",
      "name": "python3"
    },
    "language_info": {
      "name": "python"
    },
    "widgets": {
      "application/vnd.jupyter.widget-state+json": {
        "e327446481d249faa06bbf36c7501311": {
          "model_module": "@jupyter-widgets/controls",
          "model_name": "HBoxModel",
          "model_module_version": "1.5.0",
          "state": {
            "_dom_classes": [],
            "_model_module": "@jupyter-widgets/controls",
            "_model_module_version": "1.5.0",
            "_model_name": "HBoxModel",
            "_view_count": null,
            "_view_module": "@jupyter-widgets/controls",
            "_view_module_version": "1.5.0",
            "_view_name": "HBoxView",
            "box_style": "",
            "children": [
              "IPY_MODEL_0235441b4dea49558be9e1f16923f4ed",
              "IPY_MODEL_a82eecd3b5454c42aaf0d2432e77af79",
              "IPY_MODEL_0bc5da066fd24a0787a45e7c9a0e63c6"
            ],
            "layout": "IPY_MODEL_863d59f7220448618e2bdd03c576b9ff"
          }
        },
        "0235441b4dea49558be9e1f16923f4ed": {
          "model_module": "@jupyter-widgets/controls",
          "model_name": "HTMLModel",
          "model_module_version": "1.5.0",
          "state": {
            "_dom_classes": [],
            "_model_module": "@jupyter-widgets/controls",
            "_model_module_version": "1.5.0",
            "_model_name": "HTMLModel",
            "_view_count": null,
            "_view_module": "@jupyter-widgets/controls",
            "_view_module_version": "1.5.0",
            "_view_name": "HTMLView",
            "description": "",
            "description_tooltip": null,
            "layout": "IPY_MODEL_f719df7ea9014c07a47dfdbf5fef6977",
            "placeholder": "​",
            "style": "IPY_MODEL_4bc8673d5e36437ea3df058b48c9b1dc",
            "value": "100%"
          }
        },
        "a82eecd3b5454c42aaf0d2432e77af79": {
          "model_module": "@jupyter-widgets/controls",
          "model_name": "FloatProgressModel",
          "model_module_version": "1.5.0",
          "state": {
            "_dom_classes": [],
            "_model_module": "@jupyter-widgets/controls",
            "_model_module_version": "1.5.0",
            "_model_name": "FloatProgressModel",
            "_view_count": null,
            "_view_module": "@jupyter-widgets/controls",
            "_view_module_version": "1.5.0",
            "_view_name": "ProgressView",
            "bar_style": "success",
            "description": "",
            "description_tooltip": null,
            "layout": "IPY_MODEL_b751d7ba96e64093986513d4fda353bc",
            "max": 2000,
            "min": 0,
            "orientation": "horizontal",
            "style": "IPY_MODEL_227d5e14cdf84cc4864358f7f002096f",
            "value": 2000
          }
        },
        "0bc5da066fd24a0787a45e7c9a0e63c6": {
          "model_module": "@jupyter-widgets/controls",
          "model_name": "HTMLModel",
          "model_module_version": "1.5.0",
          "state": {
            "_dom_classes": [],
            "_model_module": "@jupyter-widgets/controls",
            "_model_module_version": "1.5.0",
            "_model_name": "HTMLModel",
            "_view_count": null,
            "_view_module": "@jupyter-widgets/controls",
            "_view_module_version": "1.5.0",
            "_view_name": "HTMLView",
            "description": "",
            "description_tooltip": null,
            "layout": "IPY_MODEL_87868b51ef5945559754ecbde2efc5de",
            "placeholder": "​",
            "style": "IPY_MODEL_45327cedeb7a4f72ad10b240f705b692",
            "value": " 2000/2000 [00:09&lt;00:00, 112.84it/s]"
          }
        },
        "863d59f7220448618e2bdd03c576b9ff": {
          "model_module": "@jupyter-widgets/base",
          "model_name": "LayoutModel",
          "model_module_version": "1.2.0",
          "state": {
            "_model_module": "@jupyter-widgets/base",
            "_model_module_version": "1.2.0",
            "_model_name": "LayoutModel",
            "_view_count": null,
            "_view_module": "@jupyter-widgets/base",
            "_view_module_version": "1.2.0",
            "_view_name": "LayoutView",
            "align_content": null,
            "align_items": null,
            "align_self": null,
            "border": null,
            "bottom": null,
            "display": null,
            "flex": null,
            "flex_flow": null,
            "grid_area": null,
            "grid_auto_columns": null,
            "grid_auto_flow": null,
            "grid_auto_rows": null,
            "grid_column": null,
            "grid_gap": null,
            "grid_row": null,
            "grid_template_areas": null,
            "grid_template_columns": null,
            "grid_template_rows": null,
            "height": null,
            "justify_content": null,
            "justify_items": null,
            "left": null,
            "margin": null,
            "max_height": null,
            "max_width": null,
            "min_height": null,
            "min_width": null,
            "object_fit": null,
            "object_position": null,
            "order": null,
            "overflow": null,
            "overflow_x": null,
            "overflow_y": null,
            "padding": null,
            "right": null,
            "top": null,
            "visibility": null,
            "width": null
          }
        },
        "f719df7ea9014c07a47dfdbf5fef6977": {
          "model_module": "@jupyter-widgets/base",
          "model_name": "LayoutModel",
          "model_module_version": "1.2.0",
          "state": {
            "_model_module": "@jupyter-widgets/base",
            "_model_module_version": "1.2.0",
            "_model_name": "LayoutModel",
            "_view_count": null,
            "_view_module": "@jupyter-widgets/base",
            "_view_module_version": "1.2.0",
            "_view_name": "LayoutView",
            "align_content": null,
            "align_items": null,
            "align_self": null,
            "border": null,
            "bottom": null,
            "display": null,
            "flex": null,
            "flex_flow": null,
            "grid_area": null,
            "grid_auto_columns": null,
            "grid_auto_flow": null,
            "grid_auto_rows": null,
            "grid_column": null,
            "grid_gap": null,
            "grid_row": null,
            "grid_template_areas": null,
            "grid_template_columns": null,
            "grid_template_rows": null,
            "height": null,
            "justify_content": null,
            "justify_items": null,
            "left": null,
            "margin": null,
            "max_height": null,
            "max_width": null,
            "min_height": null,
            "min_width": null,
            "object_fit": null,
            "object_position": null,
            "order": null,
            "overflow": null,
            "overflow_x": null,
            "overflow_y": null,
            "padding": null,
            "right": null,
            "top": null,
            "visibility": null,
            "width": null
          }
        },
        "4bc8673d5e36437ea3df058b48c9b1dc": {
          "model_module": "@jupyter-widgets/controls",
          "model_name": "DescriptionStyleModel",
          "model_module_version": "1.5.0",
          "state": {
            "_model_module": "@jupyter-widgets/controls",
            "_model_module_version": "1.5.0",
            "_model_name": "DescriptionStyleModel",
            "_view_count": null,
            "_view_module": "@jupyter-widgets/base",
            "_view_module_version": "1.2.0",
            "_view_name": "StyleView",
            "description_width": ""
          }
        },
        "b751d7ba96e64093986513d4fda353bc": {
          "model_module": "@jupyter-widgets/base",
          "model_name": "LayoutModel",
          "model_module_version": "1.2.0",
          "state": {
            "_model_module": "@jupyter-widgets/base",
            "_model_module_version": "1.2.0",
            "_model_name": "LayoutModel",
            "_view_count": null,
            "_view_module": "@jupyter-widgets/base",
            "_view_module_version": "1.2.0",
            "_view_name": "LayoutView",
            "align_content": null,
            "align_items": null,
            "align_self": null,
            "border": null,
            "bottom": null,
            "display": null,
            "flex": null,
            "flex_flow": null,
            "grid_area": null,
            "grid_auto_columns": null,
            "grid_auto_flow": null,
            "grid_auto_rows": null,
            "grid_column": null,
            "grid_gap": null,
            "grid_row": null,
            "grid_template_areas": null,
            "grid_template_columns": null,
            "grid_template_rows": null,
            "height": null,
            "justify_content": null,
            "justify_items": null,
            "left": null,
            "margin": null,
            "max_height": null,
            "max_width": null,
            "min_height": null,
            "min_width": null,
            "object_fit": null,
            "object_position": null,
            "order": null,
            "overflow": null,
            "overflow_x": null,
            "overflow_y": null,
            "padding": null,
            "right": null,
            "top": null,
            "visibility": null,
            "width": null
          }
        },
        "227d5e14cdf84cc4864358f7f002096f": {
          "model_module": "@jupyter-widgets/controls",
          "model_name": "ProgressStyleModel",
          "model_module_version": "1.5.0",
          "state": {
            "_model_module": "@jupyter-widgets/controls",
            "_model_module_version": "1.5.0",
            "_model_name": "ProgressStyleModel",
            "_view_count": null,
            "_view_module": "@jupyter-widgets/base",
            "_view_module_version": "1.2.0",
            "_view_name": "StyleView",
            "bar_color": null,
            "description_width": ""
          }
        },
        "87868b51ef5945559754ecbde2efc5de": {
          "model_module": "@jupyter-widgets/base",
          "model_name": "LayoutModel",
          "model_module_version": "1.2.0",
          "state": {
            "_model_module": "@jupyter-widgets/base",
            "_model_module_version": "1.2.0",
            "_model_name": "LayoutModel",
            "_view_count": null,
            "_view_module": "@jupyter-widgets/base",
            "_view_module_version": "1.2.0",
            "_view_name": "LayoutView",
            "align_content": null,
            "align_items": null,
            "align_self": null,
            "border": null,
            "bottom": null,
            "display": null,
            "flex": null,
            "flex_flow": null,
            "grid_area": null,
            "grid_auto_columns": null,
            "grid_auto_flow": null,
            "grid_auto_rows": null,
            "grid_column": null,
            "grid_gap": null,
            "grid_row": null,
            "grid_template_areas": null,
            "grid_template_columns": null,
            "grid_template_rows": null,
            "height": null,
            "justify_content": null,
            "justify_items": null,
            "left": null,
            "margin": null,
            "max_height": null,
            "max_width": null,
            "min_height": null,
            "min_width": null,
            "object_fit": null,
            "object_position": null,
            "order": null,
            "overflow": null,
            "overflow_x": null,
            "overflow_y": null,
            "padding": null,
            "right": null,
            "top": null,
            "visibility": null,
            "width": null
          }
        },
        "45327cedeb7a4f72ad10b240f705b692": {
          "model_module": "@jupyter-widgets/controls",
          "model_name": "DescriptionStyleModel",
          "model_module_version": "1.5.0",
          "state": {
            "_model_module": "@jupyter-widgets/controls",
            "_model_module_version": "1.5.0",
            "_model_name": "DescriptionStyleModel",
            "_view_count": null,
            "_view_module": "@jupyter-widgets/base",
            "_view_module_version": "1.2.0",
            "_view_name": "StyleView",
            "description_width": ""
          }
        },
        "f413466c543242ca910c60207e98aa5a": {
          "model_module": "@jupyter-widgets/controls",
          "model_name": "HBoxModel",
          "model_module_version": "1.5.0",
          "state": {
            "_dom_classes": [],
            "_model_module": "@jupyter-widgets/controls",
            "_model_module_version": "1.5.0",
            "_model_name": "HBoxModel",
            "_view_count": null,
            "_view_module": "@jupyter-widgets/controls",
            "_view_module_version": "1.5.0",
            "_view_name": "HBoxView",
            "box_style": "",
            "children": [
              "IPY_MODEL_b9e641f958924e8b9fb146311f5922ac",
              "IPY_MODEL_8408aad3e43842fe9d96b09e21c5d756",
              "IPY_MODEL_14f2c2778aef42ba8e9d9fe7ed394178"
            ],
            "layout": "IPY_MODEL_aba4e5da92e84632b9da4415e48454f8"
          }
        },
        "b9e641f958924e8b9fb146311f5922ac": {
          "model_module": "@jupyter-widgets/controls",
          "model_name": "HTMLModel",
          "model_module_version": "1.5.0",
          "state": {
            "_dom_classes": [],
            "_model_module": "@jupyter-widgets/controls",
            "_model_module_version": "1.5.0",
            "_model_name": "HTMLModel",
            "_view_count": null,
            "_view_module": "@jupyter-widgets/controls",
            "_view_module_version": "1.5.0",
            "_view_name": "HTMLView",
            "description": "",
            "description_tooltip": null,
            "layout": "IPY_MODEL_ad7607d44dfc480caa046da482f31fe6",
            "placeholder": "​",
            "style": "IPY_MODEL_e22e06e660654701b980a7f83db367be",
            "value": "100%"
          }
        },
        "8408aad3e43842fe9d96b09e21c5d756": {
          "model_module": "@jupyter-widgets/controls",
          "model_name": "FloatProgressModel",
          "model_module_version": "1.5.0",
          "state": {
            "_dom_classes": [],
            "_model_module": "@jupyter-widgets/controls",
            "_model_module_version": "1.5.0",
            "_model_name": "FloatProgressModel",
            "_view_count": null,
            "_view_module": "@jupyter-widgets/controls",
            "_view_module_version": "1.5.0",
            "_view_name": "ProgressView",
            "bar_style": "success",
            "description": "",
            "description_tooltip": null,
            "layout": "IPY_MODEL_ffda9b58829c4752920e6ff93840ee66",
            "max": 2000,
            "min": 0,
            "orientation": "horizontal",
            "style": "IPY_MODEL_49de78113ff245408e7bf5d4067e909a",
            "value": 2000
          }
        },
        "14f2c2778aef42ba8e9d9fe7ed394178": {
          "model_module": "@jupyter-widgets/controls",
          "model_name": "HTMLModel",
          "model_module_version": "1.5.0",
          "state": {
            "_dom_classes": [],
            "_model_module": "@jupyter-widgets/controls",
            "_model_module_version": "1.5.0",
            "_model_name": "HTMLModel",
            "_view_count": null,
            "_view_module": "@jupyter-widgets/controls",
            "_view_module_version": "1.5.0",
            "_view_name": "HTMLView",
            "description": "",
            "description_tooltip": null,
            "layout": "IPY_MODEL_3859787427a34d3b9229b721e1096a5f",
            "placeholder": "​",
            "style": "IPY_MODEL_ed996adbc0f74728804ab1bf40d2719d",
            "value": " 2000/2000 [00:42&lt;00:00, 94.18it/s]"
          }
        },
        "aba4e5da92e84632b9da4415e48454f8": {
          "model_module": "@jupyter-widgets/base",
          "model_name": "LayoutModel",
          "model_module_version": "1.2.0",
          "state": {
            "_model_module": "@jupyter-widgets/base",
            "_model_module_version": "1.2.0",
            "_model_name": "LayoutModel",
            "_view_count": null,
            "_view_module": "@jupyter-widgets/base",
            "_view_module_version": "1.2.0",
            "_view_name": "LayoutView",
            "align_content": null,
            "align_items": null,
            "align_self": null,
            "border": null,
            "bottom": null,
            "display": null,
            "flex": null,
            "flex_flow": null,
            "grid_area": null,
            "grid_auto_columns": null,
            "grid_auto_flow": null,
            "grid_auto_rows": null,
            "grid_column": null,
            "grid_gap": null,
            "grid_row": null,
            "grid_template_areas": null,
            "grid_template_columns": null,
            "grid_template_rows": null,
            "height": null,
            "justify_content": null,
            "justify_items": null,
            "left": null,
            "margin": null,
            "max_height": null,
            "max_width": null,
            "min_height": null,
            "min_width": null,
            "object_fit": null,
            "object_position": null,
            "order": null,
            "overflow": null,
            "overflow_x": null,
            "overflow_y": null,
            "padding": null,
            "right": null,
            "top": null,
            "visibility": null,
            "width": null
          }
        },
        "ad7607d44dfc480caa046da482f31fe6": {
          "model_module": "@jupyter-widgets/base",
          "model_name": "LayoutModel",
          "model_module_version": "1.2.0",
          "state": {
            "_model_module": "@jupyter-widgets/base",
            "_model_module_version": "1.2.0",
            "_model_name": "LayoutModel",
            "_view_count": null,
            "_view_module": "@jupyter-widgets/base",
            "_view_module_version": "1.2.0",
            "_view_name": "LayoutView",
            "align_content": null,
            "align_items": null,
            "align_self": null,
            "border": null,
            "bottom": null,
            "display": null,
            "flex": null,
            "flex_flow": null,
            "grid_area": null,
            "grid_auto_columns": null,
            "grid_auto_flow": null,
            "grid_auto_rows": null,
            "grid_column": null,
            "grid_gap": null,
            "grid_row": null,
            "grid_template_areas": null,
            "grid_template_columns": null,
            "grid_template_rows": null,
            "height": null,
            "justify_content": null,
            "justify_items": null,
            "left": null,
            "margin": null,
            "max_height": null,
            "max_width": null,
            "min_height": null,
            "min_width": null,
            "object_fit": null,
            "object_position": null,
            "order": null,
            "overflow": null,
            "overflow_x": null,
            "overflow_y": null,
            "padding": null,
            "right": null,
            "top": null,
            "visibility": null,
            "width": null
          }
        },
        "e22e06e660654701b980a7f83db367be": {
          "model_module": "@jupyter-widgets/controls",
          "model_name": "DescriptionStyleModel",
          "model_module_version": "1.5.0",
          "state": {
            "_model_module": "@jupyter-widgets/controls",
            "_model_module_version": "1.5.0",
            "_model_name": "DescriptionStyleModel",
            "_view_count": null,
            "_view_module": "@jupyter-widgets/base",
            "_view_module_version": "1.2.0",
            "_view_name": "StyleView",
            "description_width": ""
          }
        },
        "ffda9b58829c4752920e6ff93840ee66": {
          "model_module": "@jupyter-widgets/base",
          "model_name": "LayoutModel",
          "model_module_version": "1.2.0",
          "state": {
            "_model_module": "@jupyter-widgets/base",
            "_model_module_version": "1.2.0",
            "_model_name": "LayoutModel",
            "_view_count": null,
            "_view_module": "@jupyter-widgets/base",
            "_view_module_version": "1.2.0",
            "_view_name": "LayoutView",
            "align_content": null,
            "align_items": null,
            "align_self": null,
            "border": null,
            "bottom": null,
            "display": null,
            "flex": null,
            "flex_flow": null,
            "grid_area": null,
            "grid_auto_columns": null,
            "grid_auto_flow": null,
            "grid_auto_rows": null,
            "grid_column": null,
            "grid_gap": null,
            "grid_row": null,
            "grid_template_areas": null,
            "grid_template_columns": null,
            "grid_template_rows": null,
            "height": null,
            "justify_content": null,
            "justify_items": null,
            "left": null,
            "margin": null,
            "max_height": null,
            "max_width": null,
            "min_height": null,
            "min_width": null,
            "object_fit": null,
            "object_position": null,
            "order": null,
            "overflow": null,
            "overflow_x": null,
            "overflow_y": null,
            "padding": null,
            "right": null,
            "top": null,
            "visibility": null,
            "width": null
          }
        },
        "49de78113ff245408e7bf5d4067e909a": {
          "model_module": "@jupyter-widgets/controls",
          "model_name": "ProgressStyleModel",
          "model_module_version": "1.5.0",
          "state": {
            "_model_module": "@jupyter-widgets/controls",
            "_model_module_version": "1.5.0",
            "_model_name": "ProgressStyleModel",
            "_view_count": null,
            "_view_module": "@jupyter-widgets/base",
            "_view_module_version": "1.2.0",
            "_view_name": "StyleView",
            "bar_color": null,
            "description_width": ""
          }
        },
        "3859787427a34d3b9229b721e1096a5f": {
          "model_module": "@jupyter-widgets/base",
          "model_name": "LayoutModel",
          "model_module_version": "1.2.0",
          "state": {
            "_model_module": "@jupyter-widgets/base",
            "_model_module_version": "1.2.0",
            "_model_name": "LayoutModel",
            "_view_count": null,
            "_view_module": "@jupyter-widgets/base",
            "_view_module_version": "1.2.0",
            "_view_name": "LayoutView",
            "align_content": null,
            "align_items": null,
            "align_self": null,
            "border": null,
            "bottom": null,
            "display": null,
            "flex": null,
            "flex_flow": null,
            "grid_area": null,
            "grid_auto_columns": null,
            "grid_auto_flow": null,
            "grid_auto_rows": null,
            "grid_column": null,
            "grid_gap": null,
            "grid_row": null,
            "grid_template_areas": null,
            "grid_template_columns": null,
            "grid_template_rows": null,
            "height": null,
            "justify_content": null,
            "justify_items": null,
            "left": null,
            "margin": null,
            "max_height": null,
            "max_width": null,
            "min_height": null,
            "min_width": null,
            "object_fit": null,
            "object_position": null,
            "order": null,
            "overflow": null,
            "overflow_x": null,
            "overflow_y": null,
            "padding": null,
            "right": null,
            "top": null,
            "visibility": null,
            "width": null
          }
        },
        "ed996adbc0f74728804ab1bf40d2719d": {
          "model_module": "@jupyter-widgets/controls",
          "model_name": "DescriptionStyleModel",
          "model_module_version": "1.5.0",
          "state": {
            "_model_module": "@jupyter-widgets/controls",
            "_model_module_version": "1.5.0",
            "_model_name": "DescriptionStyleModel",
            "_view_count": null,
            "_view_module": "@jupyter-widgets/base",
            "_view_module_version": "1.2.0",
            "_view_name": "StyleView",
            "description_width": ""
          }
        },
        "b1f6fe1903874df8864b36313a6c1170": {
          "model_module": "@jupyter-widgets/controls",
          "model_name": "HBoxModel",
          "model_module_version": "1.5.0",
          "state": {
            "_dom_classes": [],
            "_model_module": "@jupyter-widgets/controls",
            "_model_module_version": "1.5.0",
            "_model_name": "HBoxModel",
            "_view_count": null,
            "_view_module": "@jupyter-widgets/controls",
            "_view_module_version": "1.5.0",
            "_view_name": "HBoxView",
            "box_style": "",
            "children": [
              "IPY_MODEL_e7a5ea35ce22414eaab7e3b9f3f922e6",
              "IPY_MODEL_08e36a33f1f1405195c5488dc56f78d9",
              "IPY_MODEL_048d83e539b444b69b70ae15190148e0"
            ],
            "layout": "IPY_MODEL_bd8d088dac864781bb6c3a41ec590cf7"
          }
        },
        "e7a5ea35ce22414eaab7e3b9f3f922e6": {
          "model_module": "@jupyter-widgets/controls",
          "model_name": "HTMLModel",
          "model_module_version": "1.5.0",
          "state": {
            "_dom_classes": [],
            "_model_module": "@jupyter-widgets/controls",
            "_model_module_version": "1.5.0",
            "_model_name": "HTMLModel",
            "_view_count": null,
            "_view_module": "@jupyter-widgets/controls",
            "_view_module_version": "1.5.0",
            "_view_name": "HTMLView",
            "description": "",
            "description_tooltip": null,
            "layout": "IPY_MODEL_a8fefeb5e5014e10b6f7d30b41e90fad",
            "placeholder": "​",
            "style": "IPY_MODEL_f2a1249871d54a1fb9d162addb2f0290",
            "value": "100%"
          }
        },
        "08e36a33f1f1405195c5488dc56f78d9": {
          "model_module": "@jupyter-widgets/controls",
          "model_name": "FloatProgressModel",
          "model_module_version": "1.5.0",
          "state": {
            "_dom_classes": [],
            "_model_module": "@jupyter-widgets/controls",
            "_model_module_version": "1.5.0",
            "_model_name": "FloatProgressModel",
            "_view_count": null,
            "_view_module": "@jupyter-widgets/controls",
            "_view_module_version": "1.5.0",
            "_view_name": "ProgressView",
            "bar_style": "success",
            "description": "",
            "description_tooltip": null,
            "layout": "IPY_MODEL_514379aad6124426a69abed35f283944",
            "max": 1000,
            "min": 0,
            "orientation": "horizontal",
            "style": "IPY_MODEL_01782cd3ed4441b79da86971eeff7744",
            "value": 1000
          }
        },
        "048d83e539b444b69b70ae15190148e0": {
          "model_module": "@jupyter-widgets/controls",
          "model_name": "HTMLModel",
          "model_module_version": "1.5.0",
          "state": {
            "_dom_classes": [],
            "_model_module": "@jupyter-widgets/controls",
            "_model_module_version": "1.5.0",
            "_model_name": "HTMLModel",
            "_view_count": null,
            "_view_module": "@jupyter-widgets/controls",
            "_view_module_version": "1.5.0",
            "_view_name": "HTMLView",
            "description": "",
            "description_tooltip": null,
            "layout": "IPY_MODEL_1d31648fbf28456fbae69f64a20e743b",
            "placeholder": "​",
            "style": "IPY_MODEL_e36b3c90c2aa4d898bde19601481ae25",
            "value": " 1000/1000 [00:08&lt;00:00, 124.42it/s]"
          }
        },
        "bd8d088dac864781bb6c3a41ec590cf7": {
          "model_module": "@jupyter-widgets/base",
          "model_name": "LayoutModel",
          "model_module_version": "1.2.0",
          "state": {
            "_model_module": "@jupyter-widgets/base",
            "_model_module_version": "1.2.0",
            "_model_name": "LayoutModel",
            "_view_count": null,
            "_view_module": "@jupyter-widgets/base",
            "_view_module_version": "1.2.0",
            "_view_name": "LayoutView",
            "align_content": null,
            "align_items": null,
            "align_self": null,
            "border": null,
            "bottom": null,
            "display": null,
            "flex": null,
            "flex_flow": null,
            "grid_area": null,
            "grid_auto_columns": null,
            "grid_auto_flow": null,
            "grid_auto_rows": null,
            "grid_column": null,
            "grid_gap": null,
            "grid_row": null,
            "grid_template_areas": null,
            "grid_template_columns": null,
            "grid_template_rows": null,
            "height": null,
            "justify_content": null,
            "justify_items": null,
            "left": null,
            "margin": null,
            "max_height": null,
            "max_width": null,
            "min_height": null,
            "min_width": null,
            "object_fit": null,
            "object_position": null,
            "order": null,
            "overflow": null,
            "overflow_x": null,
            "overflow_y": null,
            "padding": null,
            "right": null,
            "top": null,
            "visibility": null,
            "width": null
          }
        },
        "a8fefeb5e5014e10b6f7d30b41e90fad": {
          "model_module": "@jupyter-widgets/base",
          "model_name": "LayoutModel",
          "model_module_version": "1.2.0",
          "state": {
            "_model_module": "@jupyter-widgets/base",
            "_model_module_version": "1.2.0",
            "_model_name": "LayoutModel",
            "_view_count": null,
            "_view_module": "@jupyter-widgets/base",
            "_view_module_version": "1.2.0",
            "_view_name": "LayoutView",
            "align_content": null,
            "align_items": null,
            "align_self": null,
            "border": null,
            "bottom": null,
            "display": null,
            "flex": null,
            "flex_flow": null,
            "grid_area": null,
            "grid_auto_columns": null,
            "grid_auto_flow": null,
            "grid_auto_rows": null,
            "grid_column": null,
            "grid_gap": null,
            "grid_row": null,
            "grid_template_areas": null,
            "grid_template_columns": null,
            "grid_template_rows": null,
            "height": null,
            "justify_content": null,
            "justify_items": null,
            "left": null,
            "margin": null,
            "max_height": null,
            "max_width": null,
            "min_height": null,
            "min_width": null,
            "object_fit": null,
            "object_position": null,
            "order": null,
            "overflow": null,
            "overflow_x": null,
            "overflow_y": null,
            "padding": null,
            "right": null,
            "top": null,
            "visibility": null,
            "width": null
          }
        },
        "f2a1249871d54a1fb9d162addb2f0290": {
          "model_module": "@jupyter-widgets/controls",
          "model_name": "DescriptionStyleModel",
          "model_module_version": "1.5.0",
          "state": {
            "_model_module": "@jupyter-widgets/controls",
            "_model_module_version": "1.5.0",
            "_model_name": "DescriptionStyleModel",
            "_view_count": null,
            "_view_module": "@jupyter-widgets/base",
            "_view_module_version": "1.2.0",
            "_view_name": "StyleView",
            "description_width": ""
          }
        },
        "514379aad6124426a69abed35f283944": {
          "model_module": "@jupyter-widgets/base",
          "model_name": "LayoutModel",
          "model_module_version": "1.2.0",
          "state": {
            "_model_module": "@jupyter-widgets/base",
            "_model_module_version": "1.2.0",
            "_model_name": "LayoutModel",
            "_view_count": null,
            "_view_module": "@jupyter-widgets/base",
            "_view_module_version": "1.2.0",
            "_view_name": "LayoutView",
            "align_content": null,
            "align_items": null,
            "align_self": null,
            "border": null,
            "bottom": null,
            "display": null,
            "flex": null,
            "flex_flow": null,
            "grid_area": null,
            "grid_auto_columns": null,
            "grid_auto_flow": null,
            "grid_auto_rows": null,
            "grid_column": null,
            "grid_gap": null,
            "grid_row": null,
            "grid_template_areas": null,
            "grid_template_columns": null,
            "grid_template_rows": null,
            "height": null,
            "justify_content": null,
            "justify_items": null,
            "left": null,
            "margin": null,
            "max_height": null,
            "max_width": null,
            "min_height": null,
            "min_width": null,
            "object_fit": null,
            "object_position": null,
            "order": null,
            "overflow": null,
            "overflow_x": null,
            "overflow_y": null,
            "padding": null,
            "right": null,
            "top": null,
            "visibility": null,
            "width": null
          }
        },
        "01782cd3ed4441b79da86971eeff7744": {
          "model_module": "@jupyter-widgets/controls",
          "model_name": "ProgressStyleModel",
          "model_module_version": "1.5.0",
          "state": {
            "_model_module": "@jupyter-widgets/controls",
            "_model_module_version": "1.5.0",
            "_model_name": "ProgressStyleModel",
            "_view_count": null,
            "_view_module": "@jupyter-widgets/base",
            "_view_module_version": "1.2.0",
            "_view_name": "StyleView",
            "bar_color": null,
            "description_width": ""
          }
        },
        "1d31648fbf28456fbae69f64a20e743b": {
          "model_module": "@jupyter-widgets/base",
          "model_name": "LayoutModel",
          "model_module_version": "1.2.0",
          "state": {
            "_model_module": "@jupyter-widgets/base",
            "_model_module_version": "1.2.0",
            "_model_name": "LayoutModel",
            "_view_count": null,
            "_view_module": "@jupyter-widgets/base",
            "_view_module_version": "1.2.0",
            "_view_name": "LayoutView",
            "align_content": null,
            "align_items": null,
            "align_self": null,
            "border": null,
            "bottom": null,
            "display": null,
            "flex": null,
            "flex_flow": null,
            "grid_area": null,
            "grid_auto_columns": null,
            "grid_auto_flow": null,
            "grid_auto_rows": null,
            "grid_column": null,
            "grid_gap": null,
            "grid_row": null,
            "grid_template_areas": null,
            "grid_template_columns": null,
            "grid_template_rows": null,
            "height": null,
            "justify_content": null,
            "justify_items": null,
            "left": null,
            "margin": null,
            "max_height": null,
            "max_width": null,
            "min_height": null,
            "min_width": null,
            "object_fit": null,
            "object_position": null,
            "order": null,
            "overflow": null,
            "overflow_x": null,
            "overflow_y": null,
            "padding": null,
            "right": null,
            "top": null,
            "visibility": null,
            "width": null
          }
        },
        "e36b3c90c2aa4d898bde19601481ae25": {
          "model_module": "@jupyter-widgets/controls",
          "model_name": "DescriptionStyleModel",
          "model_module_version": "1.5.0",
          "state": {
            "_model_module": "@jupyter-widgets/controls",
            "_model_module_version": "1.5.0",
            "_model_name": "DescriptionStyleModel",
            "_view_count": null,
            "_view_module": "@jupyter-widgets/base",
            "_view_module_version": "1.2.0",
            "_view_name": "StyleView",
            "description_width": ""
          }
        }
      }
    }
  },
  "nbformat": 4,
  "nbformat_minor": 0
}