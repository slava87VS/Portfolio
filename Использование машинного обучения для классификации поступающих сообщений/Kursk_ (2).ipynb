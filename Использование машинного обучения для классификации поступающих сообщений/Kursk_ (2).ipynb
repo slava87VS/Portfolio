{
  "nbformat": 4,
  "nbformat_minor": 0,
  "metadata": {
    "colab": {
      "name": "Kursk_",
      "provenance": [],
      "collapsed_sections": []
    },
    "kernelspec": {
      "name": "python3",
      "display_name": "Python 3"
    },
    "language_info": {
      "name": "python"
    },
    "gpuClass": "standard",
    "widgets": {
      "application/vnd.jupyter.widget-state+json": {
        "c7c44bf36e2b431f8e28fd20f8597654": {
          "model_module": "@jupyter-widgets/controls",
          "model_name": "HBoxModel",
          "model_module_version": "1.5.0",
          "state": {
            "_dom_classes": [],
            "_model_module": "@jupyter-widgets/controls",
            "_model_module_version": "1.5.0",
            "_model_name": "HBoxModel",
            "_view_count": null,
            "_view_module": "@jupyter-widgets/controls",
            "_view_module_version": "1.5.0",
            "_view_name": "HBoxView",
            "box_style": "",
            "children": [
              "IPY_MODEL_05a934e4abd4459cbc694d4802c3e5f5",
              "IPY_MODEL_cdb54bf31fc74dd08262eedc1fe3cdd0",
              "IPY_MODEL_504c3f35161b453ca1aa643f5dcade83"
            ],
            "layout": "IPY_MODEL_9b99ed9d39174229bebde1c7a7ac69e3"
          }
        },
        "05a934e4abd4459cbc694d4802c3e5f5": {
          "model_module": "@jupyter-widgets/controls",
          "model_name": "HTMLModel",
          "model_module_version": "1.5.0",
          "state": {
            "_dom_classes": [],
            "_model_module": "@jupyter-widgets/controls",
            "_model_module_version": "1.5.0",
            "_model_name": "HTMLModel",
            "_view_count": null,
            "_view_module": "@jupyter-widgets/controls",
            "_view_module_version": "1.5.0",
            "_view_name": "HTMLView",
            "description": "",
            "description_tooltip": null,
            "layout": "IPY_MODEL_4d0e0bd01d824ebb922cf403bed04fdb",
            "placeholder": "​",
            "style": "IPY_MODEL_14981b2f92f0474ba87fe440d62e3d75",
            "value": "100%"
          }
        },
        "cdb54bf31fc74dd08262eedc1fe3cdd0": {
          "model_module": "@jupyter-widgets/controls",
          "model_name": "FloatProgressModel",
          "model_module_version": "1.5.0",
          "state": {
            "_dom_classes": [],
            "_model_module": "@jupyter-widgets/controls",
            "_model_module_version": "1.5.0",
            "_model_name": "FloatProgressModel",
            "_view_count": null,
            "_view_module": "@jupyter-widgets/controls",
            "_view_module_version": "1.5.0",
            "_view_name": "ProgressView",
            "bar_style": "success",
            "description": "",
            "description_tooltip": null,
            "layout": "IPY_MODEL_1dfdf010101c4637bdb4cda49f15270b",
            "max": 2000,
            "min": 0,
            "orientation": "horizontal",
            "style": "IPY_MODEL_701fabb36eb2403ab75ecb554758aa04",
            "value": 2000
          }
        },
        "504c3f35161b453ca1aa643f5dcade83": {
          "model_module": "@jupyter-widgets/controls",
          "model_name": "HTMLModel",
          "model_module_version": "1.5.0",
          "state": {
            "_dom_classes": [],
            "_model_module": "@jupyter-widgets/controls",
            "_model_module_version": "1.5.0",
            "_model_name": "HTMLModel",
            "_view_count": null,
            "_view_module": "@jupyter-widgets/controls",
            "_view_module_version": "1.5.0",
            "_view_name": "HTMLView",
            "description": "",
            "description_tooltip": null,
            "layout": "IPY_MODEL_351adbb3d33b402c93976de6e9cb235e",
            "placeholder": "​",
            "style": "IPY_MODEL_8c5be04cfc4f4f75b3f1a6c2b77b2fb4",
            "value": " 2000/2000 [00:15&lt;00:00, 277.32it/s]"
          }
        },
        "9b99ed9d39174229bebde1c7a7ac69e3": {
          "model_module": "@jupyter-widgets/base",
          "model_name": "LayoutModel",
          "model_module_version": "1.2.0",
          "state": {
            "_model_module": "@jupyter-widgets/base",
            "_model_module_version": "1.2.0",
            "_model_name": "LayoutModel",
            "_view_count": null,
            "_view_module": "@jupyter-widgets/base",
            "_view_module_version": "1.2.0",
            "_view_name": "LayoutView",
            "align_content": null,
            "align_items": null,
            "align_self": null,
            "border": null,
            "bottom": null,
            "display": null,
            "flex": null,
            "flex_flow": null,
            "grid_area": null,
            "grid_auto_columns": null,
            "grid_auto_flow": null,
            "grid_auto_rows": null,
            "grid_column": null,
            "grid_gap": null,
            "grid_row": null,
            "grid_template_areas": null,
            "grid_template_columns": null,
            "grid_template_rows": null,
            "height": null,
            "justify_content": null,
            "justify_items": null,
            "left": null,
            "margin": null,
            "max_height": null,
            "max_width": null,
            "min_height": null,
            "min_width": null,
            "object_fit": null,
            "object_position": null,
            "order": null,
            "overflow": null,
            "overflow_x": null,
            "overflow_y": null,
            "padding": null,
            "right": null,
            "top": null,
            "visibility": null,
            "width": null
          }
        },
        "4d0e0bd01d824ebb922cf403bed04fdb": {
          "model_module": "@jupyter-widgets/base",
          "model_name": "LayoutModel",
          "model_module_version": "1.2.0",
          "state": {
            "_model_module": "@jupyter-widgets/base",
            "_model_module_version": "1.2.0",
            "_model_name": "LayoutModel",
            "_view_count": null,
            "_view_module": "@jupyter-widgets/base",
            "_view_module_version": "1.2.0",
            "_view_name": "LayoutView",
            "align_content": null,
            "align_items": null,
            "align_self": null,
            "border": null,
            "bottom": null,
            "display": null,
            "flex": null,
            "flex_flow": null,
            "grid_area": null,
            "grid_auto_columns": null,
            "grid_auto_flow": null,
            "grid_auto_rows": null,
            "grid_column": null,
            "grid_gap": null,
            "grid_row": null,
            "grid_template_areas": null,
            "grid_template_columns": null,
            "grid_template_rows": null,
            "height": null,
            "justify_content": null,
            "justify_items": null,
            "left": null,
            "margin": null,
            "max_height": null,
            "max_width": null,
            "min_height": null,
            "min_width": null,
            "object_fit": null,
            "object_position": null,
            "order": null,
            "overflow": null,
            "overflow_x": null,
            "overflow_y": null,
            "padding": null,
            "right": null,
            "top": null,
            "visibility": null,
            "width": null
          }
        },
        "14981b2f92f0474ba87fe440d62e3d75": {
          "model_module": "@jupyter-widgets/controls",
          "model_name": "DescriptionStyleModel",
          "model_module_version": "1.5.0",
          "state": {
            "_model_module": "@jupyter-widgets/controls",
            "_model_module_version": "1.5.0",
            "_model_name": "DescriptionStyleModel",
            "_view_count": null,
            "_view_module": "@jupyter-widgets/base",
            "_view_module_version": "1.2.0",
            "_view_name": "StyleView",
            "description_width": ""
          }
        },
        "1dfdf010101c4637bdb4cda49f15270b": {
          "model_module": "@jupyter-widgets/base",
          "model_name": "LayoutModel",
          "model_module_version": "1.2.0",
          "state": {
            "_model_module": "@jupyter-widgets/base",
            "_model_module_version": "1.2.0",
            "_model_name": "LayoutModel",
            "_view_count": null,
            "_view_module": "@jupyter-widgets/base",
            "_view_module_version": "1.2.0",
            "_view_name": "LayoutView",
            "align_content": null,
            "align_items": null,
            "align_self": null,
            "border": null,
            "bottom": null,
            "display": null,
            "flex": null,
            "flex_flow": null,
            "grid_area": null,
            "grid_auto_columns": null,
            "grid_auto_flow": null,
            "grid_auto_rows": null,
            "grid_column": null,
            "grid_gap": null,
            "grid_row": null,
            "grid_template_areas": null,
            "grid_template_columns": null,
            "grid_template_rows": null,
            "height": null,
            "justify_content": null,
            "justify_items": null,
            "left": null,
            "margin": null,
            "max_height": null,
            "max_width": null,
            "min_height": null,
            "min_width": null,
            "object_fit": null,
            "object_position": null,
            "order": null,
            "overflow": null,
            "overflow_x": null,
            "overflow_y": null,
            "padding": null,
            "right": null,
            "top": null,
            "visibility": null,
            "width": null
          }
        },
        "701fabb36eb2403ab75ecb554758aa04": {
          "model_module": "@jupyter-widgets/controls",
          "model_name": "ProgressStyleModel",
          "model_module_version": "1.5.0",
          "state": {
            "_model_module": "@jupyter-widgets/controls",
            "_model_module_version": "1.5.0",
            "_model_name": "ProgressStyleModel",
            "_view_count": null,
            "_view_module": "@jupyter-widgets/base",
            "_view_module_version": "1.2.0",
            "_view_name": "StyleView",
            "bar_color": null,
            "description_width": ""
          }
        },
        "351adbb3d33b402c93976de6e9cb235e": {
          "model_module": "@jupyter-widgets/base",
          "model_name": "LayoutModel",
          "model_module_version": "1.2.0",
          "state": {
            "_model_module": "@jupyter-widgets/base",
            "_model_module_version": "1.2.0",
            "_model_name": "LayoutModel",
            "_view_count": null,
            "_view_module": "@jupyter-widgets/base",
            "_view_module_version": "1.2.0",
            "_view_name": "LayoutView",
            "align_content": null,
            "align_items": null,
            "align_self": null,
            "border": null,
            "bottom": null,
            "display": null,
            "flex": null,
            "flex_flow": null,
            "grid_area": null,
            "grid_auto_columns": null,
            "grid_auto_flow": null,
            "grid_auto_rows": null,
            "grid_column": null,
            "grid_gap": null,
            "grid_row": null,
            "grid_template_areas": null,
            "grid_template_columns": null,
            "grid_template_rows": null,
            "height": null,
            "justify_content": null,
            "justify_items": null,
            "left": null,
            "margin": null,
            "max_height": null,
            "max_width": null,
            "min_height": null,
            "min_width": null,
            "object_fit": null,
            "object_position": null,
            "order": null,
            "overflow": null,
            "overflow_x": null,
            "overflow_y": null,
            "padding": null,
            "right": null,
            "top": null,
            "visibility": null,
            "width": null
          }
        },
        "8c5be04cfc4f4f75b3f1a6c2b77b2fb4": {
          "model_module": "@jupyter-widgets/controls",
          "model_name": "DescriptionStyleModel",
          "model_module_version": "1.5.0",
          "state": {
            "_model_module": "@jupyter-widgets/controls",
            "_model_module_version": "1.5.0",
            "_model_name": "DescriptionStyleModel",
            "_view_count": null,
            "_view_module": "@jupyter-widgets/base",
            "_view_module_version": "1.2.0",
            "_view_name": "StyleView",
            "description_width": ""
          }
        },
        "354759c14fd848ad98472571a8376b51": {
          "model_module": "@jupyter-widgets/controls",
          "model_name": "HBoxModel",
          "model_module_version": "1.5.0",
          "state": {
            "_dom_classes": [],
            "_model_module": "@jupyter-widgets/controls",
            "_model_module_version": "1.5.0",
            "_model_name": "HBoxModel",
            "_view_count": null,
            "_view_module": "@jupyter-widgets/controls",
            "_view_module_version": "1.5.0",
            "_view_name": "HBoxView",
            "box_style": "",
            "children": [
              "IPY_MODEL_720a3214ddf640ccb5408f19501e5f0e",
              "IPY_MODEL_5a21e1e1127e408e9f005962e36dd0fa",
              "IPY_MODEL_217cdf891e1b4b21b4b0f175b5fca10b"
            ],
            "layout": "IPY_MODEL_c84f99f9f21941caafb9cfac301d6354"
          }
        },
        "720a3214ddf640ccb5408f19501e5f0e": {
          "model_module": "@jupyter-widgets/controls",
          "model_name": "HTMLModel",
          "model_module_version": "1.5.0",
          "state": {
            "_dom_classes": [],
            "_model_module": "@jupyter-widgets/controls",
            "_model_module_version": "1.5.0",
            "_model_name": "HTMLModel",
            "_view_count": null,
            "_view_module": "@jupyter-widgets/controls",
            "_view_module_version": "1.5.0",
            "_view_name": "HTMLView",
            "description": "",
            "description_tooltip": null,
            "layout": "IPY_MODEL_7a4db43c686d4ca0a5685862ff2d2d7c",
            "placeholder": "​",
            "style": "IPY_MODEL_ce42b9d7815b44f8a548edbd7d643072",
            "value": "100%"
          }
        },
        "5a21e1e1127e408e9f005962e36dd0fa": {
          "model_module": "@jupyter-widgets/controls",
          "model_name": "FloatProgressModel",
          "model_module_version": "1.5.0",
          "state": {
            "_dom_classes": [],
            "_model_module": "@jupyter-widgets/controls",
            "_model_module_version": "1.5.0",
            "_model_name": "FloatProgressModel",
            "_view_count": null,
            "_view_module": "@jupyter-widgets/controls",
            "_view_module_version": "1.5.0",
            "_view_name": "ProgressView",
            "bar_style": "success",
            "description": "",
            "description_tooltip": null,
            "layout": "IPY_MODEL_80626abb365e4202a2520f8da522bc17",
            "max": 2000,
            "min": 0,
            "orientation": "horizontal",
            "style": "IPY_MODEL_54a7cef4becc48c598b4470a3a9f1eab",
            "value": 2000
          }
        },
        "217cdf891e1b4b21b4b0f175b5fca10b": {
          "model_module": "@jupyter-widgets/controls",
          "model_name": "HTMLModel",
          "model_module_version": "1.5.0",
          "state": {
            "_dom_classes": [],
            "_model_module": "@jupyter-widgets/controls",
            "_model_module_version": "1.5.0",
            "_model_name": "HTMLModel",
            "_view_count": null,
            "_view_module": "@jupyter-widgets/controls",
            "_view_module_version": "1.5.0",
            "_view_name": "HTMLView",
            "description": "",
            "description_tooltip": null,
            "layout": "IPY_MODEL_adf759cd009843cf9492ef8ae59322ec",
            "placeholder": "​",
            "style": "IPY_MODEL_9a1a8371c30b435491de48979e9f44fe",
            "value": " 2000/2000 [00:45&lt;00:00, 81.17it/s]"
          }
        },
        "c84f99f9f21941caafb9cfac301d6354": {
          "model_module": "@jupyter-widgets/base",
          "model_name": "LayoutModel",
          "model_module_version": "1.2.0",
          "state": {
            "_model_module": "@jupyter-widgets/base",
            "_model_module_version": "1.2.0",
            "_model_name": "LayoutModel",
            "_view_count": null,
            "_view_module": "@jupyter-widgets/base",
            "_view_module_version": "1.2.0",
            "_view_name": "LayoutView",
            "align_content": null,
            "align_items": null,
            "align_self": null,
            "border": null,
            "bottom": null,
            "display": null,
            "flex": null,
            "flex_flow": null,
            "grid_area": null,
            "grid_auto_columns": null,
            "grid_auto_flow": null,
            "grid_auto_rows": null,
            "grid_column": null,
            "grid_gap": null,
            "grid_row": null,
            "grid_template_areas": null,
            "grid_template_columns": null,
            "grid_template_rows": null,
            "height": null,
            "justify_content": null,
            "justify_items": null,
            "left": null,
            "margin": null,
            "max_height": null,
            "max_width": null,
            "min_height": null,
            "min_width": null,
            "object_fit": null,
            "object_position": null,
            "order": null,
            "overflow": null,
            "overflow_x": null,
            "overflow_y": null,
            "padding": null,
            "right": null,
            "top": null,
            "visibility": null,
            "width": null
          }
        },
        "7a4db43c686d4ca0a5685862ff2d2d7c": {
          "model_module": "@jupyter-widgets/base",
          "model_name": "LayoutModel",
          "model_module_version": "1.2.0",
          "state": {
            "_model_module": "@jupyter-widgets/base",
            "_model_module_version": "1.2.0",
            "_model_name": "LayoutModel",
            "_view_count": null,
            "_view_module": "@jupyter-widgets/base",
            "_view_module_version": "1.2.0",
            "_view_name": "LayoutView",
            "align_content": null,
            "align_items": null,
            "align_self": null,
            "border": null,
            "bottom": null,
            "display": null,
            "flex": null,
            "flex_flow": null,
            "grid_area": null,
            "grid_auto_columns": null,
            "grid_auto_flow": null,
            "grid_auto_rows": null,
            "grid_column": null,
            "grid_gap": null,
            "grid_row": null,
            "grid_template_areas": null,
            "grid_template_columns": null,
            "grid_template_rows": null,
            "height": null,
            "justify_content": null,
            "justify_items": null,
            "left": null,
            "margin": null,
            "max_height": null,
            "max_width": null,
            "min_height": null,
            "min_width": null,
            "object_fit": null,
            "object_position": null,
            "order": null,
            "overflow": null,
            "overflow_x": null,
            "overflow_y": null,
            "padding": null,
            "right": null,
            "top": null,
            "visibility": null,
            "width": null
          }
        },
        "ce42b9d7815b44f8a548edbd7d643072": {
          "model_module": "@jupyter-widgets/controls",
          "model_name": "DescriptionStyleModel",
          "model_module_version": "1.5.0",
          "state": {
            "_model_module": "@jupyter-widgets/controls",
            "_model_module_version": "1.5.0",
            "_model_name": "DescriptionStyleModel",
            "_view_count": null,
            "_view_module": "@jupyter-widgets/base",
            "_view_module_version": "1.2.0",
            "_view_name": "StyleView",
            "description_width": ""
          }
        },
        "80626abb365e4202a2520f8da522bc17": {
          "model_module": "@jupyter-widgets/base",
          "model_name": "LayoutModel",
          "model_module_version": "1.2.0",
          "state": {
            "_model_module": "@jupyter-widgets/base",
            "_model_module_version": "1.2.0",
            "_model_name": "LayoutModel",
            "_view_count": null,
            "_view_module": "@jupyter-widgets/base",
            "_view_module_version": "1.2.0",
            "_view_name": "LayoutView",
            "align_content": null,
            "align_items": null,
            "align_self": null,
            "border": null,
            "bottom": null,
            "display": null,
            "flex": null,
            "flex_flow": null,
            "grid_area": null,
            "grid_auto_columns": null,
            "grid_auto_flow": null,
            "grid_auto_rows": null,
            "grid_column": null,
            "grid_gap": null,
            "grid_row": null,
            "grid_template_areas": null,
            "grid_template_columns": null,
            "grid_template_rows": null,
            "height": null,
            "justify_content": null,
            "justify_items": null,
            "left": null,
            "margin": null,
            "max_height": null,
            "max_width": null,
            "min_height": null,
            "min_width": null,
            "object_fit": null,
            "object_position": null,
            "order": null,
            "overflow": null,
            "overflow_x": null,
            "overflow_y": null,
            "padding": null,
            "right": null,
            "top": null,
            "visibility": null,
            "width": null
          }
        },
        "54a7cef4becc48c598b4470a3a9f1eab": {
          "model_module": "@jupyter-widgets/controls",
          "model_name": "ProgressStyleModel",
          "model_module_version": "1.5.0",
          "state": {
            "_model_module": "@jupyter-widgets/controls",
            "_model_module_version": "1.5.0",
            "_model_name": "ProgressStyleModel",
            "_view_count": null,
            "_view_module": "@jupyter-widgets/base",
            "_view_module_version": "1.2.0",
            "_view_name": "StyleView",
            "bar_color": null,
            "description_width": ""
          }
        },
        "adf759cd009843cf9492ef8ae59322ec": {
          "model_module": "@jupyter-widgets/base",
          "model_name": "LayoutModel",
          "model_module_version": "1.2.0",
          "state": {
            "_model_module": "@jupyter-widgets/base",
            "_model_module_version": "1.2.0",
            "_model_name": "LayoutModel",
            "_view_count": null,
            "_view_module": "@jupyter-widgets/base",
            "_view_module_version": "1.2.0",
            "_view_name": "LayoutView",
            "align_content": null,
            "align_items": null,
            "align_self": null,
            "border": null,
            "bottom": null,
            "display": null,
            "flex": null,
            "flex_flow": null,
            "grid_area": null,
            "grid_auto_columns": null,
            "grid_auto_flow": null,
            "grid_auto_rows": null,
            "grid_column": null,
            "grid_gap": null,
            "grid_row": null,
            "grid_template_areas": null,
            "grid_template_columns": null,
            "grid_template_rows": null,
            "height": null,
            "justify_content": null,
            "justify_items": null,
            "left": null,
            "margin": null,
            "max_height": null,
            "max_width": null,
            "min_height": null,
            "min_width": null,
            "object_fit": null,
            "object_position": null,
            "order": null,
            "overflow": null,
            "overflow_x": null,
            "overflow_y": null,
            "padding": null,
            "right": null,
            "top": null,
            "visibility": null,
            "width": null
          }
        },
        "9a1a8371c30b435491de48979e9f44fe": {
          "model_module": "@jupyter-widgets/controls",
          "model_name": "DescriptionStyleModel",
          "model_module_version": "1.5.0",
          "state": {
            "_model_module": "@jupyter-widgets/controls",
            "_model_module_version": "1.5.0",
            "_model_name": "DescriptionStyleModel",
            "_view_count": null,
            "_view_module": "@jupyter-widgets/base",
            "_view_module_version": "1.2.0",
            "_view_name": "StyleView",
            "description_width": ""
          }
        },
        "a64b0ba09fb5403ca7ff6a8605cf0e4c": {
          "model_module": "@jupyter-widgets/controls",
          "model_name": "HBoxModel",
          "model_module_version": "1.5.0",
          "state": {
            "_dom_classes": [],
            "_model_module": "@jupyter-widgets/controls",
            "_model_module_version": "1.5.0",
            "_model_name": "HBoxModel",
            "_view_count": null,
            "_view_module": "@jupyter-widgets/controls",
            "_view_module_version": "1.5.0",
            "_view_name": "HBoxView",
            "box_style": "",
            "children": [
              "IPY_MODEL_63eb97e0790640e5b82a902c6eb904cf",
              "IPY_MODEL_493a62c7d3d14fee9d2dd73362f831f6",
              "IPY_MODEL_af71b935a0e64c0ba9a659e7c1e26283"
            ],
            "layout": "IPY_MODEL_2581755471ee47a3a8230fd9a809d970"
          }
        },
        "63eb97e0790640e5b82a902c6eb904cf": {
          "model_module": "@jupyter-widgets/controls",
          "model_name": "HTMLModel",
          "model_module_version": "1.5.0",
          "state": {
            "_dom_classes": [],
            "_model_module": "@jupyter-widgets/controls",
            "_model_module_version": "1.5.0",
            "_model_name": "HTMLModel",
            "_view_count": null,
            "_view_module": "@jupyter-widgets/controls",
            "_view_module_version": "1.5.0",
            "_view_name": "HTMLView",
            "description": "",
            "description_tooltip": null,
            "layout": "IPY_MODEL_0a2aaf592d8a4368b6cb337cbe84a275",
            "placeholder": "​",
            "style": "IPY_MODEL_bfc40b52e3c14647a5b30ea1f28d1806",
            "value": "100%"
          }
        },
        "493a62c7d3d14fee9d2dd73362f831f6": {
          "model_module": "@jupyter-widgets/controls",
          "model_name": "FloatProgressModel",
          "model_module_version": "1.5.0",
          "state": {
            "_dom_classes": [],
            "_model_module": "@jupyter-widgets/controls",
            "_model_module_version": "1.5.0",
            "_model_name": "FloatProgressModel",
            "_view_count": null,
            "_view_module": "@jupyter-widgets/controls",
            "_view_module_version": "1.5.0",
            "_view_name": "ProgressView",
            "bar_style": "success",
            "description": "",
            "description_tooltip": null,
            "layout": "IPY_MODEL_a5fbafc5431449f090f05077ee13b431",
            "max": 1000,
            "min": 0,
            "orientation": "horizontal",
            "style": "IPY_MODEL_bb3cd86f7dc64a73bba978246acaa916",
            "value": 1000
          }
        },
        "af71b935a0e64c0ba9a659e7c1e26283": {
          "model_module": "@jupyter-widgets/controls",
          "model_name": "HTMLModel",
          "model_module_version": "1.5.0",
          "state": {
            "_dom_classes": [],
            "_model_module": "@jupyter-widgets/controls",
            "_model_module_version": "1.5.0",
            "_model_name": "HTMLModel",
            "_view_count": null,
            "_view_module": "@jupyter-widgets/controls",
            "_view_module_version": "1.5.0",
            "_view_name": "HTMLView",
            "description": "",
            "description_tooltip": null,
            "layout": "IPY_MODEL_e736119d17464440b44466c8a392d41d",
            "placeholder": "​",
            "style": "IPY_MODEL_a940bd9e94a24d3d8e2a1d0654226247",
            "value": " 1000/1000 [00:32&lt;00:00, 37.31it/s]"
          }
        },
        "2581755471ee47a3a8230fd9a809d970": {
          "model_module": "@jupyter-widgets/base",
          "model_name": "LayoutModel",
          "model_module_version": "1.2.0",
          "state": {
            "_model_module": "@jupyter-widgets/base",
            "_model_module_version": "1.2.0",
            "_model_name": "LayoutModel",
            "_view_count": null,
            "_view_module": "@jupyter-widgets/base",
            "_view_module_version": "1.2.0",
            "_view_name": "LayoutView",
            "align_content": null,
            "align_items": null,
            "align_self": null,
            "border": null,
            "bottom": null,
            "display": null,
            "flex": null,
            "flex_flow": null,
            "grid_area": null,
            "grid_auto_columns": null,
            "grid_auto_flow": null,
            "grid_auto_rows": null,
            "grid_column": null,
            "grid_gap": null,
            "grid_row": null,
            "grid_template_areas": null,
            "grid_template_columns": null,
            "grid_template_rows": null,
            "height": null,
            "justify_content": null,
            "justify_items": null,
            "left": null,
            "margin": null,
            "max_height": null,
            "max_width": null,
            "min_height": null,
            "min_width": null,
            "object_fit": null,
            "object_position": null,
            "order": null,
            "overflow": null,
            "overflow_x": null,
            "overflow_y": null,
            "padding": null,
            "right": null,
            "top": null,
            "visibility": null,
            "width": null
          }
        },
        "0a2aaf592d8a4368b6cb337cbe84a275": {
          "model_module": "@jupyter-widgets/base",
          "model_name": "LayoutModel",
          "model_module_version": "1.2.0",
          "state": {
            "_model_module": "@jupyter-widgets/base",
            "_model_module_version": "1.2.0",
            "_model_name": "LayoutModel",
            "_view_count": null,
            "_view_module": "@jupyter-widgets/base",
            "_view_module_version": "1.2.0",
            "_view_name": "LayoutView",
            "align_content": null,
            "align_items": null,
            "align_self": null,
            "border": null,
            "bottom": null,
            "display": null,
            "flex": null,
            "flex_flow": null,
            "grid_area": null,
            "grid_auto_columns": null,
            "grid_auto_flow": null,
            "grid_auto_rows": null,
            "grid_column": null,
            "grid_gap": null,
            "grid_row": null,
            "grid_template_areas": null,
            "grid_template_columns": null,
            "grid_template_rows": null,
            "height": null,
            "justify_content": null,
            "justify_items": null,
            "left": null,
            "margin": null,
            "max_height": null,
            "max_width": null,
            "min_height": null,
            "min_width": null,
            "object_fit": null,
            "object_position": null,
            "order": null,
            "overflow": null,
            "overflow_x": null,
            "overflow_y": null,
            "padding": null,
            "right": null,
            "top": null,
            "visibility": null,
            "width": null
          }
        },
        "bfc40b52e3c14647a5b30ea1f28d1806": {
          "model_module": "@jupyter-widgets/controls",
          "model_name": "DescriptionStyleModel",
          "model_module_version": "1.5.0",
          "state": {
            "_model_module": "@jupyter-widgets/controls",
            "_model_module_version": "1.5.0",
            "_model_name": "DescriptionStyleModel",
            "_view_count": null,
            "_view_module": "@jupyter-widgets/base",
            "_view_module_version": "1.2.0",
            "_view_name": "StyleView",
            "description_width": ""
          }
        },
        "a5fbafc5431449f090f05077ee13b431": {
          "model_module": "@jupyter-widgets/base",
          "model_name": "LayoutModel",
          "model_module_version": "1.2.0",
          "state": {
            "_model_module": "@jupyter-widgets/base",
            "_model_module_version": "1.2.0",
            "_model_name": "LayoutModel",
            "_view_count": null,
            "_view_module": "@jupyter-widgets/base",
            "_view_module_version": "1.2.0",
            "_view_name": "LayoutView",
            "align_content": null,
            "align_items": null,
            "align_self": null,
            "border": null,
            "bottom": null,
            "display": null,
            "flex": null,
            "flex_flow": null,
            "grid_area": null,
            "grid_auto_columns": null,
            "grid_auto_flow": null,
            "grid_auto_rows": null,
            "grid_column": null,
            "grid_gap": null,
            "grid_row": null,
            "grid_template_areas": null,
            "grid_template_columns": null,
            "grid_template_rows": null,
            "height": null,
            "justify_content": null,
            "justify_items": null,
            "left": null,
            "margin": null,
            "max_height": null,
            "max_width": null,
            "min_height": null,
            "min_width": null,
            "object_fit": null,
            "object_position": null,
            "order": null,
            "overflow": null,
            "overflow_x": null,
            "overflow_y": null,
            "padding": null,
            "right": null,
            "top": null,
            "visibility": null,
            "width": null
          }
        },
        "bb3cd86f7dc64a73bba978246acaa916": {
          "model_module": "@jupyter-widgets/controls",
          "model_name": "ProgressStyleModel",
          "model_module_version": "1.5.0",
          "state": {
            "_model_module": "@jupyter-widgets/controls",
            "_model_module_version": "1.5.0",
            "_model_name": "ProgressStyleModel",
            "_view_count": null,
            "_view_module": "@jupyter-widgets/base",
            "_view_module_version": "1.2.0",
            "_view_name": "StyleView",
            "bar_color": null,
            "description_width": ""
          }
        },
        "e736119d17464440b44466c8a392d41d": {
          "model_module": "@jupyter-widgets/base",
          "model_name": "LayoutModel",
          "model_module_version": "1.2.0",
          "state": {
            "_model_module": "@jupyter-widgets/base",
            "_model_module_version": "1.2.0",
            "_model_name": "LayoutModel",
            "_view_count": null,
            "_view_module": "@jupyter-widgets/base",
            "_view_module_version": "1.2.0",
            "_view_name": "LayoutView",
            "align_content": null,
            "align_items": null,
            "align_self": null,
            "border": null,
            "bottom": null,
            "display": null,
            "flex": null,
            "flex_flow": null,
            "grid_area": null,
            "grid_auto_columns": null,
            "grid_auto_flow": null,
            "grid_auto_rows": null,
            "grid_column": null,
            "grid_gap": null,
            "grid_row": null,
            "grid_template_areas": null,
            "grid_template_columns": null,
            "grid_template_rows": null,
            "height": null,
            "justify_content": null,
            "justify_items": null,
            "left": null,
            "margin": null,
            "max_height": null,
            "max_width": null,
            "min_height": null,
            "min_width": null,
            "object_fit": null,
            "object_position": null,
            "order": null,
            "overflow": null,
            "overflow_x": null,
            "overflow_y": null,
            "padding": null,
            "right": null,
            "top": null,
            "visibility": null,
            "width": null
          }
        },
        "a940bd9e94a24d3d8e2a1d0654226247": {
          "model_module": "@jupyter-widgets/controls",
          "model_name": "DescriptionStyleModel",
          "model_module_version": "1.5.0",
          "state": {
            "_model_module": "@jupyter-widgets/controls",
            "_model_module_version": "1.5.0",
            "_model_name": "DescriptionStyleModel",
            "_view_count": null,
            "_view_module": "@jupyter-widgets/base",
            "_view_module_version": "1.2.0",
            "_view_name": "StyleView",
            "description_width": ""
          }
        }
      }
    }
  },
  "cells": [
    {
      "cell_type": "markdown",
      "source": [
        "# Использование машинного обучения для классификации поступающих сообщений"
      ],
      "metadata": {
        "id": "tq-OvcRwJSyq"
      }
    },
    {
      "cell_type": "code",
      "source": [
        "from google.colab import drive\n",
        "drive.mount('/content/drive')"
      ],
      "metadata": {
        "colab": {
          "base_uri": "https://localhost:8080/"
        },
        "id": "NwY_iEDEBpuv",
        "outputId": "fac87152-7373-4def-bfc7-23748b412b67"
      },
      "execution_count": 83,
      "outputs": [
        {
          "output_type": "stream",
          "name": "stdout",
          "text": [
            "Drive already mounted at /content/drive; to attempt to forcibly remount, call drive.mount(\"/content/drive\", force_remount=True).\n"
          ]
        }
      ]
    },
    {
      "cell_type": "markdown",
      "source": [
        "## Описание задачи\n",
        "\n",
        "В связи со сложной структурой и нелинейными зонами ответственности в органах исполнительной и государственной власти, а также из-за большого потока входящих сообщений разной направленности возникают сложности с оперативной маршрутизацией сообщений непосредственным исполнителям. Сообщение гражданина проходит длинную цепочку передачи «из рук в руки», что существенно уменьшает время, отведенное на непосредственное устранение причин возникновения проблемы. А также растущая популярность платформ обратной связи увеличивает нагрузку на модераторов и приводит к росту штата персонала, обслуживающего работу порталов.\n",
        "\n",
        "\n",
        "## Цель задачи\n",
        "\n",
        "Необходимо разработать классификатор для автоматического определения категории запроса по тексту сообщения, оставленному на сайте Администрации Курской области.\n",
        "\n",
        "Создание такого алгоритма позволит сократить время ответа на обращения жителей, так как существенно сократится время на предобработку и маршрутизацию обращений."
      ],
      "metadata": {
        "id": "tIP4Ljn6HI8M"
      }
    },
    {
      "cell_type": "markdown",
      "source": [
        "\n",
        "# Загрузка и исследование исходного набора данных (датасета)"
      ],
      "metadata": {
        "id": "7LgZpC9wJIdn"
      }
    },
    {
      "cell_type": "code",
      "source": [
        "!pip install catboost"
      ],
      "metadata": {
        "colab": {
          "base_uri": "https://localhost:8080/"
        },
        "id": "lbmV-91IrvCR",
        "outputId": "b0439aa0-d185-4472-db17-30354bed804d"
      },
      "execution_count": 159,
      "outputs": [
        {
          "output_type": "stream",
          "name": "stdout",
          "text": [
            "Looking in indexes: https://pypi.org/simple, https://us-python.pkg.dev/colab-wheels/public/simple/\n",
            "Collecting catboost\n",
            "  Downloading catboost-1.0.6-cp37-none-manylinux1_x86_64.whl (76.6 MB)\n",
            "\u001b[K     |████████████████████████████████| 76.6 MB 1.3 MB/s \n",
            "\u001b[?25hRequirement already satisfied: numpy>=1.16.0 in /usr/local/lib/python3.7/dist-packages (from catboost) (1.21.6)\n",
            "Requirement already satisfied: six in /usr/local/lib/python3.7/dist-packages (from catboost) (1.15.0)\n",
            "Requirement already satisfied: scipy in /usr/local/lib/python3.7/dist-packages (from catboost) (1.4.1)\n",
            "Requirement already satisfied: matplotlib in /usr/local/lib/python3.7/dist-packages (from catboost) (3.2.2)\n",
            "Requirement already satisfied: plotly in /usr/local/lib/python3.7/dist-packages (from catboost) (5.5.0)\n",
            "Requirement already satisfied: graphviz in /usr/local/lib/python3.7/dist-packages (from catboost) (0.10.1)\n",
            "Requirement already satisfied: pandas>=0.24.0 in /usr/local/lib/python3.7/dist-packages (from catboost) (1.3.5)\n",
            "Requirement already satisfied: pytz>=2017.3 in /usr/local/lib/python3.7/dist-packages (from pandas>=0.24.0->catboost) (2022.1)\n",
            "Requirement already satisfied: python-dateutil>=2.7.3 in /usr/local/lib/python3.7/dist-packages (from pandas>=0.24.0->catboost) (2.8.2)\n",
            "Requirement already satisfied: pyparsing!=2.0.4,!=2.1.2,!=2.1.6,>=2.0.1 in /usr/local/lib/python3.7/dist-packages (from matplotlib->catboost) (3.0.9)\n",
            "Requirement already satisfied: kiwisolver>=1.0.1 in /usr/local/lib/python3.7/dist-packages (from matplotlib->catboost) (1.4.3)\n",
            "Requirement already satisfied: cycler>=0.10 in /usr/local/lib/python3.7/dist-packages (from matplotlib->catboost) (0.11.0)\n",
            "Requirement already satisfied: typing-extensions in /usr/local/lib/python3.7/dist-packages (from kiwisolver>=1.0.1->matplotlib->catboost) (4.1.1)\n",
            "Requirement already satisfied: tenacity>=6.2.0 in /usr/local/lib/python3.7/dist-packages (from plotly->catboost) (8.0.1)\n",
            "Installing collected packages: catboost\n",
            "Successfully installed catboost-1.0.6\n"
          ]
        }
      ]
    },
    {
      "cell_type": "code",
      "source": [
        "import pandas as pd                 # Pandas — библиотека Python для обработки и анализа структурированных данных\n",
        "import seaborn as sns               # Seaborn — библиотека для создания статистических графиков\n",
        "from tqdm.auto import tqdm, trange  # Tqdm — библиотека для создания индикаторов выполнения"
      ],
      "metadata": {
        "id": "wE04G-DbI-B5"
      },
      "execution_count": 84,
      "outputs": []
    },
    {
      "cell_type": "code",
      "execution_count": 160,
      "metadata": {
        "id": "GgEHc3ZZHO5A"
      },
      "outputs": [],
      "source": [
        "from catboost import CatBoostClassifier"
      ]
    },
    {
      "cell_type": "code",
      "source": [
        "vacancies = pd.read_csv('/content/drive/MyDrive/Хакатоны/Курск слова/train_dataset_train.csv')"
      ],
      "metadata": {
        "id": "E8Nmsur_CWSB"
      },
      "execution_count": 86,
      "outputs": []
    },
    {
      "cell_type": "code",
      "source": [
        "vacancies.shape  # Вывод размера"
      ],
      "metadata": {
        "id": "FeodAkgGK8za",
        "colab": {
          "base_uri": "https://localhost:8080/"
        },
        "outputId": "4155d164-6398-4b05-b352-94db7246d162"
      },
      "execution_count": 87,
      "outputs": [
        {
          "output_type": "execute_result",
          "data": {
            "text/plain": [
              "(2000, 5)"
            ]
          },
          "metadata": {},
          "execution_count": 87
        }
      ]
    },
    {
      "cell_type": "code",
      "source": [
        "vacancies.head(5)   # Вывод первых 5 строк"
      ],
      "metadata": {
        "colab": {
          "base_uri": "https://localhost:8080/",
          "height": 206
        },
        "id": "sfc0OMP4LBCp",
        "outputId": "8a5c75a0-ee3a-42a6-de18-9289ea107b6f"
      },
      "execution_count": 88,
      "outputs": [
        {
          "output_type": "execute_result",
          "data": {
            "text/plain": [
              "     id                                    Текст Сообщения  \\\n",
              "0  2246  Помогите начальник Льговского рэс не реагирует...   \n",
              "1   380  <p>По фасаду дома по адресу ул. Урицкого 22 пр...   \n",
              "2  2240  Агресивные собаки. На радуге там стая из подро...   \n",
              "3   596  <p>На пересечении &nbsp;улиц Сосновская и Бере...   \n",
              "4  1797  <p style=`text-align:justify;`><span style=`ba...   \n",
              "\n",
              "                                            Тематика  \\\n",
              "0  Нарушения, связанные с содержанием электросети...   \n",
              "1                                  Аварийные деревья   \n",
              "2                              Безнадзорные животные   \n",
              "3  Нескошенная сорная растительность в местах общ...   \n",
              "4                                  Аварийные деревья   \n",
              "\n",
              "                           Ответственное лицо  Категория  \n",
              "0             Администрация Льговского района          3  \n",
              "1                 Администрация города Курска          3  \n",
              "2                 Администрация города Курска          1  \n",
              "3   Комитет дорожного хозяйства города Курска          3  \n",
              "4  Комитет городского хозяйства города Курска          3  "
            ],
            "text/html": [
              "\n",
              "  <div id=\"df-d3547c4d-7147-4ed9-b1b5-4882e2cbaad2\">\n",
              "    <div class=\"colab-df-container\">\n",
              "      <div>\n",
              "<style scoped>\n",
              "    .dataframe tbody tr th:only-of-type {\n",
              "        vertical-align: middle;\n",
              "    }\n",
              "\n",
              "    .dataframe tbody tr th {\n",
              "        vertical-align: top;\n",
              "    }\n",
              "\n",
              "    .dataframe thead th {\n",
              "        text-align: right;\n",
              "    }\n",
              "</style>\n",
              "<table border=\"1\" class=\"dataframe\">\n",
              "  <thead>\n",
              "    <tr style=\"text-align: right;\">\n",
              "      <th></th>\n",
              "      <th>id</th>\n",
              "      <th>Текст Сообщения</th>\n",
              "      <th>Тематика</th>\n",
              "      <th>Ответственное лицо</th>\n",
              "      <th>Категория</th>\n",
              "    </tr>\n",
              "  </thead>\n",
              "  <tbody>\n",
              "    <tr>\n",
              "      <th>0</th>\n",
              "      <td>2246</td>\n",
              "      <td>Помогите начальник Льговского рэс не реагирует...</td>\n",
              "      <td>Нарушения, связанные с содержанием электросети...</td>\n",
              "      <td>Администрация Льговского района</td>\n",
              "      <td>3</td>\n",
              "    </tr>\n",
              "    <tr>\n",
              "      <th>1</th>\n",
              "      <td>380</td>\n",
              "      <td>&lt;p&gt;По фасаду дома по адресу ул. Урицкого 22 пр...</td>\n",
              "      <td>Аварийные деревья</td>\n",
              "      <td>Администрация города Курска</td>\n",
              "      <td>3</td>\n",
              "    </tr>\n",
              "    <tr>\n",
              "      <th>2</th>\n",
              "      <td>2240</td>\n",
              "      <td>Агресивные собаки. На радуге там стая из подро...</td>\n",
              "      <td>Безнадзорные животные</td>\n",
              "      <td>Администрация города Курска</td>\n",
              "      <td>1</td>\n",
              "    </tr>\n",
              "    <tr>\n",
              "      <th>3</th>\n",
              "      <td>596</td>\n",
              "      <td>&lt;p&gt;На пересечении &amp;nbsp;улиц Сосновская и Бере...</td>\n",
              "      <td>Нескошенная сорная растительность в местах общ...</td>\n",
              "      <td>Комитет дорожного хозяйства города Курска</td>\n",
              "      <td>3</td>\n",
              "    </tr>\n",
              "    <tr>\n",
              "      <th>4</th>\n",
              "      <td>1797</td>\n",
              "      <td>&lt;p style=`text-align:justify;`&gt;&lt;span style=`ba...</td>\n",
              "      <td>Аварийные деревья</td>\n",
              "      <td>Комитет городского хозяйства города Курска</td>\n",
              "      <td>3</td>\n",
              "    </tr>\n",
              "  </tbody>\n",
              "</table>\n",
              "</div>\n",
              "      <button class=\"colab-df-convert\" onclick=\"convertToInteractive('df-d3547c4d-7147-4ed9-b1b5-4882e2cbaad2')\"\n",
              "              title=\"Convert this dataframe to an interactive table.\"\n",
              "              style=\"display:none;\">\n",
              "        \n",
              "  <svg xmlns=\"http://www.w3.org/2000/svg\" height=\"24px\"viewBox=\"0 0 24 24\"\n",
              "       width=\"24px\">\n",
              "    <path d=\"M0 0h24v24H0V0z\" fill=\"none\"/>\n",
              "    <path d=\"M18.56 5.44l.94 2.06.94-2.06 2.06-.94-2.06-.94-.94-2.06-.94 2.06-2.06.94zm-11 1L8.5 8.5l.94-2.06 2.06-.94-2.06-.94L8.5 2.5l-.94 2.06-2.06.94zm10 10l.94 2.06.94-2.06 2.06-.94-2.06-.94-.94-2.06-.94 2.06-2.06.94z\"/><path d=\"M17.41 7.96l-1.37-1.37c-.4-.4-.92-.59-1.43-.59-.52 0-1.04.2-1.43.59L10.3 9.45l-7.72 7.72c-.78.78-.78 2.05 0 2.83L4 21.41c.39.39.9.59 1.41.59.51 0 1.02-.2 1.41-.59l7.78-7.78 2.81-2.81c.8-.78.8-2.07 0-2.86zM5.41 20L4 18.59l7.72-7.72 1.47 1.35L5.41 20z\"/>\n",
              "  </svg>\n",
              "      </button>\n",
              "      \n",
              "  <style>\n",
              "    .colab-df-container {\n",
              "      display:flex;\n",
              "      flex-wrap:wrap;\n",
              "      gap: 12px;\n",
              "    }\n",
              "\n",
              "    .colab-df-convert {\n",
              "      background-color: #E8F0FE;\n",
              "      border: none;\n",
              "      border-radius: 50%;\n",
              "      cursor: pointer;\n",
              "      display: none;\n",
              "      fill: #1967D2;\n",
              "      height: 32px;\n",
              "      padding: 0 0 0 0;\n",
              "      width: 32px;\n",
              "    }\n",
              "\n",
              "    .colab-df-convert:hover {\n",
              "      background-color: #E2EBFA;\n",
              "      box-shadow: 0px 1px 2px rgba(60, 64, 67, 0.3), 0px 1px 3px 1px rgba(60, 64, 67, 0.15);\n",
              "      fill: #174EA6;\n",
              "    }\n",
              "\n",
              "    [theme=dark] .colab-df-convert {\n",
              "      background-color: #3B4455;\n",
              "      fill: #D2E3FC;\n",
              "    }\n",
              "\n",
              "    [theme=dark] .colab-df-convert:hover {\n",
              "      background-color: #434B5C;\n",
              "      box-shadow: 0px 1px 3px 1px rgba(0, 0, 0, 0.15);\n",
              "      filter: drop-shadow(0px 1px 2px rgba(0, 0, 0, 0.3));\n",
              "      fill: #FFFFFF;\n",
              "    }\n",
              "  </style>\n",
              "\n",
              "      <script>\n",
              "        const buttonEl =\n",
              "          document.querySelector('#df-d3547c4d-7147-4ed9-b1b5-4882e2cbaad2 button.colab-df-convert');\n",
              "        buttonEl.style.display =\n",
              "          google.colab.kernel.accessAllowed ? 'block' : 'none';\n",
              "\n",
              "        async function convertToInteractive(key) {\n",
              "          const element = document.querySelector('#df-d3547c4d-7147-4ed9-b1b5-4882e2cbaad2');\n",
              "          const dataTable =\n",
              "            await google.colab.kernel.invokeFunction('convertToInteractive',\n",
              "                                                     [key], {});\n",
              "          if (!dataTable) return;\n",
              "\n",
              "          const docLinkHtml = 'Like what you see? Visit the ' +\n",
              "            '<a target=\"_blank\" href=https://colab.research.google.com/notebooks/data_table.ipynb>data table notebook</a>'\n",
              "            + ' to learn more about interactive tables.';\n",
              "          element.innerHTML = '';\n",
              "          dataTable['output_type'] = 'display_data';\n",
              "          await google.colab.output.renderOutput(dataTable, element);\n",
              "          const docLink = document.createElement('div');\n",
              "          docLink.innerHTML = docLinkHtml;\n",
              "          element.appendChild(docLink);\n",
              "        }\n",
              "      </script>\n",
              "    </div>\n",
              "  </div>\n",
              "  "
            ]
          },
          "metadata": {},
          "execution_count": 88
        }
      ]
    },
    {
      "cell_type": "code",
      "source": [
        "vacancies.describe(include=[object])   # Вывод описательной статистики набора данных"
      ],
      "metadata": {
        "colab": {
          "base_uri": "https://localhost:8080/",
          "height": 175
        },
        "id": "wYsvxf62Re9l",
        "outputId": "02c4d802-d074-4f5d-bbaa-49267d3fbca6"
      },
      "execution_count": 89,
      "outputs": [
        {
          "output_type": "execute_result",
          "data": {
            "text/plain": [
              "       Текст Сообщения                                           Тематика  \\\n",
              "count             2000                                               2000   \n",
              "unique            1974                                                161   \n",
              "top      Свалка мусора  Нарушение дорожного покрытия (ямы)  на дорогах...   \n",
              "freq                 8                                                155   \n",
              "\n",
              "                 Ответственное лицо  \n",
              "count                          2000  \n",
              "unique                           75  \n",
              "top     Администрация города Курска  \n",
              "freq                            421  "
            ],
            "text/html": [
              "\n",
              "  <div id=\"df-d254ed72-8967-4417-acae-54a9bc020e8f\">\n",
              "    <div class=\"colab-df-container\">\n",
              "      <div>\n",
              "<style scoped>\n",
              "    .dataframe tbody tr th:only-of-type {\n",
              "        vertical-align: middle;\n",
              "    }\n",
              "\n",
              "    .dataframe tbody tr th {\n",
              "        vertical-align: top;\n",
              "    }\n",
              "\n",
              "    .dataframe thead th {\n",
              "        text-align: right;\n",
              "    }\n",
              "</style>\n",
              "<table border=\"1\" class=\"dataframe\">\n",
              "  <thead>\n",
              "    <tr style=\"text-align: right;\">\n",
              "      <th></th>\n",
              "      <th>Текст Сообщения</th>\n",
              "      <th>Тематика</th>\n",
              "      <th>Ответственное лицо</th>\n",
              "    </tr>\n",
              "  </thead>\n",
              "  <tbody>\n",
              "    <tr>\n",
              "      <th>count</th>\n",
              "      <td>2000</td>\n",
              "      <td>2000</td>\n",
              "      <td>2000</td>\n",
              "    </tr>\n",
              "    <tr>\n",
              "      <th>unique</th>\n",
              "      <td>1974</td>\n",
              "      <td>161</td>\n",
              "      <td>75</td>\n",
              "    </tr>\n",
              "    <tr>\n",
              "      <th>top</th>\n",
              "      <td>Свалка мусора</td>\n",
              "      <td>Нарушение дорожного покрытия (ямы)  на дорогах...</td>\n",
              "      <td>Администрация города Курска</td>\n",
              "    </tr>\n",
              "    <tr>\n",
              "      <th>freq</th>\n",
              "      <td>8</td>\n",
              "      <td>155</td>\n",
              "      <td>421</td>\n",
              "    </tr>\n",
              "  </tbody>\n",
              "</table>\n",
              "</div>\n",
              "      <button class=\"colab-df-convert\" onclick=\"convertToInteractive('df-d254ed72-8967-4417-acae-54a9bc020e8f')\"\n",
              "              title=\"Convert this dataframe to an interactive table.\"\n",
              "              style=\"display:none;\">\n",
              "        \n",
              "  <svg xmlns=\"http://www.w3.org/2000/svg\" height=\"24px\"viewBox=\"0 0 24 24\"\n",
              "       width=\"24px\">\n",
              "    <path d=\"M0 0h24v24H0V0z\" fill=\"none\"/>\n",
              "    <path d=\"M18.56 5.44l.94 2.06.94-2.06 2.06-.94-2.06-.94-.94-2.06-.94 2.06-2.06.94zm-11 1L8.5 8.5l.94-2.06 2.06-.94-2.06-.94L8.5 2.5l-.94 2.06-2.06.94zm10 10l.94 2.06.94-2.06 2.06-.94-2.06-.94-.94-2.06-.94 2.06-2.06.94z\"/><path d=\"M17.41 7.96l-1.37-1.37c-.4-.4-.92-.59-1.43-.59-.52 0-1.04.2-1.43.59L10.3 9.45l-7.72 7.72c-.78.78-.78 2.05 0 2.83L4 21.41c.39.39.9.59 1.41.59.51 0 1.02-.2 1.41-.59l7.78-7.78 2.81-2.81c.8-.78.8-2.07 0-2.86zM5.41 20L4 18.59l7.72-7.72 1.47 1.35L5.41 20z\"/>\n",
              "  </svg>\n",
              "      </button>\n",
              "      \n",
              "  <style>\n",
              "    .colab-df-container {\n",
              "      display:flex;\n",
              "      flex-wrap:wrap;\n",
              "      gap: 12px;\n",
              "    }\n",
              "\n",
              "    .colab-df-convert {\n",
              "      background-color: #E8F0FE;\n",
              "      border: none;\n",
              "      border-radius: 50%;\n",
              "      cursor: pointer;\n",
              "      display: none;\n",
              "      fill: #1967D2;\n",
              "      height: 32px;\n",
              "      padding: 0 0 0 0;\n",
              "      width: 32px;\n",
              "    }\n",
              "\n",
              "    .colab-df-convert:hover {\n",
              "      background-color: #E2EBFA;\n",
              "      box-shadow: 0px 1px 2px rgba(60, 64, 67, 0.3), 0px 1px 3px 1px rgba(60, 64, 67, 0.15);\n",
              "      fill: #174EA6;\n",
              "    }\n",
              "\n",
              "    [theme=dark] .colab-df-convert {\n",
              "      background-color: #3B4455;\n",
              "      fill: #D2E3FC;\n",
              "    }\n",
              "\n",
              "    [theme=dark] .colab-df-convert:hover {\n",
              "      background-color: #434B5C;\n",
              "      box-shadow: 0px 1px 3px 1px rgba(0, 0, 0, 0.15);\n",
              "      filter: drop-shadow(0px 1px 2px rgba(0, 0, 0, 0.3));\n",
              "      fill: #FFFFFF;\n",
              "    }\n",
              "  </style>\n",
              "\n",
              "      <script>\n",
              "        const buttonEl =\n",
              "          document.querySelector('#df-d254ed72-8967-4417-acae-54a9bc020e8f button.colab-df-convert');\n",
              "        buttonEl.style.display =\n",
              "          google.colab.kernel.accessAllowed ? 'block' : 'none';\n",
              "\n",
              "        async function convertToInteractive(key) {\n",
              "          const element = document.querySelector('#df-d254ed72-8967-4417-acae-54a9bc020e8f');\n",
              "          const dataTable =\n",
              "            await google.colab.kernel.invokeFunction('convertToInteractive',\n",
              "                                                     [key], {});\n",
              "          if (!dataTable) return;\n",
              "\n",
              "          const docLinkHtml = 'Like what you see? Visit the ' +\n",
              "            '<a target=\"_blank\" href=https://colab.research.google.com/notebooks/data_table.ipynb>data table notebook</a>'\n",
              "            + ' to learn more about interactive tables.';\n",
              "          element.innerHTML = '';\n",
              "          dataTable['output_type'] = 'display_data';\n",
              "          await google.colab.output.renderOutput(dataTable, element);\n",
              "          const docLink = document.createElement('div');\n",
              "          docLink.innerHTML = docLinkHtml;\n",
              "          element.appendChild(docLink);\n",
              "        }\n",
              "      </script>\n",
              "    </div>\n",
              "  </div>\n",
              "  "
            ]
          },
          "metadata": {},
          "execution_count": 89
        }
      ]
    },
    {
      "cell_type": "code",
      "source": [
        "print(vacancies['Категория'].unique(), len(vacancies['Категория'].unique()))   # Вывод уникальных значений целевой переменной (меток) и их количества"
      ],
      "metadata": {
        "colab": {
          "base_uri": "https://localhost:8080/"
        },
        "id": "_QJx0_a0OSAa",
        "outputId": "4f02f6b1-2d95-4204-f504-010a58bd27dc"
      },
      "execution_count": 90,
      "outputs": [
        {
          "output_type": "stream",
          "name": "stdout",
          "text": [
            "[ 3  1 16  0  6  8  4 13 10 11 14  7  5 15  2  9 12] 17\n"
          ]
        }
      ]
    },
    {
      "cell_type": "markdown",
      "source": [
        "\n",
        "\n",
        "\n",
        "\n"
      ],
      "metadata": {
        "id": "Qwt_ayopdi4_"
      }
    },
    {
      "cell_type": "code",
      "source": [
        "vacancies['Категория'].value_counts()  # Количество объектов каждого класса в размеченном наборе данных"
      ],
      "metadata": {
        "colab": {
          "base_uri": "https://localhost:8080/"
        },
        "id": "vRDG33mxS_Hn",
        "outputId": "05f76ba6-afed-4945-9f8c-a1a4bba3aa57"
      },
      "execution_count": 91,
      "outputs": [
        {
          "output_type": "execute_result",
          "data": {
            "text/plain": [
              "3     954\n",
              "0     478\n",
              "16    149\n",
              "8     139\n",
              "4     108\n",
              "10     48\n",
              "7      27\n",
              "1      25\n",
              "11     19\n",
              "5      12\n",
              "13     11\n",
              "6      10\n",
              "15      7\n",
              "9       5\n",
              "14      4\n",
              "2       3\n",
              "12      1\n",
              "Name: Категория, dtype: int64"
            ]
          },
          "metadata": {},
          "execution_count": 91
        }
      ]
    },
    {
      "cell_type": "code",
      "source": [
        "sns.histplot(data=vacancies.Категория)  # Построение гистограммы, проверка сбалансированности исходного набора данных"
      ],
      "metadata": {
        "colab": {
          "base_uri": "https://localhost:8080/",
          "height": 300
        },
        "id": "YOOuJM0tUN4a",
        "outputId": "4b2057fd-a3bd-4842-807e-9ce8d15ad570"
      },
      "execution_count": 92,
      "outputs": [
        {
          "output_type": "execute_result",
          "data": {
            "text/plain": [
              "<matplotlib.axes._subplots.AxesSubplot at 0x7f6f0a6a4910>"
            ]
          },
          "metadata": {},
          "execution_count": 92
        },
        {
          "output_type": "display_data",
          "data": {
            "text/plain": [
              "<Figure size 432x288 with 1 Axes>"
            ],
            "image/png": "[encoded data removed]"
          },
          "metadata": {
            "needs_background": "light"
          }
        }
      ]
    },
    {
      "cell_type": "code",
      "source": [
        "# Создаем датасет, сливаем текстовые колонки, убираем ненужные колонки\n",
        "data = vacancies.drop(columns=['id']) # Удаление столбца с ID\n",
        "\n",
        "# Объединение текстовых колонок в одну\n",
        "data[\"text\"] = data['Текст Сообщения'].astype(str) + \" \" + data['Тематика'].astype(str) + \" \" + data['Ответственное лицо'].astype(str)\n",
        "\n",
        "# Удаление лишних колонок\n",
        "data = data.drop(columns=['Текст Сообщения', 'Тематика', 'Ответственное лицо'])\n",
        "data.head()"
      ],
      "metadata": {
        "colab": {
          "base_uri": "https://localhost:8080/",
          "height": 206
        },
        "id": "7XRDuJAibxwL",
        "outputId": "4cad0928-d528-4777-b5c8-1f1f53d844b1"
      },
      "execution_count": 93,
      "outputs": [
        {
          "output_type": "execute_result",
          "data": {
            "text/plain": [
              "   Категория                                               text\n",
              "0          3  Помогите начальник Льговского рэс не реагирует...\n",
              "1          3  <p>По фасаду дома по адресу ул. Урицкого 22 пр...\n",
              "2          1  Агресивные собаки. На радуге там стая из подро...\n",
              "3          3  <p>На пересечении &nbsp;улиц Сосновская и Бере...\n",
              "4          3  <p style=`text-align:justify;`><span style=`ba..."
            ],
            "text/html": [
              "\n",
              "  <div id=\"df-6412f29a-0621-43e2-ad71-7e9f8aaaf12c\">\n",
              "    <div class=\"colab-df-container\">\n",
              "      <div>\n",
              "<style scoped>\n",
              "    .dataframe tbody tr th:only-of-type {\n",
              "        vertical-align: middle;\n",
              "    }\n",
              "\n",
              "    .dataframe tbody tr th {\n",
              "        vertical-align: top;\n",
              "    }\n",
              "\n",
              "    .dataframe thead th {\n",
              "        text-align: right;\n",
              "    }\n",
              "</style>\n",
              "<table border=\"1\" class=\"dataframe\">\n",
              "  <thead>\n",
              "    <tr style=\"text-align: right;\">\n",
              "      <th></th>\n",
              "      <th>Категория</th>\n",
              "      <th>text</th>\n",
              "    </tr>\n",
              "  </thead>\n",
              "  <tbody>\n",
              "    <tr>\n",
              "      <th>0</th>\n",
              "      <td>3</td>\n",
              "      <td>Помогите начальник Льговского рэс не реагирует...</td>\n",
              "    </tr>\n",
              "    <tr>\n",
              "      <th>1</th>\n",
              "      <td>3</td>\n",
              "      <td>&lt;p&gt;По фасаду дома по адресу ул. Урицкого 22 пр...</td>\n",
              "    </tr>\n",
              "    <tr>\n",
              "      <th>2</th>\n",
              "      <td>1</td>\n",
              "      <td>Агресивные собаки. На радуге там стая из подро...</td>\n",
              "    </tr>\n",
              "    <tr>\n",
              "      <th>3</th>\n",
              "      <td>3</td>\n",
              "      <td>&lt;p&gt;На пересечении &amp;nbsp;улиц Сосновская и Бере...</td>\n",
              "    </tr>\n",
              "    <tr>\n",
              "      <th>4</th>\n",
              "      <td>3</td>\n",
              "      <td>&lt;p style=`text-align:justify;`&gt;&lt;span style=`ba...</td>\n",
              "    </tr>\n",
              "  </tbody>\n",
              "</table>\n",
              "</div>\n",
              "      <button class=\"colab-df-convert\" onclick=\"convertToInteractive('df-6412f29a-0621-43e2-ad71-7e9f8aaaf12c')\"\n",
              "              title=\"Convert this dataframe to an interactive table.\"\n",
              "              style=\"display:none;\">\n",
              "        \n",
              "  <svg xmlns=\"http://www.w3.org/2000/svg\" height=\"24px\"viewBox=\"0 0 24 24\"\n",
              "       width=\"24px\">\n",
              "    <path d=\"M0 0h24v24H0V0z\" fill=\"none\"/>\n",
              "    <path d=\"M18.56 5.44l.94 2.06.94-2.06 2.06-.94-2.06-.94-.94-2.06-.94 2.06-2.06.94zm-11 1L8.5 8.5l.94-2.06 2.06-.94-2.06-.94L8.5 2.5l-.94 2.06-2.06.94zm10 10l.94 2.06.94-2.06 2.06-.94-2.06-.94-.94-2.06-.94 2.06-2.06.94z\"/><path d=\"M17.41 7.96l-1.37-1.37c-.4-.4-.92-.59-1.43-.59-.52 0-1.04.2-1.43.59L10.3 9.45l-7.72 7.72c-.78.78-.78 2.05 0 2.83L4 21.41c.39.39.9.59 1.41.59.51 0 1.02-.2 1.41-.59l7.78-7.78 2.81-2.81c.8-.78.8-2.07 0-2.86zM5.41 20L4 18.59l7.72-7.72 1.47 1.35L5.41 20z\"/>\n",
              "  </svg>\n",
              "      </button>\n",
              "      \n",
              "  <style>\n",
              "    .colab-df-container {\n",
              "      display:flex;\n",
              "      flex-wrap:wrap;\n",
              "      gap: 12px;\n",
              "    }\n",
              "\n",
              "    .colab-df-convert {\n",
              "      background-color: #E8F0FE;\n",
              "      border: none;\n",
              "      border-radius: 50%;\n",
              "      cursor: pointer;\n",
              "      display: none;\n",
              "      fill: #1967D2;\n",
              "      height: 32px;\n",
              "      padding: 0 0 0 0;\n",
              "      width: 32px;\n",
              "    }\n",
              "\n",
              "    .colab-df-convert:hover {\n",
              "      background-color: #E2EBFA;\n",
              "      box-shadow: 0px 1px 2px rgba(60, 64, 67, 0.3), 0px 1px 3px 1px rgba(60, 64, 67, 0.15);\n",
              "      fill: #174EA6;\n",
              "    }\n",
              "\n",
              "    [theme=dark] .colab-df-convert {\n",
              "      background-color: #3B4455;\n",
              "      fill: #D2E3FC;\n",
              "    }\n",
              "\n",
              "    [theme=dark] .colab-df-convert:hover {\n",
              "      background-color: #434B5C;\n",
              "      box-shadow: 0px 1px 3px 1px rgba(0, 0, 0, 0.15);\n",
              "      filter: drop-shadow(0px 1px 2px rgba(0, 0, 0, 0.3));\n",
              "      fill: #FFFFFF;\n",
              "    }\n",
              "  </style>\n",
              "\n",
              "      <script>\n",
              "        const buttonEl =\n",
              "          document.querySelector('#df-6412f29a-0621-43e2-ad71-7e9f8aaaf12c button.colab-df-convert');\n",
              "        buttonEl.style.display =\n",
              "          google.colab.kernel.accessAllowed ? 'block' : 'none';\n",
              "\n",
              "        async function convertToInteractive(key) {\n",
              "          const element = document.querySelector('#df-6412f29a-0621-43e2-ad71-7e9f8aaaf12c');\n",
              "          const dataTable =\n",
              "            await google.colab.kernel.invokeFunction('convertToInteractive',\n",
              "                                                     [key], {});\n",
              "          if (!dataTable) return;\n",
              "\n",
              "          const docLinkHtml = 'Like what you see? Visit the ' +\n",
              "            '<a target=\"_blank\" href=https://colab.research.google.com/notebooks/data_table.ipynb>data table notebook</a>'\n",
              "            + ' to learn more about interactive tables.';\n",
              "          element.innerHTML = '';\n",
              "          dataTable['output_type'] = 'display_data';\n",
              "          await google.colab.output.renderOutput(dataTable, element);\n",
              "          const docLink = document.createElement('div');\n",
              "          docLink.innerHTML = docLinkHtml;\n",
              "          element.appendChild(docLink);\n",
              "        }\n",
              "      </script>\n",
              "    </div>\n",
              "  </div>\n",
              "  "
            ]
          },
          "metadata": {},
          "execution_count": 93
        }
      ]
    },
    {
      "cell_type": "code",
      "source": [
        "# Подсчет соотношения часла строк к число слов в строке\n",
        "number_of_samples = len(data)\n",
        "print(\"Количество строк (объектов)\" , number_of_samples)\n",
        "\n",
        "number_of_words = 0\n",
        "for index, row in data.iterrows():\n",
        "  words = row['text'].split()\n",
        "  number_of_words += len(words)\n",
        "number_of_words_per_sample = number_of_words / len(data)\n",
        "print(\"Количество cлов в строке\" , number_of_words_per_sample)\n",
        "\n",
        "ratio = number_of_samples / number_of_words_per_sample\n",
        "print(\"Соотношение: \" , ratio)\n",
        "\n",
        "# Проводим выбор метода машинного обучения (модели) на основе вычисленного показателя"
      ],
      "metadata": {
        "colab": {
          "base_uri": "https://localhost:8080/"
        },
        "id": "r-tPDzsVbkBP",
        "outputId": "0cb4c46e-79e9-4a19-e718-754507cda683"
      },
      "execution_count": 94,
      "outputs": [
        {
          "output_type": "stream",
          "name": "stdout",
          "text": [
            "Количество строк (объектов) 2000\n",
            "Количество cлов в строке 63.204\n",
            "Соотношение:  31.64356686285678\n"
          ]
        }
      ]
    },
    {
      "cell_type": "markdown",
      "source": [
        "*Важно определить соотношение количества строк (объектов) датасета к количеству слов в строке. Если это соотношение мало (< 1500), то использовать группу методов на основе н-грамм (мешок слов), если соотношение велико (>= 1500), то использовать методы, работающие с последовательностью слов.*"
      ],
      "metadata": {
        "id": "1dK11Edmfr31"
      }
    },
    {
      "cell_type": "markdown",
      "source": [
        "# Предварительная обработка текста"
      ],
      "metadata": {
        "id": "MTft4aZ6agad"
      }
    },
    {
      "cell_type": "code",
      "source": [
        "from string import punctuation  # Модуль для работы со строками\n",
        "\n",
        "# Удаление символов пунктуации\n",
        "def remove_punctuation(my_string):\n",
        "    return \"\".join([ch if ch not in punctuation else ' ' for ch in my_string]) # Замена на пробелы!!!\n",
        "\n",
        "# Удаление чисел\n",
        "def remove_numbers(my_string):\n",
        "    return ''.join([i if not i.isdigit() else ' ' for i in my_string])\n",
        "\n",
        "# Замена множественных пробелов на одинарный пробел\n",
        "import re\n",
        "def remove_multiple_spaces(my_string):\n",
        "\treturn re.sub(r'\\s+', ' ', my_string, flags=re.I)\n",
        "\n",
        "# Обработка строк + дополнительно приведение к нижнему регистру\n",
        "preproccessing = lambda text: (remove_multiple_spaces(remove_numbers(remove_punctuation(text.lower())))) \n",
        "\n",
        "# Создаем колонку в датасете для обработанного текста\n",
        "data['text_processed'] = list(map(preproccessing, data['text']))\n",
        "data.head()"
      ],
      "metadata": {
        "colab": {
          "base_uri": "https://localhost:8080/",
          "height": 206
        },
        "id": "vMy98U7Qlz61",
        "outputId": "8aa8d9ac-e341-42a8-fa3d-9d7f16bbb438"
      },
      "execution_count": 95,
      "outputs": [
        {
          "output_type": "execute_result",
          "data": {
            "text/plain": [
              "   Категория                                               text  \\\n",
              "0          3  Помогите начальник Льговского рэс не реагирует...   \n",
              "1          3  <p>По фасаду дома по адресу ул. Урицкого 22 пр...   \n",
              "2          1  Агресивные собаки. На радуге там стая из подро...   \n",
              "3          3  <p>На пересечении &nbsp;улиц Сосновская и Бере...   \n",
              "4          3  <p style=`text-align:justify;`><span style=`ba...   \n",
              "\n",
              "                                      text_processed  \n",
              "0  помогите начальник льговского рэс не реагирует...  \n",
              "1   p по фасаду дома по адресу ул урицкого проход...  \n",
              "2  агресивные собаки на радуге там стая из подрос...  \n",
              "3   p на пересечении nbsp улиц сосновская и берег...  \n",
              "4   p style text align justify span style backgro...  "
            ],
            "text/html": [
              "\n",
              "  <div id=\"df-50f167da-2e1e-4264-b299-4ad1779bdafb\">\n",
              "    <div class=\"colab-df-container\">\n",
              "      <div>\n",
              "<style scoped>\n",
              "    .dataframe tbody tr th:only-of-type {\n",
              "        vertical-align: middle;\n",
              "    }\n",
              "\n",
              "    .dataframe tbody tr th {\n",
              "        vertical-align: top;\n",
              "    }\n",
              "\n",
              "    .dataframe thead th {\n",
              "        text-align: right;\n",
              "    }\n",
              "</style>\n",
              "<table border=\"1\" class=\"dataframe\">\n",
              "  <thead>\n",
              "    <tr style=\"text-align: right;\">\n",
              "      <th></th>\n",
              "      <th>Категория</th>\n",
              "      <th>text</th>\n",
              "      <th>text_processed</th>\n",
              "    </tr>\n",
              "  </thead>\n",
              "  <tbody>\n",
              "    <tr>\n",
              "      <th>0</th>\n",
              "      <td>3</td>\n",
              "      <td>Помогите начальник Льговского рэс не реагирует...</td>\n",
              "      <td>помогите начальник льговского рэс не реагирует...</td>\n",
              "    </tr>\n",
              "    <tr>\n",
              "      <th>1</th>\n",
              "      <td>3</td>\n",
              "      <td>&lt;p&gt;По фасаду дома по адресу ул. Урицкого 22 пр...</td>\n",
              "      <td>p по фасаду дома по адресу ул урицкого проход...</td>\n",
              "    </tr>\n",
              "    <tr>\n",
              "      <th>2</th>\n",
              "      <td>1</td>\n",
              "      <td>Агресивные собаки. На радуге там стая из подро...</td>\n",
              "      <td>агресивные собаки на радуге там стая из подрос...</td>\n",
              "    </tr>\n",
              "    <tr>\n",
              "      <th>3</th>\n",
              "      <td>3</td>\n",
              "      <td>&lt;p&gt;На пересечении &amp;nbsp;улиц Сосновская и Бере...</td>\n",
              "      <td>p на пересечении nbsp улиц сосновская и берег...</td>\n",
              "    </tr>\n",
              "    <tr>\n",
              "      <th>4</th>\n",
              "      <td>3</td>\n",
              "      <td>&lt;p style=`text-align:justify;`&gt;&lt;span style=`ba...</td>\n",
              "      <td>p style text align justify span style backgro...</td>\n",
              "    </tr>\n",
              "  </tbody>\n",
              "</table>\n",
              "</div>\n",
              "      <button class=\"colab-df-convert\" onclick=\"convertToInteractive('df-50f167da-2e1e-4264-b299-4ad1779bdafb')\"\n",
              "              title=\"Convert this dataframe to an interactive table.\"\n",
              "              style=\"display:none;\">\n",
              "        \n",
              "  <svg xmlns=\"http://www.w3.org/2000/svg\" height=\"24px\"viewBox=\"0 0 24 24\"\n",
              "       width=\"24px\">\n",
              "    <path d=\"M0 0h24v24H0V0z\" fill=\"none\"/>\n",
              "    <path d=\"M18.56 5.44l.94 2.06.94-2.06 2.06-.94-2.06-.94-.94-2.06-.94 2.06-2.06.94zm-11 1L8.5 8.5l.94-2.06 2.06-.94-2.06-.94L8.5 2.5l-.94 2.06-2.06.94zm10 10l.94 2.06.94-2.06 2.06-.94-2.06-.94-.94-2.06-.94 2.06-2.06.94z\"/><path d=\"M17.41 7.96l-1.37-1.37c-.4-.4-.92-.59-1.43-.59-.52 0-1.04.2-1.43.59L10.3 9.45l-7.72 7.72c-.78.78-.78 2.05 0 2.83L4 21.41c.39.39.9.59 1.41.59.51 0 1.02-.2 1.41-.59l7.78-7.78 2.81-2.81c.8-.78.8-2.07 0-2.86zM5.41 20L4 18.59l7.72-7.72 1.47 1.35L5.41 20z\"/>\n",
              "  </svg>\n",
              "      </button>\n",
              "      \n",
              "  <style>\n",
              "    .colab-df-container {\n",
              "      display:flex;\n",
              "      flex-wrap:wrap;\n",
              "      gap: 12px;\n",
              "    }\n",
              "\n",
              "    .colab-df-convert {\n",
              "      background-color: #E8F0FE;\n",
              "      border: none;\n",
              "      border-radius: 50%;\n",
              "      cursor: pointer;\n",
              "      display: none;\n",
              "      fill: #1967D2;\n",
              "      height: 32px;\n",
              "      padding: 0 0 0 0;\n",
              "      width: 32px;\n",
              "    }\n",
              "\n",
              "    .colab-df-convert:hover {\n",
              "      background-color: #E2EBFA;\n",
              "      box-shadow: 0px 1px 2px rgba(60, 64, 67, 0.3), 0px 1px 3px 1px rgba(60, 64, 67, 0.15);\n",
              "      fill: #174EA6;\n",
              "    }\n",
              "\n",
              "    [theme=dark] .colab-df-convert {\n",
              "      background-color: #3B4455;\n",
              "      fill: #D2E3FC;\n",
              "    }\n",
              "\n",
              "    [theme=dark] .colab-df-convert:hover {\n",
              "      background-color: #434B5C;\n",
              "      box-shadow: 0px 1px 3px 1px rgba(0, 0, 0, 0.15);\n",
              "      filter: drop-shadow(0px 1px 2px rgba(0, 0, 0, 0.3));\n",
              "      fill: #FFFFFF;\n",
              "    }\n",
              "  </style>\n",
              "\n",
              "      <script>\n",
              "        const buttonEl =\n",
              "          document.querySelector('#df-50f167da-2e1e-4264-b299-4ad1779bdafb button.colab-df-convert');\n",
              "        buttonEl.style.display =\n",
              "          google.colab.kernel.accessAllowed ? 'block' : 'none';\n",
              "\n",
              "        async function convertToInteractive(key) {\n",
              "          const element = document.querySelector('#df-50f167da-2e1e-4264-b299-4ad1779bdafb');\n",
              "          const dataTable =\n",
              "            await google.colab.kernel.invokeFunction('convertToInteractive',\n",
              "                                                     [key], {});\n",
              "          if (!dataTable) return;\n",
              "\n",
              "          const docLinkHtml = 'Like what you see? Visit the ' +\n",
              "            '<a target=\"_blank\" href=https://colab.research.google.com/notebooks/data_table.ipynb>data table notebook</a>'\n",
              "            + ' to learn more about interactive tables.';\n",
              "          element.innerHTML = '';\n",
              "          dataTable['output_type'] = 'display_data';\n",
              "          await google.colab.output.renderOutput(dataTable, element);\n",
              "          const docLink = document.createElement('div');\n",
              "          docLink.innerHTML = docLinkHtml;\n",
              "          element.appendChild(docLink);\n",
              "        }\n",
              "      </script>\n",
              "    </div>\n",
              "  </div>\n",
              "  "
            ]
          },
          "metadata": {},
          "execution_count": 95
        }
      ]
    },
    {
      "cell_type": "code",
      "source": [
        "# NLTK - библиотек Python для решения задач обработки естественного языка\n",
        "import nltk\n",
        "\n",
        "from nltk.stem.snowball import SnowballStemmer    # Стеммер Porter2 - новая версия стеммера Портера\n",
        "from nltk.corpus import stopwords                 # Библиотека стоп-слов\n",
        "from nltk import word_tokenize                    # Токенизатор\n",
        "\n",
        "nltk.download('stopwords')                        # Загрузка стоп-слов\n",
        "nltk.download('punkt')                            # Загрузка символов пунктуации\n",
        "stemmer = SnowballStemmer(\"russian\")              # Стеммер для русского языка"
      ],
      "metadata": {
        "colab": {
          "base_uri": "https://localhost:8080/"
        },
        "id": "0AT1nCr8z2MB",
        "outputId": "a1000534-b05e-49ed-8b5a-dd3078a28254"
      },
      "execution_count": 96,
      "outputs": [
        {
          "output_type": "stream",
          "name": "stderr",
          "text": [
            "[nltk_data] Downloading package stopwords to /root/nltk_data...\n",
            "[nltk_data]   Package stopwords is already up-to-date!\n",
            "[nltk_data] Downloading package punkt to /root/nltk_data...\n",
            "[nltk_data]   Package punkt is already up-to-date!\n"
          ]
        }
      ]
    },
    {
      "cell_type": "code",
      "source": [
        "russian_stopwords = stopwords.words(\"russian\")    # Список стоп-слов для русского языка\n",
        "# Расширение списка стоп-слов (см. набор данных)\n",
        "russian_stopwords.extend(['…', '«', '»', '...', 'т.д.', 'т', 'д', 'nan'])"
      ],
      "metadata": {
        "id": "YBkLr5nFz26z"
      },
      "execution_count": 97,
      "outputs": []
    },
    {
      "cell_type": "code",
      "source": [
        "# Провердим стемминг и избавляемся от стоп-слов\n",
        "stemmed_text_column = []\n",
        "for text in tqdm(data['text_processed']):\n",
        "    tokens = word_tokenize(text)    \n",
        "    stemmed_tokens = [stemmer.stem(token) for token in tokens if token not in russian_stopwords]\n",
        "    text = \" \".join(stemmed_tokens)\n",
        "    stemmed_text_column.append(text)\n",
        "\n",
        "# Создаем новую колонку в наборе данных\n",
        "data['text_stemmed'] = stemmed_text_column\n",
        "data['text_stemmed'][0]"
      ],
      "metadata": {
        "colab": {
          "base_uri": "https://localhost:8080/",
          "height": 85,
          "referenced_widgets": [
            "c7c44bf36e2b431f8e28fd20f8597654",
            "05a934e4abd4459cbc694d4802c3e5f5",
            "cdb54bf31fc74dd08262eedc1fe3cdd0",
            "504c3f35161b453ca1aa643f5dcade83",
            "9b99ed9d39174229bebde1c7a7ac69e3",
            "4d0e0bd01d824ebb922cf403bed04fdb",
            "14981b2f92f0474ba87fe440d62e3d75",
            "1dfdf010101c4637bdb4cda49f15270b",
            "701fabb36eb2403ab75ecb554758aa04",
            "351adbb3d33b402c93976de6e9cb235e",
            "8c5be04cfc4f4f75b3f1a6c2b77b2fb4"
          ]
        },
        "id": "eMPpMSRDDbmI",
        "outputId": "8e7e141b-5fe4-478b-8587-fc8c2d4e585f"
      },
      "execution_count": 98,
      "outputs": [
        {
          "output_type": "display_data",
          "data": {
            "text/plain": [
              "  0%|          | 0/2000 [00:00<?, ?it/s]"
            ],
            "application/vnd.jupyter.widget-view+json": {
              "version_major": 2,
              "version_minor": 0,
              "model_id": "c7c44bf36e2b431f8e28fd20f8597654"
            }
          },
          "metadata": {}
        },
        {
          "output_type": "execute_result",
          "data": {
            "text/plain": [
              "'помог начальник льговск рэс реагир жалоб мал ветер сид свет имен деревн больш угон улиц стар слобод пожалуйст помог пуска вычист фотоотчет сдела нарушен связа содержан электросет качеств энергоснабжен район частн сектор администрац льговск район'"
            ],
            "application/vnd.google.colaboratory.intrinsic+json": {
              "type": "string"
            }
          },
          "metadata": {},
          "execution_count": 98
        }
      ]
    },
    {
      "cell_type": "code",
      "source": [
        "data.head()"
      ],
      "metadata": {
        "colab": {
          "base_uri": "https://localhost:8080/",
          "height": 206
        },
        "id": "FU9r6lajkoIR",
        "outputId": "e2babe14-d8ef-47d8-c9fc-b96a1632d48d"
      },
      "execution_count": 99,
      "outputs": [
        {
          "output_type": "execute_result",
          "data": {
            "text/plain": [
              "   Категория                                               text  \\\n",
              "0          3  Помогите начальник Льговского рэс не реагирует...   \n",
              "1          3  <p>По фасаду дома по адресу ул. Урицкого 22 пр...   \n",
              "2          1  Агресивные собаки. На радуге там стая из подро...   \n",
              "3          3  <p>На пересечении &nbsp;улиц Сосновская и Бере...   \n",
              "4          3  <p style=`text-align:justify;`><span style=`ba...   \n",
              "\n",
              "                                      text_processed  \\\n",
              "0  помогите начальник льговского рэс не реагирует...   \n",
              "1   p по фасаду дома по адресу ул урицкого проход...   \n",
              "2  агресивные собаки на радуге там стая из подрос...   \n",
              "3   p на пересечении nbsp улиц сосновская и берег...   \n",
              "4   p style text align justify span style backgro...   \n",
              "\n",
              "                                        text_stemmed  \n",
              "0  помог начальник льговск рэс реагир жалоб мал в...  \n",
              "1  p фасад дом адрес ул урицк проход труб газов м...  \n",
              "2  агресивн собак радуг ста подросш щенк звросл с...  \n",
              "3  p пересечен nbsp улиц сосновск берегов nbsp за...  \n",
              "4  p style text align justify span style backgrou...  "
            ],
            "text/html": [
              "\n",
              "  <div id=\"df-5fa2a9c9-0eaa-4c38-9e4b-a5f5f8f6dbcc\">\n",
              "    <div class=\"colab-df-container\">\n",
              "      <div>\n",
              "<style scoped>\n",
              "    .dataframe tbody tr th:only-of-type {\n",
              "        vertical-align: middle;\n",
              "    }\n",
              "\n",
              "    .dataframe tbody tr th {\n",
              "        vertical-align: top;\n",
              "    }\n",
              "\n",
              "    .dataframe thead th {\n",
              "        text-align: right;\n",
              "    }\n",
              "</style>\n",
              "<table border=\"1\" class=\"dataframe\">\n",
              "  <thead>\n",
              "    <tr style=\"text-align: right;\">\n",
              "      <th></th>\n",
              "      <th>Категория</th>\n",
              "      <th>text</th>\n",
              "      <th>text_processed</th>\n",
              "      <th>text_stemmed</th>\n",
              "    </tr>\n",
              "  </thead>\n",
              "  <tbody>\n",
              "    <tr>\n",
              "      <th>0</th>\n",
              "      <td>3</td>\n",
              "      <td>Помогите начальник Льговского рэс не реагирует...</td>\n",
              "      <td>помогите начальник льговского рэс не реагирует...</td>\n",
              "      <td>помог начальник льговск рэс реагир жалоб мал в...</td>\n",
              "    </tr>\n",
              "    <tr>\n",
              "      <th>1</th>\n",
              "      <td>3</td>\n",
              "      <td>&lt;p&gt;По фасаду дома по адресу ул. Урицкого 22 пр...</td>\n",
              "      <td>p по фасаду дома по адресу ул урицкого проход...</td>\n",
              "      <td>p фасад дом адрес ул урицк проход труб газов м...</td>\n",
              "    </tr>\n",
              "    <tr>\n",
              "      <th>2</th>\n",
              "      <td>1</td>\n",
              "      <td>Агресивные собаки. На радуге там стая из подро...</td>\n",
              "      <td>агресивные собаки на радуге там стая из подрос...</td>\n",
              "      <td>агресивн собак радуг ста подросш щенк звросл с...</td>\n",
              "    </tr>\n",
              "    <tr>\n",
              "      <th>3</th>\n",
              "      <td>3</td>\n",
              "      <td>&lt;p&gt;На пересечении &amp;nbsp;улиц Сосновская и Бере...</td>\n",
              "      <td>p на пересечении nbsp улиц сосновская и берег...</td>\n",
              "      <td>p пересечен nbsp улиц сосновск берегов nbsp за...</td>\n",
              "    </tr>\n",
              "    <tr>\n",
              "      <th>4</th>\n",
              "      <td>3</td>\n",
              "      <td>&lt;p style=`text-align:justify;`&gt;&lt;span style=`ba...</td>\n",
              "      <td>p style text align justify span style backgro...</td>\n",
              "      <td>p style text align justify span style backgrou...</td>\n",
              "    </tr>\n",
              "  </tbody>\n",
              "</table>\n",
              "</div>\n",
              "      <button class=\"colab-df-convert\" onclick=\"convertToInteractive('df-5fa2a9c9-0eaa-4c38-9e4b-a5f5f8f6dbcc')\"\n",
              "              title=\"Convert this dataframe to an interactive table.\"\n",
              "              style=\"display:none;\">\n",
              "        \n",
              "  <svg xmlns=\"http://www.w3.org/2000/svg\" height=\"24px\"viewBox=\"0 0 24 24\"\n",
              "       width=\"24px\">\n",
              "    <path d=\"M0 0h24v24H0V0z\" fill=\"none\"/>\n",
              "    <path d=\"M18.56 5.44l.94 2.06.94-2.06 2.06-.94-2.06-.94-.94-2.06-.94 2.06-2.06.94zm-11 1L8.5 8.5l.94-2.06 2.06-.94-2.06-.94L8.5 2.5l-.94 2.06-2.06.94zm10 10l.94 2.06.94-2.06 2.06-.94-2.06-.94-.94-2.06-.94 2.06-2.06.94z\"/><path d=\"M17.41 7.96l-1.37-1.37c-.4-.4-.92-.59-1.43-.59-.52 0-1.04.2-1.43.59L10.3 9.45l-7.72 7.72c-.78.78-.78 2.05 0 2.83L4 21.41c.39.39.9.59 1.41.59.51 0 1.02-.2 1.41-.59l7.78-7.78 2.81-2.81c.8-.78.8-2.07 0-2.86zM5.41 20L4 18.59l7.72-7.72 1.47 1.35L5.41 20z\"/>\n",
              "  </svg>\n",
              "      </button>\n",
              "      \n",
              "  <style>\n",
              "    .colab-df-container {\n",
              "      display:flex;\n",
              "      flex-wrap:wrap;\n",
              "      gap: 12px;\n",
              "    }\n",
              "\n",
              "    .colab-df-convert {\n",
              "      background-color: #E8F0FE;\n",
              "      border: none;\n",
              "      border-radius: 50%;\n",
              "      cursor: pointer;\n",
              "      display: none;\n",
              "      fill: #1967D2;\n",
              "      height: 32px;\n",
              "      padding: 0 0 0 0;\n",
              "      width: 32px;\n",
              "    }\n",
              "\n",
              "    .colab-df-convert:hover {\n",
              "      background-color: #E2EBFA;\n",
              "      box-shadow: 0px 1px 2px rgba(60, 64, 67, 0.3), 0px 1px 3px 1px rgba(60, 64, 67, 0.15);\n",
              "      fill: #174EA6;\n",
              "    }\n",
              "\n",
              "    [theme=dark] .colab-df-convert {\n",
              "      background-color: #3B4455;\n",
              "      fill: #D2E3FC;\n",
              "    }\n",
              "\n",
              "    [theme=dark] .colab-df-convert:hover {\n",
              "      background-color: #434B5C;\n",
              "      box-shadow: 0px 1px 3px 1px rgba(0, 0, 0, 0.15);\n",
              "      filter: drop-shadow(0px 1px 2px rgba(0, 0, 0, 0.3));\n",
              "      fill: #FFFFFF;\n",
              "    }\n",
              "  </style>\n",
              "\n",
              "      <script>\n",
              "        const buttonEl =\n",
              "          document.querySelector('#df-5fa2a9c9-0eaa-4c38-9e4b-a5f5f8f6dbcc button.colab-df-convert');\n",
              "        buttonEl.style.display =\n",
              "          google.colab.kernel.accessAllowed ? 'block' : 'none';\n",
              "\n",
              "        async function convertToInteractive(key) {\n",
              "          const element = document.querySelector('#df-5fa2a9c9-0eaa-4c38-9e4b-a5f5f8f6dbcc');\n",
              "          const dataTable =\n",
              "            await google.colab.kernel.invokeFunction('convertToInteractive',\n",
              "                                                     [key], {});\n",
              "          if (!dataTable) return;\n",
              "\n",
              "          const docLinkHtml = 'Like what you see? Visit the ' +\n",
              "            '<a target=\"_blank\" href=https://colab.research.google.com/notebooks/data_table.ipynb>data table notebook</a>'\n",
              "            + ' to learn more about interactive tables.';\n",
              "          element.innerHTML = '';\n",
              "          dataTable['output_type'] = 'display_data';\n",
              "          await google.colab.output.renderOutput(dataTable, element);\n",
              "          const docLink = document.createElement('div');\n",
              "          docLink.innerHTML = docLinkHtml;\n",
              "          element.appendChild(docLink);\n",
              "        }\n",
              "      </script>\n",
              "    </div>\n",
              "  </div>\n",
              "  "
            ]
          },
          "metadata": {},
          "execution_count": 99
        }
      ]
    },
    {
      "cell_type": "markdown",
      "source": [
        "## Лемматизация\n",
        "\n",
        "Лемматиза́ция — процесс приведения словоформы к лемме — её нормальной (словарной) форме."
      ],
      "metadata": {
        "id": "xAOg8p3jbNS6"
      }
    },
    {
      "cell_type": "code",
      "source": [
        "!pip install pymorphy2            # pymorphy2 - морфологический анализатор для русского языка\n",
        "!pip install pymorphy2-dicts      # пакет со словарями\n",
        "!pip install DAWG-Python          \n"
      ],
      "metadata": {
        "colab": {
          "base_uri": "https://localhost:8080/"
        },
        "id": "OqYTikL-LyT3",
        "outputId": "8bcdf0bf-ad57-431f-d483-4a0ebdba680c"
      },
      "execution_count": 100,
      "outputs": [
        {
          "output_type": "stream",
          "name": "stdout",
          "text": [
            "Looking in indexes: https://pypi.org/simple, https://us-python.pkg.dev/colab-wheels/public/simple/\n",
            "Requirement already satisfied: pymorphy2 in /usr/local/lib/python3.7/dist-packages (0.9.1)\n",
            "Requirement already satisfied: docopt>=0.6 in /usr/local/lib/python3.7/dist-packages (from pymorphy2) (0.6.2)\n",
            "Requirement already satisfied: dawg-python>=0.7.1 in /usr/local/lib/python3.7/dist-packages (from pymorphy2) (0.7.2)\n",
            "Requirement already satisfied: pymorphy2-dicts-ru<3.0,>=2.4 in /usr/local/lib/python3.7/dist-packages (from pymorphy2) (2.4.417127.4579844)\n",
            "Looking in indexes: https://pypi.org/simple, https://us-python.pkg.dev/colab-wheels/public/simple/\n",
            "Requirement already satisfied: pymorphy2-dicts in /usr/local/lib/python3.7/dist-packages (2.4.393442.3710985)\n",
            "Looking in indexes: https://pypi.org/simple, https://us-python.pkg.dev/colab-wheels/public/simple/\n",
            "Requirement already satisfied: DAWG-Python in /usr/local/lib/python3.7/dist-packages (0.7.2)\n"
          ]
        }
      ]
    },
    {
      "cell_type": "code",
      "source": [
        "import pymorphy2\n",
        "morph = pymorphy2.MorphAnalyzer()"
      ],
      "metadata": {
        "id": "fw1Ix6yKMDzD"
      },
      "execution_count": 101,
      "outputs": []
    },
    {
      "cell_type": "code",
      "source": [
        "morph.parse('шел')[0].normal_form  # Получение нулевой формы слова"
      ],
      "metadata": {
        "colab": {
          "base_uri": "https://localhost:8080/",
          "height": 35
        },
        "id": "Z_IfATcDM7hX",
        "outputId": "cbc864cb-b758-4090-cb92-5cb48fd79913"
      },
      "execution_count": 102,
      "outputs": [
        {
          "output_type": "execute_result",
          "data": {
            "text/plain": [
              "'идти'"
            ],
            "application/vnd.google.colaboratory.intrinsic+json": {
              "type": "string"
            }
          },
          "metadata": {},
          "execution_count": 102
        }
      ]
    },
    {
      "cell_type": "code",
      "source": [
        "morph.parse('шел')[0].lexeme  # Все лексемы слова"
      ],
      "metadata": {
        "id": "8WDNyYNOlvY0",
        "colab": {
          "base_uri": "https://localhost:8080/"
        },
        "outputId": "646fb149-7f53-45a8-9665-b98252a8f63a"
      },
      "execution_count": 103,
      "outputs": [
        {
          "output_type": "execute_result",
          "data": {
            "text/plain": [
              "[Parse(word='идти', tag=OpencorporaTag('INFN,impf,intr'), normal_form='идти', score=1.0, methods_stack=((DictionaryAnalyzer(), 'идти', 1696, 0),)),\n",
              " Parse(word='иду', tag=OpencorporaTag('VERB,impf,intr sing,1per,pres,indc'), normal_form='идти', score=1.0, methods_stack=((DictionaryAnalyzer(), 'иду', 1696, 1),)),\n",
              " Parse(word='идём', tag=OpencorporaTag('VERB,impf,intr plur,1per,pres,indc'), normal_form='идти', score=1.0, methods_stack=((DictionaryAnalyzer(), 'идём', 1696, 2),)),\n",
              " Parse(word='идёшь', tag=OpencorporaTag('VERB,impf,intr sing,2per,pres,indc'), normal_form='идти', score=1.0, methods_stack=((DictionaryAnalyzer(), 'идёшь', 1696, 3),)),\n",
              " Parse(word='идёте', tag=OpencorporaTag('VERB,impf,intr plur,2per,pres,indc'), normal_form='идти', score=1.0, methods_stack=((DictionaryAnalyzer(), 'идёте', 1696, 4),)),\n",
              " Parse(word='идёт', tag=OpencorporaTag('VERB,impf,intr sing,3per,pres,indc'), normal_form='идти', score=1.0, methods_stack=((DictionaryAnalyzer(), 'идёт', 1696, 5),)),\n",
              " Parse(word='идут', tag=OpencorporaTag('VERB,impf,intr plur,3per,pres,indc'), normal_form='идти', score=1.0, methods_stack=((DictionaryAnalyzer(), 'идут', 1696, 6),)),\n",
              " Parse(word='шёл', tag=OpencorporaTag('VERB,impf,intr masc,sing,past,indc'), normal_form='идти', score=1.0, methods_stack=((DictionaryAnalyzer(), 'шёл', 1696, 7),)),\n",
              " Parse(word='шла', tag=OpencorporaTag('VERB,impf,intr femn,sing,past,indc'), normal_form='идти', score=1.0, methods_stack=((DictionaryAnalyzer(), 'шла', 1696, 8),)),\n",
              " Parse(word='шло', tag=OpencorporaTag('VERB,impf,intr neut,sing,past,indc'), normal_form='идти', score=1.0, methods_stack=((DictionaryAnalyzer(), 'шло', 1696, 9),)),\n",
              " Parse(word='шли', tag=OpencorporaTag('VERB,impf,intr plur,past,indc'), normal_form='идти', score=1.0, methods_stack=((DictionaryAnalyzer(), 'шли', 1696, 10),)),\n",
              " Parse(word='идём', tag=OpencorporaTag('VERB,impf,intr sing,impr,incl'), normal_form='идти', score=1.0, methods_stack=((DictionaryAnalyzer(), 'идём', 1696, 11),)),\n",
              " Parse(word='идёмте', tag=OpencorporaTag('VERB,impf,intr plur,impr,incl'), normal_form='идти', score=1.0, methods_stack=((DictionaryAnalyzer(), 'идёмте', 1696, 12),)),\n",
              " Parse(word='иди', tag=OpencorporaTag('VERB,impf,intr sing,impr,excl'), normal_form='идти', score=1.0, methods_stack=((DictionaryAnalyzer(), 'иди', 1696, 13),)),\n",
              " Parse(word='идите', tag=OpencorporaTag('VERB,impf,intr plur,impr,excl'), normal_form='идти', score=1.0, methods_stack=((DictionaryAnalyzer(), 'идите', 1696, 14),)),\n",
              " Parse(word='идущий', tag=OpencorporaTag('PRTF,impf,intr,pres,actv masc,sing,nomn'), normal_form='идти', score=1.0, methods_stack=((DictionaryAnalyzer(), 'идущий', 1696, 15),)),\n",
              " Parse(word='идущего', tag=OpencorporaTag('PRTF,impf,intr,pres,actv masc,sing,gent'), normal_form='идти', score=1.0, methods_stack=((DictionaryAnalyzer(), 'идущего', 1696, 16),)),\n",
              " Parse(word='идущему', tag=OpencorporaTag('PRTF,impf,intr,pres,actv masc,sing,datv'), normal_form='идти', score=1.0, methods_stack=((DictionaryAnalyzer(), 'идущему', 1696, 17),)),\n",
              " Parse(word='идущего', tag=OpencorporaTag('PRTF,impf,intr,pres,actv anim,masc,sing,accs'), normal_form='идти', score=1.0, methods_stack=((DictionaryAnalyzer(), 'идущего', 1696, 18),)),\n",
              " Parse(word='идущий', tag=OpencorporaTag('PRTF,impf,intr,pres,actv inan,masc,sing,accs'), normal_form='идти', score=1.0, methods_stack=((DictionaryAnalyzer(), 'идущий', 1696, 19),)),\n",
              " Parse(word='идущим', tag=OpencorporaTag('PRTF,impf,intr,pres,actv masc,sing,ablt'), normal_form='идти', score=1.0, methods_stack=((DictionaryAnalyzer(), 'идущим', 1696, 20),)),\n",
              " Parse(word='идущем', tag=OpencorporaTag('PRTF,impf,intr,pres,actv masc,sing,loct'), normal_form='идти', score=1.0, methods_stack=((DictionaryAnalyzer(), 'идущем', 1696, 21),)),\n",
              " Parse(word='идущая', tag=OpencorporaTag('PRTF,impf,intr,pres,actv femn,sing,nomn'), normal_form='идти', score=1.0, methods_stack=((DictionaryAnalyzer(), 'идущая', 1696, 22),)),\n",
              " Parse(word='идущей', tag=OpencorporaTag('PRTF,impf,intr,pres,actv femn,sing,gent'), normal_form='идти', score=1.0, methods_stack=((DictionaryAnalyzer(), 'идущей', 1696, 23),)),\n",
              " Parse(word='идущей', tag=OpencorporaTag('PRTF,impf,intr,pres,actv femn,sing,datv'), normal_form='идти', score=1.0, methods_stack=((DictionaryAnalyzer(), 'идущей', 1696, 24),)),\n",
              " Parse(word='идущую', tag=OpencorporaTag('PRTF,impf,intr,pres,actv femn,sing,accs'), normal_form='идти', score=1.0, methods_stack=((DictionaryAnalyzer(), 'идущую', 1696, 25),)),\n",
              " Parse(word='идущей', tag=OpencorporaTag('PRTF,impf,intr,pres,actv femn,sing,ablt'), normal_form='идти', score=1.0, methods_stack=((DictionaryAnalyzer(), 'идущей', 1696, 26),)),\n",
              " Parse(word='идущею', tag=OpencorporaTag('PRTF,impf,intr,pres,actv femn,sing,ablt,V-ey'), normal_form='идти', score=1.0, methods_stack=((DictionaryAnalyzer(), 'идущею', 1696, 27),)),\n",
              " Parse(word='идущей', tag=OpencorporaTag('PRTF,impf,intr,pres,actv femn,sing,loct'), normal_form='идти', score=1.0, methods_stack=((DictionaryAnalyzer(), 'идущей', 1696, 28),)),\n",
              " Parse(word='идущее', tag=OpencorporaTag('PRTF,impf,intr,pres,actv neut,sing,nomn'), normal_form='идти', score=1.0, methods_stack=((DictionaryAnalyzer(), 'идущее', 1696, 29),)),\n",
              " Parse(word='идущего', tag=OpencorporaTag('PRTF,impf,intr,pres,actv neut,sing,gent'), normal_form='идти', score=1.0, methods_stack=((DictionaryAnalyzer(), 'идущего', 1696, 30),)),\n",
              " Parse(word='идущему', tag=OpencorporaTag('PRTF,impf,intr,pres,actv neut,sing,datv'), normal_form='идти', score=1.0, methods_stack=((DictionaryAnalyzer(), 'идущему', 1696, 31),)),\n",
              " Parse(word='идущее', tag=OpencorporaTag('PRTF,impf,intr,pres,actv neut,sing,accs'), normal_form='идти', score=1.0, methods_stack=((DictionaryAnalyzer(), 'идущее', 1696, 32),)),\n",
              " Parse(word='идущим', tag=OpencorporaTag('PRTF,impf,intr,pres,actv neut,sing,ablt'), normal_form='идти', score=1.0, methods_stack=((DictionaryAnalyzer(), 'идущим', 1696, 33),)),\n",
              " Parse(word='идущем', tag=OpencorporaTag('PRTF,impf,intr,pres,actv neut,sing,loct'), normal_form='идти', score=1.0, methods_stack=((DictionaryAnalyzer(), 'идущем', 1696, 34),)),\n",
              " Parse(word='идущие', tag=OpencorporaTag('PRTF,impf,intr,pres,actv plur,nomn'), normal_form='идти', score=1.0, methods_stack=((DictionaryAnalyzer(), 'идущие', 1696, 35),)),\n",
              " Parse(word='идущих', tag=OpencorporaTag('PRTF,impf,intr,pres,actv plur,gent'), normal_form='идти', score=1.0, methods_stack=((DictionaryAnalyzer(), 'идущих', 1696, 36),)),\n",
              " Parse(word='идущим', tag=OpencorporaTag('PRTF,impf,intr,pres,actv plur,datv'), normal_form='идти', score=1.0, methods_stack=((DictionaryAnalyzer(), 'идущим', 1696, 37),)),\n",
              " Parse(word='идущих', tag=OpencorporaTag('PRTF,impf,intr,pres,actv anim,plur,accs'), normal_form='идти', score=1.0, methods_stack=((DictionaryAnalyzer(), 'идущих', 1696, 38),)),\n",
              " Parse(word='идущие', tag=OpencorporaTag('PRTF,impf,intr,pres,actv inan,plur,accs'), normal_form='идти', score=1.0, methods_stack=((DictionaryAnalyzer(), 'идущие', 1696, 39),)),\n",
              " Parse(word='идущими', tag=OpencorporaTag('PRTF,impf,intr,pres,actv plur,ablt'), normal_form='идти', score=1.0, methods_stack=((DictionaryAnalyzer(), 'идущими', 1696, 40),)),\n",
              " Parse(word='идущих', tag=OpencorporaTag('PRTF,impf,intr,pres,actv plur,loct'), normal_form='идти', score=1.0, methods_stack=((DictionaryAnalyzer(), 'идущих', 1696, 41),)),\n",
              " Parse(word='шедший', tag=OpencorporaTag('PRTF,impf,intr,past,actv masc,sing,nomn'), normal_form='идти', score=1.0, methods_stack=((DictionaryAnalyzer(), 'шедший', 1696, 42),)),\n",
              " Parse(word='шедшего', tag=OpencorporaTag('PRTF,impf,intr,past,actv masc,sing,gent'), normal_form='идти', score=1.0, methods_stack=((DictionaryAnalyzer(), 'шедшего', 1696, 43),)),\n",
              " Parse(word='шедшему', tag=OpencorporaTag('PRTF,impf,intr,past,actv masc,sing,datv'), normal_form='идти', score=1.0, methods_stack=((DictionaryAnalyzer(), 'шедшему', 1696, 44),)),\n",
              " Parse(word='шедшего', tag=OpencorporaTag('PRTF,impf,intr,past,actv anim,masc,sing,accs'), normal_form='идти', score=1.0, methods_stack=((DictionaryAnalyzer(), 'шедшего', 1696, 45),)),\n",
              " Parse(word='шедший', tag=OpencorporaTag('PRTF,impf,intr,past,actv inan,masc,sing,accs'), normal_form='идти', score=1.0, methods_stack=((DictionaryAnalyzer(), 'шедший', 1696, 46),)),\n",
              " Parse(word='шедшим', tag=OpencorporaTag('PRTF,impf,intr,past,actv masc,sing,ablt'), normal_form='идти', score=1.0, methods_stack=((DictionaryAnalyzer(), 'шедшим', 1696, 47),)),\n",
              " Parse(word='шедшем', tag=OpencorporaTag('PRTF,impf,intr,past,actv masc,sing,loct'), normal_form='идти', score=1.0, methods_stack=((DictionaryAnalyzer(), 'шедшем', 1696, 48),)),\n",
              " Parse(word='шедшая', tag=OpencorporaTag('PRTF,impf,intr,past,actv femn,sing,nomn'), normal_form='идти', score=1.0, methods_stack=((DictionaryAnalyzer(), 'шедшая', 1696, 49),)),\n",
              " Parse(word='шедшей', tag=OpencorporaTag('PRTF,impf,intr,past,actv femn,sing,gent'), normal_form='идти', score=1.0, methods_stack=((DictionaryAnalyzer(), 'шедшей', 1696, 50),)),\n",
              " Parse(word='шедшей', tag=OpencorporaTag('PRTF,impf,intr,past,actv femn,sing,datv'), normal_form='идти', score=1.0, methods_stack=((DictionaryAnalyzer(), 'шедшей', 1696, 51),)),\n",
              " Parse(word='шедшую', tag=OpencorporaTag('PRTF,impf,intr,past,actv femn,sing,accs'), normal_form='идти', score=1.0, methods_stack=((DictionaryAnalyzer(), 'шедшую', 1696, 52),)),\n",
              " Parse(word='шедшей', tag=OpencorporaTag('PRTF,impf,intr,past,actv femn,sing,ablt'), normal_form='идти', score=1.0, methods_stack=((DictionaryAnalyzer(), 'шедшей', 1696, 53),)),\n",
              " Parse(word='шедшею', tag=OpencorporaTag('PRTF,impf,intr,past,actv femn,sing,ablt,V-ey'), normal_form='идти', score=1.0, methods_stack=((DictionaryAnalyzer(), 'шедшею', 1696, 54),)),\n",
              " Parse(word='шедшей', tag=OpencorporaTag('PRTF,impf,intr,past,actv femn,sing,loct'), normal_form='идти', score=1.0, methods_stack=((DictionaryAnalyzer(), 'шедшей', 1696, 55),)),\n",
              " Parse(word='шедшее', tag=OpencorporaTag('PRTF,impf,intr,past,actv neut,sing,nomn'), normal_form='идти', score=1.0, methods_stack=((DictionaryAnalyzer(), 'шедшее', 1696, 56),)),\n",
              " Parse(word='шедшего', tag=OpencorporaTag('PRTF,impf,intr,past,actv neut,sing,gent'), normal_form='идти', score=1.0, methods_stack=((DictionaryAnalyzer(), 'шедшего', 1696, 57),)),\n",
              " Parse(word='шедшему', tag=OpencorporaTag('PRTF,impf,intr,past,actv neut,sing,datv'), normal_form='идти', score=1.0, methods_stack=((DictionaryAnalyzer(), 'шедшему', 1696, 58),)),\n",
              " Parse(word='шедшее', tag=OpencorporaTag('PRTF,impf,intr,past,actv neut,sing,accs'), normal_form='идти', score=1.0, methods_stack=((DictionaryAnalyzer(), 'шедшее', 1696, 59),)),\n",
              " Parse(word='шедшим', tag=OpencorporaTag('PRTF,impf,intr,past,actv neut,sing,ablt'), normal_form='идти', score=1.0, methods_stack=((DictionaryAnalyzer(), 'шедшим', 1696, 60),)),\n",
              " Parse(word='шедшем', tag=OpencorporaTag('PRTF,impf,intr,past,actv neut,sing,loct'), normal_form='идти', score=1.0, methods_stack=((DictionaryAnalyzer(), 'шедшем', 1696, 61),)),\n",
              " Parse(word='шедшие', tag=OpencorporaTag('PRTF,impf,intr,past,actv plur,nomn'), normal_form='идти', score=1.0, methods_stack=((DictionaryAnalyzer(), 'шедшие', 1696, 62),)),\n",
              " Parse(word='шедших', tag=OpencorporaTag('PRTF,impf,intr,past,actv plur,gent'), normal_form='идти', score=1.0, methods_stack=((DictionaryAnalyzer(), 'шедших', 1696, 63),)),\n",
              " Parse(word='шедшим', tag=OpencorporaTag('PRTF,impf,intr,past,actv plur,datv'), normal_form='идти', score=1.0, methods_stack=((DictionaryAnalyzer(), 'шедшим', 1696, 64),)),\n",
              " Parse(word='шедших', tag=OpencorporaTag('PRTF,impf,intr,past,actv anim,plur,accs'), normal_form='идти', score=1.0, methods_stack=((DictionaryAnalyzer(), 'шедших', 1696, 65),)),\n",
              " Parse(word='шедшие', tag=OpencorporaTag('PRTF,impf,intr,past,actv inan,plur,accs'), normal_form='идти', score=1.0, methods_stack=((DictionaryAnalyzer(), 'шедшие', 1696, 66),)),\n",
              " Parse(word='шедшими', tag=OpencorporaTag('PRTF,impf,intr,past,actv plur,ablt'), normal_form='идти', score=1.0, methods_stack=((DictionaryAnalyzer(), 'шедшими', 1696, 67),)),\n",
              " Parse(word='шедших', tag=OpencorporaTag('PRTF,impf,intr,past,actv plur,loct'), normal_form='идти', score=1.0, methods_stack=((DictionaryAnalyzer(), 'шедших', 1696, 68),)),\n",
              " Parse(word='идя', tag=OpencorporaTag('GRND,impf,intr pres'), normal_form='идти', score=1.0, methods_stack=((DictionaryAnalyzer(), 'идя', 1696, 69),)),\n",
              " Parse(word='шедши', tag=OpencorporaTag('GRND,impf,intr past,V-sh'), normal_form='идти', score=1.0, methods_stack=((DictionaryAnalyzer(), 'шедши', 1696, 70),))]"
            ]
          },
          "metadata": {},
          "execution_count": 103
        }
      ]
    },
    {
      "cell_type": "code",
      "source": [
        "# Провердим лемматизацию и избавляемся от стоп-слов\n",
        "lemm_texts_column = []\n",
        "for text in tqdm(data['text_processed']):\n",
        "    tokens = word_tokenize(text)    \n",
        "    lemmed_tokens = [morph.parse(token)[0].normal_form for token in tokens if token not in russian_stopwords]\n",
        "    text = \" \".join(lemmed_tokens)\n",
        "    lemm_texts_column.append(text)\n",
        "    \n",
        "# Создаем новую колонку в наборе данных\n",
        "data['text_lemmed'] = lemm_texts_column\n",
        "\n",
        "data['text_lemmed'][0]"
      ],
      "metadata": {
        "colab": {
          "base_uri": "https://localhost:8080/",
          "height": 85,
          "referenced_widgets": [
            "354759c14fd848ad98472571a8376b51",
            "720a3214ddf640ccb5408f19501e5f0e",
            "5a21e1e1127e408e9f005962e36dd0fa",
            "217cdf891e1b4b21b4b0f175b5fca10b",
            "c84f99f9f21941caafb9cfac301d6354",
            "7a4db43c686d4ca0a5685862ff2d2d7c",
            "ce42b9d7815b44f8a548edbd7d643072",
            "80626abb365e4202a2520f8da522bc17",
            "54a7cef4becc48c598b4470a3a9f1eab",
            "adf759cd009843cf9492ef8ae59322ec",
            "9a1a8371c30b435491de48979e9f44fe"
          ]
        },
        "id": "G6CNF0y2HH8T",
        "outputId": "7831f250-ada3-4b92-d998-b1ae37cf158f"
      },
      "execution_count": 104,
      "outputs": [
        {
          "output_type": "display_data",
          "data": {
            "text/plain": [
              "  0%|          | 0/2000 [00:00<?, ?it/s]"
            ],
            "application/vnd.jupyter.widget-view+json": {
              "version_major": 2,
              "version_minor": 0,
              "model_id": "354759c14fd848ad98472571a8376b51"
            }
          },
          "metadata": {}
        },
        {
          "output_type": "execute_result",
          "data": {
            "text/plain": [
              "'помочь начальник льговский рэс реагировать жалоба малый ветер сидеть свет именно деревня больший угон улица старый слобода пожалуйста помочь пускай вычистить фотоотчёт сделать нарушение связанный содержание электросеть качество энергоснабжение район частное сектор администрация льговский район'"
            ],
            "application/vnd.google.colaboratory.intrinsic+json": {
              "type": "string"
            }
          },
          "metadata": {},
          "execution_count": 104
        }
      ]
    },
    {
      "cell_type": "code",
      "source": [
        "data.head()"
      ],
      "metadata": {
        "colab": {
          "base_uri": "https://localhost:8080/",
          "height": 320
        },
        "id": "qil8oSjvnf8M",
        "outputId": "228875ee-3400-4aec-fefa-5588dbb6d290"
      },
      "execution_count": 105,
      "outputs": [
        {
          "output_type": "execute_result",
          "data": {
            "text/plain": [
              "   Категория                                               text  \\\n",
              "0          3  Помогите начальник Льговского рэс не реагирует...   \n",
              "1          3  <p>По фасаду дома по адресу ул. Урицкого 22 пр...   \n",
              "2          1  Агресивные собаки. На радуге там стая из подро...   \n",
              "3          3  <p>На пересечении &nbsp;улиц Сосновская и Бере...   \n",
              "4          3  <p style=`text-align:justify;`><span style=`ba...   \n",
              "\n",
              "                                      text_processed  \\\n",
              "0  помогите начальник льговского рэс не реагирует...   \n",
              "1   p по фасаду дома по адресу ул урицкого проход...   \n",
              "2  агресивные собаки на радуге там стая из подрос...   \n",
              "3   p на пересечении nbsp улиц сосновская и берег...   \n",
              "4   p style text align justify span style backgro...   \n",
              "\n",
              "                                        text_stemmed  \\\n",
              "0  помог начальник льговск рэс реагир жалоб мал в...   \n",
              "1  p фасад дом адрес ул урицк проход труб газов м...   \n",
              "2  агресивн собак радуг ста подросш щенк звросл с...   \n",
              "3  p пересечен nbsp улиц сосновск берегов nbsp за...   \n",
              "4  p style text align justify span style backgrou...   \n",
              "\n",
              "                                         text_lemmed  \n",
              "0  помочь начальник льговский рэс реагировать жал...  \n",
              "1  p фасад дом адрес ул урицкий проходить труба г...  \n",
              "2  агресивный собака радуга стая подрасти щенок з...  \n",
              "3  p пересечение nbsp улица сосновский береговой ...  \n",
              "4  p style text align justify span style backgrou...  "
            ],
            "text/html": [
              "\n",
              "  <div id=\"df-25e715c7-e8a7-47ea-a433-d196c205c697\">\n",
              "    <div class=\"colab-df-container\">\n",
              "      <div>\n",
              "<style scoped>\n",
              "    .dataframe tbody tr th:only-of-type {\n",
              "        vertical-align: middle;\n",
              "    }\n",
              "\n",
              "    .dataframe tbody tr th {\n",
              "        vertical-align: top;\n",
              "    }\n",
              "\n",
              "    .dataframe thead th {\n",
              "        text-align: right;\n",
              "    }\n",
              "</style>\n",
              "<table border=\"1\" class=\"dataframe\">\n",
              "  <thead>\n",
              "    <tr style=\"text-align: right;\">\n",
              "      <th></th>\n",
              "      <th>Категория</th>\n",
              "      <th>text</th>\n",
              "      <th>text_processed</th>\n",
              "      <th>text_stemmed</th>\n",
              "      <th>text_lemmed</th>\n",
              "    </tr>\n",
              "  </thead>\n",
              "  <tbody>\n",
              "    <tr>\n",
              "      <th>0</th>\n",
              "      <td>3</td>\n",
              "      <td>Помогите начальник Льговского рэс не реагирует...</td>\n",
              "      <td>помогите начальник льговского рэс не реагирует...</td>\n",
              "      <td>помог начальник льговск рэс реагир жалоб мал в...</td>\n",
              "      <td>помочь начальник льговский рэс реагировать жал...</td>\n",
              "    </tr>\n",
              "    <tr>\n",
              "      <th>1</th>\n",
              "      <td>3</td>\n",
              "      <td>&lt;p&gt;По фасаду дома по адресу ул. Урицкого 22 пр...</td>\n",
              "      <td>p по фасаду дома по адресу ул урицкого проход...</td>\n",
              "      <td>p фасад дом адрес ул урицк проход труб газов м...</td>\n",
              "      <td>p фасад дом адрес ул урицкий проходить труба г...</td>\n",
              "    </tr>\n",
              "    <tr>\n",
              "      <th>2</th>\n",
              "      <td>1</td>\n",
              "      <td>Агресивные собаки. На радуге там стая из подро...</td>\n",
              "      <td>агресивные собаки на радуге там стая из подрос...</td>\n",
              "      <td>агресивн собак радуг ста подросш щенк звросл с...</td>\n",
              "      <td>агресивный собака радуга стая подрасти щенок з...</td>\n",
              "    </tr>\n",
              "    <tr>\n",
              "      <th>3</th>\n",
              "      <td>3</td>\n",
              "      <td>&lt;p&gt;На пересечении &amp;nbsp;улиц Сосновская и Бере...</td>\n",
              "      <td>p на пересечении nbsp улиц сосновская и берег...</td>\n",
              "      <td>p пересечен nbsp улиц сосновск берегов nbsp за...</td>\n",
              "      <td>p пересечение nbsp улица сосновский береговой ...</td>\n",
              "    </tr>\n",
              "    <tr>\n",
              "      <th>4</th>\n",
              "      <td>3</td>\n",
              "      <td>&lt;p style=`text-align:justify;`&gt;&lt;span style=`ba...</td>\n",
              "      <td>p style text align justify span style backgro...</td>\n",
              "      <td>p style text align justify span style backgrou...</td>\n",
              "      <td>p style text align justify span style backgrou...</td>\n",
              "    </tr>\n",
              "  </tbody>\n",
              "</table>\n",
              "</div>\n",
              "      <button class=\"colab-df-convert\" onclick=\"convertToInteractive('df-25e715c7-e8a7-47ea-a433-d196c205c697')\"\n",
              "              title=\"Convert this dataframe to an interactive table.\"\n",
              "              style=\"display:none;\">\n",
              "        \n",
              "  <svg xmlns=\"http://www.w3.org/2000/svg\" height=\"24px\"viewBox=\"0 0 24 24\"\n",
              "       width=\"24px\">\n",
              "    <path d=\"M0 0h24v24H0V0z\" fill=\"none\"/>\n",
              "    <path d=\"M18.56 5.44l.94 2.06.94-2.06 2.06-.94-2.06-.94-.94-2.06-.94 2.06-2.06.94zm-11 1L8.5 8.5l.94-2.06 2.06-.94-2.06-.94L8.5 2.5l-.94 2.06-2.06.94zm10 10l.94 2.06.94-2.06 2.06-.94-2.06-.94-.94-2.06-.94 2.06-2.06.94z\"/><path d=\"M17.41 7.96l-1.37-1.37c-.4-.4-.92-.59-1.43-.59-.52 0-1.04.2-1.43.59L10.3 9.45l-7.72 7.72c-.78.78-.78 2.05 0 2.83L4 21.41c.39.39.9.59 1.41.59.51 0 1.02-.2 1.41-.59l7.78-7.78 2.81-2.81c.8-.78.8-2.07 0-2.86zM5.41 20L4 18.59l7.72-7.72 1.47 1.35L5.41 20z\"/>\n",
              "  </svg>\n",
              "      </button>\n",
              "      \n",
              "  <style>\n",
              "    .colab-df-container {\n",
              "      display:flex;\n",
              "      flex-wrap:wrap;\n",
              "      gap: 12px;\n",
              "    }\n",
              "\n",
              "    .colab-df-convert {\n",
              "      background-color: #E8F0FE;\n",
              "      border: none;\n",
              "      border-radius: 50%;\n",
              "      cursor: pointer;\n",
              "      display: none;\n",
              "      fill: #1967D2;\n",
              "      height: 32px;\n",
              "      padding: 0 0 0 0;\n",
              "      width: 32px;\n",
              "    }\n",
              "\n",
              "    .colab-df-convert:hover {\n",
              "      background-color: #E2EBFA;\n",
              "      box-shadow: 0px 1px 2px rgba(60, 64, 67, 0.3), 0px 1px 3px 1px rgba(60, 64, 67, 0.15);\n",
              "      fill: #174EA6;\n",
              "    }\n",
              "\n",
              "    [theme=dark] .colab-df-convert {\n",
              "      background-color: #3B4455;\n",
              "      fill: #D2E3FC;\n",
              "    }\n",
              "\n",
              "    [theme=dark] .colab-df-convert:hover {\n",
              "      background-color: #434B5C;\n",
              "      box-shadow: 0px 1px 3px 1px rgba(0, 0, 0, 0.15);\n",
              "      filter: drop-shadow(0px 1px 2px rgba(0, 0, 0, 0.3));\n",
              "      fill: #FFFFFF;\n",
              "    }\n",
              "  </style>\n",
              "\n",
              "      <script>\n",
              "        const buttonEl =\n",
              "          document.querySelector('#df-25e715c7-e8a7-47ea-a433-d196c205c697 button.colab-df-convert');\n",
              "        buttonEl.style.display =\n",
              "          google.colab.kernel.accessAllowed ? 'block' : 'none';\n",
              "\n",
              "        async function convertToInteractive(key) {\n",
              "          const element = document.querySelector('#df-25e715c7-e8a7-47ea-a433-d196c205c697');\n",
              "          const dataTable =\n",
              "            await google.colab.kernel.invokeFunction('convertToInteractive',\n",
              "                                                     [key], {});\n",
              "          if (!dataTable) return;\n",
              "\n",
              "          const docLinkHtml = 'Like what you see? Visit the ' +\n",
              "            '<a target=\"_blank\" href=https://colab.research.google.com/notebooks/data_table.ipynb>data table notebook</a>'\n",
              "            + ' to learn more about interactive tables.';\n",
              "          element.innerHTML = '';\n",
              "          dataTable['output_type'] = 'display_data';\n",
              "          await google.colab.output.renderOutput(dataTable, element);\n",
              "          const docLink = document.createElement('div');\n",
              "          docLink.innerHTML = docLinkHtml;\n",
              "          element.appendChild(docLink);\n",
              "        }\n",
              "      </script>\n",
              "    </div>\n",
              "  </div>\n",
              "  "
            ]
          },
          "metadata": {},
          "execution_count": 105
        }
      ]
    },
    {
      "cell_type": "markdown",
      "source": [
        "## Токенизация\n",
        "\n",
        "Токенизация - процесс разделения текста на составляющие (слова, предложения, группы слов)."
      ],
      "metadata": {
        "id": "9Ii6Mv5kYLf-"
      }
    },
    {
      "cell_type": "code",
      "source": [
        "# from nltk import word_tokenize\n",
        "\n",
        "word_tokenize(data['text_lemmed'][0])"
      ],
      "metadata": {
        "colab": {
          "base_uri": "https://localhost:8080/"
        },
        "id": "qmr7yDoSQd0R",
        "outputId": "0fc523df-4ae4-4455-8640-214213d6eb76"
      },
      "execution_count": 106,
      "outputs": [
        {
          "output_type": "execute_result",
          "data": {
            "text/plain": [
              "['помочь',\n",
              " 'начальник',\n",
              " 'льговский',\n",
              " 'рэс',\n",
              " 'реагировать',\n",
              " 'жалоба',\n",
              " 'малый',\n",
              " 'ветер',\n",
              " 'сидеть',\n",
              " 'свет',\n",
              " 'именно',\n",
              " 'деревня',\n",
              " 'больший',\n",
              " 'угон',\n",
              " 'улица',\n",
              " 'старый',\n",
              " 'слобода',\n",
              " 'пожалуйста',\n",
              " 'помочь',\n",
              " 'пускай',\n",
              " 'вычистить',\n",
              " 'фотоотчёт',\n",
              " 'сделать',\n",
              " 'нарушение',\n",
              " 'связанный',\n",
              " 'содержание',\n",
              " 'электросеть',\n",
              " 'качество',\n",
              " 'энергоснабжение',\n",
              " 'район',\n",
              " 'частное',\n",
              " 'сектор',\n",
              " 'администрация',\n",
              " 'льговский',\n",
              " 'район']"
            ]
          },
          "metadata": {},
          "execution_count": 106
        }
      ]
    },
    {
      "cell_type": "markdown",
      "source": [
        "## Мешок слов\n",
        "\n",
        "Мешок слов (bag-of-words) — упрощенное представление текста, которое используется в обработке естественных языков и информационном поиске. В этой модели текст представляется в виде множества его слов без какого-либо учета грамматики и порядка слов, но с сохранением информации об их количестве.\n"
      ],
      "metadata": {
        "id": "R-hzgu9t0FwM"
      }
    },
    {
      "cell_type": "code",
      "source": [
        "# CountVectorizer - класс конвертации текста в матрицу токенов\n",
        "from sklearn.feature_extraction.text import CountVectorizer"
      ],
      "metadata": {
        "id": "K-GmqI2z0TE7"
      },
      "execution_count": 107,
      "outputs": []
    },
    {
      "cell_type": "code",
      "source": [
        "# Создание матрицы признаков на основе мешка слов\n",
        "count = CountVectorizer()\n",
        "bag_of_words = count.fit_transform(data['text_lemmed'])\n",
        "bag_of_words.toarray()"
      ],
      "metadata": {
        "colab": {
          "base_uri": "https://localhost:8080/"
        },
        "id": "LizFxe4lsUWg",
        "outputId": "1fe5b04f-a695-4036-bde8-0d570a36d77b"
      },
      "execution_count": 108,
      "outputs": [
        {
          "output_type": "execute_result",
          "data": {
            "text/plain": [
              "array([[0, 0, 0, ..., 0, 0, 0],\n",
              "       [0, 0, 0, ..., 0, 0, 0],\n",
              "       [0, 0, 0, ..., 0, 0, 0],\n",
              "       ...,\n",
              "       [0, 0, 0, ..., 0, 0, 0],\n",
              "       [0, 0, 0, ..., 0, 0, 0],\n",
              "       [0, 0, 0, ..., 0, 0, 0]])"
            ]
          },
          "metadata": {},
          "execution_count": 108
        }
      ]
    },
    {
      "cell_type": "code",
      "source": [
        "count.get_feature_names_out()  # Вывод имен признаков"
      ],
      "metadata": {
        "colab": {
          "base_uri": "https://localhost:8080/"
        },
        "id": "yAVLZ0MWsx4R",
        "outputId": "9d0ce9b6-621c-49b0-c40f-ed6f71df92f5"
      },
      "execution_count": 109,
      "outputs": [
        {
          "output_type": "execute_result",
          "data": {
            "text/plain": [
              "array(['actual', 'address', 'aesfpebagmfblc', ..., 'ёж', 'ёлка', 'ёлочка'],\n",
              "      dtype=object)"
            ]
          },
          "metadata": {},
          "execution_count": 109
        }
      ]
    },
    {
      "cell_type": "code",
      "source": [
        "# Создание матрицы признаков для 2-грамм\n",
        "count_2gram = CountVectorizer(ngram_range=(2,2))\n",
        "bag_of_2grams = count_2gram.fit_transform(data['text_lemmed'])\n",
        "bag_of_2grams.toarray()"
      ],
      "metadata": {
        "colab": {
          "base_uri": "https://localhost:8080/"
        },
        "id": "5w2td6AKtgEM",
        "outputId": "f723b31c-c982-4dfc-a51f-b7d508a2c2b1"
      },
      "execution_count": 110,
      "outputs": [
        {
          "output_type": "execute_result",
          "data": {
            "text/plain": [
              "array([[0, 0, 0, ..., 0, 0, 0],\n",
              "       [0, 0, 0, ..., 0, 0, 0],\n",
              "       [0, 0, 0, ..., 0, 0, 0],\n",
              "       ...,\n",
              "       [0, 0, 0, ..., 0, 0, 0],\n",
              "       [0, 0, 0, ..., 0, 0, 0],\n",
              "       [0, 0, 0, ..., 0, 0, 0]])"
            ]
          },
          "metadata": {},
          "execution_count": 110
        }
      ]
    },
    {
      "cell_type": "code",
      "source": [
        "count_2gram.get_feature_names_out()  # Вывод имен признаков"
      ],
      "metadata": {
        "colab": {
          "base_uri": "https://localhost:8080/"
        },
        "id": "-BtKCzT4uA-6",
        "outputId": "b6d256ce-4377-4839-c5cf-88b76c007cde"
      },
      "execution_count": 111,
      "outputs": [
        {
          "output_type": "execute_result",
          "data": {
            "text/plain": [
              "array(['actual amp', 'address span', 'aesfpebagmfblc xn', ...,\n",
              "       'ёлка новый', 'ёлка озеленить', 'ёлочка надеяться'], dtype=object)"
            ]
          },
          "metadata": {},
          "execution_count": 111
        }
      ]
    },
    {
      "cell_type": "markdown",
      "source": [
        "## Взвешивание важности слов - TF-IDF\n",
        "\n",
        "TF-IDF (TF — term frequency, IDF — inverse document frequency) — статистическая мера, используемая для оценки важности слова в контексте документа, являющегося частью коллекции документов или корпуса. Вес некоторого слова (от 0 до 1) пропорционален частоте употребления этого слова в документе и обратно пропорционален частоте употребления слова во всех документах коллекции.\n",
        "\n",
        "Мера TF-IDF часто используется в задачах анализа текстов и информационного поиска, например, как один из критериев релевантности документа поисковому запросу, при расчёте меры близости документов при кластеризации или классификации."
      ],
      "metadata": {
        "id": "rp1B2dvu1cNv"
      }
    },
    {
      "cell_type": "code",
      "source": [
        "# TfidfVectorizer - класс для преобразования текста в частотные векторы слов\n",
        "from sklearn.feature_extraction.text import TfidfVectorizer"
      ],
      "metadata": {
        "id": "xmHnoMDX1g_e"
      },
      "execution_count": 112,
      "outputs": []
    },
    {
      "cell_type": "code",
      "source": [
        "# Создание матрицы признаков\n",
        "tfidf = TfidfVectorizer()\n",
        "feature_matrix = tfidf.fit_transform(data['text_lemmed'])\n",
        "feature_matrix.toarray()"
      ],
      "metadata": {
        "colab": {
          "base_uri": "https://localhost:8080/"
        },
        "id": "Us1Ud4T7wjQ_",
        "outputId": "c1b8b6ba-a18e-4b73-98b6-d54847c71379"
      },
      "execution_count": 113,
      "outputs": [
        {
          "output_type": "execute_result",
          "data": {
            "text/plain": [
              "array([[0., 0., 0., ..., 0., 0., 0.],\n",
              "       [0., 0., 0., ..., 0., 0., 0.],\n",
              "       [0., 0., 0., ..., 0., 0., 0.],\n",
              "       ...,\n",
              "       [0., 0., 0., ..., 0., 0., 0.],\n",
              "       [0., 0., 0., ..., 0., 0., 0.],\n",
              "       [0., 0., 0., ..., 0., 0., 0.]])"
            ]
          },
          "metadata": {},
          "execution_count": 113
        }
      ]
    },
    {
      "cell_type": "markdown",
      "source": [
        "## Финальный датасет"
      ],
      "metadata": {
        "id": "sMSc_YbahDGO"
      }
    },
    {
      "cell_type": "code",
      "source": [
        "# Матрица признаков\n",
        "X = data['text_lemmed']\n",
        "\n",
        "# Вектор значений целевых переменных\n",
        "y = data['Категория']\n",
        "\n",
        "labels = data['Категория'].unique() # Массив уникальных меток\n"
      ],
      "metadata": {
        "id": "wvVclcVohH4e"
      },
      "execution_count": 114,
      "outputs": []
    },
    {
      "cell_type": "code",
      "source": [
        "labels"
      ],
      "metadata": {
        "colab": {
          "base_uri": "https://localhost:8080/"
        },
        "id": "Vq3JBmAcW2Sn",
        "outputId": "1850a2c0-be84-4578-e192-4511fd17bc5b"
      },
      "execution_count": 115,
      "outputs": [
        {
          "output_type": "execute_result",
          "data": {
            "text/plain": [
              "array([ 3,  1, 16,  0,  6,  8,  4, 13, 10, 11, 14,  7,  5, 15,  2,  9, 12])"
            ]
          },
          "metadata": {},
          "execution_count": 115
        }
      ]
    },
    {
      "cell_type": "code",
      "source": [
        "# Разбиение на обучающую выборку (70%) и валидационную выборку (30%)\n",
        "from sklearn.model_selection import train_test_split\n",
        "X_train, X_valid, y_train, y_valid = train_test_split(X, y, test_size=0.3)"
      ],
      "metadata": {
        "id": "tOcXN5oGi-gr"
      },
      "execution_count": 116,
      "outputs": []
    },
    {
      "cell_type": "markdown",
      "source": [
        "# Валидация"
      ],
      "metadata": {
        "id": "j7uzO6Jb9MH8"
      }
    },
    {
      "cell_type": "markdown",
      "source": [
        "# Наивный байесовский классификатор (Naive Bayes Classifier)\n",
        "\n",
        "Наивный байесовский классификатор — простой вероятностный классификатор, основанный на применении теоремы Байеса со строгими (наивными) предположениями о независимости. Достоинством наивного байесовского классификатора является малое количество данных, необходимых для обучения, оценки параметров и классификации."
      ],
      "metadata": {
        "id": "-kmF1XixjTI4"
      }
    },
    {
      "cell_type": "code",
      "source": [
        "# Загрузка Naive Bayes Classifier\n",
        "from sklearn.naive_bayes import MultinomialNB\n",
        "from sklearn.pipeline import Pipeline\n",
        "from sklearn.feature_extraction.text import TfidfTransformer\n"
      ],
      "metadata": {
        "id": "2lvAOr1HjVuP"
      },
      "execution_count": 117,
      "outputs": []
    },
    {
      "cell_type": "code",
      "source": [
        ""
      ],
      "metadata": {
        "id": "6Vi3wLNCcir6"
      },
      "execution_count": 117,
      "outputs": []
    },
    {
      "cell_type": "code",
      "source": [
        "# Автоматизация предварительных преобразований данных перед обучением модели \n",
        "nb = Pipeline([('vect', CountVectorizer(ngram_range=(1, 1))),\n",
        "               ('tfidf', TfidfTransformer()),\n",
        "               ('clf', MultinomialNB()), # Классификатор Naive Bayes для мультиномиальных моделей\n",
        "              ])"
      ],
      "metadata": {
        "id": "IYTu7_R0jaSV"
      },
      "execution_count": 118,
      "outputs": []
    },
    {
      "cell_type": "code",
      "source": [
        "%%time\n",
        "nb.fit(X_train, y_train)   # Обучение модели"
      ],
      "metadata": {
        "colab": {
          "base_uri": "https://localhost:8080/"
        },
        "id": "K87QflcZjdia",
        "outputId": "ae1df482-b7cc-4db2-ffc1-2e01c4e43b18"
      },
      "execution_count": 119,
      "outputs": [
        {
          "output_type": "stream",
          "name": "stdout",
          "text": [
            "CPU times: user 131 ms, sys: 3.67 ms, total: 135 ms\n",
            "Wall time: 139 ms\n"
          ]
        },
        {
          "output_type": "execute_result",
          "data": {
            "text/plain": [
              "Pipeline(steps=[('vect', CountVectorizer()), ('tfidf', TfidfTransformer()),\n",
              "                ('clf', MultinomialNB())])"
            ]
          },
          "metadata": {},
          "execution_count": 119
        }
      ]
    },
    {
      "cell_type": "code",
      "source": [
        "%%time\n",
        "from sklearn.metrics import classification_report\n",
        "y_pred = nb.predict(X_valid)  # Предсказание на валидационных данных"
      ],
      "metadata": {
        "colab": {
          "base_uri": "https://localhost:8080/"
        },
        "id": "1iPQqhoejsKq",
        "outputId": "bcbea3ac-dd32-495f-a91e-3b8a19db6a35"
      },
      "execution_count": 120,
      "outputs": [
        {
          "output_type": "stream",
          "name": "stdout",
          "text": [
            "CPU times: user 64.5 ms, sys: 2 ms, total: 66.5 ms\n",
            "Wall time: 76 ms\n"
          ]
        }
      ]
    },
    {
      "cell_type": "code",
      "source": [
        "# Оценка точности классификации\n",
        "from sklearn.metrics import accuracy_score\n",
        "print('accuracy %s' % accuracy_score(y_pred, y_valid))"
      ],
      "metadata": {
        "colab": {
          "base_uri": "https://localhost:8080/"
        },
        "id": "vbLiVrurlWE3",
        "outputId": "ad2c6e73-7fbb-4bda-ce81-071b77ad63db"
      },
      "execution_count": 121,
      "outputs": [
        {
          "output_type": "stream",
          "name": "stdout",
          "text": [
            "accuracy 0.7616666666666667\n"
          ]
        }
      ]
    },
    {
      "cell_type": "code",
      "source": [
        "print(classification_report(y_valid, y_pred))"
      ],
      "metadata": {
        "colab": {
          "base_uri": "https://localhost:8080/"
        },
        "id": "j7l_upucNY4I",
        "outputId": "7adb50a8-3e8b-42a9-9d70-894eb3d53bfc"
      },
      "execution_count": 122,
      "outputs": [
        {
          "output_type": "stream",
          "name": "stdout",
          "text": [
            "              precision    recall  f1-score   support\n",
            "\n",
            "           0       0.96      0.92      0.94       144\n",
            "           1       0.00      0.00      0.00         6\n",
            "           2       0.00      0.00      0.00         2\n",
            "           3       0.67      1.00      0.80       284\n",
            "           4       1.00      0.11      0.19        38\n",
            "           5       0.00      0.00      0.00         7\n",
            "           6       0.00      0.00      0.00         1\n",
            "           7       0.00      0.00      0.00         9\n",
            "           8       1.00      0.54      0.70        46\n",
            "          10       1.00      0.17      0.29        12\n",
            "          11       0.00      0.00      0.00         7\n",
            "          12       0.00      0.00      0.00         1\n",
            "          13       0.00      0.00      0.00         4\n",
            "          15       0.00      0.00      0.00         1\n",
            "          16       1.00      0.29      0.45        38\n",
            "\n",
            "    accuracy                           0.76       600\n",
            "   macro avg       0.38      0.20      0.22       600\n",
            "weighted avg       0.77      0.76      0.71       600\n",
            "\n"
          ]
        },
        {
          "output_type": "stream",
          "name": "stderr",
          "text": [
            "/usr/local/lib/python3.7/dist-packages/sklearn/metrics/_classification.py:1318: UndefinedMetricWarning: Precision and F-score are ill-defined and being set to 0.0 in labels with no predicted samples. Use `zero_division` parameter to control this behavior.\n",
            "  _warn_prf(average, modifier, msg_start, len(result))\n",
            "/usr/local/lib/python3.7/dist-packages/sklearn/metrics/_classification.py:1318: UndefinedMetricWarning: Precision and F-score are ill-defined and being set to 0.0 in labels with no predicted samples. Use `zero_division` parameter to control this behavior.\n",
            "  _warn_prf(average, modifier, msg_start, len(result))\n",
            "/usr/local/lib/python3.7/dist-packages/sklearn/metrics/_classification.py:1318: UndefinedMetricWarning: Precision and F-score are ill-defined and being set to 0.0 in labels with no predicted samples. Use `zero_division` parameter to control this behavior.\n",
            "  _warn_prf(average, modifier, msg_start, len(result))\n"
          ]
        }
      ]
    },
    {
      "cell_type": "markdown",
      "source": [
        "# Логистическая регрессия (Logistic Regression)\n",
        "\n",
        "Cтатистическая модель, используемая для прогнозирования вероятности возникновения некоторого события путём его сравнения с логистической кривой"
      ],
      "metadata": {
        "id": "lGuCMxGcpAag"
      }
    },
    {
      "cell_type": "code",
      "source": [
        "# Загрузка логистической регрессии\n",
        "from sklearn.linear_model import LogisticRegression\n",
        "\n",
        "logreg = Pipeline([('vect', CountVectorizer(ngram_range=(1, 1))),\n",
        "                ('tfidf', TfidfTransformer()),\n",
        "                ('clf', LogisticRegression(n_jobs=1, C=1e5)),\n",
        "               ])"
      ],
      "metadata": {
        "id": "7EQvKHSEpBi4"
      },
      "execution_count": 123,
      "outputs": []
    },
    {
      "cell_type": "code",
      "source": [
        "%%time\n",
        "logreg.fit(X_train, y_train) # Обучение модели"
      ],
      "metadata": {
        "colab": {
          "base_uri": "https://localhost:8080/"
        },
        "id": "OUB0a_JepF6U",
        "outputId": "e1ec0af7-f5d4-45d8-ca81-dc2a5ad4cf0a"
      },
      "execution_count": 124,
      "outputs": [
        {
          "output_type": "stream",
          "name": "stdout",
          "text": [
            "CPU times: user 3.31 s, sys: 3.41 s, total: 6.73 s\n",
            "Wall time: 4.6 s\n"
          ]
        },
        {
          "output_type": "execute_result",
          "data": {
            "text/plain": [
              "Pipeline(steps=[('vect', CountVectorizer()), ('tfidf', TfidfTransformer()),\n",
              "                ('clf', LogisticRegression(C=100000.0, n_jobs=1))])"
            ]
          },
          "metadata": {},
          "execution_count": 124
        }
      ]
    },
    {
      "cell_type": "code",
      "source": [
        "%%time\n",
        "y_pred = logreg.predict(X_valid)   # Предсказание на тестовых данных"
      ],
      "metadata": {
        "colab": {
          "base_uri": "https://localhost:8080/"
        },
        "id": "zTYq-b6lpjfb",
        "outputId": "1e57f0db-b7c5-4ff6-fefa-dfb00f588257"
      },
      "execution_count": 125,
      "outputs": [
        {
          "output_type": "stream",
          "name": "stdout",
          "text": [
            "CPU times: user 66.4 ms, sys: 26.4 ms, total: 92.7 ms\n",
            "Wall time: 108 ms\n"
          ]
        }
      ]
    },
    {
      "cell_type": "code",
      "source": [
        "# Оценка точности классификации\n",
        "print('accuracy %s' % accuracy_score(y_pred, y_valid))\n",
        "print(classification_report(y_valid, y_pred))"
      ],
      "metadata": {
        "colab": {
          "base_uri": "https://localhost:8080/"
        },
        "id": "63DSzU_FqGsj",
        "outputId": "6d788510-d45d-438d-e3ce-bf8ba6aa6191"
      },
      "execution_count": 126,
      "outputs": [
        {
          "output_type": "stream",
          "name": "stdout",
          "text": [
            "accuracy 0.9566666666666667\n",
            "              precision    recall  f1-score   support\n",
            "\n",
            "           0       0.98      0.99      0.99       144\n",
            "           1       1.00      0.83      0.91         6\n",
            "           2       0.00      0.00      0.00         2\n",
            "           3       0.94      0.99      0.96       284\n",
            "           4       0.93      0.97      0.95        38\n",
            "           5       1.00      0.29      0.44         7\n",
            "           6       1.00      1.00      1.00         1\n",
            "           7       0.88      0.78      0.82         9\n",
            "           8       0.98      1.00      0.99        46\n",
            "          10       1.00      0.92      0.96        12\n",
            "          11       1.00      0.43      0.60         7\n",
            "          12       0.00      0.00      0.00         1\n",
            "          13       1.00      0.75      0.86         4\n",
            "          15       0.00      0.00      0.00         1\n",
            "          16       1.00      0.95      0.97        38\n",
            "\n",
            "    accuracy                           0.96       600\n",
            "   macro avg       0.78      0.66      0.70       600\n",
            "weighted avg       0.95      0.96      0.95       600\n",
            "\n"
          ]
        },
        {
          "output_type": "stream",
          "name": "stderr",
          "text": [
            "/usr/local/lib/python3.7/dist-packages/sklearn/metrics/_classification.py:1318: UndefinedMetricWarning: Precision and F-score are ill-defined and being set to 0.0 in labels with no predicted samples. Use `zero_division` parameter to control this behavior.\n",
            "  _warn_prf(average, modifier, msg_start, len(result))\n",
            "/usr/local/lib/python3.7/dist-packages/sklearn/metrics/_classification.py:1318: UndefinedMetricWarning: Precision and F-score are ill-defined and being set to 0.0 in labels with no predicted samples. Use `zero_division` parameter to control this behavior.\n",
            "  _warn_prf(average, modifier, msg_start, len(result))\n",
            "/usr/local/lib/python3.7/dist-packages/sklearn/metrics/_classification.py:1318: UndefinedMetricWarning: Precision and F-score are ill-defined and being set to 0.0 in labels with no predicted samples. Use `zero_division` parameter to control this behavior.\n",
            "  _warn_prf(average, modifier, msg_start, len(result))\n"
          ]
        }
      ]
    },
    {
      "cell_type": "markdown",
      "source": [
        "# Метод опорных векторов (SVM)\n",
        "\n"
      ],
      "metadata": {
        "id": "H8Qx722moPxY"
      }
    },
    {
      "cell_type": "code",
      "source": [
        "# Загрузка SVM\n",
        "from sklearn.linear_model import SGDClassifier\n",
        "\n",
        "sgd = Pipeline([('vect', CountVectorizer(ngram_range=(1, 1))),\n",
        "                ('tfidf', TfidfTransformer()),\n",
        "                ('clf', SGDClassifier(loss='hinge', penalty='l2',alpha=1e-3, random_state=0, max_iter=10, tol=None)),\n",
        "               ])"
      ],
      "metadata": {
        "id": "c485p62KoVck"
      },
      "execution_count": 127,
      "outputs": []
    },
    {
      "cell_type": "code",
      "source": [
        "%%time\n",
        "sgd.fit(X_train, y_train)  # Обучение модели"
      ],
      "metadata": {
        "colab": {
          "base_uri": "https://localhost:8080/"
        },
        "id": "C3lh50jqodbM",
        "outputId": "89c0ec3c-a3c6-4ad5-ed35-2f4141adc600"
      },
      "execution_count": 128,
      "outputs": [
        {
          "output_type": "stream",
          "name": "stdout",
          "text": [
            "CPU times: user 214 ms, sys: 1.69 ms, total: 216 ms\n",
            "Wall time: 272 ms\n"
          ]
        },
        {
          "output_type": "execute_result",
          "data": {
            "text/plain": [
              "Pipeline(steps=[('vect', CountVectorizer()), ('tfidf', TfidfTransformer()),\n",
              "                ('clf',\n",
              "                 SGDClassifier(alpha=0.001, max_iter=10, random_state=0,\n",
              "                               tol=None))])"
            ]
          },
          "metadata": {},
          "execution_count": 128
        }
      ]
    },
    {
      "cell_type": "code",
      "source": [
        "%%time\n",
        "y_pred = sgd.predict(X_valid) # Предсказание на тестовых данных"
      ],
      "metadata": {
        "colab": {
          "base_uri": "https://localhost:8080/"
        },
        "id": "czSr4DX3ogDl",
        "outputId": "c7698d61-54bf-4b48-bfb1-5c1f2061df29"
      },
      "execution_count": 129,
      "outputs": [
        {
          "output_type": "stream",
          "name": "stdout",
          "text": [
            "CPU times: user 55.4 ms, sys: 1.8 ms, total: 57.2 ms\n",
            "Wall time: 63 ms\n"
          ]
        }
      ]
    },
    {
      "cell_type": "code",
      "source": [
        "labels"
      ],
      "metadata": {
        "colab": {
          "base_uri": "https://localhost:8080/"
        },
        "id": "O4qw0rzzY_rH",
        "outputId": "57c9195a-6d69-44a4-a6e6-aec7d3bcc51a"
      },
      "execution_count": 130,
      "outputs": [
        {
          "output_type": "execute_result",
          "data": {
            "text/plain": [
              "array([ 3,  1, 16,  0,  6,  8,  4, 13, 10, 11, 14,  7,  5, 15,  2,  9, 12])"
            ]
          },
          "metadata": {},
          "execution_count": 130
        }
      ]
    },
    {
      "cell_type": "code",
      "source": [
        "# Оценка точности классификации\n",
        "print('accuracy %s' % accuracy_score(y_pred, y_valid))\n",
        "print(classification_report(y_valid, y_pred))"
      ],
      "metadata": {
        "colab": {
          "base_uri": "https://localhost:8080/"
        },
        "id": "QD-R1JGqoouE",
        "outputId": "f1db7a7c-ec6a-47e6-c502-c52763c700b2"
      },
      "execution_count": 131,
      "outputs": [
        {
          "output_type": "stream",
          "name": "stdout",
          "text": [
            "accuracy 0.9466666666666667\n",
            "              precision    recall  f1-score   support\n",
            "\n",
            "           0       0.98      0.99      0.99       144\n",
            "           1       1.00      1.00      1.00         6\n",
            "           2       0.00      0.00      0.00         2\n",
            "           3       0.92      0.99      0.95       284\n",
            "           4       0.95      0.97      0.96        38\n",
            "           5       1.00      0.14      0.25         7\n",
            "           6       1.00      1.00      1.00         1\n",
            "           7       1.00      0.44      0.62         9\n",
            "           8       0.98      1.00      0.99        46\n",
            "           9       0.00      0.00      0.00         0\n",
            "          10       1.00      0.92      0.96        12\n",
            "          11       1.00      0.14      0.25         7\n",
            "          12       0.00      0.00      0.00         1\n",
            "          13       1.00      0.50      0.67         4\n",
            "          15       0.00      0.00      0.00         1\n",
            "          16       1.00      0.92      0.96        38\n",
            "\n",
            "    accuracy                           0.95       600\n",
            "   macro avg       0.74      0.56      0.60       600\n",
            "weighted avg       0.94      0.95      0.94       600\n",
            "\n"
          ]
        },
        {
          "output_type": "stream",
          "name": "stderr",
          "text": [
            "/usr/local/lib/python3.7/dist-packages/sklearn/metrics/_classification.py:1318: UndefinedMetricWarning: Precision and F-score are ill-defined and being set to 0.0 in labels with no predicted samples. Use `zero_division` parameter to control this behavior.\n",
            "  _warn_prf(average, modifier, msg_start, len(result))\n",
            "/usr/local/lib/python3.7/dist-packages/sklearn/metrics/_classification.py:1318: UndefinedMetricWarning: Recall and F-score are ill-defined and being set to 0.0 in labels with no true samples. Use `zero_division` parameter to control this behavior.\n",
            "  _warn_prf(average, modifier, msg_start, len(result))\n",
            "/usr/local/lib/python3.7/dist-packages/sklearn/metrics/_classification.py:1318: UndefinedMetricWarning: Precision and F-score are ill-defined and being set to 0.0 in labels with no predicted samples. Use `zero_division` parameter to control this behavior.\n",
            "  _warn_prf(average, modifier, msg_start, len(result))\n",
            "/usr/local/lib/python3.7/dist-packages/sklearn/metrics/_classification.py:1318: UndefinedMetricWarning: Recall and F-score are ill-defined and being set to 0.0 in labels with no true samples. Use `zero_division` parameter to control this behavior.\n",
            "  _warn_prf(average, modifier, msg_start, len(result))\n",
            "/usr/local/lib/python3.7/dist-packages/sklearn/metrics/_classification.py:1318: UndefinedMetricWarning: Precision and F-score are ill-defined and being set to 0.0 in labels with no predicted samples. Use `zero_division` parameter to control this behavior.\n",
            "  _warn_prf(average, modifier, msg_start, len(result))\n",
            "/usr/local/lib/python3.7/dist-packages/sklearn/metrics/_classification.py:1318: UndefinedMetricWarning: Recall and F-score are ill-defined and being set to 0.0 in labels with no true samples. Use `zero_division` parameter to control this behavior.\n",
            "  _warn_prf(average, modifier, msg_start, len(result))\n"
          ]
        }
      ]
    },
    {
      "cell_type": "markdown",
      "source": [
        "#CaTBOOST"
      ],
      "metadata": {
        "id": "QB8J_22GrmUf"
      }
    },
    {
      "cell_type": "code",
      "source": [
        "modelCat = CatBoostClassifier()"
      ],
      "metadata": {
        "id": "PdrP4I1irpMx"
      },
      "execution_count": 162,
      "outputs": []
    },
    {
      "cell_type": "code",
      "source": [
        "cbc = Pipeline([('vect', CountVectorizer(ngram_range=(1, 1))),\n",
        "                ('tfidf', TfidfTransformer()),\n",
        "                ('clf', CatBoostClassifier(verbose=False)),\n",
        "               ])"
      ],
      "metadata": {
        "id": "dT29qs7MsWK6"
      },
      "execution_count": 163,
      "outputs": []
    },
    {
      "cell_type": "code",
      "source": [
        "cbc.fit(X_train, y_train)"
      ],
      "metadata": {
        "colab": {
          "base_uri": "https://localhost:8080/"
        },
        "id": "aZjT3AmBsck2",
        "outputId": "6ac383ba-536e-4d25-bfe0-65eb2a933d1a"
      },
      "execution_count": 164,
      "outputs": [
        {
          "output_type": "stream",
          "name": "stdout",
          "text": [
            "Learning rate set to 0.080496\n",
            "0:\tlearn: 2.2579188\ttotal: 2.14s\tremaining: 35m 35s\n",
            "1:\tlearn: 1.9496182\ttotal: 3.79s\tremaining: 31m 30s\n",
            "2:\tlearn: 1.7437921\ttotal: 5.56s\tremaining: 30m 47s\n",
            "3:\tlearn: 1.5698972\ttotal: 7.4s\tremaining: 30m 41s\n",
            "4:\tlearn: 1.4599006\ttotal: 8.41s\tremaining: 27m 54s\n",
            "5:\tlearn: 1.3652232\ttotal: 9.48s\tremaining: 26m 10s\n",
            "6:\tlearn: 1.2821657\ttotal: 10.6s\tremaining: 24m 56s\n",
            "7:\tlearn: 1.2196796\ttotal: 11.8s\tremaining: 24m 21s\n",
            "8:\tlearn: 1.1474915\ttotal: 13.4s\tremaining: 24m 34s\n",
            "9:\tlearn: 1.0810288\ttotal: 14.9s\tremaining: 24m 39s\n",
            "10:\tlearn: 1.0359464\ttotal: 16.6s\tremaining: 24m 51s\n",
            "11:\tlearn: 0.9943217\ttotal: 18.3s\tremaining: 25m 8s\n",
            "12:\tlearn: 0.9478371\ttotal: 19s\tremaining: 24m 5s\n",
            "13:\tlearn: 0.9132866\ttotal: 19.8s\tremaining: 23m 11s\n",
            "14:\tlearn: 0.8827968\ttotal: 20.5s\tremaining: 22m 24s\n",
            "15:\tlearn: 0.8458188\ttotal: 21.2s\tremaining: 21m 43s\n",
            "16:\tlearn: 0.8174956\ttotal: 21.9s\tremaining: 21m 6s\n",
            "17:\tlearn: 0.7898114\ttotal: 22.6s\tremaining: 20m 31s\n",
            "18:\tlearn: 0.7649889\ttotal: 23.3s\tremaining: 20m 3s\n",
            "19:\tlearn: 0.7432046\ttotal: 24s\tremaining: 19m 37s\n",
            "20:\tlearn: 0.7175948\ttotal: 24.7s\tremaining: 19m 13s\n",
            "21:\tlearn: 0.6973522\ttotal: 25.4s\tremaining: 18m 51s\n",
            "22:\tlearn: 0.6773112\ttotal: 26.2s\tremaining: 18m 33s\n",
            "23:\tlearn: 0.6615735\ttotal: 27.1s\tremaining: 18m 20s\n",
            "24:\tlearn: 0.6435658\ttotal: 28.2s\tremaining: 18m 20s\n",
            "25:\tlearn: 0.6281566\ttotal: 29.3s\tremaining: 18m 18s\n",
            "26:\tlearn: 0.6145647\ttotal: 30.5s\tremaining: 18m 18s\n",
            "27:\tlearn: 0.6009666\ttotal: 31.6s\tremaining: 18m 17s\n",
            "28:\tlearn: 0.5900518\ttotal: 32.7s\tremaining: 18m 14s\n",
            "29:\tlearn: 0.5805874\ttotal: 33.7s\tremaining: 18m 11s\n",
            "30:\tlearn: 0.5692121\ttotal: 34.8s\tremaining: 18m 8s\n",
            "31:\tlearn: 0.5586989\ttotal: 35.8s\tremaining: 18m 4s\n",
            "32:\tlearn: 0.5492304\ttotal: 36.6s\tremaining: 17m 51s\n",
            "33:\tlearn: 0.5398710\ttotal: 37.3s\tremaining: 17m 39s\n",
            "34:\tlearn: 0.5325866\ttotal: 38s\tremaining: 17m 26s\n",
            "35:\tlearn: 0.5232888\ttotal: 38.7s\tremaining: 17m 15s\n",
            "36:\tlearn: 0.5180099\ttotal: 39.4s\tremaining: 17m 4s\n",
            "37:\tlearn: 0.5119101\ttotal: 40s\tremaining: 16m 53s\n",
            "38:\tlearn: 0.5053880\ttotal: 40.7s\tremaining: 16m 43s\n",
            "39:\tlearn: 0.4992773\ttotal: 41.4s\tremaining: 16m 33s\n",
            "40:\tlearn: 0.4932916\ttotal: 42.1s\tremaining: 16m 25s\n",
            "41:\tlearn: 0.4862196\ttotal: 42.8s\tremaining: 16m 16s\n",
            "42:\tlearn: 0.4789916\ttotal: 44s\tremaining: 16m 18s\n",
            "43:\tlearn: 0.4759545\ttotal: 45.1s\tremaining: 16m 20s\n",
            "44:\tlearn: 0.4735435\ttotal: 46.3s\tremaining: 16m 23s\n",
            "45:\tlearn: 0.4687817\ttotal: 47.3s\tremaining: 16m 20s\n",
            "46:\tlearn: 0.4636526\ttotal: 48.2s\tremaining: 16m 18s\n",
            "47:\tlearn: 0.4601789\ttotal: 49.4s\tremaining: 16m 20s\n",
            "48:\tlearn: 0.4565588\ttotal: 50.3s\tremaining: 16m 16s\n",
            "49:\tlearn: 0.4509668\ttotal: 51.4s\tremaining: 16m 15s\n",
            "50:\tlearn: 0.4472787\ttotal: 52.5s\tremaining: 16m 17s\n",
            "51:\tlearn: 0.4454190\ttotal: 53.7s\tremaining: 16m 18s\n",
            "52:\tlearn: 0.4418959\ttotal: 54.7s\tremaining: 16m 16s\n",
            "53:\tlearn: 0.4364984\ttotal: 55.7s\tremaining: 16m 16s\n",
            "54:\tlearn: 0.4342456\ttotal: 56.8s\tremaining: 16m 16s\n",
            "55:\tlearn: 0.4274868\ttotal: 57.8s\tremaining: 16m 14s\n",
            "56:\tlearn: 0.4213843\ttotal: 58.9s\tremaining: 16m 15s\n",
            "57:\tlearn: 0.4191696\ttotal: 59.7s\tremaining: 16m 9s\n",
            "58:\tlearn: 0.4161026\ttotal: 1m\tremaining: 16m 3s\n",
            "59:\tlearn: 0.4145025\ttotal: 1m 1s\tremaining: 15m 57s\n",
            "60:\tlearn: 0.4119837\ttotal: 1m 1s\tremaining: 15m 52s\n",
            "61:\tlearn: 0.4096017\ttotal: 1m 2s\tremaining: 15m 47s\n",
            "62:\tlearn: 0.4073563\ttotal: 1m 3s\tremaining: 15m 42s\n",
            "63:\tlearn: 0.4049710\ttotal: 1m 4s\tremaining: 15m 37s\n",
            "64:\tlearn: 0.4017735\ttotal: 1m 4s\tremaining: 15m 32s\n",
            "65:\tlearn: 0.3988706\ttotal: 1m 5s\tremaining: 15m 27s\n",
            "66:\tlearn: 0.3975549\ttotal: 1m 6s\tremaining: 15m 22s\n",
            "67:\tlearn: 0.3958722\ttotal: 1m 6s\tremaining: 15m 17s\n",
            "68:\tlearn: 0.3935805\ttotal: 1m 7s\tremaining: 15m 13s\n",
            "69:\tlearn: 0.3891072\ttotal: 1m 8s\tremaining: 15m 8s\n",
            "70:\tlearn: 0.3861509\ttotal: 1m 9s\tremaining: 15m 4s\n",
            "71:\tlearn: 0.3851556\ttotal: 1m 9s\tremaining: 14m 59s\n",
            "72:\tlearn: 0.3833932\ttotal: 1m 10s\tremaining: 14m 56s\n",
            "73:\tlearn: 0.3797575\ttotal: 1m 11s\tremaining: 14m 52s\n",
            "74:\tlearn: 0.3773253\ttotal: 1m 12s\tremaining: 14m 55s\n",
            "75:\tlearn: 0.3751526\ttotal: 1m 13s\tremaining: 14m 57s\n",
            "76:\tlearn: 0.3728922\ttotal: 1m 15s\tremaining: 15m\n",
            "77:\tlearn: 0.3702834\ttotal: 1m 15s\tremaining: 14m 56s\n",
            "78:\tlearn: 0.3677735\ttotal: 1m 16s\tremaining: 14m 52s\n",
            "79:\tlearn: 0.3663702\ttotal: 1m 17s\tremaining: 14m 48s\n",
            "80:\tlearn: 0.3640927\ttotal: 1m 17s\tremaining: 14m 44s\n",
            "81:\tlearn: 0.3597806\ttotal: 1m 18s\tremaining: 14m 40s\n",
            "82:\tlearn: 0.3553829\ttotal: 1m 19s\tremaining: 14m 36s\n",
            "83:\tlearn: 0.3539068\ttotal: 1m 20s\tremaining: 14m 39s\n",
            "84:\tlearn: 0.3528731\ttotal: 1m 21s\tremaining: 14m 40s\n",
            "85:\tlearn: 0.3512525\ttotal: 1m 23s\tremaining: 14m 42s\n",
            "86:\tlearn: 0.3492833\ttotal: 1m 24s\tremaining: 14m 43s\n",
            "87:\tlearn: 0.3473852\ttotal: 1m 25s\tremaining: 14m 44s\n",
            "88:\tlearn: 0.3458756\ttotal: 1m 26s\tremaining: 14m 44s\n",
            "89:\tlearn: 0.3433470\ttotal: 1m 27s\tremaining: 14m 44s\n",
            "90:\tlearn: 0.3405065\ttotal: 1m 28s\tremaining: 14m 43s\n",
            "91:\tlearn: 0.3384256\ttotal: 1m 29s\tremaining: 14m 43s\n",
            "92:\tlearn: 0.3348838\ttotal: 1m 30s\tremaining: 14m 43s\n",
            "93:\tlearn: 0.3337706\ttotal: 1m 31s\tremaining: 14m 43s\n",
            "94:\tlearn: 0.3318351\ttotal: 1m 32s\tremaining: 14m 44s\n",
            "95:\tlearn: 0.3292022\ttotal: 1m 33s\tremaining: 14m 43s\n",
            "96:\tlearn: 0.3268801\ttotal: 1m 34s\tremaining: 14m 43s\n",
            "97:\tlearn: 0.3243619\ttotal: 1m 36s\tremaining: 14m 46s\n",
            "98:\tlearn: 0.3231360\ttotal: 1m 37s\tremaining: 14m 46s\n",
            "99:\tlearn: 0.3213077\ttotal: 1m 38s\tremaining: 14m 42s\n",
            "100:\tlearn: 0.3193318\ttotal: 1m 38s\tremaining: 14m 39s\n",
            "101:\tlearn: 0.3155077\ttotal: 1m 39s\tremaining: 14m 35s\n",
            "102:\tlearn: 0.3128881\ttotal: 1m 40s\tremaining: 14m 32s\n",
            "103:\tlearn: 0.3091632\ttotal: 1m 41s\tremaining: 14m 34s\n",
            "104:\tlearn: 0.3081738\ttotal: 1m 43s\tremaining: 14m 38s\n",
            "105:\tlearn: 0.3060527\ttotal: 1m 44s\tremaining: 14m 41s\n",
            "106:\tlearn: 0.3040024\ttotal: 1m 46s\tremaining: 14m 44s\n",
            "107:\tlearn: 0.3024684\ttotal: 1m 47s\tremaining: 14m 50s\n",
            "108:\tlearn: 0.3012279\ttotal: 1m 49s\tremaining: 14m 56s\n",
            "109:\tlearn: 0.2987258\ttotal: 1m 51s\tremaining: 15m 1s\n",
            "110:\tlearn: 0.2974912\ttotal: 1m 52s\tremaining: 15m 1s\n",
            "111:\tlearn: 0.2951016\ttotal: 1m 53s\tremaining: 14m 58s\n",
            "112:\tlearn: 0.2923462\ttotal: 1m 53s\tremaining: 14m 54s\n",
            "113:\tlearn: 0.2902218\ttotal: 1m 54s\tremaining: 14m 50s\n",
            "114:\tlearn: 0.2875649\ttotal: 1m 55s\tremaining: 14m 47s\n",
            "115:\tlearn: 0.2857538\ttotal: 1m 55s\tremaining: 14m 43s\n",
            "116:\tlearn: 0.2826932\ttotal: 1m 56s\tremaining: 14m 40s\n",
            "117:\tlearn: 0.2809708\ttotal: 1m 57s\tremaining: 14m 37s\n",
            "118:\tlearn: 0.2778574\ttotal: 1m 58s\tremaining: 14m 34s\n",
            "119:\tlearn: 0.2757495\ttotal: 1m 58s\tremaining: 14m 31s\n",
            "120:\tlearn: 0.2745960\ttotal: 1m 59s\tremaining: 14m 29s\n",
            "121:\tlearn: 0.2736215\ttotal: 2m\tremaining: 14m 29s\n",
            "122:\tlearn: 0.2706826\ttotal: 2m 1s\tremaining: 14m 26s\n",
            "123:\tlearn: 0.2700765\ttotal: 2m 2s\tremaining: 14m 23s\n",
            "124:\tlearn: 0.2689766\ttotal: 2m 2s\tremaining: 14m 20s\n",
            "125:\tlearn: 0.2673825\ttotal: 2m 3s\tremaining: 14m 18s\n",
            "126:\tlearn: 0.2650852\ttotal: 2m 4s\tremaining: 14m 15s\n",
            "127:\tlearn: 0.2638785\ttotal: 2m 5s\tremaining: 14m 12s\n",
            "128:\tlearn: 0.2627301\ttotal: 2m 5s\tremaining: 14m 9s\n",
            "129:\tlearn: 0.2606833\ttotal: 2m 6s\tremaining: 14m 6s\n",
            "130:\tlearn: 0.2598482\ttotal: 2m 7s\tremaining: 14m 4s\n",
            "131:\tlearn: 0.2579774\ttotal: 2m 8s\tremaining: 14m 1s\n",
            "132:\tlearn: 0.2570642\ttotal: 2m 8s\tremaining: 13m 59s\n",
            "133:\tlearn: 0.2551925\ttotal: 2m 9s\tremaining: 13m 56s\n",
            "134:\tlearn: 0.2535657\ttotal: 2m 10s\tremaining: 13m 53s\n",
            "135:\tlearn: 0.2521030\ttotal: 2m 10s\tremaining: 13m 51s\n",
            "136:\tlearn: 0.2515456\ttotal: 2m 11s\tremaining: 13m 48s\n",
            "137:\tlearn: 0.2487771\ttotal: 2m 12s\tremaining: 13m 46s\n",
            "138:\tlearn: 0.2478788\ttotal: 2m 13s\tremaining: 13m 43s\n",
            "139:\tlearn: 0.2469704\ttotal: 2m 13s\tremaining: 13m 41s\n",
            "140:\tlearn: 0.2459323\ttotal: 2m 14s\tremaining: 13m 39s\n",
            "141:\tlearn: 0.2449735\ttotal: 2m 15s\tremaining: 13m 36s\n",
            "142:\tlearn: 0.2438863\ttotal: 2m 15s\tremaining: 13m 34s\n",
            "143:\tlearn: 0.2423059\ttotal: 2m 16s\tremaining: 13m 32s\n",
            "144:\tlearn: 0.2407062\ttotal: 2m 17s\tremaining: 13m 29s\n",
            "145:\tlearn: 0.2396720\ttotal: 2m 18s\tremaining: 13m 27s\n",
            "146:\tlearn: 0.2385276\ttotal: 2m 18s\tremaining: 13m 25s\n",
            "147:\tlearn: 0.2373935\ttotal: 2m 19s\tremaining: 13m 23s\n",
            "148:\tlearn: 0.2364110\ttotal: 2m 20s\tremaining: 13m 21s\n",
            "149:\tlearn: 0.2353912\ttotal: 2m 21s\tremaining: 13m 19s\n",
            "150:\tlearn: 0.2347960\ttotal: 2m 21s\tremaining: 13m 16s\n",
            "151:\tlearn: 0.2332124\ttotal: 2m 22s\tremaining: 13m 14s\n",
            "152:\tlearn: 0.2321491\ttotal: 2m 23s\tremaining: 13m 11s\n",
            "153:\tlearn: 0.2297174\ttotal: 2m 23s\tremaining: 13m 9s\n",
            "154:\tlearn: 0.2292642\ttotal: 2m 24s\tremaining: 13m 7s\n",
            "155:\tlearn: 0.2279068\ttotal: 2m 25s\tremaining: 13m 4s\n",
            "156:\tlearn: 0.2271635\ttotal: 2m 25s\tremaining: 13m 2s\n",
            "157:\tlearn: 0.2264012\ttotal: 2m 26s\tremaining: 13m\n",
            "158:\tlearn: 0.2256733\ttotal: 2m 27s\tremaining: 12m 58s\n",
            "159:\tlearn: 0.2248782\ttotal: 2m 27s\tremaining: 12m 56s\n",
            "160:\tlearn: 0.2245352\ttotal: 2m 28s\tremaining: 12m 53s\n",
            "161:\tlearn: 0.2235811\ttotal: 2m 29s\tremaining: 12m 51s\n",
            "162:\tlearn: 0.2228504\ttotal: 2m 29s\tremaining: 12m 49s\n",
            "163:\tlearn: 0.2217086\ttotal: 2m 30s\tremaining: 12m 47s\n",
            "164:\tlearn: 0.2209985\ttotal: 2m 31s\tremaining: 12m 45s\n",
            "165:\tlearn: 0.2200110\ttotal: 2m 31s\tremaining: 12m 43s\n",
            "166:\tlearn: 0.2192691\ttotal: 2m 32s\tremaining: 12m 41s\n",
            "167:\tlearn: 0.2176806\ttotal: 2m 33s\tremaining: 12m 39s\n",
            "168:\tlearn: 0.2171169\ttotal: 2m 34s\tremaining: 12m 37s\n",
            "169:\tlearn: 0.2159339\ttotal: 2m 34s\tremaining: 12m 35s\n",
            "170:\tlearn: 0.2143481\ttotal: 2m 35s\tremaining: 12m 33s\n",
            "171:\tlearn: 0.2138710\ttotal: 2m 36s\tremaining: 12m 31s\n",
            "172:\tlearn: 0.2133191\ttotal: 2m 36s\tremaining: 12m 29s\n",
            "173:\tlearn: 0.2127320\ttotal: 2m 37s\tremaining: 12m 27s\n",
            "174:\tlearn: 0.2120761\ttotal: 2m 38s\tremaining: 12m 25s\n",
            "175:\tlearn: 0.2114747\ttotal: 2m 38s\tremaining: 12m 23s\n",
            "176:\tlearn: 0.2109978\ttotal: 2m 39s\tremaining: 12m 22s\n",
            "177:\tlearn: 0.2098413\ttotal: 2m 40s\tremaining: 12m 20s\n",
            "178:\tlearn: 0.2091372\ttotal: 2m 40s\tremaining: 12m 18s\n",
            "179:\tlearn: 0.2070631\ttotal: 2m 41s\tremaining: 12m 16s\n",
            "180:\tlearn: 0.2065397\ttotal: 2m 42s\tremaining: 12m 14s\n",
            "181:\tlearn: 0.2051322\ttotal: 2m 43s\tremaining: 12m 13s\n",
            "182:\tlearn: 0.2037451\ttotal: 2m 43s\tremaining: 12m 11s\n",
            "183:\tlearn: 0.2030070\ttotal: 2m 44s\tremaining: 12m 9s\n",
            "184:\tlearn: 0.2012421\ttotal: 2m 45s\tremaining: 12m 7s\n",
            "185:\tlearn: 0.2007285\ttotal: 2m 45s\tremaining: 12m 6s\n",
            "186:\tlearn: 0.1984819\ttotal: 2m 46s\tremaining: 12m 4s\n",
            "187:\tlearn: 0.1975587\ttotal: 2m 47s\tremaining: 12m 3s\n",
            "188:\tlearn: 0.1954552\ttotal: 2m 48s\tremaining: 12m 1s\n",
            "189:\tlearn: 0.1950751\ttotal: 2m 48s\tremaining: 11m 59s\n",
            "190:\tlearn: 0.1945840\ttotal: 2m 49s\tremaining: 11m 58s\n",
            "191:\tlearn: 0.1942717\ttotal: 2m 50s\tremaining: 11m 56s\n",
            "192:\tlearn: 0.1937944\ttotal: 2m 50s\tremaining: 11m 55s\n",
            "193:\tlearn: 0.1930066\ttotal: 2m 51s\tremaining: 11m 53s\n",
            "194:\tlearn: 0.1927210\ttotal: 2m 52s\tremaining: 11m 51s\n",
            "195:\tlearn: 0.1925244\ttotal: 2m 53s\tremaining: 11m 50s\n",
            "196:\tlearn: 0.1920657\ttotal: 2m 53s\tremaining: 11m 48s\n",
            "197:\tlearn: 0.1917221\ttotal: 2m 54s\tremaining: 11m 46s\n",
            "198:\tlearn: 0.1908759\ttotal: 2m 55s\tremaining: 11m 45s\n",
            "199:\tlearn: 0.1892035\ttotal: 2m 55s\tremaining: 11m 43s\n",
            "200:\tlearn: 0.1883314\ttotal: 2m 56s\tremaining: 11m 41s\n",
            "201:\tlearn: 0.1872481\ttotal: 2m 57s\tremaining: 11m 40s\n",
            "202:\tlearn: 0.1858992\ttotal: 2m 58s\tremaining: 11m 39s\n",
            "203:\tlearn: 0.1853349\ttotal: 2m 58s\tremaining: 11m 37s\n",
            "204:\tlearn: 0.1847136\ttotal: 2m 59s\tremaining: 11m 36s\n",
            "205:\tlearn: 0.1840300\ttotal: 3m\tremaining: 11m 35s\n",
            "206:\tlearn: 0.1831632\ttotal: 3m 1s\tremaining: 11m 33s\n",
            "207:\tlearn: 0.1821487\ttotal: 3m 1s\tremaining: 11m 32s\n",
            "208:\tlearn: 0.1816002\ttotal: 3m 2s\tremaining: 11m 31s\n",
            "209:\tlearn: 0.1812248\ttotal: 3m 3s\tremaining: 11m 29s\n",
            "210:\tlearn: 0.1808332\ttotal: 3m 4s\tremaining: 11m 28s\n",
            "211:\tlearn: 0.1801399\ttotal: 3m 4s\tremaining: 11m 27s\n",
            "212:\tlearn: 0.1797764\ttotal: 3m 5s\tremaining: 11m 25s\n",
            "213:\tlearn: 0.1795154\ttotal: 3m 6s\tremaining: 11m 24s\n",
            "214:\tlearn: 0.1792796\ttotal: 3m 7s\tremaining: 11m 23s\n",
            "215:\tlearn: 0.1790560\ttotal: 3m 7s\tremaining: 11m 21s\n",
            "216:\tlearn: 0.1786059\ttotal: 3m 8s\tremaining: 11m 20s\n",
            "217:\tlearn: 0.1783697\ttotal: 3m 9s\tremaining: 11m 18s\n",
            "218:\tlearn: 0.1777735\ttotal: 3m 9s\tremaining: 11m 17s\n",
            "219:\tlearn: 0.1769988\ttotal: 3m 10s\tremaining: 11m 16s\n",
            "220:\tlearn: 0.1767476\ttotal: 3m 11s\tremaining: 11m 14s\n",
            "221:\tlearn: 0.1755376\ttotal: 3m 12s\tremaining: 11m 13s\n",
            "222:\tlearn: 0.1753757\ttotal: 3m 12s\tremaining: 11m 11s\n",
            "223:\tlearn: 0.1750289\ttotal: 3m 13s\tremaining: 11m 10s\n",
            "224:\tlearn: 0.1747306\ttotal: 3m 14s\tremaining: 11m 8s\n",
            "225:\tlearn: 0.1745368\ttotal: 3m 14s\tremaining: 11m 7s\n",
            "226:\tlearn: 0.1741130\ttotal: 3m 15s\tremaining: 11m 5s\n",
            "227:\tlearn: 0.1730280\ttotal: 3m 16s\tremaining: 11m 4s\n",
            "228:\tlearn: 0.1723876\ttotal: 3m 17s\tremaining: 11m 3s\n",
            "229:\tlearn: 0.1720645\ttotal: 3m 17s\tremaining: 11m 1s\n",
            "230:\tlearn: 0.1715353\ttotal: 3m 18s\tremaining: 11m\n",
            "231:\tlearn: 0.1711794\ttotal: 3m 19s\tremaining: 10m 59s\n",
            "232:\tlearn: 0.1706394\ttotal: 3m 19s\tremaining: 10m 57s\n",
            "233:\tlearn: 0.1702484\ttotal: 3m 20s\tremaining: 10m 56s\n",
            "234:\tlearn: 0.1693034\ttotal: 3m 21s\tremaining: 10m 54s\n",
            "235:\tlearn: 0.1690054\ttotal: 3m 22s\tremaining: 10m 54s\n",
            "236:\tlearn: 0.1686555\ttotal: 3m 23s\tremaining: 10m 54s\n",
            "237:\tlearn: 0.1685206\ttotal: 3m 24s\tremaining: 10m 53s\n",
            "238:\tlearn: 0.1679344\ttotal: 3m 24s\tremaining: 10m 52s\n",
            "239:\tlearn: 0.1665467\ttotal: 3m 25s\tremaining: 10m 51s\n",
            "240:\tlearn: 0.1659548\ttotal: 3m 26s\tremaining: 10m 49s\n",
            "241:\tlearn: 0.1651763\ttotal: 3m 27s\tremaining: 10m 48s\n",
            "242:\tlearn: 0.1649647\ttotal: 3m 27s\tremaining: 10m 47s\n",
            "243:\tlearn: 0.1640319\ttotal: 3m 28s\tremaining: 10m 46s\n",
            "244:\tlearn: 0.1637474\ttotal: 3m 29s\tremaining: 10m 45s\n",
            "245:\tlearn: 0.1627748\ttotal: 3m 30s\tremaining: 10m 44s\n",
            "246:\tlearn: 0.1625148\ttotal: 3m 30s\tremaining: 10m 42s\n",
            "247:\tlearn: 0.1623525\ttotal: 3m 31s\tremaining: 10m 41s\n",
            "248:\tlearn: 0.1621869\ttotal: 3m 32s\tremaining: 10m 40s\n",
            "249:\tlearn: 0.1608649\ttotal: 3m 33s\tremaining: 10m 39s\n",
            "250:\tlearn: 0.1605874\ttotal: 3m 33s\tremaining: 10m 38s\n",
            "251:\tlearn: 0.1603934\ttotal: 3m 34s\tremaining: 10m 36s\n",
            "252:\tlearn: 0.1600237\ttotal: 3m 35s\tremaining: 10m 35s\n",
            "253:\tlearn: 0.1595906\ttotal: 3m 36s\tremaining: 10m 34s\n",
            "254:\tlearn: 0.1592689\ttotal: 3m 37s\tremaining: 10m 35s\n",
            "255:\tlearn: 0.1591052\ttotal: 3m 39s\tremaining: 10m 36s\n",
            "256:\tlearn: 0.1587753\ttotal: 3m 40s\tremaining: 10m 36s\n",
            "257:\tlearn: 0.1585614\ttotal: 3m 41s\tremaining: 10m 37s\n",
            "258:\tlearn: 0.1579604\ttotal: 3m 42s\tremaining: 10m 37s\n",
            "259:\tlearn: 0.1577731\ttotal: 3m 44s\tremaining: 10m 37s\n",
            "260:\tlearn: 0.1574658\ttotal: 3m 45s\tremaining: 10m 37s\n",
            "261:\tlearn: 0.1571339\ttotal: 3m 47s\tremaining: 10m 39s\n",
            "262:\tlearn: 0.1569521\ttotal: 3m 48s\tremaining: 10m 39s\n",
            "263:\tlearn: 0.1561480\ttotal: 3m 49s\tremaining: 10m 39s\n",
            "264:\tlearn: 0.1559886\ttotal: 3m 50s\tremaining: 10m 40s\n",
            "265:\tlearn: 0.1552659\ttotal: 3m 51s\tremaining: 10m 39s\n",
            "266:\tlearn: 0.1549235\ttotal: 3m 52s\tremaining: 10m 38s\n",
            "267:\tlearn: 0.1542776\ttotal: 3m 53s\tremaining: 10m 36s\n",
            "268:\tlearn: 0.1539277\ttotal: 3m 53s\tremaining: 10m 35s\n",
            "269:\tlearn: 0.1534041\ttotal: 3m 54s\tremaining: 10m 34s\n",
            "270:\tlearn: 0.1532731\ttotal: 3m 55s\tremaining: 10m 33s\n",
            "271:\tlearn: 0.1530003\ttotal: 3m 56s\tremaining: 10m 31s\n",
            "272:\tlearn: 0.1528067\ttotal: 3m 56s\tremaining: 10m 30s\n",
            "273:\tlearn: 0.1526280\ttotal: 3m 57s\tremaining: 10m 29s\n",
            "274:\tlearn: 0.1519799\ttotal: 3m 58s\tremaining: 10m 28s\n",
            "275:\tlearn: 0.1517550\ttotal: 3m 59s\tremaining: 10m 27s\n",
            "276:\tlearn: 0.1513737\ttotal: 3m 59s\tremaining: 10m 26s\n",
            "277:\tlearn: 0.1510879\ttotal: 4m\tremaining: 10m 24s\n",
            "278:\tlearn: 0.1508377\ttotal: 4m 1s\tremaining: 10m 23s\n",
            "279:\tlearn: 0.1506079\ttotal: 4m 2s\tremaining: 10m 22s\n",
            "280:\tlearn: 0.1503053\ttotal: 4m 2s\tremaining: 10m 21s\n",
            "281:\tlearn: 0.1490569\ttotal: 4m 3s\tremaining: 10m 20s\n",
            "282:\tlearn: 0.1488977\ttotal: 4m 4s\tremaining: 10m 19s\n",
            "283:\tlearn: 0.1487479\ttotal: 4m 5s\tremaining: 10m 18s\n",
            "284:\tlearn: 0.1485785\ttotal: 4m 5s\tremaining: 10m 17s\n",
            "285:\tlearn: 0.1484287\ttotal: 4m 6s\tremaining: 10m 15s\n",
            "286:\tlearn: 0.1480815\ttotal: 4m 7s\tremaining: 10m 14s\n",
            "287:\tlearn: 0.1476859\ttotal: 4m 8s\tremaining: 10m 13s\n",
            "288:\tlearn: 0.1465222\ttotal: 4m 8s\tremaining: 10m 12s\n",
            "289:\tlearn: 0.1463809\ttotal: 4m 9s\tremaining: 10m 11s\n",
            "290:\tlearn: 0.1461735\ttotal: 4m 10s\tremaining: 10m 10s\n",
            "291:\tlearn: 0.1459851\ttotal: 4m 11s\tremaining: 10m 9s\n",
            "292:\tlearn: 0.1458235\ttotal: 4m 11s\tremaining: 10m 7s\n",
            "293:\tlearn: 0.1455680\ttotal: 4m 12s\tremaining: 10m 6s\n",
            "294:\tlearn: 0.1454029\ttotal: 4m 13s\tremaining: 10m 5s\n",
            "295:\tlearn: 0.1452208\ttotal: 4m 14s\tremaining: 10m 4s\n",
            "296:\tlearn: 0.1449982\ttotal: 4m 14s\tremaining: 10m 3s\n",
            "297:\tlearn: 0.1447908\ttotal: 4m 15s\tremaining: 10m 2s\n",
            "298:\tlearn: 0.1437262\ttotal: 4m 16s\tremaining: 10m 1s\n",
            "299:\tlearn: 0.1435642\ttotal: 4m 17s\tremaining: 10m\n",
            "300:\tlearn: 0.1434395\ttotal: 4m 17s\tremaining: 9m 58s\n",
            "301:\tlearn: 0.1432710\ttotal: 4m 18s\tremaining: 9m 57s\n",
            "302:\tlearn: 0.1427685\ttotal: 4m 19s\tremaining: 9m 56s\n",
            "303:\tlearn: 0.1425181\ttotal: 4m 20s\tremaining: 9m 55s\n",
            "304:\tlearn: 0.1423956\ttotal: 4m 20s\tremaining: 9m 54s\n",
            "305:\tlearn: 0.1422205\ttotal: 4m 21s\tremaining: 9m 53s\n",
            "306:\tlearn: 0.1420148\ttotal: 4m 22s\tremaining: 9m 52s\n",
            "307:\tlearn: 0.1410400\ttotal: 4m 23s\tremaining: 9m 51s\n",
            "308:\tlearn: 0.1408451\ttotal: 4m 24s\tremaining: 9m 50s\n",
            "309:\tlearn: 0.1407279\ttotal: 4m 25s\tremaining: 9m 51s\n",
            "310:\tlearn: 0.1405674\ttotal: 4m 27s\tremaining: 9m 51s\n",
            "311:\tlearn: 0.1395795\ttotal: 4m 28s\tremaining: 9m 52s\n",
            "312:\tlearn: 0.1394260\ttotal: 4m 30s\tremaining: 9m 52s\n",
            "313:\tlearn: 0.1391925\ttotal: 4m 31s\tremaining: 9m 52s\n",
            "314:\tlearn: 0.1386649\ttotal: 4m 32s\tremaining: 9m 52s\n",
            "315:\tlearn: 0.1385263\ttotal: 4m 33s\tremaining: 9m 52s\n",
            "316:\tlearn: 0.1375119\ttotal: 4m 34s\tremaining: 9m 52s\n",
            "317:\tlearn: 0.1373658\ttotal: 4m 35s\tremaining: 9m 51s\n",
            "318:\tlearn: 0.1372369\ttotal: 4m 37s\tremaining: 9m 51s\n",
            "319:\tlearn: 0.1370676\ttotal: 4m 38s\tremaining: 9m 51s\n",
            "320:\tlearn: 0.1367514\ttotal: 4m 39s\tremaining: 9m 50s\n",
            "321:\tlearn: 0.1366383\ttotal: 4m 40s\tremaining: 9m 50s\n",
            "322:\tlearn: 0.1358761\ttotal: 4m 41s\tremaining: 9m 49s\n",
            "323:\tlearn: 0.1355664\ttotal: 4m 42s\tremaining: 9m 49s\n",
            "324:\tlearn: 0.1345412\ttotal: 4m 43s\tremaining: 9m 47s\n",
            "325:\tlearn: 0.1343610\ttotal: 4m 43s\tremaining: 9m 46s\n",
            "326:\tlearn: 0.1342355\ttotal: 4m 44s\tremaining: 9m 45s\n",
            "327:\tlearn: 0.1341185\ttotal: 4m 45s\tremaining: 9m 44s\n",
            "328:\tlearn: 0.1339767\ttotal: 4m 45s\tremaining: 9m 43s\n",
            "329:\tlearn: 0.1336129\ttotal: 4m 46s\tremaining: 9m 42s\n",
            "330:\tlearn: 0.1331974\ttotal: 4m 47s\tremaining: 9m 41s\n",
            "331:\tlearn: 0.1330691\ttotal: 4m 48s\tremaining: 9m 39s\n",
            "332:\tlearn: 0.1329609\ttotal: 4m 48s\tremaining: 9m 38s\n",
            "333:\tlearn: 0.1326546\ttotal: 4m 49s\tremaining: 9m 37s\n",
            "334:\tlearn: 0.1324890\ttotal: 4m 50s\tremaining: 9m 36s\n",
            "335:\tlearn: 0.1321094\ttotal: 4m 51s\tremaining: 9m 35s\n",
            "336:\tlearn: 0.1319827\ttotal: 4m 52s\tremaining: 9m 35s\n",
            "337:\tlearn: 0.1318586\ttotal: 4m 54s\tremaining: 9m 36s\n",
            "338:\tlearn: 0.1313459\ttotal: 4m 55s\tremaining: 9m 36s\n",
            "339:\tlearn: 0.1311769\ttotal: 4m 58s\tremaining: 9m 38s\n",
            "340:\tlearn: 0.1310409\ttotal: 4m 59s\tremaining: 9m 38s\n",
            "341:\tlearn: 0.1305995\ttotal: 5m\tremaining: 9m 38s\n",
            "342:\tlearn: 0.1304600\ttotal: 5m 1s\tremaining: 9m 37s\n",
            "343:\tlearn: 0.1303218\ttotal: 5m 2s\tremaining: 9m 37s\n",
            "344:\tlearn: 0.1301558\ttotal: 5m 3s\tremaining: 9m 36s\n",
            "345:\tlearn: 0.1298691\ttotal: 5m 5s\tremaining: 9m 36s\n",
            "346:\tlearn: 0.1297049\ttotal: 5m 6s\tremaining: 9m 36s\n",
            "347:\tlearn: 0.1295692\ttotal: 5m 7s\tremaining: 9m 35s\n",
            "348:\tlearn: 0.1293687\ttotal: 5m 8s\tremaining: 9m 35s\n",
            "349:\tlearn: 0.1291407\ttotal: 5m 9s\tremaining: 9m 35s\n",
            "350:\tlearn: 0.1290248\ttotal: 5m 10s\tremaining: 9m 34s\n",
            "351:\tlearn: 0.1286074\ttotal: 5m 11s\tremaining: 9m 33s\n",
            "352:\tlearn: 0.1278655\ttotal: 5m 12s\tremaining: 9m 33s\n",
            "353:\tlearn: 0.1266465\ttotal: 5m 13s\tremaining: 9m 32s\n",
            "354:\tlearn: 0.1265182\ttotal: 5m 15s\tremaining: 9m 32s\n",
            "355:\tlearn: 0.1263847\ttotal: 5m 16s\tremaining: 9m 32s\n",
            "356:\tlearn: 0.1262245\ttotal: 5m 17s\tremaining: 9m 31s\n",
            "357:\tlearn: 0.1260423\ttotal: 5m 17s\tremaining: 9m 29s\n",
            "358:\tlearn: 0.1258910\ttotal: 5m 18s\tremaining: 9m 28s\n",
            "359:\tlearn: 0.1257966\ttotal: 5m 19s\tremaining: 9m 27s\n",
            "360:\tlearn: 0.1254488\ttotal: 5m 19s\tremaining: 9m 26s\n",
            "361:\tlearn: 0.1250364\ttotal: 5m 20s\tremaining: 9m 25s\n",
            "362:\tlearn: 0.1249146\ttotal: 5m 21s\tremaining: 9m 24s\n",
            "363:\tlearn: 0.1247996\ttotal: 5m 22s\tremaining: 9m 23s\n",
            "364:\tlearn: 0.1246026\ttotal: 5m 23s\tremaining: 9m 23s\n",
            "365:\tlearn: 0.1240724\ttotal: 5m 24s\tremaining: 9m 22s\n",
            "366:\tlearn: 0.1239212\ttotal: 5m 25s\tremaining: 9m 21s\n",
            "367:\tlearn: 0.1238103\ttotal: 5m 26s\tremaining: 9m 20s\n",
            "368:\tlearn: 0.1236553\ttotal: 5m 27s\tremaining: 9m 19s\n",
            "369:\tlearn: 0.1228483\ttotal: 5m 27s\tremaining: 9m 18s\n",
            "370:\tlearn: 0.1227128\ttotal: 5m 28s\tremaining: 9m 16s\n",
            "371:\tlearn: 0.1224603\ttotal: 5m 29s\tremaining: 9m 15s\n",
            "372:\tlearn: 0.1222682\ttotal: 5m 29s\tremaining: 9m 14s\n",
            "373:\tlearn: 0.1216937\ttotal: 5m 30s\tremaining: 9m 13s\n",
            "374:\tlearn: 0.1214971\ttotal: 5m 31s\tremaining: 9m 12s\n",
            "375:\tlearn: 0.1212031\ttotal: 5m 32s\tremaining: 9m 11s\n",
            "376:\tlearn: 0.1210921\ttotal: 5m 33s\tremaining: 9m 11s\n",
            "377:\tlearn: 0.1209610\ttotal: 5m 34s\tremaining: 9m 10s\n",
            "378:\tlearn: 0.1208683\ttotal: 5m 35s\tremaining: 9m 9s\n",
            "379:\tlearn: 0.1207451\ttotal: 5m 36s\tremaining: 9m 9s\n",
            "380:\tlearn: 0.1205888\ttotal: 5m 37s\tremaining: 9m 8s\n",
            "381:\tlearn: 0.1201036\ttotal: 5m 38s\tremaining: 9m 8s\n",
            "382:\tlearn: 0.1199378\ttotal: 5m 39s\tremaining: 9m 7s\n",
            "383:\tlearn: 0.1198319\ttotal: 5m 40s\tremaining: 9m 6s\n",
            "384:\tlearn: 0.1197572\ttotal: 5m 42s\tremaining: 9m 6s\n",
            "385:\tlearn: 0.1196598\ttotal: 5m 43s\tremaining: 9m 5s\n",
            "386:\tlearn: 0.1195108\ttotal: 5m 44s\tremaining: 9m 5s\n",
            "387:\tlearn: 0.1194179\ttotal: 5m 45s\tremaining: 9m 4s\n",
            "388:\tlearn: 0.1192614\ttotal: 5m 46s\tremaining: 9m 4s\n",
            "389:\tlearn: 0.1191699\ttotal: 5m 47s\tremaining: 9m 3s\n",
            "390:\tlearn: 0.1190370\ttotal: 5m 48s\tremaining: 9m 2s\n",
            "391:\tlearn: 0.1188876\ttotal: 5m 49s\tremaining: 9m 1s\n",
            "392:\tlearn: 0.1182047\ttotal: 5m 50s\tremaining: 9m\n",
            "393:\tlearn: 0.1180898\ttotal: 5m 50s\tremaining: 8m 59s\n",
            "394:\tlearn: 0.1179780\ttotal: 5m 51s\tremaining: 8m 58s\n",
            "395:\tlearn: 0.1178481\ttotal: 5m 52s\tremaining: 8m 57s\n",
            "396:\tlearn: 0.1176137\ttotal: 5m 52s\tremaining: 8m 56s\n",
            "397:\tlearn: 0.1174047\ttotal: 5m 53s\tremaining: 8m 54s\n",
            "398:\tlearn: 0.1173021\ttotal: 5m 54s\tremaining: 8m 53s\n",
            "399:\tlearn: 0.1164713\ttotal: 5m 55s\tremaining: 8m 52s\n",
            "400:\tlearn: 0.1161757\ttotal: 5m 55s\tremaining: 8m 51s\n",
            "401:\tlearn: 0.1159108\ttotal: 5m 56s\tremaining: 8m 50s\n",
            "402:\tlearn: 0.1155474\ttotal: 5m 57s\tremaining: 8m 49s\n",
            "403:\tlearn: 0.1154151\ttotal: 5m 57s\tremaining: 8m 47s\n",
            "404:\tlearn: 0.1152854\ttotal: 5m 58s\tremaining: 8m 46s\n",
            "405:\tlearn: 0.1149401\ttotal: 5m 59s\tremaining: 8m 45s\n",
            "406:\tlearn: 0.1147569\ttotal: 6m\tremaining: 8m 44s\n",
            "407:\tlearn: 0.1145179\ttotal: 6m\tremaining: 8m 43s\n",
            "408:\tlearn: 0.1143423\ttotal: 6m 1s\tremaining: 8m 42s\n",
            "409:\tlearn: 0.1141929\ttotal: 6m 2s\tremaining: 8m 41s\n",
            "410:\tlearn: 0.1140351\ttotal: 6m 3s\tremaining: 8m 40s\n",
            "411:\tlearn: 0.1139195\ttotal: 6m 3s\tremaining: 8m 39s\n",
            "412:\tlearn: 0.1137914\ttotal: 6m 4s\tremaining: 8m 38s\n",
            "413:\tlearn: 0.1136685\ttotal: 6m 5s\tremaining: 8m 37s\n",
            "414:\tlearn: 0.1135436\ttotal: 6m 6s\tremaining: 8m 37s\n",
            "415:\tlearn: 0.1134385\ttotal: 6m 7s\tremaining: 8m 36s\n",
            "416:\tlearn: 0.1133121\ttotal: 6m 8s\tremaining: 8m 35s\n",
            "417:\tlearn: 0.1131740\ttotal: 6m 10s\tremaining: 8m 35s\n",
            "418:\tlearn: 0.1130644\ttotal: 6m 11s\tremaining: 8m 34s\n",
            "419:\tlearn: 0.1129160\ttotal: 6m 12s\tremaining: 8m 34s\n",
            "420:\tlearn: 0.1128267\ttotal: 6m 13s\tremaining: 8m 33s\n",
            "421:\tlearn: 0.1125959\ttotal: 6m 14s\tremaining: 8m 32s\n",
            "422:\tlearn: 0.1124623\ttotal: 6m 15s\tremaining: 8m 31s\n",
            "423:\tlearn: 0.1123580\ttotal: 6m 16s\tremaining: 8m 31s\n",
            "424:\tlearn: 0.1122685\ttotal: 6m 17s\tremaining: 8m 30s\n",
            "425:\tlearn: 0.1120790\ttotal: 6m 18s\tremaining: 8m 30s\n",
            "426:\tlearn: 0.1116774\ttotal: 6m 19s\tremaining: 8m 29s\n",
            "427:\tlearn: 0.1115520\ttotal: 6m 20s\tremaining: 8m 29s\n",
            "428:\tlearn: 0.1113330\ttotal: 6m 22s\tremaining: 8m 28s\n",
            "429:\tlearn: 0.1111579\ttotal: 6m 23s\tremaining: 8m 27s\n",
            "430:\tlearn: 0.1106597\ttotal: 6m 24s\tremaining: 8m 27s\n",
            "431:\tlearn: 0.1104042\ttotal: 6m 25s\tremaining: 8m 26s\n",
            "432:\tlearn: 0.1102126\ttotal: 6m 26s\tremaining: 8m 25s\n",
            "433:\tlearn: 0.1098997\ttotal: 6m 27s\tremaining: 8m 25s\n",
            "434:\tlearn: 0.1098162\ttotal: 6m 28s\tremaining: 8m 24s\n",
            "435:\tlearn: 0.1096050\ttotal: 6m 29s\tremaining: 8m 24s\n",
            "436:\tlearn: 0.1095124\ttotal: 6m 31s\tremaining: 8m 24s\n",
            "437:\tlearn: 0.1092901\ttotal: 6m 32s\tremaining: 8m 23s\n",
            "438:\tlearn: 0.1086485\ttotal: 6m 33s\tremaining: 8m 23s\n",
            "439:\tlearn: 0.1085734\ttotal: 6m 34s\tremaining: 8m 22s\n",
            "440:\tlearn: 0.1084791\ttotal: 6m 35s\tremaining: 8m 21s\n",
            "441:\tlearn: 0.1083623\ttotal: 6m 36s\tremaining: 8m 20s\n",
            "442:\tlearn: 0.1082736\ttotal: 6m 37s\tremaining: 8m 19s\n",
            "443:\tlearn: 0.1076089\ttotal: 6m 37s\tremaining: 8m 18s\n",
            "444:\tlearn: 0.1074884\ttotal: 6m 38s\tremaining: 8m 17s\n",
            "445:\tlearn: 0.1052335\ttotal: 6m 39s\tremaining: 8m 15s\n",
            "446:\tlearn: 0.1051308\ttotal: 6m 40s\tremaining: 8m 14s\n",
            "447:\tlearn: 0.1048645\ttotal: 6m 40s\tremaining: 8m 13s\n",
            "448:\tlearn: 0.1047367\ttotal: 6m 41s\tremaining: 8m 12s\n",
            "449:\tlearn: 0.1045974\ttotal: 6m 42s\tremaining: 8m 11s\n",
            "450:\tlearn: 0.1044104\ttotal: 6m 42s\tremaining: 8m 10s\n",
            "451:\tlearn: 0.1042277\ttotal: 6m 43s\tremaining: 8m 9s\n",
            "452:\tlearn: 0.1041422\ttotal: 6m 44s\tremaining: 8m 8s\n",
            "453:\tlearn: 0.1039411\ttotal: 6m 45s\tremaining: 8m 7s\n",
            "454:\tlearn: 0.1034797\ttotal: 6m 45s\tremaining: 8m 6s\n",
            "455:\tlearn: 0.1033645\ttotal: 6m 46s\tremaining: 8m 5s\n",
            "456:\tlearn: 0.1032779\ttotal: 6m 47s\tremaining: 8m 3s\n",
            "457:\tlearn: 0.1031884\ttotal: 6m 48s\tremaining: 8m 2s\n",
            "458:\tlearn: 0.1029156\ttotal: 6m 48s\tremaining: 8m 1s\n",
            "459:\tlearn: 0.1028207\ttotal: 6m 49s\tremaining: 8m\n",
            "460:\tlearn: 0.1027264\ttotal: 6m 50s\tremaining: 7m 59s\n",
            "461:\tlearn: 0.1022255\ttotal: 6m 50s\tremaining: 7m 58s\n",
            "462:\tlearn: 0.1021231\ttotal: 6m 51s\tremaining: 7m 57s\n",
            "463:\tlearn: 0.1020487\ttotal: 6m 53s\tremaining: 7m 57s\n",
            "464:\tlearn: 0.1019730\ttotal: 6m 53s\tremaining: 7m 56s\n",
            "465:\tlearn: 0.1018787\ttotal: 6m 55s\tremaining: 7m 55s\n",
            "466:\tlearn: 0.1017498\ttotal: 6m 56s\tremaining: 7m 55s\n",
            "467:\tlearn: 0.1016752\ttotal: 6m 57s\tremaining: 7m 54s\n",
            "468:\tlearn: 0.1016056\ttotal: 6m 58s\tremaining: 7m 53s\n",
            "469:\tlearn: 0.1010317\ttotal: 6m 59s\tremaining: 7m 53s\n",
            "470:\tlearn: 0.1009524\ttotal: 7m\tremaining: 7m 52s\n",
            "471:\tlearn: 0.1008549\ttotal: 7m 1s\tremaining: 7m 51s\n",
            "472:\tlearn: 0.1007704\ttotal: 7m 2s\tremaining: 7m 51s\n",
            "473:\tlearn: 0.1006688\ttotal: 7m 4s\tremaining: 7m 50s\n",
            "474:\tlearn: 0.1005159\ttotal: 7m 5s\tremaining: 7m 49s\n",
            "475:\tlearn: 0.1004274\ttotal: 7m 6s\tremaining: 7m 49s\n",
            "476:\tlearn: 0.1002683\ttotal: 7m 7s\tremaining: 7m 48s\n",
            "477:\tlearn: 0.1001078\ttotal: 7m 8s\tremaining: 7m 48s\n",
            "478:\tlearn: 0.0999625\ttotal: 7m 9s\tremaining: 7m 47s\n",
            "479:\tlearn: 0.0998447\ttotal: 7m 10s\tremaining: 7m 46s\n",
            "480:\tlearn: 0.0995268\ttotal: 7m 10s\tremaining: 7m 45s\n",
            "481:\tlearn: 0.0994430\ttotal: 7m 11s\tremaining: 7m 43s\n",
            "482:\tlearn: 0.0993375\ttotal: 7m 12s\tremaining: 7m 42s\n",
            "483:\tlearn: 0.0987345\ttotal: 7m 13s\tremaining: 7m 41s\n",
            "484:\tlearn: 0.0986132\ttotal: 7m 13s\tremaining: 7m 40s\n",
            "485:\tlearn: 0.0985394\ttotal: 7m 14s\tremaining: 7m 39s\n",
            "486:\tlearn: 0.0979258\ttotal: 7m 15s\tremaining: 7m 38s\n",
            "487:\tlearn: 0.0978543\ttotal: 7m 16s\tremaining: 7m 37s\n",
            "488:\tlearn: 0.0977906\ttotal: 7m 16s\tremaining: 7m 36s\n",
            "489:\tlearn: 0.0976977\ttotal: 7m 17s\tremaining: 7m 35s\n",
            "490:\tlearn: 0.0975887\ttotal: 7m 18s\tremaining: 7m 34s\n",
            "491:\tlearn: 0.0975168\ttotal: 7m 19s\tremaining: 7m 33s\n",
            "492:\tlearn: 0.0974396\ttotal: 7m 19s\tremaining: 7m 32s\n",
            "493:\tlearn: 0.0968822\ttotal: 7m 20s\tremaining: 7m 31s\n",
            "494:\tlearn: 0.0963742\ttotal: 7m 21s\tremaining: 7m 30s\n",
            "495:\tlearn: 0.0962637\ttotal: 7m 22s\tremaining: 7m 29s\n",
            "496:\tlearn: 0.0961955\ttotal: 7m 22s\tremaining: 7m 28s\n",
            "497:\tlearn: 0.0961323\ttotal: 7m 23s\tremaining: 7m 27s\n",
            "498:\tlearn: 0.0960628\ttotal: 7m 24s\tremaining: 7m 26s\n",
            "499:\tlearn: 0.0958009\ttotal: 7m 25s\tremaining: 7m 25s\n",
            "500:\tlearn: 0.0957419\ttotal: 7m 25s\tremaining: 7m 24s\n",
            "501:\tlearn: 0.0954536\ttotal: 7m 26s\tremaining: 7m 23s\n",
            "502:\tlearn: 0.0953277\ttotal: 7m 27s\tremaining: 7m 22s\n",
            "503:\tlearn: 0.0952456\ttotal: 7m 28s\tremaining: 7m 20s\n",
            "504:\tlearn: 0.0950838\ttotal: 7m 28s\tremaining: 7m 19s\n",
            "505:\tlearn: 0.0950181\ttotal: 7m 29s\tremaining: 7m 18s\n",
            "506:\tlearn: 0.0949229\ttotal: 7m 30s\tremaining: 7m 17s\n",
            "507:\tlearn: 0.0947387\ttotal: 7m 30s\tremaining: 7m 16s\n",
            "508:\tlearn: 0.0945771\ttotal: 7m 31s\tremaining: 7m 15s\n",
            "509:\tlearn: 0.0944930\ttotal: 7m 32s\tremaining: 7m 14s\n",
            "510:\tlearn: 0.0939232\ttotal: 7m 33s\tremaining: 7m 13s\n",
            "511:\tlearn: 0.0937484\ttotal: 7m 33s\tremaining: 7m 12s\n",
            "512:\tlearn: 0.0930536\ttotal: 7m 34s\tremaining: 7m 11s\n",
            "513:\tlearn: 0.0929905\ttotal: 7m 35s\tremaining: 7m 10s\n",
            "514:\tlearn: 0.0925981\ttotal: 7m 36s\tremaining: 7m 9s\n",
            "515:\tlearn: 0.0924268\ttotal: 7m 36s\tremaining: 7m 8s\n",
            "516:\tlearn: 0.0921554\ttotal: 7m 37s\tremaining: 7m 7s\n",
            "517:\tlearn: 0.0920538\ttotal: 7m 38s\tremaining: 7m 6s\n",
            "518:\tlearn: 0.0919737\ttotal: 7m 39s\tremaining: 7m 5s\n",
            "519:\tlearn: 0.0919138\ttotal: 7m 39s\tremaining: 7m 4s\n",
            "520:\tlearn: 0.0917240\ttotal: 7m 40s\tremaining: 7m 3s\n",
            "521:\tlearn: 0.0916429\ttotal: 7m 41s\tremaining: 7m 2s\n",
            "522:\tlearn: 0.0915485\ttotal: 7m 41s\tremaining: 7m 1s\n",
            "523:\tlearn: 0.0914613\ttotal: 7m 42s\tremaining: 7m\n",
            "524:\tlearn: 0.0913555\ttotal: 7m 43s\tremaining: 6m 59s\n",
            "525:\tlearn: 0.0912791\ttotal: 7m 44s\tremaining: 6m 58s\n",
            "526:\tlearn: 0.0911495\ttotal: 7m 44s\tremaining: 6m 57s\n",
            "527:\tlearn: 0.0907959\ttotal: 7m 45s\tremaining: 6m 56s\n",
            "528:\tlearn: 0.0904327\ttotal: 7m 46s\tremaining: 6m 55s\n",
            "529:\tlearn: 0.0903357\ttotal: 7m 47s\tremaining: 6m 54s\n",
            "530:\tlearn: 0.0902054\ttotal: 7m 47s\tremaining: 6m 53s\n",
            "531:\tlearn: 0.0901368\ttotal: 7m 48s\tremaining: 6m 52s\n",
            "532:\tlearn: 0.0900345\ttotal: 7m 49s\tremaining: 6m 51s\n",
            "533:\tlearn: 0.0896244\ttotal: 7m 50s\tremaining: 6m 50s\n",
            "534:\tlearn: 0.0895390\ttotal: 7m 50s\tremaining: 6m 49s\n",
            "535:\tlearn: 0.0891398\ttotal: 7m 51s\tremaining: 6m 48s\n",
            "536:\tlearn: 0.0889967\ttotal: 7m 52s\tremaining: 6m 47s\n",
            "537:\tlearn: 0.0889033\ttotal: 7m 52s\tremaining: 6m 46s\n",
            "538:\tlearn: 0.0886177\ttotal: 7m 53s\tremaining: 6m 45s\n",
            "539:\tlearn: 0.0885122\ttotal: 7m 54s\tremaining: 6m 44s\n",
            "540:\tlearn: 0.0884312\ttotal: 7m 55s\tremaining: 6m 43s\n",
            "541:\tlearn: 0.0883481\ttotal: 7m 55s\tremaining: 6m 42s\n",
            "542:\tlearn: 0.0882779\ttotal: 7m 56s\tremaining: 6m 41s\n",
            "543:\tlearn: 0.0882031\ttotal: 7m 57s\tremaining: 6m 40s\n",
            "544:\tlearn: 0.0879236\ttotal: 7m 58s\tremaining: 6m 39s\n",
            "545:\tlearn: 0.0874283\ttotal: 7m 58s\tremaining: 6m 38s\n",
            "546:\tlearn: 0.0873626\ttotal: 7m 59s\tremaining: 6m 37s\n",
            "547:\tlearn: 0.0873012\ttotal: 8m\tremaining: 6m 36s\n",
            "548:\tlearn: 0.0872039\ttotal: 8m 1s\tremaining: 6m 35s\n",
            "549:\tlearn: 0.0866220\ttotal: 8m 1s\tremaining: 6m 34s\n",
            "550:\tlearn: 0.0865441\ttotal: 8m 2s\tremaining: 6m 33s\n",
            "551:\tlearn: 0.0863637\ttotal: 8m 3s\tremaining: 6m 32s\n",
            "552:\tlearn: 0.0862938\ttotal: 8m 4s\tremaining: 6m 31s\n",
            "553:\tlearn: 0.0862482\ttotal: 8m 4s\tremaining: 6m 30s\n",
            "554:\tlearn: 0.0861943\ttotal: 8m 5s\tremaining: 6m 29s\n",
            "555:\tlearn: 0.0861370\ttotal: 8m 6s\tremaining: 6m 28s\n",
            "556:\tlearn: 0.0860425\ttotal: 8m 7s\tremaining: 6m 27s\n",
            "557:\tlearn: 0.0859552\ttotal: 8m 7s\tremaining: 6m 26s\n",
            "558:\tlearn: 0.0858984\ttotal: 8m 8s\tremaining: 6m 25s\n",
            "559:\tlearn: 0.0858519\ttotal: 8m 9s\tremaining: 6m 24s\n",
            "560:\tlearn: 0.0853506\ttotal: 8m 10s\tremaining: 6m 23s\n",
            "561:\tlearn: 0.0852532\ttotal: 8m 10s\tremaining: 6m 22s\n",
            "562:\tlearn: 0.0850877\ttotal: 8m 11s\tremaining: 6m 21s\n",
            "563:\tlearn: 0.0850441\ttotal: 8m 12s\tremaining: 6m 20s\n",
            "564:\tlearn: 0.0849780\ttotal: 8m 13s\tremaining: 6m 19s\n",
            "565:\tlearn: 0.0847899\ttotal: 8m 14s\tremaining: 6m 18s\n",
            "566:\tlearn: 0.0845068\ttotal: 8m 15s\tremaining: 6m 18s\n",
            "567:\tlearn: 0.0841395\ttotal: 8m 16s\tremaining: 6m 17s\n",
            "568:\tlearn: 0.0837379\ttotal: 8m 16s\tremaining: 6m 16s\n",
            "569:\tlearn: 0.0836676\ttotal: 8m 17s\tremaining: 6m 15s\n",
            "570:\tlearn: 0.0834543\ttotal: 8m 18s\tremaining: 6m 14s\n",
            "571:\tlearn: 0.0832595\ttotal: 8m 19s\tremaining: 6m 13s\n",
            "572:\tlearn: 0.0831948\ttotal: 8m 19s\tremaining: 6m 12s\n",
            "573:\tlearn: 0.0830825\ttotal: 8m 20s\tremaining: 6m 11s\n",
            "574:\tlearn: 0.0830281\ttotal: 8m 21s\tremaining: 6m 10s\n",
            "575:\tlearn: 0.0829690\ttotal: 8m 22s\tremaining: 6m 9s\n",
            "576:\tlearn: 0.0829148\ttotal: 8m 22s\tremaining: 6m 8s\n",
            "577:\tlearn: 0.0826589\ttotal: 8m 23s\tremaining: 6m 7s\n",
            "578:\tlearn: 0.0826102\ttotal: 8m 24s\tremaining: 6m 6s\n",
            "579:\tlearn: 0.0825652\ttotal: 8m 25s\tremaining: 6m 5s\n",
            "580:\tlearn: 0.0820573\ttotal: 8m 25s\tremaining: 6m 4s\n",
            "581:\tlearn: 0.0820044\ttotal: 8m 26s\tremaining: 6m 3s\n",
            "582:\tlearn: 0.0819672\ttotal: 8m 27s\tremaining: 6m 2s\n",
            "583:\tlearn: 0.0819255\ttotal: 8m 28s\tremaining: 6m 1s\n",
            "584:\tlearn: 0.0818727\ttotal: 8m 28s\tremaining: 6m 1s\n",
            "585:\tlearn: 0.0807750\ttotal: 8m 29s\tremaining: 6m\n",
            "586:\tlearn: 0.0795506\ttotal: 8m 30s\tremaining: 5m 59s\n",
            "587:\tlearn: 0.0795000\ttotal: 8m 31s\tremaining: 5m 58s\n",
            "588:\tlearn: 0.0794170\ttotal: 8m 31s\tremaining: 5m 57s\n",
            "589:\tlearn: 0.0793462\ttotal: 8m 32s\tremaining: 5m 56s\n",
            "590:\tlearn: 0.0791664\ttotal: 8m 33s\tremaining: 5m 55s\n",
            "591:\tlearn: 0.0790153\ttotal: 8m 33s\tremaining: 5m 54s\n",
            "592:\tlearn: 0.0789563\ttotal: 8m 34s\tremaining: 5m 53s\n",
            "593:\tlearn: 0.0788984\ttotal: 8m 35s\tremaining: 5m 52s\n",
            "594:\tlearn: 0.0784631\ttotal: 8m 36s\tremaining: 5m 51s\n",
            "595:\tlearn: 0.0784062\ttotal: 8m 36s\tremaining: 5m 50s\n",
            "596:\tlearn: 0.0783291\ttotal: 8m 37s\tremaining: 5m 49s\n",
            "597:\tlearn: 0.0782333\ttotal: 8m 38s\tremaining: 5m 48s\n",
            "598:\tlearn: 0.0779946\ttotal: 8m 38s\tremaining: 5m 47s\n",
            "599:\tlearn: 0.0779542\ttotal: 8m 39s\tremaining: 5m 46s\n",
            "600:\tlearn: 0.0779124\ttotal: 8m 40s\tremaining: 5m 45s\n",
            "601:\tlearn: 0.0778583\ttotal: 8m 41s\tremaining: 5m 44s\n",
            "602:\tlearn: 0.0777926\ttotal: 8m 41s\tremaining: 5m 43s\n",
            "603:\tlearn: 0.0773742\ttotal: 8m 42s\tremaining: 5m 42s\n",
            "604:\tlearn: 0.0773320\ttotal: 8m 43s\tremaining: 5m 41s\n",
            "605:\tlearn: 0.0772245\ttotal: 8m 44s\tremaining: 5m 40s\n",
            "606:\tlearn: 0.0771346\ttotal: 8m 44s\tremaining: 5m 39s\n",
            "607:\tlearn: 0.0770547\ttotal: 8m 45s\tremaining: 5m 38s\n",
            "608:\tlearn: 0.0769234\ttotal: 8m 46s\tremaining: 5m 37s\n",
            "609:\tlearn: 0.0768428\ttotal: 8m 46s\tremaining: 5m 36s\n",
            "610:\tlearn: 0.0767924\ttotal: 8m 47s\tremaining: 5m 35s\n",
            "611:\tlearn: 0.0767468\ttotal: 8m 48s\tremaining: 5m 35s\n",
            "612:\tlearn: 0.0767023\ttotal: 8m 49s\tremaining: 5m 34s\n",
            "613:\tlearn: 0.0766586\ttotal: 8m 49s\tremaining: 5m 33s\n",
            "614:\tlearn: 0.0766044\ttotal: 8m 50s\tremaining: 5m 32s\n",
            "615:\tlearn: 0.0765643\ttotal: 8m 51s\tremaining: 5m 31s\n",
            "616:\tlearn: 0.0765252\ttotal: 8m 52s\tremaining: 5m 30s\n",
            "617:\tlearn: 0.0764458\ttotal: 8m 52s\tremaining: 5m 29s\n",
            "618:\tlearn: 0.0763342\ttotal: 8m 53s\tremaining: 5m 28s\n",
            "619:\tlearn: 0.0754103\ttotal: 8m 54s\tremaining: 5m 27s\n",
            "620:\tlearn: 0.0749384\ttotal: 8m 54s\tremaining: 5m 26s\n",
            "621:\tlearn: 0.0748759\ttotal: 8m 55s\tremaining: 5m 25s\n",
            "622:\tlearn: 0.0748150\ttotal: 8m 56s\tremaining: 5m 24s\n",
            "623:\tlearn: 0.0746703\ttotal: 8m 57s\tremaining: 5m 23s\n",
            "624:\tlearn: 0.0746073\ttotal: 8m 57s\tremaining: 5m 22s\n",
            "625:\tlearn: 0.0744504\ttotal: 8m 58s\tremaining: 5m 21s\n",
            "626:\tlearn: 0.0743942\ttotal: 8m 59s\tremaining: 5m 20s\n",
            "627:\tlearn: 0.0742802\ttotal: 9m\tremaining: 5m 19s\n",
            "628:\tlearn: 0.0742390\ttotal: 9m\tremaining: 5m 18s\n",
            "629:\tlearn: 0.0742018\ttotal: 9m 1s\tremaining: 5m 18s\n",
            "630:\tlearn: 0.0737428\ttotal: 9m 2s\tremaining: 5m 17s\n",
            "631:\tlearn: 0.0732102\ttotal: 9m 3s\tremaining: 5m 16s\n",
            "632:\tlearn: 0.0731578\ttotal: 9m 3s\tremaining: 5m 15s\n",
            "633:\tlearn: 0.0725815\ttotal: 9m 4s\tremaining: 5m 14s\n",
            "634:\tlearn: 0.0725280\ttotal: 9m 5s\tremaining: 5m 13s\n",
            "635:\tlearn: 0.0724435\ttotal: 9m 6s\tremaining: 5m 12s\n",
            "636:\tlearn: 0.0723663\ttotal: 9m 6s\tremaining: 5m 11s\n",
            "637:\tlearn: 0.0722768\ttotal: 9m 7s\tremaining: 5m 10s\n",
            "638:\tlearn: 0.0718247\ttotal: 9m 8s\tremaining: 5m 9s\n",
            "639:\tlearn: 0.0717602\ttotal: 9m 8s\tremaining: 5m 8s\n",
            "640:\tlearn: 0.0716908\ttotal: 9m 9s\tremaining: 5m 7s\n",
            "641:\tlearn: 0.0716207\ttotal: 9m 10s\tremaining: 5m 6s\n",
            "642:\tlearn: 0.0715848\ttotal: 9m 11s\tremaining: 5m 5s\n",
            "643:\tlearn: 0.0715391\ttotal: 9m 11s\tremaining: 5m 5s\n",
            "644:\tlearn: 0.0714932\ttotal: 9m 12s\tremaining: 5m 4s\n",
            "645:\tlearn: 0.0714407\ttotal: 9m 13s\tremaining: 5m 3s\n",
            "646:\tlearn: 0.0712222\ttotal: 9m 13s\tremaining: 5m 2s\n",
            "647:\tlearn: 0.0711736\ttotal: 9m 14s\tremaining: 5m 1s\n",
            "648:\tlearn: 0.0711280\ttotal: 9m 15s\tremaining: 5m\n",
            "649:\tlearn: 0.0709720\ttotal: 9m 15s\tremaining: 4m 59s\n",
            "650:\tlearn: 0.0709061\ttotal: 9m 16s\tremaining: 4m 58s\n",
            "651:\tlearn: 0.0708367\ttotal: 9m 17s\tremaining: 4m 57s\n",
            "652:\tlearn: 0.0707972\ttotal: 9m 18s\tremaining: 4m 56s\n",
            "653:\tlearn: 0.0707068\ttotal: 9m 18s\tremaining: 4m 55s\n",
            "654:\tlearn: 0.0706597\ttotal: 9m 19s\tremaining: 4m 54s\n",
            "655:\tlearn: 0.0706054\ttotal: 9m 20s\tremaining: 4m 53s\n",
            "656:\tlearn: 0.0705452\ttotal: 9m 20s\tremaining: 4m 52s\n",
            "657:\tlearn: 0.0704545\ttotal: 9m 21s\tremaining: 4m 51s\n",
            "658:\tlearn: 0.0701902\ttotal: 9m 22s\tremaining: 4m 51s\n",
            "659:\tlearn: 0.0699590\ttotal: 9m 23s\tremaining: 4m 50s\n",
            "660:\tlearn: 0.0698968\ttotal: 9m 23s\tremaining: 4m 49s\n",
            "661:\tlearn: 0.0698687\ttotal: 9m 24s\tremaining: 4m 48s\n",
            "662:\tlearn: 0.0698159\ttotal: 9m 25s\tremaining: 4m 47s\n",
            "663:\tlearn: 0.0694781\ttotal: 9m 26s\tremaining: 4m 46s\n",
            "664:\tlearn: 0.0693910\ttotal: 9m 26s\tremaining: 4m 45s\n",
            "665:\tlearn: 0.0693485\ttotal: 9m 27s\tremaining: 4m 44s\n",
            "666:\tlearn: 0.0692967\ttotal: 9m 28s\tremaining: 4m 43s\n",
            "667:\tlearn: 0.0692418\ttotal: 9m 28s\tremaining: 4m 42s\n",
            "668:\tlearn: 0.0692055\ttotal: 9m 29s\tremaining: 4m 41s\n",
            "669:\tlearn: 0.0691763\ttotal: 9m 30s\tremaining: 4m 40s\n",
            "670:\tlearn: 0.0691453\ttotal: 9m 30s\tremaining: 4m 39s\n",
            "671:\tlearn: 0.0691156\ttotal: 9m 31s\tremaining: 4m 39s\n",
            "672:\tlearn: 0.0690676\ttotal: 9m 32s\tremaining: 4m 38s\n",
            "673:\tlearn: 0.0690224\ttotal: 9m 33s\tremaining: 4m 37s\n",
            "674:\tlearn: 0.0689070\ttotal: 9m 33s\tremaining: 4m 36s\n",
            "675:\tlearn: 0.0684812\ttotal: 9m 34s\tremaining: 4m 35s\n",
            "676:\tlearn: 0.0684055\ttotal: 9m 35s\tremaining: 4m 34s\n",
            "677:\tlearn: 0.0683615\ttotal: 9m 35s\tremaining: 4m 33s\n",
            "678:\tlearn: 0.0683056\ttotal: 9m 36s\tremaining: 4m 32s\n",
            "679:\tlearn: 0.0681538\ttotal: 9m 37s\tremaining: 4m 31s\n",
            "680:\tlearn: 0.0676952\ttotal: 9m 37s\tremaining: 4m 30s\n",
            "681:\tlearn: 0.0676583\ttotal: 9m 38s\tremaining: 4m 29s\n",
            "682:\tlearn: 0.0672055\ttotal: 9m 39s\tremaining: 4m 28s\n",
            "683:\tlearn: 0.0671545\ttotal: 9m 40s\tremaining: 4m 27s\n",
            "684:\tlearn: 0.0671002\ttotal: 9m 40s\tremaining: 4m 27s\n",
            "685:\tlearn: 0.0670376\ttotal: 9m 41s\tremaining: 4m 26s\n",
            "686:\tlearn: 0.0669573\ttotal: 9m 42s\tremaining: 4m 25s\n",
            "687:\tlearn: 0.0669219\ttotal: 9m 43s\tremaining: 4m 24s\n",
            "688:\tlearn: 0.0668623\ttotal: 9m 45s\tremaining: 4m 24s\n",
            "689:\tlearn: 0.0668171\ttotal: 9m 46s\tremaining: 4m 23s\n",
            "690:\tlearn: 0.0667567\ttotal: 9m 46s\tremaining: 4m 22s\n",
            "691:\tlearn: 0.0667222\ttotal: 9m 47s\tremaining: 4m 21s\n",
            "692:\tlearn: 0.0666484\ttotal: 9m 48s\tremaining: 4m 20s\n",
            "693:\tlearn: 0.0665240\ttotal: 9m 49s\tremaining: 4m 19s\n",
            "694:\tlearn: 0.0664789\ttotal: 9m 49s\tremaining: 4m 18s\n",
            "695:\tlearn: 0.0664480\ttotal: 9m 50s\tremaining: 4m 17s\n",
            "696:\tlearn: 0.0664081\ttotal: 9m 51s\tremaining: 4m 16s\n",
            "697:\tlearn: 0.0662869\ttotal: 9m 51s\tremaining: 4m 16s\n",
            "698:\tlearn: 0.0662311\ttotal: 9m 52s\tremaining: 4m 15s\n",
            "699:\tlearn: 0.0661824\ttotal: 9m 53s\tremaining: 4m 14s\n",
            "700:\tlearn: 0.0661482\ttotal: 9m 54s\tremaining: 4m 13s\n",
            "701:\tlearn: 0.0661091\ttotal: 9m 54s\tremaining: 4m 12s\n",
            "702:\tlearn: 0.0658783\ttotal: 9m 55s\tremaining: 4m 11s\n",
            "703:\tlearn: 0.0657908\ttotal: 9m 56s\tremaining: 4m 10s\n",
            "704:\tlearn: 0.0654726\ttotal: 9m 56s\tremaining: 4m 9s\n",
            "705:\tlearn: 0.0654369\ttotal: 9m 57s\tremaining: 4m 8s\n",
            "706:\tlearn: 0.0651155\ttotal: 9m 58s\tremaining: 4m 8s\n",
            "707:\tlearn: 0.0649401\ttotal: 9m 59s\tremaining: 4m 7s\n",
            "708:\tlearn: 0.0648927\ttotal: 9m 59s\tremaining: 4m 6s\n",
            "709:\tlearn: 0.0647878\ttotal: 10m\tremaining: 4m 5s\n",
            "710:\tlearn: 0.0647347\ttotal: 10m 1s\tremaining: 4m 4s\n",
            "711:\tlearn: 0.0643287\ttotal: 10m 2s\tremaining: 4m 3s\n",
            "712:\tlearn: 0.0642728\ttotal: 10m 2s\tremaining: 4m 2s\n",
            "713:\tlearn: 0.0641837\ttotal: 10m 3s\tremaining: 4m 1s\n",
            "714:\tlearn: 0.0641511\ttotal: 10m 4s\tremaining: 4m\n",
            "715:\tlearn: 0.0640952\ttotal: 10m 4s\tremaining: 3m 59s\n",
            "716:\tlearn: 0.0640305\ttotal: 10m 5s\tremaining: 3m 59s\n",
            "717:\tlearn: 0.0640006\ttotal: 10m 6s\tremaining: 3m 58s\n",
            "718:\tlearn: 0.0635029\ttotal: 10m 7s\tremaining: 3m 57s\n",
            "719:\tlearn: 0.0632627\ttotal: 10m 7s\tremaining: 3m 56s\n",
            "720:\tlearn: 0.0632376\ttotal: 10m 8s\tremaining: 3m 55s\n",
            "721:\tlearn: 0.0627798\ttotal: 10m 9s\tremaining: 3m 54s\n",
            "722:\tlearn: 0.0627309\ttotal: 10m 10s\tremaining: 3m 53s\n",
            "723:\tlearn: 0.0626723\ttotal: 10m 10s\tremaining: 3m 52s\n",
            "724:\tlearn: 0.0626397\ttotal: 10m 11s\tremaining: 3m 51s\n",
            "725:\tlearn: 0.0625986\ttotal: 10m 12s\tremaining: 3m 51s\n",
            "726:\tlearn: 0.0625504\ttotal: 10m 12s\tremaining: 3m 50s\n",
            "727:\tlearn: 0.0625218\ttotal: 10m 13s\tremaining: 3m 49s\n",
            "728:\tlearn: 0.0624868\ttotal: 10m 14s\tremaining: 3m 48s\n",
            "729:\tlearn: 0.0624600\ttotal: 10m 15s\tremaining: 3m 47s\n",
            "730:\tlearn: 0.0621486\ttotal: 10m 15s\tremaining: 3m 46s\n",
            "731:\tlearn: 0.0620205\ttotal: 10m 16s\tremaining: 3m 45s\n",
            "732:\tlearn: 0.0619652\ttotal: 10m 17s\tremaining: 3m 44s\n",
            "733:\tlearn: 0.0617031\ttotal: 10m 18s\tremaining: 3m 43s\n",
            "734:\tlearn: 0.0616274\ttotal: 10m 18s\tremaining: 3m 43s\n",
            "735:\tlearn: 0.0615757\ttotal: 10m 19s\tremaining: 3m 42s\n",
            "736:\tlearn: 0.0615359\ttotal: 10m 20s\tremaining: 3m 41s\n",
            "737:\tlearn: 0.0615092\ttotal: 10m 20s\tremaining: 3m 40s\n",
            "738:\tlearn: 0.0614448\ttotal: 10m 21s\tremaining: 3m 39s\n",
            "739:\tlearn: 0.0611119\ttotal: 10m 22s\tremaining: 3m 38s\n",
            "740:\tlearn: 0.0609449\ttotal: 10m 22s\tremaining: 3m 37s\n",
            "741:\tlearn: 0.0609111\ttotal: 10m 23s\tremaining: 3m 36s\n",
            "742:\tlearn: 0.0608737\ttotal: 10m 24s\tremaining: 3m 35s\n",
            "743:\tlearn: 0.0608463\ttotal: 10m 25s\tremaining: 3m 35s\n",
            "744:\tlearn: 0.0605399\ttotal: 10m 25s\tremaining: 3m 34s\n",
            "745:\tlearn: 0.0604185\ttotal: 10m 26s\tremaining: 3m 33s\n",
            "746:\tlearn: 0.0602977\ttotal: 10m 27s\tremaining: 3m 32s\n",
            "747:\tlearn: 0.0601845\ttotal: 10m 27s\tremaining: 3m 31s\n",
            "748:\tlearn: 0.0601371\ttotal: 10m 28s\tremaining: 3m 30s\n",
            "749:\tlearn: 0.0601036\ttotal: 10m 29s\tremaining: 3m 29s\n",
            "750:\tlearn: 0.0600703\ttotal: 10m 30s\tremaining: 3m 28s\n",
            "751:\tlearn: 0.0600151\ttotal: 10m 30s\tremaining: 3m 28s\n",
            "752:\tlearn: 0.0599739\ttotal: 10m 31s\tremaining: 3m 27s\n",
            "753:\tlearn: 0.0599281\ttotal: 10m 32s\tremaining: 3m 26s\n",
            "754:\tlearn: 0.0597748\ttotal: 10m 33s\tremaining: 3m 25s\n",
            "755:\tlearn: 0.0596855\ttotal: 10m 33s\tremaining: 3m 24s\n",
            "756:\tlearn: 0.0591759\ttotal: 10m 34s\tremaining: 3m 23s\n",
            "757:\tlearn: 0.0591380\ttotal: 10m 35s\tremaining: 3m 22s\n",
            "758:\tlearn: 0.0591160\ttotal: 10m 35s\tremaining: 3m 21s\n",
            "759:\tlearn: 0.0590589\ttotal: 10m 36s\tremaining: 3m 21s\n",
            "760:\tlearn: 0.0589854\ttotal: 10m 37s\tremaining: 3m 20s\n",
            "761:\tlearn: 0.0589381\ttotal: 10m 38s\tremaining: 3m 19s\n",
            "762:\tlearn: 0.0589018\ttotal: 10m 38s\tremaining: 3m 18s\n",
            "763:\tlearn: 0.0588092\ttotal: 10m 39s\tremaining: 3m 17s\n",
            "764:\tlearn: 0.0587746\ttotal: 10m 40s\tremaining: 3m 16s\n",
            "765:\tlearn: 0.0586810\ttotal: 10m 41s\tremaining: 3m 15s\n",
            "766:\tlearn: 0.0586485\ttotal: 10m 41s\tremaining: 3m 14s\n",
            "767:\tlearn: 0.0585925\ttotal: 10m 42s\tremaining: 3m 14s\n",
            "768:\tlearn: 0.0585121\ttotal: 10m 43s\tremaining: 3m 13s\n",
            "769:\tlearn: 0.0579126\ttotal: 10m 44s\tremaining: 3m 12s\n",
            "770:\tlearn: 0.0577762\ttotal: 10m 44s\tremaining: 3m 11s\n",
            "771:\tlearn: 0.0576972\ttotal: 10m 45s\tremaining: 3m 10s\n",
            "772:\tlearn: 0.0575932\ttotal: 10m 46s\tremaining: 3m 9s\n",
            "773:\tlearn: 0.0575326\ttotal: 10m 46s\tremaining: 3m 8s\n",
            "774:\tlearn: 0.0571825\ttotal: 10m 47s\tremaining: 3m 8s\n",
            "775:\tlearn: 0.0571464\ttotal: 10m 48s\tremaining: 3m 7s\n",
            "776:\tlearn: 0.0571168\ttotal: 10m 49s\tremaining: 3m 6s\n",
            "777:\tlearn: 0.0569211\ttotal: 10m 49s\tremaining: 3m 5s\n",
            "778:\tlearn: 0.0567989\ttotal: 10m 50s\tremaining: 3m 4s\n",
            "779:\tlearn: 0.0567690\ttotal: 10m 51s\tremaining: 3m 3s\n",
            "780:\tlearn: 0.0567324\ttotal: 10m 52s\tremaining: 3m 2s\n",
            "781:\tlearn: 0.0567048\ttotal: 10m 52s\tremaining: 3m 2s\n",
            "782:\tlearn: 0.0565231\ttotal: 10m 53s\tremaining: 3m 1s\n",
            "783:\tlearn: 0.0562372\ttotal: 10m 54s\tremaining: 3m\n",
            "784:\tlearn: 0.0557306\ttotal: 10m 54s\tremaining: 2m 59s\n",
            "785:\tlearn: 0.0556299\ttotal: 10m 55s\tremaining: 2m 58s\n",
            "786:\tlearn: 0.0555436\ttotal: 10m 56s\tremaining: 2m 57s\n",
            "787:\tlearn: 0.0554180\ttotal: 10m 56s\tremaining: 2m 56s\n",
            "788:\tlearn: 0.0552362\ttotal: 10m 57s\tremaining: 2m 55s\n",
            "789:\tlearn: 0.0552130\ttotal: 10m 58s\tremaining: 2m 55s\n",
            "790:\tlearn: 0.0551792\ttotal: 10m 59s\tremaining: 2m 54s\n",
            "791:\tlearn: 0.0548730\ttotal: 10m 59s\tremaining: 2m 53s\n",
            "792:\tlearn: 0.0546634\ttotal: 11m\tremaining: 2m 52s\n",
            "793:\tlearn: 0.0546356\ttotal: 11m 1s\tremaining: 2m 51s\n",
            "794:\tlearn: 0.0546016\ttotal: 11m 2s\tremaining: 2m 50s\n",
            "795:\tlearn: 0.0545720\ttotal: 11m 2s\tremaining: 2m 49s\n",
            "796:\tlearn: 0.0545450\ttotal: 11m 3s\tremaining: 2m 48s\n",
            "797:\tlearn: 0.0545214\ttotal: 11m 4s\tremaining: 2m 48s\n",
            "798:\tlearn: 0.0544174\ttotal: 11m 4s\tremaining: 2m 47s\n",
            "799:\tlearn: 0.0543062\ttotal: 11m 5s\tremaining: 2m 46s\n",
            "800:\tlearn: 0.0540988\ttotal: 11m 6s\tremaining: 2m 45s\n",
            "801:\tlearn: 0.0540770\ttotal: 11m 7s\tremaining: 2m 44s\n",
            "802:\tlearn: 0.0540511\ttotal: 11m 7s\tremaining: 2m 43s\n",
            "803:\tlearn: 0.0540307\ttotal: 11m 8s\tremaining: 2m 42s\n",
            "804:\tlearn: 0.0540090\ttotal: 11m 9s\tremaining: 2m 42s\n",
            "805:\tlearn: 0.0537978\ttotal: 11m 9s\tremaining: 2m 41s\n",
            "806:\tlearn: 0.0536984\ttotal: 11m 10s\tremaining: 2m 40s\n",
            "807:\tlearn: 0.0536767\ttotal: 11m 11s\tremaining: 2m 39s\n",
            "808:\tlearn: 0.0530580\ttotal: 11m 11s\tremaining: 2m 38s\n",
            "809:\tlearn: 0.0528576\ttotal: 11m 12s\tremaining: 2m 37s\n",
            "810:\tlearn: 0.0528302\ttotal: 11m 13s\tremaining: 2m 36s\n",
            "811:\tlearn: 0.0527952\ttotal: 11m 14s\tremaining: 2m 36s\n",
            "812:\tlearn: 0.0526650\ttotal: 11m 14s\tremaining: 2m 35s\n",
            "813:\tlearn: 0.0526113\ttotal: 11m 15s\tremaining: 2m 34s\n",
            "814:\tlearn: 0.0525724\ttotal: 11m 16s\tremaining: 2m 33s\n",
            "815:\tlearn: 0.0525307\ttotal: 11m 17s\tremaining: 2m 32s\n",
            "816:\tlearn: 0.0525092\ttotal: 11m 17s\tremaining: 2m 31s\n",
            "817:\tlearn: 0.0523612\ttotal: 11m 18s\tremaining: 2m 30s\n",
            "818:\tlearn: 0.0523273\ttotal: 11m 19s\tremaining: 2m 30s\n",
            "819:\tlearn: 0.0522968\ttotal: 11m 19s\tremaining: 2m 29s\n",
            "820:\tlearn: 0.0522613\ttotal: 11m 20s\tremaining: 2m 28s\n",
            "821:\tlearn: 0.0522289\ttotal: 11m 21s\tremaining: 2m 27s\n",
            "822:\tlearn: 0.0522076\ttotal: 11m 22s\tremaining: 2m 26s\n",
            "823:\tlearn: 0.0521889\ttotal: 11m 22s\tremaining: 2m 25s\n",
            "824:\tlearn: 0.0519990\ttotal: 11m 23s\tremaining: 2m 24s\n",
            "825:\tlearn: 0.0519725\ttotal: 11m 24s\tremaining: 2m 24s\n",
            "826:\tlearn: 0.0519358\ttotal: 11m 24s\tremaining: 2m 23s\n",
            "827:\tlearn: 0.0519060\ttotal: 11m 25s\tremaining: 2m 22s\n",
            "828:\tlearn: 0.0518746\ttotal: 11m 26s\tremaining: 2m 21s\n",
            "829:\tlearn: 0.0518551\ttotal: 11m 27s\tremaining: 2m 20s\n",
            "830:\tlearn: 0.0518324\ttotal: 11m 27s\tremaining: 2m 19s\n",
            "831:\tlearn: 0.0518140\ttotal: 11m 28s\tremaining: 2m 19s\n",
            "832:\tlearn: 0.0517929\ttotal: 11m 29s\tremaining: 2m 18s\n",
            "833:\tlearn: 0.0513429\ttotal: 11m 30s\tremaining: 2m 17s\n",
            "834:\tlearn: 0.0513097\ttotal: 11m 30s\tremaining: 2m 16s\n",
            "835:\tlearn: 0.0512683\ttotal: 11m 31s\tremaining: 2m 15s\n",
            "836:\tlearn: 0.0512449\ttotal: 11m 32s\tremaining: 2m 14s\n",
            "837:\tlearn: 0.0511970\ttotal: 11m 32s\tremaining: 2m 13s\n",
            "838:\tlearn: 0.0511671\ttotal: 11m 33s\tremaining: 2m 13s\n",
            "839:\tlearn: 0.0511286\ttotal: 11m 34s\tremaining: 2m 12s\n",
            "840:\tlearn: 0.0511099\ttotal: 11m 34s\tremaining: 2m 11s\n",
            "841:\tlearn: 0.0510890\ttotal: 11m 35s\tremaining: 2m 10s\n",
            "842:\tlearn: 0.0510683\ttotal: 11m 36s\tremaining: 2m 9s\n",
            "843:\tlearn: 0.0510094\ttotal: 11m 37s\tremaining: 2m 8s\n",
            "844:\tlearn: 0.0509230\ttotal: 11m 37s\tremaining: 2m 7s\n",
            "845:\tlearn: 0.0509020\ttotal: 11m 38s\tremaining: 2m 7s\n",
            "846:\tlearn: 0.0507648\ttotal: 11m 39s\tremaining: 2m 6s\n",
            "847:\tlearn: 0.0507184\ttotal: 11m 39s\tremaining: 2m 5s\n",
            "848:\tlearn: 0.0506682\ttotal: 11m 40s\tremaining: 2m 4s\n",
            "849:\tlearn: 0.0506486\ttotal: 11m 41s\tremaining: 2m 3s\n",
            "850:\tlearn: 0.0506057\ttotal: 11m 41s\tremaining: 2m 2s\n",
            "851:\tlearn: 0.0505743\ttotal: 11m 42s\tremaining: 2m 2s\n",
            "852:\tlearn: 0.0505505\ttotal: 11m 43s\tremaining: 2m 1s\n",
            "853:\tlearn: 0.0505164\ttotal: 11m 43s\tremaining: 2m\n",
            "854:\tlearn: 0.0504894\ttotal: 11m 44s\tremaining: 1m 59s\n",
            "855:\tlearn: 0.0504149\ttotal: 11m 45s\tremaining: 1m 58s\n",
            "856:\tlearn: 0.0503593\ttotal: 11m 46s\tremaining: 1m 57s\n",
            "857:\tlearn: 0.0503330\ttotal: 11m 47s\tremaining: 1m 57s\n",
            "858:\tlearn: 0.0503176\ttotal: 11m 48s\tremaining: 1m 56s\n",
            "859:\tlearn: 0.0502895\ttotal: 11m 49s\tremaining: 1m 55s\n",
            "860:\tlearn: 0.0500735\ttotal: 11m 50s\tremaining: 1m 54s\n",
            "861:\tlearn: 0.0500456\ttotal: 11m 50s\tremaining: 1m 53s\n",
            "862:\tlearn: 0.0499571\ttotal: 11m 52s\tremaining: 1m 53s\n",
            "863:\tlearn: 0.0498510\ttotal: 11m 54s\tremaining: 1m 52s\n",
            "864:\tlearn: 0.0495259\ttotal: 11m 56s\tremaining: 1m 51s\n",
            "865:\tlearn: 0.0495024\ttotal: 11m 58s\tremaining: 1m 51s\n",
            "866:\tlearn: 0.0494654\ttotal: 11m 59s\tremaining: 1m 50s\n",
            "867:\tlearn: 0.0494158\ttotal: 12m 1s\tremaining: 1m 49s\n",
            "868:\tlearn: 0.0493887\ttotal: 12m 3s\tremaining: 1m 48s\n",
            "869:\tlearn: 0.0493646\ttotal: 12m 4s\tremaining: 1m 48s\n",
            "870:\tlearn: 0.0492435\ttotal: 12m 5s\tremaining: 1m 47s\n",
            "871:\tlearn: 0.0491588\ttotal: 12m 6s\tremaining: 1m 46s\n",
            "872:\tlearn: 0.0490853\ttotal: 12m 7s\tremaining: 1m 45s\n",
            "873:\tlearn: 0.0488763\ttotal: 12m 8s\tremaining: 1m 45s\n",
            "874:\tlearn: 0.0488526\ttotal: 12m 10s\tremaining: 1m 44s\n",
            "875:\tlearn: 0.0486608\ttotal: 12m 11s\tremaining: 1m 43s\n",
            "876:\tlearn: 0.0486392\ttotal: 12m 11s\tremaining: 1m 42s\n",
            "877:\tlearn: 0.0485974\ttotal: 12m 12s\tremaining: 1m 41s\n",
            "878:\tlearn: 0.0483940\ttotal: 12m 13s\tremaining: 1m 40s\n",
            "879:\tlearn: 0.0483686\ttotal: 12m 13s\tremaining: 1m 40s\n",
            "880:\tlearn: 0.0482839\ttotal: 12m 14s\tremaining: 1m 39s\n",
            "881:\tlearn: 0.0481898\ttotal: 12m 15s\tremaining: 1m 38s\n",
            "882:\tlearn: 0.0480320\ttotal: 12m 16s\tremaining: 1m 37s\n",
            "883:\tlearn: 0.0480086\ttotal: 12m 16s\tremaining: 1m 36s\n",
            "884:\tlearn: 0.0478538\ttotal: 12m 17s\tremaining: 1m 35s\n",
            "885:\tlearn: 0.0478002\ttotal: 12m 18s\tremaining: 1m 35s\n",
            "886:\tlearn: 0.0477793\ttotal: 12m 19s\tremaining: 1m 34s\n",
            "887:\tlearn: 0.0477556\ttotal: 12m 19s\tremaining: 1m 33s\n",
            "888:\tlearn: 0.0477093\ttotal: 12m 20s\tremaining: 1m 32s\n",
            "889:\tlearn: 0.0476787\ttotal: 12m 21s\tremaining: 1m 31s\n",
            "890:\tlearn: 0.0476430\ttotal: 12m 22s\tremaining: 1m 30s\n",
            "891:\tlearn: 0.0475526\ttotal: 12m 22s\tremaining: 1m 29s\n",
            "892:\tlearn: 0.0475213\ttotal: 12m 23s\tremaining: 1m 29s\n",
            "893:\tlearn: 0.0474735\ttotal: 12m 24s\tremaining: 1m 28s\n",
            "894:\tlearn: 0.0474377\ttotal: 12m 24s\tremaining: 1m 27s\n",
            "895:\tlearn: 0.0473596\ttotal: 12m 25s\tremaining: 1m 26s\n",
            "896:\tlearn: 0.0472839\ttotal: 12m 26s\tremaining: 1m 25s\n",
            "897:\tlearn: 0.0472300\ttotal: 12m 27s\tremaining: 1m 24s\n",
            "898:\tlearn: 0.0469202\ttotal: 12m 27s\tremaining: 1m 24s\n",
            "899:\tlearn: 0.0468066\ttotal: 12m 28s\tremaining: 1m 23s\n",
            "900:\tlearn: 0.0465565\ttotal: 12m 29s\tremaining: 1m 22s\n",
            "901:\tlearn: 0.0463379\ttotal: 12m 30s\tremaining: 1m 21s\n",
            "902:\tlearn: 0.0463087\ttotal: 12m 30s\tremaining: 1m 20s\n",
            "903:\tlearn: 0.0462895\ttotal: 12m 31s\tremaining: 1m 19s\n",
            "904:\tlearn: 0.0462655\ttotal: 12m 32s\tremaining: 1m 18s\n",
            "905:\tlearn: 0.0461313\ttotal: 12m 32s\tremaining: 1m 18s\n",
            "906:\tlearn: 0.0461145\ttotal: 12m 33s\tremaining: 1m 17s\n",
            "907:\tlearn: 0.0460196\ttotal: 12m 34s\tremaining: 1m 16s\n",
            "908:\tlearn: 0.0459759\ttotal: 12m 35s\tremaining: 1m 15s\n",
            "909:\tlearn: 0.0459370\ttotal: 12m 35s\tremaining: 1m 14s\n",
            "910:\tlearn: 0.0458943\ttotal: 12m 36s\tremaining: 1m 13s\n",
            "911:\tlearn: 0.0458672\ttotal: 12m 37s\tremaining: 1m 13s\n",
            "912:\tlearn: 0.0457638\ttotal: 12m 37s\tremaining: 1m 12s\n",
            "913:\tlearn: 0.0457136\ttotal: 12m 38s\tremaining: 1m 11s\n",
            "914:\tlearn: 0.0456843\ttotal: 12m 39s\tremaining: 1m 10s\n",
            "915:\tlearn: 0.0456163\ttotal: 12m 39s\tremaining: 1m 9s\n",
            "916:\tlearn: 0.0455987\ttotal: 12m 40s\tremaining: 1m 8s\n",
            "917:\tlearn: 0.0455832\ttotal: 12m 41s\tremaining: 1m 7s\n",
            "918:\tlearn: 0.0455552\ttotal: 12m 41s\tremaining: 1m 7s\n",
            "919:\tlearn: 0.0454194\ttotal: 12m 42s\tremaining: 1m 6s\n",
            "920:\tlearn: 0.0452965\ttotal: 12m 43s\tremaining: 1m 5s\n",
            "921:\tlearn: 0.0452776\ttotal: 12m 44s\tremaining: 1m 4s\n",
            "922:\tlearn: 0.0452457\ttotal: 12m 44s\tremaining: 1m 3s\n",
            "923:\tlearn: 0.0452055\ttotal: 12m 45s\tremaining: 1m 2s\n",
            "924:\tlearn: 0.0451813\ttotal: 12m 46s\tremaining: 1m 2s\n",
            "925:\tlearn: 0.0451502\ttotal: 12m 46s\tremaining: 1m 1s\n",
            "926:\tlearn: 0.0451207\ttotal: 12m 47s\tremaining: 1m\n",
            "927:\tlearn: 0.0450896\ttotal: 12m 48s\tremaining: 59.6s\n",
            "928:\tlearn: 0.0450718\ttotal: 12m 48s\tremaining: 58.8s\n",
            "929:\tlearn: 0.0449646\ttotal: 12m 49s\tremaining: 57.9s\n",
            "930:\tlearn: 0.0449420\ttotal: 12m 50s\tremaining: 57.1s\n",
            "931:\tlearn: 0.0449262\ttotal: 12m 51s\tremaining: 56.3s\n",
            "932:\tlearn: 0.0448906\ttotal: 12m 51s\tremaining: 55.4s\n",
            "933:\tlearn: 0.0448654\ttotal: 12m 52s\tremaining: 54.6s\n",
            "934:\tlearn: 0.0448460\ttotal: 12m 53s\tremaining: 53.7s\n",
            "935:\tlearn: 0.0448268\ttotal: 12m 53s\tremaining: 52.9s\n",
            "936:\tlearn: 0.0447973\ttotal: 12m 54s\tremaining: 52.1s\n",
            "937:\tlearn: 0.0446428\ttotal: 12m 55s\tremaining: 51.2s\n",
            "938:\tlearn: 0.0446006\ttotal: 12m 55s\tremaining: 50.4s\n",
            "939:\tlearn: 0.0442971\ttotal: 12m 56s\tremaining: 49.6s\n",
            "940:\tlearn: 0.0441892\ttotal: 12m 57s\tremaining: 48.7s\n",
            "941:\tlearn: 0.0441526\ttotal: 12m 57s\tremaining: 47.9s\n",
            "942:\tlearn: 0.0441278\ttotal: 12m 58s\tremaining: 47.1s\n",
            "943:\tlearn: 0.0439739\ttotal: 12m 59s\tremaining: 46.2s\n",
            "944:\tlearn: 0.0439507\ttotal: 13m\tremaining: 45.4s\n",
            "945:\tlearn: 0.0439376\ttotal: 13m\tremaining: 44.6s\n",
            "946:\tlearn: 0.0439100\ttotal: 13m 1s\tremaining: 43.7s\n",
            "947:\tlearn: 0.0438942\ttotal: 13m 2s\tremaining: 42.9s\n",
            "948:\tlearn: 0.0438689\ttotal: 13m 3s\tremaining: 42.1s\n",
            "949:\tlearn: 0.0438043\ttotal: 13m 3s\tremaining: 41.2s\n",
            "950:\tlearn: 0.0437923\ttotal: 13m 4s\tremaining: 40.4s\n",
            "951:\tlearn: 0.0437748\ttotal: 13m 5s\tremaining: 39.6s\n",
            "952:\tlearn: 0.0437480\ttotal: 13m 5s\tremaining: 38.8s\n",
            "953:\tlearn: 0.0436144\ttotal: 13m 6s\tremaining: 37.9s\n",
            "954:\tlearn: 0.0435803\ttotal: 13m 7s\tremaining: 37.1s\n",
            "955:\tlearn: 0.0434785\ttotal: 13m 7s\tremaining: 36.3s\n",
            "956:\tlearn: 0.0434553\ttotal: 13m 8s\tremaining: 35.4s\n",
            "957:\tlearn: 0.0434062\ttotal: 13m 9s\tremaining: 34.6s\n",
            "958:\tlearn: 0.0433892\ttotal: 13m 10s\tremaining: 33.8s\n",
            "959:\tlearn: 0.0433157\ttotal: 13m 10s\tremaining: 32.9s\n",
            "960:\tlearn: 0.0431859\ttotal: 13m 11s\tremaining: 32.1s\n",
            "961:\tlearn: 0.0431272\ttotal: 13m 12s\tremaining: 31.3s\n",
            "962:\tlearn: 0.0430074\ttotal: 13m 13s\tremaining: 30.5s\n",
            "963:\tlearn: 0.0429276\ttotal: 13m 15s\tremaining: 29.7s\n",
            "964:\tlearn: 0.0428989\ttotal: 13m 16s\tremaining: 28.9s\n",
            "965:\tlearn: 0.0428783\ttotal: 13m 17s\tremaining: 28.1s\n",
            "966:\tlearn: 0.0428558\ttotal: 13m 18s\tremaining: 27.3s\n",
            "967:\tlearn: 0.0428361\ttotal: 13m 19s\tremaining: 26.4s\n",
            "968:\tlearn: 0.0428204\ttotal: 13m 20s\tremaining: 25.6s\n",
            "969:\tlearn: 0.0426413\ttotal: 13m 21s\tremaining: 24.8s\n",
            "970:\tlearn: 0.0425080\ttotal: 13m 22s\tremaining: 24s\n",
            "971:\tlearn: 0.0424792\ttotal: 13m 23s\tremaining: 23.1s\n",
            "972:\tlearn: 0.0424343\ttotal: 13m 24s\tremaining: 22.3s\n",
            "973:\tlearn: 0.0424195\ttotal: 13m 24s\tremaining: 21.5s\n",
            "974:\tlearn: 0.0423981\ttotal: 13m 25s\tremaining: 20.7s\n",
            "975:\tlearn: 0.0423804\ttotal: 13m 26s\tremaining: 19.8s\n",
            "976:\tlearn: 0.0422596\ttotal: 13m 27s\tremaining: 19s\n",
            "977:\tlearn: 0.0421808\ttotal: 13m 27s\tremaining: 18.2s\n",
            "978:\tlearn: 0.0421336\ttotal: 13m 28s\tremaining: 17.3s\n",
            "979:\tlearn: 0.0420468\ttotal: 13m 29s\tremaining: 16.5s\n",
            "980:\tlearn: 0.0420285\ttotal: 13m 29s\tremaining: 15.7s\n",
            "981:\tlearn: 0.0420141\ttotal: 13m 30s\tremaining: 14.9s\n",
            "982:\tlearn: 0.0419689\ttotal: 13m 31s\tremaining: 14s\n",
            "983:\tlearn: 0.0419533\ttotal: 13m 31s\tremaining: 13.2s\n",
            "984:\tlearn: 0.0419397\ttotal: 13m 32s\tremaining: 12.4s\n",
            "985:\tlearn: 0.0419155\ttotal: 13m 33s\tremaining: 11.5s\n",
            "986:\tlearn: 0.0419019\ttotal: 13m 34s\tremaining: 10.7s\n",
            "987:\tlearn: 0.0418533\ttotal: 13m 34s\tremaining: 9.89s\n",
            "988:\tlearn: 0.0418362\ttotal: 13m 35s\tremaining: 9.07s\n",
            "989:\tlearn: 0.0418073\ttotal: 13m 36s\tremaining: 8.24s\n",
            "990:\tlearn: 0.0417776\ttotal: 13m 36s\tremaining: 7.42s\n",
            "991:\tlearn: 0.0417641\ttotal: 13m 37s\tremaining: 6.59s\n",
            "992:\tlearn: 0.0417239\ttotal: 13m 38s\tremaining: 5.77s\n",
            "993:\tlearn: 0.0417008\ttotal: 13m 38s\tremaining: 4.94s\n",
            "994:\tlearn: 0.0416788\ttotal: 13m 39s\tremaining: 4.12s\n",
            "995:\tlearn: 0.0416551\ttotal: 13m 40s\tremaining: 3.29s\n",
            "996:\tlearn: 0.0415946\ttotal: 13m 41s\tremaining: 2.47s\n",
            "997:\tlearn: 0.0415282\ttotal: 13m 41s\tremaining: 1.65s\n",
            "998:\tlearn: 0.0415085\ttotal: 13m 42s\tremaining: 824ms\n",
            "999:\tlearn: 0.0413733\ttotal: 13m 43s\tremaining: 0us\n"
          ]
        },
        {
          "output_type": "execute_result",
          "data": {
            "text/plain": [
              "Pipeline(steps=[('vect', CountVectorizer()), ('tfidf', TfidfTransformer()),\n",
              "                ('clf',\n",
              "                 <catboost.core.CatBoostClassifier object at 0x7f6eefc4bb10>)])"
            ]
          },
          "metadata": {},
          "execution_count": 164
        }
      ]
    },
    {
      "cell_type": "code",
      "source": [
        "y_pred = cbc.predict(X_valid)"
      ],
      "metadata": {
        "id": "meb6lpF9sni0"
      },
      "execution_count": 165,
      "outputs": []
    },
    {
      "cell_type": "code",
      "source": [
        "print('accuracy %s' % accuracy_score(y_pred, y_valid))\n",
        "print(classification_report(y_valid, y_pred))"
      ],
      "metadata": {
        "colab": {
          "base_uri": "https://localhost:8080/"
        },
        "id": "TcfvUiVDs7fO",
        "outputId": "789c99b4-2eec-4ce2-e404-c4a474e52b1a"
      },
      "execution_count": 166,
      "outputs": [
        {
          "output_type": "stream",
          "name": "stdout",
          "text": [
            "accuracy 0.9533333333333334\n",
            "              precision    recall  f1-score   support\n",
            "\n",
            "           0       1.00      0.99      1.00       144\n",
            "           1       1.00      1.00      1.00         6\n",
            "           2       0.00      0.00      0.00         2\n",
            "           3       0.93      0.99      0.96       284\n",
            "           4       1.00      0.95      0.97        38\n",
            "           5       1.00      0.14      0.25         7\n",
            "           6       1.00      1.00      1.00         1\n",
            "           7       1.00      0.44      0.62         9\n",
            "           8       1.00      0.98      0.99        46\n",
            "           9       0.00      0.00      0.00         0\n",
            "          10       1.00      0.92      0.96        12\n",
            "          11       0.71      0.71      0.71         7\n",
            "          12       0.00      0.00      0.00         1\n",
            "          13       1.00      0.50      0.67         4\n",
            "          15       0.00      0.00      0.00         1\n",
            "          16       0.95      0.95      0.95        38\n",
            "\n",
            "    accuracy                           0.95       600\n",
            "   macro avg       0.72      0.60      0.63       600\n",
            "weighted avg       0.95      0.95      0.95       600\n",
            "\n"
          ]
        },
        {
          "output_type": "stream",
          "name": "stderr",
          "text": [
            "/usr/local/lib/python3.7/dist-packages/sklearn/metrics/_classification.py:1318: UndefinedMetricWarning: Precision and F-score are ill-defined and being set to 0.0 in labels with no predicted samples. Use `zero_division` parameter to control this behavior.\n",
            "  _warn_prf(average, modifier, msg_start, len(result))\n",
            "/usr/local/lib/python3.7/dist-packages/sklearn/metrics/_classification.py:1318: UndefinedMetricWarning: Recall and F-score are ill-defined and being set to 0.0 in labels with no true samples. Use `zero_division` parameter to control this behavior.\n",
            "  _warn_prf(average, modifier, msg_start, len(result))\n",
            "/usr/local/lib/python3.7/dist-packages/sklearn/metrics/_classification.py:1318: UndefinedMetricWarning: Precision and F-score are ill-defined and being set to 0.0 in labels with no predicted samples. Use `zero_division` parameter to control this behavior.\n",
            "  _warn_prf(average, modifier, msg_start, len(result))\n",
            "/usr/local/lib/python3.7/dist-packages/sklearn/metrics/_classification.py:1318: UndefinedMetricWarning: Recall and F-score are ill-defined and being set to 0.0 in labels with no true samples. Use `zero_division` parameter to control this behavior.\n",
            "  _warn_prf(average, modifier, msg_start, len(result))\n",
            "/usr/local/lib/python3.7/dist-packages/sklearn/metrics/_classification.py:1318: UndefinedMetricWarning: Precision and F-score are ill-defined and being set to 0.0 in labels with no predicted samples. Use `zero_division` parameter to control this behavior.\n",
            "  _warn_prf(average, modifier, msg_start, len(result))\n",
            "/usr/local/lib/python3.7/dist-packages/sklearn/metrics/_classification.py:1318: UndefinedMetricWarning: Recall and F-score are ill-defined and being set to 0.0 in labels with no true samples. Use `zero_division` parameter to control this behavior.\n",
            "  _warn_prf(average, modifier, msg_start, len(result))\n"
          ]
        }
      ]
    },
    {
      "cell_type": "markdown",
      "source": [
        "# Лучший результат на валидации"
      ],
      "metadata": {
        "id": "ijJ2v_YbaVAD"
      }
    },
    {
      "cell_type": "code",
      "source": [
        "q = {'model' : ['NBC', 'SVM', 'LR', 'CBC'], \n",
        "     'Результат' : [0.77 , 0.95 , 0.97, 0.95]}"
      ],
      "metadata": {
        "id": "xKiOiSelaYGB"
      },
      "execution_count": 168,
      "outputs": []
    },
    {
      "cell_type": "code",
      "source": [
        "itog  =  pd.DataFrame(data = q)"
      ],
      "metadata": {
        "id": "7db2d_iabM94"
      },
      "execution_count": 169,
      "outputs": []
    },
    {
      "cell_type": "code",
      "source": [
        "itog.sort_values('Результат', ascending=False)"
      ],
      "metadata": {
        "colab": {
          "base_uri": "https://localhost:8080/",
          "height": 175
        },
        "id": "C_B7MuB2bl1w",
        "outputId": "32c30126-ba59-4271-bb00-2c7e4e8e6e2f"
      },
      "execution_count": 170,
      "outputs": [
        {
          "output_type": "execute_result",
          "data": {
            "text/plain": [
              "  model  Результат\n",
              "2    LR       0.97\n",
              "1   SVM       0.95\n",
              "3   CBC       0.95\n",
              "0   NBC       0.77"
            ],
            "text/html": [
              "\n",
              "  <div id=\"df-e9925295-00ea-4f2f-80bd-4f830e74992c\">\n",
              "    <div class=\"colab-df-container\">\n",
              "      <div>\n",
              "<style scoped>\n",
              "    .dataframe tbody tr th:only-of-type {\n",
              "        vertical-align: middle;\n",
              "    }\n",
              "\n",
              "    .dataframe tbody tr th {\n",
              "        vertical-align: top;\n",
              "    }\n",
              "\n",
              "    .dataframe thead th {\n",
              "        text-align: right;\n",
              "    }\n",
              "</style>\n",
              "<table border=\"1\" class=\"dataframe\">\n",
              "  <thead>\n",
              "    <tr style=\"text-align: right;\">\n",
              "      <th></th>\n",
              "      <th>model</th>\n",
              "      <th>Результат</th>\n",
              "    </tr>\n",
              "  </thead>\n",
              "  <tbody>\n",
              "    <tr>\n",
              "      <th>2</th>\n",
              "      <td>LR</td>\n",
              "      <td>0.97</td>\n",
              "    </tr>\n",
              "    <tr>\n",
              "      <th>1</th>\n",
              "      <td>SVM</td>\n",
              "      <td>0.95</td>\n",
              "    </tr>\n",
              "    <tr>\n",
              "      <th>3</th>\n",
              "      <td>CBC</td>\n",
              "      <td>0.95</td>\n",
              "    </tr>\n",
              "    <tr>\n",
              "      <th>0</th>\n",
              "      <td>NBC</td>\n",
              "      <td>0.77</td>\n",
              "    </tr>\n",
              "  </tbody>\n",
              "</table>\n",
              "</div>\n",
              "      <button class=\"colab-df-convert\" onclick=\"convertToInteractive('df-e9925295-00ea-4f2f-80bd-4f830e74992c')\"\n",
              "              title=\"Convert this dataframe to an interactive table.\"\n",
              "              style=\"display:none;\">\n",
              "        \n",
              "  <svg xmlns=\"http://www.w3.org/2000/svg\" height=\"24px\"viewBox=\"0 0 24 24\"\n",
              "       width=\"24px\">\n",
              "    <path d=\"M0 0h24v24H0V0z\" fill=\"none\"/>\n",
              "    <path d=\"M18.56 5.44l.94 2.06.94-2.06 2.06-.94-2.06-.94-.94-2.06-.94 2.06-2.06.94zm-11 1L8.5 8.5l.94-2.06 2.06-.94-2.06-.94L8.5 2.5l-.94 2.06-2.06.94zm10 10l.94 2.06.94-2.06 2.06-.94-2.06-.94-.94-2.06-.94 2.06-2.06.94z\"/><path d=\"M17.41 7.96l-1.37-1.37c-.4-.4-.92-.59-1.43-.59-.52 0-1.04.2-1.43.59L10.3 9.45l-7.72 7.72c-.78.78-.78 2.05 0 2.83L4 21.41c.39.39.9.59 1.41.59.51 0 1.02-.2 1.41-.59l7.78-7.78 2.81-2.81c.8-.78.8-2.07 0-2.86zM5.41 20L4 18.59l7.72-7.72 1.47 1.35L5.41 20z\"/>\n",
              "  </svg>\n",
              "      </button>\n",
              "      \n",
              "  <style>\n",
              "    .colab-df-container {\n",
              "      display:flex;\n",
              "      flex-wrap:wrap;\n",
              "      gap: 12px;\n",
              "    }\n",
              "\n",
              "    .colab-df-convert {\n",
              "      background-color: #E8F0FE;\n",
              "      border: none;\n",
              "      border-radius: 50%;\n",
              "      cursor: pointer;\n",
              "      display: none;\n",
              "      fill: #1967D2;\n",
              "      height: 32px;\n",
              "      padding: 0 0 0 0;\n",
              "      width: 32px;\n",
              "    }\n",
              "\n",
              "    .colab-df-convert:hover {\n",
              "      background-color: #E2EBFA;\n",
              "      box-shadow: 0px 1px 2px rgba(60, 64, 67, 0.3), 0px 1px 3px 1px rgba(60, 64, 67, 0.15);\n",
              "      fill: #174EA6;\n",
              "    }\n",
              "\n",
              "    [theme=dark] .colab-df-convert {\n",
              "      background-color: #3B4455;\n",
              "      fill: #D2E3FC;\n",
              "    }\n",
              "\n",
              "    [theme=dark] .colab-df-convert:hover {\n",
              "      background-color: #434B5C;\n",
              "      box-shadow: 0px 1px 3px 1px rgba(0, 0, 0, 0.15);\n",
              "      filter: drop-shadow(0px 1px 2px rgba(0, 0, 0, 0.3));\n",
              "      fill: #FFFFFF;\n",
              "    }\n",
              "  </style>\n",
              "\n",
              "      <script>\n",
              "        const buttonEl =\n",
              "          document.querySelector('#df-e9925295-00ea-4f2f-80bd-4f830e74992c button.colab-df-convert');\n",
              "        buttonEl.style.display =\n",
              "          google.colab.kernel.accessAllowed ? 'block' : 'none';\n",
              "\n",
              "        async function convertToInteractive(key) {\n",
              "          const element = document.querySelector('#df-e9925295-00ea-4f2f-80bd-4f830e74992c');\n",
              "          const dataTable =\n",
              "            await google.colab.kernel.invokeFunction('convertToInteractive',\n",
              "                                                     [key], {});\n",
              "          if (!dataTable) return;\n",
              "\n",
              "          const docLinkHtml = 'Like what you see? Visit the ' +\n",
              "            '<a target=\"_blank\" href=https://colab.research.google.com/notebooks/data_table.ipynb>data table notebook</a>'\n",
              "            + ' to learn more about interactive tables.';\n",
              "          element.innerHTML = '';\n",
              "          dataTable['output_type'] = 'display_data';\n",
              "          await google.colab.output.renderOutput(dataTable, element);\n",
              "          const docLink = document.createElement('div');\n",
              "          docLink.innerHTML = docLinkHtml;\n",
              "          element.appendChild(docLink);\n",
              "        }\n",
              "      </script>\n",
              "    </div>\n",
              "  </div>\n",
              "  "
            ]
          },
          "metadata": {},
          "execution_count": 170
        }
      ]
    },
    {
      "cell_type": "markdown",
      "source": [
        "*Вывод: лучший результат на валидации на Логистической регрессии*"
      ],
      "metadata": {
        "id": "r_ty0Y8_b-pB"
      }
    },
    {
      "cell_type": "markdown",
      "source": [
        "#ТЕСТ"
      ],
      "metadata": {
        "id": "XTEnPgcJ8B6q"
      }
    },
    {
      "cell_type": "markdown",
      "source": [
        "*Подготовим тест*"
      ],
      "metadata": {
        "id": "IVKSyJyhtbNP"
      }
    },
    {
      "cell_type": "code",
      "source": [
        "test_data = pd.read_csv('/content/drive/MyDrive/Хакатоны/Курск слова/test_dataset_test.csv')"
      ],
      "metadata": {
        "id": "H4Ph6zVP8D1a"
      },
      "execution_count": 135,
      "outputs": []
    },
    {
      "cell_type": "code",
      "source": [
        "test_data"
      ],
      "metadata": {
        "colab": {
          "base_uri": "https://localhost:8080/",
          "height": 424
        },
        "id": "VGrGB9G4-ES5",
        "outputId": "8cf7464a-08e9-4a83-e4dc-55ce8fb5a2ae"
      },
      "execution_count": 136,
      "outputs": [
        {
          "output_type": "execute_result",
          "data": {
            "text/plain": [
              "       id                                    Текст Сообщения  \\\n",
              "0     843  <p>Здравствуйте. На улице Мира &nbsp;было заме...   \n",
              "1    1422  <p>Уже вторую неделю не горит уличное освещени...   \n",
              "2    2782  Не работает освещение во дворе дома 11а по Эне...   \n",
              "3    2704  После покоса сорной растительности на газоне м...   \n",
              "4       1  <p>Прошу принять меры к водителю маршрута 263:...   \n",
              "..    ...                                                ...   \n",
              "995  2619  Добрый день! Я и моя семья жители пос Волокно,...   \n",
              "996  2518  На Лазарева 5 г.Щигры ветка тополя скоро выбье...   \n",
              "997  2524  Перед входом  Комитет образования  Курска  ямы...   \n",
              "998  1577  <p>Доброго времени суток</p><p>У меня на пол г...   \n",
              "999  2567  Добрый день, я многодетная мама. Младшему ребё...   \n",
              "\n",
              "                                              Тематика  \\\n",
              "0                      Неработающее наружное освещение   \n",
              "1                      Неработающее наружное освещение   \n",
              "2                      Неработающее наружное освещение   \n",
              "3         Неудовлетворительная уборка улиц и тротуаров   \n",
              "4    Неудовлетворительный внешний вид (поведение) в...   \n",
              "..                                                 ...   \n",
              "995                                  Неприятные запахи   \n",
              "996                                  Аварийные деревья   \n",
              "997  Нарушение дорожного покрытия (ямы)  на дорогах...   \n",
              "998                           Сертификат переболевшего   \n",
              "999  Нарушения порядка предоставления мер социально...   \n",
              "\n",
              "                                    Ответственное лицо  \n",
              "0                   Администрация Курчатовского района  \n",
              "1    Комитет жилищно-коммунального хозяйства города...  \n",
              "2    Комитет жилищно-коммунального хозяйства города...  \n",
              "3      Администрация Центрального округа города Курска  \n",
              "4                          Администрация города Курска  \n",
              "..                                                 ...  \n",
              "995         Комитет природных ресурсов Курской области  \n",
              "996                         Администрация города Щигры  \n",
              "997          Комитет дорожного хозяйства города Курска  \n",
              "998            Комитет здравоохранения Курской области  \n",
              "999  Комитет социальной защиты населения города Курска  \n",
              "\n",
              "[1000 rows x 4 columns]"
            ],
            "text/html": [
              "\n",
              "  <div id=\"df-d3f13e34-80f7-4331-83b7-faac032e4577\">\n",
              "    <div class=\"colab-df-container\">\n",
              "      <div>\n",
              "<style scoped>\n",
              "    .dataframe tbody tr th:only-of-type {\n",
              "        vertical-align: middle;\n",
              "    }\n",
              "\n",
              "    .dataframe tbody tr th {\n",
              "        vertical-align: top;\n",
              "    }\n",
              "\n",
              "    .dataframe thead th {\n",
              "        text-align: right;\n",
              "    }\n",
              "</style>\n",
              "<table border=\"1\" class=\"dataframe\">\n",
              "  <thead>\n",
              "    <tr style=\"text-align: right;\">\n",
              "      <th></th>\n",
              "      <th>id</th>\n",
              "      <th>Текст Сообщения</th>\n",
              "      <th>Тематика</th>\n",
              "      <th>Ответственное лицо</th>\n",
              "    </tr>\n",
              "  </thead>\n",
              "  <tbody>\n",
              "    <tr>\n",
              "      <th>0</th>\n",
              "      <td>843</td>\n",
              "      <td>&lt;p&gt;Здравствуйте. На улице Мира &amp;nbsp;было заме...</td>\n",
              "      <td>Неработающее наружное освещение</td>\n",
              "      <td>Администрация Курчатовского района</td>\n",
              "    </tr>\n",
              "    <tr>\n",
              "      <th>1</th>\n",
              "      <td>1422</td>\n",
              "      <td>&lt;p&gt;Уже вторую неделю не горит уличное освещени...</td>\n",
              "      <td>Неработающее наружное освещение</td>\n",
              "      <td>Комитет жилищно-коммунального хозяйства города...</td>\n",
              "    </tr>\n",
              "    <tr>\n",
              "      <th>2</th>\n",
              "      <td>2782</td>\n",
              "      <td>Не работает освещение во дворе дома 11а по Эне...</td>\n",
              "      <td>Неработающее наружное освещение</td>\n",
              "      <td>Комитет жилищно-коммунального хозяйства города...</td>\n",
              "    </tr>\n",
              "    <tr>\n",
              "      <th>3</th>\n",
              "      <td>2704</td>\n",
              "      <td>После покоса сорной растительности на газоне м...</td>\n",
              "      <td>Неудовлетворительная уборка улиц и тротуаров</td>\n",
              "      <td>Администрация Центрального округа города Курска</td>\n",
              "    </tr>\n",
              "    <tr>\n",
              "      <th>4</th>\n",
              "      <td>1</td>\n",
              "      <td>&lt;p&gt;Прошу принять меры к водителю маршрута 263:...</td>\n",
              "      <td>Неудовлетворительный внешний вид (поведение) в...</td>\n",
              "      <td>Администрация города Курска</td>\n",
              "    </tr>\n",
              "    <tr>\n",
              "      <th>...</th>\n",
              "      <td>...</td>\n",
              "      <td>...</td>\n",
              "      <td>...</td>\n",
              "      <td>...</td>\n",
              "    </tr>\n",
              "    <tr>\n",
              "      <th>995</th>\n",
              "      <td>2619</td>\n",
              "      <td>Добрый день! Я и моя семья жители пос Волокно,...</td>\n",
              "      <td>Неприятные запахи</td>\n",
              "      <td>Комитет природных ресурсов Курской области</td>\n",
              "    </tr>\n",
              "    <tr>\n",
              "      <th>996</th>\n",
              "      <td>2518</td>\n",
              "      <td>На Лазарева 5 г.Щигры ветка тополя скоро выбье...</td>\n",
              "      <td>Аварийные деревья</td>\n",
              "      <td>Администрация города Щигры</td>\n",
              "    </tr>\n",
              "    <tr>\n",
              "      <th>997</th>\n",
              "      <td>2524</td>\n",
              "      <td>Перед входом  Комитет образования  Курска  ямы...</td>\n",
              "      <td>Нарушение дорожного покрытия (ямы)  на дорогах...</td>\n",
              "      <td>Комитет дорожного хозяйства города Курска</td>\n",
              "    </tr>\n",
              "    <tr>\n",
              "      <th>998</th>\n",
              "      <td>1577</td>\n",
              "      <td>&lt;p&gt;Доброго времени суток&lt;/p&gt;&lt;p&gt;У меня на пол г...</td>\n",
              "      <td>Сертификат переболевшего</td>\n",
              "      <td>Комитет здравоохранения Курской области</td>\n",
              "    </tr>\n",
              "    <tr>\n",
              "      <th>999</th>\n",
              "      <td>2567</td>\n",
              "      <td>Добрый день, я многодетная мама. Младшему ребё...</td>\n",
              "      <td>Нарушения порядка предоставления мер социально...</td>\n",
              "      <td>Комитет социальной защиты населения города Курска</td>\n",
              "    </tr>\n",
              "  </tbody>\n",
              "</table>\n",
              "<p>1000 rows × 4 columns</p>\n",
              "</div>\n",
              "      <button class=\"colab-df-convert\" onclick=\"convertToInteractive('df-d3f13e34-80f7-4331-83b7-faac032e4577')\"\n",
              "              title=\"Convert this dataframe to an interactive table.\"\n",
              "              style=\"display:none;\">\n",
              "        \n",
              "  <svg xmlns=\"http://www.w3.org/2000/svg\" height=\"24px\"viewBox=\"0 0 24 24\"\n",
              "       width=\"24px\">\n",
              "    <path d=\"M0 0h24v24H0V0z\" fill=\"none\"/>\n",
              "    <path d=\"M18.56 5.44l.94 2.06.94-2.06 2.06-.94-2.06-.94-.94-2.06-.94 2.06-2.06.94zm-11 1L8.5 8.5l.94-2.06 2.06-.94-2.06-.94L8.5 2.5l-.94 2.06-2.06.94zm10 10l.94 2.06.94-2.06 2.06-.94-2.06-.94-.94-2.06-.94 2.06-2.06.94z\"/><path d=\"M17.41 7.96l-1.37-1.37c-.4-.4-.92-.59-1.43-.59-.52 0-1.04.2-1.43.59L10.3 9.45l-7.72 7.72c-.78.78-.78 2.05 0 2.83L4 21.41c.39.39.9.59 1.41.59.51 0 1.02-.2 1.41-.59l7.78-7.78 2.81-2.81c.8-.78.8-2.07 0-2.86zM5.41 20L4 18.59l7.72-7.72 1.47 1.35L5.41 20z\"/>\n",
              "  </svg>\n",
              "      </button>\n",
              "      \n",
              "  <style>\n",
              "    .colab-df-container {\n",
              "      display:flex;\n",
              "      flex-wrap:wrap;\n",
              "      gap: 12px;\n",
              "    }\n",
              "\n",
              "    .colab-df-convert {\n",
              "      background-color: #E8F0FE;\n",
              "      border: none;\n",
              "      border-radius: 50%;\n",
              "      cursor: pointer;\n",
              "      display: none;\n",
              "      fill: #1967D2;\n",
              "      height: 32px;\n",
              "      padding: 0 0 0 0;\n",
              "      width: 32px;\n",
              "    }\n",
              "\n",
              "    .colab-df-convert:hover {\n",
              "      background-color: #E2EBFA;\n",
              "      box-shadow: 0px 1px 2px rgba(60, 64, 67, 0.3), 0px 1px 3px 1px rgba(60, 64, 67, 0.15);\n",
              "      fill: #174EA6;\n",
              "    }\n",
              "\n",
              "    [theme=dark] .colab-df-convert {\n",
              "      background-color: #3B4455;\n",
              "      fill: #D2E3FC;\n",
              "    }\n",
              "\n",
              "    [theme=dark] .colab-df-convert:hover {\n",
              "      background-color: #434B5C;\n",
              "      box-shadow: 0px 1px 3px 1px rgba(0, 0, 0, 0.15);\n",
              "      filter: drop-shadow(0px 1px 2px rgba(0, 0, 0, 0.3));\n",
              "      fill: #FFFFFF;\n",
              "    }\n",
              "  </style>\n",
              "\n",
              "      <script>\n",
              "        const buttonEl =\n",
              "          document.querySelector('#df-d3f13e34-80f7-4331-83b7-faac032e4577 button.colab-df-convert');\n",
              "        buttonEl.style.display =\n",
              "          google.colab.kernel.accessAllowed ? 'block' : 'none';\n",
              "\n",
              "        async function convertToInteractive(key) {\n",
              "          const element = document.querySelector('#df-d3f13e34-80f7-4331-83b7-faac032e4577');\n",
              "          const dataTable =\n",
              "            await google.colab.kernel.invokeFunction('convertToInteractive',\n",
              "                                                     [key], {});\n",
              "          if (!dataTable) return;\n",
              "\n",
              "          const docLinkHtml = 'Like what you see? Visit the ' +\n",
              "            '<a target=\"_blank\" href=https://colab.research.google.com/notebooks/data_table.ipynb>data table notebook</a>'\n",
              "            + ' to learn more about interactive tables.';\n",
              "          element.innerHTML = '';\n",
              "          dataTable['output_type'] = 'display_data';\n",
              "          await google.colab.output.renderOutput(dataTable, element);\n",
              "          const docLink = document.createElement('div');\n",
              "          docLink.innerHTML = docLinkHtml;\n",
              "          element.appendChild(docLink);\n",
              "        }\n",
              "      </script>\n",
              "    </div>\n",
              "  </div>\n",
              "  "
            ]
          },
          "metadata": {},
          "execution_count": 136
        }
      ]
    },
    {
      "cell_type": "code",
      "source": [
        "test = test_data"
      ],
      "metadata": {
        "id": "bpXpWBNd-4Z6"
      },
      "execution_count": 137,
      "outputs": []
    },
    {
      "cell_type": "code",
      "source": [
        "# Создаем датасет, сливаем текстовые колонки, убираем ненужные колонки\n",
        "test = test.drop(columns=['id']) # Удаление столбца с ID\n",
        "\n",
        "# Объединение текстовых колонок в одну\n",
        "test[\"text\"] = test['Текст Сообщения'].astype(str) + \" \" + test['Тематика'].astype(str) + \" \" + test['Ответственное лицо'].astype(str)\n",
        "\n",
        "# Удаление лишних колонок\n",
        "test = test.drop(columns=['Текст Сообщения', 'Тематика', 'Ответственное лицо'])\n",
        "test.head()"
      ],
      "metadata": {
        "colab": {
          "base_uri": "https://localhost:8080/",
          "height": 206
        },
        "id": "nEckFk9C-0zt",
        "outputId": "27a7c7be-ea67-41b1-cea0-d9f2269284ee"
      },
      "execution_count": 138,
      "outputs": [
        {
          "output_type": "execute_result",
          "data": {
            "text/plain": [
              "                                                text\n",
              "0  <p>Здравствуйте. На улице Мира &nbsp;было заме...\n",
              "1  <p>Уже вторую неделю не горит уличное освещени...\n",
              "2  Не работает освещение во дворе дома 11а по Эне...\n",
              "3  После покоса сорной растительности на газоне м...\n",
              "4  <p>Прошу принять меры к водителю маршрута 263:..."
            ],
            "text/html": [
              "\n",
              "  <div id=\"df-47cd2eb0-d2c9-4a35-b578-a5067d395ab1\">\n",
              "    <div class=\"colab-df-container\">\n",
              "      <div>\n",
              "<style scoped>\n",
              "    .dataframe tbody tr th:only-of-type {\n",
              "        vertical-align: middle;\n",
              "    }\n",
              "\n",
              "    .dataframe tbody tr th {\n",
              "        vertical-align: top;\n",
              "    }\n",
              "\n",
              "    .dataframe thead th {\n",
              "        text-align: right;\n",
              "    }\n",
              "</style>\n",
              "<table border=\"1\" class=\"dataframe\">\n",
              "  <thead>\n",
              "    <tr style=\"text-align: right;\">\n",
              "      <th></th>\n",
              "      <th>text</th>\n",
              "    </tr>\n",
              "  </thead>\n",
              "  <tbody>\n",
              "    <tr>\n",
              "      <th>0</th>\n",
              "      <td>&lt;p&gt;Здравствуйте. На улице Мира &amp;nbsp;было заме...</td>\n",
              "    </tr>\n",
              "    <tr>\n",
              "      <th>1</th>\n",
              "      <td>&lt;p&gt;Уже вторую неделю не горит уличное освещени...</td>\n",
              "    </tr>\n",
              "    <tr>\n",
              "      <th>2</th>\n",
              "      <td>Не работает освещение во дворе дома 11а по Эне...</td>\n",
              "    </tr>\n",
              "    <tr>\n",
              "      <th>3</th>\n",
              "      <td>После покоса сорной растительности на газоне м...</td>\n",
              "    </tr>\n",
              "    <tr>\n",
              "      <th>4</th>\n",
              "      <td>&lt;p&gt;Прошу принять меры к водителю маршрута 263:...</td>\n",
              "    </tr>\n",
              "  </tbody>\n",
              "</table>\n",
              "</div>\n",
              "      <button class=\"colab-df-convert\" onclick=\"convertToInteractive('df-47cd2eb0-d2c9-4a35-b578-a5067d395ab1')\"\n",
              "              title=\"Convert this dataframe to an interactive table.\"\n",
              "              style=\"display:none;\">\n",
              "        \n",
              "  <svg xmlns=\"http://www.w3.org/2000/svg\" height=\"24px\"viewBox=\"0 0 24 24\"\n",
              "       width=\"24px\">\n",
              "    <path d=\"M0 0h24v24H0V0z\" fill=\"none\"/>\n",
              "    <path d=\"M18.56 5.44l.94 2.06.94-2.06 2.06-.94-2.06-.94-.94-2.06-.94 2.06-2.06.94zm-11 1L8.5 8.5l.94-2.06 2.06-.94-2.06-.94L8.5 2.5l-.94 2.06-2.06.94zm10 10l.94 2.06.94-2.06 2.06-.94-2.06-.94-.94-2.06-.94 2.06-2.06.94z\"/><path d=\"M17.41 7.96l-1.37-1.37c-.4-.4-.92-.59-1.43-.59-.52 0-1.04.2-1.43.59L10.3 9.45l-7.72 7.72c-.78.78-.78 2.05 0 2.83L4 21.41c.39.39.9.59 1.41.59.51 0 1.02-.2 1.41-.59l7.78-7.78 2.81-2.81c.8-.78.8-2.07 0-2.86zM5.41 20L4 18.59l7.72-7.72 1.47 1.35L5.41 20z\"/>\n",
              "  </svg>\n",
              "      </button>\n",
              "      \n",
              "  <style>\n",
              "    .colab-df-container {\n",
              "      display:flex;\n",
              "      flex-wrap:wrap;\n",
              "      gap: 12px;\n",
              "    }\n",
              "\n",
              "    .colab-df-convert {\n",
              "      background-color: #E8F0FE;\n",
              "      border: none;\n",
              "      border-radius: 50%;\n",
              "      cursor: pointer;\n",
              "      display: none;\n",
              "      fill: #1967D2;\n",
              "      height: 32px;\n",
              "      padding: 0 0 0 0;\n",
              "      width: 32px;\n",
              "    }\n",
              "\n",
              "    .colab-df-convert:hover {\n",
              "      background-color: #E2EBFA;\n",
              "      box-shadow: 0px 1px 2px rgba(60, 64, 67, 0.3), 0px 1px 3px 1px rgba(60, 64, 67, 0.15);\n",
              "      fill: #174EA6;\n",
              "    }\n",
              "\n",
              "    [theme=dark] .colab-df-convert {\n",
              "      background-color: #3B4455;\n",
              "      fill: #D2E3FC;\n",
              "    }\n",
              "\n",
              "    [theme=dark] .colab-df-convert:hover {\n",
              "      background-color: #434B5C;\n",
              "      box-shadow: 0px 1px 3px 1px rgba(0, 0, 0, 0.15);\n",
              "      filter: drop-shadow(0px 1px 2px rgba(0, 0, 0, 0.3));\n",
              "      fill: #FFFFFF;\n",
              "    }\n",
              "  </style>\n",
              "\n",
              "      <script>\n",
              "        const buttonEl =\n",
              "          document.querySelector('#df-47cd2eb0-d2c9-4a35-b578-a5067d395ab1 button.colab-df-convert');\n",
              "        buttonEl.style.display =\n",
              "          google.colab.kernel.accessAllowed ? 'block' : 'none';\n",
              "\n",
              "        async function convertToInteractive(key) {\n",
              "          const element = document.querySelector('#df-47cd2eb0-d2c9-4a35-b578-a5067d395ab1');\n",
              "          const dataTable =\n",
              "            await google.colab.kernel.invokeFunction('convertToInteractive',\n",
              "                                                     [key], {});\n",
              "          if (!dataTable) return;\n",
              "\n",
              "          const docLinkHtml = 'Like what you see? Visit the ' +\n",
              "            '<a target=\"_blank\" href=https://colab.research.google.com/notebooks/data_table.ipynb>data table notebook</a>'\n",
              "            + ' to learn more about interactive tables.';\n",
              "          element.innerHTML = '';\n",
              "          dataTable['output_type'] = 'display_data';\n",
              "          await google.colab.output.renderOutput(dataTable, element);\n",
              "          const docLink = document.createElement('div');\n",
              "          docLink.innerHTML = docLinkHtml;\n",
              "          element.appendChild(docLink);\n",
              "        }\n",
              "      </script>\n",
              "    </div>\n",
              "  </div>\n",
              "  "
            ]
          },
          "metadata": {},
          "execution_count": 138
        }
      ]
    },
    {
      "cell_type": "code",
      "source": [
        "test['text_processed'] = list(map(preproccessing, test['text']))\n",
        "test.head()"
      ],
      "metadata": {
        "colab": {
          "base_uri": "https://localhost:8080/",
          "height": 206
        },
        "id": "mpzitHL4-BjH",
        "outputId": "3dba9372-8bb7-4e54-aa72-76efd0413137"
      },
      "execution_count": 139,
      "outputs": [
        {
          "output_type": "execute_result",
          "data": {
            "text/plain": [
              "                                                text  \\\n",
              "0  <p>Здравствуйте. На улице Мира &nbsp;было заме...   \n",
              "1  <p>Уже вторую неделю не горит уличное освещени...   \n",
              "2  Не работает освещение во дворе дома 11а по Эне...   \n",
              "3  После покоса сорной растительности на газоне м...   \n",
              "4  <p>Прошу принять меры к водителю маршрута 263:...   \n",
              "\n",
              "                                      text_processed  \n",
              "0   p здравствуйте на улице мира nbsp было замене...  \n",
              "1   p уже вторую неделю не горит уличное освещени...  \n",
              "2  не работает освещение во дворе дома а по энерг...  \n",
              "3  после покоса сорной растительности на газоне м...  \n",
              "4   p прошу принять меры к водителю маршрута пос ...  "
            ],
            "text/html": [
              "\n",
              "  <div id=\"df-d1ed1799-b1e6-49d7-b89e-3151ceacaecc\">\n",
              "    <div class=\"colab-df-container\">\n",
              "      <div>\n",
              "<style scoped>\n",
              "    .dataframe tbody tr th:only-of-type {\n",
              "        vertical-align: middle;\n",
              "    }\n",
              "\n",
              "    .dataframe tbody tr th {\n",
              "        vertical-align: top;\n",
              "    }\n",
              "\n",
              "    .dataframe thead th {\n",
              "        text-align: right;\n",
              "    }\n",
              "</style>\n",
              "<table border=\"1\" class=\"dataframe\">\n",
              "  <thead>\n",
              "    <tr style=\"text-align: right;\">\n",
              "      <th></th>\n",
              "      <th>text</th>\n",
              "      <th>text_processed</th>\n",
              "    </tr>\n",
              "  </thead>\n",
              "  <tbody>\n",
              "    <tr>\n",
              "      <th>0</th>\n",
              "      <td>&lt;p&gt;Здравствуйте. На улице Мира &amp;nbsp;было заме...</td>\n",
              "      <td>p здравствуйте на улице мира nbsp было замене...</td>\n",
              "    </tr>\n",
              "    <tr>\n",
              "      <th>1</th>\n",
              "      <td>&lt;p&gt;Уже вторую неделю не горит уличное освещени...</td>\n",
              "      <td>p уже вторую неделю не горит уличное освещени...</td>\n",
              "    </tr>\n",
              "    <tr>\n",
              "      <th>2</th>\n",
              "      <td>Не работает освещение во дворе дома 11а по Эне...</td>\n",
              "      <td>не работает освещение во дворе дома а по энерг...</td>\n",
              "    </tr>\n",
              "    <tr>\n",
              "      <th>3</th>\n",
              "      <td>После покоса сорной растительности на газоне м...</td>\n",
              "      <td>после покоса сорной растительности на газоне м...</td>\n",
              "    </tr>\n",
              "    <tr>\n",
              "      <th>4</th>\n",
              "      <td>&lt;p&gt;Прошу принять меры к водителю маршрута 263:...</td>\n",
              "      <td>p прошу принять меры к водителю маршрута пос ...</td>\n",
              "    </tr>\n",
              "  </tbody>\n",
              "</table>\n",
              "</div>\n",
              "      <button class=\"colab-df-convert\" onclick=\"convertToInteractive('df-d1ed1799-b1e6-49d7-b89e-3151ceacaecc')\"\n",
              "              title=\"Convert this dataframe to an interactive table.\"\n",
              "              style=\"display:none;\">\n",
              "        \n",
              "  <svg xmlns=\"http://www.w3.org/2000/svg\" height=\"24px\"viewBox=\"0 0 24 24\"\n",
              "       width=\"24px\">\n",
              "    <path d=\"M0 0h24v24H0V0z\" fill=\"none\"/>\n",
              "    <path d=\"M18.56 5.44l.94 2.06.94-2.06 2.06-.94-2.06-.94-.94-2.06-.94 2.06-2.06.94zm-11 1L8.5 8.5l.94-2.06 2.06-.94-2.06-.94L8.5 2.5l-.94 2.06-2.06.94zm10 10l.94 2.06.94-2.06 2.06-.94-2.06-.94-.94-2.06-.94 2.06-2.06.94z\"/><path d=\"M17.41 7.96l-1.37-1.37c-.4-.4-.92-.59-1.43-.59-.52 0-1.04.2-1.43.59L10.3 9.45l-7.72 7.72c-.78.78-.78 2.05 0 2.83L4 21.41c.39.39.9.59 1.41.59.51 0 1.02-.2 1.41-.59l7.78-7.78 2.81-2.81c.8-.78.8-2.07 0-2.86zM5.41 20L4 18.59l7.72-7.72 1.47 1.35L5.41 20z\"/>\n",
              "  </svg>\n",
              "      </button>\n",
              "      \n",
              "  <style>\n",
              "    .colab-df-container {\n",
              "      display:flex;\n",
              "      flex-wrap:wrap;\n",
              "      gap: 12px;\n",
              "    }\n",
              "\n",
              "    .colab-df-convert {\n",
              "      background-color: #E8F0FE;\n",
              "      border: none;\n",
              "      border-radius: 50%;\n",
              "      cursor: pointer;\n",
              "      display: none;\n",
              "      fill: #1967D2;\n",
              "      height: 32px;\n",
              "      padding: 0 0 0 0;\n",
              "      width: 32px;\n",
              "    }\n",
              "\n",
              "    .colab-df-convert:hover {\n",
              "      background-color: #E2EBFA;\n",
              "      box-shadow: 0px 1px 2px rgba(60, 64, 67, 0.3), 0px 1px 3px 1px rgba(60, 64, 67, 0.15);\n",
              "      fill: #174EA6;\n",
              "    }\n",
              "\n",
              "    [theme=dark] .colab-df-convert {\n",
              "      background-color: #3B4455;\n",
              "      fill: #D2E3FC;\n",
              "    }\n",
              "\n",
              "    [theme=dark] .colab-df-convert:hover {\n",
              "      background-color: #434B5C;\n",
              "      box-shadow: 0px 1px 3px 1px rgba(0, 0, 0, 0.15);\n",
              "      filter: drop-shadow(0px 1px 2px rgba(0, 0, 0, 0.3));\n",
              "      fill: #FFFFFF;\n",
              "    }\n",
              "  </style>\n",
              "\n",
              "      <script>\n",
              "        const buttonEl =\n",
              "          document.querySelector('#df-d1ed1799-b1e6-49d7-b89e-3151ceacaecc button.colab-df-convert');\n",
              "        buttonEl.style.display =\n",
              "          google.colab.kernel.accessAllowed ? 'block' : 'none';\n",
              "\n",
              "        async function convertToInteractive(key) {\n",
              "          const element = document.querySelector('#df-d1ed1799-b1e6-49d7-b89e-3151ceacaecc');\n",
              "          const dataTable =\n",
              "            await google.colab.kernel.invokeFunction('convertToInteractive',\n",
              "                                                     [key], {});\n",
              "          if (!dataTable) return;\n",
              "\n",
              "          const docLinkHtml = 'Like what you see? Visit the ' +\n",
              "            '<a target=\"_blank\" href=https://colab.research.google.com/notebooks/data_table.ipynb>data table notebook</a>'\n",
              "            + ' to learn more about interactive tables.';\n",
              "          element.innerHTML = '';\n",
              "          dataTable['output_type'] = 'display_data';\n",
              "          await google.colab.output.renderOutput(dataTable, element);\n",
              "          const docLink = document.createElement('div');\n",
              "          docLink.innerHTML = docLinkHtml;\n",
              "          element.appendChild(docLink);\n",
              "        }\n",
              "      </script>\n",
              "    </div>\n",
              "  </div>\n",
              "  "
            ]
          },
          "metadata": {},
          "execution_count": 139
        }
      ]
    },
    {
      "cell_type": "code",
      "source": [
        "# Провердим лемматизацию и избавляемся от стоп-слов\n",
        "lemm_texts_column = []\n",
        "for text in tqdm(test['text_processed']):\n",
        "    tokens = word_tokenize(text)    \n",
        "    lemmed_tokens = [morph.parse(token)[0].normal_form for token in tokens if token not in russian_stopwords]\n",
        "    text = \" \".join(lemmed_tokens)\n",
        "    lemm_texts_column.append(text)\n",
        "    \n",
        "# Создаем новую колонку в наборе данных\n",
        "test['text_lemmed'] = lemm_texts_column\n",
        "\n",
        "test['text_lemmed'][0]"
      ],
      "metadata": {
        "id": "Esoa0pn1_qLT",
        "colab": {
          "base_uri": "https://localhost:8080/",
          "height": 102,
          "referenced_widgets": [
            "a64b0ba09fb5403ca7ff6a8605cf0e4c",
            "63eb97e0790640e5b82a902c6eb904cf",
            "493a62c7d3d14fee9d2dd73362f831f6",
            "af71b935a0e64c0ba9a659e7c1e26283",
            "2581755471ee47a3a8230fd9a809d970",
            "0a2aaf592d8a4368b6cb337cbe84a275",
            "bfc40b52e3c14647a5b30ea1f28d1806",
            "a5fbafc5431449f090f05077ee13b431",
            "bb3cd86f7dc64a73bba978246acaa916",
            "e736119d17464440b44466c8a392d41d",
            "a940bd9e94a24d3d8e2a1d0654226247"
          ]
        },
        "outputId": "a7ae9e30-e850-4aa2-9715-5fc23204803d"
      },
      "execution_count": 140,
      "outputs": [
        {
          "output_type": "display_data",
          "data": {
            "text/plain": [
              "  0%|          | 0/1000 [00:00<?, ?it/s]"
            ],
            "application/vnd.jupyter.widget-view+json": {
              "version_major": 2,
              "version_minor": 0,
              "model_id": "a64b0ba09fb5403ca7ff6a8605cf0e4c"
            }
          },
          "metadata": {}
        },
        {
          "output_type": "execute_result",
          "data": {
            "text/plain": [
              "'p здравствуйте улица мир nbsp заменить наружное освещение именно заменить лампа nbsp энергосберегающий лампа протяжение несколько месяц освещение улица отсутствовать последний улица осветить это зима приблизительно каждый день человек работать часовой смена многие возвращаться очень поздно дать проблема улица посёлок nbsp p неработающий наружное освещение администрация курчатовский район'"
            ],
            "application/vnd.google.colaboratory.intrinsic+json": {
              "type": "string"
            }
          },
          "metadata": {},
          "execution_count": 140
        }
      ]
    },
    {
      "cell_type": "code",
      "source": [
        "test['text_lemmed']"
      ],
      "metadata": {
        "colab": {
          "base_uri": "https://localhost:8080/"
        },
        "id": "PdMRVfCjZzZ9",
        "outputId": "fae5462b-1071-484a-e397-0a7be6237af6"
      },
      "execution_count": 141,
      "outputs": [
        {
          "output_type": "execute_result",
          "data": {
            "text/plain": [
              "0      p здравствуйте улица мир nbsp заменить наружно...\n",
              "1      p второй неделя гореть уличный освещение p p n...\n",
              "2      работать освещение двор дом энергетик световой...\n",
              "3      покос сорный растительность газон тротуар прое...\n",
              "4      p просить принять мера водитель маршрут пос се...\n",
              "                             ...                        \n",
              "995    добрый день семья житель пос волокно просыпать...\n",
              "996    лазарев г щигры ветка тополь скоро выбить стек...\n",
              "997    вход комитет образование курск ям дорога наруш...\n",
              "998    p добрый время сутки p p пол год медотвод вакц...\n",
              "999    добрый день многодетный мама младший ребёнок г...\n",
              "Name: text_lemmed, Length: 1000, dtype: object"
            ]
          },
          "metadata": {},
          "execution_count": 141
        }
      ]
    },
    {
      "cell_type": "markdown",
      "source": [
        "*Логистчиеская регрессия на тесте*"
      ],
      "metadata": {
        "id": "rEopVR0itnzw"
      }
    },
    {
      "cell_type": "code",
      "source": [
        "pred = logreg.predict(test['text_lemmed'])\n",
        "df = pd.DataFrame(pred)\n",
        "u = (test_data['id'].to_frame()).join(df)\n",
        "u = u.rename(columns={0 : 'Категория'})\n",
        "u.to_csv('./lr.csv', index=False)"
      ],
      "metadata": {
        "id": "uD5QjnGG96yV"
      },
      "execution_count": 173,
      "outputs": []
    },
    {
      "cell_type": "markdown",
      "source": [
        "**Catboost**"
      ],
      "metadata": {
        "id": "drTnc11WtxTU"
      }
    },
    {
      "cell_type": "code",
      "source": [
        "pred = cbc.predict(test['text_lemmed'])\n",
        "df = pd.DataFrame(pred)\n",
        "u = (test_data['id'].to_frame()).join(df)\n",
        "u = u.rename(columns={0 : 'Категория'})\n",
        "u.to_csv('./cbc.csv', index=False)"
      ],
      "metadata": {
        "id": "qtqRbYOUnXbP"
      },
      "execution_count": 174,
      "outputs": []
    },
    {
      "cell_type": "markdown",
      "source": [
        "--------------------------"
      ],
      "metadata": {
        "id": "j4CrnTbl0hgo"
      }
    }
  ]
}