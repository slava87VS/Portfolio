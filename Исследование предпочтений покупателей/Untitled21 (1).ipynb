{
  "nbformat": 4,
  "nbformat_minor": 0,
  "metadata": {
    "colab": {
      "name": "Untitled21.ipynb",
      "provenance": []
    },
    "kernelspec": {
      "name": "python3",
      "display_name": "Python 3"
    },
    "language_info": {
      "name": "python"
    }
  },
  "cells": [
    {
      "cell_type": "code",
      "execution_count": 3,
      "metadata": {
        "id": "depX2Bn1DkpT"
      },
      "outputs": [],
      "source": [
        "from tensorflow.keras.datasets import fashion_mnist\n",
        "from tensorflow.keras.layers import Dense\n",
        "from tensorflow.keras.models import Sequential\n",
        "import numpy as np\n",
        "\n",
        "\n",
        "def load_train(path):\n",
        "    features_train = np.load(path + 'train_features.npy')\n",
        "    target_train = np.load(path + 'train_target.npy')\n",
        "    features_train = features_train.reshape(features_train.shape[0], 28 * 28) / 255.\n",
        "    return features_train, target_train\n",
        "\n",
        "\n",
        "def create_model(input_shape):\n",
        "    model = Sequential()\n",
        "    model.add(Dense(10, input_shape=input_shape, activation='softmax'))\n",
        "    model.compile(optimizer='sgd', loss='sparse_categorical_crossentropy',\n",
        "                  metrics=['acc'])\n",
        "\n",
        "    return model\n",
        "\n",
        "\n",
        "def train_model(model, train_data, test_data, batch_size=32, epochs=5,\n",
        "               steps_per_epoch=None, validation_steps=None):\n",
        "\n",
        "    features_train, target_train = train_data\n",
        "    features_test, target_test = test_data\n",
        "    model.fit(features_train, target_train, \n",
        "              validation_data=(features_test, target_test),\n",
        "              batch_size=batch_size, epochs=epochs,\n",
        "              steps_per_epoch=steps_per_epoch,\n",
        "              validation_steps=validation_steps,\n",
        "              verbose=2, shuffle=True)\n",
        "\n",
        "    return model"
      ]
    },
    {
      "cell_type": "code",
      "source": [
        ""
      ],
      "metadata": {
        "id": "euh74D5EFNy1"
      },
      "execution_count": null,
      "outputs": []
    }
  ]
}